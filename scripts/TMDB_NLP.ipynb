{
 "cells": [
  {
   "cell_type": "code",
   "execution_count": null,
   "metadata": {
    "colab": {
     "base_uri": "https://localhost:8080/",
     "height": 128
    },
    "colab_type": "code",
    "executionInfo": {
     "elapsed": 5983,
     "status": "ok",
     "timestamp": 1599008704364,
     "user": {
      "displayName": "Igor Cavalcanti",
      "photoUrl": "https://lh3.googleusercontent.com/a-/AOh14GgPu-bvlxQap1lJcqw5fk-8WeA_1lh_4JAVU0ZP=s64",
      "userId": "00750051097913617266"
     },
     "user_tz": 180
    },
    "id": "wg53BRqHWC_X",
    "outputId": "9f2c596b-0c4b-42ae-ec3e-c9df1ef63586"
   },
   "outputs": [
    {
     "name": "stdout",
     "output_type": "stream",
     "text": [
      "Requirement already satisfied: sklearn in /usr/local/lib/python3.6/dist-packages (0.0)\n",
      "Requirement already satisfied: scikit-learn in /usr/local/lib/python3.6/dist-packages (from sklearn) (0.22.2.post1)\n",
      "Requirement already satisfied: numpy>=1.11.0 in /usr/local/lib/python3.6/dist-packages (from scikit-learn->sklearn) (1.18.5)\n",
      "Requirement already satisfied: scipy>=0.17.0 in /usr/local/lib/python3.6/dist-packages (from scikit-learn->sklearn) (1.4.1)\n",
      "Requirement already satisfied: joblib>=0.11 in /usr/local/lib/python3.6/dist-packages (from scikit-learn->sklearn) (0.16.0)\n"
     ]
    }
   ],
   "source": [
    "!pip install sklearn"
   ]
  },
  {
   "cell_type": "code",
   "execution_count": 1,
   "metadata": {
    "colab": {
     "base_uri": "https://localhost:8080/",
     "height": 128
    },
    "colab_type": "code",
    "executionInfo": {
     "elapsed": 34051,
     "status": "ok",
     "timestamp": 1599264377009,
     "user": {
      "displayName": "Igor Cavalcanti",
      "photoUrl": "https://lh3.googleusercontent.com/a-/AOh14GgPu-bvlxQap1lJcqw5fk-8WeA_1lh_4JAVU0ZP=s64",
      "userId": "00750051097913617266"
     },
     "user_tz": 180
    },
    "id": "68KEYYcOuFNa",
    "outputId": "60ed74ff-72dd-41be-c42e-d1c135066a91"
   },
   "outputs": [
    {
     "name": "stdout",
     "output_type": "stream",
     "text": [
      "Go to this URL in a browser: https://accounts.google.com/o/oauth2/auth?client_id=947318989803-6bn6qk8qdgf4n4g3pfee6491hc0brc4i.apps.googleusercontent.com&redirect_uri=urn%3aietf%3awg%3aoauth%3a2.0%3aoob&scope=email%20https%3a%2f%2fwww.googleapis.com%2fauth%2fdocs.test%20https%3a%2f%2fwww.googleapis.com%2fauth%2fdrive%20https%3a%2f%2fwww.googleapis.com%2fauth%2fdrive.photos.readonly%20https%3a%2f%2fwww.googleapis.com%2fauth%2fpeopleapi.readonly&response_type=code\n",
      "\n",
      "Enter your authorization code:\n",
      "··········\n",
      "Mounted at /content/drive\n"
     ]
    }
   ],
   "source": [
    "from google.colab import drive\n",
    "drive.mount('/content/drive')"
   ]
  },
  {
   "cell_type": "code",
   "execution_count": 2,
   "metadata": {
    "_cell_guid": "b1076dfc-b9ad-4769-8c92-a6c4dae69d19",
    "_kg_hide-output": true,
    "_uuid": "8f2839f25d086af736a60e9eeb907d3b93b6e0e5",
    "colab": {},
    "colab_type": "code",
    "executionInfo": {
     "elapsed": 1679,
     "status": "ok",
     "timestamp": 1599264380256,
     "user": {
      "displayName": "Igor Cavalcanti",
      "photoUrl": "https://lh3.googleusercontent.com/a-/AOh14GgPu-bvlxQap1lJcqw5fk-8WeA_1lh_4JAVU0ZP=s64",
      "userId": "00750051097913617266"
     },
     "user_tz": 180
    },
    "id": "DoUwMp3jt6Pv"
   },
   "outputs": [],
   "source": [
    " \n",
    "\n",
    "import numpy as np # linear algebra\n",
    "import pandas as pd # data processing, CSV file I/O (e.g. pd.read_csv)\n",
    "pd.set_option('max_columns', None)\n",
    "pd.set_option('max_rows', None)\n",
    "tmdb = pd.read_csv('/content/drive/My Drive/TCCDataScience/datasets/tmdb_5000_movies.csv')"
   ]
  },
  {
   "cell_type": "code",
   "execution_count": 2,
   "metadata": {
    "colab": {},
    "colab_type": "code",
    "executionInfo": {
     "elapsed": 647,
     "status": "ok",
     "timestamp": 1599264380257,
     "user": {
      "displayName": "Igor Cavalcanti",
      "photoUrl": "https://lh3.googleusercontent.com/a-/AOh14GgPu-bvlxQap1lJcqw5fk-8WeA_1lh_4JAVU0ZP=s64",
      "userId": "00750051097913617266"
     },
     "user_tz": 180
    },
    "id": "0ULNuraHuEZp"
   },
   "outputs": [],
   "source": []
  },
  {
   "cell_type": "code",
   "execution_count": 3,
   "metadata": {
    "colab": {},
    "colab_type": "code",
    "executionInfo": {
     "elapsed": 3295,
     "status": "ok",
     "timestamp": 1599264383245,
     "user": {
      "displayName": "Igor Cavalcanti",
      "photoUrl": "https://lh3.googleusercontent.com/a-/AOh14GgPu-bvlxQap1lJcqw5fk-8WeA_1lh_4JAVU0ZP=s64",
      "userId": "00750051097913617266"
     },
     "user_tz": 180
    },
    "id": "xfGx4zpXt6P0"
   },
   "outputs": [],
   "source": [
    "import warnings\n",
    "warnings.filterwarnings('ignore')\n",
    "from ast import literal_eval\n",
    "import plotly.express as px\n",
    "import nltk\n",
    "import re"
   ]
  },
  {
   "cell_type": "code",
   "execution_count": 4,
   "metadata": {
    "_cell_guid": "79c7e3d0-c299-4dcb-8224-4455121ee9b0",
    "_uuid": "d629ff2d2480ee46fbb7e2d37f6b5fab8052498a",
    "colab": {
     "base_uri": "https://localhost:8080/",
     "height": 452
    },
    "colab_type": "code",
    "executionInfo": {
     "elapsed": 777,
     "status": "ok",
     "timestamp": 1599264384157,
     "user": {
      "displayName": "Igor Cavalcanti",
      "photoUrl": "https://lh3.googleusercontent.com/a-/AOh14GgPu-bvlxQap1lJcqw5fk-8WeA_1lh_4JAVU0ZP=s64",
      "userId": "00750051097913617266"
     },
     "user_tz": 180
    },
    "id": "jqaghsfut6P2",
    "outputId": "64c7f2ca-27b2-4fc7-bd86-50c2dd632807"
   },
   "outputs": [
    {
     "data": {
      "text/html": [
       "<div>\n",
       "<style scoped>\n",
       "    .dataframe tbody tr th:only-of-type {\n",
       "        vertical-align: middle;\n",
       "    }\n",
       "\n",
       "    .dataframe tbody tr th {\n",
       "        vertical-align: top;\n",
       "    }\n",
       "\n",
       "    .dataframe thead th {\n",
       "        text-align: right;\n",
       "    }\n",
       "</style>\n",
       "<table border=\"1\" class=\"dataframe\">\n",
       "  <thead>\n",
       "    <tr style=\"text-align: right;\">\n",
       "      <th></th>\n",
       "      <th>budget</th>\n",
       "      <th>genres</th>\n",
       "      <th>homepage</th>\n",
       "      <th>id</th>\n",
       "      <th>keywords</th>\n",
       "      <th>original_language</th>\n",
       "      <th>original_title</th>\n",
       "      <th>overview</th>\n",
       "      <th>popularity</th>\n",
       "      <th>production_companies</th>\n",
       "      <th>production_countries</th>\n",
       "      <th>release_date</th>\n",
       "      <th>revenue</th>\n",
       "      <th>runtime</th>\n",
       "      <th>spoken_languages</th>\n",
       "      <th>status</th>\n",
       "      <th>tagline</th>\n",
       "      <th>title</th>\n",
       "      <th>vote_average</th>\n",
       "      <th>vote_count</th>\n",
       "    </tr>\n",
       "  </thead>\n",
       "  <tbody>\n",
       "    <tr>\n",
       "      <th>0</th>\n",
       "      <td>237000000</td>\n",
       "      <td>[{\"id\": 28, \"name\": \"Action\"}, {\"id\": 12, \"nam...</td>\n",
       "      <td>http://www.avatarmovie.com/</td>\n",
       "      <td>19995</td>\n",
       "      <td>[{\"id\": 1463, \"name\": \"culture clash\"}, {\"id\":...</td>\n",
       "      <td>en</td>\n",
       "      <td>Avatar</td>\n",
       "      <td>In the 22nd century, a paraplegic Marine is di...</td>\n",
       "      <td>150.437577</td>\n",
       "      <td>[{\"name\": \"Ingenious Film Partners\", \"id\": 289...</td>\n",
       "      <td>[{\"iso_3166_1\": \"US\", \"name\": \"United States o...</td>\n",
       "      <td>2009-12-10</td>\n",
       "      <td>2787965087</td>\n",
       "      <td>162.0</td>\n",
       "      <td>[{\"iso_639_1\": \"en\", \"name\": \"English\"}, {\"iso...</td>\n",
       "      <td>Released</td>\n",
       "      <td>Enter the World of Pandora.</td>\n",
       "      <td>Avatar</td>\n",
       "      <td>7.2</td>\n",
       "      <td>11800</td>\n",
       "    </tr>\n",
       "    <tr>\n",
       "      <th>1</th>\n",
       "      <td>300000000</td>\n",
       "      <td>[{\"id\": 12, \"name\": \"Adventure\"}, {\"id\": 14, \"...</td>\n",
       "      <td>http://disney.go.com/disneypictures/pirates/</td>\n",
       "      <td>285</td>\n",
       "      <td>[{\"id\": 270, \"name\": \"ocean\"}, {\"id\": 726, \"na...</td>\n",
       "      <td>en</td>\n",
       "      <td>Pirates of the Caribbean: At World's End</td>\n",
       "      <td>Captain Barbossa, long believed to be dead, ha...</td>\n",
       "      <td>139.082615</td>\n",
       "      <td>[{\"name\": \"Walt Disney Pictures\", \"id\": 2}, {\"...</td>\n",
       "      <td>[{\"iso_3166_1\": \"US\", \"name\": \"United States o...</td>\n",
       "      <td>2007-05-19</td>\n",
       "      <td>961000000</td>\n",
       "      <td>169.0</td>\n",
       "      <td>[{\"iso_639_1\": \"en\", \"name\": \"English\"}]</td>\n",
       "      <td>Released</td>\n",
       "      <td>At the end of the world, the adventure begins.</td>\n",
       "      <td>Pirates of the Caribbean: At World's End</td>\n",
       "      <td>6.9</td>\n",
       "      <td>4500</td>\n",
       "    </tr>\n",
       "    <tr>\n",
       "      <th>2</th>\n",
       "      <td>245000000</td>\n",
       "      <td>[{\"id\": 28, \"name\": \"Action\"}, {\"id\": 12, \"nam...</td>\n",
       "      <td>http://www.sonypictures.com/movies/spectre/</td>\n",
       "      <td>206647</td>\n",
       "      <td>[{\"id\": 470, \"name\": \"spy\"}, {\"id\": 818, \"name...</td>\n",
       "      <td>en</td>\n",
       "      <td>Spectre</td>\n",
       "      <td>A cryptic message from Bond’s past sends him o...</td>\n",
       "      <td>107.376788</td>\n",
       "      <td>[{\"name\": \"Columbia Pictures\", \"id\": 5}, {\"nam...</td>\n",
       "      <td>[{\"iso_3166_1\": \"GB\", \"name\": \"United Kingdom\"...</td>\n",
       "      <td>2015-10-26</td>\n",
       "      <td>880674609</td>\n",
       "      <td>148.0</td>\n",
       "      <td>[{\"iso_639_1\": \"fr\", \"name\": \"Fran\\u00e7ais\"},...</td>\n",
       "      <td>Released</td>\n",
       "      <td>A Plan No One Escapes</td>\n",
       "      <td>Spectre</td>\n",
       "      <td>6.3</td>\n",
       "      <td>4466</td>\n",
       "    </tr>\n",
       "  </tbody>\n",
       "</table>\n",
       "</div>"
      ],
      "text/plain": [
       "      budget                                             genres  \\\n",
       "0  237000000  [{\"id\": 28, \"name\": \"Action\"}, {\"id\": 12, \"nam...   \n",
       "1  300000000  [{\"id\": 12, \"name\": \"Adventure\"}, {\"id\": 14, \"...   \n",
       "2  245000000  [{\"id\": 28, \"name\": \"Action\"}, {\"id\": 12, \"nam...   \n",
       "\n",
       "                                       homepage      id  \\\n",
       "0                   http://www.avatarmovie.com/   19995   \n",
       "1  http://disney.go.com/disneypictures/pirates/     285   \n",
       "2   http://www.sonypictures.com/movies/spectre/  206647   \n",
       "\n",
       "                                            keywords original_language  \\\n",
       "0  [{\"id\": 1463, \"name\": \"culture clash\"}, {\"id\":...                en   \n",
       "1  [{\"id\": 270, \"name\": \"ocean\"}, {\"id\": 726, \"na...                en   \n",
       "2  [{\"id\": 470, \"name\": \"spy\"}, {\"id\": 818, \"name...                en   \n",
       "\n",
       "                             original_title  \\\n",
       "0                                    Avatar   \n",
       "1  Pirates of the Caribbean: At World's End   \n",
       "2                                   Spectre   \n",
       "\n",
       "                                            overview  popularity  \\\n",
       "0  In the 22nd century, a paraplegic Marine is di...  150.437577   \n",
       "1  Captain Barbossa, long believed to be dead, ha...  139.082615   \n",
       "2  A cryptic message from Bond’s past sends him o...  107.376788   \n",
       "\n",
       "                                production_companies  \\\n",
       "0  [{\"name\": \"Ingenious Film Partners\", \"id\": 289...   \n",
       "1  [{\"name\": \"Walt Disney Pictures\", \"id\": 2}, {\"...   \n",
       "2  [{\"name\": \"Columbia Pictures\", \"id\": 5}, {\"nam...   \n",
       "\n",
       "                                production_countries release_date     revenue  \\\n",
       "0  [{\"iso_3166_1\": \"US\", \"name\": \"United States o...   2009-12-10  2787965087   \n",
       "1  [{\"iso_3166_1\": \"US\", \"name\": \"United States o...   2007-05-19   961000000   \n",
       "2  [{\"iso_3166_1\": \"GB\", \"name\": \"United Kingdom\"...   2015-10-26   880674609   \n",
       "\n",
       "   runtime                                   spoken_languages    status  \\\n",
       "0    162.0  [{\"iso_639_1\": \"en\", \"name\": \"English\"}, {\"iso...  Released   \n",
       "1    169.0           [{\"iso_639_1\": \"en\", \"name\": \"English\"}]  Released   \n",
       "2    148.0  [{\"iso_639_1\": \"fr\", \"name\": \"Fran\\u00e7ais\"},...  Released   \n",
       "\n",
       "                                          tagline  \\\n",
       "0                     Enter the World of Pandora.   \n",
       "1  At the end of the world, the adventure begins.   \n",
       "2                           A Plan No One Escapes   \n",
       "\n",
       "                                      title  vote_average  vote_count  \n",
       "0                                    Avatar           7.2       11800  \n",
       "1  Pirates of the Caribbean: At World's End           6.9        4500  \n",
       "2                                   Spectre           6.3        4466  "
      ]
     },
     "execution_count": 4,
     "metadata": {
      "tags": []
     },
     "output_type": "execute_result"
    }
   ],
   "source": [
    "# meta_data = pd.read_csv(\"/kaggle/input/the-movies-dataset/movies_metadata.csv\")\n",
    "# link_small = pd.read_csv(\"/kaggle/input/the-movies-dataset/links_small.csv\")\n",
    "# keywords = pd.read_csv(\"/kaggle/input/the-movies-dataset/keywords.csv\")\n",
    "# credits = pd.read_csv(\"/kaggle/input/the-movies-dataset/credits.csv\")\n",
    "# ratings_small = pd.read_csv(\"/kaggle/input/the-movies-dataset/ratings_small.csv\")\n",
    "# meta_data.head()\n",
    "tmdb.head(3)"
   ]
  },
  {
   "cell_type": "code",
   "execution_count": 5,
   "metadata": {
    "colab": {
     "base_uri": "https://localhost:8080/",
     "height": 452
    },
    "colab_type": "code",
    "executionInfo": {
     "elapsed": 796,
     "status": "ok",
     "timestamp": 1599264385627,
     "user": {
      "displayName": "Igor Cavalcanti",
      "photoUrl": "https://lh3.googleusercontent.com/a-/AOh14GgPu-bvlxQap1lJcqw5fk-8WeA_1lh_4JAVU0ZP=s64",
      "userId": "00750051097913617266"
     },
     "user_tz": 180
    },
    "id": "juIdGwqKvFXP",
    "outputId": "cc42f9ac-9f19-4125-9bb3-3d700a0d2222"
   },
   "outputs": [
    {
     "data": {
      "text/html": [
       "<div>\n",
       "<style scoped>\n",
       "    .dataframe tbody tr th:only-of-type {\n",
       "        vertical-align: middle;\n",
       "    }\n",
       "\n",
       "    .dataframe tbody tr th {\n",
       "        vertical-align: top;\n",
       "    }\n",
       "\n",
       "    .dataframe thead th {\n",
       "        text-align: right;\n",
       "    }\n",
       "</style>\n",
       "<table border=\"1\" class=\"dataframe\">\n",
       "  <thead>\n",
       "    <tr style=\"text-align: right;\">\n",
       "      <th></th>\n",
       "      <th>budget</th>\n",
       "      <th>genres</th>\n",
       "      <th>homepage</th>\n",
       "      <th>id</th>\n",
       "      <th>keywords</th>\n",
       "      <th>original_language</th>\n",
       "      <th>original_title</th>\n",
       "      <th>overview</th>\n",
       "      <th>popularity</th>\n",
       "      <th>production_companies</th>\n",
       "      <th>production_countries</th>\n",
       "      <th>release_date</th>\n",
       "      <th>revenue</th>\n",
       "      <th>runtime</th>\n",
       "      <th>spoken_languages</th>\n",
       "      <th>status</th>\n",
       "      <th>tagline</th>\n",
       "      <th>title</th>\n",
       "      <th>vote_average</th>\n",
       "      <th>vote_count</th>\n",
       "    </tr>\n",
       "  </thead>\n",
       "  <tbody>\n",
       "    <tr>\n",
       "      <th>0</th>\n",
       "      <td>237000000</td>\n",
       "      <td>[Action, Adventure, Fantasy, Science Fiction]</td>\n",
       "      <td>http://www.avatarmovie.com/</td>\n",
       "      <td>19995</td>\n",
       "      <td>[{\"id\": 1463, \"name\": \"culture clash\"}, {\"id\":...</td>\n",
       "      <td>en</td>\n",
       "      <td>Avatar</td>\n",
       "      <td>In the 22nd century, a paraplegic Marine is di...</td>\n",
       "      <td>150.437577</td>\n",
       "      <td>[{\"name\": \"Ingenious Film Partners\", \"id\": 289...</td>\n",
       "      <td>[{\"iso_3166_1\": \"US\", \"name\": \"United States o...</td>\n",
       "      <td>2009-12-10</td>\n",
       "      <td>2787965087</td>\n",
       "      <td>162.0</td>\n",
       "      <td>[{\"iso_639_1\": \"en\", \"name\": \"English\"}, {\"iso...</td>\n",
       "      <td>Released</td>\n",
       "      <td>Enter the World of Pandora.</td>\n",
       "      <td>Avatar</td>\n",
       "      <td>7.2</td>\n",
       "      <td>11800</td>\n",
       "    </tr>\n",
       "    <tr>\n",
       "      <th>1</th>\n",
       "      <td>300000000</td>\n",
       "      <td>[Adventure, Fantasy, Action]</td>\n",
       "      <td>http://disney.go.com/disneypictures/pirates/</td>\n",
       "      <td>285</td>\n",
       "      <td>[{\"id\": 270, \"name\": \"ocean\"}, {\"id\": 726, \"na...</td>\n",
       "      <td>en</td>\n",
       "      <td>Pirates of the Caribbean: At World's End</td>\n",
       "      <td>Captain Barbossa, long believed to be dead, ha...</td>\n",
       "      <td>139.082615</td>\n",
       "      <td>[{\"name\": \"Walt Disney Pictures\", \"id\": 2}, {\"...</td>\n",
       "      <td>[{\"iso_3166_1\": \"US\", \"name\": \"United States o...</td>\n",
       "      <td>2007-05-19</td>\n",
       "      <td>961000000</td>\n",
       "      <td>169.0</td>\n",
       "      <td>[{\"iso_639_1\": \"en\", \"name\": \"English\"}]</td>\n",
       "      <td>Released</td>\n",
       "      <td>At the end of the world, the adventure begins.</td>\n",
       "      <td>Pirates of the Caribbean: At World's End</td>\n",
       "      <td>6.9</td>\n",
       "      <td>4500</td>\n",
       "    </tr>\n",
       "    <tr>\n",
       "      <th>2</th>\n",
       "      <td>245000000</td>\n",
       "      <td>[Action, Adventure, Crime]</td>\n",
       "      <td>http://www.sonypictures.com/movies/spectre/</td>\n",
       "      <td>206647</td>\n",
       "      <td>[{\"id\": 470, \"name\": \"spy\"}, {\"id\": 818, \"name...</td>\n",
       "      <td>en</td>\n",
       "      <td>Spectre</td>\n",
       "      <td>A cryptic message from Bond’s past sends him o...</td>\n",
       "      <td>107.376788</td>\n",
       "      <td>[{\"name\": \"Columbia Pictures\", \"id\": 5}, {\"nam...</td>\n",
       "      <td>[{\"iso_3166_1\": \"GB\", \"name\": \"United Kingdom\"...</td>\n",
       "      <td>2015-10-26</td>\n",
       "      <td>880674609</td>\n",
       "      <td>148.0</td>\n",
       "      <td>[{\"iso_639_1\": \"fr\", \"name\": \"Fran\\u00e7ais\"},...</td>\n",
       "      <td>Released</td>\n",
       "      <td>A Plan No One Escapes</td>\n",
       "      <td>Spectre</td>\n",
       "      <td>6.3</td>\n",
       "      <td>4466</td>\n",
       "    </tr>\n",
       "  </tbody>\n",
       "</table>\n",
       "</div>"
      ],
      "text/plain": [
       "      budget                                         genres  \\\n",
       "0  237000000  [Action, Adventure, Fantasy, Science Fiction]   \n",
       "1  300000000                   [Adventure, Fantasy, Action]   \n",
       "2  245000000                     [Action, Adventure, Crime]   \n",
       "\n",
       "                                       homepage      id  \\\n",
       "0                   http://www.avatarmovie.com/   19995   \n",
       "1  http://disney.go.com/disneypictures/pirates/     285   \n",
       "2   http://www.sonypictures.com/movies/spectre/  206647   \n",
       "\n",
       "                                            keywords original_language  \\\n",
       "0  [{\"id\": 1463, \"name\": \"culture clash\"}, {\"id\":...                en   \n",
       "1  [{\"id\": 270, \"name\": \"ocean\"}, {\"id\": 726, \"na...                en   \n",
       "2  [{\"id\": 470, \"name\": \"spy\"}, {\"id\": 818, \"name...                en   \n",
       "\n",
       "                             original_title  \\\n",
       "0                                    Avatar   \n",
       "1  Pirates of the Caribbean: At World's End   \n",
       "2                                   Spectre   \n",
       "\n",
       "                                            overview  popularity  \\\n",
       "0  In the 22nd century, a paraplegic Marine is di...  150.437577   \n",
       "1  Captain Barbossa, long believed to be dead, ha...  139.082615   \n",
       "2  A cryptic message from Bond’s past sends him o...  107.376788   \n",
       "\n",
       "                                production_companies  \\\n",
       "0  [{\"name\": \"Ingenious Film Partners\", \"id\": 289...   \n",
       "1  [{\"name\": \"Walt Disney Pictures\", \"id\": 2}, {\"...   \n",
       "2  [{\"name\": \"Columbia Pictures\", \"id\": 5}, {\"nam...   \n",
       "\n",
       "                                production_countries release_date     revenue  \\\n",
       "0  [{\"iso_3166_1\": \"US\", \"name\": \"United States o...   2009-12-10  2787965087   \n",
       "1  [{\"iso_3166_1\": \"US\", \"name\": \"United States o...   2007-05-19   961000000   \n",
       "2  [{\"iso_3166_1\": \"GB\", \"name\": \"United Kingdom\"...   2015-10-26   880674609   \n",
       "\n",
       "   runtime                                   spoken_languages    status  \\\n",
       "0    162.0  [{\"iso_639_1\": \"en\", \"name\": \"English\"}, {\"iso...  Released   \n",
       "1    169.0           [{\"iso_639_1\": \"en\", \"name\": \"English\"}]  Released   \n",
       "2    148.0  [{\"iso_639_1\": \"fr\", \"name\": \"Fran\\u00e7ais\"},...  Released   \n",
       "\n",
       "                                          tagline  \\\n",
       "0                     Enter the World of Pandora.   \n",
       "1  At the end of the world, the adventure begins.   \n",
       "2                           A Plan No One Escapes   \n",
       "\n",
       "                                      title  vote_average  vote_count  \n",
       "0                                    Avatar           7.2       11800  \n",
       "1  Pirates of the Caribbean: At World's End           6.9        4500  \n",
       "2                                   Spectre           6.3        4466  "
      ]
     },
     "execution_count": 5,
     "metadata": {
      "tags": []
     },
     "output_type": "execute_result"
    }
   ],
   "source": [
    "tmdb['genres'] = tmdb['genres'].fillna('[]').apply(literal_eval).apply(lambda x: [i['name'] for i in x] if isinstance(x, list) else [])\n",
    "tmdb.head(3)"
   ]
  },
  {
   "cell_type": "code",
   "execution_count": 5,
   "metadata": {
    "colab": {},
    "colab_type": "code",
    "executionInfo": {
     "elapsed": 767,
     "status": "ok",
     "timestamp": 1599264386816,
     "user": {
      "displayName": "Igor Cavalcanti",
      "photoUrl": "https://lh3.googleusercontent.com/a-/AOh14GgPu-bvlxQap1lJcqw5fk-8WeA_1lh_4JAVU0ZP=s64",
      "userId": "00750051097913617266"
     },
     "user_tz": 180
    },
    "id": "J7z--DQjvXlR"
   },
   "outputs": [],
   "source": []
  },
  {
   "cell_type": "code",
   "execution_count": null,
   "metadata": {
    "colab": {},
    "colab_type": "code",
    "id": "SMP5XCshvlGU"
   },
   "outputs": [],
   "source": []
  },
  {
   "cell_type": "code",
   "execution_count": null,
   "metadata": {
    "colab": {
     "base_uri": "https://localhost:8080/",
     "height": 225
    },
    "colab_type": "code",
    "executionInfo": {
     "elapsed": 723,
     "status": "error",
     "timestamp": 1599184080172,
     "user": {
      "displayName": "Igor Cavalcanti",
      "photoUrl": "https://lh3.googleusercontent.com/a-/AOh14GgPu-bvlxQap1lJcqw5fk-8WeA_1lh_4JAVU0ZP=s64",
      "userId": "00750051097913617266"
     },
     "user_tz": 180
    },
    "id": "nLPF7CRmvHWq",
    "outputId": "73bc15ab-cb34-4718-85ee-4949812cae70"
   },
   "outputs": [
    {
     "ename": "NameError",
     "evalue": "ignored",
     "output_type": "error",
     "traceback": [
      "\u001b[0;31m---------------------------------------------------------------------------\u001b[0m",
      "\u001b[0;31mNameError\u001b[0m                                 Traceback (most recent call last)",
      "\u001b[0;32m<ipython-input-20-6ee29e48e128>\u001b[0m in \u001b[0;36m<module>\u001b[0;34m()\u001b[0m\n\u001b[1;32m      3\u001b[0m r = pd.DataFrame({\n\u001b[1;32m      4\u001b[0m       \u001b[0mcol\u001b[0m\u001b[0;34m:\u001b[0m\u001b[0mnp\u001b[0m\u001b[0;34m.\u001b[0m\u001b[0mrepeat\u001b[0m\u001b[0;34m(\u001b[0m\u001b[0mdf\u001b[0m\u001b[0;34m[\u001b[0m\u001b[0mcol\u001b[0m\u001b[0;34m]\u001b[0m\u001b[0;34m.\u001b[0m\u001b[0mvalues\u001b[0m\u001b[0;34m,\u001b[0m \u001b[0mdf\u001b[0m\u001b[0;34m[\u001b[0m\u001b[0mlst_col\u001b[0m\u001b[0;34m]\u001b[0m\u001b[0;34m.\u001b[0m\u001b[0mstr\u001b[0m\u001b[0;34m.\u001b[0m\u001b[0mlen\u001b[0m\u001b[0;34m(\u001b[0m\u001b[0;34m)\u001b[0m\u001b[0;34m)\u001b[0m\u001b[0;34m\u001b[0m\u001b[0;34m\u001b[0m\u001b[0m\n\u001b[0;32m----> 5\u001b[0;31m       for col in df.columns.drop(lst_col)}\n\u001b[0m\u001b[1;32m      6\u001b[0m     ).assign(**{lst_col:np.concatenate(df[lst_col].values)})[df.columns]\n",
      "\u001b[0;31mNameError\u001b[0m: name 'df' is not defined"
     ]
    }
   ],
   "source": [
    "# lst_col = 'samples'\n",
    "\n",
    "# r = pd.DataFrame({\n",
    "#       col:np.repeat(df[col].values, df[lst_col].str.len())\n",
    "#       for col in df.columns.drop(lst_col)}\n",
    "#     ).assign(**{lst_col:np.concatenate(df[lst_col].values)})[df.columns]"
   ]
  },
  {
   "cell_type": "code",
   "execution_count": null,
   "metadata": {
    "colab": {
     "base_uri": "https://localhost:8080/",
     "height": 417
    },
    "colab_type": "code",
    "executionInfo": {
     "elapsed": 1222,
     "status": "ok",
     "timestamp": 1599183180923,
     "user": {
      "displayName": "Igor Cavalcanti",
      "photoUrl": "https://lh3.googleusercontent.com/a-/AOh14GgPu-bvlxQap1lJcqw5fk-8WeA_1lh_4JAVU0ZP=s64",
      "userId": "00750051097913617266"
     },
     "user_tz": 180
    },
    "id": "5BzClLPavshp",
    "outputId": "c57e3a55-bdb9-46cb-b108-9917be39f10c"
   },
   "outputs": [
    {
     "data": {
      "text/html": [
       "<div>\n",
       "<style scoped>\n",
       "    .dataframe tbody tr th:only-of-type {\n",
       "        vertical-align: middle;\n",
       "    }\n",
       "\n",
       "    .dataframe tbody tr th {\n",
       "        vertical-align: top;\n",
       "    }\n",
       "\n",
       "    .dataframe thead th {\n",
       "        text-align: right;\n",
       "    }\n",
       "</style>\n",
       "<table border=\"1\" class=\"dataframe\">\n",
       "  <thead>\n",
       "    <tr style=\"text-align: right;\">\n",
       "      <th></th>\n",
       "      <th>budget</th>\n",
       "      <th>genres</th>\n",
       "      <th>homepage</th>\n",
       "      <th>id</th>\n",
       "      <th>keywords</th>\n",
       "      <th>original_language</th>\n",
       "      <th>original_title</th>\n",
       "      <th>overview</th>\n",
       "      <th>popularity</th>\n",
       "      <th>production_companies</th>\n",
       "      <th>production_countries</th>\n",
       "      <th>release_date</th>\n",
       "      <th>revenue</th>\n",
       "      <th>runtime</th>\n",
       "      <th>spoken_languages</th>\n",
       "      <th>status</th>\n",
       "      <th>tagline</th>\n",
       "      <th>title</th>\n",
       "      <th>vote_average</th>\n",
       "      <th>vote_count</th>\n",
       "    </tr>\n",
       "  </thead>\n",
       "  <tbody>\n",
       "    <tr>\n",
       "      <th>0</th>\n",
       "      <td>237000000</td>\n",
       "      <td>Action</td>\n",
       "      <td>http://www.avatarmovie.com/</td>\n",
       "      <td>19995</td>\n",
       "      <td>[{\"id\": 1463, \"name\": \"culture clash\"}, {\"id\":...</td>\n",
       "      <td>en</td>\n",
       "      <td>Avatar</td>\n",
       "      <td>In the 22nd century, a paraplegic Marine is di...</td>\n",
       "      <td>150.437577</td>\n",
       "      <td>[{\"name\": \"Ingenious Film Partners\", \"id\": 289...</td>\n",
       "      <td>[{\"iso_3166_1\": \"US\", \"name\": \"United States o...</td>\n",
       "      <td>2009-12-10</td>\n",
       "      <td>2787965087</td>\n",
       "      <td>162.0</td>\n",
       "      <td>[{\"iso_639_1\": \"en\", \"name\": \"English\"}, {\"iso...</td>\n",
       "      <td>Released</td>\n",
       "      <td>Enter the World of Pandora.</td>\n",
       "      <td>Avatar</td>\n",
       "      <td>7.2</td>\n",
       "      <td>11800</td>\n",
       "    </tr>\n",
       "    <tr>\n",
       "      <th>1</th>\n",
       "      <td>237000000</td>\n",
       "      <td>Adventure</td>\n",
       "      <td>http://www.avatarmovie.com/</td>\n",
       "      <td>19995</td>\n",
       "      <td>[{\"id\": 1463, \"name\": \"culture clash\"}, {\"id\":...</td>\n",
       "      <td>en</td>\n",
       "      <td>Avatar</td>\n",
       "      <td>In the 22nd century, a paraplegic Marine is di...</td>\n",
       "      <td>150.437577</td>\n",
       "      <td>[{\"name\": \"Ingenious Film Partners\", \"id\": 289...</td>\n",
       "      <td>[{\"iso_3166_1\": \"US\", \"name\": \"United States o...</td>\n",
       "      <td>2009-12-10</td>\n",
       "      <td>2787965087</td>\n",
       "      <td>162.0</td>\n",
       "      <td>[{\"iso_639_1\": \"en\", \"name\": \"English\"}, {\"iso...</td>\n",
       "      <td>Released</td>\n",
       "      <td>Enter the World of Pandora.</td>\n",
       "      <td>Avatar</td>\n",
       "      <td>7.2</td>\n",
       "      <td>11800</td>\n",
       "    </tr>\n",
       "    <tr>\n",
       "      <th>2</th>\n",
       "      <td>237000000</td>\n",
       "      <td>Fantasy</td>\n",
       "      <td>http://www.avatarmovie.com/</td>\n",
       "      <td>19995</td>\n",
       "      <td>[{\"id\": 1463, \"name\": \"culture clash\"}, {\"id\":...</td>\n",
       "      <td>en</td>\n",
       "      <td>Avatar</td>\n",
       "      <td>In the 22nd century, a paraplegic Marine is di...</td>\n",
       "      <td>150.437577</td>\n",
       "      <td>[{\"name\": \"Ingenious Film Partners\", \"id\": 289...</td>\n",
       "      <td>[{\"iso_3166_1\": \"US\", \"name\": \"United States o...</td>\n",
       "      <td>2009-12-10</td>\n",
       "      <td>2787965087</td>\n",
       "      <td>162.0</td>\n",
       "      <td>[{\"iso_639_1\": \"en\", \"name\": \"English\"}, {\"iso...</td>\n",
       "      <td>Released</td>\n",
       "      <td>Enter the World of Pandora.</td>\n",
       "      <td>Avatar</td>\n",
       "      <td>7.2</td>\n",
       "      <td>11800</td>\n",
       "    </tr>\n",
       "  </tbody>\n",
       "</table>\n",
       "</div>"
      ],
      "text/plain": [
       "      budget     genres                     homepage     id  \\\n",
       "0  237000000     Action  http://www.avatarmovie.com/  19995   \n",
       "1  237000000  Adventure  http://www.avatarmovie.com/  19995   \n",
       "2  237000000    Fantasy  http://www.avatarmovie.com/  19995   \n",
       "\n",
       "                                            keywords original_language  \\\n",
       "0  [{\"id\": 1463, \"name\": \"culture clash\"}, {\"id\":...                en   \n",
       "1  [{\"id\": 1463, \"name\": \"culture clash\"}, {\"id\":...                en   \n",
       "2  [{\"id\": 1463, \"name\": \"culture clash\"}, {\"id\":...                en   \n",
       "\n",
       "  original_title                                           overview  \\\n",
       "0         Avatar  In the 22nd century, a paraplegic Marine is di...   \n",
       "1         Avatar  In the 22nd century, a paraplegic Marine is di...   \n",
       "2         Avatar  In the 22nd century, a paraplegic Marine is di...   \n",
       "\n",
       "   popularity                               production_companies  \\\n",
       "0  150.437577  [{\"name\": \"Ingenious Film Partners\", \"id\": 289...   \n",
       "1  150.437577  [{\"name\": \"Ingenious Film Partners\", \"id\": 289...   \n",
       "2  150.437577  [{\"name\": \"Ingenious Film Partners\", \"id\": 289...   \n",
       "\n",
       "                                production_countries release_date     revenue  \\\n",
       "0  [{\"iso_3166_1\": \"US\", \"name\": \"United States o...   2009-12-10  2787965087   \n",
       "1  [{\"iso_3166_1\": \"US\", \"name\": \"United States o...   2009-12-10  2787965087   \n",
       "2  [{\"iso_3166_1\": \"US\", \"name\": \"United States o...   2009-12-10  2787965087   \n",
       "\n",
       "   runtime                                   spoken_languages    status  \\\n",
       "0    162.0  [{\"iso_639_1\": \"en\", \"name\": \"English\"}, {\"iso...  Released   \n",
       "1    162.0  [{\"iso_639_1\": \"en\", \"name\": \"English\"}, {\"iso...  Released   \n",
       "2    162.0  [{\"iso_639_1\": \"en\", \"name\": \"English\"}, {\"iso...  Released   \n",
       "\n",
       "                       tagline   title  vote_average  vote_count  \n",
       "0  Enter the World of Pandora.  Avatar           7.2       11800  \n",
       "1  Enter the World of Pandora.  Avatar           7.2       11800  \n",
       "2  Enter the World of Pandora.  Avatar           7.2       11800  "
      ]
     },
     "execution_count": 8,
     "metadata": {
      "tags": []
     },
     "output_type": "execute_result"
    }
   ],
   "source": [
    "# r.head(3)?\n"
   ]
  },
  {
   "cell_type": "code",
   "execution_count": null,
   "metadata": {
    "colab": {
     "base_uri": "https://localhost:8080/",
     "height": 399
    },
    "colab_type": "code",
    "executionInfo": {
     "elapsed": 1479,
     "status": "ok",
     "timestamp": 1599183478635,
     "user": {
      "displayName": "Igor Cavalcanti",
      "photoUrl": "https://lh3.googleusercontent.com/a-/AOh14GgPu-bvlxQap1lJcqw5fk-8WeA_1lh_4JAVU0ZP=s64",
      "userId": "00750051097913617266"
     },
     "user_tz": 180
    },
    "id": "1dscOLfbwygb",
    "outputId": "374748d6-14e8-41f8-94e8-2621ba12e0bb"
   },
   "outputs": [
    {
     "data": {
      "text/plain": [
       "Drama              2297\n",
       "Comedy             1722\n",
       "Thriller           1274\n",
       "Action             1154\n",
       "Romance             894\n",
       "Adventure           790\n",
       "Crime               696\n",
       "Science Fiction     535\n",
       "Horror              519\n",
       "Family              513\n",
       "Fantasy             424\n",
       "Mystery             348\n",
       "Animation           234\n",
       "History             197\n",
       "Music               185\n",
       "War                 144\n",
       "Documentary         110\n",
       "Western              82\n",
       "Foreign              34\n",
       "TV Movie              8\n",
       "Name: genres, dtype: int64"
      ]
     },
     "execution_count": 9,
     "metadata": {
      "tags": []
     },
     "output_type": "execute_result"
    }
   ],
   "source": [
    "# r['genres'].value_counts()\n",
    "# #https://elitedatascience.com/imbalanced-classes"
   ]
  },
  {
   "cell_type": "code",
   "execution_count": null,
   "metadata": {
    "colab": {},
    "colab_type": "code",
    "id": "MMCsB9Hft6P6"
   },
   "outputs": [],
   "source": [
    "# meta_data['genres'] = meta_data['genres'].fillna('[]').apply(literal_eval).apply(lambda x: [i['name'] for i in x] if isinstance(x, list) else [])\n"
   ]
  },
  {
   "cell_type": "code",
   "execution_count": 6,
   "metadata": {
    "colab": {
     "base_uri": "https://localhost:8080/",
     "height": 817
    },
    "colab_type": "code",
    "executionInfo": {
     "elapsed": 2545,
     "status": "ok",
     "timestamp": 1599264399794,
     "user": {
      "displayName": "Igor Cavalcanti",
      "photoUrl": "https://lh3.googleusercontent.com/a-/AOh14GgPu-bvlxQap1lJcqw5fk-8WeA_1lh_4JAVU0ZP=s64",
      "userId": "00750051097913617266"
     },
     "user_tz": 180
    },
    "id": "d-x_0NMJt6P8",
    "outputId": "1bdea6e4-df70-4e62-ff5e-ec5e81f6a0cc"
   },
   "outputs": [
    {
     "data": {
      "text/html": [
       "<html>\n",
       "<head><meta charset=\"utf-8\" /></head>\n",
       "<body>\n",
       "    <div>\n",
       "            <script src=\"https://cdnjs.cloudflare.com/ajax/libs/mathjax/2.7.5/MathJax.js?config=TeX-AMS-MML_SVG\"></script><script type=\"text/javascript\">if (window.MathJax) {MathJax.Hub.Config({SVG: {font: \"STIX-Web\"}});}</script>\n",
       "                <script type=\"text/javascript\">window.PlotlyConfig = {MathJaxConfig: 'local'};</script>\n",
       "        <script src=\"https://cdn.plot.ly/plotly-latest.min.js\"></script>    \n",
       "            <div id=\"344647cb-2df9-4200-88ff-1825eeac84b1\" class=\"plotly-graph-div\" style=\"height:800px; width:100%;\"></div>\n",
       "            <script type=\"text/javascript\">\n",
       "                \n",
       "                    window.PLOTLYENV=window.PLOTLYENV || {};\n",
       "                    \n",
       "                if (document.getElementById(\"344647cb-2df9-4200-88ff-1825eeac84b1\")) {\n",
       "                    Plotly.newPlot(\n",
       "                        '344647cb-2df9-4200-88ff-1825eeac84b1',\n",
       "                        [{\"alignmentgroup\": \"True\", \"customdata\": [[\"en\", 4505]], \"hoverlabel\": {\"namelength\": 0}, \"hovertemplate\": \"Linguas=%{customdata[0]}<br>Frequencia=%{customdata[1]}\", \"legendgroup\": \"Linguas=en\", \"marker\": {\"color\": \"#636efa\"}, \"name\": \"Linguas=en\", \"offsetgroup\": \"Linguas=en\", \"orientation\": \"v\", \"showlegend\": true, \"textposition\": \"auto\", \"type\": \"bar\", \"x\": [\"en\"], \"xaxis\": \"x\", \"y\": [4505], \"yaxis\": \"y\"}, {\"alignmentgroup\": \"True\", \"customdata\": [[\"fr\", 70]], \"hoverlabel\": {\"namelength\": 0}, \"hovertemplate\": \"Linguas=%{customdata[0]}<br>Frequencia=%{customdata[1]}\", \"legendgroup\": \"Linguas=fr\", \"marker\": {\"color\": \"#EF553B\"}, \"name\": \"Linguas=fr\", \"offsetgroup\": \"Linguas=fr\", \"orientation\": \"v\", \"showlegend\": true, \"textposition\": \"auto\", \"type\": \"bar\", \"x\": [\"fr\"], \"xaxis\": \"x\", \"y\": [70], \"yaxis\": \"y\"}, {\"alignmentgroup\": \"True\", \"customdata\": [[\"es\", 32]], \"hoverlabel\": {\"namelength\": 0}, \"hovertemplate\": \"Linguas=%{customdata[0]}<br>Frequencia=%{customdata[1]}\", \"legendgroup\": \"Linguas=es\", \"marker\": {\"color\": \"#00cc96\"}, \"name\": \"Linguas=es\", \"offsetgroup\": \"Linguas=es\", \"orientation\": \"v\", \"showlegend\": true, \"textposition\": \"auto\", \"type\": \"bar\", \"x\": [\"es\"], \"xaxis\": \"x\", \"y\": [32], \"yaxis\": \"y\"}, {\"alignmentgroup\": \"True\", \"customdata\": [[\"de\", 27]], \"hoverlabel\": {\"namelength\": 0}, \"hovertemplate\": \"Linguas=%{customdata[0]}<br>Frequencia=%{customdata[1]}\", \"legendgroup\": \"Linguas=de\", \"marker\": {\"color\": \"#ab63fa\"}, \"name\": \"Linguas=de\", \"offsetgroup\": \"Linguas=de\", \"orientation\": \"v\", \"showlegend\": true, \"textposition\": \"auto\", \"type\": \"bar\", \"x\": [\"de\"], \"xaxis\": \"x\", \"y\": [27], \"yaxis\": \"y\"}, {\"alignmentgroup\": \"True\", \"customdata\": [[\"zh\", 27]], \"hoverlabel\": {\"namelength\": 0}, \"hovertemplate\": \"Linguas=%{customdata[0]}<br>Frequencia=%{customdata[1]}\", \"legendgroup\": \"Linguas=zh\", \"marker\": {\"color\": \"#FFA15A\"}, \"name\": \"Linguas=zh\", \"offsetgroup\": \"Linguas=zh\", \"orientation\": \"v\", \"showlegend\": true, \"textposition\": \"auto\", \"type\": \"bar\", \"x\": [\"zh\"], \"xaxis\": \"x\", \"y\": [27], \"yaxis\": \"y\"}, {\"alignmentgroup\": \"True\", \"customdata\": [[\"hi\", 19]], \"hoverlabel\": {\"namelength\": 0}, \"hovertemplate\": \"Linguas=%{customdata[0]}<br>Frequencia=%{customdata[1]}\", \"legendgroup\": \"Linguas=hi\", \"marker\": {\"color\": \"#19d3f3\"}, \"name\": \"Linguas=hi\", \"offsetgroup\": \"Linguas=hi\", \"orientation\": \"v\", \"showlegend\": true, \"textposition\": \"auto\", \"type\": \"bar\", \"x\": [\"hi\"], \"xaxis\": \"x\", \"y\": [19], \"yaxis\": \"y\"}, {\"alignmentgroup\": \"True\", \"customdata\": [[\"ja\", 16]], \"hoverlabel\": {\"namelength\": 0}, \"hovertemplate\": \"Linguas=%{customdata[0]}<br>Frequencia=%{customdata[1]}\", \"legendgroup\": \"Linguas=ja\", \"marker\": {\"color\": \"#FF6692\"}, \"name\": \"Linguas=ja\", \"offsetgroup\": \"Linguas=ja\", \"orientation\": \"v\", \"showlegend\": true, \"textposition\": \"auto\", \"type\": \"bar\", \"x\": [\"ja\"], \"xaxis\": \"x\", \"y\": [16], \"yaxis\": \"y\"}, {\"alignmentgroup\": \"True\", \"customdata\": [[\"it\", 14]], \"hoverlabel\": {\"namelength\": 0}, \"hovertemplate\": \"Linguas=%{customdata[0]}<br>Frequencia=%{customdata[1]}\", \"legendgroup\": \"Linguas=it\", \"marker\": {\"color\": \"#B6E880\"}, \"name\": \"Linguas=it\", \"offsetgroup\": \"Linguas=it\", \"orientation\": \"v\", \"showlegend\": true, \"textposition\": \"auto\", \"type\": \"bar\", \"x\": [\"it\"], \"xaxis\": \"x\", \"y\": [14], \"yaxis\": \"y\"}, {\"alignmentgroup\": \"True\", \"customdata\": [[\"cn\", 12]], \"hoverlabel\": {\"namelength\": 0}, \"hovertemplate\": \"Linguas=%{customdata[0]}<br>Frequencia=%{customdata[1]}\", \"legendgroup\": \"Linguas=cn\", \"marker\": {\"color\": \"#FF97FF\"}, \"name\": \"Linguas=cn\", \"offsetgroup\": \"Linguas=cn\", \"orientation\": \"v\", \"showlegend\": true, \"textposition\": \"auto\", \"type\": \"bar\", \"x\": [\"cn\"], \"xaxis\": \"x\", \"y\": [12], \"yaxis\": \"y\"}, {\"alignmentgroup\": \"True\", \"customdata\": [[\"ko\", 11]], \"hoverlabel\": {\"namelength\": 0}, \"hovertemplate\": \"Linguas=%{customdata[0]}<br>Frequencia=%{customdata[1]}\", \"legendgroup\": \"Linguas=ko\", \"marker\": {\"color\": \"#FECB52\"}, \"name\": \"Linguas=ko\", \"offsetgroup\": \"Linguas=ko\", \"orientation\": \"v\", \"showlegend\": true, \"textposition\": \"auto\", \"type\": \"bar\", \"x\": [\"ko\"], \"xaxis\": \"x\", \"y\": [11], \"yaxis\": \"y\"}],\n",
       "                        {\"barmode\": \"relative\", \"height\": 800, \"legend\": {\"tracegroupgap\": 0}, \"template\": {\"data\": {\"bar\": [{\"error_x\": {\"color\": \"#2a3f5f\"}, \"error_y\": {\"color\": \"#2a3f5f\"}, \"marker\": {\"line\": {\"color\": \"#E5ECF6\", \"width\": 0.5}}, \"type\": \"bar\"}], \"barpolar\": [{\"marker\": {\"line\": {\"color\": \"#E5ECF6\", \"width\": 0.5}}, \"type\": \"barpolar\"}], \"carpet\": [{\"aaxis\": {\"endlinecolor\": \"#2a3f5f\", \"gridcolor\": \"white\", \"linecolor\": \"white\", \"minorgridcolor\": \"white\", \"startlinecolor\": \"#2a3f5f\"}, \"baxis\": {\"endlinecolor\": \"#2a3f5f\", \"gridcolor\": \"white\", \"linecolor\": \"white\", \"minorgridcolor\": \"white\", \"startlinecolor\": \"#2a3f5f\"}, \"type\": \"carpet\"}], \"choropleth\": [{\"colorbar\": {\"outlinewidth\": 0, \"ticks\": \"\"}, \"type\": \"choropleth\"}], \"contour\": [{\"colorbar\": {\"outlinewidth\": 0, \"ticks\": \"\"}, \"colorscale\": [[0.0, \"#0d0887\"], [0.1111111111111111, \"#46039f\"], [0.2222222222222222, \"#7201a8\"], [0.3333333333333333, \"#9c179e\"], [0.4444444444444444, \"#bd3786\"], [0.5555555555555556, \"#d8576b\"], [0.6666666666666666, \"#ed7953\"], [0.7777777777777778, \"#fb9f3a\"], [0.8888888888888888, \"#fdca26\"], [1.0, \"#f0f921\"]], \"type\": \"contour\"}], \"contourcarpet\": [{\"colorbar\": {\"outlinewidth\": 0, \"ticks\": \"\"}, \"type\": \"contourcarpet\"}], \"heatmap\": [{\"colorbar\": {\"outlinewidth\": 0, \"ticks\": \"\"}, \"colorscale\": [[0.0, \"#0d0887\"], [0.1111111111111111, \"#46039f\"], [0.2222222222222222, \"#7201a8\"], [0.3333333333333333, \"#9c179e\"], [0.4444444444444444, \"#bd3786\"], [0.5555555555555556, \"#d8576b\"], [0.6666666666666666, \"#ed7953\"], [0.7777777777777778, \"#fb9f3a\"], [0.8888888888888888, \"#fdca26\"], [1.0, \"#f0f921\"]], \"type\": \"heatmap\"}], \"heatmapgl\": [{\"colorbar\": {\"outlinewidth\": 0, \"ticks\": \"\"}, \"colorscale\": [[0.0, \"#0d0887\"], [0.1111111111111111, \"#46039f\"], [0.2222222222222222, \"#7201a8\"], [0.3333333333333333, \"#9c179e\"], [0.4444444444444444, \"#bd3786\"], [0.5555555555555556, \"#d8576b\"], [0.6666666666666666, \"#ed7953\"], [0.7777777777777778, \"#fb9f3a\"], [0.8888888888888888, \"#fdca26\"], [1.0, \"#f0f921\"]], \"type\": \"heatmapgl\"}], \"histogram\": [{\"marker\": {\"colorbar\": {\"outlinewidth\": 0, \"ticks\": \"\"}}, \"type\": \"histogram\"}], \"histogram2d\": [{\"colorbar\": {\"outlinewidth\": 0, \"ticks\": \"\"}, \"colorscale\": [[0.0, \"#0d0887\"], [0.1111111111111111, \"#46039f\"], [0.2222222222222222, \"#7201a8\"], [0.3333333333333333, \"#9c179e\"], [0.4444444444444444, \"#bd3786\"], [0.5555555555555556, \"#d8576b\"], [0.6666666666666666, \"#ed7953\"], [0.7777777777777778, \"#fb9f3a\"], [0.8888888888888888, \"#fdca26\"], [1.0, \"#f0f921\"]], \"type\": \"histogram2d\"}], \"histogram2dcontour\": [{\"colorbar\": {\"outlinewidth\": 0, \"ticks\": \"\"}, \"colorscale\": [[0.0, \"#0d0887\"], [0.1111111111111111, \"#46039f\"], [0.2222222222222222, \"#7201a8\"], [0.3333333333333333, \"#9c179e\"], [0.4444444444444444, \"#bd3786\"], [0.5555555555555556, \"#d8576b\"], [0.6666666666666666, \"#ed7953\"], [0.7777777777777778, \"#fb9f3a\"], [0.8888888888888888, \"#fdca26\"], [1.0, \"#f0f921\"]], \"type\": \"histogram2dcontour\"}], \"mesh3d\": [{\"colorbar\": {\"outlinewidth\": 0, \"ticks\": \"\"}, \"type\": \"mesh3d\"}], \"parcoords\": [{\"line\": {\"colorbar\": {\"outlinewidth\": 0, \"ticks\": \"\"}}, \"type\": \"parcoords\"}], \"pie\": [{\"automargin\": true, \"type\": \"pie\"}], \"scatter\": [{\"marker\": {\"colorbar\": {\"outlinewidth\": 0, \"ticks\": \"\"}}, \"type\": \"scatter\"}], \"scatter3d\": [{\"line\": {\"colorbar\": {\"outlinewidth\": 0, \"ticks\": \"\"}}, \"marker\": {\"colorbar\": {\"outlinewidth\": 0, \"ticks\": \"\"}}, \"type\": \"scatter3d\"}], \"scattercarpet\": [{\"marker\": {\"colorbar\": {\"outlinewidth\": 0, \"ticks\": \"\"}}, \"type\": \"scattercarpet\"}], \"scattergeo\": [{\"marker\": {\"colorbar\": {\"outlinewidth\": 0, \"ticks\": \"\"}}, \"type\": \"scattergeo\"}], \"scattergl\": [{\"marker\": {\"colorbar\": {\"outlinewidth\": 0, \"ticks\": \"\"}}, \"type\": \"scattergl\"}], \"scattermapbox\": [{\"marker\": {\"colorbar\": {\"outlinewidth\": 0, \"ticks\": \"\"}}, \"type\": \"scattermapbox\"}], \"scatterpolar\": [{\"marker\": {\"colorbar\": {\"outlinewidth\": 0, \"ticks\": \"\"}}, \"type\": \"scatterpolar\"}], \"scatterpolargl\": [{\"marker\": {\"colorbar\": {\"outlinewidth\": 0, \"ticks\": \"\"}}, \"type\": \"scatterpolargl\"}], \"scatterternary\": [{\"marker\": {\"colorbar\": {\"outlinewidth\": 0, \"ticks\": \"\"}}, \"type\": \"scatterternary\"}], \"surface\": [{\"colorbar\": {\"outlinewidth\": 0, \"ticks\": \"\"}, \"colorscale\": [[0.0, \"#0d0887\"], [0.1111111111111111, \"#46039f\"], [0.2222222222222222, \"#7201a8\"], [0.3333333333333333, \"#9c179e\"], [0.4444444444444444, \"#bd3786\"], [0.5555555555555556, \"#d8576b\"], [0.6666666666666666, \"#ed7953\"], [0.7777777777777778, \"#fb9f3a\"], [0.8888888888888888, \"#fdca26\"], [1.0, \"#f0f921\"]], \"type\": \"surface\"}], \"table\": [{\"cells\": {\"fill\": {\"color\": \"#EBF0F8\"}, \"line\": {\"color\": \"white\"}}, \"header\": {\"fill\": {\"color\": \"#C8D4E3\"}, \"line\": {\"color\": \"white\"}}, \"type\": \"table\"}]}, \"layout\": {\"annotationdefaults\": {\"arrowcolor\": \"#2a3f5f\", \"arrowhead\": 0, \"arrowwidth\": 1}, \"coloraxis\": {\"colorbar\": {\"outlinewidth\": 0, \"ticks\": \"\"}}, \"colorscale\": {\"diverging\": [[0, \"#8e0152\"], [0.1, \"#c51b7d\"], [0.2, \"#de77ae\"], [0.3, \"#f1b6da\"], [0.4, \"#fde0ef\"], [0.5, \"#f7f7f7\"], [0.6, \"#e6f5d0\"], [0.7, \"#b8e186\"], [0.8, \"#7fbc41\"], [0.9, \"#4d9221\"], [1, \"#276419\"]], \"sequential\": [[0.0, \"#0d0887\"], [0.1111111111111111, \"#46039f\"], [0.2222222222222222, \"#7201a8\"], [0.3333333333333333, \"#9c179e\"], [0.4444444444444444, \"#bd3786\"], [0.5555555555555556, \"#d8576b\"], [0.6666666666666666, \"#ed7953\"], [0.7777777777777778, \"#fb9f3a\"], [0.8888888888888888, \"#fdca26\"], [1.0, \"#f0f921\"]], \"sequentialminus\": [[0.0, \"#0d0887\"], [0.1111111111111111, \"#46039f\"], [0.2222222222222222, \"#7201a8\"], [0.3333333333333333, \"#9c179e\"], [0.4444444444444444, \"#bd3786\"], [0.5555555555555556, \"#d8576b\"], [0.6666666666666666, \"#ed7953\"], [0.7777777777777778, \"#fb9f3a\"], [0.8888888888888888, \"#fdca26\"], [1.0, \"#f0f921\"]]}, \"colorway\": [\"#636efa\", \"#EF553B\", \"#00cc96\", \"#ab63fa\", \"#FFA15A\", \"#19d3f3\", \"#FF6692\", \"#B6E880\", \"#FF97FF\", \"#FECB52\"], \"font\": {\"color\": \"#2a3f5f\"}, \"geo\": {\"bgcolor\": \"white\", \"lakecolor\": \"white\", \"landcolor\": \"#E5ECF6\", \"showlakes\": true, \"showland\": true, \"subunitcolor\": \"white\"}, \"hoverlabel\": {\"align\": \"left\"}, \"hovermode\": \"closest\", \"mapbox\": {\"style\": \"light\"}, \"paper_bgcolor\": \"white\", \"plot_bgcolor\": \"#E5ECF6\", \"polar\": {\"angularaxis\": {\"gridcolor\": \"white\", \"linecolor\": \"white\", \"ticks\": \"\"}, \"bgcolor\": \"#E5ECF6\", \"radialaxis\": {\"gridcolor\": \"white\", \"linecolor\": \"white\", \"ticks\": \"\"}}, \"scene\": {\"xaxis\": {\"backgroundcolor\": \"#E5ECF6\", \"gridcolor\": \"white\", \"gridwidth\": 2, \"linecolor\": \"white\", \"showbackground\": true, \"ticks\": \"\", \"zerolinecolor\": \"white\"}, \"yaxis\": {\"backgroundcolor\": \"#E5ECF6\", \"gridcolor\": \"white\", \"gridwidth\": 2, \"linecolor\": \"white\", \"showbackground\": true, \"ticks\": \"\", \"zerolinecolor\": \"white\"}, \"zaxis\": {\"backgroundcolor\": \"#E5ECF6\", \"gridcolor\": \"white\", \"gridwidth\": 2, \"linecolor\": \"white\", \"showbackground\": true, \"ticks\": \"\", \"zerolinecolor\": \"white\"}}, \"shapedefaults\": {\"line\": {\"color\": \"#2a3f5f\"}}, \"ternary\": {\"aaxis\": {\"gridcolor\": \"white\", \"linecolor\": \"white\", \"ticks\": \"\"}, \"baxis\": {\"gridcolor\": \"white\", \"linecolor\": \"white\", \"ticks\": \"\"}, \"bgcolor\": \"#E5ECF6\", \"caxis\": {\"gridcolor\": \"white\", \"linecolor\": \"white\", \"ticks\": \"\"}}, \"title\": {\"x\": 0.05}, \"xaxis\": {\"automargin\": true, \"gridcolor\": \"white\", \"linecolor\": \"white\", \"ticks\": \"\", \"title\": {\"standoff\": 15}, \"zerolinecolor\": \"white\", \"zerolinewidth\": 2}, \"yaxis\": {\"automargin\": true, \"gridcolor\": \"white\", \"linecolor\": \"white\", \"ticks\": \"\", \"title\": {\"standoff\": 15}, \"zerolinecolor\": \"white\", \"zerolinewidth\": 2}}}, \"title\": {\"text\": \"Lingua com mais Filmes\"}, \"xaxis\": {\"anchor\": \"y\", \"categoryarray\": [\"en\", \"fr\", \"es\", \"de\", \"zh\", \"hi\", \"ja\", \"it\", \"cn\", \"ko\"], \"categoryorder\": \"array\", \"domain\": [0.0, 1.0], \"title\": {\"text\": \"Linguas\"}}, \"yaxis\": {\"anchor\": \"x\", \"domain\": [0.0, 1.0], \"title\": {\"text\": \"Frequencia\"}}},\n",
       "                        {\"responsive\": true}\n",
       "                    ).then(function(){\n",
       "                            \n",
       "var gd = document.getElementById('344647cb-2df9-4200-88ff-1825eeac84b1');\n",
       "var x = new MutationObserver(function (mutations, observer) {{\n",
       "        var display = window.getComputedStyle(gd).display;\n",
       "        if (!display || display === 'none') {{\n",
       "            console.log([gd, 'removed!']);\n",
       "            Plotly.purge(gd);\n",
       "            observer.disconnect();\n",
       "        }}\n",
       "}});\n",
       "\n",
       "// Listen for the removal of the full notebook cells\n",
       "var notebookContainer = gd.closest('#notebook-container');\n",
       "if (notebookContainer) {{\n",
       "    x.observe(notebookContainer, {childList: true});\n",
       "}}\n",
       "\n",
       "// Listen for the clearing of the current output cell\n",
       "var outputEl = gd.closest('.output');\n",
       "if (outputEl) {{\n",
       "    x.observe(outputEl, {childList: true});\n",
       "}}\n",
       "\n",
       "                        })\n",
       "                };\n",
       "                \n",
       "            </script>\n",
       "        </div>\n",
       "</body>\n",
       "</html>"
      ]
     },
     "metadata": {
      "tags": []
     },
     "output_type": "display_data"
    }
   ],
   "source": [
    "languages = tmdb[\"original_language\"].value_counts()\n",
    "langues_df = pd.DataFrame({'Linguas':languages.index, 'Frequencia':languages.values}).head(10)\n",
    "\n",
    "fig = px.bar(langues_df, y=\"Frequencia\", x=\"Linguas\",color='Linguas', orientation='v',\n",
    "             hover_data=[\"Linguas\", \"Frequencia\"],\n",
    "             height=800,\n",
    "             title='Lingua com mais Filmes',)\n",
    "fig.show()\n"
   ]
  },
  {
   "cell_type": "code",
   "execution_count": null,
   "metadata": {
    "colab": {},
    "colab_type": "code",
    "id": "1D8S0dk_t6P_"
   },
   "outputs": [],
   "source": [
    "top_movies = tmdb[[\"title\",\"vote_count\"]]\n",
    "top_movies = top_movies.sort_values(by=\"vote_count\",ascending=False)"
   ]
  },
  {
   "cell_type": "code",
   "execution_count": null,
   "metadata": {
    "colab": {
     "base_uri": "https://localhost:8080/",
     "height": 542
    },
    "colab_type": "code",
    "executionInfo": {
     "elapsed": 1189,
     "status": "ok",
     "timestamp": 1599184119206,
     "user": {
      "displayName": "Igor Cavalcanti",
      "photoUrl": "https://lh3.googleusercontent.com/a-/AOh14GgPu-bvlxQap1lJcqw5fk-8WeA_1lh_4JAVU0ZP=s64",
      "userId": "00750051097913617266"
     },
     "user_tz": 180
    },
    "id": "WYeBZBBvt6QB",
    "outputId": "e641502c-9981-455b-c890-3f96d5c6651d"
   },
   "outputs": [
    {
     "data": {
      "text/html": [
       "<html>\n",
       "<head><meta charset=\"utf-8\" /></head>\n",
       "<body>\n",
       "    <div>\n",
       "            <script src=\"https://cdnjs.cloudflare.com/ajax/libs/mathjax/2.7.5/MathJax.js?config=TeX-AMS-MML_SVG\"></script><script type=\"text/javascript\">if (window.MathJax) {MathJax.Hub.Config({SVG: {font: \"STIX-Web\"}});}</script>\n",
       "                <script type=\"text/javascript\">window.PlotlyConfig = {MathJaxConfig: 'local'};</script>\n",
       "        <script src=\"https://cdn.plot.ly/plotly-latest.min.js\"></script>    \n",
       "            <div id=\"4df50189-9b60-4117-8cb3-f6481bd27ac5\" class=\"plotly-graph-div\" style=\"height:525px; width:100%;\"></div>\n",
       "            <script type=\"text/javascript\">\n",
       "                \n",
       "                    window.PLOTLYENV=window.PLOTLYENV || {};\n",
       "                    \n",
       "                if (document.getElementById(\"4df50189-9b60-4117-8cb3-f6481bd27ac5\")) {\n",
       "                    Plotly.newPlot(\n",
       "                        '4df50189-9b60-4117-8cb3-f6481bd27ac5',\n",
       "                        [{\"alignmentgroup\": \"True\", \"hoverlabel\": {\"namelength\": 0}, \"hovertemplate\": \"title=%{x}<br>vote_count=%{y}\", \"legendgroup\": \"title=Inception\", \"marker\": {\"color\": \"#636efa\"}, \"name\": \"title=Inception\", \"offsetgroup\": \"title=Inception\", \"orientation\": \"v\", \"showlegend\": true, \"textposition\": \"auto\", \"type\": \"bar\", \"x\": [\"Inception\"], \"xaxis\": \"x\", \"y\": [13752], \"yaxis\": \"y\"}, {\"alignmentgroup\": \"True\", \"hoverlabel\": {\"namelength\": 0}, \"hovertemplate\": \"title=%{x}<br>vote_count=%{y}\", \"legendgroup\": \"title=The Dark Knight\", \"marker\": {\"color\": \"#EF553B\"}, \"name\": \"title=The Dark Knight\", \"offsetgroup\": \"title=The Dark Knight\", \"orientation\": \"v\", \"showlegend\": true, \"textposition\": \"auto\", \"type\": \"bar\", \"x\": [\"The Dark Knight\"], \"xaxis\": \"x\", \"y\": [12002], \"yaxis\": \"y\"}, {\"alignmentgroup\": \"True\", \"hoverlabel\": {\"namelength\": 0}, \"hovertemplate\": \"title=%{x}<br>vote_count=%{y}\", \"legendgroup\": \"title=Avatar\", \"marker\": {\"color\": \"#00cc96\"}, \"name\": \"title=Avatar\", \"offsetgroup\": \"title=Avatar\", \"orientation\": \"v\", \"showlegend\": true, \"textposition\": \"auto\", \"type\": \"bar\", \"x\": [\"Avatar\"], \"xaxis\": \"x\", \"y\": [11800], \"yaxis\": \"y\"}, {\"alignmentgroup\": \"True\", \"hoverlabel\": {\"namelength\": 0}, \"hovertemplate\": \"title=%{x}<br>vote_count=%{y}\", \"legendgroup\": \"title=The Avengers\", \"marker\": {\"color\": \"#ab63fa\"}, \"name\": \"title=The Avengers\", \"offsetgroup\": \"title=The Avengers\", \"orientation\": \"v\", \"showlegend\": true, \"textposition\": \"auto\", \"type\": \"bar\", \"x\": [\"The Avengers\"], \"xaxis\": \"x\", \"y\": [11776], \"yaxis\": \"y\"}, {\"alignmentgroup\": \"True\", \"hoverlabel\": {\"namelength\": 0}, \"hovertemplate\": \"title=%{x}<br>vote_count=%{y}\", \"legendgroup\": \"title=Deadpool\", \"marker\": {\"color\": \"#FFA15A\"}, \"name\": \"title=Deadpool\", \"offsetgroup\": \"title=Deadpool\", \"orientation\": \"v\", \"showlegend\": true, \"textposition\": \"auto\", \"type\": \"bar\", \"x\": [\"Deadpool\"], \"xaxis\": \"x\", \"y\": [10995], \"yaxis\": \"y\"}, {\"alignmentgroup\": \"True\", \"hoverlabel\": {\"namelength\": 0}, \"hovertemplate\": \"title=%{x}<br>vote_count=%{y}\", \"legendgroup\": \"title=Interstellar\", \"marker\": {\"color\": \"#19d3f3\"}, \"name\": \"title=Interstellar\", \"offsetgroup\": \"title=Interstellar\", \"orientation\": \"v\", \"showlegend\": true, \"textposition\": \"auto\", \"type\": \"bar\", \"x\": [\"Interstellar\"], \"xaxis\": \"x\", \"y\": [10867], \"yaxis\": \"y\"}, {\"alignmentgroup\": \"True\", \"hoverlabel\": {\"namelength\": 0}, \"hovertemplate\": \"title=%{x}<br>vote_count=%{y}\", \"legendgroup\": \"title=Django Unchained\", \"marker\": {\"color\": \"#FF6692\"}, \"name\": \"title=Django Unchained\", \"offsetgroup\": \"title=Django Unchained\", \"orientation\": \"v\", \"showlegend\": true, \"textposition\": \"auto\", \"type\": \"bar\", \"x\": [\"Django Unchained\"], \"xaxis\": \"x\", \"y\": [10099], \"yaxis\": \"y\"}, {\"alignmentgroup\": \"True\", \"hoverlabel\": {\"namelength\": 0}, \"hovertemplate\": \"title=%{x}<br>vote_count=%{y}\", \"legendgroup\": \"title=Guardians of the Galaxy\", \"marker\": {\"color\": \"#B6E880\"}, \"name\": \"title=Guardians of the Galaxy\", \"offsetgroup\": \"title=Guardians of the Galaxy\", \"orientation\": \"v\", \"showlegend\": true, \"textposition\": \"auto\", \"type\": \"bar\", \"x\": [\"Guardians of the Galaxy\"], \"xaxis\": \"x\", \"y\": [9742], \"yaxis\": \"y\"}, {\"alignmentgroup\": \"True\", \"hoverlabel\": {\"namelength\": 0}, \"hovertemplate\": \"title=%{x}<br>vote_count=%{y}\", \"legendgroup\": \"title=The Hunger Games\", \"marker\": {\"color\": \"#FF97FF\"}, \"name\": \"title=The Hunger Games\", \"offsetgroup\": \"title=The Hunger Games\", \"orientation\": \"v\", \"showlegend\": true, \"textposition\": \"auto\", \"type\": \"bar\", \"x\": [\"The Hunger Games\"], \"xaxis\": \"x\", \"y\": [9455], \"yaxis\": \"y\"}, {\"alignmentgroup\": \"True\", \"hoverlabel\": {\"namelength\": 0}, \"hovertemplate\": \"title=%{x}<br>vote_count=%{y}\", \"legendgroup\": \"title=Mad Max: Fury Road\", \"marker\": {\"color\": \"#FECB52\"}, \"name\": \"title=Mad Max: Fury Road\", \"offsetgroup\": \"title=Mad Max: Fury Road\", \"orientation\": \"v\", \"showlegend\": true, \"textposition\": \"auto\", \"type\": \"bar\", \"x\": [\"Mad Max: Fury Road\"], \"xaxis\": \"x\", \"y\": [9427], \"yaxis\": \"y\"}, {\"alignmentgroup\": \"True\", \"hoverlabel\": {\"namelength\": 0}, \"hovertemplate\": \"title=%{x}<br>vote_count=%{y}\", \"legendgroup\": \"title=Fight Club\", \"marker\": {\"color\": \"#636efa\"}, \"name\": \"title=Fight Club\", \"offsetgroup\": \"title=Fight Club\", \"orientation\": \"v\", \"showlegend\": true, \"textposition\": \"auto\", \"type\": \"bar\", \"x\": [\"Fight Club\"], \"xaxis\": \"x\", \"y\": [9413], \"yaxis\": \"y\"}, {\"alignmentgroup\": \"True\", \"hoverlabel\": {\"namelength\": 0}, \"hovertemplate\": \"title=%{x}<br>vote_count=%{y}\", \"legendgroup\": \"title=The Dark Knight Rises\", \"marker\": {\"color\": \"#EF553B\"}, \"name\": \"title=The Dark Knight Rises\", \"offsetgroup\": \"title=The Dark Knight Rises\", \"orientation\": \"v\", \"showlegend\": true, \"textposition\": \"auto\", \"type\": \"bar\", \"x\": [\"The Dark Knight Rises\"], \"xaxis\": \"x\", \"y\": [9106], \"yaxis\": \"y\"}, {\"alignmentgroup\": \"True\", \"hoverlabel\": {\"namelength\": 0}, \"hovertemplate\": \"title=%{x}<br>vote_count=%{y}\", \"legendgroup\": \"title=The Matrix\", \"marker\": {\"color\": \"#00cc96\"}, \"name\": \"title=The Matrix\", \"offsetgroup\": \"title=The Matrix\", \"orientation\": \"v\", \"showlegend\": true, \"textposition\": \"auto\", \"type\": \"bar\", \"x\": [\"The Matrix\"], \"xaxis\": \"x\", \"y\": [8907], \"yaxis\": \"y\"}, {\"alignmentgroup\": \"True\", \"hoverlabel\": {\"namelength\": 0}, \"hovertemplate\": \"title=%{x}<br>vote_count=%{y}\", \"legendgroup\": \"title=Iron Man 3\", \"marker\": {\"color\": \"#ab63fa\"}, \"name\": \"title=Iron Man 3\", \"offsetgroup\": \"title=Iron Man 3\", \"orientation\": \"v\", \"showlegend\": true, \"textposition\": \"auto\", \"type\": \"bar\", \"x\": [\"Iron Man 3\"], \"xaxis\": \"x\", \"y\": [8806], \"yaxis\": \"y\"}, {\"alignmentgroup\": \"True\", \"hoverlabel\": {\"namelength\": 0}, \"hovertemplate\": \"title=%{x}<br>vote_count=%{y}\", \"legendgroup\": \"title=Iron Man\", \"marker\": {\"color\": \"#FFA15A\"}, \"name\": \"title=Iron Man\", \"offsetgroup\": \"title=Iron Man\", \"orientation\": \"v\", \"showlegend\": true, \"textposition\": \"auto\", \"type\": \"bar\", \"x\": [\"Iron Man\"], \"xaxis\": \"x\", \"y\": [8776], \"yaxis\": \"y\"}, {\"alignmentgroup\": \"True\", \"hoverlabel\": {\"namelength\": 0}, \"hovertemplate\": \"title=%{x}<br>vote_count=%{y}\", \"legendgroup\": \"title=The Lord of the Rings: The Fellowship of the Ring\", \"marker\": {\"color\": \"#19d3f3\"}, \"name\": \"title=The Lord of the Rings: The Fellowship of the Ring\", \"offsetgroup\": \"title=The Lord of the Rings: The Fellowship of the Ring\", \"orientation\": \"v\", \"showlegend\": true, \"textposition\": \"auto\", \"type\": \"bar\", \"x\": [\"The Lord of the Rings: The Fellowship of the Ring\"], \"xaxis\": \"x\", \"y\": [8705], \"yaxis\": \"y\"}, {\"alignmentgroup\": \"True\", \"hoverlabel\": {\"namelength\": 0}, \"hovertemplate\": \"title=%{x}<br>vote_count=%{y}\", \"legendgroup\": \"title=Jurassic World\", \"marker\": {\"color\": \"#FF6692\"}, \"name\": \"title=Jurassic World\", \"offsetgroup\": \"title=Jurassic World\", \"orientation\": \"v\", \"showlegend\": true, \"textposition\": \"auto\", \"type\": \"bar\", \"x\": [\"Jurassic World\"], \"xaxis\": \"x\", \"y\": [8662], \"yaxis\": \"y\"}, {\"alignmentgroup\": \"True\", \"hoverlabel\": {\"namelength\": 0}, \"hovertemplate\": \"title=%{x}<br>vote_count=%{y}\", \"legendgroup\": \"title=Pulp Fiction\", \"marker\": {\"color\": \"#B6E880\"}, \"name\": \"title=Pulp Fiction\", \"offsetgroup\": \"title=Pulp Fiction\", \"orientation\": \"v\", \"showlegend\": true, \"textposition\": \"auto\", \"type\": \"bar\", \"x\": [\"Pulp Fiction\"], \"xaxis\": \"x\", \"y\": [8428], \"yaxis\": \"y\"}, {\"alignmentgroup\": \"True\", \"hoverlabel\": {\"namelength\": 0}, \"hovertemplate\": \"title=%{x}<br>vote_count=%{y}\", \"legendgroup\": \"title=The Hobbit: An Unexpected Journey\", \"marker\": {\"color\": \"#FF97FF\"}, \"name\": \"title=The Hobbit: An Unexpected Journey\", \"offsetgroup\": \"title=The Hobbit: An Unexpected Journey\", \"orientation\": \"v\", \"showlegend\": true, \"textposition\": \"auto\", \"type\": \"bar\", \"x\": [\"The Hobbit: An Unexpected Journey\"], \"xaxis\": \"x\", \"y\": [8297], \"yaxis\": \"y\"}, {\"alignmentgroup\": \"True\", \"hoverlabel\": {\"namelength\": 0}, \"hovertemplate\": \"title=%{x}<br>vote_count=%{y}\", \"legendgroup\": \"title=The Shawshank Redemption\", \"marker\": {\"color\": \"#FECB52\"}, \"name\": \"title=The Shawshank Redemption\", \"offsetgroup\": \"title=The Shawshank Redemption\", \"orientation\": \"v\", \"showlegend\": true, \"textposition\": \"auto\", \"type\": \"bar\", \"x\": [\"The Shawshank Redemption\"], \"xaxis\": \"x\", \"y\": [8205], \"yaxis\": \"y\"}],\n",
       "                        {\"barmode\": \"relative\", \"legend\": {\"tracegroupgap\": 0}, \"template\": {\"data\": {\"bar\": [{\"error_x\": {\"color\": \"#2a3f5f\"}, \"error_y\": {\"color\": \"#2a3f5f\"}, \"marker\": {\"line\": {\"color\": \"#E5ECF6\", \"width\": 0.5}}, \"type\": \"bar\"}], \"barpolar\": [{\"marker\": {\"line\": {\"color\": \"#E5ECF6\", \"width\": 0.5}}, \"type\": \"barpolar\"}], \"carpet\": [{\"aaxis\": {\"endlinecolor\": \"#2a3f5f\", \"gridcolor\": \"white\", \"linecolor\": \"white\", \"minorgridcolor\": \"white\", \"startlinecolor\": \"#2a3f5f\"}, \"baxis\": {\"endlinecolor\": \"#2a3f5f\", \"gridcolor\": \"white\", \"linecolor\": \"white\", \"minorgridcolor\": \"white\", \"startlinecolor\": \"#2a3f5f\"}, \"type\": \"carpet\"}], \"choropleth\": [{\"colorbar\": {\"outlinewidth\": 0, \"ticks\": \"\"}, \"type\": \"choropleth\"}], \"contour\": [{\"colorbar\": {\"outlinewidth\": 0, \"ticks\": \"\"}, \"colorscale\": [[0.0, \"#0d0887\"], [0.1111111111111111, \"#46039f\"], [0.2222222222222222, \"#7201a8\"], [0.3333333333333333, \"#9c179e\"], [0.4444444444444444, \"#bd3786\"], [0.5555555555555556, \"#d8576b\"], [0.6666666666666666, \"#ed7953\"], [0.7777777777777778, \"#fb9f3a\"], [0.8888888888888888, \"#fdca26\"], [1.0, \"#f0f921\"]], \"type\": \"contour\"}], \"contourcarpet\": [{\"colorbar\": {\"outlinewidth\": 0, \"ticks\": \"\"}, \"type\": \"contourcarpet\"}], \"heatmap\": [{\"colorbar\": {\"outlinewidth\": 0, \"ticks\": \"\"}, \"colorscale\": [[0.0, \"#0d0887\"], [0.1111111111111111, \"#46039f\"], [0.2222222222222222, \"#7201a8\"], [0.3333333333333333, \"#9c179e\"], [0.4444444444444444, \"#bd3786\"], [0.5555555555555556, \"#d8576b\"], [0.6666666666666666, \"#ed7953\"], [0.7777777777777778, \"#fb9f3a\"], [0.8888888888888888, \"#fdca26\"], [1.0, \"#f0f921\"]], \"type\": \"heatmap\"}], \"heatmapgl\": [{\"colorbar\": {\"outlinewidth\": 0, \"ticks\": \"\"}, \"colorscale\": [[0.0, \"#0d0887\"], [0.1111111111111111, \"#46039f\"], [0.2222222222222222, \"#7201a8\"], [0.3333333333333333, \"#9c179e\"], [0.4444444444444444, \"#bd3786\"], [0.5555555555555556, \"#d8576b\"], [0.6666666666666666, \"#ed7953\"], [0.7777777777777778, \"#fb9f3a\"], [0.8888888888888888, \"#fdca26\"], [1.0, \"#f0f921\"]], \"type\": \"heatmapgl\"}], \"histogram\": [{\"marker\": {\"colorbar\": {\"outlinewidth\": 0, \"ticks\": \"\"}}, \"type\": \"histogram\"}], \"histogram2d\": [{\"colorbar\": {\"outlinewidth\": 0, \"ticks\": \"\"}, \"colorscale\": [[0.0, \"#0d0887\"], [0.1111111111111111, \"#46039f\"], [0.2222222222222222, \"#7201a8\"], [0.3333333333333333, \"#9c179e\"], [0.4444444444444444, \"#bd3786\"], [0.5555555555555556, \"#d8576b\"], [0.6666666666666666, \"#ed7953\"], [0.7777777777777778, \"#fb9f3a\"], [0.8888888888888888, \"#fdca26\"], [1.0, \"#f0f921\"]], \"type\": \"histogram2d\"}], \"histogram2dcontour\": [{\"colorbar\": {\"outlinewidth\": 0, \"ticks\": \"\"}, \"colorscale\": [[0.0, \"#0d0887\"], [0.1111111111111111, \"#46039f\"], [0.2222222222222222, \"#7201a8\"], [0.3333333333333333, \"#9c179e\"], [0.4444444444444444, \"#bd3786\"], [0.5555555555555556, \"#d8576b\"], [0.6666666666666666, \"#ed7953\"], [0.7777777777777778, \"#fb9f3a\"], [0.8888888888888888, \"#fdca26\"], [1.0, \"#f0f921\"]], \"type\": \"histogram2dcontour\"}], \"mesh3d\": [{\"colorbar\": {\"outlinewidth\": 0, \"ticks\": \"\"}, \"type\": \"mesh3d\"}], \"parcoords\": [{\"line\": {\"colorbar\": {\"outlinewidth\": 0, \"ticks\": \"\"}}, \"type\": \"parcoords\"}], \"pie\": [{\"automargin\": true, \"type\": \"pie\"}], \"scatter\": [{\"marker\": {\"colorbar\": {\"outlinewidth\": 0, \"ticks\": \"\"}}, \"type\": \"scatter\"}], \"scatter3d\": [{\"line\": {\"colorbar\": {\"outlinewidth\": 0, \"ticks\": \"\"}}, \"marker\": {\"colorbar\": {\"outlinewidth\": 0, \"ticks\": \"\"}}, \"type\": \"scatter3d\"}], \"scattercarpet\": [{\"marker\": {\"colorbar\": {\"outlinewidth\": 0, \"ticks\": \"\"}}, \"type\": \"scattercarpet\"}], \"scattergeo\": [{\"marker\": {\"colorbar\": {\"outlinewidth\": 0, \"ticks\": \"\"}}, \"type\": \"scattergeo\"}], \"scattergl\": [{\"marker\": {\"colorbar\": {\"outlinewidth\": 0, \"ticks\": \"\"}}, \"type\": \"scattergl\"}], \"scattermapbox\": [{\"marker\": {\"colorbar\": {\"outlinewidth\": 0, \"ticks\": \"\"}}, \"type\": \"scattermapbox\"}], \"scatterpolar\": [{\"marker\": {\"colorbar\": {\"outlinewidth\": 0, \"ticks\": \"\"}}, \"type\": \"scatterpolar\"}], \"scatterpolargl\": [{\"marker\": {\"colorbar\": {\"outlinewidth\": 0, \"ticks\": \"\"}}, \"type\": \"scatterpolargl\"}], \"scatterternary\": [{\"marker\": {\"colorbar\": {\"outlinewidth\": 0, \"ticks\": \"\"}}, \"type\": \"scatterternary\"}], \"surface\": [{\"colorbar\": {\"outlinewidth\": 0, \"ticks\": \"\"}, \"colorscale\": [[0.0, \"#0d0887\"], [0.1111111111111111, \"#46039f\"], [0.2222222222222222, \"#7201a8\"], [0.3333333333333333, \"#9c179e\"], [0.4444444444444444, \"#bd3786\"], [0.5555555555555556, \"#d8576b\"], [0.6666666666666666, \"#ed7953\"], [0.7777777777777778, \"#fb9f3a\"], [0.8888888888888888, \"#fdca26\"], [1.0, \"#f0f921\"]], \"type\": \"surface\"}], \"table\": [{\"cells\": {\"fill\": {\"color\": \"#EBF0F8\"}, \"line\": {\"color\": \"white\"}}, \"header\": {\"fill\": {\"color\": \"#C8D4E3\"}, \"line\": {\"color\": \"white\"}}, \"type\": \"table\"}]}, \"layout\": {\"annotationdefaults\": {\"arrowcolor\": \"#2a3f5f\", \"arrowhead\": 0, \"arrowwidth\": 1}, \"coloraxis\": {\"colorbar\": {\"outlinewidth\": 0, \"ticks\": \"\"}}, \"colorscale\": {\"diverging\": [[0, \"#8e0152\"], [0.1, \"#c51b7d\"], [0.2, \"#de77ae\"], [0.3, \"#f1b6da\"], [0.4, \"#fde0ef\"], [0.5, \"#f7f7f7\"], [0.6, \"#e6f5d0\"], [0.7, \"#b8e186\"], [0.8, \"#7fbc41\"], [0.9, \"#4d9221\"], [1, \"#276419\"]], \"sequential\": [[0.0, \"#0d0887\"], [0.1111111111111111, \"#46039f\"], [0.2222222222222222, \"#7201a8\"], [0.3333333333333333, \"#9c179e\"], [0.4444444444444444, \"#bd3786\"], [0.5555555555555556, \"#d8576b\"], [0.6666666666666666, \"#ed7953\"], [0.7777777777777778, \"#fb9f3a\"], [0.8888888888888888, \"#fdca26\"], [1.0, \"#f0f921\"]], \"sequentialminus\": [[0.0, \"#0d0887\"], [0.1111111111111111, \"#46039f\"], [0.2222222222222222, \"#7201a8\"], [0.3333333333333333, \"#9c179e\"], [0.4444444444444444, \"#bd3786\"], [0.5555555555555556, \"#d8576b\"], [0.6666666666666666, \"#ed7953\"], [0.7777777777777778, \"#fb9f3a\"], [0.8888888888888888, \"#fdca26\"], [1.0, \"#f0f921\"]]}, \"colorway\": [\"#636efa\", \"#EF553B\", \"#00cc96\", \"#ab63fa\", \"#FFA15A\", \"#19d3f3\", \"#FF6692\", \"#B6E880\", \"#FF97FF\", \"#FECB52\"], \"font\": {\"color\": \"#2a3f5f\"}, \"geo\": {\"bgcolor\": \"white\", \"lakecolor\": \"white\", \"landcolor\": \"#E5ECF6\", \"showlakes\": true, \"showland\": true, \"subunitcolor\": \"white\"}, \"hoverlabel\": {\"align\": \"left\"}, \"hovermode\": \"closest\", \"mapbox\": {\"style\": \"light\"}, \"paper_bgcolor\": \"white\", \"plot_bgcolor\": \"#E5ECF6\", \"polar\": {\"angularaxis\": {\"gridcolor\": \"white\", \"linecolor\": \"white\", \"ticks\": \"\"}, \"bgcolor\": \"#E5ECF6\", \"radialaxis\": {\"gridcolor\": \"white\", \"linecolor\": \"white\", \"ticks\": \"\"}}, \"scene\": {\"xaxis\": {\"backgroundcolor\": \"#E5ECF6\", \"gridcolor\": \"white\", \"gridwidth\": 2, \"linecolor\": \"white\", \"showbackground\": true, \"ticks\": \"\", \"zerolinecolor\": \"white\"}, \"yaxis\": {\"backgroundcolor\": \"#E5ECF6\", \"gridcolor\": \"white\", \"gridwidth\": 2, \"linecolor\": \"white\", \"showbackground\": true, \"ticks\": \"\", \"zerolinecolor\": \"white\"}, \"zaxis\": {\"backgroundcolor\": \"#E5ECF6\", \"gridcolor\": \"white\", \"gridwidth\": 2, \"linecolor\": \"white\", \"showbackground\": true, \"ticks\": \"\", \"zerolinecolor\": \"white\"}}, \"shapedefaults\": {\"line\": {\"color\": \"#2a3f5f\"}}, \"ternary\": {\"aaxis\": {\"gridcolor\": \"white\", \"linecolor\": \"white\", \"ticks\": \"\"}, \"baxis\": {\"gridcolor\": \"white\", \"linecolor\": \"white\", \"ticks\": \"\"}, \"bgcolor\": \"#E5ECF6\", \"caxis\": {\"gridcolor\": \"white\", \"linecolor\": \"white\", \"ticks\": \"\"}}, \"title\": {\"x\": 0.05}, \"xaxis\": {\"automargin\": true, \"gridcolor\": \"white\", \"linecolor\": \"white\", \"ticks\": \"\", \"title\": {\"standoff\": 15}, \"zerolinecolor\": \"white\", \"zerolinewidth\": 2}, \"yaxis\": {\"automargin\": true, \"gridcolor\": \"white\", \"linecolor\": \"white\", \"ticks\": \"\", \"title\": {\"standoff\": 15}, \"zerolinecolor\": \"white\", \"zerolinewidth\": 2}}}, \"title\": {\"text\": \"Filmes com mais Votos\"}, \"xaxis\": {\"anchor\": \"y\", \"categoryarray\": [\"Inception\", \"The Dark Knight\", \"Avatar\", \"The Avengers\", \"Deadpool\", \"Interstellar\", \"Django Unchained\", \"Guardians of the Galaxy\", \"The Hunger Games\", \"Mad Max: Fury Road\", \"Fight Club\", \"The Dark Knight Rises\", \"The Matrix\", \"Iron Man 3\", \"Iron Man\", \"The Lord of the Rings: The Fellowship of the Ring\", \"Jurassic World\", \"Pulp Fiction\", \"The Hobbit: An Unexpected Journey\", \"The Shawshank Redemption\"], \"categoryorder\": \"array\", \"domain\": [0.0, 1.0], \"title\": {\"text\": \"title\"}}, \"yaxis\": {\"anchor\": \"x\", \"domain\": [0.0, 1.0], \"title\": {\"text\": \"vote_count\"}}},\n",
       "                        {\"responsive\": true}\n",
       "                    ).then(function(){\n",
       "                            \n",
       "var gd = document.getElementById('4df50189-9b60-4117-8cb3-f6481bd27ac5');\n",
       "var x = new MutationObserver(function (mutations, observer) {{\n",
       "        var display = window.getComputedStyle(gd).display;\n",
       "        if (!display || display === 'none') {{\n",
       "            console.log([gd, 'removed!']);\n",
       "            Plotly.purge(gd);\n",
       "            observer.disconnect();\n",
       "        }}\n",
       "}});\n",
       "\n",
       "// Listen for the removal of the full notebook cells\n",
       "var notebookContainer = gd.closest('#notebook-container');\n",
       "if (notebookContainer) {{\n",
       "    x.observe(notebookContainer, {childList: true});\n",
       "}}\n",
       "\n",
       "// Listen for the clearing of the current output cell\n",
       "var outputEl = gd.closest('.output');\n",
       "if (outputEl) {{\n",
       "    x.observe(outputEl, {childList: true});\n",
       "}}\n",
       "\n",
       "                        })\n",
       "                };\n",
       "                \n",
       "            </script>\n",
       "        </div>\n",
       "</body>\n",
       "</html>"
      ]
     },
     "metadata": {
      "tags": []
     },
     "output_type": "display_data"
    }
   ],
   "source": [
    "fig = px.bar(data_frame=top_movies[:20],x=\"title\",y=\"vote_count\",color=\"title\",title=\"Filmes com mais Votos\")\n",
    "fig.show()"
   ]
  },
  {
   "cell_type": "code",
   "execution_count": 7,
   "metadata": {
    "colab": {},
    "colab_type": "code",
    "executionInfo": {
     "elapsed": 3425,
     "status": "ok",
     "timestamp": 1599264412159,
     "user": {
      "displayName": "Igor Cavalcanti",
      "photoUrl": "https://lh3.googleusercontent.com/a-/AOh14GgPu-bvlxQap1lJcqw5fk-8WeA_1lh_4JAVU0ZP=s64",
      "userId": "00750051097913617266"
     },
     "user_tz": 180
    },
    "id": "vfmQiV66t6QD"
   },
   "outputs": [],
   "source": [
    "s = tmdb.apply(lambda x: pd.Series(x['genres']),axis=1).stack().reset_index(level=1, drop=True)\n",
    "s.name = 'genre'\n",
    "gen_md = tmdb.drop('genres', axis=1).join(s)\n"
   ]
  },
  {
   "cell_type": "code",
   "execution_count": 8,
   "metadata": {
    "colab": {
     "base_uri": "https://localhost:8080/",
     "height": 542
    },
    "colab_type": "code",
    "executionInfo": {
     "elapsed": 2538,
     "status": "ok",
     "timestamp": 1599264412644,
     "user": {
      "displayName": "Igor Cavalcanti",
      "photoUrl": "https://lh3.googleusercontent.com/a-/AOh14GgPu-bvlxQap1lJcqw5fk-8WeA_1lh_4JAVU0ZP=s64",
      "userId": "00750051097913617266"
     },
     "user_tz": 180
    },
    "id": "OMBygJ84t6QF",
    "outputId": "2caf0bc0-a875-4cf3-9b24-db1c6bd88daa"
   },
   "outputs": [
    {
     "data": {
      "text/html": [
       "<html>\n",
       "<head><meta charset=\"utf-8\" /></head>\n",
       "<body>\n",
       "    <div>\n",
       "            <script src=\"https://cdnjs.cloudflare.com/ajax/libs/mathjax/2.7.5/MathJax.js?config=TeX-AMS-MML_SVG\"></script><script type=\"text/javascript\">if (window.MathJax) {MathJax.Hub.Config({SVG: {font: \"STIX-Web\"}});}</script>\n",
       "                <script type=\"text/javascript\">window.PlotlyConfig = {MathJaxConfig: 'local'};</script>\n",
       "        <script src=\"https://cdn.plot.ly/plotly-latest.min.js\"></script>    \n",
       "            <div id=\"b81537ba-33d8-485d-92c2-bf9a7c54ceaf\" class=\"plotly-graph-div\" style=\"height:525px; width:100%;\"></div>\n",
       "            <script type=\"text/javascript\">\n",
       "                \n",
       "                    window.PLOTLYENV=window.PLOTLYENV || {};\n",
       "                    \n",
       "                if (document.getElementById(\"b81537ba-33d8-485d-92c2-bf9a7c54ceaf\")) {\n",
       "                    Plotly.newPlot(\n",
       "                        'b81537ba-33d8-485d-92c2-bf9a7c54ceaf',\n",
       "                        [{\"alignmentgroup\": \"True\", \"hoverlabel\": {\"namelength\": 0}, \"hovertemplate\": \"Generos=%{x}<br>Contagem=%{y}\", \"legendgroup\": \"Generos=Drama\", \"marker\": {\"color\": \"#636efa\"}, \"name\": \"Generos=Drama\", \"offsetgroup\": \"Generos=Drama\", \"orientation\": \"v\", \"showlegend\": true, \"textposition\": \"auto\", \"type\": \"bar\", \"x\": [\"Drama\"], \"xaxis\": \"x\", \"y\": [2297], \"yaxis\": \"y\"}, {\"alignmentgroup\": \"True\", \"hoverlabel\": {\"namelength\": 0}, \"hovertemplate\": \"Generos=%{x}<br>Contagem=%{y}\", \"legendgroup\": \"Generos=Comedy\", \"marker\": {\"color\": \"#EF553B\"}, \"name\": \"Generos=Comedy\", \"offsetgroup\": \"Generos=Comedy\", \"orientation\": \"v\", \"showlegend\": true, \"textposition\": \"auto\", \"type\": \"bar\", \"x\": [\"Comedy\"], \"xaxis\": \"x\", \"y\": [1722], \"yaxis\": \"y\"}, {\"alignmentgroup\": \"True\", \"hoverlabel\": {\"namelength\": 0}, \"hovertemplate\": \"Generos=%{x}<br>Contagem=%{y}\", \"legendgroup\": \"Generos=Thriller\", \"marker\": {\"color\": \"#00cc96\"}, \"name\": \"Generos=Thriller\", \"offsetgroup\": \"Generos=Thriller\", \"orientation\": \"v\", \"showlegend\": true, \"textposition\": \"auto\", \"type\": \"bar\", \"x\": [\"Thriller\"], \"xaxis\": \"x\", \"y\": [1274], \"yaxis\": \"y\"}, {\"alignmentgroup\": \"True\", \"hoverlabel\": {\"namelength\": 0}, \"hovertemplate\": \"Generos=%{x}<br>Contagem=%{y}\", \"legendgroup\": \"Generos=Action\", \"marker\": {\"color\": \"#ab63fa\"}, \"name\": \"Generos=Action\", \"offsetgroup\": \"Generos=Action\", \"orientation\": \"v\", \"showlegend\": true, \"textposition\": \"auto\", \"type\": \"bar\", \"x\": [\"Action\"], \"xaxis\": \"x\", \"y\": [1154], \"yaxis\": \"y\"}, {\"alignmentgroup\": \"True\", \"hoverlabel\": {\"namelength\": 0}, \"hovertemplate\": \"Generos=%{x}<br>Contagem=%{y}\", \"legendgroup\": \"Generos=Romance\", \"marker\": {\"color\": \"#FFA15A\"}, \"name\": \"Generos=Romance\", \"offsetgroup\": \"Generos=Romance\", \"orientation\": \"v\", \"showlegend\": true, \"textposition\": \"auto\", \"type\": \"bar\", \"x\": [\"Romance\"], \"xaxis\": \"x\", \"y\": [894], \"yaxis\": \"y\"}, {\"alignmentgroup\": \"True\", \"hoverlabel\": {\"namelength\": 0}, \"hovertemplate\": \"Generos=%{x}<br>Contagem=%{y}\", \"legendgroup\": \"Generos=Adventure\", \"marker\": {\"color\": \"#19d3f3\"}, \"name\": \"Generos=Adventure\", \"offsetgroup\": \"Generos=Adventure\", \"orientation\": \"v\", \"showlegend\": true, \"textposition\": \"auto\", \"type\": \"bar\", \"x\": [\"Adventure\"], \"xaxis\": \"x\", \"y\": [790], \"yaxis\": \"y\"}, {\"alignmentgroup\": \"True\", \"hoverlabel\": {\"namelength\": 0}, \"hovertemplate\": \"Generos=%{x}<br>Contagem=%{y}\", \"legendgroup\": \"Generos=Crime\", \"marker\": {\"color\": \"#FF6692\"}, \"name\": \"Generos=Crime\", \"offsetgroup\": \"Generos=Crime\", \"orientation\": \"v\", \"showlegend\": true, \"textposition\": \"auto\", \"type\": \"bar\", \"x\": [\"Crime\"], \"xaxis\": \"x\", \"y\": [696], \"yaxis\": \"y\"}, {\"alignmentgroup\": \"True\", \"hoverlabel\": {\"namelength\": 0}, \"hovertemplate\": \"Generos=%{x}<br>Contagem=%{y}\", \"legendgroup\": \"Generos=Science Fiction\", \"marker\": {\"color\": \"#B6E880\"}, \"name\": \"Generos=Science Fiction\", \"offsetgroup\": \"Generos=Science Fiction\", \"orientation\": \"v\", \"showlegend\": true, \"textposition\": \"auto\", \"type\": \"bar\", \"x\": [\"Science Fiction\"], \"xaxis\": \"x\", \"y\": [535], \"yaxis\": \"y\"}, {\"alignmentgroup\": \"True\", \"hoverlabel\": {\"namelength\": 0}, \"hovertemplate\": \"Generos=%{x}<br>Contagem=%{y}\", \"legendgroup\": \"Generos=Horror\", \"marker\": {\"color\": \"#FF97FF\"}, \"name\": \"Generos=Horror\", \"offsetgroup\": \"Generos=Horror\", \"orientation\": \"v\", \"showlegend\": true, \"textposition\": \"auto\", \"type\": \"bar\", \"x\": [\"Horror\"], \"xaxis\": \"x\", \"y\": [519], \"yaxis\": \"y\"}, {\"alignmentgroup\": \"True\", \"hoverlabel\": {\"namelength\": 0}, \"hovertemplate\": \"Generos=%{x}<br>Contagem=%{y}\", \"legendgroup\": \"Generos=Family\", \"marker\": {\"color\": \"#FECB52\"}, \"name\": \"Generos=Family\", \"offsetgroup\": \"Generos=Family\", \"orientation\": \"v\", \"showlegend\": true, \"textposition\": \"auto\", \"type\": \"bar\", \"x\": [\"Family\"], \"xaxis\": \"x\", \"y\": [513], \"yaxis\": \"y\"}, {\"alignmentgroup\": \"True\", \"hoverlabel\": {\"namelength\": 0}, \"hovertemplate\": \"Generos=%{x}<br>Contagem=%{y}\", \"legendgroup\": \"Generos=Fantasy\", \"marker\": {\"color\": \"#636efa\"}, \"name\": \"Generos=Fantasy\", \"offsetgroup\": \"Generos=Fantasy\", \"orientation\": \"v\", \"showlegend\": true, \"textposition\": \"auto\", \"type\": \"bar\", \"x\": [\"Fantasy\"], \"xaxis\": \"x\", \"y\": [424], \"yaxis\": \"y\"}, {\"alignmentgroup\": \"True\", \"hoverlabel\": {\"namelength\": 0}, \"hovertemplate\": \"Generos=%{x}<br>Contagem=%{y}\", \"legendgroup\": \"Generos=Mystery\", \"marker\": {\"color\": \"#EF553B\"}, \"name\": \"Generos=Mystery\", \"offsetgroup\": \"Generos=Mystery\", \"orientation\": \"v\", \"showlegend\": true, \"textposition\": \"auto\", \"type\": \"bar\", \"x\": [\"Mystery\"], \"xaxis\": \"x\", \"y\": [348], \"yaxis\": \"y\"}, {\"alignmentgroup\": \"True\", \"hoverlabel\": {\"namelength\": 0}, \"hovertemplate\": \"Generos=%{x}<br>Contagem=%{y}\", \"legendgroup\": \"Generos=Animation\", \"marker\": {\"color\": \"#00cc96\"}, \"name\": \"Generos=Animation\", \"offsetgroup\": \"Generos=Animation\", \"orientation\": \"v\", \"showlegend\": true, \"textposition\": \"auto\", \"type\": \"bar\", \"x\": [\"Animation\"], \"xaxis\": \"x\", \"y\": [234], \"yaxis\": \"y\"}, {\"alignmentgroup\": \"True\", \"hoverlabel\": {\"namelength\": 0}, \"hovertemplate\": \"Generos=%{x}<br>Contagem=%{y}\", \"legendgroup\": \"Generos=History\", \"marker\": {\"color\": \"#ab63fa\"}, \"name\": \"Generos=History\", \"offsetgroup\": \"Generos=History\", \"orientation\": \"v\", \"showlegend\": true, \"textposition\": \"auto\", \"type\": \"bar\", \"x\": [\"History\"], \"xaxis\": \"x\", \"y\": [197], \"yaxis\": \"y\"}, {\"alignmentgroup\": \"True\", \"hoverlabel\": {\"namelength\": 0}, \"hovertemplate\": \"Generos=%{x}<br>Contagem=%{y}\", \"legendgroup\": \"Generos=Music\", \"marker\": {\"color\": \"#FFA15A\"}, \"name\": \"Generos=Music\", \"offsetgroup\": \"Generos=Music\", \"orientation\": \"v\", \"showlegend\": true, \"textposition\": \"auto\", \"type\": \"bar\", \"x\": [\"Music\"], \"xaxis\": \"x\", \"y\": [185], \"yaxis\": \"y\"}, {\"alignmentgroup\": \"True\", \"hoverlabel\": {\"namelength\": 0}, \"hovertemplate\": \"Generos=%{x}<br>Contagem=%{y}\", \"legendgroup\": \"Generos=War\", \"marker\": {\"color\": \"#19d3f3\"}, \"name\": \"Generos=War\", \"offsetgroup\": \"Generos=War\", \"orientation\": \"v\", \"showlegend\": true, \"textposition\": \"auto\", \"type\": \"bar\", \"x\": [\"War\"], \"xaxis\": \"x\", \"y\": [144], \"yaxis\": \"y\"}, {\"alignmentgroup\": \"True\", \"hoverlabel\": {\"namelength\": 0}, \"hovertemplate\": \"Generos=%{x}<br>Contagem=%{y}\", \"legendgroup\": \"Generos=Documentary\", \"marker\": {\"color\": \"#FF6692\"}, \"name\": \"Generos=Documentary\", \"offsetgroup\": \"Generos=Documentary\", \"orientation\": \"v\", \"showlegend\": true, \"textposition\": \"auto\", \"type\": \"bar\", \"x\": [\"Documentary\"], \"xaxis\": \"x\", \"y\": [110], \"yaxis\": \"y\"}, {\"alignmentgroup\": \"True\", \"hoverlabel\": {\"namelength\": 0}, \"hovertemplate\": \"Generos=%{x}<br>Contagem=%{y}\", \"legendgroup\": \"Generos=Western\", \"marker\": {\"color\": \"#B6E880\"}, \"name\": \"Generos=Western\", \"offsetgroup\": \"Generos=Western\", \"orientation\": \"v\", \"showlegend\": true, \"textposition\": \"auto\", \"type\": \"bar\", \"x\": [\"Western\"], \"xaxis\": \"x\", \"y\": [82], \"yaxis\": \"y\"}, {\"alignmentgroup\": \"True\", \"hoverlabel\": {\"namelength\": 0}, \"hovertemplate\": \"Generos=%{x}<br>Contagem=%{y}\", \"legendgroup\": \"Generos=Foreign\", \"marker\": {\"color\": \"#FF97FF\"}, \"name\": \"Generos=Foreign\", \"offsetgroup\": \"Generos=Foreign\", \"orientation\": \"v\", \"showlegend\": true, \"textposition\": \"auto\", \"type\": \"bar\", \"x\": [\"Foreign\"], \"xaxis\": \"x\", \"y\": [34], \"yaxis\": \"y\"}, {\"alignmentgroup\": \"True\", \"hoverlabel\": {\"namelength\": 0}, \"hovertemplate\": \"Generos=%{x}<br>Contagem=%{y}\", \"legendgroup\": \"Generos=TV Movie\", \"marker\": {\"color\": \"#FECB52\"}, \"name\": \"Generos=TV Movie\", \"offsetgroup\": \"Generos=TV Movie\", \"orientation\": \"v\", \"showlegend\": true, \"textposition\": \"auto\", \"type\": \"bar\", \"x\": [\"TV Movie\"], \"xaxis\": \"x\", \"y\": [8], \"yaxis\": \"y\"}],\n",
       "                        {\"barmode\": \"relative\", \"legend\": {\"tracegroupgap\": 0}, \"margin\": {\"t\": 60}, \"template\": {\"data\": {\"bar\": [{\"error_x\": {\"color\": \"#2a3f5f\"}, \"error_y\": {\"color\": \"#2a3f5f\"}, \"marker\": {\"line\": {\"color\": \"#E5ECF6\", \"width\": 0.5}}, \"type\": \"bar\"}], \"barpolar\": [{\"marker\": {\"line\": {\"color\": \"#E5ECF6\", \"width\": 0.5}}, \"type\": \"barpolar\"}], \"carpet\": [{\"aaxis\": {\"endlinecolor\": \"#2a3f5f\", \"gridcolor\": \"white\", \"linecolor\": \"white\", \"minorgridcolor\": \"white\", \"startlinecolor\": \"#2a3f5f\"}, \"baxis\": {\"endlinecolor\": \"#2a3f5f\", \"gridcolor\": \"white\", \"linecolor\": \"white\", \"minorgridcolor\": \"white\", \"startlinecolor\": \"#2a3f5f\"}, \"type\": \"carpet\"}], \"choropleth\": [{\"colorbar\": {\"outlinewidth\": 0, \"ticks\": \"\"}, \"type\": \"choropleth\"}], \"contour\": [{\"colorbar\": {\"outlinewidth\": 0, \"ticks\": \"\"}, \"colorscale\": [[0.0, \"#0d0887\"], [0.1111111111111111, \"#46039f\"], [0.2222222222222222, \"#7201a8\"], [0.3333333333333333, \"#9c179e\"], [0.4444444444444444, \"#bd3786\"], [0.5555555555555556, \"#d8576b\"], [0.6666666666666666, \"#ed7953\"], [0.7777777777777778, \"#fb9f3a\"], [0.8888888888888888, \"#fdca26\"], [1.0, \"#f0f921\"]], \"type\": \"contour\"}], \"contourcarpet\": [{\"colorbar\": {\"outlinewidth\": 0, \"ticks\": \"\"}, \"type\": \"contourcarpet\"}], \"heatmap\": [{\"colorbar\": {\"outlinewidth\": 0, \"ticks\": \"\"}, \"colorscale\": [[0.0, \"#0d0887\"], [0.1111111111111111, \"#46039f\"], [0.2222222222222222, \"#7201a8\"], [0.3333333333333333, \"#9c179e\"], [0.4444444444444444, \"#bd3786\"], [0.5555555555555556, \"#d8576b\"], [0.6666666666666666, \"#ed7953\"], [0.7777777777777778, \"#fb9f3a\"], [0.8888888888888888, \"#fdca26\"], [1.0, \"#f0f921\"]], \"type\": \"heatmap\"}], \"heatmapgl\": [{\"colorbar\": {\"outlinewidth\": 0, \"ticks\": \"\"}, \"colorscale\": [[0.0, \"#0d0887\"], [0.1111111111111111, \"#46039f\"], [0.2222222222222222, \"#7201a8\"], [0.3333333333333333, \"#9c179e\"], [0.4444444444444444, \"#bd3786\"], [0.5555555555555556, \"#d8576b\"], [0.6666666666666666, \"#ed7953\"], [0.7777777777777778, \"#fb9f3a\"], [0.8888888888888888, \"#fdca26\"], [1.0, \"#f0f921\"]], \"type\": \"heatmapgl\"}], \"histogram\": [{\"marker\": {\"colorbar\": {\"outlinewidth\": 0, \"ticks\": \"\"}}, \"type\": \"histogram\"}], \"histogram2d\": [{\"colorbar\": {\"outlinewidth\": 0, \"ticks\": \"\"}, \"colorscale\": [[0.0, \"#0d0887\"], [0.1111111111111111, \"#46039f\"], [0.2222222222222222, \"#7201a8\"], [0.3333333333333333, \"#9c179e\"], [0.4444444444444444, \"#bd3786\"], [0.5555555555555556, \"#d8576b\"], [0.6666666666666666, \"#ed7953\"], [0.7777777777777778, \"#fb9f3a\"], [0.8888888888888888, \"#fdca26\"], [1.0, \"#f0f921\"]], \"type\": \"histogram2d\"}], \"histogram2dcontour\": [{\"colorbar\": {\"outlinewidth\": 0, \"ticks\": \"\"}, \"colorscale\": [[0.0, \"#0d0887\"], [0.1111111111111111, \"#46039f\"], [0.2222222222222222, \"#7201a8\"], [0.3333333333333333, \"#9c179e\"], [0.4444444444444444, \"#bd3786\"], [0.5555555555555556, \"#d8576b\"], [0.6666666666666666, \"#ed7953\"], [0.7777777777777778, \"#fb9f3a\"], [0.8888888888888888, \"#fdca26\"], [1.0, \"#f0f921\"]], \"type\": \"histogram2dcontour\"}], \"mesh3d\": [{\"colorbar\": {\"outlinewidth\": 0, \"ticks\": \"\"}, \"type\": \"mesh3d\"}], \"parcoords\": [{\"line\": {\"colorbar\": {\"outlinewidth\": 0, \"ticks\": \"\"}}, \"type\": \"parcoords\"}], \"pie\": [{\"automargin\": true, \"type\": \"pie\"}], \"scatter\": [{\"marker\": {\"colorbar\": {\"outlinewidth\": 0, \"ticks\": \"\"}}, \"type\": \"scatter\"}], \"scatter3d\": [{\"line\": {\"colorbar\": {\"outlinewidth\": 0, \"ticks\": \"\"}}, \"marker\": {\"colorbar\": {\"outlinewidth\": 0, \"ticks\": \"\"}}, \"type\": \"scatter3d\"}], \"scattercarpet\": [{\"marker\": {\"colorbar\": {\"outlinewidth\": 0, \"ticks\": \"\"}}, \"type\": \"scattercarpet\"}], \"scattergeo\": [{\"marker\": {\"colorbar\": {\"outlinewidth\": 0, \"ticks\": \"\"}}, \"type\": \"scattergeo\"}], \"scattergl\": [{\"marker\": {\"colorbar\": {\"outlinewidth\": 0, \"ticks\": \"\"}}, \"type\": \"scattergl\"}], \"scattermapbox\": [{\"marker\": {\"colorbar\": {\"outlinewidth\": 0, \"ticks\": \"\"}}, \"type\": \"scattermapbox\"}], \"scatterpolar\": [{\"marker\": {\"colorbar\": {\"outlinewidth\": 0, \"ticks\": \"\"}}, \"type\": \"scatterpolar\"}], \"scatterpolargl\": [{\"marker\": {\"colorbar\": {\"outlinewidth\": 0, \"ticks\": \"\"}}, \"type\": \"scatterpolargl\"}], \"scatterternary\": [{\"marker\": {\"colorbar\": {\"outlinewidth\": 0, \"ticks\": \"\"}}, \"type\": \"scatterternary\"}], \"surface\": [{\"colorbar\": {\"outlinewidth\": 0, \"ticks\": \"\"}, \"colorscale\": [[0.0, \"#0d0887\"], [0.1111111111111111, \"#46039f\"], [0.2222222222222222, \"#7201a8\"], [0.3333333333333333, \"#9c179e\"], [0.4444444444444444, \"#bd3786\"], [0.5555555555555556, \"#d8576b\"], [0.6666666666666666, \"#ed7953\"], [0.7777777777777778, \"#fb9f3a\"], [0.8888888888888888, \"#fdca26\"], [1.0, \"#f0f921\"]], \"type\": \"surface\"}], \"table\": [{\"cells\": {\"fill\": {\"color\": \"#EBF0F8\"}, \"line\": {\"color\": \"white\"}}, \"header\": {\"fill\": {\"color\": \"#C8D4E3\"}, \"line\": {\"color\": \"white\"}}, \"type\": \"table\"}]}, \"layout\": {\"annotationdefaults\": {\"arrowcolor\": \"#2a3f5f\", \"arrowhead\": 0, \"arrowwidth\": 1}, \"coloraxis\": {\"colorbar\": {\"outlinewidth\": 0, \"ticks\": \"\"}}, \"colorscale\": {\"diverging\": [[0, \"#8e0152\"], [0.1, \"#c51b7d\"], [0.2, \"#de77ae\"], [0.3, \"#f1b6da\"], [0.4, \"#fde0ef\"], [0.5, \"#f7f7f7\"], [0.6, \"#e6f5d0\"], [0.7, \"#b8e186\"], [0.8, \"#7fbc41\"], [0.9, \"#4d9221\"], [1, \"#276419\"]], \"sequential\": [[0.0, \"#0d0887\"], [0.1111111111111111, \"#46039f\"], [0.2222222222222222, \"#7201a8\"], [0.3333333333333333, \"#9c179e\"], [0.4444444444444444, \"#bd3786\"], [0.5555555555555556, \"#d8576b\"], [0.6666666666666666, \"#ed7953\"], [0.7777777777777778, \"#fb9f3a\"], [0.8888888888888888, \"#fdca26\"], [1.0, \"#f0f921\"]], \"sequentialminus\": [[0.0, \"#0d0887\"], [0.1111111111111111, \"#46039f\"], [0.2222222222222222, \"#7201a8\"], [0.3333333333333333, \"#9c179e\"], [0.4444444444444444, \"#bd3786\"], [0.5555555555555556, \"#d8576b\"], [0.6666666666666666, \"#ed7953\"], [0.7777777777777778, \"#fb9f3a\"], [0.8888888888888888, \"#fdca26\"], [1.0, \"#f0f921\"]]}, \"colorway\": [\"#636efa\", \"#EF553B\", \"#00cc96\", \"#ab63fa\", \"#FFA15A\", \"#19d3f3\", \"#FF6692\", \"#B6E880\", \"#FF97FF\", \"#FECB52\"], \"font\": {\"color\": \"#2a3f5f\"}, \"geo\": {\"bgcolor\": \"white\", \"lakecolor\": \"white\", \"landcolor\": \"#E5ECF6\", \"showlakes\": true, \"showland\": true, \"subunitcolor\": \"white\"}, \"hoverlabel\": {\"align\": \"left\"}, \"hovermode\": \"closest\", \"mapbox\": {\"style\": \"light\"}, \"paper_bgcolor\": \"white\", \"plot_bgcolor\": \"#E5ECF6\", \"polar\": {\"angularaxis\": {\"gridcolor\": \"white\", \"linecolor\": \"white\", \"ticks\": \"\"}, \"bgcolor\": \"#E5ECF6\", \"radialaxis\": {\"gridcolor\": \"white\", \"linecolor\": \"white\", \"ticks\": \"\"}}, \"scene\": {\"xaxis\": {\"backgroundcolor\": \"#E5ECF6\", \"gridcolor\": \"white\", \"gridwidth\": 2, \"linecolor\": \"white\", \"showbackground\": true, \"ticks\": \"\", \"zerolinecolor\": \"white\"}, \"yaxis\": {\"backgroundcolor\": \"#E5ECF6\", \"gridcolor\": \"white\", \"gridwidth\": 2, \"linecolor\": \"white\", \"showbackground\": true, \"ticks\": \"\", \"zerolinecolor\": \"white\"}, \"zaxis\": {\"backgroundcolor\": \"#E5ECF6\", \"gridcolor\": \"white\", \"gridwidth\": 2, \"linecolor\": \"white\", \"showbackground\": true, \"ticks\": \"\", \"zerolinecolor\": \"white\"}}, \"shapedefaults\": {\"line\": {\"color\": \"#2a3f5f\"}}, \"ternary\": {\"aaxis\": {\"gridcolor\": \"white\", \"linecolor\": \"white\", \"ticks\": \"\"}, \"baxis\": {\"gridcolor\": \"white\", \"linecolor\": \"white\", \"ticks\": \"\"}, \"bgcolor\": \"#E5ECF6\", \"caxis\": {\"gridcolor\": \"white\", \"linecolor\": \"white\", \"ticks\": \"\"}}, \"title\": {\"x\": 0.05}, \"xaxis\": {\"automargin\": true, \"gridcolor\": \"white\", \"linecolor\": \"white\", \"ticks\": \"\", \"title\": {\"standoff\": 15}, \"zerolinecolor\": \"white\", \"zerolinewidth\": 2}, \"yaxis\": {\"automargin\": true, \"gridcolor\": \"white\", \"linecolor\": \"white\", \"ticks\": \"\", \"title\": {\"standoff\": 15}, \"zerolinecolor\": \"white\", \"zerolinewidth\": 2}}}, \"xaxis\": {\"anchor\": \"y\", \"categoryarray\": [\"Drama\", \"Comedy\", \"Thriller\", \"Action\", \"Romance\", \"Adventure\", \"Crime\", \"Science Fiction\", \"Horror\", \"Family\", \"Fantasy\", \"Mystery\", \"Animation\", \"History\", \"Music\", \"War\", \"Documentary\", \"Western\", \"Foreign\", \"TV Movie\"], \"categoryorder\": \"array\", \"domain\": [0.0, 1.0], \"title\": {\"text\": \"Generos\"}}, \"yaxis\": {\"anchor\": \"x\", \"domain\": [0.0, 1.0], \"title\": {\"text\": \"Contagem\"}}},\n",
       "                        {\"responsive\": true}\n",
       "                    ).then(function(){\n",
       "                            \n",
       "var gd = document.getElementById('b81537ba-33d8-485d-92c2-bf9a7c54ceaf');\n",
       "var x = new MutationObserver(function (mutations, observer) {{\n",
       "        var display = window.getComputedStyle(gd).display;\n",
       "        if (!display || display === 'none') {{\n",
       "            console.log([gd, 'removed!']);\n",
       "            Plotly.purge(gd);\n",
       "            observer.disconnect();\n",
       "        }}\n",
       "}});\n",
       "\n",
       "// Listen for the removal of the full notebook cells\n",
       "var notebookContainer = gd.closest('#notebook-container');\n",
       "if (notebookContainer) {{\n",
       "    x.observe(notebookContainer, {childList: true});\n",
       "}}\n",
       "\n",
       "// Listen for the clearing of the current output cell\n",
       "var outputEl = gd.closest('.output');\n",
       "if (outputEl) {{\n",
       "    x.observe(outputEl, {childList: true});\n",
       "}}\n",
       "\n",
       "                        })\n",
       "                };\n",
       "                \n",
       "            </script>\n",
       "        </div>\n",
       "</body>\n",
       "</html>"
      ]
     },
     "metadata": {
      "tags": []
     },
     "output_type": "display_data"
    }
   ],
   "source": [
    "genre_counts = gen_md.genre.value_counts()\n",
    "genre_df = pd.DataFrame({'Generos':genre_counts.index,\"Contagem\":genre_counts.values})\n",
    "fig = px.bar(data_frame=genre_df[:20],x=\"Generos\",y=\"Contagem\",color=\"Generos\")\n",
    "fig.show()"
   ]
  },
  {
   "cell_type": "code",
   "execution_count": null,
   "metadata": {
    "colab": {
     "base_uri": "https://localhost:8080/",
     "height": 348
    },
    "colab_type": "code",
    "executionInfo": {
     "elapsed": 2819,
     "status": "ok",
     "timestamp": 1599184122779,
     "user": {
      "displayName": "Igor Cavalcanti",
      "photoUrl": "https://lh3.googleusercontent.com/a-/AOh14GgPu-bvlxQap1lJcqw5fk-8WeA_1lh_4JAVU0ZP=s64",
      "userId": "00750051097913617266"
     },
     "user_tz": 180
    },
    "id": "pUEDQwBBt6QK",
    "outputId": "0b342f26-37ba-4400-ed2f-031294b3eaac"
   },
   "outputs": [
    {
     "data": {
      "text/html": [
       "<div>\n",
       "<style scoped>\n",
       "    .dataframe tbody tr th:only-of-type {\n",
       "        vertical-align: middle;\n",
       "    }\n",
       "\n",
       "    .dataframe tbody tr th {\n",
       "        vertical-align: top;\n",
       "    }\n",
       "\n",
       "    .dataframe thead th {\n",
       "        text-align: right;\n",
       "    }\n",
       "</style>\n",
       "<table border=\"1\" class=\"dataframe\">\n",
       "  <thead>\n",
       "    <tr style=\"text-align: right;\">\n",
       "      <th></th>\n",
       "      <th>budget</th>\n",
       "      <th>title</th>\n",
       "    </tr>\n",
       "  </thead>\n",
       "  <tbody>\n",
       "    <tr>\n",
       "      <th>17</th>\n",
       "      <td>380000000</td>\n",
       "      <td>Pirates of the Caribbean: On Stranger Tides</td>\n",
       "    </tr>\n",
       "    <tr>\n",
       "      <th>1</th>\n",
       "      <td>300000000</td>\n",
       "      <td>Pirates of the Caribbean: At World's End</td>\n",
       "    </tr>\n",
       "    <tr>\n",
       "      <th>7</th>\n",
       "      <td>280000000</td>\n",
       "      <td>Avengers: Age of Ultron</td>\n",
       "    </tr>\n",
       "    <tr>\n",
       "      <th>10</th>\n",
       "      <td>270000000</td>\n",
       "      <td>Superman Returns</td>\n",
       "    </tr>\n",
       "    <tr>\n",
       "      <th>4</th>\n",
       "      <td>260000000</td>\n",
       "      <td>John Carter</td>\n",
       "    </tr>\n",
       "    <tr>\n",
       "      <th>6</th>\n",
       "      <td>260000000</td>\n",
       "      <td>Tangled</td>\n",
       "    </tr>\n",
       "    <tr>\n",
       "      <th>5</th>\n",
       "      <td>258000000</td>\n",
       "      <td>Spider-Man 3</td>\n",
       "    </tr>\n",
       "    <tr>\n",
       "      <th>13</th>\n",
       "      <td>255000000</td>\n",
       "      <td>The Lone Ranger</td>\n",
       "    </tr>\n",
       "    <tr>\n",
       "      <th>46</th>\n",
       "      <td>250000000</td>\n",
       "      <td>X-Men: Days of Future Past</td>\n",
       "    </tr>\n",
       "    <tr>\n",
       "      <th>22</th>\n",
       "      <td>250000000</td>\n",
       "      <td>The Hobbit: The Desolation of Smaug</td>\n",
       "    </tr>\n",
       "  </tbody>\n",
       "</table>\n",
       "</div>"
      ],
      "text/plain": [
       "       budget                                        title\n",
       "17  380000000  Pirates of the Caribbean: On Stranger Tides\n",
       "1   300000000     Pirates of the Caribbean: At World's End\n",
       "7   280000000                      Avengers: Age of Ultron\n",
       "10  270000000                             Superman Returns\n",
       "4   260000000                                  John Carter\n",
       "6   260000000                                      Tangled\n",
       "5   258000000                                 Spider-Man 3\n",
       "13  255000000                              The Lone Ranger\n",
       "46  250000000                   X-Men: Days of Future Past\n",
       "22  250000000          The Hobbit: The Desolation of Smaug"
      ]
     },
     "execution_count": 26,
     "metadata": {
      "tags": []
     },
     "output_type": "execute_result"
    }
   ],
   "source": [
    "budget_analysis = tmdb.sort_values(by=\"budget\",ascending=False)\n",
    "budget_analysis[[\"budget\",'title']].head(10)"
   ]
  },
  {
   "cell_type": "code",
   "execution_count": 9,
   "metadata": {
    "colab": {
     "base_uri": "https://localhost:8080/",
     "height": 198
    },
    "colab_type": "code",
    "executionInfo": {
     "elapsed": 1941,
     "status": "ok",
     "timestamp": 1599264419668,
     "user": {
      "displayName": "Igor Cavalcanti",
      "photoUrl": "https://lh3.googleusercontent.com/a-/AOh14GgPu-bvlxQap1lJcqw5fk-8WeA_1lh_4JAVU0ZP=s64",
      "userId": "00750051097913617266"
     },
     "user_tz": 180
    },
    "id": "0EZQ0tvst6QN",
    "outputId": "c02cf5ee-4f3e-4b76-cdb8-5d45ac4c83c6"
   },
   "outputs": [
    {
     "data": {
      "text/html": [
       "<div>\n",
       "<style scoped>\n",
       "    .dataframe tbody tr th:only-of-type {\n",
       "        vertical-align: middle;\n",
       "    }\n",
       "\n",
       "    .dataframe tbody tr th {\n",
       "        vertical-align: top;\n",
       "    }\n",
       "\n",
       "    .dataframe thead th {\n",
       "        text-align: right;\n",
       "    }\n",
       "</style>\n",
       "<table border=\"1\" class=\"dataframe\">\n",
       "  <thead>\n",
       "    <tr style=\"text-align: right;\">\n",
       "      <th></th>\n",
       "      <th>movie_id</th>\n",
       "      <th>title</th>\n",
       "      <th>cast</th>\n",
       "      <th>crew</th>\n",
       "    </tr>\n",
       "  </thead>\n",
       "  <tbody>\n",
       "    <tr>\n",
       "      <th>0</th>\n",
       "      <td>19995</td>\n",
       "      <td>Avatar</td>\n",
       "      <td>[{\"cast_id\": 242, \"character\": \"Jake Sully\", \"...</td>\n",
       "      <td>[{\"credit_id\": \"52fe48009251416c750aca23\", \"de...</td>\n",
       "    </tr>\n",
       "    <tr>\n",
       "      <th>1</th>\n",
       "      <td>285</td>\n",
       "      <td>Pirates of the Caribbean: At World's End</td>\n",
       "      <td>[{\"cast_id\": 4, \"character\": \"Captain Jack Spa...</td>\n",
       "      <td>[{\"credit_id\": \"52fe4232c3a36847f800b579\", \"de...</td>\n",
       "    </tr>\n",
       "    <tr>\n",
       "      <th>2</th>\n",
       "      <td>206647</td>\n",
       "      <td>Spectre</td>\n",
       "      <td>[{\"cast_id\": 1, \"character\": \"James Bond\", \"cr...</td>\n",
       "      <td>[{\"credit_id\": \"54805967c3a36829b5002c41\", \"de...</td>\n",
       "    </tr>\n",
       "    <tr>\n",
       "      <th>3</th>\n",
       "      <td>49026</td>\n",
       "      <td>The Dark Knight Rises</td>\n",
       "      <td>[{\"cast_id\": 2, \"character\": \"Bruce Wayne / Ba...</td>\n",
       "      <td>[{\"credit_id\": \"52fe4781c3a36847f81398c3\", \"de...</td>\n",
       "    </tr>\n",
       "    <tr>\n",
       "      <th>4</th>\n",
       "      <td>49529</td>\n",
       "      <td>John Carter</td>\n",
       "      <td>[{\"cast_id\": 5, \"character\": \"John Carter\", \"c...</td>\n",
       "      <td>[{\"credit_id\": \"52fe479ac3a36847f813eaa3\", \"de...</td>\n",
       "    </tr>\n",
       "  </tbody>\n",
       "</table>\n",
       "</div>"
      ],
      "text/plain": [
       "   movie_id                                     title  \\\n",
       "0     19995                                    Avatar   \n",
       "1       285  Pirates of the Caribbean: At World's End   \n",
       "2    206647                                   Spectre   \n",
       "3     49026                     The Dark Knight Rises   \n",
       "4     49529                               John Carter   \n",
       "\n",
       "                                                cast  \\\n",
       "0  [{\"cast_id\": 242, \"character\": \"Jake Sully\", \"...   \n",
       "1  [{\"cast_id\": 4, \"character\": \"Captain Jack Spa...   \n",
       "2  [{\"cast_id\": 1, \"character\": \"James Bond\", \"cr...   \n",
       "3  [{\"cast_id\": 2, \"character\": \"Bruce Wayne / Ba...   \n",
       "4  [{\"cast_id\": 5, \"character\": \"John Carter\", \"c...   \n",
       "\n",
       "                                                crew  \n",
       "0  [{\"credit_id\": \"52fe48009251416c750aca23\", \"de...  \n",
       "1  [{\"credit_id\": \"52fe4232c3a36847f800b579\", \"de...  \n",
       "2  [{\"credit_id\": \"54805967c3a36829b5002c41\", \"de...  \n",
       "3  [{\"credit_id\": \"52fe4781c3a36847f81398c3\", \"de...  \n",
       "4  [{\"credit_id\": \"52fe479ac3a36847f813eaa3\", \"de...  "
      ]
     },
     "execution_count": 9,
     "metadata": {
      "tags": []
     },
     "output_type": "execute_result"
    }
   ],
   "source": [
    "credits = pd.read_csv('/content/drive/My Drive/TCCDataScience/datasets/tmdb_5000_credits.csv') \n",
    "credits.head()"
   ]
  },
  {
   "cell_type": "code",
   "execution_count": null,
   "metadata": {
    "colab": {},
    "colab_type": "code",
    "id": "ZlDdpL2Lt6QQ"
   },
   "outputs": [],
   "source": [
    "# links_small = pd.read_csv('/kaggle/input/the-movies-dataset/links_small.csv')\n",
    "# links_small = links_small[links_small['tmdbId'].notnull()]['tmdbId'].astype('int')"
   ]
  },
  {
   "cell_type": "code",
   "execution_count": null,
   "metadata": {
    "colab": {},
    "colab_type": "code",
    "id": "OXRsVZqst6QS"
   },
   "outputs": [],
   "source": [
    "# ratings = pd.read_csv(\"/kaggle/input/the-movies-dataset/ratings.csv\")\n",
    "# ratings.head()"
   ]
  },
  {
   "cell_type": "code",
   "execution_count": null,
   "metadata": {
    "colab": {},
    "colab_type": "code",
    "id": "3p4cnp3vt6QU"
   },
   "outputs": [],
   "source": [
    "# link_small = link_small[link_small['tmdbId'].notnull()]['tmdbId'].astype('int')\n",
    "# meta_data = meta_data.drop([19730, 29503, 35587])"
   ]
  },
  {
   "cell_type": "code",
   "execution_count": null,
   "metadata": {
    "colab": {},
    "colab_type": "code",
    "id": "eBWzG6rCt6QW"
   },
   "outputs": [],
   "source": [
    "tmdb['id'] = tmdb['id'].astype('int')"
   ]
  },
  {
   "cell_type": "code",
   "execution_count": null,
   "metadata": {
    "colab": {},
    "colab_type": "code",
    "id": "mmiQ52nat6QX"
   },
   "outputs": [],
   "source": [
    "# smd = tmdb[tmdb['id'].isin(links_small)]\n",
    "# smd.shape"
   ]
  },
  {
   "cell_type": "code",
   "execution_count": null,
   "metadata": {
    "colab": {},
    "colab_type": "code",
    "id": "wfCAeqZTt6Qa"
   },
   "outputs": [],
   "source": [
    "# smd['tagline'] = smd['tagline'].fillna('')\n",
    "# smd['description'] = smd['overview']\n",
    "# smd['description'] = smd['description'].fillna('')\n"
   ]
  },
  {
   "cell_type": "code",
   "execution_count": 10,
   "metadata": {
    "colab": {},
    "colab_type": "code",
    "executionInfo": {
     "elapsed": 809,
     "status": "ok",
     "timestamp": 1599264422569,
     "user": {
      "displayName": "Igor Cavalcanti",
      "photoUrl": "https://lh3.googleusercontent.com/a-/AOh14GgPu-bvlxQap1lJcqw5fk-8WeA_1lh_4JAVU0ZP=s64",
      "userId": "00750051097913617266"
     },
     "user_tz": 180
    },
    "id": "1FXxi0tlt6Qe"
   },
   "outputs": [],
   "source": [
    "from sklearn.feature_extraction.text import TfidfVectorizer, CountVectorizer\n",
    "from sklearn.metrics.pairwise import linear_kernel, cosine_similarity\n",
    "from nltk.stem.snowball import SnowballStemmer\n",
    "from nltk.stem.wordnet import WordNetLemmatizer\n",
    "from nltk.corpus import wordnet\n",
    "# from surprise import Reader, Dataset, SVD, evaluate"
   ]
  },
  {
   "cell_type": "code",
   "execution_count": 11,
   "metadata": {
    "colab": {},
    "colab_type": "code",
    "executionInfo": {
     "elapsed": 681,
     "status": "ok",
     "timestamp": 1599264423508,
     "user": {
      "displayName": "Igor Cavalcanti",
      "photoUrl": "https://lh3.googleusercontent.com/a-/AOh14GgPu-bvlxQap1lJcqw5fk-8WeA_1lh_4JAVU0ZP=s64",
      "userId": "00750051097913617266"
     },
     "user_tz": 180
    },
    "id": "FqM5vBpMt6Qg"
   },
   "outputs": [],
   "source": [
    "# smd.overview.head()"
   ]
  },
  {
   "cell_type": "code",
   "execution_count": 12,
   "metadata": {
    "colab": {},
    "colab_type": "code",
    "executionInfo": {
     "elapsed": 978,
     "status": "ok",
     "timestamp": 1599264424172,
     "user": {
      "displayName": "Igor Cavalcanti",
      "photoUrl": "https://lh3.googleusercontent.com/a-/AOh14GgPu-bvlxQap1lJcqw5fk-8WeA_1lh_4JAVU0ZP=s64",
      "userId": "00750051097913617266"
     },
     "user_tz": 180
    },
    "id": "_swvVD5Kt6Qi"
   },
   "outputs": [],
   "source": [
    "#  tf = TfidfVectorizer(analyzer='word',ngram_range=(1, 2),min_df=0, stop_words='english')\n",
    "#  tfidf_matrix = tf.fit_transform(smd['description'])\n",
    "# print(tfidf_matrix.shape)"
   ]
  },
  {
   "cell_type": "markdown",
   "metadata": {
    "colab_type": "text",
    "id": "XYqaTMzHt6Qk"
   },
   "source": [
    "Since we have used the TF-IDF vectorizer, calculating the dot product will directly give us the cosine similarity score. Therefore, we will use sklearn's linear_kernel() instead of cosine_similarities() since it is faster."
   ]
  },
  {
   "cell_type": "code",
   "execution_count": null,
   "metadata": {
    "colab": {},
    "colab_type": "code",
    "id": "Wd77gC7it6Qk"
   },
   "outputs": [],
   "source": [
    "# cosine_sim = linear_kernel(tfidf_matrix, tfidf_matrix)"
   ]
  },
  {
   "cell_type": "code",
   "execution_count": null,
   "metadata": {
    "colab": {},
    "colab_type": "code",
    "id": "WwJjdE8tt6Qn"
   },
   "outputs": [],
   "source": [
    "# smd = smd.reset_index()\n",
    "# titles = smd['title']\n",
    "# indices = pd.Series(smd.index, index=smd['title'])"
   ]
  },
  {
   "cell_type": "code",
   "execution_count": null,
   "metadata": {
    "colab": {},
    "colab_type": "code",
    "id": "ouUFHJnCt6Qo"
   },
   "outputs": [],
   "source": [
    "# indices.head()"
   ]
  },
  {
   "cell_type": "code",
   "execution_count": null,
   "metadata": {
    "colab": {},
    "colab_type": "code",
    "id": "57j0bg34t6Qs"
   },
   "outputs": [],
   "source": [
    "# def get_recommendations(title):\n",
    "#     idx = indices[title]\n",
    "#     sim_scores = list(enumerate(cosine_sim[idx]))\n",
    "#     sim_scores = sorted(sim_scores, key=lambda x: x[1], reverse=True)\n",
    "#     sim_scores = sim_scores[1:11]\n",
    "#     movie_indices = [i[0] for i in sim_scores]\n",
    "#     return titles.iloc[movie_indices]"
   ]
  },
  {
   "cell_type": "code",
   "execution_count": null,
   "metadata": {
    "colab": {},
    "colab_type": "code",
    "id": "aCcR3k4ft6Qu"
   },
   "outputs": [],
   "source": [
    "# get_recommendations(\"The Godfather\").head(10)"
   ]
  },
  {
   "cell_type": "markdown",
   "metadata": {
    "colab_type": "text",
    "id": "Rq6vb9kTt6Qx"
   },
   "source": [
    "While our system has done a decent job of finding movies with similar plot descriptions, the quality of recommendations is not that great. \"The Dark Knight Rises\" returns all Batman movies while it is more likely that the people who liked that movie are more inclined to enjoy other Christopher Nolan movies. This is something that cannot be captured by the present system"
   ]
  },
  {
   "cell_type": "code",
   "execution_count": null,
   "metadata": {
    "colab": {},
    "colab_type": "code",
    "id": "qzDFyk2Ft6Qx"
   },
   "outputs": [],
   "source": [
    "# meta_data.head()"
   ]
  },
  {
   "cell_type": "markdown",
   "metadata": {
    "colab_type": "text",
    "id": "j-ASogSUt6Qy"
   },
   "source": [
    "# Genre Classification - MultiLabel Classification"
   ]
  },
  {
   "cell_type": "markdown",
   "metadata": {
    "colab_type": "text",
    "id": "aaEmuHQ6JImC"
   },
   "source": []
  },
  {
   "cell_type": "code",
   "execution_count": 13,
   "metadata": {
    "colab": {
     "base_uri": "https://localhost:8080/",
     "height": 452
    },
    "colab_type": "code",
    "executionInfo": {
     "elapsed": 1066,
     "status": "ok",
     "timestamp": 1599264432785,
     "user": {
      "displayName": "Igor Cavalcanti",
      "photoUrl": "https://lh3.googleusercontent.com/a-/AOh14GgPu-bvlxQap1lJcqw5fk-8WeA_1lh_4JAVU0ZP=s64",
      "userId": "00750051097913617266"
     },
     "user_tz": 180
    },
    "id": "dUhcfyopKIRR",
    "outputId": "39f6b329-7bf5-4c44-ee01-01bab26d416d"
   },
   "outputs": [
    {
     "data": {
      "text/html": [
       "<div>\n",
       "<style scoped>\n",
       "    .dataframe tbody tr th:only-of-type {\n",
       "        vertical-align: middle;\n",
       "    }\n",
       "\n",
       "    .dataframe tbody tr th {\n",
       "        vertical-align: top;\n",
       "    }\n",
       "\n",
       "    .dataframe thead th {\n",
       "        text-align: right;\n",
       "    }\n",
       "</style>\n",
       "<table border=\"1\" class=\"dataframe\">\n",
       "  <thead>\n",
       "    <tr style=\"text-align: right;\">\n",
       "      <th></th>\n",
       "      <th>budget</th>\n",
       "      <th>genres</th>\n",
       "      <th>homepage</th>\n",
       "      <th>id</th>\n",
       "      <th>keywords</th>\n",
       "      <th>original_language</th>\n",
       "      <th>original_title</th>\n",
       "      <th>overview</th>\n",
       "      <th>popularity</th>\n",
       "      <th>production_companies</th>\n",
       "      <th>production_countries</th>\n",
       "      <th>release_date</th>\n",
       "      <th>revenue</th>\n",
       "      <th>runtime</th>\n",
       "      <th>spoken_languages</th>\n",
       "      <th>status</th>\n",
       "      <th>tagline</th>\n",
       "      <th>title</th>\n",
       "      <th>vote_average</th>\n",
       "      <th>vote_count</th>\n",
       "      <th>keywords2</th>\n",
       "    </tr>\n",
       "  </thead>\n",
       "  <tbody>\n",
       "    <tr>\n",
       "      <th>0</th>\n",
       "      <td>237000000</td>\n",
       "      <td>[Action, Adventure, Fantasy, Science Fiction]</td>\n",
       "      <td>http://www.avatarmovie.com/</td>\n",
       "      <td>19995</td>\n",
       "      <td>[{\"id\": 1463, \"name\": \"culture clash\"}, {\"id\":...</td>\n",
       "      <td>en</td>\n",
       "      <td>Avatar</td>\n",
       "      <td>In the 22nd century, a paraplegic Marine is di...</td>\n",
       "      <td>150.437577</td>\n",
       "      <td>[{\"name\": \"Ingenious Film Partners\", \"id\": 289...</td>\n",
       "      <td>[{\"iso_3166_1\": \"US\", \"name\": \"United States o...</td>\n",
       "      <td>2009-12-10</td>\n",
       "      <td>2787965087</td>\n",
       "      <td>162.0</td>\n",
       "      <td>[{\"iso_639_1\": \"en\", \"name\": \"English\"}, {\"iso...</td>\n",
       "      <td>Released</td>\n",
       "      <td>Enter the World of Pandora.</td>\n",
       "      <td>Avatar</td>\n",
       "      <td>7.2</td>\n",
       "      <td>11800</td>\n",
       "      <td>[culture clash, future, space war, space colon...</td>\n",
       "    </tr>\n",
       "    <tr>\n",
       "      <th>1</th>\n",
       "      <td>300000000</td>\n",
       "      <td>[Adventure, Fantasy, Action]</td>\n",
       "      <td>http://disney.go.com/disneypictures/pirates/</td>\n",
       "      <td>285</td>\n",
       "      <td>[{\"id\": 270, \"name\": \"ocean\"}, {\"id\": 726, \"na...</td>\n",
       "      <td>en</td>\n",
       "      <td>Pirates of the Caribbean: At World's End</td>\n",
       "      <td>Captain Barbossa, long believed to be dead, ha...</td>\n",
       "      <td>139.082615</td>\n",
       "      <td>[{\"name\": \"Walt Disney Pictures\", \"id\": 2}, {\"...</td>\n",
       "      <td>[{\"iso_3166_1\": \"US\", \"name\": \"United States o...</td>\n",
       "      <td>2007-05-19</td>\n",
       "      <td>961000000</td>\n",
       "      <td>169.0</td>\n",
       "      <td>[{\"iso_639_1\": \"en\", \"name\": \"English\"}]</td>\n",
       "      <td>Released</td>\n",
       "      <td>At the end of the world, the adventure begins.</td>\n",
       "      <td>Pirates of the Caribbean: At World's End</td>\n",
       "      <td>6.9</td>\n",
       "      <td>4500</td>\n",
       "      <td>[ocean, drug abuse, exotic island, east india ...</td>\n",
       "    </tr>\n",
       "    <tr>\n",
       "      <th>2</th>\n",
       "      <td>245000000</td>\n",
       "      <td>[Action, Adventure, Crime]</td>\n",
       "      <td>http://www.sonypictures.com/movies/spectre/</td>\n",
       "      <td>206647</td>\n",
       "      <td>[{\"id\": 470, \"name\": \"spy\"}, {\"id\": 818, \"name...</td>\n",
       "      <td>en</td>\n",
       "      <td>Spectre</td>\n",
       "      <td>A cryptic message from Bond’s past sends him o...</td>\n",
       "      <td>107.376788</td>\n",
       "      <td>[{\"name\": \"Columbia Pictures\", \"id\": 5}, {\"nam...</td>\n",
       "      <td>[{\"iso_3166_1\": \"GB\", \"name\": \"United Kingdom\"...</td>\n",
       "      <td>2015-10-26</td>\n",
       "      <td>880674609</td>\n",
       "      <td>148.0</td>\n",
       "      <td>[{\"iso_639_1\": \"fr\", \"name\": \"Fran\\u00e7ais\"},...</td>\n",
       "      <td>Released</td>\n",
       "      <td>A Plan No One Escapes</td>\n",
       "      <td>Spectre</td>\n",
       "      <td>6.3</td>\n",
       "      <td>4466</td>\n",
       "      <td>[spy, based on novel, secret agent, sequel, mi...</td>\n",
       "    </tr>\n",
       "  </tbody>\n",
       "</table>\n",
       "</div>"
      ],
      "text/plain": [
       "      budget                                         genres  \\\n",
       "0  237000000  [Action, Adventure, Fantasy, Science Fiction]   \n",
       "1  300000000                   [Adventure, Fantasy, Action]   \n",
       "2  245000000                     [Action, Adventure, Crime]   \n",
       "\n",
       "                                       homepage      id  \\\n",
       "0                   http://www.avatarmovie.com/   19995   \n",
       "1  http://disney.go.com/disneypictures/pirates/     285   \n",
       "2   http://www.sonypictures.com/movies/spectre/  206647   \n",
       "\n",
       "                                            keywords original_language  \\\n",
       "0  [{\"id\": 1463, \"name\": \"culture clash\"}, {\"id\":...                en   \n",
       "1  [{\"id\": 270, \"name\": \"ocean\"}, {\"id\": 726, \"na...                en   \n",
       "2  [{\"id\": 470, \"name\": \"spy\"}, {\"id\": 818, \"name...                en   \n",
       "\n",
       "                             original_title  \\\n",
       "0                                    Avatar   \n",
       "1  Pirates of the Caribbean: At World's End   \n",
       "2                                   Spectre   \n",
       "\n",
       "                                            overview  popularity  \\\n",
       "0  In the 22nd century, a paraplegic Marine is di...  150.437577   \n",
       "1  Captain Barbossa, long believed to be dead, ha...  139.082615   \n",
       "2  A cryptic message from Bond’s past sends him o...  107.376788   \n",
       "\n",
       "                                production_companies  \\\n",
       "0  [{\"name\": \"Ingenious Film Partners\", \"id\": 289...   \n",
       "1  [{\"name\": \"Walt Disney Pictures\", \"id\": 2}, {\"...   \n",
       "2  [{\"name\": \"Columbia Pictures\", \"id\": 5}, {\"nam...   \n",
       "\n",
       "                                production_countries release_date     revenue  \\\n",
       "0  [{\"iso_3166_1\": \"US\", \"name\": \"United States o...   2009-12-10  2787965087   \n",
       "1  [{\"iso_3166_1\": \"US\", \"name\": \"United States o...   2007-05-19   961000000   \n",
       "2  [{\"iso_3166_1\": \"GB\", \"name\": \"United Kingdom\"...   2015-10-26   880674609   \n",
       "\n",
       "   runtime                                   spoken_languages    status  \\\n",
       "0    162.0  [{\"iso_639_1\": \"en\", \"name\": \"English\"}, {\"iso...  Released   \n",
       "1    169.0           [{\"iso_639_1\": \"en\", \"name\": \"English\"}]  Released   \n",
       "2    148.0  [{\"iso_639_1\": \"fr\", \"name\": \"Fran\\u00e7ais\"},...  Released   \n",
       "\n",
       "                                          tagline  \\\n",
       "0                     Enter the World of Pandora.   \n",
       "1  At the end of the world, the adventure begins.   \n",
       "2                           A Plan No One Escapes   \n",
       "\n",
       "                                      title  vote_average  vote_count  \\\n",
       "0                                    Avatar           7.2       11800   \n",
       "1  Pirates of the Caribbean: At World's End           6.9        4500   \n",
       "2                                   Spectre           6.3        4466   \n",
       "\n",
       "                                           keywords2  \n",
       "0  [culture clash, future, space war, space colon...  \n",
       "1  [ocean, drug abuse, exotic island, east india ...  \n",
       "2  [spy, based on novel, secret agent, sequel, mi...  "
      ]
     },
     "execution_count": 13,
     "metadata": {
      "tags": []
     },
     "output_type": "execute_result"
    }
   ],
   "source": [
    "tmdb['keywords2'] = tmdb['keywords'].fillna('[]').apply(literal_eval).apply(lambda x: [i['name'] for i in x] if isinstance(x, list) else [])\n",
    "tmdb.head(3)"
   ]
  },
  {
   "cell_type": "code",
   "execution_count": 14,
   "metadata": {
    "colab": {},
    "colab_type": "code",
    "executionInfo": {
     "elapsed": 792,
     "status": "ok",
     "timestamp": 1599264437887,
     "user": {
      "displayName": "Igor Cavalcanti",
      "photoUrl": "https://lh3.googleusercontent.com/a-/AOh14GgPu-bvlxQap1lJcqw5fk-8WeA_1lh_4JAVU0ZP=s64",
      "userId": "00750051097913617266"
     },
     "user_tz": 180
    },
    "id": "eY-GnAzdt6Qz"
   },
   "outputs": [],
   "source": [
    "title_df = tmdb[[\"overview\",\"genres\",\"title\", \"keywords2\"]]\n",
    "filmes_balanceados = title_df.copy(deep=True)"
   ]
  },
  {
   "cell_type": "code",
   "execution_count": 15,
   "metadata": {
    "colab": {},
    "colab_type": "code",
    "executionInfo": {
     "elapsed": 2031,
     "status": "ok",
     "timestamp": 1599264439769,
     "user": {
      "displayName": "Igor Cavalcanti",
      "photoUrl": "https://lh3.googleusercontent.com/a-/AOh14GgPu-bvlxQap1lJcqw5fk-8WeA_1lh_4JAVU0ZP=s64",
      "userId": "00750051097913617266"
     },
     "user_tz": 180
    },
    "id": "7xHGXI0S2S__"
   },
   "outputs": [],
   "source": [
    "lst_col = 'genres'\n",
    "\n",
    "filmes_balanceados2 = pd.DataFrame({\n",
    "      col:np.repeat(filmes_balanceados[col].values, filmes_balanceados[lst_col].str.len())\n",
    "      for col in filmes_balanceados.columns.drop(lst_col)}\n",
    "    ).assign(**{lst_col:np.concatenate(filmes_balanceados[lst_col].values)})[filmes_balanceados.columns]"
   ]
  },
  {
   "cell_type": "code",
   "execution_count": 16,
   "metadata": {
    "colab": {
     "base_uri": "https://localhost:8080/",
     "height": 198
    },
    "colab_type": "code",
    "executionInfo": {
     "elapsed": 1941,
     "status": "ok",
     "timestamp": 1599264440291,
     "user": {
      "displayName": "Igor Cavalcanti",
      "photoUrl": "https://lh3.googleusercontent.com/a-/AOh14GgPu-bvlxQap1lJcqw5fk-8WeA_1lh_4JAVU0ZP=s64",
      "userId": "00750051097913617266"
     },
     "user_tz": 180
    },
    "id": "qcj8RcVDt6Q1",
    "outputId": "95e40afc-f07f-4284-85cd-b0c19a5c56d7"
   },
   "outputs": [
    {
     "data": {
      "text/html": [
       "<div>\n",
       "<style scoped>\n",
       "    .dataframe tbody tr th:only-of-type {\n",
       "        vertical-align: middle;\n",
       "    }\n",
       "\n",
       "    .dataframe tbody tr th {\n",
       "        vertical-align: top;\n",
       "    }\n",
       "\n",
       "    .dataframe thead th {\n",
       "        text-align: right;\n",
       "    }\n",
       "</style>\n",
       "<table border=\"1\" class=\"dataframe\">\n",
       "  <thead>\n",
       "    <tr style=\"text-align: right;\">\n",
       "      <th></th>\n",
       "      <th>overview</th>\n",
       "      <th>genres</th>\n",
       "      <th>title</th>\n",
       "      <th>keywords2</th>\n",
       "    </tr>\n",
       "  </thead>\n",
       "  <tbody>\n",
       "    <tr>\n",
       "      <th>0</th>\n",
       "      <td>In the 22nd century, a paraplegic Marine is di...</td>\n",
       "      <td>[Action, Adventure, Fantasy, Science Fiction]</td>\n",
       "      <td>Avatar</td>\n",
       "      <td>[culture clash, future, space war, space colon...</td>\n",
       "    </tr>\n",
       "    <tr>\n",
       "      <th>1</th>\n",
       "      <td>Captain Barbossa, long believed to be dead, ha...</td>\n",
       "      <td>[Adventure, Fantasy, Action]</td>\n",
       "      <td>Pirates of the Caribbean: At World's End</td>\n",
       "      <td>[ocean, drug abuse, exotic island, east india ...</td>\n",
       "    </tr>\n",
       "    <tr>\n",
       "      <th>2</th>\n",
       "      <td>A cryptic message from Bond’s past sends him o...</td>\n",
       "      <td>[Action, Adventure, Crime]</td>\n",
       "      <td>Spectre</td>\n",
       "      <td>[spy, based on novel, secret agent, sequel, mi...</td>\n",
       "    </tr>\n",
       "    <tr>\n",
       "      <th>3</th>\n",
       "      <td>Following the death of District Attorney Harve...</td>\n",
       "      <td>[Action, Crime, Drama, Thriller]</td>\n",
       "      <td>The Dark Knight Rises</td>\n",
       "      <td>[dc comics, crime fighter, terrorist, secret i...</td>\n",
       "    </tr>\n",
       "    <tr>\n",
       "      <th>4</th>\n",
       "      <td>John Carter is a war-weary, former military ca...</td>\n",
       "      <td>[Action, Adventure, Science Fiction]</td>\n",
       "      <td>John Carter</td>\n",
       "      <td>[based on novel, mars, medallion, space travel...</td>\n",
       "    </tr>\n",
       "  </tbody>\n",
       "</table>\n",
       "</div>"
      ],
      "text/plain": [
       "                                            overview  \\\n",
       "0  In the 22nd century, a paraplegic Marine is di...   \n",
       "1  Captain Barbossa, long believed to be dead, ha...   \n",
       "2  A cryptic message from Bond’s past sends him o...   \n",
       "3  Following the death of District Attorney Harve...   \n",
       "4  John Carter is a war-weary, former military ca...   \n",
       "\n",
       "                                          genres  \\\n",
       "0  [Action, Adventure, Fantasy, Science Fiction]   \n",
       "1                   [Adventure, Fantasy, Action]   \n",
       "2                     [Action, Adventure, Crime]   \n",
       "3               [Action, Crime, Drama, Thriller]   \n",
       "4           [Action, Adventure, Science Fiction]   \n",
       "\n",
       "                                      title  \\\n",
       "0                                    Avatar   \n",
       "1  Pirates of the Caribbean: At World's End   \n",
       "2                                   Spectre   \n",
       "3                     The Dark Knight Rises   \n",
       "4                               John Carter   \n",
       "\n",
       "                                           keywords2  \n",
       "0  [culture clash, future, space war, space colon...  \n",
       "1  [ocean, drug abuse, exotic island, east india ...  \n",
       "2  [spy, based on novel, secret agent, sequel, mi...  \n",
       "3  [dc comics, crime fighter, terrorist, secret i...  \n",
       "4  [based on novel, mars, medallion, space travel...  "
      ]
     },
     "execution_count": 16,
     "metadata": {
      "tags": []
     },
     "output_type": "execute_result"
    }
   ],
   "source": [
    "title_df.head()"
   ]
  },
  {
   "cell_type": "code",
   "execution_count": 17,
   "metadata": {
    "colab": {
     "base_uri": "https://localhost:8080/",
     "height": 138
    },
    "colab_type": "code",
    "executionInfo": {
     "elapsed": 826,
     "status": "ok",
     "timestamp": 1599264442279,
     "user": {
      "displayName": "Igor Cavalcanti",
      "photoUrl": "https://lh3.googleusercontent.com/a-/AOh14GgPu-bvlxQap1lJcqw5fk-8WeA_1lh_4JAVU0ZP=s64",
      "userId": "00750051097913617266"
     },
     "user_tz": 180
    },
    "id": "vgWmioj-2f_7",
    "outputId": "4acd6833-99e9-44fe-9ae8-694402df174e"
   },
   "outputs": [
    {
     "data": {
      "text/html": [
       "<div>\n",
       "<style scoped>\n",
       "    .dataframe tbody tr th:only-of-type {\n",
       "        vertical-align: middle;\n",
       "    }\n",
       "\n",
       "    .dataframe tbody tr th {\n",
       "        vertical-align: top;\n",
       "    }\n",
       "\n",
       "    .dataframe thead th {\n",
       "        text-align: right;\n",
       "    }\n",
       "</style>\n",
       "<table border=\"1\" class=\"dataframe\">\n",
       "  <thead>\n",
       "    <tr style=\"text-align: right;\">\n",
       "      <th></th>\n",
       "      <th>overview</th>\n",
       "      <th>genres</th>\n",
       "      <th>title</th>\n",
       "      <th>keywords2</th>\n",
       "    </tr>\n",
       "  </thead>\n",
       "  <tbody>\n",
       "    <tr>\n",
       "      <th>12157</th>\n",
       "      <td>\"Signed, Sealed, Delivered\" introduces a dedic...</td>\n",
       "      <td>Romance</td>\n",
       "      <td>Signed, Sealed, Delivered</td>\n",
       "      <td>[date, love at first sight, narration, investi...</td>\n",
       "    </tr>\n",
       "    <tr>\n",
       "      <th>12158</th>\n",
       "      <td>\"Signed, Sealed, Delivered\" introduces a dedic...</td>\n",
       "      <td>TV Movie</td>\n",
       "      <td>Signed, Sealed, Delivered</td>\n",
       "      <td>[date, love at first sight, narration, investi...</td>\n",
       "    </tr>\n",
       "    <tr>\n",
       "      <th>12159</th>\n",
       "      <td>Ever since the second grade when he first saw ...</td>\n",
       "      <td>Documentary</td>\n",
       "      <td>My Date with Drew</td>\n",
       "      <td>[obsession, camcorder, crush, dream girl]</td>\n",
       "    </tr>\n",
       "  </tbody>\n",
       "</table>\n",
       "</div>"
      ],
      "text/plain": [
       "                                                overview       genres  \\\n",
       "12157  \"Signed, Sealed, Delivered\" introduces a dedic...      Romance   \n",
       "12158  \"Signed, Sealed, Delivered\" introduces a dedic...     TV Movie   \n",
       "12159  Ever since the second grade when he first saw ...  Documentary   \n",
       "\n",
       "                           title  \\\n",
       "12157  Signed, Sealed, Delivered   \n",
       "12158  Signed, Sealed, Delivered   \n",
       "12159          My Date with Drew   \n",
       "\n",
       "                                               keywords2  \n",
       "12157  [date, love at first sight, narration, investi...  \n",
       "12158  [date, love at first sight, narration, investi...  \n",
       "12159          [obsession, camcorder, crush, dream girl]  "
      ]
     },
     "execution_count": 17,
     "metadata": {
      "tags": []
     },
     "output_type": "execute_result"
    }
   ],
   "source": [
    "filmes_balanceados2.tail(3)"
   ]
  },
  {
   "cell_type": "code",
   "execution_count": 18,
   "metadata": {
    "colab": {
     "base_uri": "https://localhost:8080/",
     "height": 399
    },
    "colab_type": "code",
    "executionInfo": {
     "elapsed": 686,
     "status": "ok",
     "timestamp": 1599264442629,
     "user": {
      "displayName": "Igor Cavalcanti",
      "photoUrl": "https://lh3.googleusercontent.com/a-/AOh14GgPu-bvlxQap1lJcqw5fk-8WeA_1lh_4JAVU0ZP=s64",
      "userId": "00750051097913617266"
     },
     "user_tz": 180
    },
    "id": "HOdsuUeoJNnB",
    "outputId": "4b0db439-b3d0-44ad-8f99-697fe2c6e4f9"
   },
   "outputs": [
    {
     "data": {
      "text/plain": [
       "Drama              2297\n",
       "Comedy             1722\n",
       "Thriller           1274\n",
       "Action             1154\n",
       "Romance             894\n",
       "Adventure           790\n",
       "Crime               696\n",
       "Science Fiction     535\n",
       "Horror              519\n",
       "Family              513\n",
       "Fantasy             424\n",
       "Mystery             348\n",
       "Animation           234\n",
       "History             197\n",
       "Music               185\n",
       "War                 144\n",
       "Documentary         110\n",
       "Western              82\n",
       "Foreign              34\n",
       "TV Movie              8\n",
       "Name: genres, dtype: int64"
      ]
     },
     "execution_count": 18,
     "metadata": {
      "tags": []
     },
     "output_type": "execute_result"
    }
   ],
   "source": [
    "filmes_balanceados2['genres'].value_counts()"
   ]
  },
  {
   "cell_type": "code",
   "execution_count": 19,
   "metadata": {
    "colab": {},
    "colab_type": "code",
    "executionInfo": {
     "elapsed": 720,
     "status": "ok",
     "timestamp": 1599264443898,
     "user": {
      "displayName": "Igor Cavalcanti",
      "photoUrl": "https://lh3.googleusercontent.com/a-/AOh14GgPu-bvlxQap1lJcqw5fk-8WeA_1lh_4JAVU0ZP=s64",
      "userId": "00750051097913617266"
     },
     "user_tz": 180
    },
    "id": "QuqZxl8VJR_l"
   },
   "outputs": [],
   "source": [
    "from sklearn.utils import resample"
   ]
  },
  {
   "cell_type": "code",
   "execution_count": 20,
   "metadata": {
    "colab": {},
    "colab_type": "code",
    "executionInfo": {
     "elapsed": 677,
     "status": "ok",
     "timestamp": 1599264444499,
     "user": {
      "displayName": "Igor Cavalcanti",
      "photoUrl": "https://lh3.googleusercontent.com/a-/AOh14GgPu-bvlxQap1lJcqw5fk-8WeA_1lh_4JAVU0ZP=s64",
      "userId": "00750051097913617266"
     },
     "user_tz": 180
    },
    "id": "4Hcb-WPEJWl6"
   },
   "outputs": [],
   "source": [
    "df_Drama = filmes_balanceados2[filmes_balanceados2['genres']=='Drama']\n",
    "df_Comedy  = filmes_balanceados2[filmes_balanceados2['genres']=='Comedy']\n",
    "df_Thriller   = filmes_balanceados2[filmes_balanceados2['genres']=='Thriller']\n",
    "df_Action  = filmes_balanceados2[filmes_balanceados2['genres']=='Action']\n",
    "df_Romance   = filmes_balanceados2[filmes_balanceados2['genres']=='Romance']\n",
    "df_Adventure = filmes_balanceados2[filmes_balanceados2['genres']=='Adventure']\n",
    "df_Crime    = filmes_balanceados2[filmes_balanceados2['genres']=='Crime']\n",
    "df_Science_Fiction = filmes_balanceados2[filmes_balanceados2['genres']=='Science Fiction']\n",
    "df_Horror     = filmes_balanceados2[filmes_balanceados2['genres']=='Horror']\n",
    "df_Family           = filmes_balanceados2[filmes_balanceados2['genres']=='Family']\n",
    "df_Fantasy    = filmes_balanceados2[filmes_balanceados2['genres']=='Fantasy']\n",
    "df_Mystery      = filmes_balanceados2[filmes_balanceados2['genres']=='Mystery']\n",
    "df_Animation   = filmes_balanceados2[filmes_balanceados2['genres']=='Animation']\n",
    "df_History       = filmes_balanceados2[filmes_balanceados2['genres']=='History']\n",
    "df_Music         = filmes_balanceados2[filmes_balanceados2['genres']=='Music']\n",
    "df_War        = filmes_balanceados2[filmes_balanceados2['genres']=='War']\n",
    "df_Documentary  = filmes_balanceados2[filmes_balanceados2['genres']=='Documentary']\n",
    "df_Western     = filmes_balanceados2[filmes_balanceados2['genres']=='Western']\n",
    "df_Foreign     = filmes_balanceados2[filmes_balanceados2['genres']=='Foreign']\n",
    "df_TV_Movie  = filmes_balanceados2[filmes_balanceados2['genres']=='TV Movie']"
   ]
  },
  {
   "cell_type": "code",
   "execution_count": 21,
   "metadata": {
    "colab": {
     "base_uri": "https://localhost:8080/",
     "height": 198
    },
    "colab_type": "code",
    "executionInfo": {
     "elapsed": 719,
     "status": "ok",
     "timestamp": 1599264447010,
     "user": {
      "displayName": "Igor Cavalcanti",
      "photoUrl": "https://lh3.googleusercontent.com/a-/AOh14GgPu-bvlxQap1lJcqw5fk-8WeA_1lh_4JAVU0ZP=s64",
      "userId": "00750051097913617266"
     },
     "user_tz": 180
    },
    "id": "DDM4k38XKhQD",
    "outputId": "be82284e-7651-4d58-a612-a2e04b5ebc62"
   },
   "outputs": [
    {
     "data": {
      "text/html": [
       "<div>\n",
       "<style scoped>\n",
       "    .dataframe tbody tr th:only-of-type {\n",
       "        vertical-align: middle;\n",
       "    }\n",
       "\n",
       "    .dataframe tbody tr th {\n",
       "        vertical-align: top;\n",
       "    }\n",
       "\n",
       "    .dataframe thead th {\n",
       "        text-align: right;\n",
       "    }\n",
       "</style>\n",
       "<table border=\"1\" class=\"dataframe\">\n",
       "  <thead>\n",
       "    <tr style=\"text-align: right;\">\n",
       "      <th></th>\n",
       "      <th>overview</th>\n",
       "      <th>genres</th>\n",
       "      <th>title</th>\n",
       "      <th>keywords2</th>\n",
       "    </tr>\n",
       "  </thead>\n",
       "  <tbody>\n",
       "    <tr>\n",
       "      <th>59</th>\n",
       "      <td>Agents J (Will Smith) and K (Tommy Lee Jones) ...</td>\n",
       "      <td>Comedy</td>\n",
       "      <td>Men in Black 3</td>\n",
       "      <td>[time travel, time machine, alien, fictional g...</td>\n",
       "    </tr>\n",
       "    <tr>\n",
       "      <th>126</th>\n",
       "      <td>Star race car Lightning McQueen and his pal Ma...</td>\n",
       "      <td>Comedy</td>\n",
       "      <td>Cars 2</td>\n",
       "      <td>[car race, sequel, comedy, anthropomorphism, b...</td>\n",
       "    </tr>\n",
       "    <tr>\n",
       "      <th>133</th>\n",
       "      <td>Woody, Buzz, and the rest of Andy's toys haven...</td>\n",
       "      <td>Comedy</td>\n",
       "      <td>Toy Story 3</td>\n",
       "      <td>[hostage, college, toy, barbie, animation, esc...</td>\n",
       "    </tr>\n",
       "    <tr>\n",
       "      <th>172</th>\n",
       "      <td>Brave is set in the mystical Scottish Highland...</td>\n",
       "      <td>Comedy</td>\n",
       "      <td>Brave</td>\n",
       "      <td>[scotland, rebel, bravery, kingdom, archer, wi...</td>\n",
       "    </tr>\n",
       "    <tr>\n",
       "      <th>182</th>\n",
       "      <td>After an attempted assassination on Ambassador...</td>\n",
       "      <td>Comedy</td>\n",
       "      <td>Rush Hour 3</td>\n",
       "      <td>[ambassador]</td>\n",
       "    </tr>\n",
       "  </tbody>\n",
       "</table>\n",
       "</div>"
      ],
      "text/plain": [
       "                                              overview  genres  \\\n",
       "59   Agents J (Will Smith) and K (Tommy Lee Jones) ...  Comedy   \n",
       "126  Star race car Lightning McQueen and his pal Ma...  Comedy   \n",
       "133  Woody, Buzz, and the rest of Andy's toys haven...  Comedy   \n",
       "172  Brave is set in the mystical Scottish Highland...  Comedy   \n",
       "182  After an attempted assassination on Ambassador...  Comedy   \n",
       "\n",
       "              title                                          keywords2  \n",
       "59   Men in Black 3  [time travel, time machine, alien, fictional g...  \n",
       "126          Cars 2  [car race, sequel, comedy, anthropomorphism, b...  \n",
       "133     Toy Story 3  [hostage, college, toy, barbie, animation, esc...  \n",
       "172           Brave  [scotland, rebel, bravery, kingdom, archer, wi...  \n",
       "182     Rush Hour 3                                       [ambassador]  "
      ]
     },
     "execution_count": 21,
     "metadata": {
      "tags": []
     },
     "output_type": "execute_result"
    }
   ],
   "source": [
    "df_Comedy.head()"
   ]
  },
  {
   "cell_type": "code",
   "execution_count": 22,
   "metadata": {
    "colab": {},
    "colab_type": "code",
    "executionInfo": {
     "elapsed": 615,
     "status": "ok",
     "timestamp": 1599264448288,
     "user": {
      "displayName": "Igor Cavalcanti",
      "photoUrl": "https://lh3.googleusercontent.com/a-/AOh14GgPu-bvlxQap1lJcqw5fk-8WeA_1lh_4JAVU0ZP=s64",
      "userId": "00750051097913617266"
     },
     "user_tz": 180
    },
    "id": "wBXmxuKeKdmt"
   },
   "outputs": [],
   "source": [
    " \n",
    "df_Comedy  = resample(df_Comedy, \n",
    "                                 replace=True,     # sample with replacement\n",
    "                                 n_samples=2297,    # to match majority class\n",
    "                                 random_state=123)\n",
    "df_Thriller   = resample(df_Thriller, \n",
    "                                 replace=True,     # sample with replacement\n",
    "                                 n_samples=2297,    # to match majority class\n",
    "                                 random_state=123)\n"
   ]
  },
  {
   "cell_type": "code",
   "execution_count": null,
   "metadata": {
    "colab": {
     "base_uri": "https://localhost:8080/",
     "height": 198
    },
    "colab_type": "code",
    "executionInfo": {
     "elapsed": 852,
     "status": "ok",
     "timestamp": 1599192522946,
     "user": {
      "displayName": "Igor Cavalcanti",
      "photoUrl": "https://lh3.googleusercontent.com/a-/AOh14GgPu-bvlxQap1lJcqw5fk-8WeA_1lh_4JAVU0ZP=s64",
      "userId": "00750051097913617266"
     },
     "user_tz": 180
    },
    "id": "CyjqYG0PQzyR",
    "outputId": "43e3667e-8ad3-48b0-8592-b712baad0285"
   },
   "outputs": [
    {
     "data": {
      "text/html": [
       "<div>\n",
       "<style scoped>\n",
       "    .dataframe tbody tr th:only-of-type {\n",
       "        vertical-align: middle;\n",
       "    }\n",
       "\n",
       "    .dataframe tbody tr th {\n",
       "        vertical-align: top;\n",
       "    }\n",
       "\n",
       "    .dataframe thead th {\n",
       "        text-align: right;\n",
       "    }\n",
       "</style>\n",
       "<table border=\"1\" class=\"dataframe\">\n",
       "  <thead>\n",
       "    <tr style=\"text-align: right;\">\n",
       "      <th></th>\n",
       "      <th>overview</th>\n",
       "      <th>genres</th>\n",
       "      <th>title</th>\n",
       "      <th>keywords2</th>\n",
       "      <th>movieId</th>\n",
       "    </tr>\n",
       "  </thead>\n",
       "  <tbody>\n",
       "    <tr>\n",
       "      <th>3582</th>\n",
       "      <td>NaN</td>\n",
       "      <td>Comedy</td>\n",
       "      <td>NaN</td>\n",
       "      <td>NaN</td>\n",
       "      <td>3582</td>\n",
       "    </tr>\n",
       "    <tr>\n",
       "      <th>11646</th>\n",
       "      <td>NaN</td>\n",
       "      <td>NaN</td>\n",
       "      <td>NaN</td>\n",
       "      <td>NaN</td>\n",
       "      <td>11646</td>\n",
       "    </tr>\n",
       "    <tr>\n",
       "      <th>1346</th>\n",
       "      <td>NaN</td>\n",
       "      <td>NaN</td>\n",
       "      <td>NaN</td>\n",
       "      <td>NaN</td>\n",
       "      <td>1346</td>\n",
       "    </tr>\n",
       "    <tr>\n",
       "      <th>5218</th>\n",
       "      <td>NaN</td>\n",
       "      <td>NaN</td>\n",
       "      <td>NaN</td>\n",
       "      <td>NaN</td>\n",
       "      <td>5218</td>\n",
       "    </tr>\n",
       "    <tr>\n",
       "      <th>7763</th>\n",
       "      <td>NaN</td>\n",
       "      <td>NaN</td>\n",
       "      <td>NaN</td>\n",
       "      <td>NaN</td>\n",
       "      <td>7763</td>\n",
       "    </tr>\n",
       "  </tbody>\n",
       "</table>\n",
       "</div>"
      ],
      "text/plain": [
       "      overview  genres title keywords2  movieId\n",
       "3582       NaN  Comedy   NaN       NaN     3582\n",
       "11646      NaN     NaN   NaN       NaN    11646\n",
       "1346       NaN     NaN   NaN       NaN     1346\n",
       "5218       NaN     NaN   NaN       NaN     5218\n",
       "7763       NaN     NaN   NaN       NaN     7763"
      ]
     },
     "execution_count": 234,
     "metadata": {
      "tags": []
     },
     "output_type": "execute_result"
    }
   ],
   "source": [
    "# df_Comedy.shape\n",
    "# df_Comedy['movieId'] = df_Comedy.index\n",
    "# df_Comedy.head()"
   ]
  },
  {
   "cell_type": "code",
   "execution_count": 23,
   "metadata": {
    "colab": {},
    "colab_type": "code",
    "executionInfo": {
     "elapsed": 777,
     "status": "ok",
     "timestamp": 1599264453362,
     "user": {
      "displayName": "Igor Cavalcanti",
      "photoUrl": "https://lh3.googleusercontent.com/a-/AOh14GgPu-bvlxQap1lJcqw5fk-8WeA_1lh_4JAVU0ZP=s64",
      "userId": "00750051097913617266"
     },
     "user_tz": 180
    },
    "id": "qZohkiqdK4rO"
   },
   "outputs": [],
   "source": [
    "df_Action  = resample(df_Action, \n",
    "                                 replace=True,     # sample with replacement\n",
    "                                 n_samples=2297,    # to match majority class\n",
    "                                 random_state=123)\n",
    "df_Romance   = resample(df_Romance, \n",
    "                                 replace=True,     # sample with replacement\n",
    "                                 n_samples=2297,    # to match majority class\n",
    "                                 random_state=123)\n",
    "df_Adventure= resample(df_Adventure, \n",
    "                                 replace=True,     # sample with replacement\n",
    "                                 n_samples=2297,    # to match majority class\n",
    "                                 random_state=123)\n",
    "df_Crime   = resample(df_Crime, \n",
    "                                 replace=True,     # sample with replacement\n",
    "                                 n_samples=2297,    # to match majority class\n",
    "                                 random_state=123)\n",
    "df_Science_Fiction = resample(df_Science_Fiction, \n",
    "                                 replace=True,     # sample with replacement\n",
    "                                 n_samples=2297,    # to match majority class\n",
    "                                 random_state=123)\n",
    "df_Horror     = resample(df_Horror, \n",
    "                                 replace=True,     # sample with replacement\n",
    "                                 n_samples=2297,    # to match majority class\n",
    "                                 random_state=123)\n",
    "df_Family          = resample(df_Family, \n",
    "                                 replace=True,     # sample with replacement\n",
    "                                 n_samples=2297,    # to match majority class\n",
    "                                 random_state=123)\n",
    "df_Fantasy   = resample(df_Fantasy, \n",
    "                                 replace=True,     # sample with replacement\n",
    "                                 n_samples=2297,    # to match majority class\n",
    "                                 random_state=123)\n",
    "df_Mystery      = resample(df_Mystery, \n",
    "                                 replace=True,     # sample with replacement\n",
    "                                 n_samples=2297,    # to match majority class\n",
    "                                 random_state=123)\n",
    "df_Animation  = resample(df_Animation, \n",
    "                                 replace=True,     # sample with replacement\n",
    "                                 n_samples=2297,    # to match majority class\n",
    "                                 random_state=123)\n",
    "df_History    = resample(df_History, \n",
    "                                 replace=True,     # sample with replacement\n",
    "                                 n_samples=2297,    # to match majority class\n",
    "                                 random_state=123)\n",
    "df_Music      = resample(df_Music, \n",
    "                                 replace=True,     # sample with replacement\n",
    "                                 n_samples=2297,    # to match majority class\n",
    "                                 random_state=123)\n",
    "df_War       = resample(df_War, \n",
    "                                 replace=True,     # sample with replacement\n",
    "                                 n_samples=2297,    # to match majority class\n",
    "                                 random_state=123)\n",
    "df_Documentary= resample(df_Documentary, \n",
    "                                 replace=True,     # sample with replacement\n",
    "                                 n_samples=2297,    # to match majority class\n",
    "                                 random_state=123)\n",
    "df_Western    = resample(df_Western, \n",
    "                                 replace=True,     # sample with replacement\n",
    "                                 n_samples=2297,    # to match majority class\n",
    "                                 random_state=123)\n",
    "df_Foreign   = resample(df_Foreign, \n",
    "                                 replace=True,     # sample with replacement\n",
    "                                 n_samples=2297,    # to match majority class\n",
    "                                 random_state=123)\n",
    "df_TV_Movie = resample(df_TV_Movie, \n",
    "                                 replace=True,     # sample with replacement\n",
    "                                 n_samples=2297,    # to match majority class\n",
    "                                 random_state=123)"
   ]
  },
  {
   "cell_type": "code",
   "execution_count": 24,
   "metadata": {
    "colab": {
     "base_uri": "https://localhost:8080/",
     "height": 35
    },
    "colab_type": "code",
    "executionInfo": {
     "elapsed": 998,
     "status": "ok",
     "timestamp": 1599264462682,
     "user": {
      "displayName": "Igor Cavalcanti",
      "photoUrl": "https://lh3.googleusercontent.com/a-/AOh14GgPu-bvlxQap1lJcqw5fk-8WeA_1lh_4JAVU0ZP=s64",
      "userId": "00750051097913617266"
     },
     "user_tz": 180
    },
    "id": "ZBHZAGKZLfjo",
    "outputId": "07ebc440-b2e7-4ad2-dbba-dc27ea48cf73"
   },
   "outputs": [
    {
     "data": {
      "text/plain": [
       "(4594, 4)"
      ]
     },
     "execution_count": 24,
     "metadata": {
      "tags": []
     },
     "output_type": "execute_result"
    }
   ],
   "source": [
    "df_Drama.reset_index(drop=True, inplace=True)\n",
    "df_Comedy.reset_index(drop=True, inplace=True)\n",
    "df_upsampled = pd.concat([df_Drama, df_Comedy], axis=0 )\n",
    "df_upsampled.shape\n"
   ]
  },
  {
   "cell_type": "code",
   "execution_count": 25,
   "metadata": {
    "colab": {
     "base_uri": "https://localhost:8080/",
     "height": 35
    },
    "colab_type": "code",
    "executionInfo": {
     "elapsed": 521,
     "status": "ok",
     "timestamp": 1599264463089,
     "user": {
      "displayName": "Igor Cavalcanti",
      "photoUrl": "https://lh3.googleusercontent.com/a-/AOh14GgPu-bvlxQap1lJcqw5fk-8WeA_1lh_4JAVU0ZP=s64",
      "userId": "00750051097913617266"
     },
     "user_tz": 180
    },
    "id": "7G0ZuTXFRAzY",
    "outputId": "139589a7-d605-4412-ab90-fccec1381471"
   },
   "outputs": [
    {
     "data": {
      "text/plain": [
       "array(['Drama', 'Comedy'], dtype=object)"
      ]
     },
     "execution_count": 25,
     "metadata": {
      "tags": []
     },
     "output_type": "execute_result"
    }
   ],
   "source": [
    "df_upsampled['genres'].unique()"
   ]
  },
  {
   "cell_type": "code",
   "execution_count": 26,
   "metadata": {
    "colab": {
     "base_uri": "https://localhost:8080/",
     "height": 72
    },
    "colab_type": "code",
    "executionInfo": {
     "elapsed": 767,
     "status": "ok",
     "timestamp": 1599264474466,
     "user": {
      "displayName": "Igor Cavalcanti",
      "photoUrl": "https://lh3.googleusercontent.com/a-/AOh14GgPu-bvlxQap1lJcqw5fk-8WeA_1lh_4JAVU0ZP=s64",
      "userId": "00750051097913617266"
     },
     "user_tz": 180
    },
    "id": "wvmG8TQtUTOk",
    "outputId": "b6c15d22-b026-4e45-d766-2eee2508ca64"
   },
   "outputs": [
    {
     "data": {
      "text/plain": [
       "Drama     2297\n",
       "Comedy    2297\n",
       "Name: genres, dtype: int64"
      ]
     },
     "execution_count": 26,
     "metadata": {
      "tags": []
     },
     "output_type": "execute_result"
    }
   ],
   "source": [
    " df_upsampled['genres'].value_counts()\n"
   ]
  },
  {
   "cell_type": "code",
   "execution_count": 27,
   "metadata": {
    "colab": {},
    "colab_type": "code",
    "executionInfo": {
     "elapsed": 787,
     "status": "ok",
     "timestamp": 1599264481792,
     "user": {
      "displayName": "Igor Cavalcanti",
      "photoUrl": "https://lh3.googleusercontent.com/a-/AOh14GgPu-bvlxQap1lJcqw5fk-8WeA_1lh_4JAVU0ZP=s64",
      "userId": "00750051097913617266"
     },
     "user_tz": 180
    },
    "id": "MKl_MIm0N3Os"
   },
   "outputs": [],
   "source": [
    " df_upsampled = pd.concat([df_upsampled, df_Thriller ]\n",
    "                         )\n",
    " df_upsampled = pd.concat([df_upsampled, df_Action ]\n",
    "                         )\n",
    " df_upsampled = pd.concat([df_upsampled, df_Romance ]\n",
    "                         )\n",
    " df_upsampled = pd.concat([df_upsampled, df_Crime ]\n",
    "                         )\n",
    " df_upsampled = pd.concat([df_upsampled, df_Science_Fiction ]\n",
    "                         )\n",
    " df_upsampled = pd.concat([df_upsampled, df_Horror ]\n",
    "                         )\n",
    " df_upsampled = pd.concat([df_upsampled, df_Family ]\n",
    "                         )\n",
    " df_upsampled = pd.concat([df_upsampled, df_Fantasy ]\n",
    "                         )\n",
    " df_upsampled = pd.concat([df_upsampled, df_Mystery ]\n",
    "                         )\n",
    " df_upsampled = pd.concat([df_upsampled, df_Animation ]\n",
    "                         )\n",
    " df_upsampled = pd.concat([df_upsampled, df_History ]\n",
    "                         )\n",
    " df_upsampled = pd.concat([df_upsampled, df_Music ]\n",
    "                         )\n",
    " df_upsampled = pd.concat([df_upsampled, df_War ]\n",
    "                         )\n",
    " df_upsampled = pd.concat([df_upsampled, df_Documentary ]\n",
    "                         )\n",
    " df_upsampled = pd.concat([df_upsampled, df_Western ]\n",
    "                         )\n",
    " df_upsampled = pd.concat([df_upsampled, df_Foreign ]\n",
    "                         )\n",
    " df_upsampled = pd.concat([df_upsampled, df_TV_Movie ]\n",
    "                         )"
   ]
  },
  {
   "cell_type": "code",
   "execution_count": 28,
   "metadata": {
    "colab": {},
    "colab_type": "code",
    "executionInfo": {
     "elapsed": 876,
     "status": "ok",
     "timestamp": 1599264488696,
     "user": {
      "displayName": "Igor Cavalcanti",
      "photoUrl": "https://lh3.googleusercontent.com/a-/AOh14GgPu-bvlxQap1lJcqw5fk-8WeA_1lh_4JAVU0ZP=s64",
      "userId": "00750051097913617266"
     },
     "user_tz": 180
    },
    "id": "hy5uZ39MN4Qt"
   },
   "outputs": [],
   "source": [
    "#  df_upsampled = pd.concat([df_Drama, df_Comedy,df_Thriller,df_Action,df_Romance,df_Adventure,\n",
    "#                           df_Crime,df_Science_Fiction,df_Horror,df_Family,df_Fantasy,df_Mystery,\n",
    "#                           df_Animation,df_History, df_Music,df_War,df_Documentary,df_Western,df_Foreign,df_TV_Movie]\n",
    "#                          , axis=1)"
   ]
  },
  {
   "cell_type": "code",
   "execution_count": 29,
   "metadata": {
    "colab": {
     "base_uri": "https://localhost:8080/",
     "height": 35
    },
    "colab_type": "code",
    "executionInfo": {
     "elapsed": 635,
     "status": "ok",
     "timestamp": 1599264489029,
     "user": {
      "displayName": "Igor Cavalcanti",
      "photoUrl": "https://lh3.googleusercontent.com/a-/AOh14GgPu-bvlxQap1lJcqw5fk-8WeA_1lh_4JAVU0ZP=s64",
      "userId": "00750051097913617266"
     },
     "user_tz": 180
    },
    "id": "vormRaudMm6Q",
    "outputId": "1d7fe53a-7b1b-4022-9fb9-7fa148178d82"
   },
   "outputs": [
    {
     "data": {
      "text/plain": [
       "(43643, 4)"
      ]
     },
     "execution_count": 29,
     "metadata": {
      "tags": []
     },
     "output_type": "execute_result"
    }
   ],
   "source": [
    "df_upsampled.shape"
   ]
  },
  {
   "cell_type": "code",
   "execution_count": 30,
   "metadata": {
    "colab": {
     "base_uri": "https://localhost:8080/",
     "height": 217
    },
    "colab_type": "code",
    "executionInfo": {
     "elapsed": 905,
     "status": "ok",
     "timestamp": 1599264490941,
     "user": {
      "displayName": "Igor Cavalcanti",
      "photoUrl": "https://lh3.googleusercontent.com/a-/AOh14GgPu-bvlxQap1lJcqw5fk-8WeA_1lh_4JAVU0ZP=s64",
      "userId": "00750051097913617266"
     },
     "user_tz": 180
    },
    "id": "RPPKdN9ANR4i",
    "outputId": "b2c1eb36-3c3d-436a-83c5-5f1d37171d4b"
   },
   "outputs": [
    {
     "name": "stdout",
     "output_type": "stream",
     "text": [
      "<class 'pandas.core.frame.DataFrame'>\n",
      "Int64Index: 43643 entries, 0 to 9780\n",
      "Data columns (total 4 columns):\n",
      " #   Column     Non-Null Count  Dtype \n",
      "---  ------     --------------  ----- \n",
      " 0   overview   43612 non-null  object\n",
      " 1   genres     43643 non-null  object\n",
      " 2   title      43643 non-null  object\n",
      " 3   keywords2  43643 non-null  object\n",
      "dtypes: object(4)\n",
      "memory usage: 1.7+ MB\n"
     ]
    }
   ],
   "source": [
    "df_upsampled.info()"
   ]
  },
  {
   "cell_type": "code",
   "execution_count": 31,
   "metadata": {
    "colab": {
     "base_uri": "https://localhost:8080/",
     "height": 381
    },
    "colab_type": "code",
    "executionInfo": {
     "elapsed": 1846,
     "status": "ok",
     "timestamp": 1599264492586,
     "user": {
      "displayName": "Igor Cavalcanti",
      "photoUrl": "https://lh3.googleusercontent.com/a-/AOh14GgPu-bvlxQap1lJcqw5fk-8WeA_1lh_4JAVU0ZP=s64",
      "userId": "00750051097913617266"
     },
     "user_tz": 180
    },
    "id": "Lz2Ry4rUMTkx",
    "outputId": "e688cb4f-5fe1-45ba-b847-fff6e2b974e2"
   },
   "outputs": [
    {
     "data": {
      "text/plain": [
       "Romance            2297\n",
       "Action             2297\n",
       "Music              2297\n",
       "Western            2297\n",
       "Horror             2297\n",
       "Family             2297\n",
       "History            2297\n",
       "TV Movie           2297\n",
       "Mystery            2297\n",
       "Fantasy            2297\n",
       "Science Fiction    2297\n",
       "Comedy             2297\n",
       "Drama              2297\n",
       "Crime              2297\n",
       "Foreign            2297\n",
       "War                2297\n",
       "Documentary        2297\n",
       "Animation          2297\n",
       "Thriller           2297\n",
       "Name: genres, dtype: int64"
      ]
     },
     "execution_count": 31,
     "metadata": {
      "tags": []
     },
     "output_type": "execute_result"
    }
   ],
   "source": [
    "df_upsampled['genres'].value_counts()"
   ]
  },
  {
   "cell_type": "code",
   "execution_count": 32,
   "metadata": {
    "colab": {
     "base_uri": "https://localhost:8080/",
     "height": 145
    },
    "colab_type": "code",
    "executionInfo": {
     "elapsed": 2483,
     "status": "ok",
     "timestamp": 1599264497829,
     "user": {
      "displayName": "Igor Cavalcanti",
      "photoUrl": "https://lh3.googleusercontent.com/a-/AOh14GgPu-bvlxQap1lJcqw5fk-8WeA_1lh_4JAVU0ZP=s64",
      "userId": "00750051097913617266"
     },
     "user_tz": 180
    },
    "id": "paktSUZBzfUX",
    "outputId": "9194f8de-48d3-48c3-ebd4-99460f011f29"
   },
   "outputs": [
    {
     "name": "stdout",
     "output_type": "stream",
     "text": [
      "[nltk_data] Downloading package stopwords to /root/nltk_data...\n",
      "[nltk_data]   Unzipping corpora/stopwords.zip.\n",
      "[nltk_data] Downloading package punkt to /root/nltk_data...\n",
      "[nltk_data]   Unzipping tokenizers/punkt.zip.\n",
      "[nltk_data] Downloading package wordnet to /root/nltk_data...\n",
      "[nltk_data]   Unzipping corpora/wordnet.zip.\n"
     ]
    },
    {
     "data": {
      "text/plain": [
       "True"
      ]
     },
     "execution_count": 32,
     "metadata": {
      "tags": []
     },
     "output_type": "execute_result"
    }
   ],
   "source": [
    "import nltk\n",
    "nltk.download('stopwords')\n",
    "nltk.download('punkt')\n",
    "nltk.download('wordnet')"
   ]
  },
  {
   "cell_type": "code",
   "execution_count": 32,
   "metadata": {
    "colab": {},
    "colab_type": "code",
    "executionInfo": {
     "elapsed": 565,
     "status": "ok",
     "timestamp": 1599264498348,
     "user": {
      "displayName": "Igor Cavalcanti",
      "photoUrl": "https://lh3.googleusercontent.com/a-/AOh14GgPu-bvlxQap1lJcqw5fk-8WeA_1lh_4JAVU0ZP=s64",
      "userId": "00750051097913617266"
     },
     "user_tz": 180
    },
    "id": "_-KF4pGbJuuj"
   },
   "outputs": [],
   "source": []
  },
  {
   "cell_type": "code",
   "execution_count": 34,
   "metadata": {
    "colab": {},
    "colab_type": "code",
    "executionInfo": {
     "elapsed": 848,
     "status": "ok",
     "timestamp": 1599264570817,
     "user": {
      "displayName": "Igor Cavalcanti",
      "photoUrl": "https://lh3.googleusercontent.com/a-/AOh14GgPu-bvlxQap1lJcqw5fk-8WeA_1lh_4JAVU0ZP=s64",
      "userId": "00750051097913617266"
     },
     "user_tz": 180
    },
    "id": "qeg0RkPxt6Q3"
   },
   "outputs": [],
   "source": [
    "punctuation = \"\"\"!()-[]{};:'\"\\, <>./?@#$%^&*_~\"\"\"\n",
    "from nltk import word_tokenize\n",
    "from nltk.corpus import stopwords\n",
    "words = stopwords.words(\"english\")\n",
    "lemma = nltk.stem.WordNetLemmatizer()\n",
    "def pre_process(text):\n",
    "    text = str(text)\n",
    "    remove_hyperlink = re.sub('http://\\S+|https://\\S+', '', text)\n",
    "    for elements in remove_hyperlink:\n",
    "        if elements in punctuation:\n",
    "            remove_hyperlink = remove_hyperlink.replace(elements, \" \")\n",
    "    tokens = word_tokenize(remove_hyperlink)\n",
    "    remove_words = [word for word in tokens if not word in words]\n",
    "    text = [lemma.lemmatize(word) for word in remove_words]\n",
    "    joined_words = \" \".join(text)\n",
    "    return joined_words"
   ]
  },
  {
   "cell_type": "code",
   "execution_count": 35,
   "metadata": {
    "colab": {},
    "colab_type": "code",
    "executionInfo": {
     "elapsed": 54418,
     "status": "ok",
     "timestamp": 1599264626049,
     "user": {
      "displayName": "Igor Cavalcanti",
      "photoUrl": "https://lh3.googleusercontent.com/a-/AOh14GgPu-bvlxQap1lJcqw5fk-8WeA_1lh_4JAVU0ZP=s64",
      "userId": "00750051097913617266"
     },
     "user_tz": 180
    },
    "id": "NtDPN_Hwt6Q5"
   },
   "outputs": [],
   "source": [
    "title_df['title'] = title_df['title'].apply(pre_process)\n",
    "title_df['overview'] = title_df['overview'].apply(pre_process)\n",
    "title_df['keywords2'] = title_df['keywords2'].apply(pre_process)\n",
    "filmes_balanceados['title'] = filmes_balanceados2['title'].apply(pre_process)\n",
    "filmes_balanceados['overview'] = filmes_balanceados2['overview'].apply(pre_process)\n",
    "filmes_balanceados['keywords2'] = filmes_balanceados2['keywords2'].apply(pre_process)\n",
    "df_upsampled['title'] = df_upsampled['title'].apply(pre_process)\n",
    "df_upsampled['overview'] = df_upsampled['overview'].apply(pre_process)\n",
    "df_upsampled['keywords2'] = df_upsampled['keywords2'].apply(pre_process)"
   ]
  },
  {
   "cell_type": "code",
   "execution_count": null,
   "metadata": {
    "colab": {
     "base_uri": "https://localhost:8080/",
     "height": 285
    },
    "colab_type": "code",
    "executionInfo": {
     "elapsed": 796,
     "status": "ok",
     "timestamp": 1599185030190,
     "user": {
      "displayName": "Igor Cavalcanti",
      "photoUrl": "https://lh3.googleusercontent.com/a-/AOh14GgPu-bvlxQap1lJcqw5fk-8WeA_1lh_4JAVU0ZP=s64",
      "userId": "00750051097913617266"
     },
     "user_tz": 180
    },
    "id": "Jmj-Dxkht6Q7",
    "outputId": "8425d127-08f3-4eda-90b7-97e3281c714c"
   },
   "outputs": [
    {
     "data": {
      "text/html": [
       "<div>\n",
       "<style scoped>\n",
       "    .dataframe tbody tr th:only-of-type {\n",
       "        vertical-align: middle;\n",
       "    }\n",
       "\n",
       "    .dataframe tbody tr th {\n",
       "        vertical-align: top;\n",
       "    }\n",
       "\n",
       "    .dataframe thead th {\n",
       "        text-align: right;\n",
       "    }\n",
       "</style>\n",
       "<table border=\"1\" class=\"dataframe\">\n",
       "  <thead>\n",
       "    <tr style=\"text-align: right;\">\n",
       "      <th></th>\n",
       "      <th>overview</th>\n",
       "      <th>genres</th>\n",
       "      <th>title</th>\n",
       "      <th>keywords2</th>\n",
       "    </tr>\n",
       "  </thead>\n",
       "  <tbody>\n",
       "    <tr>\n",
       "      <th>0</th>\n",
       "      <td>In 22nd century paraplegic Marine dispatched m...</td>\n",
       "      <td>[Action, Adventure, Fantasy, Science Fiction]</td>\n",
       "      <td>Avatar</td>\n",
       "      <td>culture clash future space war space colony so...</td>\n",
       "    </tr>\n",
       "    <tr>\n",
       "      <th>1</th>\n",
       "      <td>Captain Barbossa long believed dead come back ...</td>\n",
       "      <td>[Adventure, Fantasy, Action]</td>\n",
       "      <td>Pirates Caribbean At World End</td>\n",
       "      <td>ocean drug abuse exotic island east india trad...</td>\n",
       "    </tr>\n",
       "    <tr>\n",
       "      <th>2</th>\n",
       "      <td>A cryptic message Bond ’ past sends trail unco...</td>\n",
       "      <td>[Action, Adventure, Crime]</td>\n",
       "      <td>Spectre</td>\n",
       "      <td>spy based novel secret agent sequel mi6 britis...</td>\n",
       "    </tr>\n",
       "    <tr>\n",
       "      <th>3</th>\n",
       "      <td>Following death District Attorney Harvey Dent ...</td>\n",
       "      <td>[Action, Crime, Drama, Thriller]</td>\n",
       "      <td>The Dark Knight Rises</td>\n",
       "      <td>dc comic crime fighter terrorist secret identi...</td>\n",
       "    </tr>\n",
       "    <tr>\n",
       "      <th>4</th>\n",
       "      <td>John Carter war weary former military captain ...</td>\n",
       "      <td>[Action, Adventure, Science Fiction]</td>\n",
       "      <td>John Carter</td>\n",
       "      <td>based novel mar medallion space travel princes...</td>\n",
       "    </tr>\n",
       "  </tbody>\n",
       "</table>\n",
       "</div>"
      ],
      "text/plain": [
       "                                            overview  \\\n",
       "0  In 22nd century paraplegic Marine dispatched m...   \n",
       "1  Captain Barbossa long believed dead come back ...   \n",
       "2  A cryptic message Bond ’ past sends trail unco...   \n",
       "3  Following death District Attorney Harvey Dent ...   \n",
       "4  John Carter war weary former military captain ...   \n",
       "\n",
       "                                          genres  \\\n",
       "0  [Action, Adventure, Fantasy, Science Fiction]   \n",
       "1                   [Adventure, Fantasy, Action]   \n",
       "2                     [Action, Adventure, Crime]   \n",
       "3               [Action, Crime, Drama, Thriller]   \n",
       "4           [Action, Adventure, Science Fiction]   \n",
       "\n",
       "                            title  \\\n",
       "0                          Avatar   \n",
       "1  Pirates Caribbean At World End   \n",
       "2                         Spectre   \n",
       "3           The Dark Knight Rises   \n",
       "4                     John Carter   \n",
       "\n",
       "                                           keywords2  \n",
       "0  culture clash future space war space colony so...  \n",
       "1  ocean drug abuse exotic island east india trad...  \n",
       "2  spy based novel secret agent sequel mi6 britis...  \n",
       "3  dc comic crime fighter terrorist secret identi...  \n",
       "4  based novel mar medallion space travel princes...  "
      ]
     },
     "execution_count": 84,
     "metadata": {
      "tags": []
     },
     "output_type": "execute_result"
    }
   ],
   "source": [
    "title_df.head()"
   ]
  },
  {
   "cell_type": "code",
   "execution_count": 36,
   "metadata": {
    "colab": {},
    "colab_type": "code",
    "executionInfo": {
     "elapsed": 821,
     "status": "ok",
     "timestamp": 1599264706731,
     "user": {
      "displayName": "Igor Cavalcanti",
      "photoUrl": "https://lh3.googleusercontent.com/a-/AOh14GgPu-bvlxQap1lJcqw5fk-8WeA_1lh_4JAVU0ZP=s64",
      "userId": "00750051097913617266"
     },
     "user_tz": 180
    },
    "id": "oBwo3n0dt6Q9"
   },
   "outputs": [],
   "source": [
    "from sklearn.preprocessing import MultiLabelBinarizer\n",
    "\n",
    "multilabel_binarizer = MultiLabelBinarizer()\n",
    "multilabel_binarizer.fit(title_df['genres'])\n",
    "\n",
    "# transform target variable\n",
    "y = multilabel_binarizer.transform(title_df['genres'])\n",
    "\n",
    "# transform target variable\n",
    "multilabel_binarizer = MultiLabelBinarizer()\n",
    "multilabel_binarizer.fit(filmes_balanceados2['genres'])\n",
    "\n",
    "y_b = multilabel_binarizer.transform(filmes_balanceados2['genres'])\n",
    "\n",
    "# transform target variable\n",
    "multilabel_binarizer = MultiLabelBinarizer()\n",
    "multilabel_binarizer.fit(df_upsampled['genres'])\n",
    "\n",
    "y_b2 = multilabel_binarizer.transform(df_upsampled['genres'])\n",
    "\n"
   ]
  },
  {
   "cell_type": "code",
   "execution_count": 37,
   "metadata": {
    "colab": {
     "base_uri": "https://localhost:8080/",
     "height": 138
    },
    "colab_type": "code",
    "executionInfo": {
     "elapsed": 858,
     "status": "ok",
     "timestamp": 1599264727011,
     "user": {
      "displayName": "Igor Cavalcanti",
      "photoUrl": "https://lh3.googleusercontent.com/a-/AOh14GgPu-bvlxQap1lJcqw5fk-8WeA_1lh_4JAVU0ZP=s64",
      "userId": "00750051097913617266"
     },
     "user_tz": 180
    },
    "id": "FFWsMv057I79",
    "outputId": "9ad1d790-9d21-4022-a1f0-b9e3a0746389"
   },
   "outputs": [
    {
     "data": {
      "text/html": [
       "<div>\n",
       "<style scoped>\n",
       "    .dataframe tbody tr th:only-of-type {\n",
       "        vertical-align: middle;\n",
       "    }\n",
       "\n",
       "    .dataframe tbody tr th {\n",
       "        vertical-align: top;\n",
       "    }\n",
       "\n",
       "    .dataframe thead th {\n",
       "        text-align: right;\n",
       "    }\n",
       "</style>\n",
       "<table border=\"1\" class=\"dataframe\">\n",
       "  <thead>\n",
       "    <tr style=\"text-align: right;\">\n",
       "      <th></th>\n",
       "      <th>overview</th>\n",
       "      <th>genres</th>\n",
       "      <th>title</th>\n",
       "      <th>keywords2</th>\n",
       "    </tr>\n",
       "  </thead>\n",
       "  <tbody>\n",
       "    <tr>\n",
       "      <th>0</th>\n",
       "      <td>In 22nd century paraplegic Marine dispatched m...</td>\n",
       "      <td>[Action, Adventure, Fantasy, Science Fiction]</td>\n",
       "      <td>Avatar</td>\n",
       "      <td>culture clash future space war space colony so...</td>\n",
       "    </tr>\n",
       "    <tr>\n",
       "      <th>1</th>\n",
       "      <td>Captain Barbossa long believed dead come back ...</td>\n",
       "      <td>[Adventure, Fantasy, Action]</td>\n",
       "      <td>Pirates Caribbean At World End</td>\n",
       "      <td>ocean drug abuse exotic island east india trad...</td>\n",
       "    </tr>\n",
       "    <tr>\n",
       "      <th>2</th>\n",
       "      <td>A cryptic message Bond ’ past sends trail unco...</td>\n",
       "      <td>[Action, Adventure, Crime]</td>\n",
       "      <td>Spectre</td>\n",
       "      <td>spy based novel secret agent sequel mi6 britis...</td>\n",
       "    </tr>\n",
       "  </tbody>\n",
       "</table>\n",
       "</div>"
      ],
      "text/plain": [
       "                                            overview  \\\n",
       "0  In 22nd century paraplegic Marine dispatched m...   \n",
       "1  Captain Barbossa long believed dead come back ...   \n",
       "2  A cryptic message Bond ’ past sends trail unco...   \n",
       "\n",
       "                                          genres  \\\n",
       "0  [Action, Adventure, Fantasy, Science Fiction]   \n",
       "1                   [Adventure, Fantasy, Action]   \n",
       "2                     [Action, Adventure, Crime]   \n",
       "\n",
       "                            title  \\\n",
       "0                          Avatar   \n",
       "1  Pirates Caribbean At World End   \n",
       "2                         Spectre   \n",
       "\n",
       "                                           keywords2  \n",
       "0  culture clash future space war space colony so...  \n",
       "1  ocean drug abuse exotic island east india trad...  \n",
       "2  spy based novel secret agent sequel mi6 britis...  "
      ]
     },
     "execution_count": 37,
     "metadata": {
      "tags": []
     },
     "output_type": "execute_result"
    }
   ],
   "source": [
    "title_df.head(3)"
   ]
  },
  {
   "cell_type": "code",
   "execution_count": 38,
   "metadata": {
    "colab": {},
    "colab_type": "code",
    "executionInfo": {
     "elapsed": 940,
     "status": "ok",
     "timestamp": 1599264731004,
     "user": {
      "displayName": "Igor Cavalcanti",
      "photoUrl": "https://lh3.googleusercontent.com/a-/AOh14GgPu-bvlxQap1lJcqw5fk-8WeA_1lh_4JAVU0ZP=s64",
      "userId": "00750051097913617266"
     },
     "user_tz": 180
    },
    "id": "uM-Pi8axt6Q-"
   },
   "outputs": [],
   "source": [
    "tfidf_vectorizer = TfidfVectorizer(max_df=0.7, max_features=5000)"
   ]
  },
  {
   "cell_type": "code",
   "execution_count": 40,
   "metadata": {
    "colab": {},
    "colab_type": "code",
    "executionInfo": {
     "elapsed": 762,
     "status": "ok",
     "timestamp": 1599264820245,
     "user": {
      "displayName": "Igor Cavalcanti",
      "photoUrl": "https://lh3.googleusercontent.com/a-/AOh14GgPu-bvlxQap1lJcqw5fk-8WeA_1lh_4JAVU0ZP=s64",
      "userId": "00750051097913617266"
     },
     "user_tz": 180
    },
    "id": "vYz2trr3t6RA"
   },
   "outputs": [],
   "source": [
    "from sklearn import model_selection\n",
    "xtrain, xval, ytrain, yval = model_selection.train_test_split(title_df['title'], y, test_size=0.2, random_state=512)\n",
    "xtrainb, xvalb, ytrainb, yvalb = model_selection.train_test_split(filmes_balanceados2['title'], y_b, test_size=0.2, random_state=512)\n",
    "xtrainb2, xvalb2, ytrainb2, yvalb2 = model_selection.train_test_split(df_upsampled['title'], y_b2, test_size=0.2, random_state=512)"
   ]
  },
  {
   "cell_type": "code",
   "execution_count": 41,
   "metadata": {
    "colab": {},
    "colab_type": "code",
    "executionInfo": {
     "elapsed": 859,
     "status": "ok",
     "timestamp": 1599264851209,
     "user": {
      "displayName": "Igor Cavalcanti",
      "photoUrl": "https://lh3.googleusercontent.com/a-/AOh14GgPu-bvlxQap1lJcqw5fk-8WeA_1lh_4JAVU0ZP=s64",
      "userId": "00750051097913617266"
     },
     "user_tz": 180
    },
    "id": "YpSzJJiYt6RC"
   },
   "outputs": [],
   "source": [
    "xtrain_tfidf = tfidf_vectorizer.fit_transform(xtrain)\n",
    "xval_tfidf = tfidf_vectorizer.transform(xval)\n",
    "xtrain_tfidfb = tfidf_vectorizer.fit_transform(xtrainb)\n",
    "xval_tfidfb = tfidf_vectorizer.transform(xvalb)\n",
    "xtrain_tfidfb2 = tfidf_vectorizer.fit_transform(xtrainb2)\n",
    "xval_tfidfb2 = tfidf_vectorizer.transform(xvalb2)"
   ]
  },
  {
   "cell_type": "markdown",
   "metadata": {
    "colab_type": "text",
    "id": "qTb7ilo55UpN"
   },
   "source": [
    "Aplicação da Regressão Logistica"
   ]
  },
  {
   "cell_type": "code",
   "execution_count": 42,
   "metadata": {
    "colab": {},
    "colab_type": "code",
    "executionInfo": {
     "elapsed": 830,
     "status": "ok",
     "timestamp": 1599264860289,
     "user": {
      "displayName": "Igor Cavalcanti",
      "photoUrl": "https://lh3.googleusercontent.com/a-/AOh14GgPu-bvlxQap1lJcqw5fk-8WeA_1lh_4JAVU0ZP=s64",
      "userId": "00750051097913617266"
     },
     "user_tz": 180
    },
    "id": "14PSGaaEt6RD"
   },
   "outputs": [],
   "source": [
    "from sklearn.linear_model import LogisticRegression\n",
    "\n",
    "# Binary Relevance\n",
    "from sklearn.multiclass import OneVsRestClassifier\n",
    "\n",
    "# Performance metric\n",
    "from sklearn.metrics import f1_score"
   ]
  },
  {
   "cell_type": "code",
   "execution_count": 43,
   "metadata": {
    "colab": {},
    "colab_type": "code",
    "executionInfo": {
     "elapsed": 738,
     "status": "ok",
     "timestamp": 1599264883150,
     "user": {
      "displayName": "Igor Cavalcanti",
      "photoUrl": "https://lh3.googleusercontent.com/a-/AOh14GgPu-bvlxQap1lJcqw5fk-8WeA_1lh_4JAVU0ZP=s64",
      "userId": "00750051097913617266"
     },
     "user_tz": 180
    },
    "id": "sSYwtXtut6RF"
   },
   "outputs": [],
   "source": [
    "lr = LogisticRegression()\n",
    "clf = OneVsRestClassifier(lr)\n",
    "lr2 = LogisticRegression(class_weight = 'balanced')\n",
    "clf2 = OneVsRestClassifier(lr2)\n",
    "lr3 = LogisticRegression(class_weight = 'balanced')\n",
    "clf3 = OneVsRestClassifier(lr2)"
   ]
  },
  {
   "cell_type": "code",
   "execution_count": 44,
   "metadata": {
    "colab": {
     "base_uri": "https://localhost:8080/",
     "height": 199
    },
    "colab_type": "code",
    "executionInfo": {
     "elapsed": 15317,
     "status": "ok",
     "timestamp": 1599264918903,
     "user": {
      "displayName": "Igor Cavalcanti",
      "photoUrl": "https://lh3.googleusercontent.com/a-/AOh14GgPu-bvlxQap1lJcqw5fk-8WeA_1lh_4JAVU0ZP=s64",
      "userId": "00750051097913617266"
     },
     "user_tz": 180
    },
    "id": "fezoSU7Mt6RH",
    "outputId": "7f1aa91a-ec06-46f7-b3fa-a65330b4f986"
   },
   "outputs": [
    {
     "data": {
      "text/plain": [
       "OneVsRestClassifier(estimator=LogisticRegression(C=1.0, class_weight='balanced',\n",
       "                                                 dual=False, fit_intercept=True,\n",
       "                                                 intercept_scaling=1,\n",
       "                                                 l1_ratio=None, max_iter=100,\n",
       "                                                 multi_class='auto',\n",
       "                                                 n_jobs=None, penalty='l2',\n",
       "                                                 random_state=None,\n",
       "                                                 solver='lbfgs', tol=0.0001,\n",
       "                                                 verbose=0, warm_start=False),\n",
       "                    n_jobs=None)"
      ]
     },
     "execution_count": 44,
     "metadata": {
      "tags": []
     },
     "output_type": "execute_result"
    }
   ],
   "source": [
    "clf.fit(xtrain_tfidf, ytrain)\n",
    "clf2.fit(xtrain_tfidfb, ytrainb)\n",
    "clf3.fit(xtrain_tfidfb2, ytrainb2)"
   ]
  },
  {
   "cell_type": "code",
   "execution_count": 45,
   "metadata": {
    "colab": {},
    "colab_type": "code",
    "executionInfo": {
     "elapsed": 952,
     "status": "ok",
     "timestamp": 1599264931840,
     "user": {
      "displayName": "Igor Cavalcanti",
      "photoUrl": "https://lh3.googleusercontent.com/a-/AOh14GgPu-bvlxQap1lJcqw5fk-8WeA_1lh_4JAVU0ZP=s64",
      "userId": "00750051097913617266"
     },
     "user_tz": 180
    },
    "id": "MwseX5Kdt6RJ"
   },
   "outputs": [],
   "source": [
    "y_pred = clf.predict(xval_tfidf)\n",
    "y_pred2 = clf2.predict(xval_tfidfb) \n",
    "y_pred3 = clf3.predict(xval_tfidfb2)"
   ]
  },
  {
   "cell_type": "code",
   "execution_count": null,
   "metadata": {
    "colab": {
     "base_uri": "https://localhost:8080/",
     "height": 35
    },
    "colab_type": "code",
    "executionInfo": {
     "elapsed": 630,
     "status": "ok",
     "timestamp": 1599184351552,
     "user": {
      "displayName": "Igor Cavalcanti",
      "photoUrl": "https://lh3.googleusercontent.com/a-/AOh14GgPu-bvlxQap1lJcqw5fk-8WeA_1lh_4JAVU0ZP=s64",
      "userId": "00750051097913617266"
     },
     "user_tz": 180
    },
    "id": "EWvCJxRut6RL",
    "outputId": "dadf92bd-0b64-4694-d345-0c7fa8defae0"
   },
   "outputs": [
    {
     "data": {
      "text/plain": [
       "array([0, 0, 0, 0, 0, 0, 0, 0, 0, 0, 0, 0, 0, 0, 0, 0, 0, 0, 0, 0])"
      ]
     },
     "execution_count": 57,
     "metadata": {
      "tags": []
     },
     "output_type": "execute_result"
    }
   ],
   "source": [
    "y_pred[3]"
   ]
  },
  {
   "cell_type": "code",
   "execution_count": null,
   "metadata": {
    "colab": {
     "base_uri": "https://localhost:8080/",
     "height": 35
    },
    "colab_type": "code",
    "executionInfo": {
     "elapsed": 578,
     "status": "ok",
     "timestamp": 1599184351981,
     "user": {
      "displayName": "Igor Cavalcanti",
      "photoUrl": "https://lh3.googleusercontent.com/a-/AOh14GgPu-bvlxQap1lJcqw5fk-8WeA_1lh_4JAVU0ZP=s64",
      "userId": "00750051097913617266"
     },
     "user_tz": 180
    },
    "id": "-wHnZK6Ht6RO",
    "outputId": "a1c9eeea-f7f7-4d45-99e9-774872f5cce3"
   },
   "outputs": [
    {
     "data": {
      "text/plain": [
       "()"
      ]
     },
     "execution_count": 58,
     "metadata": {
      "tags": []
     },
     "output_type": "execute_result"
    }
   ],
   "source": [
    "multilabel_binarizer.inverse_transform(y_pred)[3]"
   ]
  },
  {
   "cell_type": "code",
   "execution_count": 46,
   "metadata": {
    "colab": {
     "base_uri": "https://localhost:8080/",
     "height": 35
    },
    "colab_type": "code",
    "executionInfo": {
     "elapsed": 757,
     "status": "ok",
     "timestamp": 1599264956105,
     "user": {
      "displayName": "Igor Cavalcanti",
      "photoUrl": "https://lh3.googleusercontent.com/a-/AOh14GgPu-bvlxQap1lJcqw5fk-8WeA_1lh_4JAVU0ZP=s64",
      "userId": "00750051097913617266"
     },
     "user_tz": 180
    },
    "id": "PT6JPypUt6RQ",
    "outputId": "3dd69023-da35-4435-ab04-287c15086fff"
   },
   "outputs": [
    {
     "data": {
      "text/plain": [
       "0.22792607802874743"
      ]
     },
     "execution_count": 46,
     "metadata": {
      "tags": []
     },
     "output_type": "execute_result"
    }
   ],
   "source": [
    "f1_score(yval, y_pred, average=\"micro\")"
   ]
  },
  {
   "cell_type": "code",
   "execution_count": 47,
   "metadata": {
    "colab": {
     "base_uri": "https://localhost:8080/",
     "height": 35
    },
    "colab_type": "code",
    "executionInfo": {
     "elapsed": 784,
     "status": "ok",
     "timestamp": 1599264957829,
     "user": {
      "displayName": "Igor Cavalcanti",
      "photoUrl": "https://lh3.googleusercontent.com/a-/AOh14GgPu-bvlxQap1lJcqw5fk-8WeA_1lh_4JAVU0ZP=s64",
      "userId": "00750051097913617266"
     },
     "user_tz": 180
    },
    "id": "3Fk4ZfLJ0zSc",
    "outputId": "c32a0b22-3621-495a-b9fa-7fa18c5eb91c"
   },
   "outputs": [
    {
     "data": {
      "text/plain": [
       "0.3557305387488059"
      ]
     },
     "execution_count": 47,
     "metadata": {
      "tags": []
     },
     "output_type": "execute_result"
    }
   ],
   "source": [
    "f1_score(yvalb, y_pred2, average=\"micro\")"
   ]
  },
  {
   "cell_type": "code",
   "execution_count": 48,
   "metadata": {
    "colab": {
     "base_uri": "https://localhost:8080/",
     "height": 35
    },
    "colab_type": "code",
    "executionInfo": {
     "elapsed": 809,
     "status": "ok",
     "timestamp": 1599264959780,
     "user": {
      "displayName": "Igor Cavalcanti",
      "photoUrl": "https://lh3.googleusercontent.com/a-/AOh14GgPu-bvlxQap1lJcqw5fk-8WeA_1lh_4JAVU0ZP=s64",
      "userId": "00750051097913617266"
     },
     "user_tz": 180
    },
    "id": "FTt1J3ZLnm9m",
    "outputId": "10d534e0-594c-4af1-bdcf-0e5b83dbb382"
   },
   "outputs": [
    {
     "data": {
      "text/plain": [
       "0.7108359529351538"
      ]
     },
     "execution_count": 48,
     "metadata": {
      "tags": []
     },
     "output_type": "execute_result"
    }
   ],
   "source": [
    "f1_score(yvalb2, y_pred3, average=\"micro\")"
   ]
  },
  {
   "cell_type": "code",
   "execution_count": 49,
   "metadata": {
    "colab": {},
    "colab_type": "code",
    "executionInfo": {
     "elapsed": 785,
     "status": "ok",
     "timestamp": 1599264987604,
     "user": {
      "displayName": "Igor Cavalcanti",
      "photoUrl": "https://lh3.googleusercontent.com/a-/AOh14GgPu-bvlxQap1lJcqw5fk-8WeA_1lh_4JAVU0ZP=s64",
      "userId": "00750051097913617266"
     },
     "user_tz": 180
    },
    "id": "vg9fl-_nt6RS"
   },
   "outputs": [],
   "source": [
    "y_pred_prob = clf.predict_proba(xval_tfidf)\n",
    "y_pred_prob2 = clf2.predict_proba(xval_tfidfb)\n",
    "y_pred_prob3 = clf3.predict_proba(xval_tfidfb2)"
   ]
  },
  {
   "cell_type": "code",
   "execution_count": 50,
   "metadata": {
    "colab": {},
    "colab_type": "code",
    "executionInfo": {
     "elapsed": 890,
     "status": "ok",
     "timestamp": 1599265014076,
     "user": {
      "displayName": "Igor Cavalcanti",
      "photoUrl": "https://lh3.googleusercontent.com/a-/AOh14GgPu-bvlxQap1lJcqw5fk-8WeA_1lh_4JAVU0ZP=s64",
      "userId": "00750051097913617266"
     },
     "user_tz": 180
    },
    "id": "Pb7L8f9ct6RU"
   },
   "outputs": [],
   "source": [
    "t = 0.4 # threshold value\n",
    "y_pred_new = (y_pred_prob >= t).astype(int)\n",
    "y_pred_new2 = (y_pred_prob2 >= t).astype(int)\n",
    "y_pred_new3 = (y_pred_prob3 >= t).astype(int)"
   ]
  },
  {
   "cell_type": "code",
   "execution_count": 51,
   "metadata": {
    "colab": {
     "base_uri": "https://localhost:8080/",
     "height": 35
    },
    "colab_type": "code",
    "executionInfo": {
     "elapsed": 1452,
     "status": "ok",
     "timestamp": 1599265018862,
     "user": {
      "displayName": "Igor Cavalcanti",
      "photoUrl": "https://lh3.googleusercontent.com/a-/AOh14GgPu-bvlxQap1lJcqw5fk-8WeA_1lh_4JAVU0ZP=s64",
      "userId": "00750051097913617266"
     },
     "user_tz": 180
    },
    "id": "OMCprho-t6RW",
    "outputId": "e13433a2-ccb8-4e7f-9bd3-9a48b233989d"
   },
   "outputs": [
    {
     "data": {
      "text/plain": [
       "0.38274638274638273"
      ]
     },
     "execution_count": 51,
     "metadata": {
      "tags": []
     },
     "output_type": "execute_result"
    }
   ],
   "source": [
    "f1_score(yval, y_pred_new, average=\"micro\")"
   ]
  },
  {
   "cell_type": "code",
   "execution_count": 52,
   "metadata": {
    "colab": {
     "base_uri": "https://localhost:8080/",
     "height": 35
    },
    "colab_type": "code",
    "executionInfo": {
     "elapsed": 1068,
     "status": "ok",
     "timestamp": 1599265020168,
     "user": {
      "displayName": "Igor Cavalcanti",
      "photoUrl": "https://lh3.googleusercontent.com/a-/AOh14GgPu-bvlxQap1lJcqw5fk-8WeA_1lh_4JAVU0ZP=s64",
      "userId": "00750051097913617266"
     },
     "user_tz": 180
    },
    "id": "BNX-51wn1HoB",
    "outputId": "c4d3d085-5187-41c5-f5ba-e5f308fc5ef4"
   },
   "outputs": [
    {
     "data": {
      "text/plain": [
       "0.42220683802675363"
      ]
     },
     "execution_count": 52,
     "metadata": {
      "tags": []
     },
     "output_type": "execute_result"
    }
   ],
   "source": [
    "f1_score(yvalb, y_pred_new2, average=\"micro\")"
   ]
  },
  {
   "cell_type": "code",
   "execution_count": 54,
   "metadata": {
    "colab": {
     "base_uri": "https://localhost:8080/",
     "height": 35
    },
    "colab_type": "code",
    "executionInfo": {
     "elapsed": 829,
     "status": "ok",
     "timestamp": 1599265041383,
     "user": {
      "displayName": "Igor Cavalcanti",
      "photoUrl": "https://lh3.googleusercontent.com/a-/AOh14GgPu-bvlxQap1lJcqw5fk-8WeA_1lh_4JAVU0ZP=s64",
      "userId": "00750051097913617266"
     },
     "user_tz": 180
    },
    "id": "TXXvRIONn6m8",
    "outputId": "89cc1f7c-4cad-4307-b4d3-f51a2cf53992"
   },
   "outputs": [
    {
     "data": {
      "text/plain": [
       "0.6980191968939857"
      ]
     },
     "execution_count": 54,
     "metadata": {
      "tags": []
     },
     "output_type": "execute_result"
    }
   ],
   "source": [
    "f1_score(yvalb2, y_pred_new3, average=\"micro\")"
   ]
  },
  {
   "cell_type": "code",
   "execution_count": 55,
   "metadata": {
    "colab": {},
    "colab_type": "code",
    "executionInfo": {
     "elapsed": 2193,
     "status": "ok",
     "timestamp": 1599265105484,
     "user": {
      "displayName": "Igor Cavalcanti",
      "photoUrl": "https://lh3.googleusercontent.com/a-/AOh14GgPu-bvlxQap1lJcqw5fk-8WeA_1lh_4JAVU0ZP=s64",
      "userId": "00750051097913617266"
     },
     "user_tz": 180
    },
    "id": "dS4GZ0FQt6RY"
   },
   "outputs": [],
   "source": [
    "def inference(text):\n",
    "    processed_text = pre_process(text)\n",
    "    q_vec = tfidf_vectorizer.transform([processed_text])\n",
    "    q_pred = clf.predict(q_vec) \n",
    "    return multilabel_binarizer.inverse_transform(q_pred)\n",
    "def inference2(text):\n",
    "    processed_text = pre_process(text)\n",
    "    q_vec = tfidf_vectorizer.transform([processed_text])\n",
    "    q_pred = clf2.predict(q_vec) \n",
    "    return multilabel_binarizer.inverse_transform(q_pred)\n",
    "def inference3(text):\n",
    "    processed_text = pre_process(text)\n",
    "    q_vec = tfidf_vectorizer.transform([processed_text])\n",
    "    q_pred = clf3.predict(q_vec) \n",
    "    return multilabel_binarizer.inverse_transform(q_pred)"
   ]
  },
  {
   "cell_type": "code",
   "execution_count": 57,
   "metadata": {
    "colab": {
     "base_uri": "https://localhost:8080/",
     "height": 358
    },
    "colab_type": "code",
    "executionInfo": {
     "elapsed": 933,
     "status": "error",
     "timestamp": 1599265206833,
     "user": {
      "displayName": "Igor Cavalcanti",
      "photoUrl": "https://lh3.googleusercontent.com/a-/AOh14GgPu-bvlxQap1lJcqw5fk-8WeA_1lh_4JAVU0ZP=s64",
      "userId": "00750051097913617266"
     },
     "user_tz": 180
    },
    "id": "4MzWSIRVt6Rb",
    "outputId": "7a0305cc-5f5f-49bc-b5ca-ae1dd728b07e"
   },
   "outputs": [
    {
     "ename": "ValueError",
     "evalue": "ignored",
     "output_type": "error",
     "traceback": [
      "\u001b[0;31m---------------------------------------------------------------------------\u001b[0m",
      "\u001b[0;31mValueError\u001b[0m                                Traceback (most recent call last)",
      "\u001b[0;32m<ipython-input-57-7ef25deb20ad>\u001b[0m in \u001b[0;36m<module>\u001b[0;34m()\u001b[0m\n\u001b[1;32m      1\u001b[0m \u001b[0;32mfor\u001b[0m \u001b[0mi\u001b[0m \u001b[0;32min\u001b[0m \u001b[0mrange\u001b[0m\u001b[0;34m(\u001b[0m\u001b[0;36m10\u001b[0m\u001b[0;34m)\u001b[0m\u001b[0;34m:\u001b[0m\u001b[0;34m\u001b[0m\u001b[0;34m\u001b[0m\u001b[0m\n\u001b[1;32m      2\u001b[0m     \u001b[0mk\u001b[0m \u001b[0;34m=\u001b[0m \u001b[0mxval\u001b[0m\u001b[0;34m.\u001b[0m\u001b[0msample\u001b[0m\u001b[0;34m(\u001b[0m\u001b[0;36m1\u001b[0m\u001b[0;34m)\u001b[0m\u001b[0;34m.\u001b[0m\u001b[0mindex\u001b[0m\u001b[0;34m[\u001b[0m\u001b[0;36m0\u001b[0m\u001b[0;34m]\u001b[0m\u001b[0;34m\u001b[0m\u001b[0;34m\u001b[0m\u001b[0m\n\u001b[0;32m----> 3\u001b[0;31m     \u001b[0mprint\u001b[0m\u001b[0;34m(\u001b[0m\u001b[0;34m\"Movie: \"\u001b[0m\u001b[0;34m,\u001b[0m \u001b[0mtitle_df\u001b[0m\u001b[0;34m[\u001b[0m\u001b[0;34m'title'\u001b[0m\u001b[0;34m]\u001b[0m\u001b[0;34m[\u001b[0m\u001b[0mk\u001b[0m\u001b[0;34m]\u001b[0m\u001b[0;34m,\u001b[0m \u001b[0;34m\"\\nPredicted genre: \"\u001b[0m\u001b[0;34m,\u001b[0m \u001b[0minference\u001b[0m\u001b[0;34m(\u001b[0m\u001b[0mxval\u001b[0m\u001b[0;34m[\u001b[0m\u001b[0mk\u001b[0m\u001b[0;34m]\u001b[0m\u001b[0;34m)\u001b[0m\u001b[0;34m)\u001b[0m\u001b[0;34m,\u001b[0m \u001b[0mprint\u001b[0m\u001b[0;34m(\u001b[0m\u001b[0;34m\"Actual genre: \"\u001b[0m\u001b[0;34m,\u001b[0m\u001b[0mtitle_df\u001b[0m\u001b[0;34m[\u001b[0m\u001b[0;34m'genres'\u001b[0m\u001b[0;34m]\u001b[0m\u001b[0;34m[\u001b[0m\u001b[0mk\u001b[0m\u001b[0;34m]\u001b[0m\u001b[0;34m,\u001b[0m \u001b[0;34m\"\\n\"\u001b[0m\u001b[0;34m)\u001b[0m\u001b[0;34m\u001b[0m\u001b[0;34m\u001b[0m\u001b[0m\n\u001b[0m",
      "\u001b[0;32m<ipython-input-55-3f991ae54fa2>\u001b[0m in \u001b[0;36minference\u001b[0;34m(text)\u001b[0m\n\u001b[1;32m      2\u001b[0m     \u001b[0mprocessed_text\u001b[0m \u001b[0;34m=\u001b[0m \u001b[0mpre_process\u001b[0m\u001b[0;34m(\u001b[0m\u001b[0mtext\u001b[0m\u001b[0;34m)\u001b[0m\u001b[0;34m\u001b[0m\u001b[0;34m\u001b[0m\u001b[0m\n\u001b[1;32m      3\u001b[0m     \u001b[0mq_vec\u001b[0m \u001b[0;34m=\u001b[0m \u001b[0mtfidf_vectorizer\u001b[0m\u001b[0;34m.\u001b[0m\u001b[0mtransform\u001b[0m\u001b[0;34m(\u001b[0m\u001b[0;34m[\u001b[0m\u001b[0mprocessed_text\u001b[0m\u001b[0;34m]\u001b[0m\u001b[0;34m)\u001b[0m\u001b[0;34m\u001b[0m\u001b[0;34m\u001b[0m\u001b[0m\n\u001b[0;32m----> 4\u001b[0;31m     \u001b[0mq_pred\u001b[0m \u001b[0;34m=\u001b[0m \u001b[0mclf\u001b[0m\u001b[0;34m.\u001b[0m\u001b[0mpredict\u001b[0m\u001b[0;34m(\u001b[0m\u001b[0mq_vec\u001b[0m\u001b[0;34m)\u001b[0m\u001b[0;34m\u001b[0m\u001b[0;34m\u001b[0m\u001b[0m\n\u001b[0m\u001b[1;32m      5\u001b[0m     \u001b[0;32mreturn\u001b[0m \u001b[0mmultilabel_binarizer\u001b[0m\u001b[0;34m.\u001b[0m\u001b[0minverse_transform\u001b[0m\u001b[0;34m(\u001b[0m\u001b[0mq_pred\u001b[0m\u001b[0;34m)\u001b[0m\u001b[0;34m\u001b[0m\u001b[0;34m\u001b[0m\u001b[0m\n\u001b[1;32m      6\u001b[0m \u001b[0;32mdef\u001b[0m \u001b[0minference2\u001b[0m\u001b[0;34m(\u001b[0m\u001b[0mtext\u001b[0m\u001b[0;34m)\u001b[0m\u001b[0;34m:\u001b[0m\u001b[0;34m\u001b[0m\u001b[0;34m\u001b[0m\u001b[0m\n",
      "\u001b[0;32m/usr/local/lib/python3.6/dist-packages/sklearn/multiclass.py\u001b[0m in \u001b[0;36mpredict\u001b[0;34m(self, X)\u001b[0m\n\u001b[1;32m    331\u001b[0m             \u001b[0mindptr\u001b[0m \u001b[0;34m=\u001b[0m \u001b[0marray\u001b[0m\u001b[0;34m.\u001b[0m\u001b[0marray\u001b[0m\u001b[0;34m(\u001b[0m\u001b[0;34m'i'\u001b[0m\u001b[0;34m,\u001b[0m \u001b[0;34m[\u001b[0m\u001b[0;36m0\u001b[0m\u001b[0;34m]\u001b[0m\u001b[0;34m)\u001b[0m\u001b[0;34m\u001b[0m\u001b[0;34m\u001b[0m\u001b[0m\n\u001b[1;32m    332\u001b[0m             \u001b[0;32mfor\u001b[0m \u001b[0me\u001b[0m \u001b[0;32min\u001b[0m \u001b[0mself\u001b[0m\u001b[0;34m.\u001b[0m\u001b[0mestimators_\u001b[0m\u001b[0;34m:\u001b[0m\u001b[0;34m\u001b[0m\u001b[0;34m\u001b[0m\u001b[0m\n\u001b[0;32m--> 333\u001b[0;31m                 \u001b[0mindices\u001b[0m\u001b[0;34m.\u001b[0m\u001b[0mextend\u001b[0m\u001b[0;34m(\u001b[0m\u001b[0mnp\u001b[0m\u001b[0;34m.\u001b[0m\u001b[0mwhere\u001b[0m\u001b[0;34m(\u001b[0m\u001b[0m_predict_binary\u001b[0m\u001b[0;34m(\u001b[0m\u001b[0me\u001b[0m\u001b[0;34m,\u001b[0m \u001b[0mX\u001b[0m\u001b[0;34m)\u001b[0m \u001b[0;34m>\u001b[0m \u001b[0mthresh\u001b[0m\u001b[0;34m)\u001b[0m\u001b[0;34m[\u001b[0m\u001b[0;36m0\u001b[0m\u001b[0;34m]\u001b[0m\u001b[0;34m)\u001b[0m\u001b[0;34m\u001b[0m\u001b[0;34m\u001b[0m\u001b[0m\n\u001b[0m\u001b[1;32m    334\u001b[0m                 \u001b[0mindptr\u001b[0m\u001b[0;34m.\u001b[0m\u001b[0mappend\u001b[0m\u001b[0;34m(\u001b[0m\u001b[0mlen\u001b[0m\u001b[0;34m(\u001b[0m\u001b[0mindices\u001b[0m\u001b[0;34m)\u001b[0m\u001b[0;34m)\u001b[0m\u001b[0;34m\u001b[0m\u001b[0;34m\u001b[0m\u001b[0m\n\u001b[1;32m    335\u001b[0m             \u001b[0mdata\u001b[0m \u001b[0;34m=\u001b[0m \u001b[0mnp\u001b[0m\u001b[0;34m.\u001b[0m\u001b[0mones\u001b[0m\u001b[0;34m(\u001b[0m\u001b[0mlen\u001b[0m\u001b[0;34m(\u001b[0m\u001b[0mindices\u001b[0m\u001b[0;34m)\u001b[0m\u001b[0;34m,\u001b[0m \u001b[0mdtype\u001b[0m\u001b[0;34m=\u001b[0m\u001b[0mint\u001b[0m\u001b[0;34m)\u001b[0m\u001b[0;34m\u001b[0m\u001b[0;34m\u001b[0m\u001b[0m\n",
      "\u001b[0;32m/usr/local/lib/python3.6/dist-packages/sklearn/multiclass.py\u001b[0m in \u001b[0;36m_predict_binary\u001b[0;34m(estimator, X)\u001b[0m\n\u001b[1;32m     92\u001b[0m         \u001b[0;32mreturn\u001b[0m \u001b[0mestimator\u001b[0m\u001b[0;34m.\u001b[0m\u001b[0mpredict\u001b[0m\u001b[0;34m(\u001b[0m\u001b[0mX\u001b[0m\u001b[0;34m)\u001b[0m\u001b[0;34m\u001b[0m\u001b[0;34m\u001b[0m\u001b[0m\n\u001b[1;32m     93\u001b[0m     \u001b[0;32mtry\u001b[0m\u001b[0;34m:\u001b[0m\u001b[0;34m\u001b[0m\u001b[0;34m\u001b[0m\u001b[0m\n\u001b[0;32m---> 94\u001b[0;31m         \u001b[0mscore\u001b[0m \u001b[0;34m=\u001b[0m \u001b[0mnp\u001b[0m\u001b[0;34m.\u001b[0m\u001b[0mravel\u001b[0m\u001b[0;34m(\u001b[0m\u001b[0mestimator\u001b[0m\u001b[0;34m.\u001b[0m\u001b[0mdecision_function\u001b[0m\u001b[0;34m(\u001b[0m\u001b[0mX\u001b[0m\u001b[0;34m)\u001b[0m\u001b[0;34m)\u001b[0m\u001b[0;34m\u001b[0m\u001b[0;34m\u001b[0m\u001b[0m\n\u001b[0m\u001b[1;32m     95\u001b[0m     \u001b[0;32mexcept\u001b[0m \u001b[0;34m(\u001b[0m\u001b[0mAttributeError\u001b[0m\u001b[0;34m,\u001b[0m \u001b[0mNotImplementedError\u001b[0m\u001b[0;34m)\u001b[0m\u001b[0;34m:\u001b[0m\u001b[0;34m\u001b[0m\u001b[0;34m\u001b[0m\u001b[0m\n\u001b[1;32m     96\u001b[0m         \u001b[0;31m# probabilities of the positive class\u001b[0m\u001b[0;34m\u001b[0m\u001b[0;34m\u001b[0m\u001b[0;34m\u001b[0m\u001b[0m\n",
      "\u001b[0;32m/usr/local/lib/python3.6/dist-packages/sklearn/linear_model/_base.py\u001b[0m in \u001b[0;36mdecision_function\u001b[0;34m(self, X)\u001b[0m\n\u001b[1;32m    271\u001b[0m         \u001b[0;32mif\u001b[0m \u001b[0mX\u001b[0m\u001b[0;34m.\u001b[0m\u001b[0mshape\u001b[0m\u001b[0;34m[\u001b[0m\u001b[0;36m1\u001b[0m\u001b[0;34m]\u001b[0m \u001b[0;34m!=\u001b[0m \u001b[0mn_features\u001b[0m\u001b[0;34m:\u001b[0m\u001b[0;34m\u001b[0m\u001b[0;34m\u001b[0m\u001b[0m\n\u001b[1;32m    272\u001b[0m             raise ValueError(\"X has %d features per sample; expecting %d\"\n\u001b[0;32m--> 273\u001b[0;31m                              % (X.shape[1], n_features))\n\u001b[0m\u001b[1;32m    274\u001b[0m \u001b[0;34m\u001b[0m\u001b[0m\n\u001b[1;32m    275\u001b[0m         scores = safe_sparse_dot(X, self.coef_.T,\n",
      "\u001b[0;31mValueError\u001b[0m: X has 4500 features per sample; expecting 3995"
     ]
    }
   ],
   "source": [
    "# for i in range(10):\n",
    "#     k = xval.sample(1).index[0]\n",
    "#     print(\"Movie: \", title_df['title'][k], \"\\nPredicted genre: \", inference(xval[k])), print(\"Actual genre: \",title_df['genres'][k], \"\\n\")"
   ]
  },
  {
   "cell_type": "code",
   "execution_count": 58,
   "metadata": {
    "colab": {},
    "colab_type": "code",
    "executionInfo": {
     "elapsed": 851,
     "status": "ok",
     "timestamp": 1599265248050,
     "user": {
      "displayName": "Igor Cavalcanti",
      "photoUrl": "https://lh3.googleusercontent.com/a-/AOh14GgPu-bvlxQap1lJcqw5fk-8WeA_1lh_4JAVU0ZP=s64",
      "userId": "00750051097913617266"
     },
     "user_tz": 180
    },
    "id": "bduHD8cHt6SC"
   },
   "outputs": [],
   "source": [
    "from sklearn.linear_model import Perceptron"
   ]
  },
  {
   "cell_type": "markdown",
   "metadata": {
    "colab_type": "text",
    "id": "WpJLq1kb-Rnc"
   },
   "source": [
    "https://scikit-learn.org/stable/modules/generated/sklearn.multiclass.OneVsRestClassifier.html\n",
    "https://scikit-learn.org/stable/modules/linear_model.html#logistic-regression\n",
    "https://scikit-learn.org/stable/modules/generated/sklearn.linear_model.LogisticRegression.html#sklearn.linear_model.LogisticRegression\n",
    "\n",
    "https://scikit-learn.org/stable/modules/svm.html#regression\n",
    "https://scikit-learn.org/stable/modules/generated/sklearn.svm.SVC.html\n",
    "\n",
    "https://scikit-learn.org/stable/modules/generated/sklearn.linear_model.Perceptron.html#sklearn.linear_model.Perceptron.fit"
   ]
  },
  {
   "cell_type": "code",
   "execution_count": 59,
   "metadata": {
    "colab": {},
    "colab_type": "code",
    "executionInfo": {
     "elapsed": 881,
     "status": "ok",
     "timestamp": 1599265290670,
     "user": {
      "displayName": "Igor Cavalcanti",
      "photoUrl": "https://lh3.googleusercontent.com/a-/AOh14GgPu-bvlxQap1lJcqw5fk-8WeA_1lh_4JAVU0ZP=s64",
      "userId": "00750051097913617266"
     },
     "user_tz": 180
    },
    "id": "3ZX19kUi6GOw"
   },
   "outputs": [],
   "source": [
    "lr = LogisticRegression()\n",
    "prt = Perceptron(tol=1e-3, random_state=0)\n",
    "clf = OneVsRestClassifier(prt)\n",
    "prt2 = Perceptron(tol=1e-3, random_state=0,class_weight='balanced')\n",
    "clf2 = OneVsRestClassifier(prt2)\n",
    "prt3 = Perceptron(tol=1e-3, random_state=0,class_weight='balanced')\n",
    "clf3 = OneVsRestClassifier(prt3)"
   ]
  },
  {
   "cell_type": "code",
   "execution_count": 60,
   "metadata": {
    "colab": {
     "base_uri": "https://localhost:8080/",
     "height": 181
    },
    "colab_type": "code",
    "executionInfo": {
     "elapsed": 2271,
     "status": "ok",
     "timestamp": 1599265317316,
     "user": {
      "displayName": "Igor Cavalcanti",
      "photoUrl": "https://lh3.googleusercontent.com/a-/AOh14GgPu-bvlxQap1lJcqw5fk-8WeA_1lh_4JAVU0ZP=s64",
      "userId": "00750051097913617266"
     },
     "user_tz": 180
    },
    "id": "7flpxP1j6MsK",
    "outputId": "a8f421ed-e518-42dc-e977-e95d6a891b42"
   },
   "outputs": [
    {
     "data": {
      "text/plain": [
       "OneVsRestClassifier(estimator=Perceptron(alpha=0.0001, class_weight='balanced',\n",
       "                                         early_stopping=False, eta0=1.0,\n",
       "                                         fit_intercept=True, max_iter=1000,\n",
       "                                         n_iter_no_change=5, n_jobs=None,\n",
       "                                         penalty=None, random_state=0,\n",
       "                                         shuffle=True, tol=0.001,\n",
       "                                         validation_fraction=0.1, verbose=0,\n",
       "                                         warm_start=False),\n",
       "                    n_jobs=None)"
      ]
     },
     "execution_count": 60,
     "metadata": {
      "tags": []
     },
     "output_type": "execute_result"
    }
   ],
   "source": [
    "clf.fit(xtrain_tfidf, ytrain)\n",
    "clf2.fit(xtrain_tfidfb, ytrainb)\n",
    "clf3.fit(xtrain_tfidfb2, ytrainb2)"
   ]
  },
  {
   "cell_type": "code",
   "execution_count": 61,
   "metadata": {
    "colab": {},
    "colab_type": "code",
    "executionInfo": {
     "elapsed": 1143,
     "status": "ok",
     "timestamp": 1599265384092,
     "user": {
      "displayName": "Igor Cavalcanti",
      "photoUrl": "https://lh3.googleusercontent.com/a-/AOh14GgPu-bvlxQap1lJcqw5fk-8WeA_1lh_4JAVU0ZP=s64",
      "userId": "00750051097913617266"
     },
     "user_tz": 180
    },
    "id": "N1jRujJh6QdZ"
   },
   "outputs": [],
   "source": [
    "y_pred = clf.predict(xval_tfidf)\n",
    "y_pred2 = clf2.predict(xval_tfidfb)\n",
    "y_pred3 = clf3.predict(xval_tfidfb2) "
   ]
  },
  {
   "cell_type": "code",
   "execution_count": 62,
   "metadata": {
    "colab": {
     "base_uri": "https://localhost:8080/",
     "height": 35
    },
    "colab_type": "code",
    "executionInfo": {
     "elapsed": 1116,
     "status": "ok",
     "timestamp": 1599265414654,
     "user": {
      "displayName": "Igor Cavalcanti",
      "photoUrl": "https://lh3.googleusercontent.com/a-/AOh14GgPu-bvlxQap1lJcqw5fk-8WeA_1lh_4JAVU0ZP=s64",
      "userId": "00750051097913617266"
     },
     "user_tz": 180
    },
    "id": "tqDZZSrg6pDq",
    "outputId": "580cc364-6bf3-49f5-96f6-5cc6c372ccf4"
   },
   "outputs": [
    {
     "data": {
      "text/plain": [
       "0.3464912280701754"
      ]
     },
     "execution_count": 62,
     "metadata": {
      "tags": []
     },
     "output_type": "execute_result"
    }
   ],
   "source": [
    "f1_score(yval, y_pred, average=\"micro\")\n"
   ]
  },
  {
   "cell_type": "code",
   "execution_count": 63,
   "metadata": {
    "colab": {
     "base_uri": "https://localhost:8080/",
     "height": 35
    },
    "colab_type": "code",
    "executionInfo": {
     "elapsed": 1102,
     "status": "ok",
     "timestamp": 1599265414656,
     "user": {
      "displayName": "Igor Cavalcanti",
      "photoUrl": "https://lh3.googleusercontent.com/a-/AOh14GgPu-bvlxQap1lJcqw5fk-8WeA_1lh_4JAVU0ZP=s64",
      "userId": "00750051097913617266"
     },
     "user_tz": 180
    },
    "id": "zXJWRuMMAQw8",
    "outputId": "faa4d930-52d8-46ee-d468-2a69fb5fe99a"
   },
   "outputs": [
    {
     "data": {
      "text/plain": [
       "0.33431389513756704"
      ]
     },
     "execution_count": 63,
     "metadata": {
      "tags": []
     },
     "output_type": "execute_result"
    }
   ],
   "source": [
    "f1_score(yvalb, y_pred2, average=\"micro\")"
   ]
  },
  {
   "cell_type": "code",
   "execution_count": 64,
   "metadata": {
    "colab": {
     "base_uri": "https://localhost:8080/",
     "height": 35
    },
    "colab_type": "code",
    "executionInfo": {
     "elapsed": 1100,
     "status": "ok",
     "timestamp": 1599265414657,
     "user": {
      "displayName": "Igor Cavalcanti",
      "photoUrl": "https://lh3.googleusercontent.com/a-/AOh14GgPu-bvlxQap1lJcqw5fk-8WeA_1lh_4JAVU0ZP=s64",
      "userId": "00750051097913617266"
     },
     "user_tz": 180
    },
    "id": "bGMLeox7pVT0",
    "outputId": "9ac1e05e-50d2-4c65-ae57-4e92f012b655"
   },
   "outputs": [
    {
     "data": {
      "text/plain": [
       "0.6780845035046271"
      ]
     },
     "execution_count": 64,
     "metadata": {
      "tags": []
     },
     "output_type": "execute_result"
    }
   ],
   "source": [
    "f1_score(yvalb2, y_pred3, average=\"micro\")"
   ]
  },
  {
   "cell_type": "code",
   "execution_count": null,
   "metadata": {
    "colab": {
     "base_uri": "https://localhost:8080/",
     "height": 72
    },
    "colab_type": "code",
    "executionInfo": {
     "elapsed": 1238,
     "status": "ok",
     "timestamp": 1599004667077,
     "user": {
      "displayName": "Igor Cavalcanti",
      "photoUrl": "https://lh3.googleusercontent.com/a-/AOh14GgPu-bvlxQap1lJcqw5fk-8WeA_1lh_4JAVU0ZP=s64",
      "userId": "00750051097913617266"
     },
     "user_tz": 180
    },
    "id": "9Xtg1Ki18qHG",
    "outputId": "d285c7f4-7e99-43da-913c-2b2523e97943"
   },
   "outputs": [
    {
     "data": {
      "text/plain": [
       "array(['Avatar', 'Pirates Caribbean At World End', 'Spectre', ...,\n",
       "       'Signed Sealed Delivered', 'Shanghai Calling', 'My Date Drew'],\n",
       "      dtype=object)"
      ]
     },
     "execution_count": 58,
     "metadata": {
      "tags": []
     },
     "output_type": "execute_result"
    }
   ],
   "source": [
    "title_df['title'].unique()"
   ]
  },
  {
   "cell_type": "code",
   "execution_count": null,
   "metadata": {
    "colab": {},
    "colab_type": "code",
    "id": "SgbZdwQa6uXp"
   },
   "outputs": [],
   "source": [
    "# from sklearn.metrics import confusion_matrix\n",
    "# # from sklearn.metrics import ConfusionMatrixDisplay\n",
    "# from sklearn.metrics import multilabel_confusion_matrix\n",
    "\n",
    "# # cm = multilabel_confusion_matrix(yval, y_pred, labels=title_df['title'].unique())?\n",
    "\n",
    "# cm_display = ConfusionMatrixDisplay(cm, display_labels=title_df['title'].unique()).plot()\n",
    "# title_df['title'].shape  \n",
    "# title_df['title'].unique()"
   ]
  },
  {
   "cell_type": "code",
   "execution_count": 65,
   "metadata": {
    "colab": {},
    "colab_type": "code",
    "executionInfo": {
     "elapsed": 824,
     "status": "ok",
     "timestamp": 1599265475963,
     "user": {
      "displayName": "Igor Cavalcanti",
      "photoUrl": "https://lh3.googleusercontent.com/a-/AOh14GgPu-bvlxQap1lJcqw5fk-8WeA_1lh_4JAVU0ZP=s64",
      "userId": "00750051097913617266"
     },
     "user_tz": 180
    },
    "id": "1MrhOf_T62CC"
   },
   "outputs": [],
   "source": [
    "from sklearn.svm import SVC \n",
    "clf = OneVsRestClassifier(SVC())\n",
    "clf2 = OneVsRestClassifier(SVC(class_weight='balanced'))\n",
    "clf3 = OneVsRestClassifier(SVC(class_weight='balanced'))"
   ]
  },
  {
   "cell_type": "code",
   "execution_count": 66,
   "metadata": {
    "colab": {
     "base_uri": "https://localhost:8080/",
     "height": 145
    },
    "colab_type": "code",
    "executionInfo": {
     "elapsed": 1677971,
     "status": "ok",
     "timestamp": 1599267172939,
     "user": {
      "displayName": "Igor Cavalcanti",
      "photoUrl": "https://lh3.googleusercontent.com/a-/AOh14GgPu-bvlxQap1lJcqw5fk-8WeA_1lh_4JAVU0ZP=s64",
      "userId": "00750051097913617266"
     },
     "user_tz": 180
    },
    "id": "QbNAMGIbAHKs",
    "outputId": "2ae8b9c6-7f0e-4934-f2be-a6a7ed1bd2c9"
   },
   "outputs": [
    {
     "data": {
      "text/plain": [
       "OneVsRestClassifier(estimator=SVC(C=1.0, break_ties=False, cache_size=200,\n",
       "                                  class_weight='balanced', coef0=0.0,\n",
       "                                  decision_function_shape='ovr', degree=3,\n",
       "                                  gamma='scale', kernel='rbf', max_iter=-1,\n",
       "                                  probability=False, random_state=None,\n",
       "                                  shrinking=True, tol=0.001, verbose=False),\n",
       "                    n_jobs=None)"
      ]
     },
     "execution_count": 66,
     "metadata": {
      "tags": []
     },
     "output_type": "execute_result"
    }
   ],
   "source": [
    "clf.fit(xtrain_tfidf, ytrain)\n",
    "clf2.fit(xtrain_tfidfb, ytrainb)\n",
    "clf3.fit(xtrain_tfidfb2, ytrainb2)"
   ]
  },
  {
   "cell_type": "code",
   "execution_count": 67,
   "metadata": {
    "colab": {},
    "colab_type": "code",
    "executionInfo": {
     "elapsed": 170199,
     "status": "ok",
     "timestamp": 1599267344122,
     "user": {
      "displayName": "Igor Cavalcanti",
      "photoUrl": "https://lh3.googleusercontent.com/a-/AOh14GgPu-bvlxQap1lJcqw5fk-8WeA_1lh_4JAVU0ZP=s64",
      "userId": "00750051097913617266"
     },
     "user_tz": 180
    },
    "id": "6cjBcnpuAMiX"
   },
   "outputs": [],
   "source": [
    "y_pred = clf.predict(xval_tfidf)\n",
    "y_pred2 = clf2.predict(xval_tfidfb)\n",
    "y_pred3 = clf3.predict(xval_tfidfb2)\n",
    "# y_pred[3]"
   ]
  },
  {
   "cell_type": "code",
   "execution_count": 69,
   "metadata": {
    "colab": {
     "base_uri": "https://localhost:8080/",
     "height": 35
    },
    "colab_type": "code",
    "executionInfo": {
     "elapsed": 834,
     "status": "ok",
     "timestamp": 1599267368754,
     "user": {
      "displayName": "Igor Cavalcanti",
      "photoUrl": "https://lh3.googleusercontent.com/a-/AOh14GgPu-bvlxQap1lJcqw5fk-8WeA_1lh_4JAVU0ZP=s64",
      "userId": "00750051097913617266"
     },
     "user_tz": 180
    },
    "id": "iCeA7ta3ARvR",
    "outputId": "47b44ae2-649f-40e1-bdd7-db9e209bc8a9"
   },
   "outputs": [
    {
     "data": {
      "text/plain": [
       "0.27219321148825065"
      ]
     },
     "execution_count": 69,
     "metadata": {
      "tags": []
     },
     "output_type": "execute_result"
    }
   ],
   "source": [
    "f1_score(yval, y_pred, average=\"micro\")"
   ]
  },
  {
   "cell_type": "code",
   "execution_count": 70,
   "metadata": {
    "colab": {
     "base_uri": "https://localhost:8080/",
     "height": 35
    },
    "colab_type": "code",
    "executionInfo": {
     "elapsed": 882,
     "status": "ok",
     "timestamp": 1599267370995,
     "user": {
      "displayName": "Igor Cavalcanti",
      "photoUrl": "https://lh3.googleusercontent.com/a-/AOh14GgPu-bvlxQap1lJcqw5fk-8WeA_1lh_4JAVU0ZP=s64",
      "userId": "00750051097913617266"
     },
     "user_tz": 180
    },
    "id": "Nn8KgPG1B_qX",
    "outputId": "cffe8dad-0709-4ee8-9d90-948c7a9d393f"
   },
   "outputs": [
    {
     "data": {
      "text/plain": [
       "0.33090909090909093"
      ]
     },
     "execution_count": 70,
     "metadata": {
      "tags": []
     },
     "output_type": "execute_result"
    }
   ],
   "source": [
    "f1_score(yvalb, y_pred2, average=\"micro\")"
   ]
  },
  {
   "cell_type": "code",
   "execution_count": 71,
   "metadata": {
    "colab": {
     "base_uri": "https://localhost:8080/",
     "height": 35
    },
    "colab_type": "code",
    "executionInfo": {
     "elapsed": 802,
     "status": "ok",
     "timestamp": 1599267380552,
     "user": {
      "displayName": "Igor Cavalcanti",
      "photoUrl": "https://lh3.googleusercontent.com/a-/AOh14GgPu-bvlxQap1lJcqw5fk-8WeA_1lh_4JAVU0ZP=s64",
      "userId": "00750051097913617266"
     },
     "user_tz": 180
    },
    "id": "P8wwJY3zqAvz",
    "outputId": "85a83d77-b3c6-4b0b-ba59-704ab965ced8"
   },
   "outputs": [
    {
     "data": {
      "text/plain": [
       "0.7323009731177226"
      ]
     },
     "execution_count": 71,
     "metadata": {
      "tags": []
     },
     "output_type": "execute_result"
    }
   ],
   "source": [
    "f1_score(yvalb2, y_pred3, average=\"micro\")"
   ]
  },
  {
   "cell_type": "code",
   "execution_count": 73,
   "metadata": {
    "colab": {},
    "colab_type": "code",
    "executionInfo": {
     "elapsed": 1623,
     "status": "ok",
     "timestamp": 1599267399706,
     "user": {
      "displayName": "Igor Cavalcanti",
      "photoUrl": "https://lh3.googleusercontent.com/a-/AOh14GgPu-bvlxQap1lJcqw5fk-8WeA_1lh_4JAVU0ZP=s64",
      "userId": "00750051097913617266"
     },
     "user_tz": 180
    },
    "id": "E78VvwdsCI2y"
   },
   "outputs": [],
   "source": [
    " \n",
    "from sklearn.ensemble import RandomForestClassifier"
   ]
  },
  {
   "cell_type": "code",
   "execution_count": 74,
   "metadata": {
    "colab": {
     "base_uri": "https://localhost:8080/",
     "height": 163
    },
    "colab_type": "code",
    "executionInfo": {
     "elapsed": 309074,
     "status": "ok",
     "timestamp": 1599267707913,
     "user": {
      "displayName": "Igor Cavalcanti",
      "photoUrl": "https://lh3.googleusercontent.com/a-/AOh14GgPu-bvlxQap1lJcqw5fk-8WeA_1lh_4JAVU0ZP=s64",
      "userId": "00750051097913617266"
     },
     "user_tz": 180
    },
    "id": "y4lEmoLCCOn7",
    "outputId": "6c8497c7-2aad-45a3-e63c-31a0ed5e591a"
   },
   "outputs": [
    {
     "data": {
      "text/plain": [
       "RandomForestClassifier(bootstrap=True, ccp_alpha=0.0, class_weight='balanced',\n",
       "                       criterion='gini', max_depth=None, max_features='auto',\n",
       "                       max_leaf_nodes=None, max_samples=None,\n",
       "                       min_impurity_decrease=0.0, min_impurity_split=None,\n",
       "                       min_samples_leaf=1, min_samples_split=2,\n",
       "                       min_weight_fraction_leaf=0.0, n_estimators=100,\n",
       "                       n_jobs=None, oob_score=False, random_state=None,\n",
       "                       verbose=0, warm_start=False)"
      ]
     },
     "execution_count": 74,
     "metadata": {
      "tags": []
     },
     "output_type": "execute_result"
    }
   ],
   "source": [
    "clf_4 = RandomForestClassifier()\n",
    "clf_4.fit(xtrain_tfidf, ytrain)\n",
    "clf_4b = RandomForestClassifier(class_weight='balanced')\n",
    "clf_4b.fit(xtrain_tfidfb, ytrainb)\n",
    "clf_4b2 = RandomForestClassifier(class_weight='balanced')\n",
    "clf_4b2.fit(xtrain_tfidfb2, ytrainb2)"
   ]
  },
  {
   "cell_type": "code",
   "execution_count": 75,
   "metadata": {
    "colab": {
     "base_uri": "https://localhost:8080/",
     "height": 35
    },
    "colab_type": "code",
    "executionInfo": {
     "elapsed": 2406,
     "status": "ok",
     "timestamp": 1599267717532,
     "user": {
      "displayName": "Igor Cavalcanti",
      "photoUrl": "https://lh3.googleusercontent.com/a-/AOh14GgPu-bvlxQap1lJcqw5fk-8WeA_1lh_4JAVU0ZP=s64",
      "userId": "00750051097913617266"
     },
     "user_tz": 180
    },
    "id": "QI96KuVYCko0",
    "outputId": "41979935-d4f7-43f7-d42d-7161c35c3e2b"
   },
   "outputs": [
    {
     "data": {
      "text/plain": [
       "0.30785907859078593"
      ]
     },
     "execution_count": 75,
     "metadata": {
      "tags": []
     },
     "output_type": "execute_result"
    }
   ],
   "source": [
    "y_pred = clf_4.predict(xval_tfidf)\n",
    "f1_score(yval, y_pred, average=\"micro\")"
   ]
  },
  {
   "cell_type": "code",
   "execution_count": 76,
   "metadata": {
    "colab": {
     "base_uri": "https://localhost:8080/",
     "height": 35
    },
    "colab_type": "code",
    "executionInfo": {
     "elapsed": 3202,
     "status": "ok",
     "timestamp": 1599267719414,
     "user": {
      "displayName": "Igor Cavalcanti",
      "photoUrl": "https://lh3.googleusercontent.com/a-/AOh14GgPu-bvlxQap1lJcqw5fk-8WeA_1lh_4JAVU0ZP=s64",
      "userId": "00750051097913617266"
     },
     "user_tz": 180
    },
    "id": "1-fdWRqYC4kF",
    "outputId": "239df303-ba2d-40f1-d136-264f21b4fa00"
   },
   "outputs": [
    {
     "data": {
      "text/plain": [
       "0.31492969396195203"
      ]
     },
     "execution_count": 76,
     "metadata": {
      "tags": []
     },
     "output_type": "execute_result"
    }
   ],
   "source": [
    "y_pred2 = clf_4b.predict(xval_tfidfb)\n",
    "f1_score(yvalb, y_pred2, average=\"micro\")"
   ]
  },
  {
   "cell_type": "code",
   "execution_count": 77,
   "metadata": {
    "colab": {
     "base_uri": "https://localhost:8080/",
     "height": 35
    },
    "colab_type": "code",
    "executionInfo": {
     "elapsed": 5950,
     "status": "ok",
     "timestamp": 1599267722990,
     "user": {
      "displayName": "Igor Cavalcanti",
      "photoUrl": "https://lh3.googleusercontent.com/a-/AOh14GgPu-bvlxQap1lJcqw5fk-8WeA_1lh_4JAVU0ZP=s64",
      "userId": "00750051097913617266"
     },
     "user_tz": 180
    },
    "id": "Svj99DTGqZ_x",
    "outputId": "dce68828-8a23-4df5-d583-0ffb6939c365"
   },
   "outputs": [
    {
     "data": {
      "text/plain": [
       "0.7230451502634953"
      ]
     },
     "execution_count": 77,
     "metadata": {
      "tags": []
     },
     "output_type": "execute_result"
    }
   ],
   "source": [
    "y_pred3 = clf_4b2.predict(xval_tfidfb2)\n",
    "f1_score(yvalb2, y_pred3, average=\"micro\")"
   ]
  },
  {
   "cell_type": "code",
   "execution_count": 80,
   "metadata": {
    "colab": {},
    "colab_type": "code",
    "executionInfo": {
     "elapsed": 834,
     "status": "ok",
     "timestamp": 1599267754806,
     "user": {
      "displayName": "Igor Cavalcanti",
      "photoUrl": "https://lh3.googleusercontent.com/a-/AOh14GgPu-bvlxQap1lJcqw5fk-8WeA_1lh_4JAVU0ZP=s64",
      "userId": "00750051097913617266"
     },
     "user_tz": 180
    },
    "id": "kfKrJpLJDLw-"
   },
   "outputs": [],
   "source": [
    "from sklearn.metrics import accuracy_score"
   ]
  },
  {
   "cell_type": "code",
   "execution_count": 81,
   "metadata": {
    "colab": {
     "base_uri": "https://localhost:8080/",
     "height": 35
    },
    "colab_type": "code",
    "executionInfo": {
     "elapsed": 524,
     "status": "ok",
     "timestamp": 1599267755179,
     "user": {
      "displayName": "Igor Cavalcanti",
      "photoUrl": "https://lh3.googleusercontent.com/a-/AOh14GgPu-bvlxQap1lJcqw5fk-8WeA_1lh_4JAVU0ZP=s64",
      "userId": "00750051097913617266"
     },
     "user_tz": 180
    },
    "id": "GBodLd72DNA3",
    "outputId": "84641438-4b2f-4ee8-d785-14f31b35a9aa"
   },
   "outputs": [
    {
     "data": {
      "text/plain": [
       "0.5217092450452515"
      ]
     },
     "execution_count": 81,
     "metadata": {
      "tags": []
     },
     "output_type": "execute_result"
    }
   ],
   "source": [
    "accuracy_score(yvalb2, y_pred3)"
   ]
  },
  {
   "cell_type": "markdown",
   "metadata": {
    "colab_type": "text",
    "id": "GcW4cPVVymKn"
   },
   "source": [
    "# Terminou por aqui"
   ]
  },
  {
   "cell_type": "code",
   "execution_count": null,
   "metadata": {
    "colab": {},
    "colab_type": "code",
    "id": "mWouN7OGyZ9l"
   },
   "outputs": [],
   "source": []
  },
  {
   "cell_type": "code",
   "execution_count": null,
   "metadata": {
    "colab": {},
    "colab_type": "code",
    "id": "-26IA6I2yapg"
   },
   "outputs": [],
   "source": []
  },
  {
   "cell_type": "code",
   "execution_count": null,
   "metadata": {
    "colab": {},
    "colab_type": "code",
    "id": "8T5gp3OtyaWq"
   },
   "outputs": [],
   "source": []
  },
  {
   "cell_type": "code",
   "execution_count": null,
   "metadata": {
    "colab": {},
    "colab_type": "code",
    "id": "y2mjQ7_aC0Yw"
   },
   "outputs": [],
   "source": [
    "y_pred = clf.predict(xval_tfidf)\n",
    "f1_score(yval, y_pred, average=\"micro\")"
   ]
  },
  {
   "cell_type": "code",
   "execution_count": null,
   "metadata": {
    "colab": {
     "base_uri": "https://localhost:8080/",
     "height": 126
    },
    "colab_type": "code",
    "executionInfo": {
     "elapsed": 996,
     "status": "ok",
     "timestamp": 1599188803037,
     "user": {
      "displayName": "Igor Cavalcanti",
      "photoUrl": "https://lh3.googleusercontent.com/a-/AOh14GgPu-bvlxQap1lJcqw5fk-8WeA_1lh_4JAVU0ZP=s64",
      "userId": "00750051097913617266"
     },
     "user_tz": 180
    },
    "id": "LmN8X1TuFCr1",
    "outputId": "c3c85235-f41c-4bfa-85f3-85dd13b93cd5"
   },
   "outputs": [
    {
     "data": {
      "text/plain": [
       "DecisionTreeClassifier(ccp_alpha=0.0, class_weight='balanced', criterion='gini',\n",
       "                       max_depth=24, max_features=None, max_leaf_nodes=None,\n",
       "                       min_impurity_decrease=0.0, min_impurity_split=None,\n",
       "                       min_samples_leaf=1, min_samples_split=2,\n",
       "                       min_weight_fraction_leaf=0.0, presort='deprecated',\n",
       "                       random_state=None, splitter='random')"
      ]
     },
     "execution_count": 160,
     "metadata": {
      "tags": []
     },
     "output_type": "execute_result"
    }
   ],
   "source": [
    "from sklearn import tree\n",
    "clf  = tree.DecisionTreeClassifier(max_depth=24, criterion='gini', \n",
    "                                  splitter='random',class_weight='balanced')\n",
    "clf .fit(xtrain_tfidf , ytrain )\n",
    "y_pred  = clf .predict(xval_tfidf )\n",
    "f1_score(yval , y_pred , average=\"micro\")\n",
    " "
   ]
  },
  {
   "cell_type": "code",
   "execution_count": null,
   "metadata": {
    "colab": {
     "base_uri": "https://localhost:8080/",
     "height": 35
    },
    "colab_type": "code",
    "executionInfo": {
     "elapsed": 896,
     "status": "ok",
     "timestamp": 1599188834095,
     "user": {
      "displayName": "Igor Cavalcanti",
      "photoUrl": "https://lh3.googleusercontent.com/a-/AOh14GgPu-bvlxQap1lJcqw5fk-8WeA_1lh_4JAVU0ZP=s64",
      "userId": "00750051097913617266"
     },
     "user_tz": 180
    },
    "id": "6R-S9R0lFMbq",
    "outputId": "a13e588a-a4bf-4045-d87c-339c9c026195"
   },
   "outputs": [
    {
     "data": {
      "text/plain": [
       "0.27668332843281385"
      ]
     },
     "execution_count": 161,
     "metadata": {
      "tags": []
     },
     "output_type": "execute_result"
    }
   ],
   "source": [
    "clfb = tree.DecisionTreeClassifier(max_depth=24, criterion='gini', \n",
    "                                  splitter='random',class_weight='balanced')\n",
    "clfb.fit(xtrain_tfidfb, ytrainb)\n",
    "y_pred2 = clfb.predict(xval_tfidfb)\n",
    "f1_score(yvalb, y_pred2, average=\"micro\")"
   ]
  },
  {
   "cell_type": "code",
   "execution_count": null,
   "metadata": {
    "colab": {},
    "colab_type": "code",
    "id": "QkHQkxVGr6Hg"
   },
   "outputs": [],
   "source": [
    "clfb2 = tree.DecisionTreeClassifier(max_depth=24, criterion='gini', \n",
    "                                  splitter='random',class_weight='balanced')\n",
    "clfb2.fit(xtrain_tfidfb2, ytrainb2)\n",
    "y_pred3 = clfb2.predict(xval_tfidfb2)\n",
    "f1_score(yvalb2, y_pred3, average=\"micro\")"
   ]
  },
  {
   "cell_type": "code",
   "execution_count": null,
   "metadata": {
    "colab": {
     "base_uri": "https://localhost:8080/",
     "height": 35
    },
    "colab_type": "code",
    "executionInfo": {
     "elapsed": 1003,
     "status": "ok",
     "timestamp": 1599188856756,
     "user": {
      "displayName": "Igor Cavalcanti",
      "photoUrl": "https://lh3.googleusercontent.com/a-/AOh14GgPu-bvlxQap1lJcqw5fk-8WeA_1lh_4JAVU0ZP=s64",
      "userId": "00750051097913617266"
     },
     "user_tz": 180
    },
    "id": "SxfbQb7pFUJ6",
    "outputId": "34d0498f-2edb-46f7-b3b5-3fdec7b6066b"
   },
   "outputs": [
    {
     "data": {
      "text/plain": [
       "0.01644736842105263"
      ]
     },
     "execution_count": 162,
     "metadata": {
      "tags": []
     },
     "output_type": "execute_result"
    }
   ],
   "source": [
    "# accuracy_score(yvalb, y_pred2)"
   ]
  },
  {
   "cell_type": "code",
   "execution_count": null,
   "metadata": {
    "colab": {
     "base_uri": "https://localhost:8080/",
     "height": 926
    },
    "colab_type": "code",
    "executionInfo": {
     "elapsed": 18972,
     "status": "ok",
     "timestamp": 1599004686095,
     "user": {
      "displayName": "Igor Cavalcanti",
      "photoUrl": "https://lh3.googleusercontent.com/a-/AOh14GgPu-bvlxQap1lJcqw5fk-8WeA_1lh_4JAVU0ZP=s64",
      "userId": "00750051097913617266"
     },
     "user_tz": 180
    },
    "id": "fg6r0OkUKEP2",
    "outputId": "95f5b792-81a9-4c7f-f1ac-22a23e837a09"
   },
   "outputs": [
    {
     "name": "stdout",
     "output_type": "stream",
     "text": [
      "The Craft\n",
      "Movie:  The Craft \n",
      "Predicted genre:  [('Comedy', 'Crime', 'Family')]\n",
      "Actual genre:  ['Drama', 'Fantasy', 'Horror', 'Thriller'] \n",
      "\n",
      "Are We There Yet\n",
      "Movie:  Are We There Yet \n",
      "Predicted genre:  [()]\n",
      "Actual genre:  ['Adventure', 'Comedy', 'Family', 'Romance'] \n",
      "\n",
      "April Fool Day\n",
      "Movie:  April Fool Day \n",
      "Predicted genre:  [()]\n",
      "Actual genre:  ['Horror', 'Mystery'] \n",
      "\n",
      "Shutter Island\n",
      "Movie:  Shutter Island \n",
      "Predicted genre:  [()]\n",
      "Actual genre:  ['Drama', 'Thriller', 'Mystery'] \n",
      "\n",
      "Desperado\n",
      "Movie:  Desperado \n",
      "Predicted genre:  [()]\n",
      "Actual genre:  ['Thriller', 'Action', 'Crime'] \n",
      "\n",
      "Grosse Pointe Blank\n",
      "Movie:  Grosse Pointe Blank \n",
      "Predicted genre:  [()]\n",
      "Actual genre:  ['Action', 'Comedy', 'Thriller', 'Romance'] \n",
      "\n",
      "All Pretty Horses\n",
      "Movie:  All Pretty Horses \n",
      "Predicted genre:  [()]\n",
      "Actual genre:  ['Drama', 'Romance', 'Western'] \n",
      "\n",
      "The Last Exorcism\n",
      "Movie:  The Last Exorcism \n",
      "Predicted genre:  [()]\n",
      "Actual genre:  ['Horror', 'Drama', 'Thriller'] \n",
      "\n",
      "Pink Flamingos\n",
      "Movie:  Pink Flamingos \n",
      "Predicted genre:  [()]\n",
      "Actual genre:  ['Horror', 'Comedy', 'Crime'] \n",
      "\n",
      "Alfie\n",
      "Movie:  Alfie \n",
      "Predicted genre:  [()]\n",
      "Actual genre:  ['Comedy'] \n",
      "\n"
     ]
    }
   ],
   "source": [
    "def inference(text):\n",
    "    print(text)\n",
    "    processed_text = pre_process(text)\n",
    "    q_vec = tfidf_vectorizer.transform([processed_text])\n",
    "    q_pred = clf.predict(q_vec)\n",
    "    # q_pred = clf.predict(q_vec)\n",
    "    return multilabel_binarizer.inverse_transform(q_pred)\n",
    "for i in range(10):\n",
    "    k = xval.sample(2).index[0]\n",
    "    print(\"Movie: \", title_df['title'][k], \"\\nPredicted genre: \", inference(xval[k])), print(\"Actual genre: \",title_df['genres'][k], \"\\n\")"
   ]
  },
  {
   "cell_type": "code",
   "execution_count": null,
   "metadata": {
    "colab": {},
    "colab_type": "code",
    "id": "qq5SPeA-Bb9o"
   },
   "outputs": [],
   "source": [
    "\n",
    "#  tree.plot_tree(clf) \n",
    "# https://scikit-learn.org/stable/modules/generated/sklearn.ensemble.GradientBoostingClassifier.html?highlight=classifier#sklearn.ensemble.GradientBoostingClassifier\n",
    "# https://scikit-learn.org/stable/modules/generated/sklearn.tree.ExtraTreeClassifier.html?highlight=classifier#sklearn.tree.ExtraTreeClassifier\n",
    "# https://github.com/aliemreoz/movie-genre-prediction\n",
    "# https://github.com/avijit2verma/movie-genre-prediction\n",
    "# https://elitedatascience.com/imbalanced-classes"
   ]
  },
  {
   "cell_type": "code",
   "execution_count": null,
   "metadata": {
    "colab": {
     "base_uri": "https://localhost:8080/",
     "height": 35
    },
    "colab_type": "code",
    "executionInfo": {
     "elapsed": 54398,
     "status": "ok",
     "timestamp": 1599189102431,
     "user": {
      "displayName": "Igor Cavalcanti",
      "photoUrl": "https://lh3.googleusercontent.com/a-/AOh14GgPu-bvlxQap1lJcqw5fk-8WeA_1lh_4JAVU0ZP=s64",
      "userId": "00750051097913617266"
     },
     "user_tz": 180
    },
    "id": "wCBROx1xEc8c",
    "outputId": "27c9eb56-61a4-4ba3-d7b0-d254132036cd"
   },
   "outputs": [
    {
     "name": "stdout",
     "output_type": "stream",
     "text": [
      "0.007287941590810578 {'criterion': 'gini', 'max_depth': 22, 'splitter': 'random'}\n"
     ]
    }
   ],
   "source": [
    "from sklearn.tree import DecisionTreeClassifier\n",
    "from sklearn.model_selection import GridSearchCV\n",
    "parameters = {'max_depth':range(3,25), 'criterion':('gini', 'entropy'),'splitter':('random','best')} \n",
    "clf2 = GridSearchCV(DecisionTreeClassifier(class_weight='balanced'), parameters, n_jobs=4)\n",
    "clf2.fit(X=xtrain_tfidf, y=ytrain) \n",
    "\n",
    "tree_model = clf2.best_estimator_\n",
    "print (clf2.best_score_, clf2.best_params_) "
   ]
  },
  {
   "cell_type": "code",
   "execution_count": null,
   "metadata": {
    "colab": {
     "base_uri": "https://localhost:8080/",
     "height": 35
    },
    "colab_type": "code",
    "executionInfo": {
     "elapsed": 899,
     "status": "ok",
     "timestamp": 1599189634948,
     "user": {
      "displayName": "Igor Cavalcanti",
      "photoUrl": "https://lh3.googleusercontent.com/a-/AOh14GgPu-bvlxQap1lJcqw5fk-8WeA_1lh_4JAVU0ZP=s64",
      "userId": "00750051097913617266"
     },
     "user_tz": 180
    },
    "id": "GPHeemJjH6gu",
    "outputId": "07c65066-3315-4ba7-b3c5-d24c6ce22adf"
   },
   "outputs": [
    {
     "data": {
      "text/plain": [
       "0.27536402066697974"
      ]
     },
     "execution_count": 166,
     "metadata": {
      "tags": []
     },
     "output_type": "execute_result"
    }
   ],
   "source": [
    "clf2 = tree.DecisionTreeClassifier(max_depth=22, criterion='gini', \n",
    "                                  splitter='random',class_weight='balanced')\n",
    "clf2.fit(xtrain_tfidfb, ytrainb)\n",
    "y_predb = clf2.predict(xval_tfidfb)\n",
    "f1_score(yvalb, y_predb, average=\"micro\")"
   ]
  },
  {
   "cell_type": "code",
   "execution_count": null,
   "metadata": {
    "colab": {
     "base_uri": "https://localhost:8080/",
     "height": 35
    },
    "colab_type": "code",
    "executionInfo": {
     "elapsed": 117007,
     "status": "ok",
     "timestamp": 1599004784496,
     "user": {
      "displayName": "Igor Cavalcanti",
      "photoUrl": "https://lh3.googleusercontent.com/a-/AOh14GgPu-bvlxQap1lJcqw5fk-8WeA_1lh_4JAVU0ZP=s64",
      "userId": "00750051097913617266"
     },
     "user_tz": 180
    },
    "id": "tC2WFU8YBqyI",
    "outputId": "0cfd6d56-3dad-44fd-e7f9-02ea8c3171f2"
   },
   "outputs": [
    {
     "name": "stdout",
     "output_type": "stream",
     "text": [
      "0.04243200043346338 {'criterion': 'gini', 'max_depth': 32, 'splitter': 'random'}\n"
     ]
    }
   ],
   "source": [
    "\n",
    "from sklearn.model_selection import GridSearchCV\n",
    "parameters = {'max_depth':range(3,35), 'criterion':('gini', 'entropy'),'splitter':('random','best')} \n",
    "clf = GridSearchCV(tree.DecisionTreeClassifier(), parameters, n_jobs=4)\n",
    "clf.fit(X=xtrain_tfidf, y=ytrain) \n",
    "\n",
    "tree_model = clf.best_estimator_\n",
    "print (clf.best_score_, clf.best_params_) "
   ]
  },
  {
   "cell_type": "code",
   "execution_count": null,
   "metadata": {
    "colab": {
     "base_uri": "https://localhost:8080/",
     "height": 126
    },
    "colab_type": "code",
    "executionInfo": {
     "elapsed": 116849,
     "status": "ok",
     "timestamp": 1599004784497,
     "user": {
      "displayName": "Igor Cavalcanti",
      "photoUrl": "https://lh3.googleusercontent.com/a-/AOh14GgPu-bvlxQap1lJcqw5fk-8WeA_1lh_4JAVU0ZP=s64",
      "userId": "00750051097913617266"
     },
     "user_tz": 180
    },
    "id": "Fjxl26s3PyoE",
    "outputId": "861d4259-cffe-4b67-e666-baea10a51e17"
   },
   "outputs": [
    {
     "data": {
      "text/plain": [
       "DecisionTreeClassifier(ccp_alpha=0.0, class_weight=None, criterion='gini',\n",
       "                       max_depth=30, max_features=None, max_leaf_nodes=None,\n",
       "                       min_impurity_decrease=0.0, min_impurity_split=None,\n",
       "                       min_samples_leaf=1, min_samples_split=2,\n",
       "                       min_weight_fraction_leaf=0.0, presort='deprecated',\n",
       "                       random_state=None, splitter='random')"
      ]
     },
     "execution_count": 69,
     "metadata": {
      "tags": []
     },
     "output_type": "execute_result"
    }
   ],
   "source": [
    "clf = tree.DecisionTreeClassifier(max_depth=30, criterion='gini', \n",
    "                                  splitter='random',)\n",
    "clf.fit(xtrain_tfidf, ytrain)"
   ]
  },
  {
   "cell_type": "code",
   "execution_count": null,
   "metadata": {
    "colab": {
     "base_uri": "https://localhost:8080/",
     "height": 35
    },
    "colab_type": "code",
    "executionInfo": {
     "elapsed": 116723,
     "status": "ok",
     "timestamp": 1599004784498,
     "user": {
      "displayName": "Igor Cavalcanti",
      "photoUrl": "https://lh3.googleusercontent.com/a-/AOh14GgPu-bvlxQap1lJcqw5fk-8WeA_1lh_4JAVU0ZP=s64",
      "userId": "00750051097913617266"
     },
     "user_tz": 180
    },
    "id": "TOpShgNUSZzl",
    "outputId": "7ff55dec-f81c-45c9-aaef-51f60a5e0816"
   },
   "outputs": [
    {
     "data": {
      "text/plain": [
       "0.1408140814081408"
      ]
     },
     "execution_count": 70,
     "metadata": {
      "tags": []
     },
     "output_type": "execute_result"
    }
   ],
   "source": [
    "y_pred = clf.predict(xval_tfidf)\n",
    "f1_score(yval, y_pred, average=\"micro\")"
   ]
  },
  {
   "cell_type": "code",
   "execution_count": null,
   "metadata": {
    "colab": {
     "base_uri": "https://localhost:8080/",
     "height": 926
    },
    "colab_type": "code",
    "executionInfo": {
     "elapsed": 116416,
     "status": "ok",
     "timestamp": 1599004784498,
     "user": {
      "displayName": "Igor Cavalcanti",
      "photoUrl": "https://lh3.googleusercontent.com/a-/AOh14GgPu-bvlxQap1lJcqw5fk-8WeA_1lh_4JAVU0ZP=s64",
      "userId": "00750051097913617266"
     },
     "user_tz": 180
    },
    "id": "n9WsmS48ScO1",
    "outputId": "2ffda162-6931-4a11-b9d8-225861a881da"
   },
   "outputs": [
    {
     "name": "stdout",
     "output_type": "stream",
     "text": [
      "Spaceballs\n",
      "Movie:  Spaceballs \n",
      "Predicted genre:  [()]\n",
      "Actual genre:  ['Comedy', 'Science Fiction'] \n",
      "\n",
      "The Brothers McMullen\n",
      "Movie:  The Brothers McMullen \n",
      "Predicted genre:  [('Drama',)]\n",
      "Actual genre:  ['Comedy', 'Drama', 'Romance'] \n",
      "\n",
      "Y Tu Mamá También\n",
      "Movie:  Y Tu Mamá También \n",
      "Predicted genre:  [()]\n",
      "Actual genre:  ['Drama', 'Romance'] \n",
      "\n",
      "Final Fantasy The Spirits Within\n",
      "Movie:  Final Fantasy The Spirits Within \n",
      "Predicted genre:  [('Drama',)]\n",
      "Actual genre:  ['Adventure', 'Action', 'Animation', 'Fantasy', 'Science Fiction', 'Thriller'] \n",
      "\n",
      "The Long Kiss Goodnight\n",
      "Movie:  The Long Kiss Goodnight \n",
      "Predicted genre:  [('Drama',)]\n",
      "Actual genre:  ['Crime', 'Action', 'Mystery', 'Thriller'] \n",
      "\n",
      "Soul Plane\n",
      "Movie:  Soul Plane \n",
      "Predicted genre:  [()]\n",
      "Actual genre:  ['Romance', 'Comedy'] \n",
      "\n",
      "The Tree Life\n",
      "Movie:  The Tree Life \n",
      "Predicted genre:  [('Drama',)]\n",
      "Actual genre:  ['Drama', 'Fantasy'] \n",
      "\n",
      "The Perez Family\n",
      "Movie:  The Perez Family \n",
      "Predicted genre:  [('Drama',)]\n",
      "Actual genre:  ['Comedy', 'Drama', 'Romance'] \n",
      "\n",
      "Winter Passing\n",
      "Movie:  Winter Passing \n",
      "Predicted genre:  [()]\n",
      "Actual genre:  ['Comedy', 'Drama'] \n",
      "\n",
      "Blue Jasmine\n",
      "Movie:  Blue Jasmine \n",
      "Predicted genre:  [()]\n",
      "Actual genre:  ['Comedy', 'Drama'] \n",
      "\n"
     ]
    }
   ],
   "source": [
    "def inference(text):\n",
    "    print(text)\n",
    "    processed_text = pre_process(text)\n",
    "    q_vec = tfidf_vectorizer.transform([processed_text])\n",
    "    q_pred = clf.predict(q_vec)\n",
    "    # q_pred = clf.predict(q_vec)\n",
    "    return multilabel_binarizer.inverse_transform(q_pred)\n",
    "for i in range(10):\n",
    "    k = xval.sample(2).index[0]\n",
    "    print(\"Movie: \", title_df['title'][k], \"\\nPredicted genre: \", inference(xval[k])), print(\"Actual genre: \",title_df['genres'][k], \"\\n\")"
   ]
  },
  {
   "cell_type": "code",
   "execution_count": null,
   "metadata": {
    "colab": {
     "base_uri": "https://localhost:8080/",
     "height": 242
    },
    "colab_type": "code",
    "executionInfo": {
     "elapsed": 972,
     "status": "ok",
     "timestamp": 1599005638741,
     "user": {
      "displayName": "Igor Cavalcanti",
      "photoUrl": "https://lh3.googleusercontent.com/a-/AOh14GgPu-bvlxQap1lJcqw5fk-8WeA_1lh_4JAVU0ZP=s64",
      "userId": "00750051097913617266"
     },
     "user_tz": 180
    },
    "id": "xcu750pmSoKj",
    "outputId": "c5cf0693-b2f4-49d4-83dd-4ed931b716a9"
   },
   "outputs": [
    {
     "data": {
      "text/html": [
       "<div>\n",
       "<style scoped>\n",
       "    .dataframe tbody tr th:only-of-type {\n",
       "        vertical-align: middle;\n",
       "    }\n",
       "\n",
       "    .dataframe tbody tr th {\n",
       "        vertical-align: top;\n",
       "    }\n",
       "\n",
       "    .dataframe thead th {\n",
       "        text-align: right;\n",
       "    }\n",
       "</style>\n",
       "<table border=\"1\" class=\"dataframe\">\n",
       "  <thead>\n",
       "    <tr style=\"text-align: right;\">\n",
       "      <th></th>\n",
       "      <th>overview</th>\n",
       "      <th>genres</th>\n",
       "      <th>title</th>\n",
       "      <th>keywords2</th>\n",
       "      <th>join</th>\n",
       "    </tr>\n",
       "  </thead>\n",
       "  <tbody>\n",
       "    <tr>\n",
       "      <th>0</th>\n",
       "      <td>In 22nd century paraplegic Marine dispatched m...</td>\n",
       "      <td>[Action, Adventure, Fantasy, Science Fiction]</td>\n",
       "      <td>Avatar</td>\n",
       "      <td>culture clash future space war space colony so...</td>\n",
       "      <td>Avatar In 22nd century paraplegic Marine dispa...</td>\n",
       "    </tr>\n",
       "    <tr>\n",
       "      <th>1</th>\n",
       "      <td>Captain Barbossa long believed dead come back ...</td>\n",
       "      <td>[Adventure, Fantasy, Action]</td>\n",
       "      <td>Pirates Caribbean At World End</td>\n",
       "      <td>ocean drug abuse exotic island east india trad...</td>\n",
       "      <td>Pirates Caribbean At World End Captain Barboss...</td>\n",
       "    </tr>\n",
       "    <tr>\n",
       "      <th>2</th>\n",
       "      <td>A cryptic message Bond ’ past sends trail unco...</td>\n",
       "      <td>[Action, Adventure, Crime]</td>\n",
       "      <td>Spectre</td>\n",
       "      <td>spy based novel secret agent sequel mi6 britis...</td>\n",
       "      <td>Spectre A cryptic message Bond ’ past sends tr...</td>\n",
       "    </tr>\n",
       "  </tbody>\n",
       "</table>\n",
       "</div>"
      ],
      "text/plain": [
       "                                            overview  \\\n",
       "0  In 22nd century paraplegic Marine dispatched m...   \n",
       "1  Captain Barbossa long believed dead come back ...   \n",
       "2  A cryptic message Bond ’ past sends trail unco...   \n",
       "\n",
       "                                          genres  \\\n",
       "0  [Action, Adventure, Fantasy, Science Fiction]   \n",
       "1                   [Adventure, Fantasy, Action]   \n",
       "2                     [Action, Adventure, Crime]   \n",
       "\n",
       "                            title  \\\n",
       "0                          Avatar   \n",
       "1  Pirates Caribbean At World End   \n",
       "2                         Spectre   \n",
       "\n",
       "                                           keywords2  \\\n",
       "0  culture clash future space war space colony so...   \n",
       "1  ocean drug abuse exotic island east india trad...   \n",
       "2  spy based novel secret agent sequel mi6 britis...   \n",
       "\n",
       "                                                join  \n",
       "0  Avatar In 22nd century paraplegic Marine dispa...  \n",
       "1  Pirates Caribbean At World End Captain Barboss...  \n",
       "2  Spectre A cryptic message Bond ’ past sends tr...  "
      ]
     },
     "execution_count": 109,
     "metadata": {
      "tags": []
     },
     "output_type": "execute_result"
    }
   ],
   "source": [
    "title_df['join'] = title_df['title'] + ' '+title_df['overview'] + ' '+title_df['keywords2']  \n",
    "title_df.head(3)"
   ]
  },
  {
   "cell_type": "markdown",
   "metadata": {
    "colab_type": "text",
    "id": "Cd8xgFxjHQ7m"
   },
   "source": [
    "## Vamos refazer os códigos com o overview"
   ]
  },
  {
   "cell_type": "code",
   "execution_count": null,
   "metadata": {
    "colab": {},
    "colab_type": "code",
    "id": "g5IfmXoVGy_1"
   },
   "outputs": [],
   "source": [
    "from sklearn import model_selection\n",
    "xtrain, xval, ytrain, yval = model_selection.train_test_split(title_df['join'], y, test_size=0.2, random_state=512)"
   ]
  },
  {
   "cell_type": "code",
   "execution_count": null,
   "metadata": {
    "colab": {},
    "colab_type": "code",
    "id": "efMQkXf2He3j"
   },
   "outputs": [],
   "source": [
    "lr = LogisticRegression()\n",
    "clf = OneVsRestClassifier(lr)\n"
   ]
  },
  {
   "cell_type": "code",
   "execution_count": null,
   "metadata": {
    "colab": {
     "base_uri": "https://localhost:8080/",
     "height": 199
    },
    "colab_type": "code",
    "executionInfo": {
     "elapsed": 1876,
     "status": "ok",
     "timestamp": 1599005655614,
     "user": {
      "displayName": "Igor Cavalcanti",
      "photoUrl": "https://lh3.googleusercontent.com/a-/AOh14GgPu-bvlxQap1lJcqw5fk-8WeA_1lh_4JAVU0ZP=s64",
      "userId": "00750051097913617266"
     },
     "user_tz": 180
    },
    "id": "ak1Y1O4hHrJa",
    "outputId": "e2cb3ea0-0d68-4617-cdc9-f897a46fb56e"
   },
   "outputs": [
    {
     "data": {
      "text/plain": [
       "OneVsRestClassifier(estimator=LogisticRegression(C=1.0, class_weight=None,\n",
       "                                                 dual=False, fit_intercept=True,\n",
       "                                                 intercept_scaling=1,\n",
       "                                                 l1_ratio=None, max_iter=100,\n",
       "                                                 multi_class='auto',\n",
       "                                                 n_jobs=None, penalty='l2',\n",
       "                                                 random_state=None,\n",
       "                                                 solver='lbfgs', tol=0.0001,\n",
       "                                                 verbose=0, warm_start=False),\n",
       "                    n_jobs=None)"
      ]
     },
     "execution_count": 112,
     "metadata": {
      "tags": []
     },
     "output_type": "execute_result"
    }
   ],
   "source": [
    "clf.fit(xtrain_tfidf, ytrain)"
   ]
  },
  {
   "cell_type": "code",
   "execution_count": null,
   "metadata": {
    "colab": {},
    "colab_type": "code",
    "id": "DLEuzNmWHsHs"
   },
   "outputs": [],
   "source": [
    "y_pred = clf.predict(xval_tfidf)"
   ]
  },
  {
   "cell_type": "code",
   "execution_count": null,
   "metadata": {
    "colab": {
     "base_uri": "https://localhost:8080/",
     "height": 35
    },
    "colab_type": "code",
    "executionInfo": {
     "elapsed": 1520,
     "status": "ok",
     "timestamp": 1599005657527,
     "user": {
      "displayName": "Igor Cavalcanti",
      "photoUrl": "https://lh3.googleusercontent.com/a-/AOh14GgPu-bvlxQap1lJcqw5fk-8WeA_1lh_4JAVU0ZP=s64",
      "userId": "00750051097913617266"
     },
     "user_tz": 180
    },
    "id": "g7mHNveyHtfl",
    "outputId": "e7dd09a8-a14d-46f8-f8ba-b2cd14e2274a"
   },
   "outputs": [
    {
     "data": {
      "text/plain": [
       "()"
      ]
     },
     "execution_count": 114,
     "metadata": {
      "tags": []
     },
     "output_type": "execute_result"
    }
   ],
   "source": [
    "multilabel_binarizer.inverse_transform(y_pred)[3]"
   ]
  },
  {
   "cell_type": "code",
   "execution_count": null,
   "metadata": {
    "colab": {
     "base_uri": "https://localhost:8080/",
     "height": 35
    },
    "colab_type": "code",
    "executionInfo": {
     "elapsed": 696,
     "status": "ok",
     "timestamp": 1599005657529,
     "user": {
      "displayName": "Igor Cavalcanti",
      "photoUrl": "https://lh3.googleusercontent.com/a-/AOh14GgPu-bvlxQap1lJcqw5fk-8WeA_1lh_4JAVU0ZP=s64",
      "userId": "00750051097913617266"
     },
     "user_tz": 180
    },
    "id": "-j9nC_SQHxBN",
    "outputId": "21cb5d6b-bfb0-4483-8eac-0b334d67f4b6"
   },
   "outputs": [
    {
     "data": {
      "text/plain": [
       "0.22792607802874743"
      ]
     },
     "execution_count": 115,
     "metadata": {
      "tags": []
     },
     "output_type": "execute_result"
    }
   ],
   "source": [
    "f1_score(yval, y_pred, average=\"micro\")"
   ]
  },
  {
   "cell_type": "code",
   "execution_count": null,
   "metadata": {
    "colab": {},
    "colab_type": "code",
    "id": "JIS_1hm9HyNs"
   },
   "outputs": [],
   "source": [
    "y_pred_prob = clf.predict_proba(xval_tfidf)"
   ]
  },
  {
   "cell_type": "code",
   "execution_count": null,
   "metadata": {
    "colab": {},
    "colab_type": "code",
    "id": "lPBzL6IfH6ye"
   },
   "outputs": [],
   "source": [
    "t = 0.4 # threshold value\n",
    "y_pred_new = (y_pred_prob >= t).astype(int)"
   ]
  },
  {
   "cell_type": "code",
   "execution_count": null,
   "metadata": {
    "colab": {
     "base_uri": "https://localhost:8080/",
     "height": 35
    },
    "colab_type": "code",
    "executionInfo": {
     "elapsed": 961,
     "status": "ok",
     "timestamp": 1599004987284,
     "user": {
      "displayName": "Igor Cavalcanti",
      "photoUrl": "https://lh3.googleusercontent.com/a-/AOh14GgPu-bvlxQap1lJcqw5fk-8WeA_1lh_4JAVU0ZP=s64",
      "userId": "00750051097913617266"
     },
     "user_tz": 180
    },
    "id": "ZMgeT-ozH72W",
    "outputId": "75f0cef9-6047-4193-9d99-6486bc3c0436"
   },
   "outputs": [
    {
     "data": {
      "text/plain": [
       "0.38274638274638273"
      ]
     },
     "execution_count": 80,
     "metadata": {
      "tags": []
     },
     "output_type": "execute_result"
    }
   ],
   "source": [
    "f1_score(yval, y_pred_new, average=\"micro\")"
   ]
  },
  {
   "cell_type": "markdown",
   "metadata": {
    "colab_type": "text",
    "id": "Dp6_HYhFIAEC"
   },
   "source": [
    "Perceptron"
   ]
  },
  {
   "cell_type": "code",
   "execution_count": null,
   "metadata": {
    "colab": {},
    "colab_type": "code",
    "id": "w2TFadj6H8uN"
   },
   "outputs": [],
   "source": [
    "lr = LogisticRegression()\n",
    "prt = Perceptron(tol=1e-3, random_state=0)\n",
    "clf = OneVsRestClassifier(prt)\n"
   ]
  },
  {
   "cell_type": "code",
   "execution_count": null,
   "metadata": {
    "colab": {
     "base_uri": "https://localhost:8080/",
     "height": 181
    },
    "colab_type": "code",
    "executionInfo": {
     "elapsed": 1286,
     "status": "ok",
     "timestamp": 1599005015310,
     "user": {
      "displayName": "Igor Cavalcanti",
      "photoUrl": "https://lh3.googleusercontent.com/a-/AOh14GgPu-bvlxQap1lJcqw5fk-8WeA_1lh_4JAVU0ZP=s64",
      "userId": "00750051097913617266"
     },
     "user_tz": 180
    },
    "id": "FZjbw0BnICYl",
    "outputId": "b94e9878-9ed8-4d1f-b200-d37243d269d2"
   },
   "outputs": [
    {
     "data": {
      "text/plain": [
       "OneVsRestClassifier(estimator=Perceptron(alpha=0.0001, class_weight=None,\n",
       "                                         early_stopping=False, eta0=1.0,\n",
       "                                         fit_intercept=True, max_iter=1000,\n",
       "                                         n_iter_no_change=5, n_jobs=None,\n",
       "                                         penalty=None, random_state=0,\n",
       "                                         shuffle=True, tol=0.001,\n",
       "                                         validation_fraction=0.1, verbose=0,\n",
       "                                         warm_start=False),\n",
       "                    n_jobs=None)"
      ]
     },
     "execution_count": 82,
     "metadata": {
      "tags": []
     },
     "output_type": "execute_result"
    }
   ],
   "source": [
    "clf.fit(xtrain_tfidf, ytrain)"
   ]
  },
  {
   "cell_type": "code",
   "execution_count": null,
   "metadata": {
    "colab": {
     "base_uri": "https://localhost:8080/",
     "height": 35
    },
    "colab_type": "code",
    "executionInfo": {
     "elapsed": 927,
     "status": "ok",
     "timestamp": 1599005020783,
     "user": {
      "displayName": "Igor Cavalcanti",
      "photoUrl": "https://lh3.googleusercontent.com/a-/AOh14GgPu-bvlxQap1lJcqw5fk-8WeA_1lh_4JAVU0ZP=s64",
      "userId": "00750051097913617266"
     },
     "user_tz": 180
    },
    "id": "9tomsFatIDfP",
    "outputId": "2d59ad88-d4e8-4dcf-bc02-6fef5b987131"
   },
   "outputs": [
    {
     "data": {
      "text/plain": [
       "array([0, 0, 0, 0, 0, 0, 0, 0, 0, 0, 0, 0, 0, 0, 1, 0, 0, 0, 0, 0])"
      ]
     },
     "execution_count": 83,
     "metadata": {
      "tags": []
     },
     "output_type": "execute_result"
    }
   ],
   "source": [
    "y_pred = clf.predict(xval_tfidf)\n",
    "y_pred[3]"
   ]
  },
  {
   "cell_type": "code",
   "execution_count": null,
   "metadata": {
    "colab": {
     "base_uri": "https://localhost:8080/",
     "height": 35
    },
    "colab_type": "code",
    "executionInfo": {
     "elapsed": 972,
     "status": "ok",
     "timestamp": 1599005030394,
     "user": {
      "displayName": "Igor Cavalcanti",
      "photoUrl": "https://lh3.googleusercontent.com/a-/AOh14GgPu-bvlxQap1lJcqw5fk-8WeA_1lh_4JAVU0ZP=s64",
      "userId": "00750051097913617266"
     },
     "user_tz": 180
    },
    "id": "_TY3HGkKIE6V",
    "outputId": "39ad42ed-bbb8-4cfa-fa79-3f2cbd143205"
   },
   "outputs": [
    {
     "data": {
      "text/plain": [
       "('Romance',)"
      ]
     },
     "execution_count": 84,
     "metadata": {
      "tags": []
     },
     "output_type": "execute_result"
    }
   ],
   "source": [
    "multilabel_binarizer.inverse_transform(y_pred)[3]"
   ]
  },
  {
   "cell_type": "code",
   "execution_count": null,
   "metadata": {
    "colab": {
     "base_uri": "https://localhost:8080/",
     "height": 35
    },
    "colab_type": "code",
    "executionInfo": {
     "elapsed": 1006,
     "status": "ok",
     "timestamp": 1599005035141,
     "user": {
      "displayName": "Igor Cavalcanti",
      "photoUrl": "https://lh3.googleusercontent.com/a-/AOh14GgPu-bvlxQap1lJcqw5fk-8WeA_1lh_4JAVU0ZP=s64",
      "userId": "00750051097913617266"
     },
     "user_tz": 180
    },
    "id": "zTFK2fbiIHP2",
    "outputId": "43c42a66-2186-43e6-f3d4-26fdf97b75bd"
   },
   "outputs": [
    {
     "data": {
      "text/plain": [
       "0.3464912280701754"
      ]
     },
     "execution_count": 85,
     "metadata": {
      "tags": []
     },
     "output_type": "execute_result"
    }
   ],
   "source": [
    "f1_score(yval, y_pred, average=\"micro\")\n"
   ]
  },
  {
   "cell_type": "markdown",
   "metadata": {
    "colab_type": "text",
    "id": "wU0FG60QILJd"
   },
   "source": [
    "SVC\n"
   ]
  },
  {
   "cell_type": "code",
   "execution_count": null,
   "metadata": {
    "colab": {},
    "colab_type": "code",
    "id": "zbsCgUWJIIZe"
   },
   "outputs": [],
   "source": [
    "from sklearn.svm import SVC \n",
    "clf = OneVsRestClassifier(SVC())"
   ]
  },
  {
   "cell_type": "code",
   "execution_count": null,
   "metadata": {
    "colab": {
     "base_uri": "https://localhost:8080/",
     "height": 145
    },
    "colab_type": "code",
    "executionInfo": {
     "elapsed": 16996,
     "status": "ok",
     "timestamp": 1599005077063,
     "user": {
      "displayName": "Igor Cavalcanti",
      "photoUrl": "https://lh3.googleusercontent.com/a-/AOh14GgPu-bvlxQap1lJcqw5fk-8WeA_1lh_4JAVU0ZP=s64",
      "userId": "00750051097913617266"
     },
     "user_tz": 180
    },
    "id": "l-gX5vJIIMre",
    "outputId": "55170973-2c6f-4716-fe4c-9456f3609a1f"
   },
   "outputs": [
    {
     "data": {
      "text/plain": [
       "OneVsRestClassifier(estimator=SVC(C=1.0, break_ties=False, cache_size=200,\n",
       "                                  class_weight=None, coef0=0.0,\n",
       "                                  decision_function_shape='ovr', degree=3,\n",
       "                                  gamma='scale', kernel='rbf', max_iter=-1,\n",
       "                                  probability=False, random_state=None,\n",
       "                                  shrinking=True, tol=0.001, verbose=False),\n",
       "                    n_jobs=None)"
      ]
     },
     "execution_count": 87,
     "metadata": {
      "tags": []
     },
     "output_type": "execute_result"
    }
   ],
   "source": [
    "clf.fit(xtrain_tfidf, ytrain)"
   ]
  },
  {
   "cell_type": "code",
   "execution_count": null,
   "metadata": {
    "colab": {
     "base_uri": "https://localhost:8080/",
     "height": 35
    },
    "colab_type": "code",
    "executionInfo": {
     "elapsed": 3531,
     "status": "ok",
     "timestamp": 1599005081381,
     "user": {
      "displayName": "Igor Cavalcanti",
      "photoUrl": "https://lh3.googleusercontent.com/a-/AOh14GgPu-bvlxQap1lJcqw5fk-8WeA_1lh_4JAVU0ZP=s64",
      "userId": "00750051097913617266"
     },
     "user_tz": 180
    },
    "id": "Ma59SR_AIOus",
    "outputId": "0eb1c7ec-014f-4055-bdfd-349bdeb2a785"
   },
   "outputs": [
    {
     "data": {
      "text/plain": [
       "array([0, 0, 0, 0, 0, 0, 0, 0, 0, 0, 0, 0, 0, 0, 0, 0, 0, 0, 0, 0])"
      ]
     },
     "execution_count": 88,
     "metadata": {
      "tags": []
     },
     "output_type": "execute_result"
    }
   ],
   "source": [
    "y_pred = clf.predict(xval_tfidf)\n",
    "y_pred[3]"
   ]
  },
  {
   "cell_type": "code",
   "execution_count": null,
   "metadata": {
    "colab": {
     "base_uri": "https://localhost:8080/",
     "height": 35
    },
    "colab_type": "code",
    "executionInfo": {
     "elapsed": 1432,
     "status": "ok",
     "timestamp": 1599005084395,
     "user": {
      "displayName": "Igor Cavalcanti",
      "photoUrl": "https://lh3.googleusercontent.com/a-/AOh14GgPu-bvlxQap1lJcqw5fk-8WeA_1lh_4JAVU0ZP=s64",
      "userId": "00750051097913617266"
     },
     "user_tz": 180
    },
    "id": "3y5PTwGvITAM",
    "outputId": "31c2e1c0-43b0-4a43-8b9f-bbfe2d8f8730"
   },
   "outputs": [
    {
     "data": {
      "text/plain": [
       "0.27219321148825065"
      ]
     },
     "execution_count": 89,
     "metadata": {
      "tags": []
     },
     "output_type": "execute_result"
    }
   ],
   "source": [
    "f1_score(yval, y_pred, average=\"micro\")"
   ]
  },
  {
   "cell_type": "markdown",
   "metadata": {
    "colab_type": "text",
    "id": "QDgCvcp3IV2f"
   },
   "source": [
    "Arvore de Decisao"
   ]
  },
  {
   "cell_type": "code",
   "execution_count": null,
   "metadata": {
    "colab": {
     "base_uri": "https://localhost:8080/",
     "height": 126
    },
    "colab_type": "code",
    "executionInfo": {
     "elapsed": 930,
     "status": "ok",
     "timestamp": 1599005097004,
     "user": {
      "displayName": "Igor Cavalcanti",
      "photoUrl": "https://lh3.googleusercontent.com/a-/AOh14GgPu-bvlxQap1lJcqw5fk-8WeA_1lh_4JAVU0ZP=s64",
      "userId": "00750051097913617266"
     },
     "user_tz": 180
    },
    "id": "nW9Moh86IUUW",
    "outputId": "c5c030f0-48c5-4719-f081-90177a0661fe"
   },
   "outputs": [
    {
     "data": {
      "text/plain": [
       "DecisionTreeClassifier(ccp_alpha=0.0, class_weight=None, criterion='gini',\n",
       "                       max_depth=24, max_features=None, max_leaf_nodes=None,\n",
       "                       min_impurity_decrease=0.0, min_impurity_split=None,\n",
       "                       min_samples_leaf=1, min_samples_split=2,\n",
       "                       min_weight_fraction_leaf=0.0, presort='deprecated',\n",
       "                       random_state=None, splitter='random')"
      ]
     },
     "execution_count": 90,
     "metadata": {
      "tags": []
     },
     "output_type": "execute_result"
    }
   ],
   "source": [
    "from sklearn import tree\n",
    "clf = tree.DecisionTreeClassifier(max_depth=24, criterion='gini', \n",
    "                                  splitter='random',)\n",
    "clf.fit(xtrain_tfidf, ytrain)"
   ]
  },
  {
   "cell_type": "code",
   "execution_count": null,
   "metadata": {
    "colab": {
     "base_uri": "https://localhost:8080/",
     "height": 35
    },
    "colab_type": "code",
    "executionInfo": {
     "elapsed": 964,
     "status": "ok",
     "timestamp": 1599005102782,
     "user": {
      "displayName": "Igor Cavalcanti",
      "photoUrl": "https://lh3.googleusercontent.com/a-/AOh14GgPu-bvlxQap1lJcqw5fk-8WeA_1lh_4JAVU0ZP=s64",
      "userId": "00750051097913617266"
     },
     "user_tz": 180
    },
    "id": "ejBUIwLNIXhP",
    "outputId": "6182803e-d3eb-4f79-e7d6-6da1cc139c75"
   },
   "outputs": [
    {
     "data": {
      "text/plain": [
       "0.1220238095238095"
      ]
     },
     "execution_count": 91,
     "metadata": {
      "tags": []
     },
     "output_type": "execute_result"
    }
   ],
   "source": [
    "y_pred = clf.predict(xval_tfidf)\n",
    "f1_score(yval, y_pred, average=\"micro\")"
   ]
  },
  {
   "cell_type": "code",
   "execution_count": null,
   "metadata": {
    "colab": {
     "base_uri": "https://localhost:8080/",
     "height": 126
    },
    "colab_type": "code",
    "executionInfo": {
     "elapsed": 1367,
     "status": "ok",
     "timestamp": 1599005122422,
     "user": {
      "displayName": "Igor Cavalcanti",
      "photoUrl": "https://lh3.googleusercontent.com/a-/AOh14GgPu-bvlxQap1lJcqw5fk-8WeA_1lh_4JAVU0ZP=s64",
      "userId": "00750051097913617266"
     },
     "user_tz": 180
    },
    "id": "UWe_TS4CIY7F",
    "outputId": "f698ab09-9eab-4f17-898e-46065aa8db08"
   },
   "outputs": [
    {
     "data": {
      "text/plain": [
       "DecisionTreeClassifier(ccp_alpha=0.0, class_weight=None, criterion='gini',\n",
       "                       max_depth=30, max_features=None, max_leaf_nodes=None,\n",
       "                       min_impurity_decrease=0.0, min_impurity_split=None,\n",
       "                       min_samples_leaf=1, min_samples_split=2,\n",
       "                       min_weight_fraction_leaf=0.0, presort='deprecated',\n",
       "                       random_state=None, splitter='random')"
      ]
     },
     "execution_count": 92,
     "metadata": {
      "tags": []
     },
     "output_type": "execute_result"
    }
   ],
   "source": [
    "clf = tree.DecisionTreeClassifier(max_depth=30, criterion='gini', \n",
    "                                  splitter='random',)\n",
    "clf.fit(xtrain_tfidf, ytrain)"
   ]
  },
  {
   "cell_type": "code",
   "execution_count": null,
   "metadata": {
    "colab": {
     "base_uri": "https://localhost:8080/",
     "height": 35
    },
    "colab_type": "code",
    "executionInfo": {
     "elapsed": 89484,
     "status": "ok",
     "timestamp": 1599005227016,
     "user": {
      "displayName": "Igor Cavalcanti",
      "photoUrl": "https://lh3.googleusercontent.com/a-/AOh14GgPu-bvlxQap1lJcqw5fk-8WeA_1lh_4JAVU0ZP=s64",
      "userId": "00750051097913617266"
     },
     "user_tz": 180
    },
    "id": "n0hsyUWDIhbp",
    "outputId": "ce43ff4f-4c90-4134-ad70-aa8cedb46971"
   },
   "outputs": [
    {
     "name": "stdout",
     "output_type": "stream",
     "text": [
      "0.03670181783701777 {'criterion': 'gini', 'max_depth': 33, 'splitter': 'random'}\n"
     ]
    }
   ],
   "source": [
    "\n",
    "from sklearn.model_selection import GridSearchCV\n",
    "parameters = {'max_depth':range(3,35), 'criterion':('gini', 'entropy'),'splitter':('random','best')} \n",
    "clf = GridSearchCV(tree.DecisionTreeClassifier(), parameters, n_jobs=4)\n",
    "clf.fit(X=xtrain_tfidf, y=ytrain) \n",
    "\n",
    "tree_model = clf.best_estimator_\n",
    "print (clf.best_score_, clf.best_params_) "
   ]
  },
  {
   "cell_type": "code",
   "execution_count": null,
   "metadata": {
    "colab": {
     "base_uri": "https://localhost:8080/",
     "height": 35
    },
    "colab_type": "code",
    "executionInfo": {
     "elapsed": 863,
     "status": "ok",
     "timestamp": 1599005127422,
     "user": {
      "displayName": "Igor Cavalcanti",
      "photoUrl": "https://lh3.googleusercontent.com/a-/AOh14GgPu-bvlxQap1lJcqw5fk-8WeA_1lh_4JAVU0ZP=s64",
      "userId": "00750051097913617266"
     },
     "user_tz": 180
    },
    "id": "O4ClwwP6Idnm",
    "outputId": "437d88f1-df34-4972-8856-eee3b88d5102"
   },
   "outputs": [
    {
     "data": {
      "text/plain": [
       "0.12900951709552344"
      ]
     },
     "execution_count": 93,
     "metadata": {
      "tags": []
     },
     "output_type": "execute_result"
    }
   ],
   "source": [
    "y_pred = clf.predict(xval_tfidf)\n",
    "f1_score(yval, y_pred, average=\"micro\")"
   ]
  },
  {
   "cell_type": "markdown",
   "metadata": {
    "colab_type": "text",
    "id": "Vu_oFPGBKwQp"
   },
   "source": [
    "Trabalhar com Dados Numericos"
   ]
  },
  {
   "cell_type": "code",
   "execution_count": null,
   "metadata": {
    "colab": {},
    "colab_type": "code",
    "id": "gLv4vLNCMZgk"
   },
   "outputs": [],
   "source": [
    "PATH = '/content/drive/My Drive/TCCDataScience/datasets/mlsmall/'\n",
    "movies = pd.read_csv(PATH+'movies.csv')\n",
    "#genome_scores = pd.read_csv(PATH+'genome-scores.csv')\n",
    "tags = pd.read_csv(PATH+'tags.csv')\n",
    "#genome_tags = pd.read_csv(PATH+'genome-tags.csv')\n",
    "#Use ratings data to downsample tags data to only movies with ratings \n",
    "tmdb = pd.read_csv('/content/drive/My Drive/TCCDataScience/datasets/tmdb_5000_movies.csv')\n",
    "ratings = pd.read_csv(PATH+'ratings.csv')\n",
    "links = pd.read_csv(PATH+'links.csv')\n",
    "links.drop('imdbId', inplace=True, axis=1) \n",
    "links.dropna(inplace=True, axis=0)\n",
    "links['tmdbId']=links['tmdbId'].astype('int')"
   ]
  },
  {
   "cell_type": "code",
   "execution_count": null,
   "metadata": {
    "colab": {
     "base_uri": "https://localhost:8080/",
     "height": 35
    },
    "colab_type": "code",
    "executionInfo": {
     "elapsed": 936,
     "status": "ok",
     "timestamp": 1599008771899,
     "user": {
      "displayName": "Igor Cavalcanti",
      "photoUrl": "https://lh3.googleusercontent.com/a-/AOh14GgPu-bvlxQap1lJcqw5fk-8WeA_1lh_4JAVU0ZP=s64",
      "userId": "00750051097913617266"
     },
     "user_tz": 180
    },
    "id": "oAJ_SJ0zNrjZ",
    "outputId": "daa76a10-ef12-4c2b-cac5-a9a194242c98"
   },
   "outputs": [
    {
     "data": {
      "text/plain": [
       "(9734, 2)"
      ]
     },
     "execution_count": 5,
     "metadata": {
      "tags": []
     },
     "output_type": "execute_result"
    }
   ],
   "source": [
    "links.head() \n",
    "links.shape"
   ]
  },
  {
   "cell_type": "code",
   "execution_count": null,
   "metadata": {
    "colab": {
     "base_uri": "https://localhost:8080/",
     "height": 508
    },
    "colab_type": "code",
    "executionInfo": {
     "elapsed": 934,
     "status": "ok",
     "timestamp": 1599008774143,
     "user": {
      "displayName": "Igor Cavalcanti",
      "photoUrl": "https://lh3.googleusercontent.com/a-/AOh14GgPu-bvlxQap1lJcqw5fk-8WeA_1lh_4JAVU0ZP=s64",
      "userId": "00750051097913617266"
     },
     "user_tz": 180
    },
    "id": "PwHA_4LxIe9m",
    "outputId": "97678597-ad6d-4ce7-858b-e8a67f778094"
   },
   "outputs": [
    {
     "name": "stdout",
     "output_type": "stream",
     "text": [
      "<class 'pandas.core.frame.DataFrame'>\n",
      "RangeIndex: 4803 entries, 0 to 4802\n",
      "Data columns (total 20 columns):\n",
      " #   Column                Non-Null Count  Dtype  \n",
      "---  ------                --------------  -----  \n",
      " 0   budget                4803 non-null   int64  \n",
      " 1   genres                4803 non-null   object \n",
      " 2   homepage              1712 non-null   object \n",
      " 3   id                    4803 non-null   int64  \n",
      " 4   keywords              4803 non-null   object \n",
      " 5   original_language     4803 non-null   object \n",
      " 6   original_title        4803 non-null   object \n",
      " 7   overview              4800 non-null   object \n",
      " 8   popularity            4803 non-null   float64\n",
      " 9   production_companies  4803 non-null   object \n",
      " 10  production_countries  4803 non-null   object \n",
      " 11  release_date          4802 non-null   object \n",
      " 12  revenue               4803 non-null   int64  \n",
      " 13  runtime               4801 non-null   float64\n",
      " 14  spoken_languages      4803 non-null   object \n",
      " 15  status                4803 non-null   object \n",
      " 16  tagline               3959 non-null   object \n",
      " 17  title                 4803 non-null   object \n",
      " 18  vote_average          4803 non-null   float64\n",
      " 19  vote_count            4803 non-null   int64  \n",
      "dtypes: float64(3), int64(4), object(13)\n",
      "memory usage: 750.6+ KB\n"
     ]
    }
   ],
   "source": [
    "tmdb.info()"
   ]
  },
  {
   "cell_type": "code",
   "execution_count": null,
   "metadata": {
    "colab": {
     "base_uri": "https://localhost:8080/",
     "height": 207
    },
    "colab_type": "code",
    "executionInfo": {
     "elapsed": 1166,
     "status": "ok",
     "timestamp": 1599008776171,
     "user": {
      "displayName": "Igor Cavalcanti",
      "photoUrl": "https://lh3.googleusercontent.com/a-/AOh14GgPu-bvlxQap1lJcqw5fk-8WeA_1lh_4JAVU0ZP=s64",
      "userId": "00750051097913617266"
     },
     "user_tz": 180
    },
    "id": "CZrAcOxIK2U_",
    "outputId": "3627f966-731d-4632-8187-9197bc7e4196"
   },
   "outputs": [
    {
     "data": {
      "text/html": [
       "<div>\n",
       "<style scoped>\n",
       "    .dataframe tbody tr th:only-of-type {\n",
       "        vertical-align: middle;\n",
       "    }\n",
       "\n",
       "    .dataframe tbody tr th {\n",
       "        vertical-align: top;\n",
       "    }\n",
       "\n",
       "    .dataframe thead th {\n",
       "        text-align: right;\n",
       "    }\n",
       "</style>\n",
       "<table border=\"1\" class=\"dataframe\">\n",
       "  <thead>\n",
       "    <tr style=\"text-align: right;\">\n",
       "      <th></th>\n",
       "      <th>budget</th>\n",
       "      <th>tmdbId</th>\n",
       "      <th>popularity</th>\n",
       "      <th>revenue</th>\n",
       "      <th>runtime</th>\n",
       "      <th>tagline</th>\n",
       "      <th>vote_average</th>\n",
       "      <th>vote_count</th>\n",
       "    </tr>\n",
       "  </thead>\n",
       "  <tbody>\n",
       "    <tr>\n",
       "      <th>0</th>\n",
       "      <td>237000000</td>\n",
       "      <td>19995</td>\n",
       "      <td>150.437577</td>\n",
       "      <td>2787965087</td>\n",
       "      <td>162.0</td>\n",
       "      <td>Enter the World of Pandora.</td>\n",
       "      <td>7.2</td>\n",
       "      <td>11800</td>\n",
       "    </tr>\n",
       "    <tr>\n",
       "      <th>1</th>\n",
       "      <td>300000000</td>\n",
       "      <td>285</td>\n",
       "      <td>139.082615</td>\n",
       "      <td>961000000</td>\n",
       "      <td>169.0</td>\n",
       "      <td>At the end of the world, the adventure begins.</td>\n",
       "      <td>6.9</td>\n",
       "      <td>4500</td>\n",
       "    </tr>\n",
       "    <tr>\n",
       "      <th>2</th>\n",
       "      <td>245000000</td>\n",
       "      <td>206647</td>\n",
       "      <td>107.376788</td>\n",
       "      <td>880674609</td>\n",
       "      <td>148.0</td>\n",
       "      <td>A Plan No One Escapes</td>\n",
       "      <td>6.3</td>\n",
       "      <td>4466</td>\n",
       "    </tr>\n",
       "  </tbody>\n",
       "</table>\n",
       "</div>"
      ],
      "text/plain": [
       "      budget  tmdbId  popularity     revenue  runtime  \\\n",
       "0  237000000   19995  150.437577  2787965087    162.0   \n",
       "1  300000000     285  139.082615   961000000    169.0   \n",
       "2  245000000  206647  107.376788   880674609    148.0   \n",
       "\n",
       "                                          tagline  vote_average  vote_count  \n",
       "0                     Enter the World of Pandora.           7.2       11800  \n",
       "1  At the end of the world, the adventure begins.           6.9        4500  \n",
       "2                           A Plan No One Escapes           6.3        4466  "
      ]
     },
     "execution_count": 7,
     "metadata": {
      "tags": []
     },
     "output_type": "execute_result"
    }
   ],
   "source": [
    "tmdb = tmdb.drop('genres', axis=1)\n",
    "# tmdb = tmdb.drop('keywords2', inplace=True, axis=1)\n",
    "tmdb = tmdb.drop('title', axis=1)\n",
    "tmdb = tmdb.drop('status', axis=1)\n",
    "tmdb = tmdb.drop('spoken_languages', axis=1)\n",
    "tmdb = tmdb.drop('release_date', axis=1)\n",
    "tmdb = tmdb.drop('production_companies', axis=1)\n",
    "tmdb = tmdb.drop('production_countries',  axis=1)\n",
    "tmdb = tmdb.drop('overview',  axis=1)\n",
    "tmdb = tmdb.drop('keywords',axis=1)\n",
    "tmdb = tmdb.drop('homepage', axis=1)\n",
    "tmdb = tmdb.drop('original_language',axis=1)\n",
    "tmdb = tmdb.drop('original_title', axis=1)\n",
    "tmdb.rename(columns={\"id\": \"tmdbId\"}, inplace=True)\n",
    "#  0   budget                4803 non-null   int64  \n",
    "#  8   popularity            4803 non-null   float64 \n",
    "#  12  revenue               4803 non-null   int64  \n",
    "#  13  runtime               4801 non-null   float64 \n",
    "#  18  vote_average          4803 non-null   float64\n",
    "#  19  vote_count            4803 non-null   int64   \n",
    "tmdb.head(3)"
   ]
  },
  {
   "cell_type": "code",
   "execution_count": null,
   "metadata": {
    "colab": {
     "base_uri": "https://localhost:8080/",
     "height": 138
    },
    "colab_type": "code",
    "executionInfo": {
     "elapsed": 1421,
     "status": "ok",
     "timestamp": 1599008778490,
     "user": {
      "displayName": "Igor Cavalcanti",
      "photoUrl": "https://lh3.googleusercontent.com/a-/AOh14GgPu-bvlxQap1lJcqw5fk-8WeA_1lh_4JAVU0ZP=s64",
      "userId": "00750051097913617266"
     },
     "user_tz": 180
    },
    "id": "b5hG7eB4LaWh",
    "outputId": "80b3ab88-8783-4a7e-fd00-02610c44c6b6"
   },
   "outputs": [
    {
     "data": {
      "text/html": [
       "<div>\n",
       "<style scoped>\n",
       "    .dataframe tbody tr th:only-of-type {\n",
       "        vertical-align: middle;\n",
       "    }\n",
       "\n",
       "    .dataframe tbody tr th {\n",
       "        vertical-align: top;\n",
       "    }\n",
       "\n",
       "    .dataframe thead th {\n",
       "        text-align: right;\n",
       "    }\n",
       "</style>\n",
       "<table border=\"1\" class=\"dataframe\">\n",
       "  <thead>\n",
       "    <tr style=\"text-align: right;\">\n",
       "      <th></th>\n",
       "      <th>movieId</th>\n",
       "      <th>title</th>\n",
       "      <th>genres</th>\n",
       "    </tr>\n",
       "  </thead>\n",
       "  <tbody>\n",
       "    <tr>\n",
       "      <th>0</th>\n",
       "      <td>1</td>\n",
       "      <td>Toy Story (1995)</td>\n",
       "      <td>Adventure|Animation|Children|Comedy|Fantasy</td>\n",
       "    </tr>\n",
       "    <tr>\n",
       "      <th>1</th>\n",
       "      <td>2</td>\n",
       "      <td>Jumanji (1995)</td>\n",
       "      <td>Adventure|Children|Fantasy</td>\n",
       "    </tr>\n",
       "    <tr>\n",
       "      <th>2</th>\n",
       "      <td>3</td>\n",
       "      <td>Grumpier Old Men (1995)</td>\n",
       "      <td>Comedy|Romance</td>\n",
       "    </tr>\n",
       "  </tbody>\n",
       "</table>\n",
       "</div>"
      ],
      "text/plain": [
       "   movieId                    title  \\\n",
       "0        1         Toy Story (1995)   \n",
       "1        2           Jumanji (1995)   \n",
       "2        3  Grumpier Old Men (1995)   \n",
       "\n",
       "                                        genres  \n",
       "0  Adventure|Animation|Children|Comedy|Fantasy  \n",
       "1                   Adventure|Children|Fantasy  \n",
       "2                               Comedy|Romance  "
      ]
     },
     "execution_count": 8,
     "metadata": {
      "tags": []
     },
     "output_type": "execute_result"
    }
   ],
   "source": [
    "movies.head(3)"
   ]
  },
  {
   "cell_type": "code",
   "execution_count": null,
   "metadata": {
    "colab": {},
    "colab_type": "code",
    "id": "5Dax9RdKTfld"
   },
   "outputs": [],
   "source": [
    "movies = pd.merge(movies, links, on='movieId',how='inner')"
   ]
  },
  {
   "cell_type": "code",
   "execution_count": null,
   "metadata": {
    "colab": {
     "base_uri": "https://localhost:8080/",
     "height": 35
    },
    "colab_type": "code",
    "executionInfo": {
     "elapsed": 499,
     "status": "ok",
     "timestamp": 1599008781585,
     "user": {
      "displayName": "Igor Cavalcanti",
      "photoUrl": "https://lh3.googleusercontent.com/a-/AOh14GgPu-bvlxQap1lJcqw5fk-8WeA_1lh_4JAVU0ZP=s64",
      "userId": "00750051097913617266"
     },
     "user_tz": 180
    },
    "id": "pLkYoTzKTn6U",
    "outputId": "f8e79318-6fae-44f6-f3d7-848f812bc9ed"
   },
   "outputs": [
    {
     "data": {
      "text/plain": [
       "(9734, 4)"
      ]
     },
     "execution_count": 10,
     "metadata": {
      "tags": []
     },
     "output_type": "execute_result"
    }
   ],
   "source": [
    "movies.shape"
   ]
  },
  {
   "cell_type": "code",
   "execution_count": null,
   "metadata": {
    "colab": {
     "base_uri": "https://localhost:8080/",
     "height": 138
    },
    "colab_type": "code",
    "executionInfo": {
     "elapsed": 777,
     "status": "ok",
     "timestamp": 1599008782260,
     "user": {
      "displayName": "Igor Cavalcanti",
      "photoUrl": "https://lh3.googleusercontent.com/a-/AOh14GgPu-bvlxQap1lJcqw5fk-8WeA_1lh_4JAVU0ZP=s64",
      "userId": "00750051097913617266"
     },
     "user_tz": 180
    },
    "id": "KqamjgEpTqTF",
    "outputId": "c65a963d-f059-4356-c1cd-0b459174f72f"
   },
   "outputs": [
    {
     "data": {
      "text/html": [
       "<div>\n",
       "<style scoped>\n",
       "    .dataframe tbody tr th:only-of-type {\n",
       "        vertical-align: middle;\n",
       "    }\n",
       "\n",
       "    .dataframe tbody tr th {\n",
       "        vertical-align: top;\n",
       "    }\n",
       "\n",
       "    .dataframe thead th {\n",
       "        text-align: right;\n",
       "    }\n",
       "</style>\n",
       "<table border=\"1\" class=\"dataframe\">\n",
       "  <thead>\n",
       "    <tr style=\"text-align: right;\">\n",
       "      <th></th>\n",
       "      <th>movieId</th>\n",
       "      <th>title</th>\n",
       "      <th>genres</th>\n",
       "      <th>tmdbId</th>\n",
       "    </tr>\n",
       "  </thead>\n",
       "  <tbody>\n",
       "    <tr>\n",
       "      <th>0</th>\n",
       "      <td>1</td>\n",
       "      <td>Toy Story (1995)</td>\n",
       "      <td>Adventure|Animation|Children|Comedy|Fantasy</td>\n",
       "      <td>862</td>\n",
       "    </tr>\n",
       "    <tr>\n",
       "      <th>1</th>\n",
       "      <td>2</td>\n",
       "      <td>Jumanji (1995)</td>\n",
       "      <td>Adventure|Children|Fantasy</td>\n",
       "      <td>8844</td>\n",
       "    </tr>\n",
       "    <tr>\n",
       "      <th>2</th>\n",
       "      <td>3</td>\n",
       "      <td>Grumpier Old Men (1995)</td>\n",
       "      <td>Comedy|Romance</td>\n",
       "      <td>15602</td>\n",
       "    </tr>\n",
       "  </tbody>\n",
       "</table>\n",
       "</div>"
      ],
      "text/plain": [
       "   movieId                    title  \\\n",
       "0        1         Toy Story (1995)   \n",
       "1        2           Jumanji (1995)   \n",
       "2        3  Grumpier Old Men (1995)   \n",
       "\n",
       "                                        genres  tmdbId  \n",
       "0  Adventure|Animation|Children|Comedy|Fantasy     862  \n",
       "1                   Adventure|Children|Fantasy    8844  \n",
       "2                               Comedy|Romance   15602  "
      ]
     },
     "execution_count": 11,
     "metadata": {
      "tags": []
     },
     "output_type": "execute_result"
    }
   ],
   "source": [
    "movies.head(3)"
   ]
  },
  {
   "cell_type": "code",
   "execution_count": null,
   "metadata": {
    "colab": {
     "base_uri": "https://localhost:8080/",
     "height": 296
    },
    "colab_type": "code",
    "executionInfo": {
     "elapsed": 1441,
     "status": "ok",
     "timestamp": 1599008784102,
     "user": {
      "displayName": "Igor Cavalcanti",
      "photoUrl": "https://lh3.googleusercontent.com/a-/AOh14GgPu-bvlxQap1lJcqw5fk-8WeA_1lh_4JAVU0ZP=s64",
      "userId": "00750051097913617266"
     },
     "user_tz": 180
    },
    "id": "35-6a8aTTxVl",
    "outputId": "b26bbe47-5f0d-411d-e840-9b73cad16f24"
   },
   "outputs": [
    {
     "data": {
      "text/html": [
       "<div>\n",
       "<style scoped>\n",
       "    .dataframe tbody tr th:only-of-type {\n",
       "        vertical-align: middle;\n",
       "    }\n",
       "\n",
       "    .dataframe tbody tr th {\n",
       "        vertical-align: top;\n",
       "    }\n",
       "\n",
       "    .dataframe thead th {\n",
       "        text-align: right;\n",
       "    }\n",
       "</style>\n",
       "<table border=\"1\" class=\"dataframe\">\n",
       "  <thead>\n",
       "    <tr style=\"text-align: right;\">\n",
       "      <th></th>\n",
       "      <th>movieId</th>\n",
       "      <th>title</th>\n",
       "      <th>genres</th>\n",
       "      <th>tmdbId</th>\n",
       "      <th>budget</th>\n",
       "      <th>popularity</th>\n",
       "      <th>revenue</th>\n",
       "      <th>runtime</th>\n",
       "      <th>tagline</th>\n",
       "      <th>vote_average</th>\n",
       "      <th>vote_count</th>\n",
       "    </tr>\n",
       "  </thead>\n",
       "  <tbody>\n",
       "    <tr>\n",
       "      <th>0</th>\n",
       "      <td>1</td>\n",
       "      <td>Toy Story (1995)</td>\n",
       "      <td>Adventure|Animation|Children|Comedy|Fantasy</td>\n",
       "      <td>862</td>\n",
       "      <td>30000000</td>\n",
       "      <td>73.640445</td>\n",
       "      <td>373554033</td>\n",
       "      <td>81.0</td>\n",
       "      <td>NaN</td>\n",
       "      <td>7.7</td>\n",
       "      <td>5269</td>\n",
       "    </tr>\n",
       "    <tr>\n",
       "      <th>1</th>\n",
       "      <td>10</td>\n",
       "      <td>GoldenEye (1995)</td>\n",
       "      <td>Action|Adventure|Thriller</td>\n",
       "      <td>710</td>\n",
       "      <td>58000000</td>\n",
       "      <td>59.824565</td>\n",
       "      <td>352194034</td>\n",
       "      <td>130.0</td>\n",
       "      <td>No limits. No fears. No substitutes.</td>\n",
       "      <td>6.6</td>\n",
       "      <td>1174</td>\n",
       "    </tr>\n",
       "    <tr>\n",
       "      <th>2</th>\n",
       "      <td>11</td>\n",
       "      <td>American President, The (1995)</td>\n",
       "      <td>Comedy|Drama|Romance</td>\n",
       "      <td>9087</td>\n",
       "      <td>62000000</td>\n",
       "      <td>11.056763</td>\n",
       "      <td>107879496</td>\n",
       "      <td>106.0</td>\n",
       "      <td>Why can't the most powerful man in the world h...</td>\n",
       "      <td>6.5</td>\n",
       "      <td>195</td>\n",
       "    </tr>\n",
       "  </tbody>\n",
       "</table>\n",
       "</div>"
      ],
      "text/plain": [
       "   movieId                           title  \\\n",
       "0        1                Toy Story (1995)   \n",
       "1       10                GoldenEye (1995)   \n",
       "2       11  American President, The (1995)   \n",
       "\n",
       "                                        genres  tmdbId    budget  popularity  \\\n",
       "0  Adventure|Animation|Children|Comedy|Fantasy     862  30000000   73.640445   \n",
       "1                    Action|Adventure|Thriller     710  58000000   59.824565   \n",
       "2                         Comedy|Drama|Romance    9087  62000000   11.056763   \n",
       "\n",
       "     revenue  runtime                                            tagline  \\\n",
       "0  373554033     81.0                                                NaN   \n",
       "1  352194034    130.0               No limits. No fears. No substitutes.   \n",
       "2  107879496    106.0  Why can't the most powerful man in the world h...   \n",
       "\n",
       "   vote_average  vote_count  \n",
       "0           7.7        5269  \n",
       "1           6.6        1174  \n",
       "2           6.5         195  "
      ]
     },
     "execution_count": 12,
     "metadata": {
      "tags": []
     },
     "output_type": "execute_result"
    }
   ],
   "source": [
    "movies = pd.merge(movies, tmdb, on='tmdbId',how='inner')\n",
    "movies.head(3)"
   ]
  },
  {
   "cell_type": "markdown",
   "metadata": {
    "colab_type": "text",
    "id": "0h3cdQ-0T5C4"
   },
   "source": []
  },
  {
   "cell_type": "code",
   "execution_count": null,
   "metadata": {
    "colab": {
     "base_uri": "https://localhost:8080/",
     "height": 326
    },
    "colab_type": "code",
    "executionInfo": {
     "elapsed": 621,
     "status": "ok",
     "timestamp": 1599008785737,
     "user": {
      "displayName": "Igor Cavalcanti",
      "photoUrl": "https://lh3.googleusercontent.com/a-/AOh14GgPu-bvlxQap1lJcqw5fk-8WeA_1lh_4JAVU0ZP=s64",
      "userId": "00750051097913617266"
     },
     "user_tz": 180
    },
    "id": "J9u-Op2UT3tE",
    "outputId": "8228dd88-30b6-41d7-ce7f-4c17796293c2"
   },
   "outputs": [
    {
     "name": "stdout",
     "output_type": "stream",
     "text": [
      "<class 'pandas.core.frame.DataFrame'>\n",
      "Int64Index: 3537 entries, 1 to 163056\n",
      "Data columns (total 10 columns):\n",
      " #   Column        Non-Null Count  Dtype  \n",
      "---  ------        --------------  -----  \n",
      " 0   title         3537 non-null   object \n",
      " 1   genres        3537 non-null   object \n",
      " 2   tmdbId        3537 non-null   int64  \n",
      " 3   budget        3537 non-null   int64  \n",
      " 4   popularity    3537 non-null   float64\n",
      " 5   revenue       3537 non-null   int64  \n",
      " 6   runtime       3537 non-null   float64\n",
      " 7   tagline       3206 non-null   object \n",
      " 8   vote_average  3537 non-null   float64\n",
      " 9   vote_count    3537 non-null   int64  \n",
      "dtypes: float64(3), int64(4), object(3)\n",
      "memory usage: 304.0+ KB\n"
     ]
    }
   ],
   "source": [
    "movies.set_index('movieId',inplace=True)\n",
    "movies.info()\n"
   ]
  },
  {
   "cell_type": "code",
   "execution_count": null,
   "metadata": {
    "colab": {
     "base_uri": "https://localhost:8080/",
     "height": 326
    },
    "colab_type": "code",
    "executionInfo": {
     "elapsed": 1190,
     "status": "ok",
     "timestamp": 1599008787001,
     "user": {
      "displayName": "Igor Cavalcanti",
      "photoUrl": "https://lh3.googleusercontent.com/a-/AOh14GgPu-bvlxQap1lJcqw5fk-8WeA_1lh_4JAVU0ZP=s64",
      "userId": "00750051097913617266"
     },
     "user_tz": 180
    },
    "id": "e4LmtRqkVGS8",
    "outputId": "5a592bc7-63cb-4b18-8a30-7b11f0819861"
   },
   "outputs": [
    {
     "data": {
      "text/html": [
       "<div>\n",
       "<style scoped>\n",
       "    .dataframe tbody tr th:only-of-type {\n",
       "        vertical-align: middle;\n",
       "    }\n",
       "\n",
       "    .dataframe tbody tr th {\n",
       "        vertical-align: top;\n",
       "    }\n",
       "\n",
       "    .dataframe thead th {\n",
       "        text-align: right;\n",
       "    }\n",
       "</style>\n",
       "<table border=\"1\" class=\"dataframe\">\n",
       "  <thead>\n",
       "    <tr style=\"text-align: right;\">\n",
       "      <th></th>\n",
       "      <th>title</th>\n",
       "      <th>genres</th>\n",
       "      <th>tmdbId</th>\n",
       "      <th>budget</th>\n",
       "      <th>popularity</th>\n",
       "      <th>revenue</th>\n",
       "      <th>runtime</th>\n",
       "      <th>tagline</th>\n",
       "      <th>vote_average</th>\n",
       "      <th>vote_count</th>\n",
       "    </tr>\n",
       "    <tr>\n",
       "      <th>movieId</th>\n",
       "      <th></th>\n",
       "      <th></th>\n",
       "      <th></th>\n",
       "      <th></th>\n",
       "      <th></th>\n",
       "      <th></th>\n",
       "      <th></th>\n",
       "      <th></th>\n",
       "      <th></th>\n",
       "      <th></th>\n",
       "    </tr>\n",
       "  </thead>\n",
       "  <tbody>\n",
       "    <tr>\n",
       "      <th>1</th>\n",
       "      <td>Toy Story (1995)</td>\n",
       "      <td>Adventure|Animation|Children|Comedy|Fantasy</td>\n",
       "      <td>862</td>\n",
       "      <td>30000000</td>\n",
       "      <td>73.640445</td>\n",
       "      <td>373554033</td>\n",
       "      <td>81.0</td>\n",
       "      <td>NaN</td>\n",
       "      <td>7.7</td>\n",
       "      <td>5269</td>\n",
       "    </tr>\n",
       "    <tr>\n",
       "      <th>10</th>\n",
       "      <td>GoldenEye (1995)</td>\n",
       "      <td>Action|Adventure|Thriller</td>\n",
       "      <td>710</td>\n",
       "      <td>58000000</td>\n",
       "      <td>59.824565</td>\n",
       "      <td>352194034</td>\n",
       "      <td>130.0</td>\n",
       "      <td>No limits. No fears. No substitutes.</td>\n",
       "      <td>6.6</td>\n",
       "      <td>1174</td>\n",
       "    </tr>\n",
       "    <tr>\n",
       "      <th>11</th>\n",
       "      <td>American President, The (1995)</td>\n",
       "      <td>Comedy|Drama|Romance</td>\n",
       "      <td>9087</td>\n",
       "      <td>62000000</td>\n",
       "      <td>11.056763</td>\n",
       "      <td>107879496</td>\n",
       "      <td>106.0</td>\n",
       "      <td>Why can't the most powerful man in the world h...</td>\n",
       "      <td>6.5</td>\n",
       "      <td>195</td>\n",
       "    </tr>\n",
       "  </tbody>\n",
       "</table>\n",
       "</div>"
      ],
      "text/plain": [
       "                                  title  \\\n",
       "movieId                                   \n",
       "1                      Toy Story (1995)   \n",
       "10                     GoldenEye (1995)   \n",
       "11       American President, The (1995)   \n",
       "\n",
       "                                              genres  tmdbId    budget  \\\n",
       "movieId                                                                  \n",
       "1        Adventure|Animation|Children|Comedy|Fantasy     862  30000000   \n",
       "10                         Action|Adventure|Thriller     710  58000000   \n",
       "11                              Comedy|Drama|Romance    9087  62000000   \n",
       "\n",
       "         popularity    revenue  runtime  \\\n",
       "movieId                                   \n",
       "1         73.640445  373554033     81.0   \n",
       "10        59.824565  352194034    130.0   \n",
       "11        11.056763  107879496    106.0   \n",
       "\n",
       "                                                   tagline  vote_average  \\\n",
       "movieId                                                                    \n",
       "1                                                      NaN           7.7   \n",
       "10                    No limits. No fears. No substitutes.           6.6   \n",
       "11       Why can't the most powerful man in the world h...           6.5   \n",
       "\n",
       "         vote_count  \n",
       "movieId              \n",
       "1              5269  \n",
       "10             1174  \n",
       "11              195  "
      ]
     },
     "execution_count": 14,
     "metadata": {
      "tags": []
     },
     "output_type": "execute_result"
    }
   ],
   "source": [
    "movies.head(3)"
   ]
  },
  {
   "cell_type": "code",
   "execution_count": null,
   "metadata": {
    "colab": {},
    "colab_type": "code",
    "id": "tKu6CKfpUpe0"
   },
   "outputs": [],
   "source": [
    "movies_features = pd.DataFrame(movies, columns= [\"budget\",\"popularity\",\"revenue\",\n",
    "                                                    \"runtime\", \"vote_count\"])\n",
    "movies_target =  pd.DataFrame(movies, columns= [ \"vote_average\" ])"
   ]
  },
  {
   "cell_type": "code",
   "execution_count": null,
   "metadata": {
    "colab": {
     "base_uri": "https://localhost:8080/",
     "height": 35
    },
    "colab_type": "code",
    "executionInfo": {
     "elapsed": 965,
     "status": "ok",
     "timestamp": 1599008927148,
     "user": {
      "displayName": "Igor Cavalcanti",
      "photoUrl": "https://lh3.googleusercontent.com/a-/AOh14GgPu-bvlxQap1lJcqw5fk-8WeA_1lh_4JAVU0ZP=s64",
      "userId": "00750051097913617266"
     },
     "user_tz": 180
    },
    "id": "KT5uP19LUV5V",
    "outputId": "f7f7e75d-b578-4fe8-bee0-0fd00b9ea00a"
   },
   "outputs": [
    {
     "name": "stdout",
     "output_type": "stream",
     "text": [
      "Linear Regression Accuracy all Features: 0.18 (+/- 0.55)\n"
     ]
    }
   ],
   "source": [
    "# baseline - what's the score of all the features? Answer: Not very good. we can do better.\n",
    "from sklearn.model_selection import cross_val_score, ShuffleSplit, train_test_split\n",
    "from sklearn.linear_model import LinearRegression\n",
    "scores = cross_val_score(LinearRegression(), movies_features, movies_target, scoring='r2') # mean_squared_error\n",
    "print(\"Linear Regression Accuracy all Features: %0.2f (+/- %0.2f)\" % (scores.mean(), scores.std() * 2))\n"
   ]
  },
  {
   "cell_type": "markdown",
   "metadata": {
    "colab_type": "text",
    "id": "MexCVwmBXPYv"
   },
   "source": [
    "Step 2: Select Best Features\n",
    "----------------------------\n",
    "\n",
    "We are going to use three methods to select the best features for predicting \"vote_average\"\n",
    "The three methods for getting scores for features are: Pearson, SelectKBest and RandomForestRegressor\n"
   ]
  },
  {
   "cell_type": "code",
   "execution_count": null,
   "metadata": {
    "colab": {
     "base_uri": "https://localhost:8080/",
     "height": 258
    },
    "colab_type": "code",
    "executionInfo": {
     "elapsed": 523,
     "status": "ok",
     "timestamp": 1599009047835,
     "user": {
      "displayName": "Igor Cavalcanti",
      "photoUrl": "https://lh3.googleusercontent.com/a-/AOh14GgPu-bvlxQap1lJcqw5fk-8WeA_1lh_4JAVU0ZP=s64",
      "userId": "00750051097913617266"
     },
     "user_tz": 180
    },
    "id": "wFSifcycV1LM",
    "outputId": "fa858ea5-9060-4c06-ba59-a0398a7e7b05"
   },
   "outputs": [
    {
     "data": {
      "text/html": [
       "<div>\n",
       "<style scoped>\n",
       "    .dataframe tbody tr th:only-of-type {\n",
       "        vertical-align: middle;\n",
       "    }\n",
       "\n",
       "    .dataframe tbody tr th {\n",
       "        vertical-align: top;\n",
       "    }\n",
       "\n",
       "    .dataframe thead th {\n",
       "        text-align: right;\n",
       "    }\n",
       "</style>\n",
       "<table border=\"1\" class=\"dataframe\">\n",
       "  <thead>\n",
       "    <tr style=\"text-align: right;\">\n",
       "      <th></th>\n",
       "      <th>tmdbId</th>\n",
       "      <th>budget</th>\n",
       "      <th>popularity</th>\n",
       "      <th>revenue</th>\n",
       "      <th>runtime</th>\n",
       "      <th>vote_average</th>\n",
       "      <th>vote_count</th>\n",
       "    </tr>\n",
       "  </thead>\n",
       "  <tbody>\n",
       "    <tr>\n",
       "      <th>tmdbId</th>\n",
       "      <td>1.000000</td>\n",
       "      <td>0.054940</td>\n",
       "      <td>0.225778</td>\n",
       "      <td>0.072856</td>\n",
       "      <td>-0.018668</td>\n",
       "      <td>-0.038124</td>\n",
       "      <td>0.160898</td>\n",
       "    </tr>\n",
       "    <tr>\n",
       "      <th>budget</th>\n",
       "      <td>0.054940</td>\n",
       "      <td>1.000000</td>\n",
       "      <td>0.454315</td>\n",
       "      <td>0.713716</td>\n",
       "      <td>0.259848</td>\n",
       "      <td>-0.039886</td>\n",
       "      <td>0.558429</td>\n",
       "    </tr>\n",
       "    <tr>\n",
       "      <th>popularity</th>\n",
       "      <td>0.225778</td>\n",
       "      <td>0.454315</td>\n",
       "      <td>1.000000</td>\n",
       "      <td>0.616093</td>\n",
       "      <td>0.208787</td>\n",
       "      <td>0.273460</td>\n",
       "      <td>0.756535</td>\n",
       "    </tr>\n",
       "    <tr>\n",
       "      <th>revenue</th>\n",
       "      <td>0.072856</td>\n",
       "      <td>0.713716</td>\n",
       "      <td>0.616093</td>\n",
       "      <td>1.000000</td>\n",
       "      <td>0.257609</td>\n",
       "      <td>0.173634</td>\n",
       "      <td>0.765325</td>\n",
       "    </tr>\n",
       "    <tr>\n",
       "      <th>runtime</th>\n",
       "      <td>-0.018668</td>\n",
       "      <td>0.259848</td>\n",
       "      <td>0.208787</td>\n",
       "      <td>0.257609</td>\n",
       "      <td>1.000000</td>\n",
       "      <td>0.382809</td>\n",
       "      <td>0.279675</td>\n",
       "    </tr>\n",
       "    <tr>\n",
       "      <th>vote_average</th>\n",
       "      <td>-0.038124</td>\n",
       "      <td>-0.039886</td>\n",
       "      <td>0.273460</td>\n",
       "      <td>0.173634</td>\n",
       "      <td>0.382809</td>\n",
       "      <td>1.000000</td>\n",
       "      <td>0.356493</td>\n",
       "    </tr>\n",
       "    <tr>\n",
       "      <th>vote_count</th>\n",
       "      <td>0.160898</td>\n",
       "      <td>0.558429</td>\n",
       "      <td>0.756535</td>\n",
       "      <td>0.765325</td>\n",
       "      <td>0.279675</td>\n",
       "      <td>0.356493</td>\n",
       "      <td>1.000000</td>\n",
       "    </tr>\n",
       "  </tbody>\n",
       "</table>\n",
       "</div>"
      ],
      "text/plain": [
       "                tmdbId    budget  popularity   revenue   runtime  \\\n",
       "tmdbId        1.000000  0.054940    0.225778  0.072856 -0.018668   \n",
       "budget        0.054940  1.000000    0.454315  0.713716  0.259848   \n",
       "popularity    0.225778  0.454315    1.000000  0.616093  0.208787   \n",
       "revenue       0.072856  0.713716    0.616093  1.000000  0.257609   \n",
       "runtime      -0.018668  0.259848    0.208787  0.257609  1.000000   \n",
       "vote_average -0.038124 -0.039886    0.273460  0.173634  0.382809   \n",
       "vote_count    0.160898  0.558429    0.756535  0.765325  0.279675   \n",
       "\n",
       "              vote_average  vote_count  \n",
       "tmdbId           -0.038124    0.160898  \n",
       "budget           -0.039886    0.558429  \n",
       "popularity        0.273460    0.756535  \n",
       "revenue           0.173634    0.765325  \n",
       "runtime           0.382809    0.279675  \n",
       "vote_average      1.000000    0.356493  \n",
       "vote_count        0.356493    1.000000  "
      ]
     },
     "execution_count": 21,
     "metadata": {
      "tags": []
     },
     "output_type": "execute_result"
    }
   ],
   "source": [
    "movies.corr(method='pearson') # We are getting similar results for - pearson, kendall, spearman\n",
    "# Top 3 Features:\n",
    "#budget\n",
    "#popularity\n",
    "#vote_count"
   ]
  },
  {
   "cell_type": "markdown",
   "metadata": {
    "colab_type": "text",
    "id": "tjZjKBD4X0b4"
   },
   "source": [
    "Step 2(b) : SelectKBest\n",
    "-----------------------"
   ]
  },
  {
   "cell_type": "code",
   "execution_count": null,
   "metadata": {
    "colab": {},
    "colab_type": "code",
    "id": "X9vaG5u5XcEM"
   },
   "outputs": [],
   "source": [
    "from sklearn.feature_selection import SelectKBest, f_regression\n",
    "movies_best2 = SelectKBest(f_regression, k=2).fit_transform(movies_features, movies_target) "
   ]
  },
  {
   "cell_type": "code",
   "execution_count": null,
   "metadata": {
    "colab": {
     "base_uri": "https://localhost:8080/",
     "height": 145
    },
    "colab_type": "code",
    "executionInfo": {
     "elapsed": 1256,
     "status": "ok",
     "timestamp": 1599009243481,
     "user": {
      "displayName": "Igor Cavalcanti",
      "photoUrl": "https://lh3.googleusercontent.com/a-/AOh14GgPu-bvlxQap1lJcqw5fk-8WeA_1lh_4JAVU0ZP=s64",
      "userId": "00750051097913617266"
     },
     "user_tz": 180
    },
    "id": "TBVFZddlYGfy",
    "outputId": "757df266-5916-409c-c644-8bcdd9d35910"
   },
   "outputs": [
    {
     "data": {
      "text/plain": [
       "array([[  81., 5269.],\n",
       "       [ 130., 1174.],\n",
       "       [ 106.,  195.],\n",
       "       ...,\n",
       "       [ 127.,  573.],\n",
       "       [ 100., 1252.],\n",
       "       [ 120.,  143.]])"
      ]
     },
     "execution_count": 24,
     "metadata": {
      "tags": []
     },
     "output_type": "execute_result"
    }
   ],
   "source": [
    "movies_best2"
   ]
  },
  {
   "cell_type": "code",
   "execution_count": null,
   "metadata": {
    "colab": {
     "base_uri": "https://localhost:8080/",
     "height": 168
    },
    "colab_type": "code",
    "executionInfo": {
     "elapsed": 1066,
     "status": "ok",
     "timestamp": 1599009753024,
     "user": {
      "displayName": "Igor Cavalcanti",
      "photoUrl": "https://lh3.googleusercontent.com/a-/AOh14GgPu-bvlxQap1lJcqw5fk-8WeA_1lh_4JAVU0ZP=s64",
      "userId": "00750051097913617266"
     },
     "user_tz": 180
    },
    "id": "mqv4kvNCaEAm",
    "outputId": "7c3e3e53-e112-4ef8-df5f-2bbad3876f55"
   },
   "outputs": [
    {
     "data": {
      "text/html": [
       "<div>\n",
       "<style scoped>\n",
       "    .dataframe tbody tr th:only-of-type {\n",
       "        vertical-align: middle;\n",
       "    }\n",
       "\n",
       "    .dataframe tbody tr th {\n",
       "        vertical-align: top;\n",
       "    }\n",
       "\n",
       "    .dataframe thead th {\n",
       "        text-align: right;\n",
       "    }\n",
       "</style>\n",
       "<table border=\"1\" class=\"dataframe\">\n",
       "  <thead>\n",
       "    <tr style=\"text-align: right;\">\n",
       "      <th></th>\n",
       "      <th>vote_average</th>\n",
       "    </tr>\n",
       "    <tr>\n",
       "      <th>movieId</th>\n",
       "      <th></th>\n",
       "    </tr>\n",
       "  </thead>\n",
       "  <tbody>\n",
       "    <tr>\n",
       "      <th>1</th>\n",
       "      <td>7.7</td>\n",
       "    </tr>\n",
       "    <tr>\n",
       "      <th>10</th>\n",
       "      <td>6.6</td>\n",
       "    </tr>\n",
       "    <tr>\n",
       "      <th>11</th>\n",
       "      <td>6.5</td>\n",
       "    </tr>\n",
       "  </tbody>\n",
       "</table>\n",
       "</div>"
      ],
      "text/plain": [
       "         vote_average\n",
       "movieId              \n",
       "1                 7.7\n",
       "10                6.6\n",
       "11                6.5"
      ]
     },
     "execution_count": 28,
     "metadata": {
      "tags": []
     },
     "output_type": "execute_result"
    }
   ],
   "source": [
    "movies_target.head(3)"
   ]
  },
  {
   "cell_type": "code",
   "execution_count": null,
   "metadata": {
    "colab": {},
    "colab_type": "code",
    "id": "KZZvght7YLwr"
   },
   "outputs": [],
   "source": [
    "targetMatrix = movies_target['vote_average'].to_numpy()\n",
    "featuresMatrix = movies_features.to_numpy() #This Matrix will be used in finding best features using Random Forest"
   ]
  },
  {
   "cell_type": "code",
   "execution_count": null,
   "metadata": {
    "colab": {},
    "colab_type": "code",
    "id": "OA8f046XZqY0"
   },
   "outputs": [],
   "source": []
  }
 ],
 "metadata": {
  "colab": {
   "collapsed_sections": [],
   "name": "TMDB_NLP.ipynb",
   "provenance": []
  },
  "kernelspec": {
   "display_name": "Python 3",
   "language": "python",
   "name": "python3"
  },
  "language_info": {
   "codemirror_mode": {
    "name": "ipython",
    "version": 3
   },
   "file_extension": ".py",
   "mimetype": "text/x-python",
   "name": "python",
   "nbconvert_exporter": "python",
   "pygments_lexer": "ipython3",
   "version": "3.8.3"
  },
  "toc": {
   "base_numbering": 1,
   "nav_menu": {},
   "number_sections": true,
   "sideBar": true,
   "skip_h1_title": false,
   "title_cell": "Table of Contents",
   "title_sidebar": "Contents",
   "toc_cell": false,
   "toc_position": {},
   "toc_section_display": true,
   "toc_window_display": false
  }
 },
 "nbformat": 4,
 "nbformat_minor": 1
}
