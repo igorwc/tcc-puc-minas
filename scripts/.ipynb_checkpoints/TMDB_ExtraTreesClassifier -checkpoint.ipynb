{
 "cells": [
  {
   "cell_type": "code",
   "execution_count": null,
   "metadata": {},
   "outputs": [],
   "source": [
    "import pandas as pd\n",
    "import numpy as np\n",
    "import warnings\n",
    "import seaborn as sns \n",
    "import re\n",
    "from ast import literal_eval\n",
    "warnings.filterwarnings('ignore')\n",
    "print('pandas:'+pd.__version__)\n",
    "print('seaborn:'+sns.__version__)  \n",
    "from sklearn.model_selection import train_test_split \n",
    "from sklearn.pipeline import Pipeline\n",
    "from sklearn.feature_extraction.text import TfidfVectorizer \n",
    "import nltk\n",
    "from sklearn.linear_model import LogisticRegression\n",
    "nltk.download('stopwords')\n",
    "from nltk.corpus import stopwords \n",
    "from sklearn.multiclass import OneVsRestClassifier\n",
    "from sklearn import model_selection\n",
    "from sklearn.model_selection import GridSearchCV\n",
    "from datetime import datetime\n",
    "import sqlite3\n",
    "from sqlite3 import Error\n",
    "import uuid\n",
    "from time import time\n",
    "from sklearn.metrics import accuracy_score, precision_score, recall_score, f1_score\n",
    "from sklearn.metrics import classification_report"
   ]
  },
  {
   "cell_type": "code",
   "execution_count": 39,
   "metadata": {},
   "outputs": [],
   "source": [
    "# import pandas as pd\n",
    "# import numpy as np\n",
    "# import seaborn as sns \n",
    "# from time import time\n",
    "# import matplotlib.pyplot as plt \n",
    "# from sklearn.utils import resample\n",
    "# import matplotlib.ticker as ticker\n",
    "# %matplotlib inline \n",
    "from sklearn import model_selection\n",
    "# from sklearn.utils.extmath import density\n",
    "# from sklearn.metrics import confusion_matrix\n",
    "# from sklearn.feature_extraction.text import TfidfVectorizer, CountVectorizer\n",
    "# from sklearn.metrics.pairwise import linear_kernel, cosine_similarity\n",
    "from sklearn.metrics import accuracy_score, precision_score, recall_score, f1_score\n",
    "from sklearn.preprocessing import MultiLabelBinarizer\n",
    "# from nltk.stem.snowball import SnowballStemmer\n",
    "# from nltk.stem.wordnet import WordNetLemmatizer\n",
    "# from nltk.corpus import wordnet\n",
    "from nltk import word_tokenize\n",
    "# from nltk.corpus import stopwords\n",
    "# import warnings\n",
    "from sklearn.utils import resample\n",
    "from sklearn.ensemble import ExtraTreesClassifier\n",
    "# from ast import literal_eval\n",
    "# import re\n",
    "# warnings.filterwarnings('ignore')\n",
    "# print('pandas:'+pd.__version__)\n",
    "# print('seaborn:'+sns.__version__)  "
   ]
  },
  {
   "cell_type": "code",
   "execution_count": null,
   "metadata": {},
   "outputs": [],
   "source": [
    "# ##Classificadores\n",
    "\n",
    "# from sklearn.feature_selection import SelectFromModel\n",
    "# from sklearn.feature_selection import SelectKBest, chi2\n",
    "# from sklearn.linear_model import RidgeClassifier\n",
    "# from sklearn.pipeline import Pipeline\n",
    "# from sklearn.svm import LinearSVC\n",
    "# from sklearn.linear_model import SGDClassifier\n",
    "# from sklearn.linear_model import Perceptron\n",
    "# from sklearn.linear_model import PassiveAggressiveClassifier\n",
    "# from sklearn.naive_bayes import BernoulliNB, MultinomialNB\n",
    "# from sklearn.neighbors import KNeighborsClassifier\n",
    "# from sklearn.neighbors import NearestCentroid\n",
    "# from sklearn.ensemble import RandomForestClassifier"
   ]
  },
  {
   "cell_type": "code",
   "execution_count": null,
   "metadata": {},
   "outputs": [],
   "source": [
    "results = []\n",
    "resultsLogisticRegression = []\n",
    "\n",
    "\n",
    "# datetime object containing current date and time\n",
    "now = datetime.now()\n",
    " \n",
    "print(\"now =\", now)\n",
    "\n",
    "# dd/mm/YY H:M:S\n",
    "dt_string = now.strftime(\"%d/%m/%Y %H:%M:%S\")\n",
    "print(\"date and time =\", dt_string)\n",
    "\n",
    "id_transacao = dt_string#str(uuid.uuid4())\n",
    "def create_connection(db_file):\n",
    "    \"\"\" create a database connection to the SQLite database\n",
    "        specified by db_file\n",
    "    :param db_file: database file\n",
    "    :return: Connection object or None\n",
    "    \"\"\"\n",
    "    conn = None\n",
    "    try:\n",
    "        conn = sqlite3.connect(db_file)\n",
    "    except Error as e:\n",
    "        print(e)\n",
    "\n",
    "    return conn\n",
    "\n",
    "def save_metrics(conn, project):\n",
    "    \"\"\"\n",
    "    Create a new project into the projects table\n",
    "    :param conn:\n",
    "    :param project:\n",
    "    :return: project id\n",
    "    \"\"\"\n",
    "    sql = ''' INSERT INTO metrics( classificador, score_f1,\n",
    "    precision,\n",
    "    train_time,\n",
    "    test_time,\n",
    "    transacao)\n",
    "    VALUES(?,?,?,?,?,?) '''\n",
    "    cur = conn.cursor()\n",
    "    cur.execute(sql, project)\n",
    "    conn.commit()\n",
    "    return cur.lastrowid\n",
    "\n",
    "def salvar_dado(valor):\n",
    "    database = r\"../data/metricsDB.sqlite\"\n",
    "    print (id)\n",
    "    # create a database connection\n",
    "    conn = create_connection(database)\n",
    "    with conn:\n",
    "        # create a new project\n",
    "#         linha = ['SGD Classifier',  0.4503092535879421,  1.9019618034362793,  0.012923479080200195, id]\n",
    "#         metrica = ('Cool App with SQLite & Python', '2015-01-01', '2015-01-30');\n",
    "        valor.append(id_transacao)\n",
    "        print(valor)\n",
    "        metrica = save_metrics( conn,valor) \n",
    "    print (id)\n",
    "        "
   ]
  },
  {
   "cell_type": "code",
   "execution_count": 3,
   "metadata": {},
   "outputs": [],
   "source": [
    "tmdb = pd.read_csv('../../../dados/tmdb_5000_movies.csv')"
   ]
  },
  {
   "cell_type": "code",
   "execution_count": 4,
   "metadata": {},
   "outputs": [
    {
     "data": {
      "text/html": [
       "<div>\n",
       "<style scoped>\n",
       "    .dataframe tbody tr th:only-of-type {\n",
       "        vertical-align: middle;\n",
       "    }\n",
       "\n",
       "    .dataframe tbody tr th {\n",
       "        vertical-align: top;\n",
       "    }\n",
       "\n",
       "    .dataframe thead th {\n",
       "        text-align: right;\n",
       "    }\n",
       "</style>\n",
       "<table border=\"1\" class=\"dataframe\">\n",
       "  <thead>\n",
       "    <tr style=\"text-align: right;\">\n",
       "      <th></th>\n",
       "      <th>budget</th>\n",
       "      <th>genres</th>\n",
       "      <th>homepage</th>\n",
       "      <th>id</th>\n",
       "      <th>keywords</th>\n",
       "      <th>original_language</th>\n",
       "      <th>original_title</th>\n",
       "      <th>overview</th>\n",
       "      <th>popularity</th>\n",
       "      <th>production_companies</th>\n",
       "      <th>production_countries</th>\n",
       "      <th>release_date</th>\n",
       "      <th>revenue</th>\n",
       "      <th>runtime</th>\n",
       "      <th>spoken_languages</th>\n",
       "      <th>status</th>\n",
       "      <th>tagline</th>\n",
       "      <th>title</th>\n",
       "      <th>vote_average</th>\n",
       "      <th>vote_count</th>\n",
       "    </tr>\n",
       "  </thead>\n",
       "  <tbody>\n",
       "    <tr>\n",
       "      <th>0</th>\n",
       "      <td>237000000</td>\n",
       "      <td>[Action, Adventure, Fantasy, Science Fiction]</td>\n",
       "      <td>http://www.avatarmovie.com/</td>\n",
       "      <td>19995</td>\n",
       "      <td>[{\"id\": 1463, \"name\": \"culture clash\"}, {\"id\":...</td>\n",
       "      <td>en</td>\n",
       "      <td>Avatar</td>\n",
       "      <td>In the 22nd century, a paraplegic Marine is di...</td>\n",
       "      <td>150.437577</td>\n",
       "      <td>[{\"name\": \"Ingenious Film Partners\", \"id\": 289...</td>\n",
       "      <td>[{\"iso_3166_1\": \"US\", \"name\": \"United States o...</td>\n",
       "      <td>2009-12-10</td>\n",
       "      <td>2787965087</td>\n",
       "      <td>162.0</td>\n",
       "      <td>[{\"iso_639_1\": \"en\", \"name\": \"English\"}, {\"iso...</td>\n",
       "      <td>Released</td>\n",
       "      <td>Enter the World of Pandora.</td>\n",
       "      <td>Avatar</td>\n",
       "      <td>7.2</td>\n",
       "      <td>11800</td>\n",
       "    </tr>\n",
       "    <tr>\n",
       "      <th>1</th>\n",
       "      <td>300000000</td>\n",
       "      <td>[Adventure, Fantasy, Action]</td>\n",
       "      <td>http://disney.go.com/disneypictures/pirates/</td>\n",
       "      <td>285</td>\n",
       "      <td>[{\"id\": 270, \"name\": \"ocean\"}, {\"id\": 726, \"na...</td>\n",
       "      <td>en</td>\n",
       "      <td>Pirates of the Caribbean: At World's End</td>\n",
       "      <td>Captain Barbossa, long believed to be dead, ha...</td>\n",
       "      <td>139.082615</td>\n",
       "      <td>[{\"name\": \"Walt Disney Pictures\", \"id\": 2}, {\"...</td>\n",
       "      <td>[{\"iso_3166_1\": \"US\", \"name\": \"United States o...</td>\n",
       "      <td>2007-05-19</td>\n",
       "      <td>961000000</td>\n",
       "      <td>169.0</td>\n",
       "      <td>[{\"iso_639_1\": \"en\", \"name\": \"English\"}]</td>\n",
       "      <td>Released</td>\n",
       "      <td>At the end of the world, the adventure begins.</td>\n",
       "      <td>Pirates of the Caribbean: At World's End</td>\n",
       "      <td>6.9</td>\n",
       "      <td>4500</td>\n",
       "    </tr>\n",
       "    <tr>\n",
       "      <th>2</th>\n",
       "      <td>245000000</td>\n",
       "      <td>[Action, Adventure, Crime]</td>\n",
       "      <td>http://www.sonypictures.com/movies/spectre/</td>\n",
       "      <td>206647</td>\n",
       "      <td>[{\"id\": 470, \"name\": \"spy\"}, {\"id\": 818, \"name...</td>\n",
       "      <td>en</td>\n",
       "      <td>Spectre</td>\n",
       "      <td>A cryptic message from Bond’s past sends him o...</td>\n",
       "      <td>107.376788</td>\n",
       "      <td>[{\"name\": \"Columbia Pictures\", \"id\": 5}, {\"nam...</td>\n",
       "      <td>[{\"iso_3166_1\": \"GB\", \"name\": \"United Kingdom\"...</td>\n",
       "      <td>2015-10-26</td>\n",
       "      <td>880674609</td>\n",
       "      <td>148.0</td>\n",
       "      <td>[{\"iso_639_1\": \"fr\", \"name\": \"Fran\\u00e7ais\"},...</td>\n",
       "      <td>Released</td>\n",
       "      <td>A Plan No One Escapes</td>\n",
       "      <td>Spectre</td>\n",
       "      <td>6.3</td>\n",
       "      <td>4466</td>\n",
       "    </tr>\n",
       "  </tbody>\n",
       "</table>\n",
       "</div>"
      ],
      "text/plain": [
       "      budget                                         genres  \\\n",
       "0  237000000  [Action, Adventure, Fantasy, Science Fiction]   \n",
       "1  300000000                   [Adventure, Fantasy, Action]   \n",
       "2  245000000                     [Action, Adventure, Crime]   \n",
       "\n",
       "                                       homepage      id  \\\n",
       "0                   http://www.avatarmovie.com/   19995   \n",
       "1  http://disney.go.com/disneypictures/pirates/     285   \n",
       "2   http://www.sonypictures.com/movies/spectre/  206647   \n",
       "\n",
       "                                            keywords original_language  \\\n",
       "0  [{\"id\": 1463, \"name\": \"culture clash\"}, {\"id\":...                en   \n",
       "1  [{\"id\": 270, \"name\": \"ocean\"}, {\"id\": 726, \"na...                en   \n",
       "2  [{\"id\": 470, \"name\": \"spy\"}, {\"id\": 818, \"name...                en   \n",
       "\n",
       "                             original_title  \\\n",
       "0                                    Avatar   \n",
       "1  Pirates of the Caribbean: At World's End   \n",
       "2                                   Spectre   \n",
       "\n",
       "                                            overview  popularity  \\\n",
       "0  In the 22nd century, a paraplegic Marine is di...  150.437577   \n",
       "1  Captain Barbossa, long believed to be dead, ha...  139.082615   \n",
       "2  A cryptic message from Bond’s past sends him o...  107.376788   \n",
       "\n",
       "                                production_companies  \\\n",
       "0  [{\"name\": \"Ingenious Film Partners\", \"id\": 289...   \n",
       "1  [{\"name\": \"Walt Disney Pictures\", \"id\": 2}, {\"...   \n",
       "2  [{\"name\": \"Columbia Pictures\", \"id\": 5}, {\"nam...   \n",
       "\n",
       "                                production_countries release_date     revenue  \\\n",
       "0  [{\"iso_3166_1\": \"US\", \"name\": \"United States o...   2009-12-10  2787965087   \n",
       "1  [{\"iso_3166_1\": \"US\", \"name\": \"United States o...   2007-05-19   961000000   \n",
       "2  [{\"iso_3166_1\": \"GB\", \"name\": \"United Kingdom\"...   2015-10-26   880674609   \n",
       "\n",
       "   runtime                                   spoken_languages    status  \\\n",
       "0    162.0  [{\"iso_639_1\": \"en\", \"name\": \"English\"}, {\"iso...  Released   \n",
       "1    169.0           [{\"iso_639_1\": \"en\", \"name\": \"English\"}]  Released   \n",
       "2    148.0  [{\"iso_639_1\": \"fr\", \"name\": \"Fran\\u00e7ais\"},...  Released   \n",
       "\n",
       "                                          tagline  \\\n",
       "0                     Enter the World of Pandora.   \n",
       "1  At the end of the world, the adventure begins.   \n",
       "2                           A Plan No One Escapes   \n",
       "\n",
       "                                      title  vote_average  vote_count  \n",
       "0                                    Avatar           7.2       11800  \n",
       "1  Pirates of the Caribbean: At World's End           6.9        4500  \n",
       "2                                   Spectre           6.3        4466  "
      ]
     },
     "execution_count": 4,
     "metadata": {},
     "output_type": "execute_result"
    }
   ],
   "source": [
    "tmdb['genres'] = tmdb['genres'].fillna('[]')\\\n",
    ".apply(literal_eval).apply(lambda x: [i['name'] for i in x] if isinstance(x, list) else [])\n",
    "tmdb.head(3)"
   ]
  },
  {
   "cell_type": "code",
   "execution_count": null,
   "metadata": {},
   "outputs": [],
   "source": [
    "tmdb['genres']=tmdb['genres'].apply(lambda x: '|'.join(x))\n",
    "tmdb.head(3)"
   ]
  },
  {
   "cell_type": "code",
   "execution_count": null,
   "metadata": {},
   "outputs": [],
   "source": [
    "# generos = tmdb.genres.str.get_dummies()\n",
    "# generos.head()"
   ]
  },
  {
   "cell_type": "code",
   "execution_count": 5,
   "metadata": {},
   "outputs": [
    {
     "data": {
      "text/plain": [
       "budget                     0\n",
       "genres                     0\n",
       "homepage                3091\n",
       "id                         0\n",
       "keywords                   0\n",
       "original_language          0\n",
       "original_title             0\n",
       "overview                   3\n",
       "popularity                 0\n",
       "production_companies       0\n",
       "production_countries       0\n",
       "release_date               1\n",
       "revenue                    0\n",
       "runtime                    2\n",
       "spoken_languages           0\n",
       "status                     0\n",
       "tagline                  844\n",
       "title                      0\n",
       "vote_average               0\n",
       "vote_count                 0\n",
       "dtype: int64"
      ]
     },
     "execution_count": 5,
     "metadata": {},
     "output_type": "execute_result"
    }
   ],
   "source": [
    "tmdb.isnull().sum()\n"
   ]
  },
  {
   "cell_type": "code",
   "execution_count": null,
   "metadata": {},
   "outputs": [],
   "source": []
  },
  {
   "cell_type": "code",
   "execution_count": 6,
   "metadata": {},
   "outputs": [],
   "source": [
    "title_df = tmdb[[\"overview\",\"genres\",\"title\", \"keywords\"]] #, \"all_text\"\n",
    "filmes_balanceados = title_df.copy(deep=True)"
   ]
  },
  {
   "cell_type": "code",
   "execution_count": 7,
   "metadata": {},
   "outputs": [],
   "source": [
    "lst_col = 'genres'\n",
    "\n",
    "filmes_balanceados2 = pd.DataFrame({\n",
    "      col:np.repeat(filmes_balanceados[col].values, filmes_balanceados[lst_col].str.len())\n",
    "      for col in filmes_balanceados.columns.drop(lst_col)}\n",
    "    ).assign(**{\n",
    "    lst_col:np.concatenate(filmes_balanceados[lst_col].values)})[filmes_balanceados.columns]"
   ]
  },
  {
   "cell_type": "code",
   "execution_count": 8,
   "metadata": {},
   "outputs": [
    {
     "data": {
      "text/html": [
       "<div>\n",
       "<style scoped>\n",
       "    .dataframe tbody tr th:only-of-type {\n",
       "        vertical-align: middle;\n",
       "    }\n",
       "\n",
       "    .dataframe tbody tr th {\n",
       "        vertical-align: top;\n",
       "    }\n",
       "\n",
       "    .dataframe thead th {\n",
       "        text-align: right;\n",
       "    }\n",
       "</style>\n",
       "<table border=\"1\" class=\"dataframe\">\n",
       "  <thead>\n",
       "    <tr style=\"text-align: right;\">\n",
       "      <th></th>\n",
       "      <th>overview</th>\n",
       "      <th>genres</th>\n",
       "      <th>title</th>\n",
       "      <th>keywords</th>\n",
       "    </tr>\n",
       "  </thead>\n",
       "  <tbody>\n",
       "    <tr>\n",
       "      <th>0</th>\n",
       "      <td>In the 22nd century, a paraplegic Marine is di...</td>\n",
       "      <td>[Action, Adventure, Fantasy, Science Fiction]</td>\n",
       "      <td>Avatar</td>\n",
       "      <td>[{\"id\": 1463, \"name\": \"culture clash\"}, {\"id\":...</td>\n",
       "    </tr>\n",
       "    <tr>\n",
       "      <th>1</th>\n",
       "      <td>Captain Barbossa, long believed to be dead, ha...</td>\n",
       "      <td>[Adventure, Fantasy, Action]</td>\n",
       "      <td>Pirates of the Caribbean: At World's End</td>\n",
       "      <td>[{\"id\": 270, \"name\": \"ocean\"}, {\"id\": 726, \"na...</td>\n",
       "    </tr>\n",
       "    <tr>\n",
       "      <th>2</th>\n",
       "      <td>A cryptic message from Bond’s past sends him o...</td>\n",
       "      <td>[Action, Adventure, Crime]</td>\n",
       "      <td>Spectre</td>\n",
       "      <td>[{\"id\": 470, \"name\": \"spy\"}, {\"id\": 818, \"name...</td>\n",
       "    </tr>\n",
       "  </tbody>\n",
       "</table>\n",
       "</div>"
      ],
      "text/plain": [
       "                                            overview  \\\n",
       "0  In the 22nd century, a paraplegic Marine is di...   \n",
       "1  Captain Barbossa, long believed to be dead, ha...   \n",
       "2  A cryptic message from Bond’s past sends him o...   \n",
       "\n",
       "                                          genres  \\\n",
       "0  [Action, Adventure, Fantasy, Science Fiction]   \n",
       "1                   [Adventure, Fantasy, Action]   \n",
       "2                     [Action, Adventure, Crime]   \n",
       "\n",
       "                                      title  \\\n",
       "0                                    Avatar   \n",
       "1  Pirates of the Caribbean: At World's End   \n",
       "2                                   Spectre   \n",
       "\n",
       "                                            keywords  \n",
       "0  [{\"id\": 1463, \"name\": \"culture clash\"}, {\"id\":...  \n",
       "1  [{\"id\": 270, \"name\": \"ocean\"}, {\"id\": 726, \"na...  \n",
       "2  [{\"id\": 470, \"name\": \"spy\"}, {\"id\": 818, \"name...  "
      ]
     },
     "execution_count": 8,
     "metadata": {},
     "output_type": "execute_result"
    }
   ],
   "source": [
    "title_df.head(3)"
   ]
  },
  {
   "cell_type": "code",
   "execution_count": 9,
   "metadata": {},
   "outputs": [
    {
     "data": {
      "text/html": [
       "<div>\n",
       "<style scoped>\n",
       "    .dataframe tbody tr th:only-of-type {\n",
       "        vertical-align: middle;\n",
       "    }\n",
       "\n",
       "    .dataframe tbody tr th {\n",
       "        vertical-align: top;\n",
       "    }\n",
       "\n",
       "    .dataframe thead th {\n",
       "        text-align: right;\n",
       "    }\n",
       "</style>\n",
       "<table border=\"1\" class=\"dataframe\">\n",
       "  <thead>\n",
       "    <tr style=\"text-align: right;\">\n",
       "      <th></th>\n",
       "      <th>overview</th>\n",
       "      <th>genres</th>\n",
       "      <th>title</th>\n",
       "      <th>keywords</th>\n",
       "    </tr>\n",
       "  </thead>\n",
       "  <tbody>\n",
       "    <tr>\n",
       "      <th>12157</th>\n",
       "      <td>\"Signed, Sealed, Delivered\" introduces a dedic...</td>\n",
       "      <td>Romance</td>\n",
       "      <td>Signed, Sealed, Delivered</td>\n",
       "      <td>[{\"id\": 248, \"name\": \"date\"}, {\"id\": 699, \"nam...</td>\n",
       "    </tr>\n",
       "    <tr>\n",
       "      <th>12158</th>\n",
       "      <td>\"Signed, Sealed, Delivered\" introduces a dedic...</td>\n",
       "      <td>TV Movie</td>\n",
       "      <td>Signed, Sealed, Delivered</td>\n",
       "      <td>[{\"id\": 248, \"name\": \"date\"}, {\"id\": 699, \"nam...</td>\n",
       "    </tr>\n",
       "    <tr>\n",
       "      <th>12159</th>\n",
       "      <td>Ever since the second grade when he first saw ...</td>\n",
       "      <td>Documentary</td>\n",
       "      <td>My Date with Drew</td>\n",
       "      <td>[{\"id\": 1523, \"name\": \"obsession\"}, {\"id\": 224...</td>\n",
       "    </tr>\n",
       "  </tbody>\n",
       "</table>\n",
       "</div>"
      ],
      "text/plain": [
       "                                                overview       genres  \\\n",
       "12157  \"Signed, Sealed, Delivered\" introduces a dedic...      Romance   \n",
       "12158  \"Signed, Sealed, Delivered\" introduces a dedic...     TV Movie   \n",
       "12159  Ever since the second grade when he first saw ...  Documentary   \n",
       "\n",
       "                           title  \\\n",
       "12157  Signed, Sealed, Delivered   \n",
       "12158  Signed, Sealed, Delivered   \n",
       "12159          My Date with Drew   \n",
       "\n",
       "                                                keywords  \n",
       "12157  [{\"id\": 248, \"name\": \"date\"}, {\"id\": 699, \"nam...  \n",
       "12158  [{\"id\": 248, \"name\": \"date\"}, {\"id\": 699, \"nam...  \n",
       "12159  [{\"id\": 1523, \"name\": \"obsession\"}, {\"id\": 224...  "
      ]
     },
     "execution_count": 9,
     "metadata": {},
     "output_type": "execute_result"
    }
   ],
   "source": [
    "filmes_balanceados2.tail(3)"
   ]
  },
  {
   "cell_type": "code",
   "execution_count": 10,
   "metadata": {},
   "outputs": [
    {
     "data": {
      "text/plain": [
       "Drama              2297\n",
       "Comedy             1722\n",
       "Thriller           1274\n",
       "Action             1154\n",
       "Romance             894\n",
       "Adventure           790\n",
       "Crime               696\n",
       "Science Fiction     535\n",
       "Horror              519\n",
       "Family              513\n",
       "Fantasy             424\n",
       "Mystery             348\n",
       "Animation           234\n",
       "History             197\n",
       "Music               185\n",
       "War                 144\n",
       "Documentary         110\n",
       "Western              82\n",
       "Foreign              34\n",
       "TV Movie              8\n",
       "Name: genres, dtype: int64"
      ]
     },
     "execution_count": 10,
     "metadata": {},
     "output_type": "execute_result"
    }
   ],
   "source": [
    "filmes_balanceados2['genres'].value_counts()"
   ]
  },
  {
   "cell_type": "code",
   "execution_count": null,
   "metadata": {},
   "outputs": [],
   "source": [
    "# dados_dos_filmes= tmdb['overview']\n",
    "# # dados_dos_filmes.drop(['budget','homepage','id','keywords','original_language',\n",
    "# #                             'original_title','popularity','production_companies','production_countries',\n",
    "# #                            'release_date','revenue','runtime','spoken_languages','status','tagline',\n",
    "# #                            'title','vote_average','vote_count', 'overview','genres' ], axis=1)"
   ]
  },
  {
   "cell_type": "code",
   "execution_count": null,
   "metadata": {},
   "outputs": [],
   "source": [
    "# generos = tmdb.genres.str.get_dummies()\n",
    "# generos.head()\n",
    "\n",
    "# #CONCATENA OS DOIS DATAFRAMES\n",
    "# dados_dos_filmes = pd.concat([tmdb, generos], axis=1)\n",
    "# dados_dos_filmes.head()"
   ]
  },
  {
   "cell_type": "code",
   "execution_count": null,
   "metadata": {},
   "outputs": [],
   "source": [
    "# df_genres =dados_dos_filmes.drop(['budget','homepage','id','keywords','original_language',\n",
    "#                             'original_title','popularity','production_companies','production_countries',\n",
    "#                            'release_date','revenue','runtime','spoken_languages','status','tagline',\n",
    "#                            'title','vote_average','vote_count', 'overview','genres' ], axis=1)\n",
    "# df_genres"
   ]
  },
  {
   "cell_type": "code",
   "execution_count": null,
   "metadata": {},
   "outputs": [],
   "source": [
    "# df_genres =dados_dos_filmes.drop(['budget','homepage','id','keywords','original_language',\n",
    "#                             'original_title','popularity','production_companies','production_countries',\n",
    "#                            'release_date','revenue','runtime','spoken_languages','status','tagline',\n",
    "#                            'title','vote_average','vote_count', 'overview','genres' ], axis=1)\n",
    "# counts = []\n",
    "# categories = list(df_genres.columns)\n",
    "# for i in categories:\n",
    "#     counts.append((i, df_genres[i].sum()))\n",
    "# df_stats = pd.DataFrame(counts, columns=['genre', '#movies'])\n",
    "# df_stats"
   ]
  },
  {
   "cell_type": "code",
   "execution_count": null,
   "metadata": {},
   "outputs": [],
   "source": [
    "# dados_dos_filmes.drop(['budget','homepage','id','keywords','original_language',\n",
    "#                             'original_title','popularity','production_companies','production_countries',\n",
    "# #                            'release_date','revenue','runtime','spoken_languages','status','tagline',\n",
    "#                            'title','vote_average','vote_count', 'overview','genres' ], axis=1)"
   ]
  },
  {
   "cell_type": "code",
   "execution_count": null,
   "metadata": {},
   "outputs": [],
   "source": [
    "\n",
    "# # split the data, leave 1/3 out for testing\n",
    "# data_x = dados_dos_filmes[['overview']]\n",
    "# data_y = dados_dos_filmes.drop(['budget','homepage','id','keywords','original_language',\n",
    "#                             'original_title','popularity','production_companies','production_countries',\n",
    "#                            'release_date','revenue','runtime','spoken_languages','status','tagline',\n",
    "#                            'title','vote_average','vote_count', 'overview','genres' ], axis=1)\n",
    "# # stratified_split = StratifiedShuffleSplit(n_splits=2, test_size=0.33)\n",
    "# xtrain, xval, ytrain, yval = model_selection.train_test_split(data_x, data_y, test_size=0.33, random_state=512)\n",
    "# # transform matrix of plots into lists to pass to a TfidfVectorizer\n",
    "# train_x = [x[0].strip() for x in xtrain.values.tolist()]\n",
    "# test_x = [x[0].strip() for x in xval.values.tolist()] "
   ]
  },
  {
   "cell_type": "markdown",
   "metadata": {},
   "source": [
    "#### Separando cada gênero em dataset diferente para poder fazer resample dos dados - Tratamento de classes desbalanceadas"
   ]
  },
  {
   "cell_type": "code",
   "execution_count": 11,
   "metadata": {},
   "outputs": [],
   "source": [
    "df_Drama = filmes_balanceados2[filmes_balanceados2['genres']=='Drama']\n",
    "df_Comedy  = filmes_balanceados2[filmes_balanceados2['genres']=='Comedy']\n",
    "df_Thriller   = filmes_balanceados2[filmes_balanceados2['genres']=='Thriller']\n",
    "df_Action  = filmes_balanceados2[filmes_balanceados2['genres']=='Action']\n",
    "df_Romance   = filmes_balanceados2[filmes_balanceados2['genres']=='Romance']\n",
    "df_Adventure = filmes_balanceados2[filmes_balanceados2['genres']=='Adventure']\n",
    "df_Crime    = filmes_balanceados2[filmes_balanceados2['genres']=='Crime']\n",
    "df_Science_Fiction = filmes_balanceados2[filmes_balanceados2['genres']=='Science Fiction']\n",
    "df_Horror     = filmes_balanceados2[filmes_balanceados2['genres']=='Horror']\n",
    "df_Family           = filmes_balanceados2[filmes_balanceados2['genres']=='Family']\n",
    "df_Fantasy    = filmes_balanceados2[filmes_balanceados2['genres']=='Fantasy']\n",
    "df_Mystery      = filmes_balanceados2[filmes_balanceados2['genres']=='Mystery']\n",
    "df_Animation   = filmes_balanceados2[filmes_balanceados2['genres']=='Animation']\n",
    "df_History       = filmes_balanceados2[filmes_balanceados2['genres']=='History']\n",
    "df_Music         = filmes_balanceados2[filmes_balanceados2['genres']=='Music']\n",
    "df_War        = filmes_balanceados2[filmes_balanceados2['genres']=='War']\n",
    "df_Documentary  = filmes_balanceados2[filmes_balanceados2['genres']=='Documentary']\n",
    "df_Western     = filmes_balanceados2[filmes_balanceados2['genres']=='Western']\n",
    "df_Foreign     = filmes_balanceados2[filmes_balanceados2['genres']=='Foreign']\n",
    "df_TV_Movie  = filmes_balanceados2[filmes_balanceados2['genres']=='TV Movie']"
   ]
  },
  {
   "cell_type": "code",
   "execution_count": 16,
   "metadata": {},
   "outputs": [],
   "source": [
    "df_Comedy  = resample(df_Comedy,\n",
    "                      replace=True,\n",
    "                      n_samples=2297,\n",
    "                      random_state=123)\n",
    "df_Thriller   = resample(df_Thriller,\n",
    "                         replace=True,\n",
    "                         n_samples=2297,\n",
    "                         random_state=123)\n",
    "df_Action  = resample(df_Action,\n",
    "                      replace=True,\n",
    "                      n_samples=2297,\n",
    "                      random_state=123)\n",
    "df_Romance   = resample(df_Romance,\n",
    "                        replace=True,\n",
    "                        n_samples=2297,\n",
    "                        random_state=123)\n",
    "df_Adventure= resample(df_Adventure, \n",
    "                       replace=True,  \n",
    "                       n_samples=2297,    \n",
    "                       random_state=123)\n",
    "df_Crime   = resample(df_Crime,\n",
    "                      replace=True,     \n",
    "                      n_samples=2297,    \n",
    "                      random_state=123)\n",
    "df_Science_Fiction = resample(df_Science_Fiction,\n",
    "                              replace=True, \n",
    "                              n_samples=2297,\n",
    "                              random_state=123)\n",
    "df_Horror     = resample(df_Horror, \n",
    "                         replace=True,     \n",
    "                         n_samples=2297,    \n",
    "                         random_state=123)\n",
    "df_Family          = resample(df_Family, \n",
    "                              replace=True,\n",
    "                              n_samples=2297,  \n",
    "                              random_state=123)\n",
    "df_Fantasy   = resample(df_Fantasy, \n",
    "                                 replace=True,     \n",
    "                                 n_samples=2297,    \n",
    "                                 random_state=123)\n",
    "df_Mystery      = resample(df_Mystery,\n",
    "                           replace=True,     \n",
    "                           n_samples=2297,   \n",
    "                           random_state=123)\n",
    "df_Animation  = resample(df_Animation, \n",
    "                         replace=True, \n",
    "                         n_samples=2297, \n",
    "                         random_state=123)\n",
    "df_History    = resample(df_History, \n",
    "                         replace=True, \n",
    "                         n_samples=2297,  \n",
    "                         random_state=123)\n",
    "df_Music      = resample(df_Music,\n",
    "                         replace=True,  \n",
    "                         n_samples=2297, \n",
    "                         random_state=123)\n",
    "df_War       = resample(df_War, \n",
    "                        replace=True,   \n",
    "                        n_samples=2297,    \n",
    "                        random_state=123)\n",
    "df_Documentary= resample(df_Documentary, \n",
    "                         replace=True,\n",
    "                         n_samples=2297,    \n",
    "                         random_state=123)\n",
    "df_Western    = resample(df_Western, \n",
    "                         replace=True,     \n",
    "                         n_samples=2297,    \n",
    "                         random_state=123)\n",
    "df_Foreign   = resample(df_Foreign, \n",
    "                        replace=True,\n",
    "                        n_samples=2297,  \n",
    "                        random_state=123)\n",
    "df_TV_Movie = resample(df_TV_Movie, \n",
    "                       replace=True, \n",
    "                       n_samples=2297,\n",
    "                       random_state=123)"
   ]
  },
  {
   "cell_type": "code",
   "execution_count": 17,
   "metadata": {},
   "outputs": [],
   "source": [
    "df_upsampled = pd.concat([df_Drama, df_Comedy], axis=0 )\n",
    "df_upsampled = pd.concat([df_upsampled, df_Thriller ]\n",
    "                         )\n",
    "\n",
    "df_upsampled = pd.concat([df_upsampled, df_Adventure], axis=0 )\n",
    "df_upsampled = pd.concat([df_upsampled, df_Action ]\n",
    "                         )\n",
    "df_upsampled = pd.concat([df_upsampled, df_Romance ]\n",
    "                         )\n",
    "df_upsampled = pd.concat([df_upsampled, df_Crime ]\n",
    "                         )\n",
    "df_upsampled = pd.concat([df_upsampled, df_Science_Fiction ]\n",
    "                         )\n",
    "df_upsampled = pd.concat([df_upsampled, df_Horror ]\n",
    "                         )\n",
    "df_upsampled = pd.concat([df_upsampled, df_Family ]\n",
    "                         )\n",
    "df_upsampled = pd.concat([df_upsampled, df_Fantasy ]\n",
    "                         )\n",
    "df_upsampled = pd.concat([df_upsampled, df_Mystery ]\n",
    "                         )\n",
    "df_upsampled = pd.concat([df_upsampled, df_Animation ]\n",
    "                         )\n",
    "df_upsampled = pd.concat([df_upsampled, df_History ]\n",
    "                         )\n",
    "df_upsampled = pd.concat([df_upsampled, df_Music ]\n",
    "                         )\n",
    "df_upsampled = pd.concat([df_upsampled, df_War ]\n",
    "                         )\n",
    "df_upsampled = pd.concat([df_upsampled, df_Documentary ]\n",
    "                         )\n",
    "df_upsampled = pd.concat([df_upsampled, df_Western ]\n",
    "                         )\n",
    "df_upsampled = pd.concat([df_upsampled, df_Foreign ]\n",
    "                         )\n",
    "df_upsampled = pd.concat([df_upsampled, df_TV_Movie ]\n",
    "                         )"
   ]
  },
  {
   "cell_type": "code",
   "execution_count": 18,
   "metadata": {},
   "outputs": [
    {
     "data": {
      "text/plain": [
       "(45940, 4)"
      ]
     },
     "execution_count": 18,
     "metadata": {},
     "output_type": "execute_result"
    }
   ],
   "source": [
    "df_upsampled.shape"
   ]
  },
  {
   "cell_type": "code",
   "execution_count": 19,
   "metadata": {},
   "outputs": [
    {
     "data": {
      "text/html": [
       "<div>\n",
       "<style scoped>\n",
       "    .dataframe tbody tr th:only-of-type {\n",
       "        vertical-align: middle;\n",
       "    }\n",
       "\n",
       "    .dataframe tbody tr th {\n",
       "        vertical-align: top;\n",
       "    }\n",
       "\n",
       "    .dataframe thead th {\n",
       "        text-align: right;\n",
       "    }\n",
       "</style>\n",
       "<table border=\"1\" class=\"dataframe\">\n",
       "  <thead>\n",
       "    <tr style=\"text-align: right;\">\n",
       "      <th></th>\n",
       "      <th>index</th>\n",
       "      <th>overview</th>\n",
       "      <th>genres</th>\n",
       "      <th>title</th>\n",
       "      <th>keywords</th>\n",
       "    </tr>\n",
       "  </thead>\n",
       "  <tbody>\n",
       "    <tr>\n",
       "      <th>0</th>\n",
       "      <td>12</td>\n",
       "      <td>Following the death of District Attorney Harve...</td>\n",
       "      <td>Drama</td>\n",
       "      <td>The Dark Knight Rises</td>\n",
       "      <td>[{\"id\": 849, \"name\": \"dc comics\"}, {\"id\": 853,...</td>\n",
       "    </tr>\n",
       "    <tr>\n",
       "      <th>1</th>\n",
       "      <td>74</td>\n",
       "      <td>In 1933 New York, an overly ambitious movie pr...</td>\n",
       "      <td>Drama</td>\n",
       "      <td>King Kong</td>\n",
       "      <td>[{\"id\": 774, \"name\": \"film business\"}, {\"id\": ...</td>\n",
       "    </tr>\n",
       "    <tr>\n",
       "      <th>2</th>\n",
       "      <td>76</td>\n",
       "      <td>84 years later, a 101-year-old woman named Ros...</td>\n",
       "      <td>Drama</td>\n",
       "      <td>Titanic</td>\n",
       "      <td>[{\"id\": 2580, \"name\": \"shipwreck\"}, {\"id\": 298...</td>\n",
       "    </tr>\n",
       "    <tr>\n",
       "      <th>3</th>\n",
       "      <td>139</td>\n",
       "      <td>Life for former United Nations investigator Ge...</td>\n",
       "      <td>Drama</td>\n",
       "      <td>World War Z</td>\n",
       "      <td>[{\"id\": 4565, \"name\": \"dystopia\"}, {\"id\": 1233...</td>\n",
       "    </tr>\n",
       "    <tr>\n",
       "      <th>4</th>\n",
       "      <td>153</td>\n",
       "      <td>An adaptation of F. Scott Fitzgerald's Long Is...</td>\n",
       "      <td>Drama</td>\n",
       "      <td>The Great Gatsby</td>\n",
       "      <td>[{\"id\": 818, \"name\": \"based on novel\"}, {\"id\":...</td>\n",
       "    </tr>\n",
       "    <tr>\n",
       "      <th>...</th>\n",
       "      <td>...</td>\n",
       "      <td>...</td>\n",
       "      <td>...</td>\n",
       "      <td>...</td>\n",
       "      <td>...</td>\n",
       "    </tr>\n",
       "    <tr>\n",
       "      <th>45935</th>\n",
       "      <td>9780</td>\n",
       "      <td>American-born Jayne Valseca, her husband Eduar...</td>\n",
       "      <td>TV Movie</td>\n",
       "      <td>We Have Your Husband</td>\n",
       "      <td>[]</td>\n",
       "    </tr>\n",
       "    <tr>\n",
       "      <th>45936</th>\n",
       "      <td>10413</td>\n",
       "      <td>The continued Westward journey of settlers Mis...</td>\n",
       "      <td>TV Movie</td>\n",
       "      <td>Love's Abiding Joy</td>\n",
       "      <td>[]</td>\n",
       "    </tr>\n",
       "    <tr>\n",
       "      <th>45937</th>\n",
       "      <td>12158</td>\n",
       "      <td>\"Signed, Sealed, Delivered\" introduces a dedic...</td>\n",
       "      <td>TV Movie</td>\n",
       "      <td>Signed, Sealed, Delivered</td>\n",
       "      <td>[{\"id\": 248, \"name\": \"date\"}, {\"id\": 699, \"nam...</td>\n",
       "    </tr>\n",
       "    <tr>\n",
       "      <th>45938</th>\n",
       "      <td>8903</td>\n",
       "      <td>A young woman finds out that her mother worked...</td>\n",
       "      <td>TV Movie</td>\n",
       "      <td>Restless</td>\n",
       "      <td>[{\"id\": 470, \"name\": \"spy\"}, {\"id\": 6091, \"nam...</td>\n",
       "    </tr>\n",
       "    <tr>\n",
       "      <th>45939</th>\n",
       "      <td>10182</td>\n",
       "      <td>A freak hurricane hits Los Angeles, causing ma...</td>\n",
       "      <td>TV Movie</td>\n",
       "      <td>Sharknado</td>\n",
       "      <td>[{\"id\": 387, \"name\": \"california\"}, {\"id\": 720...</td>\n",
       "    </tr>\n",
       "  </tbody>\n",
       "</table>\n",
       "<p>45940 rows × 5 columns</p>\n",
       "</div>"
      ],
      "text/plain": [
       "       index                                           overview    genres  \\\n",
       "0         12  Following the death of District Attorney Harve...     Drama   \n",
       "1         74  In 1933 New York, an overly ambitious movie pr...     Drama   \n",
       "2         76  84 years later, a 101-year-old woman named Ros...     Drama   \n",
       "3        139  Life for former United Nations investigator Ge...     Drama   \n",
       "4        153  An adaptation of F. Scott Fitzgerald's Long Is...     Drama   \n",
       "...      ...                                                ...       ...   \n",
       "45935   9780  American-born Jayne Valseca, her husband Eduar...  TV Movie   \n",
       "45936  10413  The continued Westward journey of settlers Mis...  TV Movie   \n",
       "45937  12158  \"Signed, Sealed, Delivered\" introduces a dedic...  TV Movie   \n",
       "45938   8903  A young woman finds out that her mother worked...  TV Movie   \n",
       "45939  10182  A freak hurricane hits Los Angeles, causing ma...  TV Movie   \n",
       "\n",
       "                           title  \\\n",
       "0          The Dark Knight Rises   \n",
       "1                      King Kong   \n",
       "2                        Titanic   \n",
       "3                    World War Z   \n",
       "4               The Great Gatsby   \n",
       "...                          ...   \n",
       "45935       We Have Your Husband   \n",
       "45936         Love's Abiding Joy   \n",
       "45937  Signed, Sealed, Delivered   \n",
       "45938                   Restless   \n",
       "45939                  Sharknado   \n",
       "\n",
       "                                                keywords  \n",
       "0      [{\"id\": 849, \"name\": \"dc comics\"}, {\"id\": 853,...  \n",
       "1      [{\"id\": 774, \"name\": \"film business\"}, {\"id\": ...  \n",
       "2      [{\"id\": 2580, \"name\": \"shipwreck\"}, {\"id\": 298...  \n",
       "3      [{\"id\": 4565, \"name\": \"dystopia\"}, {\"id\": 1233...  \n",
       "4      [{\"id\": 818, \"name\": \"based on novel\"}, {\"id\":...  \n",
       "...                                                  ...  \n",
       "45935                                                 []  \n",
       "45936                                                 []  \n",
       "45937  [{\"id\": 248, \"name\": \"date\"}, {\"id\": 699, \"nam...  \n",
       "45938  [{\"id\": 470, \"name\": \"spy\"}, {\"id\": 6091, \"nam...  \n",
       "45939  [{\"id\": 387, \"name\": \"california\"}, {\"id\": 720...  \n",
       "\n",
       "[45940 rows x 5 columns]"
      ]
     },
     "execution_count": 19,
     "metadata": {},
     "output_type": "execute_result"
    }
   ],
   "source": [
    "df_upsampled.reset_index()"
   ]
  },
  {
   "cell_type": "code",
   "execution_count": 20,
   "metadata": {},
   "outputs": [
    {
     "data": {
      "text/plain": [
       "Animation          2297\n",
       "Action             2297\n",
       "Comedy             2297\n",
       "Horror             2297\n",
       "Foreign            2297\n",
       "Romance            2297\n",
       "War                2297\n",
       "Fantasy            2297\n",
       "History            2297\n",
       "Documentary        2297\n",
       "Mystery            2297\n",
       "Family             2297\n",
       "Crime              2297\n",
       "Drama              2297\n",
       "Science Fiction    2297\n",
       "Adventure          2297\n",
       "Thriller           2297\n",
       "Western            2297\n",
       "TV Movie           2297\n",
       "Music              2297\n",
       "Name: genres, dtype: int64"
      ]
     },
     "execution_count": 20,
     "metadata": {},
     "output_type": "execute_result"
    }
   ],
   "source": [
    "df_upsampled['genres'].value_counts()"
   ]
  },
  {
   "cell_type": "code",
   "execution_count": 24,
   "metadata": {},
   "outputs": [],
   "source": [
    "punctuation = \"\"\"!()-[]{};:'\"\\, <>./?@#$%^&*_~\"\"\"\n",
    "\n",
    "words = stopwords.words(\"english\")\n",
    "lemma = nltk.stem.WordNetLemmatizer()\n",
    "def pre_process(text):\n",
    "    text = str(text)\n",
    "    remove_hyperlink = re.sub('http://\\S+|https://\\S+', '', text)\n",
    "    for elements in remove_hyperlink:\n",
    "        if elements in punctuation:\n",
    "            remove_hyperlink = remove_hyperlink.replace(elements, \" \")\n",
    "    tokens = word_tokenize(remove_hyperlink)\n",
    "    remove_words = [word for word in tokens if not word in words]\n",
    "    text = [lemma.lemmatize(word) for word in remove_words]\n",
    "    joined_words = \" \".join(text)\n",
    "    return joined_words"
   ]
  },
  {
   "cell_type": "code",
   "execution_count": 25,
   "metadata": {},
   "outputs": [],
   "source": [
    "\n",
    "title_df['overview'] = title_df['overview'].apply(pre_process)\n",
    "filmes_balanceados['overview'] = filmes_balanceados2['overview'].apply(pre_process)\n",
    "df_upsampled['overview'] = df_upsampled['overview'].apply(pre_process)\n"
   ]
  },
  {
   "cell_type": "code",
   "execution_count": 26,
   "metadata": {},
   "outputs": [],
   "source": [
    "df_upsampled['genres'] = df_upsampled['genres'].map(lambda x: x.split(','))\n"
   ]
  },
  {
   "cell_type": "code",
   "execution_count": 34,
   "metadata": {},
   "outputs": [
    {
     "data": {
      "text/html": [
       "<div>\n",
       "<style scoped>\n",
       "    .dataframe tbody tr th:only-of-type {\n",
       "        vertical-align: middle;\n",
       "    }\n",
       "\n",
       "    .dataframe tbody tr th {\n",
       "        vertical-align: top;\n",
       "    }\n",
       "\n",
       "    .dataframe thead th {\n",
       "        text-align: right;\n",
       "    }\n",
       "</style>\n",
       "<table border=\"1\" class=\"dataframe\">\n",
       "  <thead>\n",
       "    <tr style=\"text-align: right;\">\n",
       "      <th></th>\n",
       "      <th>overview</th>\n",
       "      <th>genres</th>\n",
       "      <th>title</th>\n",
       "      <th>keywords</th>\n",
       "    </tr>\n",
       "  </thead>\n",
       "  <tbody>\n",
       "    <tr>\n",
       "      <th>0</th>\n",
       "      <td>In 22nd century paraplegic Marine dispatched m...</td>\n",
       "      <td>[Action, Adventure, Fantasy, Science Fiction]</td>\n",
       "      <td>Avatar</td>\n",
       "      <td>[{\"id\": 1463, \"name\": \"culture clash\"}, {\"id\":...</td>\n",
       "    </tr>\n",
       "    <tr>\n",
       "      <th>1</th>\n",
       "      <td>Captain Barbossa long believed dead come back ...</td>\n",
       "      <td>[Adventure, Fantasy, Action]</td>\n",
       "      <td>Pirates of the Caribbean: At World's End</td>\n",
       "      <td>[{\"id\": 270, \"name\": \"ocean\"}, {\"id\": 726, \"na...</td>\n",
       "    </tr>\n",
       "    <tr>\n",
       "      <th>2</th>\n",
       "      <td>A cryptic message Bond ’ past sends trail unco...</td>\n",
       "      <td>[Action, Adventure, Crime]</td>\n",
       "      <td>Spectre</td>\n",
       "      <td>[{\"id\": 470, \"name\": \"spy\"}, {\"id\": 818, \"name...</td>\n",
       "    </tr>\n",
       "    <tr>\n",
       "      <th>3</th>\n",
       "      <td>Following death District Attorney Harvey Dent ...</td>\n",
       "      <td>[Action, Crime, Drama, Thriller]</td>\n",
       "      <td>The Dark Knight Rises</td>\n",
       "      <td>[{\"id\": 849, \"name\": \"dc comics\"}, {\"id\": 853,...</td>\n",
       "    </tr>\n",
       "    <tr>\n",
       "      <th>4</th>\n",
       "      <td>John Carter war weary former military captain ...</td>\n",
       "      <td>[Action, Adventure, Science Fiction]</td>\n",
       "      <td>John Carter</td>\n",
       "      <td>[{\"id\": 818, \"name\": \"based on novel\"}, {\"id\":...</td>\n",
       "    </tr>\n",
       "  </tbody>\n",
       "</table>\n",
       "</div>"
      ],
      "text/plain": [
       "                                            overview  \\\n",
       "0  In 22nd century paraplegic Marine dispatched m...   \n",
       "1  Captain Barbossa long believed dead come back ...   \n",
       "2  A cryptic message Bond ’ past sends trail unco...   \n",
       "3  Following death District Attorney Harvey Dent ...   \n",
       "4  John Carter war weary former military captain ...   \n",
       "\n",
       "                                          genres  \\\n",
       "0  [Action, Adventure, Fantasy, Science Fiction]   \n",
       "1                   [Adventure, Fantasy, Action]   \n",
       "2                     [Action, Adventure, Crime]   \n",
       "3               [Action, Crime, Drama, Thriller]   \n",
       "4           [Action, Adventure, Science Fiction]   \n",
       "\n",
       "                                      title  \\\n",
       "0                                    Avatar   \n",
       "1  Pirates of the Caribbean: At World's End   \n",
       "2                                   Spectre   \n",
       "3                     The Dark Knight Rises   \n",
       "4                               John Carter   \n",
       "\n",
       "                                            keywords  \n",
       "0  [{\"id\": 1463, \"name\": \"culture clash\"}, {\"id\":...  \n",
       "1  [{\"id\": 270, \"name\": \"ocean\"}, {\"id\": 726, \"na...  \n",
       "2  [{\"id\": 470, \"name\": \"spy\"}, {\"id\": 818, \"name...  \n",
       "3  [{\"id\": 849, \"name\": \"dc comics\"}, {\"id\": 853,...  \n",
       "4  [{\"id\": 818, \"name\": \"based on novel\"}, {\"id\":...  "
      ]
     },
     "execution_count": 34,
     "metadata": {},
     "output_type": "execute_result"
    }
   ],
   "source": [
    "title_df.head()"
   ]
  },
  {
   "cell_type": "code",
   "execution_count": 118,
   "metadata": {},
   "outputs": [
    {
     "data": {
      "text/plain": [
       "0    [Action, Adventure, Fantasy, Science Fiction]\n",
       "1                     [Adventure, Fantasy, Action]\n",
       "2                       [Action, Adventure, Crime]\n",
       "3                 [Action, Crime, Drama, Thriller]\n",
       "4             [Action, Adventure, Science Fiction]\n",
       "Name: genres, dtype: object"
      ]
     },
     "execution_count": 118,
     "metadata": {},
     "output_type": "execute_result"
    }
   ],
   "source": [
    "# :filmes_balanceados2['genres'] = filmes_balanceados2['genres'].map(lambda x: x.split(''))\n",
    "title_df['genres'].head() "
   ]
  },
  {
   "cell_type": "code",
   "execution_count": 58,
   "metadata": {},
   "outputs": [
    {
     "name": "stderr",
     "output_type": "stream",
     "text": [
      "[nltk_data] Downloading package stopwords to /home/igor/nltk_data...\n",
      "[nltk_data]   Package stopwords is already up-to-date!\n"
     ]
    }
   ],
   "source": [
    "\n",
    "nltk.download('stopwords') \n",
    "words = stopwords.words(\"english\") \n",
    "pipeline = Pipeline([\n",
    "('tfidf', TfidfVectorizer(stop_words=words)),\n",
    "('clf',  OneVsRestClassifier(ExtraTreesClassifier()) ),\n",
    "    \n",
    "])\n",
    "parameters = { \n",
    "    'tfidf__ngram_range': [(1, 1), (1, 2), (1, 3)],\n",
    "    'tfidf__max_features': [ 5000,10000,15000, 20000],\n",
    "    \"clf__estimator__n_estimators\": [10,15,20],\n",
    "    \"clf__estimator__class_weight\": ['balanced','balanced_subsample', None],\n",
    "    'clf__estimator__max_depth':[8,12,15,20],\n",
    "}"
   ]
  },
  {
   "cell_type": "markdown",
   "metadata": {},
   "source": [
    "# Sem tratamento"
   ]
  },
  {
   "cell_type": "code",
   "execution_count": 84,
   "metadata": {},
   "outputs": [],
   "source": [
    " \n",
    "multilabel_binarizer = MultiLabelBinarizer()\n",
    "# multilabel_binarizer.fit(title_df['genres'])\n",
    "\n",
    "# transform target variable\n",
    "y = multilabel_binarizer.fit_transform( title_df['genres']  )\n",
    "\n",
    "# split the data, leave 1/3 out for testing\n",
    "data_x = title_df[['overview']]\n",
    "data_y = y #title_df[[ 'genres' ]]\n",
    "# stratified_split = StratifiedShuffleSplit(n_splits=2, test_size=0.33)\n",
    "xtrain, xval, ytrain, yval = model_selection.train_test_split(data_x, data_y, test_size=0.33, random_state=512)\n",
    "# transform matrix of plots into lists to pass to a TfidfVectorizer\n",
    "train_x = [x[0].strip() for x in xtrain.values.tolist()]\n",
    "test_x = [x[0].strip() for x in xval.values.tolist()] "
   ]
  },
  {
   "cell_type": "code",
   "execution_count": 73,
   "metadata": {},
   "outputs": [
    {
     "data": {
      "text/plain": [
       "3218"
      ]
     },
     "execution_count": 73,
     "metadata": {},
     "output_type": "execute_result"
    }
   ],
   "source": [
    "len(xtrain)"
   ]
  },
  {
   "cell_type": "code",
   "execution_count": 74,
   "metadata": {},
   "outputs": [
    {
     "data": {
      "text/plain": [
       "(3218, 20)"
      ]
     },
     "execution_count": 74,
     "metadata": {},
     "output_type": "execute_result"
    }
   ],
   "source": [
    "ytrain.shape"
   ]
  },
  {
   "cell_type": "code",
   "execution_count": 78,
   "metadata": {},
   "outputs": [
    {
     "name": "stdout",
     "output_type": "stream",
     "text": [
      "Fitting 2 folds for each of 432 candidates, totalling 864 fits\n"
     ]
    },
    {
     "name": "stderr",
     "output_type": "stream",
     "text": [
      "[Parallel(n_jobs=2)]: Using backend LokyBackend with 2 concurrent workers.\n",
      "[Parallel(n_jobs=2)]: Done  28 tasks      | elapsed:   10.2s\n",
      "[Parallel(n_jobs=2)]: Done 124 tasks      | elapsed:  1.0min\n",
      "[Parallel(n_jobs=2)]: Done 284 tasks      | elapsed:  3.2min\n",
      "[Parallel(n_jobs=2)]: Done 508 tasks      | elapsed:  5.9min\n",
      "[Parallel(n_jobs=2)]: Done 796 tasks      | elapsed:  9.5min\n",
      "[Parallel(n_jobs=2)]: Done 864 out of 864 | elapsed: 10.3min finished\n"
     ]
    },
    {
     "name": "stdout",
     "output_type": "stream",
     "text": [
      "Best parameters set:\n",
      "[('tfidf', TfidfVectorizer(max_features=15000, ngram_range=(1, 2),\n",
      "                stop_words=['i', 'me', 'my', 'myself', 'we', 'our', 'ours',\n",
      "                            'ourselves', 'you', \"you're\", \"you've\", \"you'll\",\n",
      "                            \"you'd\", 'your', 'yours', 'yourself', 'yourselves',\n",
      "                            'he', 'him', 'his', 'himself', 'she', \"she's\",\n",
      "                            'her', 'hers', 'herself', 'it', \"it's\", 'its',\n",
      "                            'itself', ...])), ('clf', OneVsRestClassifier(estimator=ExtraTreesClassifier(class_weight='balanced',\n",
      "                                                   max_depth=20,\n",
      "                                                   n_estimators=20)))]\n"
     ]
    }
   ],
   "source": [
    "\n",
    "grid_search_tune = GridSearchCV(\n",
    "pipeline, parameters, cv=2, n_jobs=2, verbose=3)\n",
    "grid_search_tune.fit(train_x, ytrain )  \n",
    "print\n",
    "print(\"Best parameters set:\")\n",
    "print (grid_search_tune.best_estimator_.steps)"
   ]
  },
  {
   "cell_type": "code",
   "execution_count": 79,
   "metadata": {},
   "outputs": [
    {
     "data": {
      "text/plain": [
       "array(['Action', 'Adventure', 'Animation', 'Comedy', 'Crime',\n",
       "       'Documentary', 'Drama', 'Family', 'Fantasy', 'Foreign', 'History',\n",
       "       'Horror', 'Music', 'Mystery', 'Romance', 'Science Fiction',\n",
       "       'TV Movie', 'Thriller', 'War', 'Western'], dtype=object)"
      ]
     },
     "execution_count": 79,
     "metadata": {},
     "output_type": "execute_result"
    }
   ],
   "source": [
    "multilabel_binarizer.classes_"
   ]
  },
  {
   "cell_type": "code",
   "execution_count": 80,
   "metadata": {},
   "outputs": [
    {
     "name": "stdout",
     "output_type": "stream",
     "text": [
      "________________________________________________________________________________________________________________________\n",
      "Training: \n",
      "Pipeline(steps=[('tfidf',\n",
      "                 TfidfVectorizer(max_features=15000, ngram_range=(1, 2),\n",
      "                                 stop_words=['i', 'me', 'my', 'myself', 'we',\n",
      "                                             'our', 'ours', 'ourselves', 'you',\n",
      "                                             \"you're\", \"you've\", \"you'll\",\n",
      "                                             \"you'd\", 'your', 'yours',\n",
      "                                             'yourself', 'yourselves', 'he',\n",
      "                                             'him', 'his', 'himself', 'she',\n",
      "                                             \"she's\", 'her', 'hers', 'herself',\n",
      "                                             'it', \"it's\", 'its', 'itself', ...])),\n",
      "                ('clf',\n",
      "                 OneVsRestClassifier(estimator=ExtraTreesClassifier(class_weight='balanced',\n",
      "                                                                    max_depth=20,\n",
      "                                                                    n_estimators=20)))])\n",
      "Treino: 0.000s\n",
      "testes:  0.338s\n",
      "f1_score:   0.491\n",
      "\n",
      "Accuracy: 0.06\n",
      "\n",
      "\n",
      "Precisao: 0.49\n",
      "\n",
      "Relatório de Classificação:\n",
      "                 precision    recall  f1-score   support\n",
      "\n",
      "         Action       0.53      0.56      0.54       377\n",
      "      Adventure       0.38      0.48      0.42       246\n",
      "      Animation       0.41      0.23      0.29        66\n",
      "         Comedy       0.54      0.60      0.57       541\n",
      "          Crime       0.46      0.47      0.46       241\n",
      "    Documentary       0.75      0.07      0.13        43\n",
      "          Drama       0.64      0.60      0.62       768\n",
      "         Family       0.31      0.35      0.33       136\n",
      "        Fantasy       0.34      0.39      0.36       128\n",
      "        Foreign       0.00      0.00      0.00        13\n",
      "        History       0.28      0.15      0.19        68\n",
      "         Horror       0.50      0.40      0.45       183\n",
      "          Music       0.33      0.13      0.19        54\n",
      "        Mystery       0.31      0.23      0.27       132\n",
      "        Romance       0.41      0.51      0.46       296\n",
      "Science Fiction       0.57      0.48      0.52       180\n",
      "       TV Movie       0.00      0.00      0.00         3\n",
      "       Thriller       0.51      0.54      0.52       443\n",
      "            War       0.31      0.11      0.17        44\n",
      "        Western       0.00      0.00      0.00        25\n",
      "\n",
      "      micro avg       0.49      0.49      0.49      3987\n",
      "      macro avg       0.38      0.32      0.32      3987\n",
      "   weighted avg       0.49      0.49      0.48      3987\n",
      "    samples avg       0.48      0.50      0.46      3987\n",
      "\n",
      "<built-in function id>\n",
      "['ExtraTreesClassifier-semtratamento-tmdb', 0.49078980570275044, 0.4937801472454938, 7.033348083496094e-05, 55555, '04/10/2020 21:29:14']\n",
      "<built-in function id>\n"
     ]
    }
   ],
   "source": [
    "\n",
    "clf  = grid_search_tune.best_estimator_\n",
    "classes=multilabel_binarizer.classes_\n",
    "print('_' * 120)\n",
    "print(\"Training: \")\n",
    "print(clf)\n",
    "t0 = time()  \n",
    "train_time = time() - t0\n",
    "print(\"Treino: %0.3fs\" % train_time)\n",
    "\n",
    "t0 = time()\n",
    "pred = clf.predict(test_x)\n",
    "test_time = time() - t0\n",
    "print(\"testes:  %0.3fs\" % test_time)\n",
    "\n",
    "score = f1_score(yval, pred, average=\"micro\")\n",
    "precision = precision_score(yval, pred, average='micro')\n",
    "print(\"f1_score:   %0.3f\" % score)\n",
    "\n",
    "print('\\nAccuracy: {:.2f}\\n'.format(accuracy_score(yval, pred)))\n",
    "print('\\nPrecisao: {:.2f}\\n'.format(precision)) \n",
    "\n",
    "print(\"Relatório de Classificação:\")\n",
    "print(classification_report(yval, pred,\n",
    "#                                             labels=[1, 2, 3,4,5,6,7,8,9,10,11,12,13,14,15,16,17,18,19]\n",
    "                                        target_names=classes))\n",
    "\n",
    "# print(\"confusion matrix:\") \n",
    "# print(confusion_matrix(yvalb2.argmax(axis=1), pred.argmax(axis=1)))\n",
    "\n",
    "\n",
    "\n",
    "\n",
    "clf_descr = 'ExtraTreesClassifier-semtratamento-tmdb'#str(clf).split('(')[0]\n",
    "\n",
    "test_time=55555    \n",
    "results.append([clf_descr, score,precision, train_time, test_time])  \n",
    "resultsLogisticRegression.append([clf_descr, score,precision, train_time, test_time])  \n",
    "salvar_dado([clf_descr, score,precision, train_time, test_time])\n"
   ]
  },
  {
   "cell_type": "code",
   "execution_count": 81,
   "metadata": {},
   "outputs": [
    {
     "data": {
      "text/html": [
       "<div>\n",
       "<style scoped>\n",
       "    .dataframe tbody tr th:only-of-type {\n",
       "        vertical-align: middle;\n",
       "    }\n",
       "\n",
       "    .dataframe tbody tr th {\n",
       "        vertical-align: top;\n",
       "    }\n",
       "\n",
       "    .dataframe thead th {\n",
       "        text-align: right;\n",
       "    }\n",
       "</style>\n",
       "<table border=\"1\" class=\"dataframe\">\n",
       "  <thead>\n",
       "    <tr style=\"text-align: right;\">\n",
       "      <th></th>\n",
       "      <th>overview</th>\n",
       "      <th>genres</th>\n",
       "      <th>title</th>\n",
       "      <th>keywords</th>\n",
       "    </tr>\n",
       "  </thead>\n",
       "  <tbody>\n",
       "    <tr>\n",
       "      <th>0</th>\n",
       "      <td>In the 22nd century, a paraplegic Marine is di...</td>\n",
       "      <td>[Action]</td>\n",
       "      <td>Avatar</td>\n",
       "      <td>[{\"id\": 1463, \"name\": \"culture clash\"}, {\"id\":...</td>\n",
       "    </tr>\n",
       "    <tr>\n",
       "      <th>1</th>\n",
       "      <td>In the 22nd century, a paraplegic Marine is di...</td>\n",
       "      <td>[Adventure]</td>\n",
       "      <td>Avatar</td>\n",
       "      <td>[{\"id\": 1463, \"name\": \"culture clash\"}, {\"id\":...</td>\n",
       "    </tr>\n",
       "    <tr>\n",
       "      <th>2</th>\n",
       "      <td>In the 22nd century, a paraplegic Marine is di...</td>\n",
       "      <td>[Fantasy]</td>\n",
       "      <td>Avatar</td>\n",
       "      <td>[{\"id\": 1463, \"name\": \"culture clash\"}, {\"id\":...</td>\n",
       "    </tr>\n",
       "  </tbody>\n",
       "</table>\n",
       "</div>"
      ],
      "text/plain": [
       "                                            overview       genres   title  \\\n",
       "0  In the 22nd century, a paraplegic Marine is di...     [Action]  Avatar   \n",
       "1  In the 22nd century, a paraplegic Marine is di...  [Adventure]  Avatar   \n",
       "2  In the 22nd century, a paraplegic Marine is di...    [Fantasy]  Avatar   \n",
       "\n",
       "                                            keywords  \n",
       "0  [{\"id\": 1463, \"name\": \"culture clash\"}, {\"id\":...  \n",
       "1  [{\"id\": 1463, \"name\": \"culture clash\"}, {\"id\":...  \n",
       "2  [{\"id\": 1463, \"name\": \"culture clash\"}, {\"id\":...  "
      ]
     },
     "execution_count": 81,
     "metadata": {},
     "output_type": "execute_result"
    }
   ],
   "source": [
    "filmes_balanceados2.head(3)"
   ]
  },
  {
   "cell_type": "markdown",
   "metadata": {},
   "source": [
    "# Tratamento Parcial"
   ]
  },
  {
   "cell_type": "code",
   "execution_count": 125,
   "metadata": {},
   "outputs": [
    {
     "data": {
      "text/plain": [
       "0"
      ]
     },
     "execution_count": 125,
     "metadata": {},
     "output_type": "execute_result"
    }
   ],
   "source": [
    "filmes_balanceados2.genres.isna().sum()"
   ]
  },
  {
   "cell_type": "code",
   "execution_count": 135,
   "metadata": {},
   "outputs": [
    {
     "data": {
      "text/html": [
       "<div>\n",
       "<style scoped>\n",
       "    .dataframe tbody tr th:only-of-type {\n",
       "        vertical-align: middle;\n",
       "    }\n",
       "\n",
       "    .dataframe tbody tr th {\n",
       "        vertical-align: top;\n",
       "    }\n",
       "\n",
       "    .dataframe thead th {\n",
       "        text-align: right;\n",
       "    }\n",
       "</style>\n",
       "<table border=\"1\" class=\"dataframe\">\n",
       "  <thead>\n",
       "    <tr style=\"text-align: right;\">\n",
       "      <th></th>\n",
       "      <th>overview</th>\n",
       "      <th>genres</th>\n",
       "      <th>title</th>\n",
       "      <th>keywords</th>\n",
       "    </tr>\n",
       "  </thead>\n",
       "  <tbody>\n",
       "    <tr>\n",
       "      <th>0</th>\n",
       "      <td>In the 22nd century, a paraplegic Marine is di...</td>\n",
       "      <td>[Action]</td>\n",
       "      <td>Avatar</td>\n",
       "      <td>[{\"id\": 1463, \"name\": \"culture clash\"}, {\"id\":...</td>\n",
       "    </tr>\n",
       "    <tr>\n",
       "      <th>1</th>\n",
       "      <td>In the 22nd century, a paraplegic Marine is di...</td>\n",
       "      <td>[Adventure]</td>\n",
       "      <td>Avatar</td>\n",
       "      <td>[{\"id\": 1463, \"name\": \"culture clash\"}, {\"id\":...</td>\n",
       "    </tr>\n",
       "    <tr>\n",
       "      <th>2</th>\n",
       "      <td>In the 22nd century, a paraplegic Marine is di...</td>\n",
       "      <td>[Fantasy]</td>\n",
       "      <td>Avatar</td>\n",
       "      <td>[{\"id\": 1463, \"name\": \"culture clash\"}, {\"id\":...</td>\n",
       "    </tr>\n",
       "    <tr>\n",
       "      <th>3</th>\n",
       "      <td>In the 22nd century, a paraplegic Marine is di...</td>\n",
       "      <td>[Science Fiction]</td>\n",
       "      <td>Avatar</td>\n",
       "      <td>[{\"id\": 1463, \"name\": \"culture clash\"}, {\"id\":...</td>\n",
       "    </tr>\n",
       "    <tr>\n",
       "      <th>4</th>\n",
       "      <td>Captain Barbossa, long believed to be dead, ha...</td>\n",
       "      <td>[Adventure]</td>\n",
       "      <td>Pirates of the Caribbean: At World's End</td>\n",
       "      <td>[{\"id\": 270, \"name\": \"ocean\"}, {\"id\": 726, \"na...</td>\n",
       "    </tr>\n",
       "    <tr>\n",
       "      <th>...</th>\n",
       "      <td>...</td>\n",
       "      <td>...</td>\n",
       "      <td>...</td>\n",
       "      <td>...</td>\n",
       "    </tr>\n",
       "    <tr>\n",
       "      <th>12155</th>\n",
       "      <td>\"Signed, Sealed, Delivered\" introduces a dedic...</td>\n",
       "      <td>[Comedy]</td>\n",
       "      <td>Signed, Sealed, Delivered</td>\n",
       "      <td>[{\"id\": 248, \"name\": \"date\"}, {\"id\": 699, \"nam...</td>\n",
       "    </tr>\n",
       "    <tr>\n",
       "      <th>12156</th>\n",
       "      <td>\"Signed, Sealed, Delivered\" introduces a dedic...</td>\n",
       "      <td>[Drama]</td>\n",
       "      <td>Signed, Sealed, Delivered</td>\n",
       "      <td>[{\"id\": 248, \"name\": \"date\"}, {\"id\": 699, \"nam...</td>\n",
       "    </tr>\n",
       "    <tr>\n",
       "      <th>12157</th>\n",
       "      <td>\"Signed, Sealed, Delivered\" introduces a dedic...</td>\n",
       "      <td>[Romance]</td>\n",
       "      <td>Signed, Sealed, Delivered</td>\n",
       "      <td>[{\"id\": 248, \"name\": \"date\"}, {\"id\": 699, \"nam...</td>\n",
       "    </tr>\n",
       "    <tr>\n",
       "      <th>12158</th>\n",
       "      <td>\"Signed, Sealed, Delivered\" introduces a dedic...</td>\n",
       "      <td>[TV Movie]</td>\n",
       "      <td>Signed, Sealed, Delivered</td>\n",
       "      <td>[{\"id\": 248, \"name\": \"date\"}, {\"id\": 699, \"nam...</td>\n",
       "    </tr>\n",
       "    <tr>\n",
       "      <th>12159</th>\n",
       "      <td>Ever since the second grade when he first saw ...</td>\n",
       "      <td>[Documentary]</td>\n",
       "      <td>My Date with Drew</td>\n",
       "      <td>[{\"id\": 1523, \"name\": \"obsession\"}, {\"id\": 224...</td>\n",
       "    </tr>\n",
       "  </tbody>\n",
       "</table>\n",
       "<p>12160 rows × 4 columns</p>\n",
       "</div>"
      ],
      "text/plain": [
       "                                                overview             genres  \\\n",
       "0      In the 22nd century, a paraplegic Marine is di...           [Action]   \n",
       "1      In the 22nd century, a paraplegic Marine is di...        [Adventure]   \n",
       "2      In the 22nd century, a paraplegic Marine is di...          [Fantasy]   \n",
       "3      In the 22nd century, a paraplegic Marine is di...  [Science Fiction]   \n",
       "4      Captain Barbossa, long believed to be dead, ha...        [Adventure]   \n",
       "...                                                  ...                ...   \n",
       "12155  \"Signed, Sealed, Delivered\" introduces a dedic...           [Comedy]   \n",
       "12156  \"Signed, Sealed, Delivered\" introduces a dedic...            [Drama]   \n",
       "12157  \"Signed, Sealed, Delivered\" introduces a dedic...          [Romance]   \n",
       "12158  \"Signed, Sealed, Delivered\" introduces a dedic...         [TV Movie]   \n",
       "12159  Ever since the second grade when he first saw ...      [Documentary]   \n",
       "\n",
       "                                          title  \\\n",
       "0                                        Avatar   \n",
       "1                                        Avatar   \n",
       "2                                        Avatar   \n",
       "3                                        Avatar   \n",
       "4      Pirates of the Caribbean: At World's End   \n",
       "...                                         ...   \n",
       "12155                 Signed, Sealed, Delivered   \n",
       "12156                 Signed, Sealed, Delivered   \n",
       "12157                 Signed, Sealed, Delivered   \n",
       "12158                 Signed, Sealed, Delivered   \n",
       "12159                         My Date with Drew   \n",
       "\n",
       "                                                keywords  \n",
       "0      [{\"id\": 1463, \"name\": \"culture clash\"}, {\"id\":...  \n",
       "1      [{\"id\": 1463, \"name\": \"culture clash\"}, {\"id\":...  \n",
       "2      [{\"id\": 1463, \"name\": \"culture clash\"}, {\"id\":...  \n",
       "3      [{\"id\": 1463, \"name\": \"culture clash\"}, {\"id\":...  \n",
       "4      [{\"id\": 270, \"name\": \"ocean\"}, {\"id\": 726, \"na...  \n",
       "...                                                  ...  \n",
       "12155  [{\"id\": 248, \"name\": \"date\"}, {\"id\": 699, \"nam...  \n",
       "12156  [{\"id\": 248, \"name\": \"date\"}, {\"id\": 699, \"nam...  \n",
       "12157  [{\"id\": 248, \"name\": \"date\"}, {\"id\": 699, \"nam...  \n",
       "12158  [{\"id\": 248, \"name\": \"date\"}, {\"id\": 699, \"nam...  \n",
       "12159  [{\"id\": 1523, \"name\": \"obsession\"}, {\"id\": 224...  \n",
       "\n",
       "[12160 rows x 4 columns]"
      ]
     },
     "execution_count": 135,
     "metadata": {},
     "output_type": "execute_result"
    }
   ],
   "source": [
    "test_df = filmes_balanceados2[filmes_balanceados2.astype(str)['genres'] != '[]']\n",
    "test_df"
   ]
  },
  {
   "cell_type": "code",
   "execution_count": 133,
   "metadata": {},
   "outputs": [
    {
     "data": {
      "text/plain": [
       "(12160, 4)"
      ]
     },
     "execution_count": 133,
     "metadata": {},
     "output_type": "execute_result"
    }
   ],
   "source": [
    "filmes_balanceados2.shape"
   ]
  },
  {
   "cell_type": "code",
   "execution_count": 131,
   "metadata": {},
   "outputs": [
    {
     "data": {
      "text/plain": [
       "12160"
      ]
     },
     "execution_count": 131,
     "metadata": {},
     "output_type": "execute_result"
    }
   ],
   "source": [
    "len(list2)"
   ]
  },
  {
   "cell_type": "code",
   "execution_count": 136,
   "metadata": {},
   "outputs": [],
   "source": [
    " \n",
    "multilabel_binarizer = MultiLabelBinarizer()\n",
    "# multilabel_binarizer.fit(title_df['genres'])\n",
    "\n",
    "# transform target variable\n",
    "y = multilabel_binarizer.fit_transform( filmes_balanceados2['genres']  )\n",
    "\n",
    "# split the data, leave 1/3 out for testing\n",
    "data_x = filmes_balanceados2[['overview']]\n",
    "data_y = y #title_df[[ 'genres' ]]\n",
    "# stratified_split = StratifiedShuffleSplit(n_splits=2, test_size=0.33)\n",
    "xtrain, xval, ytrain, yval = model_selection.train_test_split(data_x,\n",
    "                                                              data_y, test_size=0.33, random_state=512)\n",
    "# transform matrix of plots into lists to pass to a TfidfVectorizer\n",
    "train_x = [x[0].strip() for x in xtrain.values.astype(str).tolist()]\n",
    "test_x = [x[0].strip() for x in xval.values.tolist()] "
   ]
  },
  {
   "cell_type": "code",
   "execution_count": 111,
   "metadata": {},
   "outputs": [
    {
     "data": {
      "text/html": [
       "<div>\n",
       "<style scoped>\n",
       "    .dataframe tbody tr th:only-of-type {\n",
       "        vertical-align: middle;\n",
       "    }\n",
       "\n",
       "    .dataframe tbody tr th {\n",
       "        vertical-align: top;\n",
       "    }\n",
       "\n",
       "    .dataframe thead th {\n",
       "        text-align: right;\n",
       "    }\n",
       "</style>\n",
       "<table border=\"1\" class=\"dataframe\">\n",
       "  <thead>\n",
       "    <tr style=\"text-align: right;\">\n",
       "      <th></th>\n",
       "      <th>overview</th>\n",
       "    </tr>\n",
       "  </thead>\n",
       "  <tbody>\n",
       "    <tr>\n",
       "      <th>0</th>\n",
       "      <td>In the 22nd century, a paraplegic Marine is di...</td>\n",
       "    </tr>\n",
       "    <tr>\n",
       "      <th>1</th>\n",
       "      <td>In the 22nd century, a paraplegic Marine is di...</td>\n",
       "    </tr>\n",
       "    <tr>\n",
       "      <th>2</th>\n",
       "      <td>In the 22nd century, a paraplegic Marine is di...</td>\n",
       "    </tr>\n",
       "    <tr>\n",
       "      <th>3</th>\n",
       "      <td>In the 22nd century, a paraplegic Marine is di...</td>\n",
       "    </tr>\n",
       "    <tr>\n",
       "      <th>4</th>\n",
       "      <td>Captain Barbossa, long believed to be dead, ha...</td>\n",
       "    </tr>\n",
       "    <tr>\n",
       "      <th>...</th>\n",
       "      <td>...</td>\n",
       "    </tr>\n",
       "    <tr>\n",
       "      <th>12155</th>\n",
       "      <td>\"Signed, Sealed, Delivered\" introduces a dedic...</td>\n",
       "    </tr>\n",
       "    <tr>\n",
       "      <th>12156</th>\n",
       "      <td>\"Signed, Sealed, Delivered\" introduces a dedic...</td>\n",
       "    </tr>\n",
       "    <tr>\n",
       "      <th>12157</th>\n",
       "      <td>\"Signed, Sealed, Delivered\" introduces a dedic...</td>\n",
       "    </tr>\n",
       "    <tr>\n",
       "      <th>12158</th>\n",
       "      <td>\"Signed, Sealed, Delivered\" introduces a dedic...</td>\n",
       "    </tr>\n",
       "    <tr>\n",
       "      <th>12159</th>\n",
       "      <td>Ever since the second grade when he first saw ...</td>\n",
       "    </tr>\n",
       "  </tbody>\n",
       "</table>\n",
       "<p>12160 rows × 1 columns</p>\n",
       "</div>"
      ],
      "text/plain": [
       "                                                overview\n",
       "0      In the 22nd century, a paraplegic Marine is di...\n",
       "1      In the 22nd century, a paraplegic Marine is di...\n",
       "2      In the 22nd century, a paraplegic Marine is di...\n",
       "3      In the 22nd century, a paraplegic Marine is di...\n",
       "4      Captain Barbossa, long believed to be dead, ha...\n",
       "...                                                  ...\n",
       "12155  \"Signed, Sealed, Delivered\" introduces a dedic...\n",
       "12156  \"Signed, Sealed, Delivered\" introduces a dedic...\n",
       "12157  \"Signed, Sealed, Delivered\" introduces a dedic...\n",
       "12158  \"Signed, Sealed, Delivered\" introduces a dedic...\n",
       "12159  Ever since the second grade when he first saw ...\n",
       "\n",
       "[12160 rows x 1 columns]"
      ]
     },
     "execution_count": 111,
     "metadata": {},
     "output_type": "execute_result"
    }
   ],
   "source": [
    "data_x"
   ]
  },
  {
   "cell_type": "code",
   "execution_count": 106,
   "metadata": {},
   "outputs": [],
   "source": [
    "# filmes_balanceados2['genres'] = filmes_balanceados2['genres'].map(lambda x: x.split(','))\n",
    "\n",
    "# # split the data, leave 1/3 out for testing\n",
    "# data_x = title_df[['overview']]\n",
    "# data_y = title_df[[ 'genres' ]]\n",
    "# # stratified_split = StratifiedShuffleSplit(n_splits=2, test_size=0.33)\n",
    "# xtrain, xval, ytrain, yval = model_selection.train_test_split(data_x, data_y, test_size=0.33, random_state=512)\n",
    "# # transform matrix of plots into lists to pass to a TfidfVectorizer\n",
    "# train_x = [x[0].strip() for x in xtrain.values.tolist()]\n",
    "# test_x = [x[0].strip() for x in xval.values.tolist()] "
   ]
  },
  {
   "cell_type": "code",
   "execution_count": 107,
   "metadata": {},
   "outputs": [
    {
     "data": {
      "text/plain": [
       "array(['Action', 'Adventure', 'Animation', 'Comedy', 'Crime',\n",
       "       'Documentary', 'Drama', 'Family', 'Fantasy', 'Foreign', 'History',\n",
       "       'Horror', 'Music', 'Mystery', 'Romance', 'Science Fiction',\n",
       "       'TV Movie', 'Thriller', 'War', 'Western'], dtype=object)"
      ]
     },
     "execution_count": 107,
     "metadata": {},
     "output_type": "execute_result"
    }
   ],
   "source": [
    "multilabel_binarizer.classes_"
   ]
  },
  {
   "cell_type": "code",
   "execution_count": 137,
   "metadata": {},
   "outputs": [
    {
     "name": "stdout",
     "output_type": "stream",
     "text": [
      "Fitting 2 folds for each of 432 candidates, totalling 864 fits\n"
     ]
    },
    {
     "name": "stderr",
     "output_type": "stream",
     "text": [
      "[Parallel(n_jobs=2)]: Using backend LokyBackend with 2 concurrent workers.\n",
      "[Parallel(n_jobs=2)]: Done  28 tasks      | elapsed:   38.5s\n",
      "[Parallel(n_jobs=2)]: Done 124 tasks      | elapsed:  4.1min\n",
      "[Parallel(n_jobs=2)]: Done 284 tasks      | elapsed: 14.7min\n"
     ]
    },
    {
     "ename": "KeyboardInterrupt",
     "evalue": "",
     "output_type": "error",
     "traceback": [
      "\u001b[0;31m---------------------------------------------------------------------------\u001b[0m",
      "\u001b[0;31mKeyboardInterrupt\u001b[0m                         Traceback (most recent call last)",
      "\u001b[0;32m<ipython-input-137-2e9511cf59a2>\u001b[0m in \u001b[0;36m<module>\u001b[0;34m\u001b[0m\n\u001b[1;32m      1\u001b[0m grid_search_tune = GridSearchCV(\n\u001b[1;32m      2\u001b[0m pipeline, parameters, cv=2, n_jobs=2, verbose=3)\n\u001b[0;32m----> 3\u001b[0;31m \u001b[0mgrid_search_tune\u001b[0m\u001b[0;34m.\u001b[0m\u001b[0mfit\u001b[0m\u001b[0;34m(\u001b[0m\u001b[0mtrain_x\u001b[0m\u001b[0;34m,\u001b[0m \u001b[0mytrain\u001b[0m \u001b[0;34m)\u001b[0m\u001b[0;34m\u001b[0m\u001b[0;34m\u001b[0m\u001b[0m\n\u001b[0m\u001b[1;32m      4\u001b[0m \u001b[0mprint\u001b[0m\u001b[0;34m\u001b[0m\u001b[0;34m\u001b[0m\u001b[0m\n\u001b[1;32m      5\u001b[0m \u001b[0mprint\u001b[0m\u001b[0;34m(\u001b[0m\u001b[0;34m\"Best parameters set:\"\u001b[0m\u001b[0;34m)\u001b[0m\u001b[0;34m\u001b[0m\u001b[0;34m\u001b[0m\u001b[0m\n",
      "\u001b[0;32m~/anaconda3/lib/python3.8/site-packages/sklearn/utils/validation.py\u001b[0m in \u001b[0;36minner_f\u001b[0;34m(*args, **kwargs)\u001b[0m\n\u001b[1;32m     71\u001b[0m                           FutureWarning)\n\u001b[1;32m     72\u001b[0m         \u001b[0mkwargs\u001b[0m\u001b[0;34m.\u001b[0m\u001b[0mupdate\u001b[0m\u001b[0;34m(\u001b[0m\u001b[0;34m{\u001b[0m\u001b[0mk\u001b[0m\u001b[0;34m:\u001b[0m \u001b[0marg\u001b[0m \u001b[0;32mfor\u001b[0m \u001b[0mk\u001b[0m\u001b[0;34m,\u001b[0m \u001b[0marg\u001b[0m \u001b[0;32min\u001b[0m \u001b[0mzip\u001b[0m\u001b[0;34m(\u001b[0m\u001b[0msig\u001b[0m\u001b[0;34m.\u001b[0m\u001b[0mparameters\u001b[0m\u001b[0;34m,\u001b[0m \u001b[0margs\u001b[0m\u001b[0;34m)\u001b[0m\u001b[0;34m}\u001b[0m\u001b[0;34m)\u001b[0m\u001b[0;34m\u001b[0m\u001b[0;34m\u001b[0m\u001b[0m\n\u001b[0;32m---> 73\u001b[0;31m         \u001b[0;32mreturn\u001b[0m \u001b[0mf\u001b[0m\u001b[0;34m(\u001b[0m\u001b[0;34m**\u001b[0m\u001b[0mkwargs\u001b[0m\u001b[0;34m)\u001b[0m\u001b[0;34m\u001b[0m\u001b[0;34m\u001b[0m\u001b[0m\n\u001b[0m\u001b[1;32m     74\u001b[0m     \u001b[0;32mreturn\u001b[0m \u001b[0minner_f\u001b[0m\u001b[0;34m\u001b[0m\u001b[0;34m\u001b[0m\u001b[0m\n\u001b[1;32m     75\u001b[0m \u001b[0;34m\u001b[0m\u001b[0m\n",
      "\u001b[0;32m~/anaconda3/lib/python3.8/site-packages/sklearn/model_selection/_search.py\u001b[0m in \u001b[0;36mfit\u001b[0;34m(self, X, y, groups, **fit_params)\u001b[0m\n\u001b[1;32m    734\u001b[0m                 \u001b[0;32mreturn\u001b[0m \u001b[0mresults\u001b[0m\u001b[0;34m\u001b[0m\u001b[0;34m\u001b[0m\u001b[0m\n\u001b[1;32m    735\u001b[0m \u001b[0;34m\u001b[0m\u001b[0m\n\u001b[0;32m--> 736\u001b[0;31m             \u001b[0mself\u001b[0m\u001b[0;34m.\u001b[0m\u001b[0m_run_search\u001b[0m\u001b[0;34m(\u001b[0m\u001b[0mevaluate_candidates\u001b[0m\u001b[0;34m)\u001b[0m\u001b[0;34m\u001b[0m\u001b[0;34m\u001b[0m\u001b[0m\n\u001b[0m\u001b[1;32m    737\u001b[0m \u001b[0;34m\u001b[0m\u001b[0m\n\u001b[1;32m    738\u001b[0m         \u001b[0;31m# For multi-metric evaluation, store the best_index_, best_params_ and\u001b[0m\u001b[0;34m\u001b[0m\u001b[0;34m\u001b[0m\u001b[0;34m\u001b[0m\u001b[0m\n",
      "\u001b[0;32m~/anaconda3/lib/python3.8/site-packages/sklearn/model_selection/_search.py\u001b[0m in \u001b[0;36m_run_search\u001b[0;34m(self, evaluate_candidates)\u001b[0m\n\u001b[1;32m   1186\u001b[0m     \u001b[0;32mdef\u001b[0m \u001b[0m_run_search\u001b[0m\u001b[0;34m(\u001b[0m\u001b[0mself\u001b[0m\u001b[0;34m,\u001b[0m \u001b[0mevaluate_candidates\u001b[0m\u001b[0;34m)\u001b[0m\u001b[0;34m:\u001b[0m\u001b[0;34m\u001b[0m\u001b[0;34m\u001b[0m\u001b[0m\n\u001b[1;32m   1187\u001b[0m         \u001b[0;34m\"\"\"Search all candidates in param_grid\"\"\"\u001b[0m\u001b[0;34m\u001b[0m\u001b[0;34m\u001b[0m\u001b[0m\n\u001b[0;32m-> 1188\u001b[0;31m         \u001b[0mevaluate_candidates\u001b[0m\u001b[0;34m(\u001b[0m\u001b[0mParameterGrid\u001b[0m\u001b[0;34m(\u001b[0m\u001b[0mself\u001b[0m\u001b[0;34m.\u001b[0m\u001b[0mparam_grid\u001b[0m\u001b[0;34m)\u001b[0m\u001b[0;34m)\u001b[0m\u001b[0;34m\u001b[0m\u001b[0;34m\u001b[0m\u001b[0m\n\u001b[0m\u001b[1;32m   1189\u001b[0m \u001b[0;34m\u001b[0m\u001b[0m\n\u001b[1;32m   1190\u001b[0m \u001b[0;34m\u001b[0m\u001b[0m\n",
      "\u001b[0;32m~/anaconda3/lib/python3.8/site-packages/sklearn/model_selection/_search.py\u001b[0m in \u001b[0;36mevaluate_candidates\u001b[0;34m(candidate_params)\u001b[0m\n\u001b[1;32m    706\u001b[0m                               n_splits, n_candidates, n_candidates * n_splits))\n\u001b[1;32m    707\u001b[0m \u001b[0;34m\u001b[0m\u001b[0m\n\u001b[0;32m--> 708\u001b[0;31m                 out = parallel(delayed(_fit_and_score)(clone(base_estimator),\n\u001b[0m\u001b[1;32m    709\u001b[0m                                                        \u001b[0mX\u001b[0m\u001b[0;34m,\u001b[0m \u001b[0my\u001b[0m\u001b[0;34m,\u001b[0m\u001b[0;34m\u001b[0m\u001b[0;34m\u001b[0m\u001b[0m\n\u001b[1;32m    710\u001b[0m                                                        \u001b[0mtrain\u001b[0m\u001b[0;34m=\u001b[0m\u001b[0mtrain\u001b[0m\u001b[0;34m,\u001b[0m \u001b[0mtest\u001b[0m\u001b[0;34m=\u001b[0m\u001b[0mtest\u001b[0m\u001b[0;34m,\u001b[0m\u001b[0;34m\u001b[0m\u001b[0;34m\u001b[0m\u001b[0m\n",
      "\u001b[0;32m~/anaconda3/lib/python3.8/site-packages/joblib/parallel.py\u001b[0m in \u001b[0;36m__call__\u001b[0;34m(self, iterable)\u001b[0m\n\u001b[1;32m   1040\u001b[0m \u001b[0;34m\u001b[0m\u001b[0m\n\u001b[1;32m   1041\u001b[0m             \u001b[0;32mwith\u001b[0m \u001b[0mself\u001b[0m\u001b[0;34m.\u001b[0m\u001b[0m_backend\u001b[0m\u001b[0;34m.\u001b[0m\u001b[0mretrieval_context\u001b[0m\u001b[0;34m(\u001b[0m\u001b[0;34m)\u001b[0m\u001b[0;34m:\u001b[0m\u001b[0;34m\u001b[0m\u001b[0;34m\u001b[0m\u001b[0m\n\u001b[0;32m-> 1042\u001b[0;31m                 \u001b[0mself\u001b[0m\u001b[0;34m.\u001b[0m\u001b[0mretrieve\u001b[0m\u001b[0;34m(\u001b[0m\u001b[0;34m)\u001b[0m\u001b[0;34m\u001b[0m\u001b[0;34m\u001b[0m\u001b[0m\n\u001b[0m\u001b[1;32m   1043\u001b[0m             \u001b[0;31m# Make sure that we get a last message telling us we are done\u001b[0m\u001b[0;34m\u001b[0m\u001b[0;34m\u001b[0m\u001b[0;34m\u001b[0m\u001b[0m\n\u001b[1;32m   1044\u001b[0m             \u001b[0melapsed_time\u001b[0m \u001b[0;34m=\u001b[0m \u001b[0mtime\u001b[0m\u001b[0;34m.\u001b[0m\u001b[0mtime\u001b[0m\u001b[0;34m(\u001b[0m\u001b[0;34m)\u001b[0m \u001b[0;34m-\u001b[0m \u001b[0mself\u001b[0m\u001b[0;34m.\u001b[0m\u001b[0m_start_time\u001b[0m\u001b[0;34m\u001b[0m\u001b[0;34m\u001b[0m\u001b[0m\n",
      "\u001b[0;32m~/anaconda3/lib/python3.8/site-packages/joblib/parallel.py\u001b[0m in \u001b[0;36mretrieve\u001b[0;34m(self)\u001b[0m\n\u001b[1;32m    919\u001b[0m             \u001b[0;32mtry\u001b[0m\u001b[0;34m:\u001b[0m\u001b[0;34m\u001b[0m\u001b[0;34m\u001b[0m\u001b[0m\n\u001b[1;32m    920\u001b[0m                 \u001b[0;32mif\u001b[0m \u001b[0mgetattr\u001b[0m\u001b[0;34m(\u001b[0m\u001b[0mself\u001b[0m\u001b[0;34m.\u001b[0m\u001b[0m_backend\u001b[0m\u001b[0;34m,\u001b[0m \u001b[0;34m'supports_timeout'\u001b[0m\u001b[0;34m,\u001b[0m \u001b[0;32mFalse\u001b[0m\u001b[0;34m)\u001b[0m\u001b[0;34m:\u001b[0m\u001b[0;34m\u001b[0m\u001b[0;34m\u001b[0m\u001b[0m\n\u001b[0;32m--> 921\u001b[0;31m                     \u001b[0mself\u001b[0m\u001b[0;34m.\u001b[0m\u001b[0m_output\u001b[0m\u001b[0;34m.\u001b[0m\u001b[0mextend\u001b[0m\u001b[0;34m(\u001b[0m\u001b[0mjob\u001b[0m\u001b[0;34m.\u001b[0m\u001b[0mget\u001b[0m\u001b[0;34m(\u001b[0m\u001b[0mtimeout\u001b[0m\u001b[0;34m=\u001b[0m\u001b[0mself\u001b[0m\u001b[0;34m.\u001b[0m\u001b[0mtimeout\u001b[0m\u001b[0;34m)\u001b[0m\u001b[0;34m)\u001b[0m\u001b[0;34m\u001b[0m\u001b[0;34m\u001b[0m\u001b[0m\n\u001b[0m\u001b[1;32m    922\u001b[0m                 \u001b[0;32melse\u001b[0m\u001b[0;34m:\u001b[0m\u001b[0;34m\u001b[0m\u001b[0;34m\u001b[0m\u001b[0m\n\u001b[1;32m    923\u001b[0m                     \u001b[0mself\u001b[0m\u001b[0;34m.\u001b[0m\u001b[0m_output\u001b[0m\u001b[0;34m.\u001b[0m\u001b[0mextend\u001b[0m\u001b[0;34m(\u001b[0m\u001b[0mjob\u001b[0m\u001b[0;34m.\u001b[0m\u001b[0mget\u001b[0m\u001b[0;34m(\u001b[0m\u001b[0;34m)\u001b[0m\u001b[0;34m)\u001b[0m\u001b[0;34m\u001b[0m\u001b[0;34m\u001b[0m\u001b[0m\n",
      "\u001b[0;32m~/anaconda3/lib/python3.8/site-packages/joblib/_parallel_backends.py\u001b[0m in \u001b[0;36mwrap_future_result\u001b[0;34m(future, timeout)\u001b[0m\n\u001b[1;32m    540\u001b[0m         AsyncResults.get from multiprocessing.\"\"\"\n\u001b[1;32m    541\u001b[0m         \u001b[0;32mtry\u001b[0m\u001b[0;34m:\u001b[0m\u001b[0;34m\u001b[0m\u001b[0;34m\u001b[0m\u001b[0m\n\u001b[0;32m--> 542\u001b[0;31m             \u001b[0;32mreturn\u001b[0m \u001b[0mfuture\u001b[0m\u001b[0;34m.\u001b[0m\u001b[0mresult\u001b[0m\u001b[0;34m(\u001b[0m\u001b[0mtimeout\u001b[0m\u001b[0;34m=\u001b[0m\u001b[0mtimeout\u001b[0m\u001b[0;34m)\u001b[0m\u001b[0;34m\u001b[0m\u001b[0;34m\u001b[0m\u001b[0m\n\u001b[0m\u001b[1;32m    543\u001b[0m         \u001b[0;32mexcept\u001b[0m \u001b[0mCfTimeoutError\u001b[0m \u001b[0;32mas\u001b[0m \u001b[0me\u001b[0m\u001b[0;34m:\u001b[0m\u001b[0;34m\u001b[0m\u001b[0;34m\u001b[0m\u001b[0m\n\u001b[1;32m    544\u001b[0m             \u001b[0;32mraise\u001b[0m \u001b[0mTimeoutError\u001b[0m \u001b[0;32mfrom\u001b[0m \u001b[0me\u001b[0m\u001b[0;34m\u001b[0m\u001b[0;34m\u001b[0m\u001b[0m\n",
      "\u001b[0;32m~/anaconda3/lib/python3.8/concurrent/futures/_base.py\u001b[0m in \u001b[0;36mresult\u001b[0;34m(self, timeout)\u001b[0m\n\u001b[1;32m    432\u001b[0m                 \u001b[0;32mreturn\u001b[0m \u001b[0mself\u001b[0m\u001b[0;34m.\u001b[0m\u001b[0m__get_result\u001b[0m\u001b[0;34m(\u001b[0m\u001b[0;34m)\u001b[0m\u001b[0;34m\u001b[0m\u001b[0;34m\u001b[0m\u001b[0m\n\u001b[1;32m    433\u001b[0m \u001b[0;34m\u001b[0m\u001b[0m\n\u001b[0;32m--> 434\u001b[0;31m             \u001b[0mself\u001b[0m\u001b[0;34m.\u001b[0m\u001b[0m_condition\u001b[0m\u001b[0;34m.\u001b[0m\u001b[0mwait\u001b[0m\u001b[0;34m(\u001b[0m\u001b[0mtimeout\u001b[0m\u001b[0;34m)\u001b[0m\u001b[0;34m\u001b[0m\u001b[0;34m\u001b[0m\u001b[0m\n\u001b[0m\u001b[1;32m    435\u001b[0m \u001b[0;34m\u001b[0m\u001b[0m\n\u001b[1;32m    436\u001b[0m             \u001b[0;32mif\u001b[0m \u001b[0mself\u001b[0m\u001b[0;34m.\u001b[0m\u001b[0m_state\u001b[0m \u001b[0;32min\u001b[0m \u001b[0;34m[\u001b[0m\u001b[0mCANCELLED\u001b[0m\u001b[0;34m,\u001b[0m \u001b[0mCANCELLED_AND_NOTIFIED\u001b[0m\u001b[0;34m]\u001b[0m\u001b[0;34m:\u001b[0m\u001b[0;34m\u001b[0m\u001b[0;34m\u001b[0m\u001b[0m\n",
      "\u001b[0;32m~/anaconda3/lib/python3.8/threading.py\u001b[0m in \u001b[0;36mwait\u001b[0;34m(self, timeout)\u001b[0m\n\u001b[1;32m    300\u001b[0m         \u001b[0;32mtry\u001b[0m\u001b[0;34m:\u001b[0m    \u001b[0;31m# restore state no matter what (e.g., KeyboardInterrupt)\u001b[0m\u001b[0;34m\u001b[0m\u001b[0;34m\u001b[0m\u001b[0m\n\u001b[1;32m    301\u001b[0m             \u001b[0;32mif\u001b[0m \u001b[0mtimeout\u001b[0m \u001b[0;32mis\u001b[0m \u001b[0;32mNone\u001b[0m\u001b[0;34m:\u001b[0m\u001b[0;34m\u001b[0m\u001b[0;34m\u001b[0m\u001b[0m\n\u001b[0;32m--> 302\u001b[0;31m                 \u001b[0mwaiter\u001b[0m\u001b[0;34m.\u001b[0m\u001b[0macquire\u001b[0m\u001b[0;34m(\u001b[0m\u001b[0;34m)\u001b[0m\u001b[0;34m\u001b[0m\u001b[0;34m\u001b[0m\u001b[0m\n\u001b[0m\u001b[1;32m    303\u001b[0m                 \u001b[0mgotit\u001b[0m \u001b[0;34m=\u001b[0m \u001b[0;32mTrue\u001b[0m\u001b[0;34m\u001b[0m\u001b[0;34m\u001b[0m\u001b[0m\n\u001b[1;32m    304\u001b[0m             \u001b[0;32melse\u001b[0m\u001b[0;34m:\u001b[0m\u001b[0;34m\u001b[0m\u001b[0;34m\u001b[0m\u001b[0m\n",
      "\u001b[0;31mKeyboardInterrupt\u001b[0m: "
     ]
    }
   ],
   "source": [
    "\n",
    "grid_search_tune = GridSearchCV(\n",
    "pipeline, parameters, cv=2, n_jobs=2, verbose=3)\n",
    "grid_search_tune.fit(train_x, ytrain )  \n",
    "print\n",
    "print(\"Best parameters set:\")\n",
    "print (grid_search_tune.best_estimator_.steps)"
   ]
  },
  {
   "cell_type": "code",
   "execution_count": null,
   "metadata": {},
   "outputs": [],
   "source": [
    "\n",
    "clf  = grid_search_tune.best_estimator_\n",
    "classes=multilabel_binarizer.classes_\n",
    "print('_' * 120)\n",
    "print(\"Training: \")\n",
    "print(clf)\n",
    "t0 = time()  \n",
    "train_time = time() - t0\n",
    "print(\"Treino: %0.3fs\" % train_time)\n",
    "\n",
    "t0 = time()\n",
    "pred = clf.predict(test_x)\n",
    "test_time = time() - t0\n",
    "print(\"testes:  %0.3fs\" % test_time)\n",
    "\n",
    "score = f1_score(yval, pred, average=\"micro\")\n",
    "precision = precision_score(yval, pred, average='micro')\n",
    "print(\"f1_score:   %0.3f\" % score)\n",
    "\n",
    "print('\\nAccuracy: {:.2f}\\n'.format(accuracy_score(yval, pred)))\n",
    "print('\\nPrecisao: {:.2f}\\n'.format(precision)) \n",
    "\n",
    "print(\"Relatório de Classificação:\")\n",
    "print(classification_report(yval, pred,\n",
    "#                                             labels=[1, 2, 3,4,5,6,7,8,9,10,11,12,13,14,15,16,17,18,19]\n",
    "                                        target_names=classes))\n",
    "\n",
    "# print(\"confusion matrix:\") \n",
    "# print(confusion_matrix(yvalb2.argmax(axis=1), pred.argmax(axis=1)))\n",
    "\n",
    "\n",
    "\n",
    "\n",
    "clf_descr = 'ExtraTreesClassifier-tratamentoParcial-tmdb'#str(clf).split('(')[0]\n",
    "\n",
    "test_time=55555    \n",
    "results.append([clf_descr, score,precision, train_time, test_time])  \n",
    "resultsLogisticRegression.append([clf_descr, score,precision, train_time, test_time])  \n",
    "salvar_dado([clf_descr, score,precision, train_time, test_time])\n"
   ]
  },
  {
   "cell_type": "markdown",
   "metadata": {},
   "source": [
    "# Tratamento UPsampled"
   ]
  },
  {
   "cell_type": "code",
   "execution_count": null,
   "metadata": {},
   "outputs": [],
   "source": [
    "# filmes_balanceados2['genres'] = filmes_balanceados2['genres'].map(lambda x: x.split(','))\n",
    "\n",
    "multilabel_binarizer = MultiLabelBinarizer()\n",
    "# multilabel_binarizer.fit(title_df['genres'])\n",
    "\n",
    "# transform target variable\n",
    "y = multilabel_binarizer.fit_transform( df_upsampled['genres']  )\n",
    "\n",
    "# split the data, leave 1/3 out for testing\n",
    "data_x = df_upsampled[['overview']]\n",
    "data_y = y #title_df[[ 'genres' ]]\n",
    "# stratified_split = StratifiedShuffleSplit(n_splits=2, test_size=0.33)\n",
    "xtrain, xval, ytrain, yval = model_selection.train_test_split(data_x, data_y, test_size=0.33, random_state=512)\n",
    "# transform matrix of plots into lists to pass to a TfidfVectorizer\n",
    "train_x = [x[0].strip() for x in xtrain.values.tolist()]\n",
    "test_x = [x[0].strip() for x in xval.values.tolist()] "
   ]
  },
  {
   "cell_type": "code",
   "execution_count": null,
   "metadata": {},
   "outputs": [],
   "source": [
    "multilabel_binarizer.classes_"
   ]
  },
  {
   "cell_type": "code",
   "execution_count": null,
   "metadata": {},
   "outputs": [],
   "source": [
    "\n",
    "grid_search_tune = GridSearchCV(\n",
    "pipeline, parameters, cv=2, n_jobs=2, verbose=3)\n",
    "grid_search_tune.fit(train_x, ytrain )  \n",
    "print\n",
    "print(\"Best parameters set:\")\n",
    "print (grid_search_tune.best_estimator_.steps)"
   ]
  },
  {
   "cell_type": "code",
   "execution_count": null,
   "metadata": {},
   "outputs": [],
   "source": [
    "\n",
    "clf  = grid_search_tune.best_estimator_\n",
    "classes=multilabel_binarizer.classes_\n",
    "print('_' * 120)\n",
    "print(\"Training: \")\n",
    "print(clf)\n",
    "t0 = time()  \n",
    "train_time = time() - t0\n",
    "print(\"Treino: %0.3fs\" % train_time)\n",
    "\n",
    "t0 = time()\n",
    "pred = clf.predict(test_x)\n",
    "test_time = time() - t0\n",
    "print(\"testes:  %0.3fs\" % test_time)\n",
    "\n",
    "score = f1_score(yval, pred, average=\"micro\")\n",
    "precision = precision_score(yval, pred, average='micro')\n",
    "print(\"f1_score:   %0.3f\" % score)\n",
    "\n",
    "print('\\nAccuracy: {:.2f}\\n'.format(accuracy_score(yval, pred)))\n",
    "print('\\nPrecisao: {:.2f}\\n'.format(precision)) \n",
    "\n",
    "print(\"Relatório de Classificação:\")\n",
    "print(classification_report(yval, pred,\n",
    "#                                             labels=[1, 2, 3,4,5,6,7,8,9,10,11,12,13,14,15,16,17,18,19]\n",
    "                                        target_names=classes))\n",
    "\n",
    "# print(\"confusion matrix:\") \n",
    "# print(confusion_matrix(yvalb2.argmax(axis=1), pred.argmax(axis=1)))\n",
    "\n",
    "\n",
    "\n",
    "\n",
    "clf_descr = 'ExtraTreesClassifier-upsampled-tmdb'#str(clf).split('(')[0]\n",
    "\n",
    "test_time=55555    \n",
    "results.append([clf_descr, score,precision, train_time, test_time])  \n",
    "resultsLogisticRegression.append([clf_descr, score,precision, train_time, test_time])  \n",
    "salvar_dado([clf_descr, score,precision, train_time, test_time])\n"
   ]
  },
  {
   "cell_type": "code",
   "execution_count": null,
   "metadata": {},
   "outputs": [],
   "source": []
  },
  {
   "cell_type": "code",
   "execution_count": null,
   "metadata": {},
   "outputs": [],
   "source": []
  },
  {
   "cell_type": "code",
   "execution_count": null,
   "metadata": {},
   "outputs": [],
   "source": []
  },
  {
   "cell_type": "markdown",
   "metadata": {},
   "source": [
    "# Fazendo nova predição com upsample"
   ]
  },
  {
   "cell_type": "code",
   "execution_count": null,
   "metadata": {},
   "outputs": [],
   "source": [
    "tmdb = pd.read_csv('../../../dados/tmdb_5000_movies.csv')"
   ]
  },
  {
   "cell_type": "code",
   "execution_count": null,
   "metadata": {},
   "outputs": [],
   "source": [
    "tmdb['genres'] = tmdb['genres'].fillna('[]')\\\n",
    ".apply(literal_eval).apply(lambda x: [i['name'] for i in x] if isinstance(x, list) else [])\n",
    "tmdb.head(3)"
   ]
  },
  {
   "cell_type": "code",
   "execution_count": null,
   "metadata": {},
   "outputs": [],
   "source": [
    "tmdb['overview'].fillna('', inplace=True)\n",
    "tmdb.isnull().sum()"
   ]
  },
  {
   "cell_type": "code",
   "execution_count": null,
   "metadata": {},
   "outputs": [],
   "source": [
    "overview_df = tmdb[[\"overview\",\"genres\"]]\n",
    "filmes_balanceados = overview_df.copy(deep=True)"
   ]
  },
  {
   "cell_type": "code",
   "execution_count": null,
   "metadata": {},
   "outputs": [],
   "source": [
    "lst_col = 'genres'\n",
    "\n",
    "filmes_balanceados2 = pd.DataFrame({\n",
    "      col:np.repeat(filmes_balanceados[col].values, filmes_balanceados[lst_col].str.len())\n",
    "      for col in filmes_balanceados.columns.drop(lst_col)}\n",
    "    ).assign(**{\n",
    "    lst_col:np.concatenate(filmes_balanceados[lst_col].values)})[filmes_balanceados.columns]"
   ]
  },
  {
   "cell_type": "code",
   "execution_count": null,
   "metadata": {},
   "outputs": [],
   "source": [
    "filmes_balanceados2['genres'].value_counts()"
   ]
  },
  {
   "cell_type": "code",
   "execution_count": null,
   "metadata": {},
   "outputs": [],
   "source": [
    "df_Drama = filmes_balanceados2[filmes_balanceados2['genres']=='Drama']\n",
    "df_Comedy  = filmes_balanceados2[filmes_balanceados2['genres']=='Comedy']\n",
    "df_Thriller   = filmes_balanceados2[filmes_balanceados2['genres']=='Thriller']\n",
    "df_Action  = filmes_balanceados2[filmes_balanceados2['genres']=='Action']\n",
    "df_Romance   = filmes_balanceados2[filmes_balanceados2['genres']=='Romance']\n",
    "df_Adventure = filmes_balanceados2[filmes_balanceados2['genres']=='Adventure']\n",
    "df_Crime    = filmes_balanceados2[filmes_balanceados2['genres']=='Crime']\n",
    "df_Science_Fiction = filmes_balanceados2[filmes_balanceados2['genres']=='Science Fiction']\n",
    "df_Horror     = filmes_balanceados2[filmes_balanceados2['genres']=='Horror']\n",
    "df_Family           = filmes_balanceados2[filmes_balanceados2['genres']=='Family']\n",
    "df_Fantasy    = filmes_balanceados2[filmes_balanceados2['genres']=='Fantasy']\n",
    "df_Mystery      = filmes_balanceados2[filmes_balanceados2['genres']=='Mystery']\n",
    "df_Animation   = filmes_balanceados2[filmes_balanceados2['genres']=='Animation']\n",
    "df_History       = filmes_balanceados2[filmes_balanceados2['genres']=='History']\n",
    "df_Music         = filmes_balanceados2[filmes_balanceados2['genres']=='Music']\n",
    "df_War        = filmes_balanceados2[filmes_balanceados2['genres']=='War']\n",
    "df_Documentary  = filmes_balanceados2[filmes_balanceados2['genres']=='Documentary']\n",
    "df_Western     = filmes_balanceados2[filmes_balanceados2['genres']=='Western']\n",
    "df_Foreign     = filmes_balanceados2[filmes_balanceados2['genres']=='Foreign']\n",
    "df_TV_Movie  = filmes_balanceados2[filmes_balanceados2['genres']=='TV Movie']"
   ]
  },
  {
   "cell_type": "code",
   "execution_count": null,
   "metadata": {},
   "outputs": [],
   "source": [
    "from sklearn.utils import resample\n",
    "df_Comedy  = resample(df_Comedy,\n",
    "                      replace=True,\n",
    "                      n_samples=2297,\n",
    "                      random_state=123)\n",
    "df_Thriller   = resample(df_Thriller,\n",
    "                         replace=True,\n",
    "                         n_samples=2297,\n",
    "                         random_state=123)\n",
    "df_Action  = resample(df_Action,\n",
    "                      replace=True,\n",
    "                      n_samples=2297,\n",
    "                      random_state=123)\n",
    "df_Romance   = resample(df_Romance,\n",
    "                        replace=True,\n",
    "                        n_samples=2297,\n",
    "                        random_state=123)\n",
    "df_Adventure= resample(df_Adventure, \n",
    "                       replace=True,  \n",
    "                       n_samples=2297,    \n",
    "                       random_state=123)\n",
    "df_Crime   = resample(df_Crime,\n",
    "                      replace=True,     \n",
    "                      n_samples=2297,    \n",
    "                      random_state=123)\n",
    "df_Science_Fiction = resample(df_Science_Fiction,\n",
    "                              replace=True, \n",
    "                              n_samples=2297,\n",
    "                              random_state=123)\n",
    "df_Horror     = resample(df_Horror, \n",
    "                         replace=True,     \n",
    "                         n_samples=2297,    \n",
    "                         random_state=123)\n",
    "df_Family          = resample(df_Family, \n",
    "                              replace=True,\n",
    "                              n_samples=2297,  \n",
    "                              random_state=123)\n",
    "df_Fantasy   = resample(df_Fantasy, \n",
    "                                 replace=True,     \n",
    "                                 n_samples=2297,    \n",
    "                                 random_state=123)\n",
    "df_Mystery      = resample(df_Mystery,\n",
    "                           replace=True,     \n",
    "                           n_samples=2297,   \n",
    "                           random_state=123)\n",
    "df_Animation  = resample(df_Animation, \n",
    "                         replace=True, \n",
    "                         n_samples=2297, \n",
    "                         random_state=123)\n",
    "df_History    = resample(df_History, \n",
    "                         replace=True, \n",
    "                         n_samples=2297,  \n",
    "                         random_state=123)\n",
    "df_Music      = resample(df_Music,\n",
    "                         replace=True,  \n",
    "                         n_samples=2297, \n",
    "                         random_state=123)\n",
    "df_War       = resample(df_War, \n",
    "                        replace=True,   \n",
    "                        n_samples=2297,    \n",
    "                        random_state=123)\n",
    "df_Documentary= resample(df_Documentary, \n",
    "                         replace=True,\n",
    "                         n_samples=2297,    \n",
    "                         random_state=123)\n",
    "df_Western    = resample(df_Western, \n",
    "                         replace=True,     \n",
    "                         n_samples=2297,    \n",
    "                         random_state=123)\n",
    "df_Foreign   = resample(df_Foreign, \n",
    "                        replace=True,\n",
    "                        n_samples=2297,  \n",
    "                        random_state=123)\n",
    "df_TV_Movie = resample(df_TV_Movie, \n",
    "                       replace=True, \n",
    "                       n_samples=2297,\n",
    "                       random_state=123)"
   ]
  },
  {
   "cell_type": "code",
   "execution_count": null,
   "metadata": {},
   "outputs": [],
   "source": [
    "df_upsampled = pd.concat([df_Drama, df_Comedy], axis=0 ) \n",
    "df_upsampled = pd.concat([df_upsampled, df_Adventure], axis=0 )\n",
    "\n",
    "\n",
    "df_upsampled = pd.concat([df_upsampled, df_Thriller ]\n",
    "                         )\n",
    "df_upsampled = pd.concat([df_upsampled, df_Action ]\n",
    "                         )\n",
    "df_upsampled = pd.concat([df_upsampled, df_Romance ]\n",
    "                         )\n",
    "df_upsampled = pd.concat([df_upsampled, df_Crime ]\n",
    "                         )\n",
    "df_upsampled = pd.concat([df_upsampled, df_Science_Fiction ]\n",
    "                         )\n",
    "df_upsampled = pd.concat([df_upsampled, df_Horror ]\n",
    "                         )\n",
    "df_upsampled = pd.concat([df_upsampled, df_Family ]\n",
    "                         )\n",
    "df_upsampled = pd.concat([df_upsampled, df_Fantasy ]\n",
    "                         )\n",
    "df_upsampled = pd.concat([df_upsampled, df_Mystery ]\n",
    "                         )\n",
    "df_upsampled = pd.concat([df_upsampled, df_Animation ]\n",
    "                         )\n",
    "df_upsampled = pd.concat([df_upsampled, df_History ]\n",
    "                         )\n",
    "df_upsampled = pd.concat([df_upsampled, df_Music ]\n",
    "                         )\n",
    "df_upsampled = pd.concat([df_upsampled, df_War ]\n",
    "                         )\n",
    "df_upsampled = pd.concat([df_upsampled, df_Documentary ]\n",
    "                         )\n",
    "df_upsampled = pd.concat([df_upsampled, df_Western ]\n",
    "                         )\n",
    "df_upsampled = pd.concat([df_upsampled, df_Foreign ]\n",
    "                         )\n",
    "df_upsampled = pd.concat([df_upsampled, df_TV_Movie ]\n",
    "                         )"
   ]
  },
  {
   "cell_type": "code",
   "execution_count": null,
   "metadata": {},
   "outputs": [],
   "source": [
    "df_upsampled.reset_index()"
   ]
  },
  {
   "cell_type": "code",
   "execution_count": null,
   "metadata": {},
   "outputs": [],
   "source": [
    "df_upsampled['genres'].value_counts()"
   ]
  },
  {
   "cell_type": "code",
   "execution_count": null,
   "metadata": {},
   "outputs": [],
   "source": [
    "df_upsampled['genres'].unique()"
   ]
  },
  {
   "cell_type": "code",
   "execution_count": null,
   "metadata": {},
   "outputs": [],
   "source": [
    "from sklearn.preprocessing import MultiLabelBinarizer\n",
    "multilabel_binarizer3 = MultiLabelBinarizer()\n",
    "df_upsampled['genres'] = df_upsampled['genres'].map(lambda x: x.split(','))\n",
    "y =multilabel_binarizer3.fit_transform( df_upsampled['genres'] )\n",
    "tfidf_vectorizer3 = TfidfVectorizer(max_df=0.7, max_features=25000)\n",
    "# from sklearn import model_selection\n",
    "xtrain, xval, ytrain, yval = model_selection.train_test_split(df_upsampled['overview'].values, y, test_size=0.2, random_state=512)\n",
    "xtrain_tfidf = tfidf_vectorizer3.fit_transform(xtrain)\n",
    "xval_tfidf = tfidf_vectorizer3.transform(xval)\n",
    "train_x = xtrain_tfidf\n",
    "test_x = xval_tfidf"
   ]
  },
  {
   "cell_type": "code",
   "execution_count": null,
   "metadata": {},
   "outputs": [],
   "source": [
    "multilabel_binarizer3.classes_"
   ]
  },
  {
   "cell_type": "code",
   "execution_count": null,
   "metadata": {},
   "outputs": [],
   "source": [
    "  \n",
    "from sklearn.ensemble import ExtraTreesClassifier\n",
    "nltk.download('stopwords') \n",
    "words = stopwords.words(\"english\") \n",
    "pipeline = Pipeline([\n",
    "('tfidf', TfidfVectorizer(stop_words=words)),\n",
    "('clf',  OneVsRestClassifier(ExtraTreesClassifier()) ),\n",
    "    \n",
    "])\n",
    "parameters = {  \n",
    "    'tfidf__ngram_range': [(1, 1), (1, 2), (1, 3)],\n",
    "    'tfidf__max_features': [100, 1000,5000,10000,15000],\n",
    "    \"clf__estimator__n_estimators\": [10,15,20],\n",
    "    \"clf__estimator__class_weight\": ['balanced','balanced_subsample', None],\n",
    "    'clf__estimator__max_depth':[8,12,15,20],\n",
    "} \n",
    "# rfc = OneVsRestClassifier(ExtraTreesClassifier())\n",
    "# parameters = {'n_estimators':[10,15,20],  \n",
    "#              \"class_weight\": ['balanced','balanced_subsample', None],\n",
    "#              'max_depth':[3,5,8]}\n",
    "    \n",
    "# clf = GridSearchCV(svc, parameters, cv=2, n_jobs=2, verbose=3) \n",
    " "
   ]
  },
  {
   "cell_type": "code",
   "execution_count": null,
   "metadata": {},
   "outputs": [],
   "source": [
    "multilabel_binarizer3.classes_"
   ]
  },
  {
   "cell_type": "code",
   "execution_count": null,
   "metadata": {},
   "outputs": [],
   "source": [
    "train_x.shape"
   ]
  },
  {
   "cell_type": "code",
   "execution_count": null,
   "metadata": {},
   "outputs": [],
   "source": [
    "ytrain.shape"
   ]
  },
  {
   "cell_type": "code",
   "execution_count": null,
   "metadata": {},
   "outputs": [],
   "source": [
    "\n",
    "\n",
    "classes=multilabel_binarizer3.classes_\n",
    "print('_' * 120)\n",
    "\n",
    "\n",
    "t0 = time()  \n",
    "##############\n",
    "print(\"Training: \")\n",
    "# grid_search_tune = GridSearchCV(\n",
    "# rfc, parameters, cv=2, n_jobs=2, verbose=3)\n",
    "grid_search_tune = GridSearchCV(\n",
    "pipeline, parameters, cv=2, n_jobs=2, verbose=3)\n",
    "\n",
    "grid_search_tune.fit(train_x, ytrain )  \n",
    "\n",
    "clf  = grid_search_tune.best_estimator_\n",
    "print(clf)\n",
    "print \n",
    "############################\n",
    "train_time = time() - t0\n",
    "print(\"Treino: %0.3fs\" % train_time)\n",
    "\n",
    "t0 = time()\n",
    "pred = clf.predict(test_x)\n",
    "test_time = time() - t0\n",
    "print(\"testes:  %0.3fs\" % test_time)\n",
    "\n",
    "score = f1_score(yval, pred, average=\"micro\")\n",
    "precision = precision_score(yval, pred, average='micro') \n",
    "print(\"f1_score:   %0.3f\" % score)\n",
    "\n",
    "print('\\nAccuracy: {:.2f}\\n'.format(accuracy_score(yval, pred)))\n",
    "print('\\nPrecisao: {:.2f}\\n'.format(precision)) \n",
    "\n",
    "\n",
    "print('Micro Precision: {:.2f}'.format(precision_score(yval, pred, average='micro')))\n",
    "print('Micro Recall: {:.2f}'.format(recall_score(yval, pred, average='micro')))\n",
    "print('Micro F1-score: {:.2f}\\n'.format(f1_score(yval, pred, average='micro')))\n",
    "\n",
    "print('Macro Precision: {:.2f}'.format(precision_score(yval, pred, average='macro')))\n",
    "print('Macro Recall: {:.2f}'.format(recall_score(yval, pred, average='macro')))\n",
    "print('Macro F1-score: {:.2f}\\n'.format(f1_score(yval, pred, average='macro')))\n",
    "\n",
    "print('Weighted Precision: {:.2f}'.format(precision_score(yval, pred, average='weighted')))\n",
    "print('Weighted Recall: {:.2f}'.format(recall_score(yval, pred, average='weighted')))\n",
    "print('Weighted F1-score: {:.2f}'.format(f1_score(yval, pred, average='weighted')))\n",
    "\n",
    "print(\"Relatório de Classificação:\")\n",
    "print(classification_report(yval, pred,\n",
    "#                                             labels=[1, 2, 3,4,5,6,7,8,9,10,11,12,13,14,15,16,17,18,19]\n",
    "                                        target_names=classes))\n",
    "\n",
    "# print(\"confusion matrix:\") \n",
    "# print(confusion_matrix(yvalb2.argmax(axis=1), pred.argmax(axis=1)))\n",
    "\n",
    "\n",
    "if hasattr(clf, 'coef_'):\n",
    "    print(\"dimensionality: %d\" % clf.coef_.shape[1])\n",
    "    print(\"density: %f\" % density(clf.coef_))\n",
    "\n",
    "clf_descr = 'ExtraTreesClassifier-upsampled-tf-idf-tmdb'#str(clf).split('(')[0]\n",
    "\n",
    "test_time=55555    \n",
    "results.append([clf_descr, score,precision, train_time, test_time])  \n",
    "resultsLogisticRegression.append([clf_descr, score,precision, train_time, test_time])  \n",
    "salvar_dado([clf_descr, score,precision, train_time, test_time])\n"
   ]
  },
  {
   "cell_type": "code",
   "execution_count": null,
   "metadata": {},
   "outputs": [],
   "source": [
    " clf.get_params().keys()"
   ]
  },
  {
   "cell_type": "markdown",
   "metadata": {},
   "source": [
    "# MovieLens"
   ]
  },
  {
   "cell_type": "code",
   "execution_count": null,
   "metadata": {},
   "outputs": [],
   "source": [
    "movies = pd.read_csv('../../../dados/movielens/filmes_com_overview.csv')"
   ]
  },
  {
   "cell_type": "code",
   "execution_count": null,
   "metadata": {},
   "outputs": [],
   "source": [
    "# movies = movies['genres != (no genres listed)']:\n",
    "movies.drop(movies[movies.genres == '(no genres listed)'].index, inplace=True)"
   ]
  },
  {
   "cell_type": "code",
   "execution_count": null,
   "metadata": {},
   "outputs": [],
   "source": [
    "movies['genres'] = movies.genres.apply(lambda x: x.split('|'))"
   ]
  },
  {
   "cell_type": "code",
   "execution_count": null,
   "metadata": {},
   "outputs": [],
   "source": [
    "movies.head(3)"
   ]
  },
  {
   "cell_type": "code",
   "execution_count": null,
   "metadata": {},
   "outputs": [],
   "source": [
    " (movies['genres'].values == '').sum()  "
   ]
  },
  {
   "cell_type": "code",
   "execution_count": null,
   "metadata": {},
   "outputs": [],
   "source": [
    "movies['overview'].fillna('', inplace=True)\n",
    "movies.isnull().sum()"
   ]
  },
  {
   "cell_type": "code",
   "execution_count": null,
   "metadata": {},
   "outputs": [],
   "source": [
    "movies = movies[movies['genres'] != 'chi Fade to Black Kimi no Na o Yobu) (2008)']\n",
    "movies = movies[movies['genres'] != ' Battle Force (1978)']\n",
    "movies = movies[movies['genres'] != 'epe&#351']\n",
    "movies = movies[movies['genres'] != '(no genres listed)']\n",
    "movies = movies[movies['genres'] != 'Gate the Movie: The Burden of Déjà vu (2013)']\n",
    "movies['genres'].value_counts()"
   ]
  },
  {
   "cell_type": "code",
   "execution_count": null,
   "metadata": {},
   "outputs": [],
   "source": [
    "# generos = movies.genres.str.get_dummies()\n",
    "# generos.head()"
   ]
  },
  {
   "cell_type": "code",
   "execution_count": null,
   "metadata": {},
   "outputs": [],
   "source": [
    "# dados_dos_filmes = pd.concat([movies, generos], axis=1)\n",
    "# dados_dos_filmes.head()"
   ]
  },
  {
   "cell_type": "code",
   "execution_count": null,
   "metadata": {},
   "outputs": [],
   "source": [
    "# dados_dos_filmes = dados_dos_filmes[dados_dos_filmes['genres'] != 'chi Fade to Black Kimi no Na o Yobu) (2008)']\n",
    "# dados_dos_filmes = dados_dos_filmes[dados_dos_filmes['genres'] != ' Battle Force (1978)']\n",
    "# dados_dos_filmes = dados_dos_filmes[dados_dos_filmes['genres'] != 'epe&#351']\n",
    "# dados_dos_filmes = dados_dos_filmes[dados_dos_filmes['genres'] != '(no genres listed)']\n",
    "# dados_dos_filmes = dados_dos_filmes[dados_dos_filmes['genres'] != 'Gate the Movie: The Burden of Déjà vu (2013)']\n",
    "# dados_dos_filmes['genres'].value_counts()"
   ]
  },
  {
   "cell_type": "code",
   "execution_count": null,
   "metadata": {},
   "outputs": [],
   "source": [
    "# dados_dos_filmes = dados_dos_filmes[dados_dos_filmes['genres'] != 'genres']\n",
    "# dados_dos_filmes = dados_dos_filmes[dados_dos_filmes['genres'] != 'Gate the Movie: The Burden of Déjà vu (2013)']\n",
    "# dados_dos_filmes.columns\n",
    "# df_genres.columns"
   ]
  },
  {
   "cell_type": "code",
   "execution_count": null,
   "metadata": {},
   "outputs": [],
   "source": [
    "# dados_dos_filmes.shape"
   ]
  },
  {
   "cell_type": "code",
   "execution_count": null,
   "metadata": {},
   "outputs": [],
   "source": [
    "\n",
    "# df_genres =dados_dos_filmes.drop(['movieId','title', 'overview'  ], axis=1)\n",
    "# counts = []\n",
    "# categories = list(df_genres.columns)\n",
    "# categories = categories[1:]\n",
    "# for i in categories:\n",
    "#     counts.append((i, df_genres[i].sum()))\n",
    "# df_stats = pd.DataFrame(counts, columns=['genre', '#movies'])\n",
    "# df_stats"
   ]
  },
  {
   "cell_type": "code",
   "execution_count": null,
   "metadata": {},
   "outputs": [],
   "source": [
    "title_df = movies[[\"overview\",\"genres\",\"title\"]]"
   ]
  },
  {
   "cell_type": "code",
   "execution_count": null,
   "metadata": {},
   "outputs": [],
   "source": [
    "filmes_balanceados = title_df.copy(deep=True)"
   ]
  },
  {
   "cell_type": "code",
   "execution_count": null,
   "metadata": {},
   "outputs": [],
   "source": [
    "lst_col = 'genres'\n",
    "\n",
    "filmes_balanceados2 = pd.DataFrame({\n",
    "      col:np.repeat(filmes_balanceados[col].values, filmes_balanceados[lst_col].str.len())\n",
    "      for col in filmes_balanceados.columns.drop(lst_col)}\n",
    "    ).assign(**{\n",
    "    lst_col:np.concatenate(filmes_balanceados[lst_col].values)})[filmes_balanceados.columns]"
   ]
  },
  {
   "cell_type": "code",
   "execution_count": null,
   "metadata": {},
   "outputs": [],
   "source": [
    "title_df.head(3)"
   ]
  },
  {
   "cell_type": "code",
   "execution_count": null,
   "metadata": {},
   "outputs": [],
   "source": [
    "filmes_balanceados2.tail(3)"
   ]
  },
  {
   "cell_type": "code",
   "execution_count": null,
   "metadata": {},
   "outputs": [],
   "source": [
    "filmes_balanceados2['genres'].value_counts()"
   ]
  },
  {
   "cell_type": "code",
   "execution_count": null,
   "metadata": {},
   "outputs": [],
   "source": [
    " filmes_balanceados2 = filmes_balanceados2[filmes_balanceados2['genres'] != 'chi Fade to Black Kimi no Na o Yobu) (2008)']\n",
    " filmes_balanceados2 = filmes_balanceados2[filmes_balanceados2['genres'] != ' Battle Force (1978)']\n",
    " filmes_balanceados2 = filmes_balanceados2[filmes_balanceados2['genres'] != 'epe&#351']\n",
    " filmes_balanceados2 = filmes_balanceados2[filmes_balanceados2['genres'] != '(no genres listed)']\n",
    " filmes_balanceados2 = filmes_balanceados2[filmes_balanceados2['genres'] != 'Gate the Movie: The Burden of Déjà vu (2013)']\n",
    " filmes_balanceados2['genres'].value_counts()"
   ]
  },
  {
   "cell_type": "code",
   "execution_count": null,
   "metadata": {},
   "outputs": [],
   "source": [
    "df_Drama = filmes_balanceados2[filmes_balanceados2['genres']=='Drama']\n",
    "df_Comedy  = filmes_balanceados2[filmes_balanceados2['genres']=='Comedy']\n",
    "df_Thriller   = filmes_balanceados2[filmes_balanceados2['genres']=='Thriller']\n",
    "df_Romance   = filmes_balanceados2[filmes_balanceados2['genres']=='Romance']\n",
    "df_Action  = filmes_balanceados2[filmes_balanceados2['genres']=='Action']\n",
    "df_Horror     = filmes_balanceados2[filmes_balanceados2['genres']=='Horror']\n",
    "df_Documentary  = filmes_balanceados2[filmes_balanceados2['genres']=='Documentary'] \n",
    "df_Crime    = filmes_balanceados2[filmes_balanceados2['genres']=='Crime']\n",
    "df_Adventure = filmes_balanceados2[filmes_balanceados2['genres']=='Adventure']\n",
    "df_SciFi = filmes_balanceados2[filmes_balanceados2['genres']=='Sci-Fi']\n",
    "df_Mystery      = filmes_balanceados2[filmes_balanceados2['genres']=='Mystery']\n",
    "df_Children    = filmes_balanceados2[filmes_balanceados2['genres']=='Children']\n",
    "df_Animation   = filmes_balanceados2[filmes_balanceados2['genres']=='Animation']\n",
    "df_Fantasy    = filmes_balanceados2[filmes_balanceados2['genres']=='Fantasy']\n",
    "df_War        = filmes_balanceados2[filmes_balanceados2['genres']=='War']\n",
    "df_Western     = filmes_balanceados2[filmes_balanceados2['genres']=='Western']\n",
    "df_Musical         = filmes_balanceados2[filmes_balanceados2['genres']=='Musical'] \n",
    "df_FilmNoir         = filmes_balanceados2[filmes_balanceados2['genres']=='Film-Noir'] \n",
    "df_IMAX    = filmes_balanceados2[filmes_balanceados2['genres']=='IMAX']"
   ]
  },
  {
   "cell_type": "code",
   "execution_count": null,
   "metadata": {},
   "outputs": [],
   "source": [
    "df_Comedy  = resample(df_Comedy,\n",
    "                      replace=True,\n",
    "                      n_samples=25112,\n",
    "                      random_state=123)\n",
    "\n",
    "\n",
    "df_Thriller   = resample(df_Thriller,\n",
    "                         replace=True,\n",
    "                         n_samples=25112,\n",
    "                         random_state=123)\n",
    "df_Romance   = resample(df_Romance,\n",
    "                        replace=True,\n",
    "                        n_samples=25112,\n",
    "                        random_state=123)\n",
    "df_Action  = resample(df_Action,\n",
    "                      replace=True,\n",
    "                      n_samples=25112,\n",
    "                      random_state=123)\n",
    "df_Horror     = resample(df_Horror, \n",
    "                         replace=True,     \n",
    "                         n_samples=25112,    \n",
    "                         random_state=123)\n",
    "df_Documentary= resample(df_Documentary, \n",
    "                         replace=True,\n",
    "                         n_samples=25112,    \n",
    "                         random_state=123)\n",
    "df_Crime   = resample(df_Crime,\n",
    "                      replace=True,     \n",
    "                      n_samples=25112,    \n",
    "                      random_state=123)\n",
    "df_Adventure= resample(df_Adventure, \n",
    "                       replace=True,  \n",
    "                       n_samples=25112,    \n",
    "                       random_state=123)\n",
    "df_SciFi = resample(df_SciFi,\n",
    "                              replace=True, \n",
    "                              n_samples=25112,\n",
    "                              random_state=123)\n",
    "df_Mystery      = resample(df_Mystery,\n",
    "                           replace=True,     \n",
    "                           n_samples=25112,   \n",
    "                           random_state=123)\n",
    "df_Children          = resample(df_Children, \n",
    "                              replace=True,\n",
    "                              n_samples=25112,  \n",
    "                              random_state=123)\n",
    "df_Animation  = resample(df_Animation, \n",
    "                         replace=True, \n",
    "                         n_samples=25112, \n",
    "                         random_state=123)\n",
    "df_Fantasy   = resample(df_Fantasy, \n",
    "                                 replace=True,     \n",
    "                                 n_samples=25112,    \n",
    "                                 random_state=123)\n",
    "df_War       = resample(df_War, \n",
    "                        replace=True,   \n",
    "                        n_samples=25112,    \n",
    "                        random_state=123)\n",
    "df_Western    = resample(df_Western, \n",
    "                         replace=True,     \n",
    "                         n_samples=25112,    \n",
    "                         random_state=123)\n",
    "df_Musical      = resample(df_Musical,\n",
    "                         replace=True,  \n",
    "                         n_samples=25112, \n",
    "                         random_state=123)\n",
    "df_FilmNoir    = resample(df_FilmNoir, \n",
    "                         replace=True, \n",
    "                         n_samples=25112,  \n",
    "                         random_state=123)\n",
    "df_IMAX   = resample(df_IMAX, \n",
    "                        replace=True,\n",
    "                        n_samples=25112,  \n",
    "                        random_state=123)\n",
    "\n",
    "\n",
    " "
   ]
  },
  {
   "cell_type": "code",
   "execution_count": null,
   "metadata": {},
   "outputs": [],
   "source": [
    "df_upsampled = pd.concat([df_Drama, df_Comedy], axis=0 )\n",
    "df_upsampled = pd.concat([df_upsampled, df_Thriller ])\n",
    "df_upsampled = pd.concat([df_upsampled, df_Romance ] )\n",
    "df_upsampled = pd.concat([df_upsampled, df_Action ]  )\n",
    "df_upsampled = pd.concat([df_upsampled, df_Horror ] )\n",
    "df_upsampled = pd.concat([df_upsampled, df_Documentary ]  )\n",
    "df_upsampled = pd.concat([df_upsampled, df_Crime ] )\n",
    "df_upsampled = pd.concat([df_upsampled, df_Adventure], axis=0 )\n",
    "df_upsampled = pd.concat([df_upsampled, df_SciFi ] )\n",
    "df_upsampled = pd.concat([df_upsampled, df_Mystery ] )\n",
    "df_upsampled = pd.concat([df_upsampled, df_Children ]  )\n",
    "df_upsampled = pd.concat([df_upsampled, df_Animation ]  )\n",
    "df_upsampled = pd.concat([df_upsampled, df_Fantasy ] )\n",
    "df_upsampled = pd.concat([df_upsampled, df_War ]  )\n",
    "df_upsampled = pd.concat([df_upsampled, df_Western ] )\n",
    "df_upsampled = pd.concat([df_upsampled, df_Musical ] )\n",
    "\n",
    "df_upsampled = pd.concat([df_upsampled, df_FilmNoir ] )\n",
    "df_upsampled = pd.concat([df_upsampled, df_IMAX ]  ) "
   ]
  },
  {
   "cell_type": "code",
   "execution_count": null,
   "metadata": {},
   "outputs": [],
   "source": [
    "df_upsampled.reset_index()"
   ]
  },
  {
   "cell_type": "code",
   "execution_count": null,
   "metadata": {},
   "outputs": [],
   "source": [
    "df_upsampled['genres'].value_counts()"
   ]
  },
  {
   "cell_type": "code",
   "execution_count": null,
   "metadata": {},
   "outputs": [],
   "source": [
    "PAROU AQUI"
   ]
  },
  {
   "cell_type": "code",
   "execution_count": null,
   "metadata": {},
   "outputs": [],
   "source": []
  },
  {
   "cell_type": "code",
   "execution_count": null,
   "metadata": {},
   "outputs": [],
   "source": [
    " # split the data, leave 1/3 out for testing\n",
    "data_x = dados_dos_filmes[['overview']]\n",
    "data_y = dados_dos_filmes.drop(['movieId', 'title', 'genres', 'overview'], axis=1)\n",
    "# stratified_split = StratifiedShuffleSplit(n_splits=2, test_size=0.33)\n",
    "xtrain, xval, ytrain, yval = model_selection.train_test_split(data_x, data_y, test_size=0.33, random_state=512)\n",
    "# transform matrix of plots into lists to pass to a TfidfVectorizer\n",
    "train_x = [x[0].strip() for x in xtrain.values.tolist()]\n",
    "test_x = [x[0].strip() for x in xval.values.tolist()] \n",
    "\n"
   ]
  },
  {
   "cell_type": "code",
   "execution_count": null,
   "metadata": {},
   "outputs": [],
   "source": [
    "data_y.info()"
   ]
  },
  {
   "cell_type": "code",
   "execution_count": null,
   "metadata": {},
   "outputs": [],
   "source": [
    "from sklearn.ensemble import RandomForestClassifier\n",
    "nltk.download('stopwords') \n",
    "words = stopwords.words(\"english\") \n",
    "pipeline = Pipeline([\n",
    "('tfidf', TfidfVectorizer(stop_words=words)),\n",
    "('rfc', ExtraTreesClassifier() ),\n",
    "    \n",
    "])\n",
    "parameters = {\n",
    "# 'tfidf__max_df': (0.5, 0.65, 0.75),\n",
    "# 'tfidf__min_df': (0.15, 0.30, 0.35),\n",
    "'tfidf__ngram_range': [(1, 1), (1, 2), (1, 3)],\n",
    "\"rfc__n_estimators\": [10,15,20],\n",
    "\"rfc__class_weight\": ['balanced','balanced_subsample', None],\n",
    "'rfc__max_depth':[20,25,30],\n",
    "}"
   ]
  },
  {
   "cell_type": "code",
   "execution_count": null,
   "metadata": {},
   "outputs": [],
   "source": [
    "\n",
    "grid_search_tune = GridSearchCV(\n",
    "pipeline, parameters, cv=2, n_jobs=2, verbose=3)\n",
    "grid_search_tune.fit(train_x, ytrain )  \n",
    "print\n",
    "print(\"Best parameters set:\")\n",
    "print (grid_search_tune.best_estimator_.steps)"
   ]
  },
  {
   "cell_type": "code",
   "execution_count": null,
   "metadata": {},
   "outputs": [],
   "source": [
    "len(grid_search_tune.best_estimator_.classes_)"
   ]
  },
  {
   "cell_type": "code",
   "execution_count": null,
   "metadata": {},
   "outputs": [],
   "source": [
    "\n",
    "clf  = grid_search_tune.best_estimator_\n",
    "classes=categories\n",
    "classes=[ 'Action', 'Adventure',\n",
    "       'Animation', 'Children', 'Comedy', 'Crime', 'Documentary', 'Drama',\n",
    "       'Fantasy', 'Film-Noir', 'Horror', 'IMAX', 'Musical', 'Mystery',\n",
    "       'Romance', 'Sci-Fi', 'Thriller', 'War', 'Western']\n",
    "print('_' * 120)\n",
    "print(\"Training: \")\n",
    "print(clf)\n",
    "t0 = time()  \n",
    "train_time = time() - t0\n",
    "print(\"Treino: %0.3fs\" % train_time)\n",
    "\n",
    "t0 = time()\n",
    "pred = clf.predict(test_x)\n",
    "test_time = time() - t0\n",
    "print(\"testes:  %0.3fs\" % test_time)\n",
    "\n",
    "score = f1_score(yval, pred, average=\"micro\")\n",
    "precision = precision_score(yval, pred, average='micro')\n",
    "print(\"f1_score:   %0.3f\" % score)\n",
    "\n",
    "print('\\nAccuracy: {:.2f}\\n'.format(accuracy_score(yval, pred)))\n",
    "print('\\nPrecisao: {:.2f}\\n'.format(precision)) \n",
    "\n",
    "print(\"Relatório de Classificação:\")\n",
    "print(classification_report(yval, pred,\n",
    "#                                             labels=[1, 2, 3,4,5,6,7,8,9,10,11,12,13,14,15,16,17,18,19]\n",
    "                                        ))\n",
    "\n",
    "# print(\"confusion matrix:\") \n",
    "# print(confusion_matrix(yvalb2.argmax(axis=1), pred.argmax(axis=1)))\n",
    "\n",
    "\n",
    "if hasattr(clf, 'coef_'):\n",
    "    print(\"dimensionality: %d\" % clf.coef_.shape[1])\n",
    "    print(\"density: %f\" % density(clf.coef_))\n",
    "\n",
    "clf_descr = 'LogisticRegression-upsampled'#str(clf).split('(')[0]\n",
    "\n",
    "test_time=55555    \n",
    "results.append([clf_descr, score,precision, train_time, test_time])  \n",
    "resultsLogisticRegression.append([clf_descr, score,precision, train_time, test_time])  \n",
    "salvar_dado([clf_descr, score,precision, train_time, test_time])\n"
   ]
  },
  {
   "cell_type": "markdown",
   "metadata": {},
   "source": [
    "# Refazer predição com resample"
   ]
  },
  {
   "cell_type": "code",
   "execution_count": null,
   "metadata": {},
   "outputs": [],
   "source": [
    "movies = pd.read_csv('../../../dados/movielens/filmes_com_overview.csv')\n",
    "# movies = movies['genres != (no genres listed)']:\n",
    "movies.drop(movies[movies.genres == '(no genres listed)'].index, inplace=True)\n",
    "movies['genres'].value_counts()"
   ]
  },
  {
   "cell_type": "code",
   "execution_count": null,
   "metadata": {},
   "outputs": [],
   "source": [
    "movies['overview'].fillna('', inplace=True)\n",
    "movies.isnull().sum()"
   ]
  },
  {
   "cell_type": "code",
   "execution_count": null,
   "metadata": {},
   "outputs": [],
   "source": [
    "movies = movies[movies['genres'] != 'chi Fade to Black Kimi no Na o Yobu) (2008)']\n",
    "movies = movies[movies['genres'] != ' Battle Force (1978)']\n",
    "movies = movies[movies['genres'] != 'epe&#351']\n",
    "movies = movies[movies['genres'] != '(no genres listed)']\n",
    "movies = movies[movies['genres'] != 'Gate the Movie: The Burden of Déjà vu (2013)']\n",
    "movies['genres'].value_counts()"
   ]
  },
  {
   "cell_type": "code",
   "execution_count": null,
   "metadata": {},
   "outputs": [],
   "source": [
    "movies.head()"
   ]
  },
  {
   "cell_type": "code",
   "execution_count": null,
   "metadata": {},
   "outputs": [],
   "source": [
    "(movies['genres'].values == '').sum()  \n"
   ]
  },
  {
   "cell_type": "code",
   "execution_count": null,
   "metadata": {},
   "outputs": [],
   "source": [
    "movies['genres'] = movies['genres'].map(lambda x: x.split('|'))\n",
    "movies.head()"
   ]
  },
  {
   "cell_type": "code",
   "execution_count": null,
   "metadata": {},
   "outputs": [],
   "source": [
    "overview_df = movies[[\"overview\",\"genres\"]]\n",
    "filmes_balanceados = overview_df.copy(deep=True)"
   ]
  },
  {
   "cell_type": "code",
   "execution_count": null,
   "metadata": {},
   "outputs": [],
   "source": [
    "lst_col = 'genres'\n",
    "\n",
    "filmes_balanceados2 = pd.DataFrame({\n",
    "      col:np.repeat(filmes_balanceados[col].values, filmes_balanceados[lst_col].str.len())\n",
    "      for col in filmes_balanceados.columns.drop(lst_col)}\n",
    "    ).assign(**{\n",
    "    lst_col:np.concatenate(filmes_balanceados[lst_col].values)})[filmes_balanceados.columns]\n",
    " "
   ]
  },
  {
   "cell_type": "code",
   "execution_count": null,
   "metadata": {},
   "outputs": [],
   "source": [
    "df_Drama = filmes_balanceados2[filmes_balanceados2['genres']=='Drama']\n",
    "df_Comedy  = filmes_balanceados2[filmes_balanceados2['genres']=='Comedy']\n",
    "df_Thriller   = filmes_balanceados2[filmes_balanceados2['genres']=='Thriller']\n",
    "df_Romance   = filmes_balanceados2[filmes_balanceados2['genres']=='Romance']\n",
    "df_Action  = filmes_balanceados2[filmes_balanceados2['genres']=='Action']\n",
    "df_Horror     = filmes_balanceados2[filmes_balanceados2['genres']=='Horror']\n",
    "df_Documentary  = filmes_balanceados2[filmes_balanceados2['genres']=='Documentary']\n",
    "df_Crime    = filmes_balanceados2[filmes_balanceados2['genres']=='Crime']\n",
    "df_Adventure = filmes_balanceados2[filmes_balanceados2['genres']=='Adventure'] \n",
    "df_Mystery      = filmes_balanceados2[filmes_balanceados2['genres']=='Mystery'] \n",
    "df_Animation   = filmes_balanceados2[filmes_balanceados2['genres']=='Animation']\n",
    "df_Fantasy    = filmes_balanceados2[filmes_balanceados2['genres']=='Fantasy'] \n",
    "df_War        = filmes_balanceados2[filmes_balanceados2['genres']=='War']\n",
    "df_Western     = filmes_balanceados2[filmes_balanceados2['genres']=='Western']\n",
    "df_Music         = filmes_balanceados2[filmes_balanceados2['genres']=='Musical']\n",
    "\n",
    "df_Children           = filmes_balanceados2[filmes_balanceados2['genres']=='Children']\n",
    "df_SciFi = filmes_balanceados2[filmes_balanceados2['genres']=='Sci-Fi']\n",
    "df_FilmNoir           = filmes_balanceados2[filmes_balanceados2['genres']=='Film-Noir']\n",
    "df_IMAX     = filmes_balanceados2[filmes_balanceados2['genres']=='IMAX']\n"
   ]
  },
  {
   "cell_type": "code",
   "execution_count": null,
   "metadata": {},
   "outputs": [],
   "source": [
    "df_Drama.shape"
   ]
  },
  {
   "cell_type": "code",
   "execution_count": null,
   "metadata": {},
   "outputs": [],
   "source": [
    "df_Comedy  = resample(df_Comedy,\n",
    "                      replace=True,\n",
    "                      n_samples=25112,\n",
    "                      random_state=0)\n",
    "df_Thriller   = resample(df_Thriller,\n",
    "                         replace=True,\n",
    "                         n_samples=25112,\n",
    "                         random_state=0)\n",
    "df_Romance   = resample(df_Romance,\n",
    "                        replace=True,\n",
    "                        n_samples=25112,\n",
    "                        random_state=0)\n",
    "df_Action  = resample(df_Action,\n",
    "                      replace=True,\n",
    "                      n_samples=25112,\n",
    "                      random_state=0)\n",
    "df_Horror     = resample(df_Horror, \n",
    "                         replace=True,     \n",
    "                         n_samples=25112,    \n",
    "                         random_state=0)\n",
    "df_Documentary= resample(df_Documentary, \n",
    "                         replace=True,\n",
    "                         n_samples=25112,    \n",
    "                         random_state=0)\n",
    "df_Crime   = resample(df_Crime,\n",
    "                      replace=True,     \n",
    "                      n_samples=25112,    \n",
    "                      random_state=0)\n",
    "df_Adventure= resample(df_Adventure, \n",
    "                       replace=True,  \n",
    "                       n_samples=25112,    \n",
    "                       random_state=0)\n",
    "df_Mystery      = resample(df_Mystery,\n",
    "                           replace=True,     \n",
    "                           n_samples=25112,   \n",
    "                           random_state=0)\n",
    "df_Animation  = resample(df_Animation, \n",
    "                         replace=True, \n",
    "                         n_samples=25112, \n",
    "                         random_state=0)\n",
    "df_Fantasy   = resample(df_Fantasy, \n",
    "                                 replace=True,     \n",
    "                                 n_samples=25112,    \n",
    "                                 random_state=0) \n",
    "\n",
    "# df_Family          = resample(df_Family, \n",
    "#                               replace=True,\n",
    "#                               n_samples=25112,  \n",
    "#                               random_state=0)\n",
    "df_War       = resample(df_War, \n",
    "                        replace=True,   \n",
    "                        n_samples=25112,    \n",
    "                        random_state=0)\n",
    "df_Western    = resample(df_Western, \n",
    "                         replace=True,     \n",
    "                         n_samples=25112,    \n",
    "                         random_state=0)\n",
    "df_Music      = resample(df_Music,\n",
    "                         replace=True,  \n",
    "                         n_samples=25112, \n",
    "                         random_state=0)  \n",
    "df_Children    = resample(df_Children, \n",
    "                         replace=True, \n",
    "                         n_samples=25112,  \n",
    "                         random_state=0) \n",
    "df_SciFi   = resample(df_SciFi, \n",
    "                        replace=True,\n",
    "                        n_samples=25112,  \n",
    "                        random_state=0)\n",
    "df_FilmNoir   = resample(df_FilmNoir, \n",
    "                        replace=True,\n",
    "                        n_samples=25112,  \n",
    "                        random_state=0)\n",
    "\n",
    "\n",
    "df_IMAX = resample(df_IMAX, \n",
    "                       replace=True, \n",
    "                       n_samples=25112,\n",
    "                       random_state=0)"
   ]
  },
  {
   "cell_type": "code",
   "execution_count": null,
   "metadata": {},
   "outputs": [],
   "source": []
  },
  {
   "cell_type": "code",
   "execution_count": null,
   "metadata": {},
   "outputs": [],
   "source": [
    "df_upsampled = pd.concat([df_Drama, df_Comedy], axis=0 )\n",
    "df_upsampled = pd.concat([df_upsampled, df_Thriller ]\n",
    "                         )\n",
    "df_upsampled = pd.concat([df_upsampled, df_Action ]\n",
    "                         )\n",
    "df_upsampled = pd.concat([df_upsampled, df_Adventure ]\n",
    "                         )\n",
    "df_upsampled = pd.concat([df_upsampled, df_Romance ]\n",
    "                         )\n",
    "df_upsampled = pd.concat([df_upsampled, df_Crime ]\n",
    "                         )\n",
    "df_upsampled = pd.concat([df_upsampled, df_SciFi ]\n",
    "                         )\n",
    "df_upsampled = pd.concat([df_upsampled, df_Horror ]\n",
    "                         ) \n",
    "df_upsampled = pd.concat([df_upsampled, df_Fantasy ]\n",
    "                         )\n",
    "df_upsampled = pd.concat([df_upsampled, df_Mystery ]\n",
    "                         )\n",
    "df_upsampled = pd.concat([df_upsampled, df_Animation ]\n",
    "                         )  \n",
    "df_upsampled = pd.concat([df_upsampled, df_Music ]\n",
    "                         )\n",
    "df_upsampled = pd.concat([df_upsampled, df_War ]\n",
    "                         )\n",
    "df_upsampled = pd.concat([df_upsampled, df_Documentary ]\n",
    "                         )\n",
    "df_upsampled = pd.concat([df_upsampled, df_Western ]\n",
    "                         )  \n",
    "df_upsampled = pd.concat([df_upsampled, df_Children ]\n",
    "                         )\n",
    "df_upsampled = pd.concat([df_upsampled, df_FilmNoir ]\n",
    "                         )\n",
    "df_upsampled = pd.concat([df_upsampled, df_IMAX ]\n",
    "                         )"
   ]
  },
  {
   "cell_type": "code",
   "execution_count": null,
   "metadata": {},
   "outputs": [],
   "source": [
    "df_upsampled.reset_index()"
   ]
  },
  {
   "cell_type": "code",
   "execution_count": null,
   "metadata": {},
   "outputs": [],
   "source": [
    "df_upsampled['genres'].value_counts()"
   ]
  },
  {
   "cell_type": "code",
   "execution_count": null,
   "metadata": {},
   "outputs": [],
   "source": [
    "# split the data, leave 1/3 out for testing\n",
    "data_x = dados_dos_filmes[['overview']]\n",
    "data_y = dados_dos_filmes.drop(['movieId', 'title', 'genres', 'overview'], axis=1)\n",
    "# stratified_split = StratifiedShuffleSplit(n_splits=2, test_size=0.33)\n",
    "xtrain, xval, ytrain, yval = model_selection.train_test_split(data_x, data_y, test_size=0.33, random_state=512)\n",
    "# transform matrix of plots into lists to pass to a TfidfVectorizer\n",
    "train_x = [x[0].strip() for x in xtrain.values.tolist()]\n",
    "test_x = [x[0].strip() for x in xval.values.tolist()] \n",
    "\n"
   ]
  },
  {
   "cell_type": "code",
   "execution_count": null,
   "metadata": {},
   "outputs": [],
   "source": [
    "from sklearn.ensemble import RandomForestClassifier\n",
    "nltk.download('stopwords') \n",
    "words = stopwords.words(\"english\") \n",
    "pipeline = Pipeline([\n",
    "('tfidf', TfidfVectorizer(stop_words=words)),\n",
    "('rfc', RandomForestClassifier() ),\n",
    "    \n",
    "])\n",
    "parameters = {\n",
    "# 'tfidf__max_df': (0.5, 0.65, 0.75),\n",
    "# 'tfidf__min_df': (0.15, 0.30, 0.35),\n",
    "'tfidf__ngram_range': [(1, 1), (1, 2), (1, 3)],\n",
    "\"rfc__n_estimators\": [10,15,20],\n",
    "\"rfc__class_weight\": ['balanced','balanced_subsample', None],\n",
    "'rfc__max_depth':[20,25,30,35,40],\n",
    "}"
   ]
  },
  {
   "cell_type": "code",
   "execution_count": null,
   "metadata": {},
   "outputs": [],
   "source": [
    "\n",
    "grid_search_tune = GridSearchCV(\n",
    "pipeline, parameters, cv=2, n_jobs=2, verbose=6)\n",
    "grid_search_tune.fit(train_x, ytrain )  \n",
    "print\n",
    "print(\"Best parameters set:\")\n",
    "print (grid_search_tune.best_estimator_.steps)"
   ]
  },
  {
   "cell_type": "code",
   "execution_count": null,
   "metadata": {},
   "outputs": [],
   "source": [
    "\n",
    "clf  = grid_search_tune.best_estimator_\n",
    "# classes=categories\n",
    "classes=[ 'Action', 'Adventure',\n",
    "       'Animation', 'Children', 'Comedy', 'Crime', 'Documentary', 'Drama',\n",
    "       'Fantasy', 'Film-Noir', 'Horror', 'IMAX', 'Musical', 'Mystery',\n",
    "       'Romance', 'Sci-Fi', 'Thriller', 'War', 'Western']\n",
    "print('_' * 120)\n",
    "print(\"Training: \")\n",
    "print(clf)\n",
    "t0 = time()  \n",
    "train_time = time() - t0\n",
    "print(\"Treino: %0.3fs\" % train_time)\n",
    "\n",
    "t0 = time()\n",
    "pred = clf.predict(test_x)\n",
    "test_time = time() - t0\n",
    "print(\"testes:  %0.3fs\" % test_time)\n",
    "\n",
    "score = f1_score(yval, pred, average=\"micro\")\n",
    "precision = precision_score(yval, pred, average='micro')\n",
    "print(\"f1_score:   %0.3f\" % score)\n",
    "\n",
    "print('\\nAccuracy: {:.2f}\\n'.format(accuracy_score(yval, pred)))\n",
    "print('\\nPrecisao: {:.2f}\\n'.format(precision)) \n",
    "\n",
    "print(\"Relatório de Classificação:\")\n",
    "print(classification_report(yval, pred,\n",
    "#                                             labels=[1, 2, 3,4,5,6,7,8,9,10,11,12,13,14,15,16,17,18,19]\n",
    "                                        target_names=classes))\n",
    "\n",
    "# print(\"confusion matrix:\") \n",
    "# print(confusion_matrix(yvalb2.argmax(axis=1), pred.argmax(axis=1)))\n",
    "\n",
    "\n",
    "if hasattr(clf, 'coef_'):\n",
    "    print(\"dimensionality: %d\" % clf.coef_.shape[1])\n",
    "    print(\"density: %f\" % density(clf.coef_))\n",
    "\n",
    "clf_descr = 'RandomForest-upsampled-movielens'#str(clf).split('(')[0]\n",
    "\n",
    "test_time=55555    \n",
    "results.append([clf_descr, score,precision, train_time, test_time])  \n",
    "resultsLogisticRegression.append([clf_descr, score,precision, train_time, test_time])  \n",
    "salvar_dado([clf_descr, score,precision, train_time, test_time])\n"
   ]
  },
  {
   "cell_type": "markdown",
   "metadata": {},
   "source": [
    "# Refazer predição com resample e IF-IDF"
   ]
  },
  {
   "cell_type": "code",
   "execution_count": null,
   "metadata": {},
   "outputs": [],
   "source": [
    "df_upsampled = pd.concat([df_Drama, df_Comedy], axis=0 )\n",
    "df_upsampled = pd.concat([df_upsampled, df_Thriller ]\n",
    "                         )\n",
    "df_upsampled = pd.concat([df_upsampled, df_Action ]\n",
    "                         )\n",
    "df_upsampled = pd.concat([df_upsampled, df_Adventure ]\n",
    "                         )\n",
    "df_upsampled = pd.concat([df_upsampled, df_Romance ]\n",
    "                         )\n",
    "df_upsampled = pd.concat([df_upsampled, df_Crime ]\n",
    "                         )\n",
    "df_upsampled = pd.concat([df_upsampled, df_SciFi ]\n",
    "                         )\n",
    "df_upsampled = pd.concat([df_upsampled, df_Horror ]\n",
    "                         ) \n",
    "df_upsampled = pd.concat([df_upsampled, df_Fantasy ]\n",
    "                         )\n",
    "df_upsampled = pd.concat([df_upsampled, df_Mystery ]\n",
    "                         )\n",
    "df_upsampled = pd.concat([df_upsampled, df_Animation ]\n",
    "                         )  \n",
    "df_upsampled = pd.concat([df_upsampled, df_Music ]\n",
    "                         )\n",
    "df_upsampled = pd.concat([df_upsampled, df_War ]\n",
    "                         )\n",
    "df_upsampled = pd.concat([df_upsampled, df_Documentary ]\n",
    "                         )\n",
    "df_upsampled = pd.concat([df_upsampled, df_Western ]\n",
    "                         )  \n",
    "df_upsampled = pd.concat([df_upsampled, df_Children ]\n",
    "                         )\n",
    "df_upsampled = pd.concat([df_upsampled, df_FilmNoir ]\n",
    "                         )\n",
    "df_upsampled = pd.concat([df_upsampled, df_IMAX ]\n",
    "                         )"
   ]
  },
  {
   "cell_type": "code",
   "execution_count": null,
   "metadata": {},
   "outputs": [],
   "source": [
    "df_upsampled.reset_index()"
   ]
  },
  {
   "cell_type": "code",
   "execution_count": null,
   "metadata": {},
   "outputs": [],
   "source": [
    "df_upsampled['genres'] = df_upsampled['genres'].map(lambda x: x.split(','))\n",
    "df_upsampled['genres'].head() \n"
   ]
  },
  {
   "cell_type": "code",
   "execution_count": null,
   "metadata": {},
   "outputs": [],
   "source": [
    "from sklearn.preprocessing import MultiLabelBinarizer\n",
    "multilabel_binarizer3 = MultiLabelBinarizer()\n",
    "y =multilabel_binarizer3.fit_transform(df_upsampled['genres'])\n",
    "tfidf_vectorizer3 = TfidfVectorizer(max_df=0.7, max_features=5000)\n",
    "# from sklearn import model_selection\n",
    "xtrain, xval, ytrain, yval = model_selection.train_test_split(df_upsampled['overview'], y, test_size=0.2, random_state=512)\n",
    "xtrain_tfidf = tfidf_vectorizer3.fit_transform(xtrain)\n",
    "xval_tfidf = tfidf_vectorizer3.transform(xval)\n",
    "train_x = xtrain_tfidf\n",
    "test_x = xval_tfidf"
   ]
  },
  {
   "cell_type": "code",
   "execution_count": null,
   "metadata": {},
   "outputs": [],
   "source": [
    "xtrain_tfidf = tfidf_vectorizer3.fit_transform(xtrain)\n",
    "xval_tfidf = tfidf_vectorizer3.transform(xval)\n",
    "train_x = xtrain_tfidf\n",
    "test_x = xval_tfidf\n",
    "from sklearn.ensemble import RandomForestClassifier\n",
    "nltk.download('stopwords') \n",
    "rfc = RandomForestClassifier()\n",
    "words = stopwords.words(\"english\") \n",
    "parameters = {'n_estimators':[10,15,20],  \n",
    "             \"class_weight\": ['balanced','balanced_subsample', None],\n",
    "             'max_depth':[3,5,8]}\n",
    "# clf = GridSearchCV(svc, parameters, cv=2, n_jobs=2, verbose=3) \n",
    " "
   ]
  },
  {
   "cell_type": "code",
   "execution_count": null,
   "metadata": {},
   "outputs": [],
   "source": [
    "\n",
    "\n",
    "# classes=multilabel_binarizer3.classes_\n",
    "classes=[ 'Action', 'Adventure',\n",
    "       'Animation', 'Children', 'Comedy', 'Crime', 'Documentary', 'Drama',\n",
    "       'Fantasy', 'Film-Noir', 'Horror', 'IMAX', 'Musical', 'Mystery',\n",
    "       'Romance', 'Sci-Fi', 'Thriller', 'War', 'Western']\n",
    "print('_' * 120)\n",
    "\n",
    "\n",
    "t0 = time()  \n",
    "##############\n",
    "print(\"Training: \")\n",
    "grid_search_tune = GridSearchCV(\n",
    "rfc, parameters, cv=2, n_jobs=2, verbose=3)\n",
    "grid_search_tune.fit(train_x, ytrain )  \n",
    "\n",
    "clf  = grid_search_tune.best_estimator_\n",
    "print(clf)\n",
    "print \n",
    "############################\n",
    "train_time = time() - t0\n",
    "print(\"Treino: %0.3fs\" % train_time)\n",
    "\n",
    "t0 = time()\n",
    "pred = clf.predict(test_x)\n",
    "test_time = time() - t0\n",
    "print(\"testes:  %0.3fs\" % test_time)\n",
    "\n",
    "score = f1_score(yval, pred, average=\"micro\")\n",
    "precision = precision_score(yval, pred, average='micro') \n",
    "print(\"f1_score :   %0.3f\" % score)\n",
    "\n",
    "print('\\nAccuracy: {:.2f}\\n'.format(accuracy_score(yval, pred)))\n",
    "print('\\nPrecisao: {:.2f}\\n'.format(precision)) \n",
    "\n",
    "print('Micro Precision: {:.2f}'.format(precision_score(yval, pred, average='micro')))\n",
    "print('Macro Precision: {:.2f}'.format(precision_score(yval, pred, average='macro')))\n",
    "print('Weighted Precision: {:.2f}'.format(precision_score(yval, pred, average='weighted')))\n",
    "\n",
    "\n",
    "print('Micro F1-score: {:.2f}\\n'.format(f1_score(yval, pred, average='micro')))\n",
    "print('Macro F1-score: {:.2f}\\n'.format(f1_score(yval, pred, average='macro'))) \n",
    "print('Weighted F1-score: {:.2f}'.format(f1_score(yval, pred, average='weighted')))\n",
    "\n",
    "print('Macro Recall: {:.2f}'.format(recall_score(yval, pred, average='macro'))) \n",
    "print('Micro Recall: {:.2f}'.format(recall_score(yval, pred, average='micro')))\n",
    "print('Weighted Recall: {:.2f}'.format(recall_score(yval, pred, average='weighted')))\n",
    "\n",
    "print(\"Relatório de Classificação:\")\n",
    "print(classification_report(yval, pred,\n",
    "#                                             labels=[1, 2, 3,4,5,6,7,8,9,10,11,12,13,14,15,16,17,18,19]\n",
    "                                        target_names=classes))\n",
    "\n",
    "# print(\"confusion matrix:\") \n",
    "# print(confusion_matrix(yvalb2.argmax(axis=1), pred.argmax(axis=1)))\n",
    "\n",
    "\n",
    "if hasattr(clf, 'coef_'):\n",
    "    print(\"dimensionality: %d\" % clf.coef_.shape[1])\n",
    "    print(\"density: %f\" % density(clf.coef_))\n",
    "\n",
    "clf_descr = 'LogisticRegression-upsampled'#str(clf).split('(')[0]\n",
    "\n",
    "test_time=55555    \n",
    "results.append([clf_descr, score,precision, train_time, test_time])  \n",
    "resultsLogisticRegression.append([clf_descr, score,precision, train_time, test_time])  \n",
    "salvar_dado([clf_descr, score,precision, train_time, test_time])\n"
   ]
  },
  {
   "cell_type": "code",
   "execution_count": null,
   "metadata": {},
   "outputs": [],
   "source": [
    " "
   ]
  },
  {
   "cell_type": "code",
   "execution_count": null,
   "metadata": {},
   "outputs": [],
   "source": []
  },
  {
   "cell_type": "code",
   "execution_count": null,
   "metadata": {},
   "outputs": [],
   "source": []
  },
  {
   "cell_type": "code",
   "execution_count": null,
   "metadata": {},
   "outputs": [],
   "source": []
  },
  {
   "cell_type": "code",
   "execution_count": null,
   "metadata": {},
   "outputs": [],
   "source": []
  },
  {
   "cell_type": "code",
   "execution_count": null,
   "metadata": {},
   "outputs": [],
   "source": []
  },
  {
   "cell_type": "code",
   "execution_count": null,
   "metadata": {},
   "outputs": [],
   "source": []
  },
  {
   "cell_type": "code",
   "execution_count": null,
   "metadata": {},
   "outputs": [],
   "source": []
  },
  {
   "cell_type": "code",
   "execution_count": null,
   "metadata": {},
   "outputs": [],
   "source": []
  },
  {
   "cell_type": "code",
   "execution_count": null,
   "metadata": {},
   "outputs": [],
   "source": []
  },
  {
   "cell_type": "code",
   "execution_count": null,
   "metadata": {},
   "outputs": [],
   "source": []
  },
  {
   "cell_type": "code",
   "execution_count": null,
   "metadata": {},
   "outputs": [],
   "source": []
  },
  {
   "cell_type": "code",
   "execution_count": null,
   "metadata": {},
   "outputs": [],
   "source": []
  },
  {
   "cell_type": "code",
   "execution_count": null,
   "metadata": {},
   "outputs": [],
   "source": []
  },
  {
   "cell_type": "code",
   "execution_count": null,
   "metadata": {},
   "outputs": [],
   "source": []
  },
  {
   "cell_type": "code",
   "execution_count": null,
   "metadata": {},
   "outputs": [],
   "source": []
  },
  {
   "cell_type": "code",
   "execution_count": null,
   "metadata": {},
   "outputs": [],
   "source": []
  },
  {
   "cell_type": "code",
   "execution_count": null,
   "metadata": {},
   "outputs": [],
   "source": []
  }
 ],
 "metadata": {
  "kernelspec": {
   "display_name": "Python 3",
   "language": "python",
   "name": "python3"
  },
  "language_info": {
   "codemirror_mode": {
    "name": "ipython",
    "version": 3
   },
   "file_extension": ".py",
   "mimetype": "text/x-python",
   "name": "python",
   "nbconvert_exporter": "python",
   "pygments_lexer": "ipython3",
   "version": "3.8.3"
  }
 },
 "nbformat": 4,
 "nbformat_minor": 4
}
