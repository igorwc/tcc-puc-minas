{
 "cells": [
  {
   "cell_type": "code",
   "execution_count": 1,
   "metadata": {},
   "outputs": [
    {
     "name": "stdout",
     "output_type": "stream",
     "text": [
      "pandas:1.0.5\n",
      "seaborn:0.10.1\n"
     ]
    },
    {
     "name": "stderr",
     "output_type": "stream",
     "text": [
      "[nltk_data] Downloading package stopwords to /home/igor/nltk_data...\n",
      "[nltk_data]   Package stopwords is already up-to-date!\n"
     ]
    }
   ],
   "source": [
    "import pandas as pd\n",
    "import numpy as np\n",
    "import warnings\n",
    "import seaborn as sns \n",
    "import re\n",
    "from ast import literal_eval\n",
    "warnings.filterwarnings('ignore')\n",
    "print('pandas:'+pd.__version__)\n",
    "print('seaborn:'+sns.__version__)  \n",
    "from sklearn.model_selection import train_test_split \n",
    "from sklearn.pipeline import Pipeline\n",
    "from sklearn.feature_extraction.text import TfidfVectorizer \n",
    "import nltk\n",
    "from sklearn.linear_model import LogisticRegression\n",
    "nltk.download('stopwords')\n",
    "from nltk.corpus import stopwords \n",
    "from sklearn.multiclass import OneVsRestClassifier\n",
    "from sklearn import model_selection\n",
    "from sklearn.model_selection import GridSearchCV\n",
    "from datetime import datetime\n",
    "import sqlite3\n",
    "from sqlite3 import Error\n",
    "import uuid\n",
    "from time import time\n",
    "from sklearn.metrics import accuracy_score, precision_score, recall_score, f1_score\n",
    "from sklearn.metrics import classification_report"
   ]
  },
  {
   "cell_type": "code",
   "execution_count": 2,
   "metadata": {},
   "outputs": [],
   "source": [
    "# import pandas as pd\n",
    "# import numpy as np\n",
    "# import seaborn as sns \n",
    "# from time import time\n",
    "# import matplotlib.pyplot as plt \n",
    "# from sklearn.utils import resample\n",
    "# import matplotlib.ticker as ticker\n",
    "# %matplotlib inline \n",
    "from sklearn import model_selection\n",
    "# from sklearn.utils.extmath import density\n",
    "# from sklearn.metrics import confusion_matrix\n",
    "# from sklearn.feature_extraction.text import TfidfVectorizer, CountVectorizer\n",
    "# from sklearn.metrics.pairwise import linear_kernel, cosine_similarity\n",
    "from sklearn.metrics import accuracy_score, precision_score, recall_score, f1_score\n",
    "from sklearn.preprocessing import MultiLabelBinarizer\n",
    "# from nltk.stem.snowball import SnowballStemmer\n",
    "# from nltk.stem.wordnet import WordNetLemmatizer\n",
    "# from nltk.corpus import wordnet\n",
    "from nltk import word_tokenize\n",
    "# from nltk.corpus import stopwords\n",
    "# import warnings\n",
    "from sklearn.utils import resample\n",
    "from sklearn.ensemble import ExtraTreesClassifier\n",
    "# from ast import literal_eval\n",
    "# import re\n",
    "# warnings.filterwarnings('ignore')\n",
    "# print('pandas:'+pd.__version__)\n",
    "# print('seaborn:'+sns.__version__)  "
   ]
  },
  {
   "cell_type": "code",
   "execution_count": 3,
   "metadata": {},
   "outputs": [],
   "source": [
    "# ##Classificadores\n",
    "\n",
    "# from sklearn.feature_selection import SelectFromModel\n",
    "# from sklearn.feature_selection import SelectKBest, chi2\n",
    "# from sklearn.linear_model import RidgeClassifier\n",
    "# from sklearn.pipeline import Pipeline\n",
    "# from sklearn.svm import LinearSVC\n",
    "# from sklearn.linear_model import SGDClassifier\n",
    "# from sklearn.linear_model import Perceptron\n",
    "# from sklearn.linear_model import PassiveAggressiveClassifier\n",
    "# from sklearn.naive_bayes import BernoulliNB, MultinomialNB\n",
    "# from sklearn.neighbors import KNeighborsClassifier\n",
    "# from sklearn.neighbors import NearestCentroid\n",
    "# from sklearn.ensemble import RandomForestClassifier"
   ]
  },
  {
   "cell_type": "code",
   "execution_count": 3,
   "metadata": {},
   "outputs": [
    {
     "name": "stdout",
     "output_type": "stream",
     "text": [
      "now = 2020-10-06 10:10:56.292723\n",
      "date and time = 06/10/2020 10:10:56\n"
     ]
    }
   ],
   "source": [
    "results = []\n",
    "resultsLogisticRegression = []\n",
    "\n",
    "\n",
    "# datetime object containing current date and time\n",
    "now = datetime.now()\n",
    " \n",
    "print(\"now =\", now)\n",
    "\n",
    "# dd/mm/YY H:M:S\n",
    "dt_string = now.strftime(\"%d/%m/%Y %H:%M:%S\")\n",
    "print(\"date and time =\", dt_string)\n",
    "\n",
    "id_transacao = dt_string#str(uuid.uuid4())\n",
    "def create_connection(db_file):\n",
    "    \"\"\" create a database connection to the SQLite database\n",
    "        specified by db_file\n",
    "    :param db_file: database file\n",
    "    :return: Connection object or None\n",
    "    \"\"\"\n",
    "    conn = None\n",
    "    try:\n",
    "        conn = sqlite3.connect(db_file)\n",
    "    except Error as e:\n",
    "        print(e)\n",
    "\n",
    "    return conn\n",
    "\n",
    "def save_metrics(conn, project):\n",
    "    \"\"\"\n",
    "    Create a new project into the projects table\n",
    "    :param conn:\n",
    "    :param project:\n",
    "    :return: project id\n",
    "    \"\"\"\n",
    "    sql = ''' INSERT INTO metrics( classificador, score_f1,\n",
    "    precision,\n",
    "    train_time,\n",
    "    test_time,\n",
    "    transacao)\n",
    "    VALUES(?,?,?,?,?,?) '''\n",
    "    cur = conn.cursor()\n",
    "    cur.execute(sql, project)\n",
    "    conn.commit()\n",
    "    return cur.lastrowid\n",
    "\n",
    "def salvar_dado(valor):\n",
    "    database = r\"../data/metricsDB.sqlite\"\n",
    "    print (id)\n",
    "    # create a database connection\n",
    "    conn = create_connection(database)\n",
    "    with conn:\n",
    "        # create a new project\n",
    "#         linha = ['SGD Classifier',  0.4503092535879421,  1.9019618034362793,  0.012923479080200195, id]\n",
    "#         metrica = ('Cool App with SQLite & Python', '2015-01-01', '2015-01-30');\n",
    "        valor.append(id_transacao)\n",
    "        print(valor)\n",
    "        metrica = save_metrics( conn,valor) \n",
    "    print (id)\n",
    "        "
   ]
  },
  {
   "cell_type": "code",
   "execution_count": 4,
   "metadata": {},
   "outputs": [],
   "source": [
    "tmdb = pd.read_csv('../../../dados/tmdb_5000_movies.csv')"
   ]
  },
  {
   "cell_type": "code",
   "execution_count": 5,
   "metadata": {},
   "outputs": [
    {
     "data": {
      "text/html": [
       "<div>\n",
       "<style scoped>\n",
       "    .dataframe tbody tr th:only-of-type {\n",
       "        vertical-align: middle;\n",
       "    }\n",
       "\n",
       "    .dataframe tbody tr th {\n",
       "        vertical-align: top;\n",
       "    }\n",
       "\n",
       "    .dataframe thead th {\n",
       "        text-align: right;\n",
       "    }\n",
       "</style>\n",
       "<table border=\"1\" class=\"dataframe\">\n",
       "  <thead>\n",
       "    <tr style=\"text-align: right;\">\n",
       "      <th></th>\n",
       "      <th>budget</th>\n",
       "      <th>genres</th>\n",
       "      <th>homepage</th>\n",
       "      <th>id</th>\n",
       "      <th>keywords</th>\n",
       "      <th>original_language</th>\n",
       "      <th>original_title</th>\n",
       "      <th>overview</th>\n",
       "      <th>popularity</th>\n",
       "      <th>production_companies</th>\n",
       "      <th>production_countries</th>\n",
       "      <th>release_date</th>\n",
       "      <th>revenue</th>\n",
       "      <th>runtime</th>\n",
       "      <th>spoken_languages</th>\n",
       "      <th>status</th>\n",
       "      <th>tagline</th>\n",
       "      <th>title</th>\n",
       "      <th>vote_average</th>\n",
       "      <th>vote_count</th>\n",
       "    </tr>\n",
       "  </thead>\n",
       "  <tbody>\n",
       "    <tr>\n",
       "      <th>0</th>\n",
       "      <td>237000000</td>\n",
       "      <td>[Action, Adventure, Fantasy, Science Fiction]</td>\n",
       "      <td>http://www.avatarmovie.com/</td>\n",
       "      <td>19995</td>\n",
       "      <td>[{\"id\": 1463, \"name\": \"culture clash\"}, {\"id\":...</td>\n",
       "      <td>en</td>\n",
       "      <td>Avatar</td>\n",
       "      <td>In the 22nd century, a paraplegic Marine is di...</td>\n",
       "      <td>150.437577</td>\n",
       "      <td>[{\"name\": \"Ingenious Film Partners\", \"id\": 289...</td>\n",
       "      <td>[{\"iso_3166_1\": \"US\", \"name\": \"United States o...</td>\n",
       "      <td>2009-12-10</td>\n",
       "      <td>2787965087</td>\n",
       "      <td>162.0</td>\n",
       "      <td>[{\"iso_639_1\": \"en\", \"name\": \"English\"}, {\"iso...</td>\n",
       "      <td>Released</td>\n",
       "      <td>Enter the World of Pandora.</td>\n",
       "      <td>Avatar</td>\n",
       "      <td>7.2</td>\n",
       "      <td>11800</td>\n",
       "    </tr>\n",
       "    <tr>\n",
       "      <th>1</th>\n",
       "      <td>300000000</td>\n",
       "      <td>[Adventure, Fantasy, Action]</td>\n",
       "      <td>http://disney.go.com/disneypictures/pirates/</td>\n",
       "      <td>285</td>\n",
       "      <td>[{\"id\": 270, \"name\": \"ocean\"}, {\"id\": 726, \"na...</td>\n",
       "      <td>en</td>\n",
       "      <td>Pirates of the Caribbean: At World's End</td>\n",
       "      <td>Captain Barbossa, long believed to be dead, ha...</td>\n",
       "      <td>139.082615</td>\n",
       "      <td>[{\"name\": \"Walt Disney Pictures\", \"id\": 2}, {\"...</td>\n",
       "      <td>[{\"iso_3166_1\": \"US\", \"name\": \"United States o...</td>\n",
       "      <td>2007-05-19</td>\n",
       "      <td>961000000</td>\n",
       "      <td>169.0</td>\n",
       "      <td>[{\"iso_639_1\": \"en\", \"name\": \"English\"}]</td>\n",
       "      <td>Released</td>\n",
       "      <td>At the end of the world, the adventure begins.</td>\n",
       "      <td>Pirates of the Caribbean: At World's End</td>\n",
       "      <td>6.9</td>\n",
       "      <td>4500</td>\n",
       "    </tr>\n",
       "    <tr>\n",
       "      <th>2</th>\n",
       "      <td>245000000</td>\n",
       "      <td>[Action, Adventure, Crime]</td>\n",
       "      <td>http://www.sonypictures.com/movies/spectre/</td>\n",
       "      <td>206647</td>\n",
       "      <td>[{\"id\": 470, \"name\": \"spy\"}, {\"id\": 818, \"name...</td>\n",
       "      <td>en</td>\n",
       "      <td>Spectre</td>\n",
       "      <td>A cryptic message from Bond’s past sends him o...</td>\n",
       "      <td>107.376788</td>\n",
       "      <td>[{\"name\": \"Columbia Pictures\", \"id\": 5}, {\"nam...</td>\n",
       "      <td>[{\"iso_3166_1\": \"GB\", \"name\": \"United Kingdom\"...</td>\n",
       "      <td>2015-10-26</td>\n",
       "      <td>880674609</td>\n",
       "      <td>148.0</td>\n",
       "      <td>[{\"iso_639_1\": \"fr\", \"name\": \"Fran\\u00e7ais\"},...</td>\n",
       "      <td>Released</td>\n",
       "      <td>A Plan No One Escapes</td>\n",
       "      <td>Spectre</td>\n",
       "      <td>6.3</td>\n",
       "      <td>4466</td>\n",
       "    </tr>\n",
       "  </tbody>\n",
       "</table>\n",
       "</div>"
      ],
      "text/plain": [
       "      budget                                         genres  \\\n",
       "0  237000000  [Action, Adventure, Fantasy, Science Fiction]   \n",
       "1  300000000                   [Adventure, Fantasy, Action]   \n",
       "2  245000000                     [Action, Adventure, Crime]   \n",
       "\n",
       "                                       homepage      id  \\\n",
       "0                   http://www.avatarmovie.com/   19995   \n",
       "1  http://disney.go.com/disneypictures/pirates/     285   \n",
       "2   http://www.sonypictures.com/movies/spectre/  206647   \n",
       "\n",
       "                                            keywords original_language  \\\n",
       "0  [{\"id\": 1463, \"name\": \"culture clash\"}, {\"id\":...                en   \n",
       "1  [{\"id\": 270, \"name\": \"ocean\"}, {\"id\": 726, \"na...                en   \n",
       "2  [{\"id\": 470, \"name\": \"spy\"}, {\"id\": 818, \"name...                en   \n",
       "\n",
       "                             original_title  \\\n",
       "0                                    Avatar   \n",
       "1  Pirates of the Caribbean: At World's End   \n",
       "2                                   Spectre   \n",
       "\n",
       "                                            overview  popularity  \\\n",
       "0  In the 22nd century, a paraplegic Marine is di...  150.437577   \n",
       "1  Captain Barbossa, long believed to be dead, ha...  139.082615   \n",
       "2  A cryptic message from Bond’s past sends him o...  107.376788   \n",
       "\n",
       "                                production_companies  \\\n",
       "0  [{\"name\": \"Ingenious Film Partners\", \"id\": 289...   \n",
       "1  [{\"name\": \"Walt Disney Pictures\", \"id\": 2}, {\"...   \n",
       "2  [{\"name\": \"Columbia Pictures\", \"id\": 5}, {\"nam...   \n",
       "\n",
       "                                production_countries release_date     revenue  \\\n",
       "0  [{\"iso_3166_1\": \"US\", \"name\": \"United States o...   2009-12-10  2787965087   \n",
       "1  [{\"iso_3166_1\": \"US\", \"name\": \"United States o...   2007-05-19   961000000   \n",
       "2  [{\"iso_3166_1\": \"GB\", \"name\": \"United Kingdom\"...   2015-10-26   880674609   \n",
       "\n",
       "   runtime                                   spoken_languages    status  \\\n",
       "0    162.0  [{\"iso_639_1\": \"en\", \"name\": \"English\"}, {\"iso...  Released   \n",
       "1    169.0           [{\"iso_639_1\": \"en\", \"name\": \"English\"}]  Released   \n",
       "2    148.0  [{\"iso_639_1\": \"fr\", \"name\": \"Fran\\u00e7ais\"},...  Released   \n",
       "\n",
       "                                          tagline  \\\n",
       "0                     Enter the World of Pandora.   \n",
       "1  At the end of the world, the adventure begins.   \n",
       "2                           A Plan No One Escapes   \n",
       "\n",
       "                                      title  vote_average  vote_count  \n",
       "0                                    Avatar           7.2       11800  \n",
       "1  Pirates of the Caribbean: At World's End           6.9        4500  \n",
       "2                                   Spectre           6.3        4466  "
      ]
     },
     "execution_count": 5,
     "metadata": {},
     "output_type": "execute_result"
    }
   ],
   "source": [
    "tmdb['genres'] = tmdb['genres'].fillna('[]')\\\n",
    ".apply(literal_eval).apply(lambda x: [i['name'] for i in x] if isinstance(x, list) else [])\n",
    "tmdb.head(3)"
   ]
  },
  {
   "cell_type": "code",
   "execution_count": 6,
   "metadata": {},
   "outputs": [
    {
     "data": {
      "text/plain": [
       "budget                     0\n",
       "genres                     0\n",
       "homepage                3091\n",
       "id                         0\n",
       "keywords                   0\n",
       "original_language          0\n",
       "original_title             0\n",
       "overview                   3\n",
       "popularity                 0\n",
       "production_companies       0\n",
       "production_countries       0\n",
       "release_date               1\n",
       "revenue                    0\n",
       "runtime                    2\n",
       "spoken_languages           0\n",
       "status                     0\n",
       "tagline                  844\n",
       "title                      0\n",
       "vote_average               0\n",
       "vote_count                 0\n",
       "dtype: int64"
      ]
     },
     "execution_count": 6,
     "metadata": {},
     "output_type": "execute_result"
    }
   ],
   "source": [
    "tmdb.isnull().sum()\n"
   ]
  },
  {
   "cell_type": "code",
   "execution_count": null,
   "metadata": {},
   "outputs": [],
   "source": [
    "# filmes_balanceados['genres'].values"
   ]
  },
  {
   "cell_type": "code",
   "execution_count": 7,
   "metadata": {},
   "outputs": [],
   "source": [
    "title_df = tmdb[[\"overview\",\"genres\",\"title\"]] #, \"all_text\"\n",
    "filmes_balanceados = title_df.copy(deep=True)"
   ]
  },
  {
   "cell_type": "code",
   "execution_count": 8,
   "metadata": {},
   "outputs": [],
   "source": [
    "lst_col = 'genres'\n",
    "\n",
    "filmes_balanceados2 = pd.DataFrame({\n",
    "      col:np.repeat(filmes_balanceados[col].values, filmes_balanceados[lst_col].str.len())\n",
    "      for col in filmes_balanceados.columns.drop(lst_col)}\n",
    "    ).assign(**{\n",
    "    lst_col:np.concatenate(filmes_balanceados[lst_col].values)})[filmes_balanceados.columns]"
   ]
  },
  {
   "cell_type": "code",
   "execution_count": 9,
   "metadata": {},
   "outputs": [
    {
     "data": {
      "text/html": [
       "<div>\n",
       "<style scoped>\n",
       "    .dataframe tbody tr th:only-of-type {\n",
       "        vertical-align: middle;\n",
       "    }\n",
       "\n",
       "    .dataframe tbody tr th {\n",
       "        vertical-align: top;\n",
       "    }\n",
       "\n",
       "    .dataframe thead th {\n",
       "        text-align: right;\n",
       "    }\n",
       "</style>\n",
       "<table border=\"1\" class=\"dataframe\">\n",
       "  <thead>\n",
       "    <tr style=\"text-align: right;\">\n",
       "      <th></th>\n",
       "      <th>overview</th>\n",
       "      <th>genres</th>\n",
       "      <th>title</th>\n",
       "    </tr>\n",
       "  </thead>\n",
       "  <tbody>\n",
       "    <tr>\n",
       "      <th>0</th>\n",
       "      <td>In the 22nd century, a paraplegic Marine is di...</td>\n",
       "      <td>[Action, Adventure, Fantasy, Science Fiction]</td>\n",
       "      <td>Avatar</td>\n",
       "    </tr>\n",
       "    <tr>\n",
       "      <th>1</th>\n",
       "      <td>Captain Barbossa, long believed to be dead, ha...</td>\n",
       "      <td>[Adventure, Fantasy, Action]</td>\n",
       "      <td>Pirates of the Caribbean: At World's End</td>\n",
       "    </tr>\n",
       "    <tr>\n",
       "      <th>2</th>\n",
       "      <td>A cryptic message from Bond’s past sends him o...</td>\n",
       "      <td>[Action, Adventure, Crime]</td>\n",
       "      <td>Spectre</td>\n",
       "    </tr>\n",
       "  </tbody>\n",
       "</table>\n",
       "</div>"
      ],
      "text/plain": [
       "                                            overview  \\\n",
       "0  In the 22nd century, a paraplegic Marine is di...   \n",
       "1  Captain Barbossa, long believed to be dead, ha...   \n",
       "2  A cryptic message from Bond’s past sends him o...   \n",
       "\n",
       "                                          genres  \\\n",
       "0  [Action, Adventure, Fantasy, Science Fiction]   \n",
       "1                   [Adventure, Fantasy, Action]   \n",
       "2                     [Action, Adventure, Crime]   \n",
       "\n",
       "                                      title  \n",
       "0                                    Avatar  \n",
       "1  Pirates of the Caribbean: At World's End  \n",
       "2                                   Spectre  "
      ]
     },
     "execution_count": 9,
     "metadata": {},
     "output_type": "execute_result"
    }
   ],
   "source": [
    "title_df.head(3)"
   ]
  },
  {
   "cell_type": "code",
   "execution_count": 10,
   "metadata": {},
   "outputs": [
    {
     "data": {
      "text/html": [
       "<div>\n",
       "<style scoped>\n",
       "    .dataframe tbody tr th:only-of-type {\n",
       "        vertical-align: middle;\n",
       "    }\n",
       "\n",
       "    .dataframe tbody tr th {\n",
       "        vertical-align: top;\n",
       "    }\n",
       "\n",
       "    .dataframe thead th {\n",
       "        text-align: right;\n",
       "    }\n",
       "</style>\n",
       "<table border=\"1\" class=\"dataframe\">\n",
       "  <thead>\n",
       "    <tr style=\"text-align: right;\">\n",
       "      <th></th>\n",
       "      <th>overview</th>\n",
       "      <th>genres</th>\n",
       "      <th>title</th>\n",
       "    </tr>\n",
       "  </thead>\n",
       "  <tbody>\n",
       "    <tr>\n",
       "      <th>12157</th>\n",
       "      <td>\"Signed, Sealed, Delivered\" introduces a dedic...</td>\n",
       "      <td>Romance</td>\n",
       "      <td>Signed, Sealed, Delivered</td>\n",
       "    </tr>\n",
       "    <tr>\n",
       "      <th>12158</th>\n",
       "      <td>\"Signed, Sealed, Delivered\" introduces a dedic...</td>\n",
       "      <td>TV Movie</td>\n",
       "      <td>Signed, Sealed, Delivered</td>\n",
       "    </tr>\n",
       "    <tr>\n",
       "      <th>12159</th>\n",
       "      <td>Ever since the second grade when he first saw ...</td>\n",
       "      <td>Documentary</td>\n",
       "      <td>My Date with Drew</td>\n",
       "    </tr>\n",
       "  </tbody>\n",
       "</table>\n",
       "</div>"
      ],
      "text/plain": [
       "                                                overview       genres  \\\n",
       "12157  \"Signed, Sealed, Delivered\" introduces a dedic...      Romance   \n",
       "12158  \"Signed, Sealed, Delivered\" introduces a dedic...     TV Movie   \n",
       "12159  Ever since the second grade when he first saw ...  Documentary   \n",
       "\n",
       "                           title  \n",
       "12157  Signed, Sealed, Delivered  \n",
       "12158  Signed, Sealed, Delivered  \n",
       "12159          My Date with Drew  "
      ]
     },
     "execution_count": 10,
     "metadata": {},
     "output_type": "execute_result"
    }
   ],
   "source": [
    "filmes_balanceados2.tail(3)"
   ]
  },
  {
   "cell_type": "code",
   "execution_count": 11,
   "metadata": {},
   "outputs": [
    {
     "data": {
      "text/plain": [
       "Drama              2297\n",
       "Comedy             1722\n",
       "Thriller           1274\n",
       "Action             1154\n",
       "Romance             894\n",
       "Adventure           790\n",
       "Crime               696\n",
       "Science Fiction     535\n",
       "Horror              519\n",
       "Family              513\n",
       "Fantasy             424\n",
       "Mystery             348\n",
       "Animation           234\n",
       "History             197\n",
       "Music               185\n",
       "War                 144\n",
       "Documentary         110\n",
       "Western              82\n",
       "Foreign              34\n",
       "TV Movie              8\n",
       "Name: genres, dtype: int64"
      ]
     },
     "execution_count": 11,
     "metadata": {},
     "output_type": "execute_result"
    }
   ],
   "source": [
    "filmes_balanceados2['genres'].value_counts()"
   ]
  },
  {
   "cell_type": "markdown",
   "metadata": {},
   "source": [
    "#### Separando cada gênero em dataset diferente para poder fazer resample dos dados - Tratamento de classes desbalanceadas"
   ]
  },
  {
   "cell_type": "code",
   "execution_count": 12,
   "metadata": {},
   "outputs": [],
   "source": [
    "df_Drama = filmes_balanceados2[filmes_balanceados2['genres']=='Drama']\n",
    "df_Comedy  = filmes_balanceados2[filmes_balanceados2['genres']=='Comedy']\n",
    "df_Thriller   = filmes_balanceados2[filmes_balanceados2['genres']=='Thriller']\n",
    "df_Action  = filmes_balanceados2[filmes_balanceados2['genres']=='Action']\n",
    "df_Romance   = filmes_balanceados2[filmes_balanceados2['genres']=='Romance']\n",
    "df_Adventure = filmes_balanceados2[filmes_balanceados2['genres']=='Adventure']\n",
    "df_Crime    = filmes_balanceados2[filmes_balanceados2['genres']=='Crime']\n",
    "df_Science_Fiction = filmes_balanceados2[filmes_balanceados2['genres']=='Science Fiction']\n",
    "df_Horror     = filmes_balanceados2[filmes_balanceados2['genres']=='Horror']\n",
    "df_Family           = filmes_balanceados2[filmes_balanceados2['genres']=='Family']\n",
    "df_Fantasy    = filmes_balanceados2[filmes_balanceados2['genres']=='Fantasy']\n",
    "df_Mystery      = filmes_balanceados2[filmes_balanceados2['genres']=='Mystery']\n",
    "df_Animation   = filmes_balanceados2[filmes_balanceados2['genres']=='Animation']\n",
    "df_History       = filmes_balanceados2[filmes_balanceados2['genres']=='History']\n",
    "df_Music         = filmes_balanceados2[filmes_balanceados2['genres']=='Music']\n",
    "df_War        = filmes_balanceados2[filmes_balanceados2['genres']=='War']\n",
    "df_Documentary  = filmes_balanceados2[filmes_balanceados2['genres']=='Documentary']\n",
    "df_Western     = filmes_balanceados2[filmes_balanceados2['genres']=='Western']\n",
    "df_Foreign     = filmes_balanceados2[filmes_balanceados2['genres']=='Foreign']\n",
    "df_TV_Movie  = filmes_balanceados2[filmes_balanceados2['genres']=='TV Movie']"
   ]
  },
  {
   "cell_type": "code",
   "execution_count": 13,
   "metadata": {},
   "outputs": [],
   "source": [
    "df_Comedy  = resample(df_Comedy,\n",
    "                      replace=True,\n",
    "                      n_samples=2297,\n",
    "                      random_state=123)\n",
    "df_Thriller   = resample(df_Thriller,\n",
    "                         replace=True,\n",
    "                         n_samples=2297,\n",
    "                         random_state=123)\n",
    "df_Action  = resample(df_Action,\n",
    "                      replace=True,\n",
    "                      n_samples=2297,\n",
    "                      random_state=123)\n",
    "df_Romance   = resample(df_Romance,\n",
    "                        replace=True,\n",
    "                        n_samples=2297,\n",
    "                        random_state=123)\n",
    "df_Adventure= resample(df_Adventure, \n",
    "                       replace=True,  \n",
    "                       n_samples=2297,    \n",
    "                       random_state=123)\n",
    "df_Crime   = resample(df_Crime,\n",
    "                      replace=True,     \n",
    "                      n_samples=2297,    \n",
    "                      random_state=123)\n",
    "df_Science_Fiction = resample(df_Science_Fiction,\n",
    "                              replace=True, \n",
    "                              n_samples=2297,\n",
    "                              random_state=123)\n",
    "df_Horror     = resample(df_Horror, \n",
    "                         replace=True,     \n",
    "                         n_samples=2297,    \n",
    "                         random_state=123)\n",
    "df_Family          = resample(df_Family, \n",
    "                              replace=True,\n",
    "                              n_samples=2297,  \n",
    "                              random_state=123)\n",
    "df_Fantasy   = resample(df_Fantasy, \n",
    "                                 replace=True,     \n",
    "                                 n_samples=2297,    \n",
    "                                 random_state=123)\n",
    "df_Mystery      = resample(df_Mystery,\n",
    "                           replace=True,     \n",
    "                           n_samples=2297,   \n",
    "                           random_state=123)\n",
    "df_Animation  = resample(df_Animation, \n",
    "                         replace=True, \n",
    "                         n_samples=2297, \n",
    "                         random_state=123)\n",
    "df_History    = resample(df_History, \n",
    "                         replace=True, \n",
    "                         n_samples=2297,  \n",
    "                         random_state=123)\n",
    "df_Music      = resample(df_Music,\n",
    "                         replace=True,  \n",
    "                         n_samples=2297, \n",
    "                         random_state=123)\n",
    "df_War       = resample(df_War, \n",
    "                        replace=True,   \n",
    "                        n_samples=2297,    \n",
    "                        random_state=123)\n",
    "df_Documentary= resample(df_Documentary, \n",
    "                         replace=True,\n",
    "                         n_samples=2297,    \n",
    "                         random_state=123)\n",
    "df_Western    = resample(df_Western, \n",
    "                         replace=True,     \n",
    "                         n_samples=2297,    \n",
    "                         random_state=123)\n",
    "df_Foreign   = resample(df_Foreign, \n",
    "                        replace=True,\n",
    "                        n_samples=2297,  \n",
    "                        random_state=123)\n",
    "df_TV_Movie = resample(df_TV_Movie, \n",
    "                       replace=True, \n",
    "                       n_samples=2297,\n",
    "                       random_state=123)"
   ]
  },
  {
   "cell_type": "code",
   "execution_count": 14,
   "metadata": {},
   "outputs": [],
   "source": [
    "df_upsampled = pd.concat([df_Drama, df_Comedy], axis=0 )\n",
    "df_upsampled = pd.concat([df_upsampled, df_Thriller ]\n",
    "                         )\n",
    "\n",
    "df_upsampled = pd.concat([df_upsampled, df_Adventure], axis=0 )\n",
    "df_upsampled = pd.concat([df_upsampled, df_Action ]\n",
    "                         )\n",
    "df_upsampled = pd.concat([df_upsampled, df_Romance ]\n",
    "                         )\n",
    "df_upsampled = pd.concat([df_upsampled, df_Crime ]\n",
    "                         )\n",
    "df_upsampled = pd.concat([df_upsampled, df_Science_Fiction ]\n",
    "                         )\n",
    "df_upsampled = pd.concat([df_upsampled, df_Horror ]\n",
    "                         )\n",
    "df_upsampled = pd.concat([df_upsampled, df_Family ]\n",
    "                         )\n",
    "df_upsampled = pd.concat([df_upsampled, df_Fantasy ]\n",
    "                         )\n",
    "df_upsampled = pd.concat([df_upsampled, df_Mystery ]\n",
    "                         )\n",
    "df_upsampled = pd.concat([df_upsampled, df_Animation ]\n",
    "                         )\n",
    "df_upsampled = pd.concat([df_upsampled, df_History ]\n",
    "                         )\n",
    "df_upsampled = pd.concat([df_upsampled, df_Music ]\n",
    "                         )\n",
    "df_upsampled = pd.concat([df_upsampled, df_War ]\n",
    "                         )\n",
    "df_upsampled = pd.concat([df_upsampled, df_Documentary ]\n",
    "                         )\n",
    "df_upsampled = pd.concat([df_upsampled, df_Western ]\n",
    "                         )\n",
    "df_upsampled = pd.concat([df_upsampled, df_Foreign ]\n",
    "                         )\n",
    "df_upsampled = pd.concat([df_upsampled, df_TV_Movie ]\n",
    "                         )"
   ]
  },
  {
   "cell_type": "code",
   "execution_count": 15,
   "metadata": {},
   "outputs": [
    {
     "data": {
      "text/plain": [
       "(45940, 3)"
      ]
     },
     "execution_count": 15,
     "metadata": {},
     "output_type": "execute_result"
    }
   ],
   "source": [
    "df_upsampled.shape"
   ]
  },
  {
   "cell_type": "code",
   "execution_count": 16,
   "metadata": {},
   "outputs": [
    {
     "data": {
      "text/html": [
       "<div>\n",
       "<style scoped>\n",
       "    .dataframe tbody tr th:only-of-type {\n",
       "        vertical-align: middle;\n",
       "    }\n",
       "\n",
       "    .dataframe tbody tr th {\n",
       "        vertical-align: top;\n",
       "    }\n",
       "\n",
       "    .dataframe thead th {\n",
       "        text-align: right;\n",
       "    }\n",
       "</style>\n",
       "<table border=\"1\" class=\"dataframe\">\n",
       "  <thead>\n",
       "    <tr style=\"text-align: right;\">\n",
       "      <th></th>\n",
       "      <th>index</th>\n",
       "      <th>overview</th>\n",
       "      <th>genres</th>\n",
       "      <th>title</th>\n",
       "    </tr>\n",
       "  </thead>\n",
       "  <tbody>\n",
       "    <tr>\n",
       "      <th>0</th>\n",
       "      <td>12</td>\n",
       "      <td>Following the death of District Attorney Harve...</td>\n",
       "      <td>Drama</td>\n",
       "      <td>The Dark Knight Rises</td>\n",
       "    </tr>\n",
       "    <tr>\n",
       "      <th>1</th>\n",
       "      <td>74</td>\n",
       "      <td>In 1933 New York, an overly ambitious movie pr...</td>\n",
       "      <td>Drama</td>\n",
       "      <td>King Kong</td>\n",
       "    </tr>\n",
       "    <tr>\n",
       "      <th>2</th>\n",
       "      <td>76</td>\n",
       "      <td>84 years later, a 101-year-old woman named Ros...</td>\n",
       "      <td>Drama</td>\n",
       "      <td>Titanic</td>\n",
       "    </tr>\n",
       "    <tr>\n",
       "      <th>3</th>\n",
       "      <td>139</td>\n",
       "      <td>Life for former United Nations investigator Ge...</td>\n",
       "      <td>Drama</td>\n",
       "      <td>World War Z</td>\n",
       "    </tr>\n",
       "    <tr>\n",
       "      <th>4</th>\n",
       "      <td>153</td>\n",
       "      <td>An adaptation of F. Scott Fitzgerald's Long Is...</td>\n",
       "      <td>Drama</td>\n",
       "      <td>The Great Gatsby</td>\n",
       "    </tr>\n",
       "    <tr>\n",
       "      <th>...</th>\n",
       "      <td>...</td>\n",
       "      <td>...</td>\n",
       "      <td>...</td>\n",
       "      <td>...</td>\n",
       "    </tr>\n",
       "    <tr>\n",
       "      <th>45935</th>\n",
       "      <td>12158</td>\n",
       "      <td>\"Signed, Sealed, Delivered\" introduces a dedic...</td>\n",
       "      <td>TV Movie</td>\n",
       "      <td>Signed, Sealed, Delivered</td>\n",
       "    </tr>\n",
       "    <tr>\n",
       "      <th>45936</th>\n",
       "      <td>9934</td>\n",
       "      <td>Troy (Zac Efron), the popular captain of the b...</td>\n",
       "      <td>TV Movie</td>\n",
       "      <td>High School Musical</td>\n",
       "    </tr>\n",
       "    <tr>\n",
       "      <th>45937</th>\n",
       "      <td>8903</td>\n",
       "      <td>A young woman finds out that her mother worked...</td>\n",
       "      <td>TV Movie</td>\n",
       "      <td>Restless</td>\n",
       "    </tr>\n",
       "    <tr>\n",
       "      <th>45938</th>\n",
       "      <td>10413</td>\n",
       "      <td>The continued Westward journey of settlers Mis...</td>\n",
       "      <td>TV Movie</td>\n",
       "      <td>Love's Abiding Joy</td>\n",
       "    </tr>\n",
       "    <tr>\n",
       "      <th>45939</th>\n",
       "      <td>9780</td>\n",
       "      <td>American-born Jayne Valseca, her husband Eduar...</td>\n",
       "      <td>TV Movie</td>\n",
       "      <td>We Have Your Husband</td>\n",
       "    </tr>\n",
       "  </tbody>\n",
       "</table>\n",
       "<p>45940 rows × 4 columns</p>\n",
       "</div>"
      ],
      "text/plain": [
       "       index                                           overview    genres  \\\n",
       "0         12  Following the death of District Attorney Harve...     Drama   \n",
       "1         74  In 1933 New York, an overly ambitious movie pr...     Drama   \n",
       "2         76  84 years later, a 101-year-old woman named Ros...     Drama   \n",
       "3        139  Life for former United Nations investigator Ge...     Drama   \n",
       "4        153  An adaptation of F. Scott Fitzgerald's Long Is...     Drama   \n",
       "...      ...                                                ...       ...   \n",
       "45935  12158  \"Signed, Sealed, Delivered\" introduces a dedic...  TV Movie   \n",
       "45936   9934  Troy (Zac Efron), the popular captain of the b...  TV Movie   \n",
       "45937   8903  A young woman finds out that her mother worked...  TV Movie   \n",
       "45938  10413  The continued Westward journey of settlers Mis...  TV Movie   \n",
       "45939   9780  American-born Jayne Valseca, her husband Eduar...  TV Movie   \n",
       "\n",
       "                           title  \n",
       "0          The Dark Knight Rises  \n",
       "1                      King Kong  \n",
       "2                        Titanic  \n",
       "3                    World War Z  \n",
       "4               The Great Gatsby  \n",
       "...                          ...  \n",
       "45935  Signed, Sealed, Delivered  \n",
       "45936        High School Musical  \n",
       "45937                   Restless  \n",
       "45938         Love's Abiding Joy  \n",
       "45939       We Have Your Husband  \n",
       "\n",
       "[45940 rows x 4 columns]"
      ]
     },
     "execution_count": 16,
     "metadata": {},
     "output_type": "execute_result"
    }
   ],
   "source": [
    "df_upsampled.reset_index()"
   ]
  },
  {
   "cell_type": "code",
   "execution_count": 17,
   "metadata": {},
   "outputs": [
    {
     "data": {
      "text/plain": [
       "Documentary        2297\n",
       "Horror             2297\n",
       "Animation          2297\n",
       "Thriller           2297\n",
       "Romance            2297\n",
       "Action             2297\n",
       "War                2297\n",
       "Science Fiction    2297\n",
       "Adventure          2297\n",
       "Mystery            2297\n",
       "TV Movie           2297\n",
       "Foreign            2297\n",
       "History            2297\n",
       "Comedy             2297\n",
       "Western            2297\n",
       "Drama              2297\n",
       "Fantasy            2297\n",
       "Family             2297\n",
       "Crime              2297\n",
       "Music              2297\n",
       "Name: genres, dtype: int64"
      ]
     },
     "execution_count": 17,
     "metadata": {},
     "output_type": "execute_result"
    }
   ],
   "source": [
    "df_upsampled['genres'].value_counts()"
   ]
  },
  {
   "cell_type": "code",
   "execution_count": 18,
   "metadata": {},
   "outputs": [],
   "source": [
    "punctuation = \"\"\"!()-[]{};:'\"\\, <>./?@#$%^&*_~\"\"\"\n",
    "\n",
    "words = stopwords.words(\"english\")\n",
    "lemma = nltk.stem.WordNetLemmatizer()\n",
    "def pre_process(text):\n",
    "    text = str(text)\n",
    "    remove_hyperlink = re.sub('http://\\S+|https://\\S+', '', text)\n",
    "    for elements in remove_hyperlink:\n",
    "        if elements in punctuation:\n",
    "            remove_hyperlink = remove_hyperlink.replace(elements, \" \")\n",
    "    tokens = word_tokenize(remove_hyperlink)\n",
    "    remove_words = [word for word in tokens if not word in words]\n",
    "    text = [lemma.lemmatize(word) for word in remove_words]\n",
    "    joined_words = \" \".join(text)\n",
    "    return joined_words"
   ]
  },
  {
   "cell_type": "code",
   "execution_count": 19,
   "metadata": {},
   "outputs": [],
   "source": [
    "\n",
    "title_df['overview'] = title_df['overview'].apply(pre_process)\n",
    "filmes_balanceados['overview'] = filmes_balanceados2['overview'].apply(pre_process)\n",
    "df_upsampled['overview'] = df_upsampled['overview'].apply(pre_process)\n"
   ]
  },
  {
   "cell_type": "code",
   "execution_count": 20,
   "metadata": {},
   "outputs": [],
   "source": [
    "df_upsampled['genres'] = df_upsampled['genres'].map(lambda x: x.split(','))\n"
   ]
  },
  {
   "cell_type": "code",
   "execution_count": 21,
   "metadata": {},
   "outputs": [
    {
     "data": {
      "text/html": [
       "<div>\n",
       "<style scoped>\n",
       "    .dataframe tbody tr th:only-of-type {\n",
       "        vertical-align: middle;\n",
       "    }\n",
       "\n",
       "    .dataframe tbody tr th {\n",
       "        vertical-align: top;\n",
       "    }\n",
       "\n",
       "    .dataframe thead th {\n",
       "        text-align: right;\n",
       "    }\n",
       "</style>\n",
       "<table border=\"1\" class=\"dataframe\">\n",
       "  <thead>\n",
       "    <tr style=\"text-align: right;\">\n",
       "      <th></th>\n",
       "      <th>overview</th>\n",
       "      <th>genres</th>\n",
       "      <th>title</th>\n",
       "    </tr>\n",
       "  </thead>\n",
       "  <tbody>\n",
       "    <tr>\n",
       "      <th>0</th>\n",
       "      <td>In 22nd century paraplegic Marine dispatched m...</td>\n",
       "      <td>[Action, Adventure, Fantasy, Science Fiction]</td>\n",
       "      <td>Avatar</td>\n",
       "    </tr>\n",
       "    <tr>\n",
       "      <th>1</th>\n",
       "      <td>Captain Barbossa long believed dead come back ...</td>\n",
       "      <td>[Adventure, Fantasy, Action]</td>\n",
       "      <td>Pirates of the Caribbean: At World's End</td>\n",
       "    </tr>\n",
       "    <tr>\n",
       "      <th>2</th>\n",
       "      <td>A cryptic message Bond ’ past sends trail unco...</td>\n",
       "      <td>[Action, Adventure, Crime]</td>\n",
       "      <td>Spectre</td>\n",
       "    </tr>\n",
       "    <tr>\n",
       "      <th>3</th>\n",
       "      <td>Following death District Attorney Harvey Dent ...</td>\n",
       "      <td>[Action, Crime, Drama, Thriller]</td>\n",
       "      <td>The Dark Knight Rises</td>\n",
       "    </tr>\n",
       "    <tr>\n",
       "      <th>4</th>\n",
       "      <td>John Carter war weary former military captain ...</td>\n",
       "      <td>[Action, Adventure, Science Fiction]</td>\n",
       "      <td>John Carter</td>\n",
       "    </tr>\n",
       "  </tbody>\n",
       "</table>\n",
       "</div>"
      ],
      "text/plain": [
       "                                            overview  \\\n",
       "0  In 22nd century paraplegic Marine dispatched m...   \n",
       "1  Captain Barbossa long believed dead come back ...   \n",
       "2  A cryptic message Bond ’ past sends trail unco...   \n",
       "3  Following death District Attorney Harvey Dent ...   \n",
       "4  John Carter war weary former military captain ...   \n",
       "\n",
       "                                          genres  \\\n",
       "0  [Action, Adventure, Fantasy, Science Fiction]   \n",
       "1                   [Adventure, Fantasy, Action]   \n",
       "2                     [Action, Adventure, Crime]   \n",
       "3               [Action, Crime, Drama, Thriller]   \n",
       "4           [Action, Adventure, Science Fiction]   \n",
       "\n",
       "                                      title  \n",
       "0                                    Avatar  \n",
       "1  Pirates of the Caribbean: At World's End  \n",
       "2                                   Spectre  \n",
       "3                     The Dark Knight Rises  \n",
       "4                               John Carter  "
      ]
     },
     "execution_count": 21,
     "metadata": {},
     "output_type": "execute_result"
    }
   ],
   "source": [
    "title_df.head()"
   ]
  },
  {
   "cell_type": "code",
   "execution_count": 22,
   "metadata": {},
   "outputs": [
    {
     "data": {
      "text/html": [
       "<div>\n",
       "<style scoped>\n",
       "    .dataframe tbody tr th:only-of-type {\n",
       "        vertical-align: middle;\n",
       "    }\n",
       "\n",
       "    .dataframe tbody tr th {\n",
       "        vertical-align: top;\n",
       "    }\n",
       "\n",
       "    .dataframe thead th {\n",
       "        text-align: right;\n",
       "    }\n",
       "</style>\n",
       "<table border=\"1\" class=\"dataframe\">\n",
       "  <thead>\n",
       "    <tr style=\"text-align: right;\">\n",
       "      <th></th>\n",
       "      <th>overview</th>\n",
       "      <th>genres</th>\n",
       "      <th>title</th>\n",
       "    </tr>\n",
       "  </thead>\n",
       "  <tbody>\n",
       "    <tr>\n",
       "      <th>0</th>\n",
       "      <td>In 22nd century paraplegic Marine dispatched m...</td>\n",
       "      <td>[Action, Adventure, Fantasy, Science Fiction]</td>\n",
       "      <td>Avatar</td>\n",
       "    </tr>\n",
       "    <tr>\n",
       "      <th>1</th>\n",
       "      <td>In 22nd century paraplegic Marine dispatched m...</td>\n",
       "      <td>[Adventure, Fantasy, Action]</td>\n",
       "      <td>Pirates of the Caribbean: At World's End</td>\n",
       "    </tr>\n",
       "    <tr>\n",
       "      <th>2</th>\n",
       "      <td>In 22nd century paraplegic Marine dispatched m...</td>\n",
       "      <td>[Action, Adventure, Crime]</td>\n",
       "      <td>Spectre</td>\n",
       "    </tr>\n",
       "  </tbody>\n",
       "</table>\n",
       "</div>"
      ],
      "text/plain": [
       "                                            overview  \\\n",
       "0  In 22nd century paraplegic Marine dispatched m...   \n",
       "1  In 22nd century paraplegic Marine dispatched m...   \n",
       "2  In 22nd century paraplegic Marine dispatched m...   \n",
       "\n",
       "                                          genres  \\\n",
       "0  [Action, Adventure, Fantasy, Science Fiction]   \n",
       "1                   [Adventure, Fantasy, Action]   \n",
       "2                     [Action, Adventure, Crime]   \n",
       "\n",
       "                                      title  \n",
       "0                                    Avatar  \n",
       "1  Pirates of the Caribbean: At World's End  \n",
       "2                                   Spectre  "
      ]
     },
     "execution_count": 22,
     "metadata": {},
     "output_type": "execute_result"
    }
   ],
   "source": [
    "filmes_balanceados.head(3)"
   ]
  },
  {
   "cell_type": "code",
   "execution_count": 23,
   "metadata": {},
   "outputs": [
    {
     "data": {
      "text/html": [
       "<div>\n",
       "<style scoped>\n",
       "    .dataframe tbody tr th:only-of-type {\n",
       "        vertical-align: middle;\n",
       "    }\n",
       "\n",
       "    .dataframe tbody tr th {\n",
       "        vertical-align: top;\n",
       "    }\n",
       "\n",
       "    .dataframe thead th {\n",
       "        text-align: right;\n",
       "    }\n",
       "</style>\n",
       "<table border=\"1\" class=\"dataframe\">\n",
       "  <thead>\n",
       "    <tr style=\"text-align: right;\">\n",
       "      <th></th>\n",
       "      <th>overview</th>\n",
       "      <th>genres</th>\n",
       "      <th>title</th>\n",
       "    </tr>\n",
       "  </thead>\n",
       "  <tbody>\n",
       "    <tr>\n",
       "      <th>12</th>\n",
       "      <td>Following death District Attorney Harvey Dent ...</td>\n",
       "      <td>[Drama]</td>\n",
       "      <td>The Dark Knight Rises</td>\n",
       "    </tr>\n",
       "    <tr>\n",
       "      <th>74</th>\n",
       "      <td>In 1933 New York overly ambitious movie produc...</td>\n",
       "      <td>[Drama]</td>\n",
       "      <td>King Kong</td>\n",
       "    </tr>\n",
       "    <tr>\n",
       "      <th>76</th>\n",
       "      <td>84 year later 101 year old woman named Rose De...</td>\n",
       "      <td>[Drama]</td>\n",
       "      <td>Titanic</td>\n",
       "    </tr>\n",
       "  </tbody>\n",
       "</table>\n",
       "</div>"
      ],
      "text/plain": [
       "                                             overview   genres  \\\n",
       "12  Following death District Attorney Harvey Dent ...  [Drama]   \n",
       "74  In 1933 New York overly ambitious movie produc...  [Drama]   \n",
       "76  84 year later 101 year old woman named Rose De...  [Drama]   \n",
       "\n",
       "                    title  \n",
       "12  The Dark Knight Rises  \n",
       "74              King Kong  \n",
       "76                Titanic  "
      ]
     },
     "execution_count": 23,
     "metadata": {},
     "output_type": "execute_result"
    }
   ],
   "source": [
    "\n",
    "df_upsampled.head(3)"
   ]
  },
  {
   "cell_type": "code",
   "execution_count": 24,
   "metadata": {},
   "outputs": [
    {
     "name": "stderr",
     "output_type": "stream",
     "text": [
      "[nltk_data] Downloading package stopwords to /home/igor/nltk_data...\n",
      "[nltk_data]   Package stopwords is already up-to-date!\n"
     ]
    }
   ],
   "source": [
    "\n",
    "nltk.download('stopwords') \n",
    "words = stopwords.words(\"english\") \n",
    "pipeline = Pipeline([\n",
    "('tfidf', TfidfVectorizer(stop_words=words)),\n",
    "('clf',  OneVsRestClassifier(ExtraTreesClassifier()) ),\n",
    "    \n",
    "])\n",
    "parameters = { \n",
    "    'tfidf__ngram_range': [(1, 1), (1, 2), (1, 3)],\n",
    "    'tfidf__max_features': [ 10000, 20000,30000],\n",
    "    \"clf__estimator__n_estimators\": [20,25,30,35],\n",
    "    \"clf__estimator__class_weight\": ['balanced' ],\n",
    "    'clf__estimator__max_depth':[20,30],\n",
    "}"
   ]
  },
  {
   "cell_type": "markdown",
   "metadata": {},
   "source": [
    "# Sem tratamento"
   ]
  },
  {
   "cell_type": "code",
   "execution_count": 25,
   "metadata": {},
   "outputs": [],
   "source": [
    " \n",
    "multilabel_binarizer = MultiLabelBinarizer()\n",
    "# multilabel_binarizer.fit(title_df['genres'])\n",
    "\n",
    "# transform target variable\n",
    "y = multilabel_binarizer.fit_transform( title_df['genres']  )\n",
    "\n",
    "# split the data, leave 1/3 out for testing\n",
    "data_x = title_df[['overview']]\n",
    "data_y = y #title_df[[ 'genres' ]]\n",
    "# stratified_split = StratifiedShuffleSplit(n_splits=2, test_size=0.33)\n",
    "xtrain, xval, ytrain, yval = model_selection.train_test_split(data_x, data_y, test_size=0.33, random_state=512)\n",
    "# transform matrix of plots into lists to pass to a TfidfVectorizer\n",
    "train_x = [x[0].strip() for x in xtrain.values.tolist()]\n",
    "test_x = [x[0].strip() for x in xval.values.tolist()] "
   ]
  },
  {
   "cell_type": "code",
   "execution_count": 26,
   "metadata": {},
   "outputs": [
    {
     "data": {
      "text/plain": [
       "array(['Action', 'Adventure', 'Animation', 'Comedy', 'Crime',\n",
       "       'Documentary', 'Drama', 'Family', 'Fantasy', 'Foreign', 'History',\n",
       "       'Horror', 'Music', 'Mystery', 'Romance', 'Science Fiction',\n",
       "       'TV Movie', 'Thriller', 'War', 'Western'], dtype=object)"
      ]
     },
     "execution_count": 26,
     "metadata": {},
     "output_type": "execute_result"
    }
   ],
   "source": [
    "multilabel_binarizer.classes_"
   ]
  },
  {
   "cell_type": "code",
   "execution_count": 27,
   "metadata": {},
   "outputs": [
    {
     "name": "stdout",
     "output_type": "stream",
     "text": [
      "Fitting 2 folds for each of 72 candidates, totalling 144 fits\n"
     ]
    },
    {
     "name": "stderr",
     "output_type": "stream",
     "text": [
      "[Parallel(n_jobs=2)]: Using backend LokyBackend with 2 concurrent workers.\n",
      "[Parallel(n_jobs=2)]: Done  28 tasks      | elapsed:   54.1s\n",
      "[Parallel(n_jobs=2)]: Done 124 tasks      | elapsed:  3.8min\n",
      "[Parallel(n_jobs=2)]: Done 144 out of 144 | elapsed:  4.5min finished\n"
     ]
    },
    {
     "name": "stdout",
     "output_type": "stream",
     "text": [
      "Best parameters set:\n",
      "[('tfidf', TfidfVectorizer(max_features=20000,\n",
      "                stop_words=['i', 'me', 'my', 'myself', 'we', 'our', 'ours',\n",
      "                            'ourselves', 'you', \"you're\", \"you've\", \"you'll\",\n",
      "                            \"you'd\", 'your', 'yours', 'yourself', 'yourselves',\n",
      "                            'he', 'him', 'his', 'himself', 'she', \"she's\",\n",
      "                            'her', 'hers', 'herself', 'it', \"it's\", 'its',\n",
      "                            'itself', ...])), ('clf', OneVsRestClassifier(estimator=ExtraTreesClassifier(class_weight='balanced',\n",
      "                                                   max_depth=30,\n",
      "                                                   n_estimators=35)))]\n"
     ]
    }
   ],
   "source": [
    "\n",
    "grid_search_tune = GridSearchCV(\n",
    "pipeline, parameters, cv=2, n_jobs=2, verbose=3)\n",
    "grid_search_tune.fit(train_x, ytrain )  \n",
    "print\n",
    "print(\"Best parameters set:\")\n",
    "print (grid_search_tune.best_estimator_.steps)"
   ]
  },
  {
   "cell_type": "code",
   "execution_count": 28,
   "metadata": {},
   "outputs": [
    {
     "data": {
      "text/plain": [
       "array(['Action', 'Adventure', 'Animation', 'Comedy', 'Crime',\n",
       "       'Documentary', 'Drama', 'Family', 'Fantasy', 'Foreign', 'History',\n",
       "       'Horror', 'Music', 'Mystery', 'Romance', 'Science Fiction',\n",
       "       'TV Movie', 'Thriller', 'War', 'Western'], dtype=object)"
      ]
     },
     "execution_count": 28,
     "metadata": {},
     "output_type": "execute_result"
    }
   ],
   "source": [
    "multilabel_binarizer.classes_"
   ]
  },
  {
   "cell_type": "code",
   "execution_count": 29,
   "metadata": {},
   "outputs": [
    {
     "name": "stdout",
     "output_type": "stream",
     "text": [
      "________________________________________________________________________________________________________________________\n",
      "Training: \n",
      "Pipeline(steps=[('tfidf',\n",
      "                 TfidfVectorizer(max_features=20000,\n",
      "                                 stop_words=['i', 'me', 'my', 'myself', 'we',\n",
      "                                             'our', 'ours', 'ourselves', 'you',\n",
      "                                             \"you're\", \"you've\", \"you'll\",\n",
      "                                             \"you'd\", 'your', 'yours',\n",
      "                                             'yourself', 'yourselves', 'he',\n",
      "                                             'him', 'his', 'himself', 'she',\n",
      "                                             \"she's\", 'her', 'hers', 'herself',\n",
      "                                             'it', \"it's\", 'its', 'itself', ...])),\n",
      "                ('clf',\n",
      "                 OneVsRestClassifier(estimator=ExtraTreesClassifier(class_weight='balanced',\n",
      "                                                                    max_depth=30,\n",
      "                                                                    n_estimators=35)))])\n",
      "Treino: 0.000s\n",
      "testes:  0.810s\n",
      "f1_score:   0.500\n",
      "\n",
      "Accuracy: 0.09\n",
      "\n",
      "\n",
      "Precisao: 0.55\n",
      "\n",
      "Relatório de Classificação:\n",
      "                 precision    recall  f1-score   support\n",
      "\n",
      "         Action       0.54      0.56      0.55       377\n",
      "      Adventure       0.43      0.46      0.45       246\n",
      "      Animation       0.67      0.12      0.21        66\n",
      "         Comedy       0.55      0.59      0.57       541\n",
      "          Crime       0.54      0.41      0.46       241\n",
      "    Documentary       0.00      0.00      0.00        43\n",
      "          Drama       0.66      0.61      0.63       768\n",
      "         Family       0.47      0.29      0.36       136\n",
      "        Fantasy       0.45      0.32      0.37       128\n",
      "        Foreign       0.00      0.00      0.00        13\n",
      "        History       0.50      0.07      0.13        68\n",
      "         Horror       0.57      0.32      0.41       183\n",
      "          Music       0.67      0.07      0.13        54\n",
      "        Mystery       0.41      0.09      0.15       132\n",
      "        Romance       0.48      0.52      0.50       296\n",
      "Science Fiction       0.64      0.38      0.48       180\n",
      "       TV Movie       0.00      0.00      0.00         3\n",
      "       Thriller       0.52      0.50      0.51       443\n",
      "            War       0.67      0.09      0.16        44\n",
      "        Western       0.00      0.00      0.00        25\n",
      "\n",
      "      micro avg       0.55      0.46      0.50      3987\n",
      "      macro avg       0.44      0.27      0.30      3987\n",
      "   weighted avg       0.54      0.46      0.48      3987\n",
      "    samples avg       0.52      0.48      0.46      3987\n",
      "\n",
      "<built-in function id>\n",
      "['ExtraTreesClassifier-semtratamento-tmdb', 0.4995220538030861, 0.5482613908872902, 8.940696716308594e-05, 55555, '06/10/2020 10:10:56']\n",
      "<built-in function id>\n"
     ]
    }
   ],
   "source": [
    "\n",
    "clf  = grid_search_tune.best_estimator_\n",
    "classes=multilabel_binarizer.classes_\n",
    "print('_' * 120)\n",
    "print(\"Training: \")\n",
    "print(clf)\n",
    "t0 = time()  \n",
    "train_time = time() - t0\n",
    "print(\"Treino: %0.3fs\" % train_time)\n",
    "\n",
    "t0 = time()\n",
    "pred = clf.predict(test_x)\n",
    "test_time = time() - t0\n",
    "print(\"testes:  %0.3fs\" % test_time)\n",
    "\n",
    "score = f1_score(yval, pred, average=\"micro\")\n",
    "precision = precision_score(yval, pred, average='micro')\n",
    "print(\"f1_score:   %0.3f\" % score)\n",
    "\n",
    "print('\\nAccuracy: {:.2f}\\n'.format(accuracy_score(yval, pred)))\n",
    "print('\\nPrecisao: {:.2f}\\n'.format(precision)) \n",
    "\n",
    "print(\"Relatório de Classificação:\")\n",
    "print(classification_report(yval, pred,\n",
    "#                                             labels=[1, 2, 3,4,5,6,7,8,9,10,11,12,13,14,15,16,17,18,19]\n",
    "                                        target_names=classes))\n",
    "\n",
    "# print(\"confusion matrix:\") \n",
    "# print(confusion_matrix(yvalb2.argmax(axis=1), pred.argmax(axis=1)))\n",
    "\n",
    "\n",
    "\n",
    "\n",
    "clf_descr = 'ExtraTreesClassifier-semtratamento-tmdb'#str(clf).split('(')[0]\n",
    "\n",
    "test_time=55555    \n",
    "results.append([clf_descr, score,precision, train_time, test_time])  \n",
    "resultsLogisticRegression.append([clf_descr, score,precision, train_time, test_time])  \n",
    "salvar_dado([clf_descr, score,precision, train_time, test_time])\n"
   ]
  },
  {
   "cell_type": "code",
   "execution_count": 30,
   "metadata": {},
   "outputs": [
    {
     "data": {
      "text/html": [
       "<div>\n",
       "<style scoped>\n",
       "    .dataframe tbody tr th:only-of-type {\n",
       "        vertical-align: middle;\n",
       "    }\n",
       "\n",
       "    .dataframe tbody tr th {\n",
       "        vertical-align: top;\n",
       "    }\n",
       "\n",
       "    .dataframe thead th {\n",
       "        text-align: right;\n",
       "    }\n",
       "</style>\n",
       "<table border=\"1\" class=\"dataframe\">\n",
       "  <thead>\n",
       "    <tr style=\"text-align: right;\">\n",
       "      <th></th>\n",
       "      <th>overview</th>\n",
       "      <th>genres</th>\n",
       "      <th>title</th>\n",
       "    </tr>\n",
       "  </thead>\n",
       "  <tbody>\n",
       "    <tr>\n",
       "      <th>0</th>\n",
       "      <td>In the 22nd century, a paraplegic Marine is di...</td>\n",
       "      <td>Action</td>\n",
       "      <td>Avatar</td>\n",
       "    </tr>\n",
       "    <tr>\n",
       "      <th>1</th>\n",
       "      <td>In the 22nd century, a paraplegic Marine is di...</td>\n",
       "      <td>Adventure</td>\n",
       "      <td>Avatar</td>\n",
       "    </tr>\n",
       "    <tr>\n",
       "      <th>2</th>\n",
       "      <td>In the 22nd century, a paraplegic Marine is di...</td>\n",
       "      <td>Fantasy</td>\n",
       "      <td>Avatar</td>\n",
       "    </tr>\n",
       "  </tbody>\n",
       "</table>\n",
       "</div>"
      ],
      "text/plain": [
       "                                            overview     genres   title\n",
       "0  In the 22nd century, a paraplegic Marine is di...     Action  Avatar\n",
       "1  In the 22nd century, a paraplegic Marine is di...  Adventure  Avatar\n",
       "2  In the 22nd century, a paraplegic Marine is di...    Fantasy  Avatar"
      ]
     },
     "execution_count": 30,
     "metadata": {},
     "output_type": "execute_result"
    }
   ],
   "source": [
    "filmes_balanceados2.head(3)"
   ]
  },
  {
   "cell_type": "markdown",
   "metadata": {},
   "source": [
    "# Tratamento Parcial"
   ]
  },
  {
   "cell_type": "code",
   "execution_count": 31,
   "metadata": {},
   "outputs": [
    {
     "data": {
      "text/plain": [
       "0"
      ]
     },
     "execution_count": 31,
     "metadata": {},
     "output_type": "execute_result"
    }
   ],
   "source": [
    "filmes_balanceados2.genres.isna().sum()"
   ]
  },
  {
   "cell_type": "code",
   "execution_count": 32,
   "metadata": {},
   "outputs": [
    {
     "data": {
      "text/plain": [
       "(12160, 3)"
      ]
     },
     "execution_count": 32,
     "metadata": {},
     "output_type": "execute_result"
    }
   ],
   "source": [
    "filmes_balanceados2.shape"
   ]
  },
  {
   "cell_type": "code",
   "execution_count": 33,
   "metadata": {},
   "outputs": [
    {
     "data": {
      "text/plain": [
       "0                 [Action]\n",
       "1              [Adventure]\n",
       "2                [Fantasy]\n",
       "3        [Science Fiction]\n",
       "4              [Adventure]\n",
       "               ...        \n",
       "12155             [Comedy]\n",
       "12156              [Drama]\n",
       "12157            [Romance]\n",
       "12158           [TV Movie]\n",
       "12159        [Documentary]\n",
       "Name: genres, Length: 12160, dtype: object"
      ]
     },
     "execution_count": 33,
     "metadata": {},
     "output_type": "execute_result"
    }
   ],
   "source": [
    "filmes_balanceados2['genres'] = filmes_balanceados2['genres'].map(lambda x: x.split(','))\n",
    "filmes_balanceados2['genres']"
   ]
  },
  {
   "cell_type": "code",
   "execution_count": 34,
   "metadata": {},
   "outputs": [],
   "source": [
    " \n",
    "multilabel_binarizer = MultiLabelBinarizer()\n",
    "# multilabel_binarizer.fit(title_df['genres'])\n",
    "\n",
    "# transform target variable\n",
    "y = multilabel_binarizer.fit_transform( filmes_balanceados2['genres']  )\n",
    "\n",
    "# split the data, leave 1/3 out for testing\n",
    "data_x = filmes_balanceados2[['overview']]\n",
    "data_y = y #title_df[[ 'genres' ]]\n",
    "# stratified_split = StratifiedShuffleSplit(n_splits=2, test_size=0.33)\n",
    "xtrain, xval, ytrain, yval = model_selection.train_test_split(data_x,\n",
    "                                                              data_y, test_size=0.33, random_state=512)\n",
    "# transform matrix of plots into lists to pass to a TfidfVectorizer\n",
    "train_x = [x[0].strip() for x in xtrain.values.astype(str).tolist()]\n",
    "test_x = [x[0].strip() for x in xval.values.tolist()] "
   ]
  },
  {
   "cell_type": "code",
   "execution_count": 35,
   "metadata": {},
   "outputs": [
    {
     "data": {
      "text/plain": [
       "array(['Action', 'Adventure', 'Animation', 'Comedy', 'Crime',\n",
       "       'Documentary', 'Drama', 'Family', 'Fantasy', 'Foreign', 'History',\n",
       "       'Horror', 'Music', 'Mystery', 'Romance', 'Science Fiction',\n",
       "       'TV Movie', 'Thriller', 'War', 'Western'], dtype=object)"
      ]
     },
     "execution_count": 35,
     "metadata": {},
     "output_type": "execute_result"
    }
   ],
   "source": [
    "multilabel_binarizer.classes_"
   ]
  },
  {
   "cell_type": "code",
   "execution_count": 106,
   "metadata": {},
   "outputs": [],
   "source": [
    "# filmes_balanceados2['genres'] = filmes_balanceados2['genres'].map(lambda x: x.split(','))\n",
    "\n",
    "# # split the data, leave 1/3 out for testing\n",
    "# data_x = title_df[['overview']]\n",
    "# data_y = title_df[[ 'genres' ]]\n",
    "# # stratified_split = StratifiedShuffleSplit(n_splits=2, test_size=0.33)\n",
    "# xtrain, xval, ytrain, yval = model_selection.train_test_split(data_x, data_y, test_size=0.33, random_state=512)\n",
    "# # transform matrix of plots into lists to pass to a TfidfVectorizer\n",
    "# train_x = [x[0].strip() for x in xtrain.values.tolist()]\n",
    "# test_x = [x[0].strip() for x in xval.values.tolist()] "
   ]
  },
  {
   "cell_type": "code",
   "execution_count": 37,
   "metadata": {},
   "outputs": [
    {
     "data": {
      "text/plain": [
       "array(['Action', 'Adventure', 'Animation', 'Comedy', 'Crime',\n",
       "       'Documentary', 'Drama', 'Family', 'Fantasy', 'Foreign', 'History',\n",
       "       'Horror', 'Music', 'Mystery', 'Romance', 'Science Fiction',\n",
       "       'TV Movie', 'Thriller', 'War', 'Western'], dtype=object)"
      ]
     },
     "execution_count": 37,
     "metadata": {},
     "output_type": "execute_result"
    }
   ],
   "source": [
    "multilabel_binarizer.classes_"
   ]
  },
  {
   "cell_type": "code",
   "execution_count": 38,
   "metadata": {},
   "outputs": [
    {
     "name": "stdout",
     "output_type": "stream",
     "text": [
      "Fitting 2 folds for each of 72 candidates, totalling 144 fits\n"
     ]
    },
    {
     "name": "stderr",
     "output_type": "stream",
     "text": [
      "[Parallel(n_jobs=2)]: Using backend LokyBackend with 2 concurrent workers.\n",
      "[Parallel(n_jobs=2)]: Done  28 tasks      | elapsed:  7.2min\n",
      "[Parallel(n_jobs=2)]: Done 124 tasks      | elapsed: 51.3min\n",
      "[Parallel(n_jobs=2)]: Done 144 out of 144 | elapsed: 67.2min finished\n"
     ]
    },
    {
     "name": "stdout",
     "output_type": "stream",
     "text": [
      "Best parameters set:\n",
      "[('tfidf', TfidfVectorizer(max_features=10000, ngram_range=(1, 3),\n",
      "                stop_words=['i', 'me', 'my', 'myself', 'we', 'our', 'ours',\n",
      "                            'ourselves', 'you', \"you're\", \"you've\", \"you'll\",\n",
      "                            \"you'd\", 'your', 'yours', 'yourself', 'yourselves',\n",
      "                            'he', 'him', 'his', 'himself', 'she', \"she's\",\n",
      "                            'her', 'hers', 'herself', 'it', \"it's\", 'its',\n",
      "                            'itself', ...])), ('clf', OneVsRestClassifier(estimator=ExtraTreesClassifier(class_weight='balanced',\n",
      "                                                   max_depth=30,\n",
      "                                                   n_estimators=25)))]\n"
     ]
    }
   ],
   "source": [
    "\n",
    "grid_search_tune = GridSearchCV(\n",
    "pipeline, parameters, cv=2, n_jobs=2, verbose=3)\n",
    "grid_search_tune.fit(train_x, ytrain )  \n",
    "print\n",
    "print(\"Best parameters set:\")\n",
    "print (grid_search_tune.best_estimator_.steps)"
   ]
  },
  {
   "cell_type": "code",
   "execution_count": 39,
   "metadata": {},
   "outputs": [
    {
     "name": "stdout",
     "output_type": "stream",
     "text": [
      "________________________________________________________________________________________________________________________\n",
      "Training: \n",
      "Pipeline(steps=[('tfidf',\n",
      "                 TfidfVectorizer(max_features=10000, ngram_range=(1, 3),\n",
      "                                 stop_words=['i', 'me', 'my', 'myself', 'we',\n",
      "                                             'our', 'ours', 'ourselves', 'you',\n",
      "                                             \"you're\", \"you've\", \"you'll\",\n",
      "                                             \"you'd\", 'your', 'yours',\n",
      "                                             'yourself', 'yourselves', 'he',\n",
      "                                             'him', 'his', 'himself', 'she',\n",
      "                                             \"she's\", 'her', 'hers', 'herself',\n",
      "                                             'it', \"it's\", 'its', 'itself', ...])),\n",
      "                ('clf',\n",
      "                 OneVsRestClassifier(estimator=ExtraTreesClassifier(class_weight='balanced',\n",
      "                                                                    max_depth=30,\n",
      "                                                                    n_estimators=25)))])\n",
      "Treino: 0.000s\n",
      "testes:  1.522s\n",
      "f1_score:   0.115\n",
      "\n",
      "Accuracy: 0.02\n",
      "\n",
      "\n",
      "Precisao: 0.09\n",
      "\n",
      "Relatório de Classificação:\n",
      "                 precision    recall  f1-score   support\n",
      "\n",
      "         Action       0.05      0.08      0.06       404\n",
      "      Adventure       0.04      0.08      0.05       277\n",
      "      Animation       0.00      0.00      0.00        85\n",
      "         Comedy       0.14      0.30      0.19       555\n",
      "          Crime       0.03      0.05      0.04       221\n",
      "    Documentary       0.08      0.02      0.04        44\n",
      "          Drama       0.19      0.39      0.26       766\n",
      "         Family       0.01      0.02      0.02       169\n",
      "        Fantasy       0.02      0.05      0.03       116\n",
      "        Foreign       0.00      0.00      0.00         7\n",
      "        History       0.03      0.04      0.03        77\n",
      "         Horror       0.05      0.07      0.06       162\n",
      "          Music       0.00      0.00      0.00        59\n",
      "        Mystery       0.01      0.01      0.01       105\n",
      "        Romance       0.08      0.14      0.10       301\n",
      "Science Fiction       0.04      0.07      0.05       188\n",
      "       TV Movie       0.00      0.00      0.00         1\n",
      "       Thriller       0.05      0.11      0.07       393\n",
      "            War       0.04      0.06      0.05        50\n",
      "        Western       0.00      0.00      0.00        33\n",
      "\n",
      "      micro avg       0.09      0.17      0.11      4013\n",
      "      macro avg       0.04      0.08      0.05      4013\n",
      "   weighted avg       0.08      0.17      0.11      4013\n",
      "    samples avg       0.08      0.17      0.10      4013\n",
      "\n",
      "<built-in function id>\n",
      "['ExtraTreesClassifier-tratamentoParcial-tmdb', 0.1149843912591051, 0.08817661923128076, 0.00010514259338378906, 55555, '06/10/2020 10:10:56']\n",
      "<built-in function id>\n"
     ]
    }
   ],
   "source": [
    "\n",
    "clf  = grid_search_tune.best_estimator_\n",
    "classes=multilabel_binarizer.classes_\n",
    "print('_' * 120)\n",
    "print(\"Training: \")\n",
    "print(clf)\n",
    "t0 = time()  \n",
    "train_time = time() - t0\n",
    "print(\"Treino: %0.3fs\" % train_time)\n",
    "\n",
    "t0 = time()\n",
    "pred = clf.predict(test_x)\n",
    "test_time = time() - t0\n",
    "print(\"testes:  %0.3fs\" % test_time)\n",
    "\n",
    "score = f1_score(yval, pred, average=\"micro\")\n",
    "precision = precision_score(yval, pred, average='micro')\n",
    "print(\"f1_score:   %0.3f\" % score)\n",
    "\n",
    "print('\\nAccuracy: {:.2f}\\n'.format(accuracy_score(yval, pred)))\n",
    "print('\\nPrecisao: {:.2f}\\n'.format(precision)) \n",
    "\n",
    "print(\"Relatório de Classificação:\")\n",
    "print(classification_report(yval, pred,\n",
    "#                                             labels=[1, 2, 3,4,5,6,7,8,9,10,11,12,13,14,15,16,17,18,19]\n",
    "                                        target_names=classes))\n",
    "\n",
    "# print(\"confusion matrix:\") \n",
    "# print(confusion_matrix(yvalb2.argmax(axis=1), pred.argmax(axis=1)))\n",
    "\n",
    "\n",
    "\n",
    "\n",
    "clf_descr = 'ExtraTreesClassifier-tratamentoParcial-tmdb'#str(clf).split('(')[0]\n",
    "\n",
    "test_time=55555    \n",
    "results.append([clf_descr, score,precision, train_time, test_time])  \n",
    "resultsLogisticRegression.append([clf_descr, score,precision, train_time, test_time])  \n",
    "salvar_dado([clf_descr, score,precision, train_time, test_time])\n"
   ]
  },
  {
   "cell_type": "markdown",
   "metadata": {},
   "source": [
    "# Tratamento UPsampled"
   ]
  },
  {
   "cell_type": "code",
   "execution_count": 40,
   "metadata": {},
   "outputs": [],
   "source": [
    "# filmes_balanceados2['genres'] = filmes_balanceados2['genres'].map(lambda x: x.split(','))\n",
    "\n",
    "multilabel_binarizer = MultiLabelBinarizer()\n",
    "# multilabel_binarizer.fit(title_df['genres'])\n",
    "\n",
    "# transform target variable\n",
    "y = multilabel_binarizer.fit_transform( df_upsampled['genres']  )\n",
    "\n",
    "# split the data, leave 1/3 out for testing\n",
    "data_x = df_upsampled[['overview']]\n",
    "data_y = y #title_df[[ 'genres' ]]\n",
    "# stratified_split = StratifiedShuffleSplit(n_splits=2, test_size=0.33)\n",
    "xtrain, xval, ytrain, yval = model_selection.train_test_split(data_x, data_y, test_size=0.33, random_state=512)\n",
    "# transform matrix of plots into lists to pass to a TfidfVectorizer\n",
    "train_x = [x[0].strip() for x in xtrain.values.tolist()]\n",
    "test_x = [x[0].strip() for x in xval.values.tolist()] "
   ]
  },
  {
   "cell_type": "code",
   "execution_count": 41,
   "metadata": {},
   "outputs": [
    {
     "data": {
      "text/plain": [
       "array(['Action', 'Adventure', 'Animation', 'Comedy', 'Crime',\n",
       "       'Documentary', 'Drama', 'Family', 'Fantasy', 'Foreign', 'History',\n",
       "       'Horror', 'Music', 'Mystery', 'Romance', 'Science Fiction',\n",
       "       'TV Movie', 'Thriller', 'War', 'Western'], dtype=object)"
      ]
     },
     "execution_count": 41,
     "metadata": {},
     "output_type": "execute_result"
    }
   ],
   "source": [
    "multilabel_binarizer.classes_"
   ]
  },
  {
   "cell_type": "code",
   "execution_count": 42,
   "metadata": {},
   "outputs": [
    {
     "name": "stdout",
     "output_type": "stream",
     "text": [
      "Fitting 2 folds for each of 72 candidates, totalling 144 fits\n"
     ]
    },
    {
     "name": "stderr",
     "output_type": "stream",
     "text": [
      "[Parallel(n_jobs=2)]: Using backend LokyBackend with 2 concurrent workers.\n",
      "[Parallel(n_jobs=2)]: Done  28 tasks      | elapsed: 34.4min\n",
      "[Parallel(n_jobs=2)]: Done 124 tasks      | elapsed: 109.0min\n",
      "[Parallel(n_jobs=2)]: Done 144 out of 144 | elapsed: 133.6min finished\n"
     ]
    },
    {
     "name": "stdout",
     "output_type": "stream",
     "text": [
      "Best parameters set:\n",
      "[('tfidf', TfidfVectorizer(max_features=30000, ngram_range=(1, 2),\n",
      "                stop_words=['i', 'me', 'my', 'myself', 'we', 'our', 'ours',\n",
      "                            'ourselves', 'you', \"you're\", \"you've\", \"you'll\",\n",
      "                            \"you'd\", 'your', 'yours', 'yourself', 'yourselves',\n",
      "                            'he', 'him', 'his', 'himself', 'she', \"she's\",\n",
      "                            'her', 'hers', 'herself', 'it', \"it's\", 'its',\n",
      "                            'itself', ...])), ('clf', OneVsRestClassifier(estimator=ExtraTreesClassifier(class_weight='balanced',\n",
      "                                                   max_depth=30,\n",
      "                                                   n_estimators=35)))]\n"
     ]
    }
   ],
   "source": [
    "\n",
    "grid_search_tune = GridSearchCV(\n",
    "pipeline, parameters, cv=2, n_jobs=2, verbose=3)\n",
    "grid_search_tune.fit(train_x, ytrain )  \n",
    "print\n",
    "print(\"Best parameters set:\")\n",
    "print (grid_search_tune.best_estimator_.steps)"
   ]
  },
  {
   "cell_type": "code",
   "execution_count": 43,
   "metadata": {},
   "outputs": [
    {
     "name": "stdout",
     "output_type": "stream",
     "text": [
      "________________________________________________________________________________________________________________________\n",
      "Training: \n",
      "Pipeline(steps=[('tfidf',\n",
      "                 TfidfVectorizer(max_features=30000, ngram_range=(1, 2),\n",
      "                                 stop_words=['i', 'me', 'my', 'myself', 'we',\n",
      "                                             'our', 'ours', 'ourselves', 'you',\n",
      "                                             \"you're\", \"you've\", \"you'll\",\n",
      "                                             \"you'd\", 'your', 'yours',\n",
      "                                             'yourself', 'yourselves', 'he',\n",
      "                                             'him', 'his', 'himself', 'she',\n",
      "                                             \"she's\", 'her', 'hers', 'herself',\n",
      "                                             'it', \"it's\", 'its', 'itself', ...])),\n",
      "                ('clf',\n",
      "                 OneVsRestClassifier(estimator=ExtraTreesClassifier(class_weight='balanced',\n",
      "                                                                    max_depth=30,\n",
      "                                                                    n_estimators=35)))])\n",
      "Treino: 0.000s\n",
      "testes:  8.287s\n",
      "f1_score:   0.455\n",
      "\n",
      "Accuracy: 0.16\n",
      "\n",
      "\n",
      "Precisao: 0.32\n",
      "\n",
      "Relatório de Classificação:\n",
      "                 precision    recall  f1-score   support\n",
      "\n",
      "         Action       0.17      0.68      0.27       734\n",
      "      Adventure       0.22      0.72      0.33       782\n",
      "      Animation       0.51      0.66      0.58       737\n",
      "         Comedy       0.18      0.67      0.28       783\n",
      "          Crime       0.37      0.77      0.50       757\n",
      "    Documentary       0.86      0.79      0.83       774\n",
      "          Drama       0.07      0.54      0.12       775\n",
      "         Family       0.33      0.76      0.46       791\n",
      "        Fantasy       0.37      0.80      0.51       718\n",
      "        Foreign       0.91      0.98      0.94       734\n",
      "        History       0.54      0.79      0.65       740\n",
      "         Horror       0.45      0.78      0.57       771\n",
      "          Music       0.68      0.81      0.74       741\n",
      "        Mystery       0.50      0.87      0.63       763\n",
      "        Romance       0.30      0.79      0.43       784\n",
      "Science Fiction       0.37      0.77      0.50       766\n",
      "       TV Movie       0.98      1.00      0.99       772\n",
      "       Thriller       0.14      0.80      0.24       738\n",
      "            War       0.65      0.79      0.72       757\n",
      "        Western       0.83      0.82      0.83       744\n",
      "\n",
      "      micro avg       0.32      0.78      0.46     15161\n",
      "      macro avg       0.47      0.78      0.56     15161\n",
      "   weighted avg       0.47      0.78      0.55     15161\n",
      "    samples avg       0.39      0.78      0.49     15161\n",
      "\n",
      "<built-in function id>\n",
      "['ExtraTreesClassifier-upsampled-tmdb', 0.45507620570723906, 0.3214382927758724, 7.915496826171875e-05, 55555, '06/10/2020 10:10:56']\n",
      "<built-in function id>\n"
     ]
    }
   ],
   "source": [
    "\n",
    "clf  = grid_search_tune.best_estimator_\n",
    "classes=multilabel_binarizer.classes_\n",
    "print('_' * 120)\n",
    "print(\"Training: \")\n",
    "print(clf)\n",
    "t0 = time()  \n",
    "train_time = time() - t0\n",
    "print(\"Treino: %0.3fs\" % train_time)\n",
    "\n",
    "t0 = time()\n",
    "pred = clf.predict(test_x)\n",
    "test_time = time() - t0\n",
    "print(\"testes:  %0.3fs\" % test_time)\n",
    "\n",
    "score = f1_score(yval, pred, average=\"micro\")\n",
    "precision = precision_score(yval, pred, average='micro')\n",
    "print(\"f1_score:   %0.3f\" % score)\n",
    "\n",
    "print('\\nAccuracy: {:.2f}\\n'.format(accuracy_score(yval, pred)))\n",
    "print('\\nPrecisao: {:.2f}\\n'.format(precision)) \n",
    "\n",
    "print(\"Relatório de Classificação:\")\n",
    "print(classification_report(yval, pred,\n",
    "#                                             labels=[1, 2, 3,4,5,6,7,8,9,10,11,12,13,14,15,16,17,18,19]\n",
    "                                        target_names=classes))\n",
    "\n",
    "# print(\"confusion matrix:\") \n",
    "# print(confusion_matrix(yvalb2.argmax(axis=1), pred.argmax(axis=1)))\n",
    "\n",
    "\n",
    "\n",
    "\n",
    "clf_descr = 'ExtraTreesClassifier-upsampled-tmdb'#str(clf).split('(')[0]\n",
    "\n",
    "test_time=55555    \n",
    "results.append([clf_descr, score,precision, train_time, test_time])  \n",
    "resultsLogisticRegression.append([clf_descr, score,precision, train_time, test_time])  \n",
    "salvar_dado([clf_descr, score,precision, train_time, test_time])\n"
   ]
  },
  {
   "cell_type": "code",
   "execution_count": null,
   "metadata": {},
   "outputs": [],
   "source": []
  },
  {
   "cell_type": "code",
   "execution_count": null,
   "metadata": {},
   "outputs": [],
   "source": []
  },
  {
   "cell_type": "code",
   "execution_count": null,
   "metadata": {},
   "outputs": [],
   "source": []
  },
  {
   "cell_type": "markdown",
   "metadata": {},
   "source": [
    "# MovieLens"
   ]
  },
  {
   "cell_type": "code",
   "execution_count": 44,
   "metadata": {},
   "outputs": [],
   "source": [
    "movies = pd.read_csv('../../../dados/movielens/filmes_com_overview.csv')"
   ]
  },
  {
   "cell_type": "code",
   "execution_count": 45,
   "metadata": {},
   "outputs": [],
   "source": [
    "# movies = movies['genres != (no genres listed)']:\n",
    "movies.drop(movies[movies.genres == '(no genres listed)'].index, inplace=True)"
   ]
  },
  {
   "cell_type": "code",
   "execution_count": 46,
   "metadata": {},
   "outputs": [
    {
     "data": {
      "text/plain": [
       "movieId     0\n",
       "title       0\n",
       "genres      0\n",
       "overview    0\n",
       "dtype: int64"
      ]
     },
     "execution_count": 46,
     "metadata": {},
     "output_type": "execute_result"
    }
   ],
   "source": [
    "movies['overview'].fillna('', inplace=True)\n",
    "movies.isnull().sum()"
   ]
  },
  {
   "cell_type": "code",
   "execution_count": 47,
   "metadata": {},
   "outputs": [
    {
     "data": {
      "text/html": [
       "<div>\n",
       "<style scoped>\n",
       "    .dataframe tbody tr th:only-of-type {\n",
       "        vertical-align: middle;\n",
       "    }\n",
       "\n",
       "    .dataframe tbody tr th {\n",
       "        vertical-align: top;\n",
       "    }\n",
       "\n",
       "    .dataframe thead th {\n",
       "        text-align: right;\n",
       "    }\n",
       "</style>\n",
       "<table border=\"1\" class=\"dataframe\">\n",
       "  <thead>\n",
       "    <tr style=\"text-align: right;\">\n",
       "      <th></th>\n",
       "      <th>movieId</th>\n",
       "      <th>title</th>\n",
       "      <th>genres</th>\n",
       "      <th>overview</th>\n",
       "    </tr>\n",
       "  </thead>\n",
       "  <tbody>\n",
       "    <tr>\n",
       "      <th>0</th>\n",
       "      <td>1</td>\n",
       "      <td>Toy Story (1995)</td>\n",
       "      <td>[Adventure, Animation, Children, Comedy, Fantasy]</td>\n",
       "      <td>Led by Woody, Andy's toys live happily in his ...</td>\n",
       "    </tr>\n",
       "    <tr>\n",
       "      <th>1</th>\n",
       "      <td>2</td>\n",
       "      <td>Jumanji (1995)</td>\n",
       "      <td>[Adventure, Children, Fantasy]</td>\n",
       "      <td>When siblings Judy and Peter discover an encha...</td>\n",
       "    </tr>\n",
       "    <tr>\n",
       "      <th>2</th>\n",
       "      <td>3</td>\n",
       "      <td>Grumpier Old Men (1995)</td>\n",
       "      <td>[Comedy, Romance]</td>\n",
       "      <td>A family wedding reignites the ancient feud be...</td>\n",
       "    </tr>\n",
       "  </tbody>\n",
       "</table>\n",
       "</div>"
      ],
      "text/plain": [
       "   movieId                    title  \\\n",
       "0        1         Toy Story (1995)   \n",
       "1        2           Jumanji (1995)   \n",
       "2        3  Grumpier Old Men (1995)   \n",
       "\n",
       "                                              genres  \\\n",
       "0  [Adventure, Animation, Children, Comedy, Fantasy]   \n",
       "1                     [Adventure, Children, Fantasy]   \n",
       "2                                  [Comedy, Romance]   \n",
       "\n",
       "                                            overview  \n",
       "0  Led by Woody, Andy's toys live happily in his ...  \n",
       "1  When siblings Judy and Peter discover an encha...  \n",
       "2  A family wedding reignites the ancient feud be...  "
      ]
     },
     "execution_count": 47,
     "metadata": {},
     "output_type": "execute_result"
    }
   ],
   "source": [
    "movies['genres'] = movies['genres'].map(lambda x: x.split('|'))\n",
    "movies.head(3)"
   ]
  },
  {
   "cell_type": "code",
   "execution_count": 48,
   "metadata": {},
   "outputs": [],
   "source": [
    "title_df = movies[[\"overview\",\"genres\",\"title\"]] #, \"all_text\"\n",
    "filmes_balanceados = title_df.copy(deep=True)"
   ]
  },
  {
   "cell_type": "code",
   "execution_count": 49,
   "metadata": {},
   "outputs": [],
   "source": [
    "lst_col = 'genres'\n",
    "\n",
    "filmes_balanceados2 = pd.DataFrame({\n",
    "      col:np.repeat(filmes_balanceados[col].values, filmes_balanceados[lst_col].str.len())\n",
    "      for col in filmes_balanceados.columns.drop(lst_col)}\n",
    "    ).assign(**{\n",
    "    lst_col:np.concatenate(filmes_balanceados[lst_col].values)})[filmes_balanceados.columns]"
   ]
  },
  {
   "cell_type": "code",
   "execution_count": 50,
   "metadata": {},
   "outputs": [
    {
     "data": {
      "text/html": [
       "<div>\n",
       "<style scoped>\n",
       "    .dataframe tbody tr th:only-of-type {\n",
       "        vertical-align: middle;\n",
       "    }\n",
       "\n",
       "    .dataframe tbody tr th {\n",
       "        vertical-align: top;\n",
       "    }\n",
       "\n",
       "    .dataframe thead th {\n",
       "        text-align: right;\n",
       "    }\n",
       "</style>\n",
       "<table border=\"1\" class=\"dataframe\">\n",
       "  <thead>\n",
       "    <tr style=\"text-align: right;\">\n",
       "      <th></th>\n",
       "      <th>overview</th>\n",
       "      <th>genres</th>\n",
       "      <th>title</th>\n",
       "    </tr>\n",
       "  </thead>\n",
       "  <tbody>\n",
       "    <tr>\n",
       "      <th>0</th>\n",
       "      <td>Led by Woody, Andy's toys live happily in his ...</td>\n",
       "      <td>[Adventure, Animation, Children, Comedy, Fantasy]</td>\n",
       "      <td>Toy Story (1995)</td>\n",
       "    </tr>\n",
       "    <tr>\n",
       "      <th>1</th>\n",
       "      <td>When siblings Judy and Peter discover an encha...</td>\n",
       "      <td>[Adventure, Children, Fantasy]</td>\n",
       "      <td>Jumanji (1995)</td>\n",
       "    </tr>\n",
       "    <tr>\n",
       "      <th>2</th>\n",
       "      <td>A family wedding reignites the ancient feud be...</td>\n",
       "      <td>[Comedy, Romance]</td>\n",
       "      <td>Grumpier Old Men (1995)</td>\n",
       "    </tr>\n",
       "  </tbody>\n",
       "</table>\n",
       "</div>"
      ],
      "text/plain": [
       "                                            overview  \\\n",
       "0  Led by Woody, Andy's toys live happily in his ...   \n",
       "1  When siblings Judy and Peter discover an encha...   \n",
       "2  A family wedding reignites the ancient feud be...   \n",
       "\n",
       "                                              genres                    title  \n",
       "0  [Adventure, Animation, Children, Comedy, Fantasy]         Toy Story (1995)  \n",
       "1                     [Adventure, Children, Fantasy]           Jumanji (1995)  \n",
       "2                                  [Comedy, Romance]  Grumpier Old Men (1995)  "
      ]
     },
     "execution_count": 50,
     "metadata": {},
     "output_type": "execute_result"
    }
   ],
   "source": [
    "title_df.head(3)"
   ]
  },
  {
   "cell_type": "code",
   "execution_count": 51,
   "metadata": {},
   "outputs": [
    {
     "data": {
      "text/html": [
       "<div>\n",
       "<style scoped>\n",
       "    .dataframe tbody tr th:only-of-type {\n",
       "        vertical-align: middle;\n",
       "    }\n",
       "\n",
       "    .dataframe tbody tr th {\n",
       "        vertical-align: top;\n",
       "    }\n",
       "\n",
       "    .dataframe thead th {\n",
       "        text-align: right;\n",
       "    }\n",
       "</style>\n",
       "<table border=\"1\" class=\"dataframe\">\n",
       "  <thead>\n",
       "    <tr style=\"text-align: right;\">\n",
       "      <th></th>\n",
       "      <th>overview</th>\n",
       "      <th>genres</th>\n",
       "      <th>title</th>\n",
       "    </tr>\n",
       "  </thead>\n",
       "  <tbody>\n",
       "    <tr>\n",
       "      <th>105088</th>\n",
       "      <td>Italian costume drama about convicted women in...</td>\n",
       "      <td>Action</td>\n",
       "      <td>Women of Devil's Island (1962)</td>\n",
       "    </tr>\n",
       "    <tr>\n",
       "      <th>105089</th>\n",
       "      <td>Italian costume drama about convicted women in...</td>\n",
       "      <td>Adventure</td>\n",
       "      <td>Women of Devil's Island (1962)</td>\n",
       "    </tr>\n",
       "    <tr>\n",
       "      <th>105090</th>\n",
       "      <td>Italian costume drama about convicted women in...</td>\n",
       "      <td>Drama</td>\n",
       "      <td>Women of Devil's Island (1962)</td>\n",
       "    </tr>\n",
       "  </tbody>\n",
       "</table>\n",
       "</div>"
      ],
      "text/plain": [
       "                                                 overview     genres  \\\n",
       "105088  Italian costume drama about convicted women in...     Action   \n",
       "105089  Italian costume drama about convicted women in...  Adventure   \n",
       "105090  Italian costume drama about convicted women in...      Drama   \n",
       "\n",
       "                                 title  \n",
       "105088  Women of Devil's Island (1962)  \n",
       "105089  Women of Devil's Island (1962)  \n",
       "105090  Women of Devil's Island (1962)  "
      ]
     },
     "execution_count": 51,
     "metadata": {},
     "output_type": "execute_result"
    }
   ],
   "source": [
    "filmes_balanceados2.tail(3)"
   ]
  },
  {
   "cell_type": "code",
   "execution_count": 52,
   "metadata": {},
   "outputs": [
    {
     "data": {
      "text/plain": [
       "Drama          25112\n",
       "Comedy         16440\n",
       "Thriller        8569\n",
       "Romance         7602\n",
       "Action          7242\n",
       "Horror          5935\n",
       "Documentary     5410\n",
       "Crime           5215\n",
       "Adventure       4054\n",
       "Sci-Fi          3528\n",
       "Mystery         2863\n",
       "Children        2859\n",
       "Animation       2824\n",
       "Fantasy         2644\n",
       "War             1832\n",
       "Western         1378\n",
       "Musical         1039\n",
       "Film-Noir        352\n",
       "IMAX             193\n",
       "Name: genres, dtype: int64"
      ]
     },
     "execution_count": 52,
     "metadata": {},
     "output_type": "execute_result"
    }
   ],
   "source": [
    "filmes_balanceados2['genres'].value_counts()"
   ]
  },
  {
   "cell_type": "markdown",
   "metadata": {},
   "source": [
    " #### Separando cada gênero em dataset diferente para poder fazer resample dos dados - Tratamento de classes desbalanceadas"
   ]
  },
  {
   "cell_type": "code",
   "execution_count": 53,
   "metadata": {},
   "outputs": [],
   "source": [
    "df_Drama = filmes_balanceados2[filmes_balanceados2['genres']=='Drama']\n",
    "df_Comedy  = filmes_balanceados2[filmes_balanceados2['genres']=='Comedy']\n",
    "df_Thriller   = filmes_balanceados2[filmes_balanceados2['genres']=='Thriller']\n",
    "df_Romance   = filmes_balanceados2[filmes_balanceados2['genres']=='Romance']\n",
    "df_Action  = filmes_balanceados2[filmes_balanceados2['genres']=='Action']\n",
    "df_Horror     = filmes_balanceados2[filmes_balanceados2['genres']=='Horror']\n",
    "df_Documentary  = filmes_balanceados2[filmes_balanceados2['genres']=='Documentary'] \n",
    "df_Crime    = filmes_balanceados2[filmes_balanceados2['genres']=='Crime']\n",
    "df_Adventure = filmes_balanceados2[filmes_balanceados2['genres']=='Adventure']\n",
    "df_SciFi = filmes_balanceados2[filmes_balanceados2['genres']=='Sci-Fi']\n",
    "df_Mystery      = filmes_balanceados2[filmes_balanceados2['genres']=='Mystery']\n",
    "df_Children    = filmes_balanceados2[filmes_balanceados2['genres']=='Children']\n",
    "df_Animation   = filmes_balanceados2[filmes_balanceados2['genres']=='Animation']\n",
    "df_Fantasy    = filmes_balanceados2[filmes_balanceados2['genres']=='Fantasy']\n",
    "df_War        = filmes_balanceados2[filmes_balanceados2['genres']=='War']\n",
    "df_Western     = filmes_balanceados2[filmes_balanceados2['genres']=='Western']\n",
    "df_Musical         = filmes_balanceados2[filmes_balanceados2['genres']=='Musical'] \n",
    "df_FilmNoir         = filmes_balanceados2[filmes_balanceados2['genres']=='Film-Noir'] \n",
    "df_IMAX    = filmes_balanceados2[filmes_balanceados2['genres']=='IMAX']"
   ]
  },
  {
   "cell_type": "code",
   "execution_count": 54,
   "metadata": {},
   "outputs": [],
   "source": [
    "df_Comedy  = resample(df_Comedy,\n",
    "                      replace=True,\n",
    "                      n_samples=25112,\n",
    "                      random_state=123)\n",
    "\n",
    "\n",
    "df_Thriller   = resample(df_Thriller,\n",
    "                         replace=True,\n",
    "                         n_samples=25112,\n",
    "                         random_state=123)\n",
    "df_Romance   = resample(df_Romance,\n",
    "                        replace=True,\n",
    "                        n_samples=25112,\n",
    "                        random_state=123)\n",
    "df_Action  = resample(df_Action,\n",
    "                      replace=True,\n",
    "                      n_samples=25112,\n",
    "                      random_state=123)\n",
    "df_Horror     = resample(df_Horror, \n",
    "                         replace=True,     \n",
    "                         n_samples=25112,    \n",
    "                         random_state=123)\n",
    "df_Documentary= resample(df_Documentary, \n",
    "                         replace=True,\n",
    "                         n_samples=25112,    \n",
    "                         random_state=123)\n",
    "df_Crime   = resample(df_Crime,\n",
    "                      replace=True,     \n",
    "                      n_samples=25112,    \n",
    "                      random_state=123)\n",
    "df_Adventure= resample(df_Adventure, \n",
    "                       replace=True,  \n",
    "                       n_samples=25112,    \n",
    "                       random_state=123)\n",
    "df_SciFi = resample(df_SciFi,\n",
    "                              replace=True, \n",
    "                              n_samples=25112,\n",
    "                              random_state=123)\n",
    "df_Mystery      = resample(df_Mystery,\n",
    "                           replace=True,     \n",
    "                           n_samples=25112,   \n",
    "                           random_state=123)\n",
    "df_Children          = resample(df_Children, \n",
    "                              replace=True,\n",
    "                              n_samples=25112,  \n",
    "                              random_state=123)\n",
    "df_Animation  = resample(df_Animation, \n",
    "                         replace=True, \n",
    "                         n_samples=25112, \n",
    "                         random_state=123)\n",
    "df_Fantasy   = resample(df_Fantasy, \n",
    "                                 replace=True,     \n",
    "                                 n_samples=25112,    \n",
    "                                 random_state=123)\n",
    "df_War       = resample(df_War, \n",
    "                        replace=True,   \n",
    "                        n_samples=25112,    \n",
    "                        random_state=123)\n",
    "df_Western    = resample(df_Western, \n",
    "                         replace=True,     \n",
    "                         n_samples=25112,    \n",
    "                         random_state=123)\n",
    "df_Musical      = resample(df_Musical,\n",
    "                         replace=True,  \n",
    "                         n_samples=25112, \n",
    "                         random_state=123)\n",
    "df_FilmNoir    = resample(df_FilmNoir, \n",
    "                         replace=True, \n",
    "                         n_samples=25112,  \n",
    "                         random_state=123)\n",
    "df_IMAX   = resample(df_IMAX, \n",
    "                        replace=True,\n",
    "                        n_samples=25112,  \n",
    "                        random_state=123)\n",
    "\n",
    "\n",
    " "
   ]
  },
  {
   "cell_type": "code",
   "execution_count": 55,
   "metadata": {},
   "outputs": [],
   "source": [
    "df_upsampled = pd.concat([df_Drama, df_Comedy], axis=0 )\n",
    "df_upsampled = pd.concat([df_upsampled, df_Thriller ])\n",
    "df_upsampled = pd.concat([df_upsampled, df_Romance ] )\n",
    "df_upsampled = pd.concat([df_upsampled, df_Action ]  )\n",
    "df_upsampled = pd.concat([df_upsampled, df_Horror ] )\n",
    "df_upsampled = pd.concat([df_upsampled, df_Documentary ]  )\n",
    "df_upsampled = pd.concat([df_upsampled, df_Crime ] )\n",
    "df_upsampled = pd.concat([df_upsampled, df_Adventure], axis=0 )\n",
    "df_upsampled = pd.concat([df_upsampled, df_SciFi ] )\n",
    "df_upsampled = pd.concat([df_upsampled, df_Mystery ] )\n",
    "df_upsampled = pd.concat([df_upsampled, df_Children ]  )\n",
    "df_upsampled = pd.concat([df_upsampled, df_Animation ]  )\n",
    "df_upsampled = pd.concat([df_upsampled, df_Fantasy ] )\n",
    "df_upsampled = pd.concat([df_upsampled, df_War ]  )\n",
    "df_upsampled = pd.concat([df_upsampled, df_Western ] )\n",
    "df_upsampled = pd.concat([df_upsampled, df_Musical ] )\n",
    "\n",
    "df_upsampled = pd.concat([df_upsampled, df_FilmNoir ] )\n",
    "df_upsampled = pd.concat([df_upsampled, df_IMAX ]  ) "
   ]
  },
  {
   "cell_type": "code",
   "execution_count": 56,
   "metadata": {},
   "outputs": [
    {
     "data": {
      "text/html": [
       "<div>\n",
       "<style scoped>\n",
       "    .dataframe tbody tr th:only-of-type {\n",
       "        vertical-align: middle;\n",
       "    }\n",
       "\n",
       "    .dataframe tbody tr th {\n",
       "        vertical-align: top;\n",
       "    }\n",
       "\n",
       "    .dataframe thead th {\n",
       "        text-align: right;\n",
       "    }\n",
       "</style>\n",
       "<table border=\"1\" class=\"dataframe\">\n",
       "  <thead>\n",
       "    <tr style=\"text-align: right;\">\n",
       "      <th></th>\n",
       "      <th>index</th>\n",
       "      <th>overview</th>\n",
       "      <th>genres</th>\n",
       "      <th>title</th>\n",
       "    </tr>\n",
       "  </thead>\n",
       "  <tbody>\n",
       "    <tr>\n",
       "      <th>0</th>\n",
       "      <td>11</td>\n",
       "      <td>Cheated on, mistreated and stepped on, the wom...</td>\n",
       "      <td>Drama</td>\n",
       "      <td>Waiting to Exhale (1995)</td>\n",
       "    </tr>\n",
       "    <tr>\n",
       "      <th>1</th>\n",
       "      <td>26</td>\n",
       "      <td>Widowed U.S. president Andrew Shepherd, one of...</td>\n",
       "      <td>Drama</td>\n",
       "      <td>American President, The (1995)</td>\n",
       "    </tr>\n",
       "    <tr>\n",
       "      <th>2</th>\n",
       "      <td>33</td>\n",
       "      <td>A look at President Richard M. Nixon—a man car...</td>\n",
       "      <td>Drama</td>\n",
       "      <td>Nixon (1995)</td>\n",
       "    </tr>\n",
       "    <tr>\n",
       "      <th>3</th>\n",
       "      <td>38</td>\n",
       "      <td>In early-1970s Las Vegas, low-level mobster Sa...</td>\n",
       "      <td>Drama</td>\n",
       "      <td>Casino (1995)</td>\n",
       "    </tr>\n",
       "    <tr>\n",
       "      <th>4</th>\n",
       "      <td>39</td>\n",
       "      <td>Rich Mr. Dashwood dies, leaving his second wif...</td>\n",
       "      <td>Drama</td>\n",
       "      <td>Sense and Sensibility (1995)</td>\n",
       "    </tr>\n",
       "    <tr>\n",
       "      <th>...</th>\n",
       "      <td>...</td>\n",
       "      <td>...</td>\n",
       "      <td>...</td>\n",
       "      <td>...</td>\n",
       "    </tr>\n",
       "    <tr>\n",
       "      <th>477123</th>\n",
       "      <td>39901</td>\n",
       "      <td>When legions of monstrous creatures, known as ...</td>\n",
       "      <td>IMAX</td>\n",
       "      <td>Pacific Rim (2013)</td>\n",
       "    </tr>\n",
       "    <tr>\n",
       "      <th>477124</th>\n",
       "      <td>45592</td>\n",
       "      <td>Drama set in 1942, during one of the most impo...</td>\n",
       "      <td>IMAX</td>\n",
       "      <td>Stalingrad (2013)</td>\n",
       "    </tr>\n",
       "    <tr>\n",
       "      <th>477125</th>\n",
       "      <td>36070</td>\n",
       "      <td>Sean Anderson partners with his mom's boyfrien...</td>\n",
       "      <td>IMAX</td>\n",
       "      <td>Journey 2: The Mysterious Island (2012)</td>\n",
       "    </tr>\n",
       "    <tr>\n",
       "      <th>477126</th>\n",
       "      <td>37756</td>\n",
       "      <td>It has been five years since the disappearance...</td>\n",
       "      <td>IMAX</td>\n",
       "      <td>Paranormal Activity 4 (2012)</td>\n",
       "    </tr>\n",
       "    <tr>\n",
       "      <th>477127</th>\n",
       "      <td>39640</td>\n",
       "      <td>When the crew of the Enterprise is called back...</td>\n",
       "      <td>IMAX</td>\n",
       "      <td>Star Trek Into Darkness (2013)</td>\n",
       "    </tr>\n",
       "  </tbody>\n",
       "</table>\n",
       "<p>477128 rows × 4 columns</p>\n",
       "</div>"
      ],
      "text/plain": [
       "        index                                           overview genres  \\\n",
       "0          11  Cheated on, mistreated and stepped on, the wom...  Drama   \n",
       "1          26  Widowed U.S. president Andrew Shepherd, one of...  Drama   \n",
       "2          33  A look at President Richard M. Nixon—a man car...  Drama   \n",
       "3          38  In early-1970s Las Vegas, low-level mobster Sa...  Drama   \n",
       "4          39  Rich Mr. Dashwood dies, leaving his second wif...  Drama   \n",
       "...       ...                                                ...    ...   \n",
       "477123  39901  When legions of monstrous creatures, known as ...   IMAX   \n",
       "477124  45592  Drama set in 1942, during one of the most impo...   IMAX   \n",
       "477125  36070  Sean Anderson partners with his mom's boyfrien...   IMAX   \n",
       "477126  37756  It has been five years since the disappearance...   IMAX   \n",
       "477127  39640  When the crew of the Enterprise is called back...   IMAX   \n",
       "\n",
       "                                          title  \n",
       "0                      Waiting to Exhale (1995)  \n",
       "1                American President, The (1995)  \n",
       "2                                  Nixon (1995)  \n",
       "3                                 Casino (1995)  \n",
       "4                  Sense and Sensibility (1995)  \n",
       "...                                         ...  \n",
       "477123                       Pacific Rim (2013)  \n",
       "477124                        Stalingrad (2013)  \n",
       "477125  Journey 2: The Mysterious Island (2012)  \n",
       "477126             Paranormal Activity 4 (2012)  \n",
       "477127           Star Trek Into Darkness (2013)  \n",
       "\n",
       "[477128 rows x 4 columns]"
      ]
     },
     "execution_count": 56,
     "metadata": {},
     "output_type": "execute_result"
    }
   ],
   "source": [
    "df_upsampled.reset_index()"
   ]
  },
  {
   "cell_type": "code",
   "execution_count": 57,
   "metadata": {},
   "outputs": [
    {
     "data": {
      "text/plain": [
       "Romance        25112\n",
       "Horror         25112\n",
       "Action         25112\n",
       "Mystery        25112\n",
       "Crime          25112\n",
       "IMAX           25112\n",
       "Western        25112\n",
       "Comedy         25112\n",
       "Fantasy        25112\n",
       "Documentary    25112\n",
       "Drama          25112\n",
       "Adventure      25112\n",
       "Musical        25112\n",
       "Sci-Fi         25112\n",
       "Film-Noir      25112\n",
       "Animation      25112\n",
       "Thriller       25112\n",
       "War            25112\n",
       "Children       25112\n",
       "Name: genres, dtype: int64"
      ]
     },
     "execution_count": 57,
     "metadata": {},
     "output_type": "execute_result"
    }
   ],
   "source": [
    "df_upsampled['genres'].value_counts()"
   ]
  },
  {
   "cell_type": "code",
   "execution_count": 58,
   "metadata": {},
   "outputs": [],
   "source": [
    "punctuation = \"\"\"!()-[]{};:'\"\\, <>./?@#$%^&*_~\"\"\"\n",
    "\n",
    "words = stopwords.words(\"english\")\n",
    "lemma = nltk.stem.WordNetLemmatizer()\n",
    "def pre_process(text):\n",
    "    text = str(text)\n",
    "    remove_hyperlink = re.sub('http://\\S+|https://\\S+', '', text)\n",
    "    for elements in remove_hyperlink:\n",
    "        if elements in punctuation:\n",
    "            remove_hyperlink = remove_hyperlink.replace(elements, \" \")\n",
    "    tokens = word_tokenize(remove_hyperlink)\n",
    "    remove_words = [word for word in tokens if not word in words]\n",
    "    text = [lemma.lemmatize(word) for word in remove_words]\n",
    "    joined_words = \" \".join(text)\n",
    "    return joined_words"
   ]
  },
  {
   "cell_type": "code",
   "execution_count": 59,
   "metadata": {},
   "outputs": [],
   "source": [
    "\n",
    "title_df['overview'] = title_df['overview'].apply(pre_process)\n",
    "filmes_balanceados['overview'] = filmes_balanceados2['overview'].apply(pre_process)\n",
    "df_upsampled['overview'] = df_upsampled['overview'].apply(pre_process)\n"
   ]
  },
  {
   "cell_type": "code",
   "execution_count": 60,
   "metadata": {},
   "outputs": [
    {
     "data": {
      "text/html": [
       "<div>\n",
       "<style scoped>\n",
       "    .dataframe tbody tr th:only-of-type {\n",
       "        vertical-align: middle;\n",
       "    }\n",
       "\n",
       "    .dataframe tbody tr th {\n",
       "        vertical-align: top;\n",
       "    }\n",
       "\n",
       "    .dataframe thead th {\n",
       "        text-align: right;\n",
       "    }\n",
       "</style>\n",
       "<table border=\"1\" class=\"dataframe\">\n",
       "  <thead>\n",
       "    <tr style=\"text-align: right;\">\n",
       "      <th></th>\n",
       "      <th>overview</th>\n",
       "      <th>genres</th>\n",
       "      <th>title</th>\n",
       "    </tr>\n",
       "  </thead>\n",
       "  <tbody>\n",
       "    <tr>\n",
       "      <th>0</th>\n",
       "      <td>Led Woody Andy toy live happily room Andy birt...</td>\n",
       "      <td>[Adventure, Animation, Children, Comedy, Fantasy]</td>\n",
       "      <td>Toy Story (1995)</td>\n",
       "    </tr>\n",
       "    <tr>\n",
       "      <th>1</th>\n",
       "      <td>When sibling Judy Peter discover enchanted boa...</td>\n",
       "      <td>[Adventure, Children, Fantasy]</td>\n",
       "      <td>Jumanji (1995)</td>\n",
       "    </tr>\n",
       "    <tr>\n",
       "      <th>2</th>\n",
       "      <td>A family wedding reignites ancient feud next d...</td>\n",
       "      <td>[Comedy, Romance]</td>\n",
       "      <td>Grumpier Old Men (1995)</td>\n",
       "    </tr>\n",
       "  </tbody>\n",
       "</table>\n",
       "</div>"
      ],
      "text/plain": [
       "                                            overview  \\\n",
       "0  Led Woody Andy toy live happily room Andy birt...   \n",
       "1  When sibling Judy Peter discover enchanted boa...   \n",
       "2  A family wedding reignites ancient feud next d...   \n",
       "\n",
       "                                              genres                    title  \n",
       "0  [Adventure, Animation, Children, Comedy, Fantasy]         Toy Story (1995)  \n",
       "1                     [Adventure, Children, Fantasy]           Jumanji (1995)  \n",
       "2                                  [Comedy, Romance]  Grumpier Old Men (1995)  "
      ]
     },
     "execution_count": 60,
     "metadata": {},
     "output_type": "execute_result"
    }
   ],
   "source": [
    "title_df.head(3)"
   ]
  },
  {
   "cell_type": "code",
   "execution_count": 61,
   "metadata": {},
   "outputs": [
    {
     "data": {
      "text/html": [
       "<div>\n",
       "<style scoped>\n",
       "    .dataframe tbody tr th:only-of-type {\n",
       "        vertical-align: middle;\n",
       "    }\n",
       "\n",
       "    .dataframe tbody tr th {\n",
       "        vertical-align: top;\n",
       "    }\n",
       "\n",
       "    .dataframe thead th {\n",
       "        text-align: right;\n",
       "    }\n",
       "</style>\n",
       "<table border=\"1\" class=\"dataframe\">\n",
       "  <thead>\n",
       "    <tr style=\"text-align: right;\">\n",
       "      <th></th>\n",
       "      <th>overview</th>\n",
       "      <th>genres</th>\n",
       "      <th>title</th>\n",
       "    </tr>\n",
       "  </thead>\n",
       "  <tbody>\n",
       "    <tr>\n",
       "      <th>0</th>\n",
       "      <td>Led Woody Andy toy live happily room Andy birt...</td>\n",
       "      <td>[Adventure, Animation, Children, Comedy, Fantasy]</td>\n",
       "      <td>Toy Story (1995)</td>\n",
       "    </tr>\n",
       "    <tr>\n",
       "      <th>1</th>\n",
       "      <td>Led Woody Andy toy live happily room Andy birt...</td>\n",
       "      <td>[Adventure, Children, Fantasy]</td>\n",
       "      <td>Jumanji (1995)</td>\n",
       "    </tr>\n",
       "    <tr>\n",
       "      <th>2</th>\n",
       "      <td>Led Woody Andy toy live happily room Andy birt...</td>\n",
       "      <td>[Comedy, Romance]</td>\n",
       "      <td>Grumpier Old Men (1995)</td>\n",
       "    </tr>\n",
       "  </tbody>\n",
       "</table>\n",
       "</div>"
      ],
      "text/plain": [
       "                                            overview  \\\n",
       "0  Led Woody Andy toy live happily room Andy birt...   \n",
       "1  Led Woody Andy toy live happily room Andy birt...   \n",
       "2  Led Woody Andy toy live happily room Andy birt...   \n",
       "\n",
       "                                              genres                    title  \n",
       "0  [Adventure, Animation, Children, Comedy, Fantasy]         Toy Story (1995)  \n",
       "1                     [Adventure, Children, Fantasy]           Jumanji (1995)  \n",
       "2                                  [Comedy, Romance]  Grumpier Old Men (1995)  "
      ]
     },
     "execution_count": 61,
     "metadata": {},
     "output_type": "execute_result"
    }
   ],
   "source": [
    "filmes_balanceados.head(3)"
   ]
  },
  {
   "cell_type": "code",
   "execution_count": 62,
   "metadata": {},
   "outputs": [
    {
     "data": {
      "text/html": [
       "<div>\n",
       "<style scoped>\n",
       "    .dataframe tbody tr th:only-of-type {\n",
       "        vertical-align: middle;\n",
       "    }\n",
       "\n",
       "    .dataframe tbody tr th {\n",
       "        vertical-align: top;\n",
       "    }\n",
       "\n",
       "    .dataframe thead th {\n",
       "        text-align: right;\n",
       "    }\n",
       "</style>\n",
       "<table border=\"1\" class=\"dataframe\">\n",
       "  <thead>\n",
       "    <tr style=\"text-align: right;\">\n",
       "      <th></th>\n",
       "      <th>overview</th>\n",
       "      <th>genres</th>\n",
       "      <th>title</th>\n",
       "    </tr>\n",
       "  </thead>\n",
       "  <tbody>\n",
       "    <tr>\n",
       "      <th>11</th>\n",
       "      <td>Cheated mistreated stepped woman holding breat...</td>\n",
       "      <td>Drama</td>\n",
       "      <td>Waiting to Exhale (1995)</td>\n",
       "    </tr>\n",
       "    <tr>\n",
       "      <th>26</th>\n",
       "      <td>Widowed U S president Andrew Shepherd one worl...</td>\n",
       "      <td>Drama</td>\n",
       "      <td>American President, The (1995)</td>\n",
       "    </tr>\n",
       "    <tr>\n",
       "      <th>33</th>\n",
       "      <td>A look President Richard M Nixon—a man carryin...</td>\n",
       "      <td>Drama</td>\n",
       "      <td>Nixon (1995)</td>\n",
       "    </tr>\n",
       "  </tbody>\n",
       "</table>\n",
       "</div>"
      ],
      "text/plain": [
       "                                             overview genres  \\\n",
       "11  Cheated mistreated stepped woman holding breat...  Drama   \n",
       "26  Widowed U S president Andrew Shepherd one worl...  Drama   \n",
       "33  A look President Richard M Nixon—a man carryin...  Drama   \n",
       "\n",
       "                             title  \n",
       "11        Waiting to Exhale (1995)  \n",
       "26  American President, The (1995)  \n",
       "33                    Nixon (1995)  "
      ]
     },
     "execution_count": 62,
     "metadata": {},
     "output_type": "execute_result"
    }
   ],
   "source": [
    "df_upsampled.head(3)"
   ]
  },
  {
   "cell_type": "markdown",
   "metadata": {},
   "source": [
    "# Sem tratamento"
   ]
  },
  {
   "cell_type": "code",
   "execution_count": 63,
   "metadata": {},
   "outputs": [],
   "source": [
    "\n",
    "multilabel_binarizer = MultiLabelBinarizer()\n",
    "# multilabel_binarizer.fit(title_df['genres'])\n",
    "\n",
    "# transform target variable\n",
    "y = multilabel_binarizer.fit_transform( title_df['genres']  )\n",
    "\n",
    "# split the data, leave 1/3 out for testing\n",
    "data_x = title_df[['overview']]\n",
    "data_y = y #title_df[[ 'genres' ]]\n",
    "# stratified_split = StratifiedShuffleSplit(n_splits=2, test_size=0.33)\n",
    "xtrain, xval, ytrain, yval = model_selection.train_test_split(data_x, data_y, test_size=0.33, random_state=512)\n",
    "# transform matrix of plots into lists to pass to a TfidfVectorizer\n",
    "train_x = [x[0].strip() for x in xtrain.values.tolist()]\n",
    "test_x = [x[0].strip() for x in xval.values.tolist()] \n"
   ]
  },
  {
   "cell_type": "code",
   "execution_count": 64,
   "metadata": {},
   "outputs": [
    {
     "name": "stdout",
     "output_type": "stream",
     "text": [
      "Fitting 2 folds for each of 72 candidates, totalling 144 fits\n"
     ]
    },
    {
     "name": "stderr",
     "output_type": "stream",
     "text": [
      "[Parallel(n_jobs=2)]: Using backend LokyBackend with 2 concurrent workers.\n",
      "[Parallel(n_jobs=2)]: Done  28 tasks      | elapsed:  7.8min\n",
      "[Parallel(n_jobs=2)]: Done 124 tasks      | elapsed: 45.6min\n",
      "[Parallel(n_jobs=2)]: Done 144 out of 144 | elapsed: 55.1min finished\n"
     ]
    },
    {
     "name": "stdout",
     "output_type": "stream",
     "text": [
      "Best parameters set:\n",
      "[('tfidf', TfidfVectorizer(max_features=10000, ngram_range=(1, 2),\n",
      "                stop_words=['i', 'me', 'my', 'myself', 'we', 'our', 'ours',\n",
      "                            'ourselves', 'you', \"you're\", \"you've\", \"you'll\",\n",
      "                            \"you'd\", 'your', 'yours', 'yourself', 'yourselves',\n",
      "                            'he', 'him', 'his', 'himself', 'she', \"she's\",\n",
      "                            'her', 'hers', 'herself', 'it', \"it's\", 'its',\n",
      "                            'itself', ...])), ('clf', OneVsRestClassifier(estimator=ExtraTreesClassifier(class_weight='balanced',\n",
      "                                                   max_depth=30,\n",
      "                                                   n_estimators=35)))]\n"
     ]
    }
   ],
   "source": [
    "\n",
    "\n",
    "grid_search_tune = GridSearchCV(\n",
    "pipeline, parameters, cv=2, n_jobs=2, verbose=3)\n",
    "grid_search_tune.fit(train_x, ytrain )  \n",
    "print\n",
    "print(\"Best parameters set:\")\n",
    "print (grid_search_tune.best_estimator_.steps)\n"
   ]
  },
  {
   "cell_type": "code",
   "execution_count": 65,
   "metadata": {},
   "outputs": [
    {
     "data": {
      "text/plain": [
       "array(['Action', 'Adventure', 'Animation', 'Children', 'Comedy', 'Crime',\n",
       "       'Documentary', 'Drama', 'Fantasy', 'Film-Noir', 'Horror', 'IMAX',\n",
       "       'Musical', 'Mystery', 'Romance', 'Sci-Fi', 'Thriller', 'War',\n",
       "       'Western'], dtype=object)"
      ]
     },
     "execution_count": 65,
     "metadata": {},
     "output_type": "execute_result"
    }
   ],
   "source": [
    "\n",
    "multilabel_binarizer.classes_"
   ]
  },
  {
   "cell_type": "code",
   "execution_count": 66,
   "metadata": {},
   "outputs": [
    {
     "name": "stdout",
     "output_type": "stream",
     "text": [
      "________________________________________________________________________________________________________________________\n",
      "Training: \n",
      "Pipeline(steps=[('tfidf',\n",
      "                 TfidfVectorizer(max_features=10000, ngram_range=(1, 2),\n",
      "                                 stop_words=['i', 'me', 'my', 'myself', 'we',\n",
      "                                             'our', 'ours', 'ourselves', 'you',\n",
      "                                             \"you're\", \"you've\", \"you'll\",\n",
      "                                             \"you'd\", 'your', 'yours',\n",
      "                                             'yourself', 'yourselves', 'he',\n",
      "                                             'him', 'his', 'himself', 'she',\n",
      "                                             \"she's\", 'her', 'hers', 'herself',\n",
      "                                             'it', \"it's\", 'its', 'itself', ...])),\n",
      "                ('clf',\n",
      "                 OneVsRestClassifier(estimator=ExtraTreesClassifier(class_weight='balanced',\n",
      "                                                                    max_depth=30,\n",
      "                                                                    n_estimators=35)))])\n",
      "Treino: 0.000s\n",
      "testes:  7.176s\n",
      "f1_score:   0.502\n",
      "\n",
      "Accuracy: 0.12\n",
      "\n",
      "\n",
      "Precisao: 0.45\n",
      "\n",
      "Relatório de Classificação:\n",
      "              precision    recall  f1-score   support\n",
      "\n",
      "      Action       0.41      0.55      0.47      2382\n",
      "   Adventure       0.27      0.48      0.35      1283\n",
      "   Animation       0.29      0.51      0.37       928\n",
      "    Children       0.27      0.47      0.34       914\n",
      "      Comedy       0.51      0.63      0.56      5452\n",
      "       Crime       0.38      0.55      0.45      1643\n",
      " Documentary       0.53      0.73      0.61      1800\n",
      "       Drama       0.63      0.64      0.64      8331\n",
      "     Fantasy       0.25      0.38      0.30       857\n",
      "   Film-Noir       0.04      0.04      0.04       113\n",
      "      Horror       0.49      0.63      0.55      1909\n",
      "        IMAX       0.00      0.00      0.00        65\n",
      "     Musical       0.14      0.20      0.16       331\n",
      "     Mystery       0.25      0.45      0.32       943\n",
      "     Romance       0.39      0.50      0.43      2560\n",
      "      Sci-Fi       0.49      0.53      0.51      1154\n",
      "    Thriller       0.39      0.52      0.45      2828\n",
      "         War       0.41      0.55      0.47       606\n",
      "     Western       0.60      0.60      0.60       484\n",
      "\n",
      "   micro avg       0.45      0.57      0.50     34583\n",
      "   macro avg       0.35      0.47      0.40     34583\n",
      "weighted avg       0.47      0.57      0.51     34583\n",
      " samples avg       0.48      0.62      0.50     34583\n",
      "\n",
      "<built-in function id>\n",
      "['ExtraTreesClassifier-semtratamento-movielens', 0.5024645484188974, 0.4463054850804913, 6.270408630371094e-05, 55555, '06/10/2020 10:10:56']\n",
      "<built-in function id>\n"
     ]
    }
   ],
   "source": [
    "\n",
    "clf  = grid_search_tune.best_estimator_\n",
    "classes=multilabel_binarizer.classes_\n",
    "print('_' * 120)\n",
    "print(\"Training: \")\n",
    "print(clf)\n",
    "t0 = time()  \n",
    "train_time = time() - t0\n",
    "print(\"Treino: %0.3fs\" % train_time)\n",
    "\n",
    "t0 = time()\n",
    "pred = clf.predict(test_x)\n",
    "test_time = time() - t0\n",
    "print(\"testes:  %0.3fs\" % test_time)\n",
    "\n",
    "score = f1_score(yval, pred, average=\"micro\")\n",
    "precision = precision_score(yval, pred, average='micro')\n",
    "print(\"f1_score:   %0.3f\" % score)\n",
    "\n",
    "print('\\nAccuracy: {:.2f}\\n'.format(accuracy_score(yval, pred)))\n",
    "print('\\nPrecisao: {:.2f}\\n'.format(precision)) \n",
    "\n",
    "print(\"Relatório de Classificação:\")\n",
    "print(classification_report(yval, pred,\n",
    "#                                             labels=[1, 2, 3,4,5,6,7,8,9,10,11,12,13,14,15,16,17,18,19]\n",
    "                                        target_names=classes))\n",
    "\n",
    "# print(\"confusion matrix:\") \n",
    "# print(confusion_matrix(yvalb2.argmax(axis=1), pred.argmax(axis=1)))\n",
    "\n",
    "\n",
    "\n",
    "\n",
    "clf_descr = 'ExtraTreesClassifier-semtratamento-movielens'#str(clf).split('(')[0]\n",
    "\n",
    "test_time=55555    \n",
    "results.append([clf_descr, score,precision, train_time, test_time])  \n",
    "resultsLogisticRegression.append([clf_descr, score,precision, train_time, test_time])  \n",
    "salvar_dado([clf_descr, score,precision, train_time, test_time])\n"
   ]
  },
  {
   "cell_type": "code",
   "execution_count": 67,
   "metadata": {},
   "outputs": [],
   "source": [
    "#tratamento Parcial"
   ]
  },
  {
   "cell_type": "code",
   "execution_count": 68,
   "metadata": {},
   "outputs": [
    {
     "data": {
      "text/plain": [
       "0         [Adventure]\n",
       "1         [Animation]\n",
       "2          [Children]\n",
       "3            [Comedy]\n",
       "4           [Fantasy]\n",
       "             ...     \n",
       "105086       [Comedy]\n",
       "105087        [Drama]\n",
       "105088       [Action]\n",
       "105089    [Adventure]\n",
       "105090        [Drama]\n",
       "Name: genres, Length: 105091, dtype: object"
      ]
     },
     "execution_count": 68,
     "metadata": {},
     "output_type": "execute_result"
    }
   ],
   "source": [
    "\n",
    "filmes_balanceados2['genres'] = filmes_balanceados2['genres'].map(lambda x: x.split(','))\n",
    "filmes_balanceados2['genres']"
   ]
  },
  {
   "cell_type": "code",
   "execution_count": 69,
   "metadata": {},
   "outputs": [],
   "source": [
    "\n",
    "multilabel_binarizer = MultiLabelBinarizer()\n",
    "# multilabel_binarizer.fit(title_df['genres'])\n",
    "\n",
    "# transform target variable\n",
    "y = multilabel_binarizer.fit_transform( filmes_balanceados2['genres']  )\n",
    "\n",
    "# split the data, leave 1/3 out for testing\n",
    "data_x = filmes_balanceados2[['overview']]\n",
    "data_y = y #title_df[[ 'genres' ]]\n",
    "# stratified_split = StratifiedShuffleSplit(n_splits=2, test_size=0.33)\n",
    "xtrain, xval, ytrain, yval = model_selection.train_test_split(data_x, data_y, test_size=0.33, random_state=512)\n",
    "# transform matrix of plots into lists to pass to a TfidfVectorizer\n",
    "train_x = [x[0].strip() for x in xtrain.values.tolist()]\n",
    "test_x = [x[0].strip() for x in xval.values.tolist()] \n"
   ]
  },
  {
   "cell_type": "code",
   "execution_count": 70,
   "metadata": {},
   "outputs": [
    {
     "name": "stdout",
     "output_type": "stream",
     "text": [
      "Fitting 2 folds for each of 72 candidates, totalling 144 fits\n"
     ]
    },
    {
     "name": "stderr",
     "output_type": "stream",
     "text": [
      "[Parallel(n_jobs=2)]: Using backend LokyBackend with 2 concurrent workers.\n",
      "[Parallel(n_jobs=2)]: Done  28 tasks      | elapsed: 37.9min\n",
      "[Parallel(n_jobs=2)]: Done 124 tasks      | elapsed: 234.2min\n",
      "[Parallel(n_jobs=2)]: Done 144 out of 144 | elapsed: 281.3min finished\n"
     ]
    },
    {
     "name": "stdout",
     "output_type": "stream",
     "text": [
      "Best parameters set:\n",
      "[('tfidf', TfidfVectorizer(max_features=20000, ngram_range=(1, 3),\n",
      "                stop_words=['i', 'me', 'my', 'myself', 'we', 'our', 'ours',\n",
      "                            'ourselves', 'you', \"you're\", \"you've\", \"you'll\",\n",
      "                            \"you'd\", 'your', 'yours', 'yourself', 'yourselves',\n",
      "                            'he', 'him', 'his', 'himself', 'she', \"she's\",\n",
      "                            'her', 'hers', 'herself', 'it', \"it's\", 'its',\n",
      "                            'itself', ...])), ('clf', OneVsRestClassifier(estimator=ExtraTreesClassifier(class_weight='balanced',\n",
      "                                                   max_depth=30,\n",
      "                                                   n_estimators=35)))]\n"
     ]
    }
   ],
   "source": [
    "\n",
    "grid_search_tune = GridSearchCV(\n",
    "pipeline, parameters, cv=2, n_jobs=2, verbose=3)\n",
    "grid_search_tune.fit(train_x, ytrain )  \n",
    "print\n",
    "print(\"Best parameters set:\")\n",
    "print (grid_search_tune.best_estimator_.steps)\n"
   ]
  },
  {
   "cell_type": "code",
   "execution_count": 71,
   "metadata": {},
   "outputs": [
    {
     "name": "stdout",
     "output_type": "stream",
     "text": [
      "________________________________________________________________________________________________________________________\n",
      "Training: \n",
      "Pipeline(steps=[('tfidf',\n",
      "                 TfidfVectorizer(max_features=20000, ngram_range=(1, 3),\n",
      "                                 stop_words=['i', 'me', 'my', 'myself', 'we',\n",
      "                                             'our', 'ours', 'ourselves', 'you',\n",
      "                                             \"you're\", \"you've\", \"you'll\",\n",
      "                                             \"you'd\", 'your', 'yours',\n",
      "                                             'yourself', 'yourselves', 'he',\n",
      "                                             'him', 'his', 'himself', 'she',\n",
      "                                             \"she's\", 'her', 'hers', 'herself',\n",
      "                                             'it', \"it's\", 'its', 'itself', ...])),\n",
      "                ('clf',\n",
      "                 OneVsRestClassifier(estimator=ExtraTreesClassifier(class_weight='balanced',\n",
      "                                                                    max_depth=30,\n",
      "                                                                    n_estimators=35)))])\n",
      "Treino: 0.000s\n",
      "testes:  13.877s\n",
      "f1_score:   0.268\n",
      "\n",
      "Accuracy: 0.05\n",
      "\n",
      "\n",
      "Precisao: 0.19\n",
      "\n",
      "Relatório de Classificação:\n",
      "              precision    recall  f1-score   support\n",
      "\n",
      "      Action       0.13      0.36      0.19      2338\n",
      "   Adventure       0.09      0.27      0.14      1384\n",
      "   Animation       0.11      0.36      0.17       946\n",
      "    Children       0.10      0.28      0.14       999\n",
      "      Comedy       0.24      0.57      0.34      5402\n",
      "       Crime       0.13      0.37      0.19      1703\n",
      " Documentary       0.45      0.73      0.55      1764\n",
      "       Drama       0.32      0.54      0.40      8218\n",
      "     Fantasy       0.06      0.22      0.10       857\n",
      "   Film-Noir       0.01      0.03      0.01       118\n",
      "      Horror       0.21      0.44      0.29      1922\n",
      "        IMAX       0.00      0.00      0.00        66\n",
      "     Musical       0.06      0.20      0.09       320\n",
      "     Mystery       0.09      0.25      0.13       984\n",
      "     Romance       0.15      0.46      0.22      2491\n",
      "      Sci-Fi       0.15      0.33      0.21      1186\n",
      "    Thriller       0.14      0.36      0.20      2862\n",
      "         War       0.17      0.35      0.23       643\n",
      "     Western       0.27      0.40      0.33       478\n",
      "\n",
      "   micro avg       0.19      0.45      0.27     34681\n",
      "   macro avg       0.15      0.34      0.21     34681\n",
      "weighted avg       0.21      0.45      0.28     34681\n",
      " samples avg       0.20      0.45      0.26     34681\n",
      "\n",
      "<built-in function id>\n",
      "['LogisticRegression-Tratamento Parcial-movieLens', 0.2684049079754601, 0.1913978494623656, 6.270408630371094e-05, 55555, '06/10/2020 10:10:56']\n",
      "<built-in function id>\n"
     ]
    }
   ],
   "source": [
    "\n",
    "\n",
    "clf  = grid_search_tune.best_estimator_\n",
    "classes=multilabel_binarizer.classes_\n",
    "print('_' * 120)\n",
    "print(\"Training: \")\n",
    "print(clf)\n",
    "t0 = time()  \n",
    "train_time = time() - t0\n",
    "print(\"Treino: %0.3fs\" % train_time)\n",
    "\n",
    "t0 = time()\n",
    "pred = clf.predict(test_x)\n",
    "test_time = time() - t0\n",
    "print(\"testes:  %0.3fs\" % test_time)\n",
    "\n",
    "score = f1_score(yval, pred, average=\"micro\")\n",
    "precision = precision_score(yval, pred, average='micro')\n",
    "print(\"f1_score:   %0.3f\" % score)\n",
    "\n",
    "print('\\nAccuracy: {:.2f}\\n'.format(accuracy_score(yval, pred)))\n",
    "print('\\nPrecisao: {:.2f}\\n'.format(precision)) \n",
    "\n",
    "print(\"Relatório de Classificação:\")\n",
    "print(classification_report(yval, pred,\n",
    "#                                             labels=[1, 2, 3,4,5,6,7,8,9,10,11,12,13,14,15,16,17,18,19]\n",
    "                                        target_names=classes))\n",
    "\n",
    "# print(\"confusion matrix:\") \n",
    "# print(confusion_matrix(yvalb2.argmax(axis=1), pred.argmax(axis=1)))\n",
    "\n",
    "\n",
    "\n",
    "\n",
    "clf_descr = 'LogisticRegression-Tratamento Parcial-movieLens'#str(clf).split('(')[0]\n",
    "\n",
    "test_time=55555    \n",
    "results.append([clf_descr, score,precision, train_time, test_time])  \n",
    "resultsLogisticRegression.append([clf_descr, score,precision, train_time, test_time])  \n",
    "salvar_dado([clf_descr, score,precision, train_time, test_time])\n"
   ]
  },
  {
   "cell_type": "code",
   "execution_count": 72,
   "metadata": {},
   "outputs": [],
   "source": [
    "# Tratamento Com upsample"
   ]
  },
  {
   "cell_type": "code",
   "execution_count": 73,
   "metadata": {},
   "outputs": [],
   "source": [
    "\n",
    "# filmes_balanceados2['genres'] = filmes_balanceados2['genres'].map(lambda x: x.split(','))\n",
    "\n",
    "multilabel_binarizer = MultiLabelBinarizer()\n",
    "# multilabel_binarizer.fit(title_df['genres'])\n",
    "\n",
    "# transform target variable\n",
    "y = multilabel_binarizer.fit_transform( df_upsampled['genres']  )\n",
    "\n",
    "# split the data, leave 1/3 out for testing\n",
    "data_x = df_upsampled[['overview']]\n",
    "data_y = y #title_df[[ 'genres' ]]\n",
    "# stratified_split = StratifiedShuffleSplit(n_splits=2, test_size=0.33)\n",
    "xtrain, xval, ytrain, yval = model_selection.train_test_split(data_x, data_y, test_size=0.33, random_state=512)\n",
    "# transform matrix of plots into lists to pass to a TfidfVectorizer\n",
    "train_x = [x[0].strip() for x in xtrain.values.tolist()]\n",
    "test_x = [x[0].strip() for x in xval.values.tolist()] \n",
    "\n"
   ]
  },
  {
   "cell_type": "code",
   "execution_count": null,
   "metadata": {},
   "outputs": [
    {
     "name": "stdout",
     "output_type": "stream",
     "text": [
      "Fitting 2 folds for each of 72 candidates, totalling 144 fits\n"
     ]
    },
    {
     "name": "stderr",
     "output_type": "stream",
     "text": [
      "[Parallel(n_jobs=2)]: Using backend LokyBackend with 2 concurrent workers.\n"
     ]
    }
   ],
   "source": [
    "\n",
    "grid_search_tune = GridSearchCV(\n",
    "pipeline, parameters, cv=2, n_jobs=2, verbose=3)\n",
    "grid_search_tune.fit(train_x, ytrain )  \n",
    "print\n",
    "print(\"Best parameters set:\")\n",
    "print (grid_search_tune.best_estimator_.steps)\n"
   ]
  },
  {
   "cell_type": "code",
   "execution_count": null,
   "metadata": {},
   "outputs": [],
   "source": [
    "\n",
    "\n",
    "clf  = grid_search_tune.best_estimator_\n",
    "classes=multilabel_binarizer.classes_\n",
    "print('_' * 120)\n",
    "print(\"Training: \")\n",
    "print(clf)\n",
    "t0 = time()  \n",
    "train_time = time() - t0\n",
    "print(\"Treino: %0.3fs\" % train_time)\n",
    "\n",
    "t0 = time()\n",
    "pred = clf.predict(test_x)\n",
    "test_time = time() - t0\n",
    "print(\"testes:  %0.3fs\" % test_time)\n",
    "\n",
    "score = f1_score(yval, pred, average=\"micro\")\n",
    "precision = precision_score(yval, pred, average='micro')\n",
    "print(\"f1_score:   %0.3f\" % score)\n",
    "\n",
    "print('\\nAccuracy: {:.2f}\\n'.format(accuracy_score(yval, pred)))\n",
    "print('\\nPrecisao: {:.2f}\\n'.format(precision)) \n",
    "\n",
    "print(\"Relatório de Classificação:\")\n",
    "print(classification_report(yval, pred,\n",
    "#                                             labels=[1, 2, 3,4,5,6,7,8,9,10,11,12,13,14,15,16,17,18,19]\n",
    "                                        target_names=classes))\n",
    "\n",
    "# print(\"confusion matrix:\") \n",
    "# print(confusion_matrix(yvalb2.argmax(axis=1), pred.argmax(axis=1)))\n",
    "\n",
    "\n",
    "\n",
    "\n",
    "clf_descr = 'LogisticRegression-Tratamento upsampled-movieLens'#str(clf).split('(')[0]\n",
    "\n",
    "test_time=55555    \n",
    "results.append([clf_descr, score,precision, train_time, test_time])  \n",
    "resultsLogisticRegression.append([clf_descr, score,precision, train_time, test_time])  \n",
    "salvar_dado([clf_descr, score,precision, train_time, test_time])\n"
   ]
  },
  {
   "cell_type": "code",
   "execution_count": null,
   "metadata": {},
   "outputs": [],
   "source": []
  },
  {
   "cell_type": "code",
   "execution_count": null,
   "metadata": {},
   "outputs": [],
   "source": []
  },
  {
   "cell_type": "code",
   "execution_count": null,
   "metadata": {},
   "outputs": [],
   "source": []
  },
  {
   "cell_type": "code",
   "execution_count": null,
   "metadata": {},
   "outputs": [],
   "source": []
  },
  {
   "cell_type": "code",
   "execution_count": null,
   "metadata": {},
   "outputs": [],
   "source": []
  },
  {
   "cell_type": "code",
   "execution_count": null,
   "metadata": {},
   "outputs": [],
   "source": []
  },
  {
   "cell_type": "code",
   "execution_count": null,
   "metadata": {},
   "outputs": [],
   "source": []
  },
  {
   "cell_type": "code",
   "execution_count": null,
   "metadata": {},
   "outputs": [],
   "source": []
  },
  {
   "cell_type": "code",
   "execution_count": null,
   "metadata": {},
   "outputs": [],
   "source": []
  },
  {
   "cell_type": "code",
   "execution_count": null,
   "metadata": {},
   "outputs": [],
   "source": []
  },
  {
   "cell_type": "code",
   "execution_count": null,
   "metadata": {},
   "outputs": [],
   "source": []
  },
  {
   "cell_type": "code",
   "execution_count": null,
   "metadata": {},
   "outputs": [],
   "source": []
  },
  {
   "cell_type": "code",
   "execution_count": null,
   "metadata": {},
   "outputs": [],
   "source": []
  },
  {
   "cell_type": "code",
   "execution_count": null,
   "metadata": {},
   "outputs": [],
   "source": []
  },
  {
   "cell_type": "code",
   "execution_count": null,
   "metadata": {},
   "outputs": [],
   "source": []
  },
  {
   "cell_type": "code",
   "execution_count": null,
   "metadata": {},
   "outputs": [],
   "source": []
  },
  {
   "cell_type": "code",
   "execution_count": null,
   "metadata": {},
   "outputs": [],
   "source": []
  },
  {
   "cell_type": "code",
   "execution_count": null,
   "metadata": {},
   "outputs": [],
   "source": []
  },
  {
   "cell_type": "code",
   "execution_count": null,
   "metadata": {},
   "outputs": [],
   "source": []
  },
  {
   "cell_type": "code",
   "execution_count": null,
   "metadata": {},
   "outputs": [],
   "source": []
  },
  {
   "cell_type": "code",
   "execution_count": null,
   "metadata": {},
   "outputs": [],
   "source": []
  },
  {
   "cell_type": "code",
   "execution_count": null,
   "metadata": {},
   "outputs": [],
   "source": []
  },
  {
   "cell_type": "code",
   "execution_count": null,
   "metadata": {},
   "outputs": [],
   "source": []
  },
  {
   "cell_type": "code",
   "execution_count": null,
   "metadata": {},
   "outputs": [],
   "source": []
  },
  {
   "cell_type": "code",
   "execution_count": null,
   "metadata": {},
   "outputs": [],
   "source": []
  },
  {
   "cell_type": "code",
   "execution_count": null,
   "metadata": {},
   "outputs": [],
   "source": []
  },
  {
   "cell_type": "code",
   "execution_count": null,
   "metadata": {},
   "outputs": [],
   "source": []
  },
  {
   "cell_type": "code",
   "execution_count": null,
   "metadata": {},
   "outputs": [],
   "source": []
  }
 ],
 "metadata": {
  "kernelspec": {
   "display_name": "Python 3",
   "language": "python",
   "name": "python3"
  },
  "language_info": {
   "codemirror_mode": {
    "name": "ipython",
    "version": 3
   },
   "file_extension": ".py",
   "mimetype": "text/x-python",
   "name": "python",
   "nbconvert_exporter": "python",
   "pygments_lexer": "ipython3",
   "version": "3.8.3"
  }
 },
 "nbformat": 4,
 "nbformat_minor": 4
}
