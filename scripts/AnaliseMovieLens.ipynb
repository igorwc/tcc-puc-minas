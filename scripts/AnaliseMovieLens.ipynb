{
 "cells": [
  {
   "cell_type": "markdown",
   "metadata": {},
   "source": [
    "# Importação das Bibliotecas"
   ]
  },
  {
   "cell_type": "code",
   "execution_count": 1,
   "metadata": {},
   "outputs": [
    {
     "name": "stdout",
     "output_type": "stream",
     "text": [
      "pandas:1.0.5\n",
      "seaborn:0.10.1\n"
     ]
    }
   ],
   "source": [
    "import pandas as pd\n",
    "import seaborn as sns \n",
    "import matplotlib.pyplot as plt\n",
    "print('pandas:'+pd.__version__)\n",
    "print('seaborn:'+sns.__version__)"
   ]
  },
  {
   "cell_type": "code",
   "execution_count": 2,
   "metadata": {},
   "outputs": [],
   "source": [
    "# Definição de função para evitar repetição de códigodefining a function for plot ours series and not repeat code a lot...\n",
    "def plot_serie(serie):\n",
    "    f, axes = plt.subplots(2, 2, figsize=(35, 20)) \n",
    "\n",
    "    # Axis 1\n",
    "    ax1 = axes[0,0]\n",
    "    sns.distplot(serie, norm_hist = False, kde=False, ax=ax1)\n",
    "    ax1.set(xlabel=\"Nota Média\", ylabel=\"Frequência\")\n",
    "    ax1.set_title(\"Distribuição da nota média (sem normalização)\")\n",
    "\n",
    "    # Axis 2\n",
    "    ax2 = axes[0,1]\n",
    "    sns.distplot(serie, ax=ax2)\n",
    "    ax2.set(xlabel=\"Nota Média\", ylabel=\"Densidade\")\n",
    "    ax2.set_title(\"Distribuição da nota média (normalizado)\")\n",
    "\n",
    "    # Axis 3\n",
    "    ax3 = axes[1,0]\n",
    "    sns.boxplot(x=serie, ax=ax3)\n",
    "    ax3.set(title='Distribuição da nota média', xlabel='')\n",
    "\n",
    "    # Axis 4\n",
    "    ax4 = axes[1,1]\n",
    "    sns.distplot(serie, hist_kws = {'cumulative':True}, kde_kws = {'cumulative':True}, ax=ax4)\n",
    "    ax4.set(xlabel='Nota Média', ylabel='Filmes %')\n",
    "    ax4.set_title('Nota média cumulativa')\n",
    "\n",
    "    f.show()"
   ]
  },
  {
   "cell_type": "markdown",
   "metadata": {},
   "source": [
    "Neste trabalho iremos fazer algumas análises estatísticas de dados dos datasets do movielens e do The Movie Database (TMDB).  \n",
    "Depois de carregarmos os dados, analisaremos algums distribuições entre eles, e também aproveitaremos para realizar alguma limpeza de dados, retirando informações \"estranhas\" dos datasets. \n",
    "Após isso, trabalharemos com as notas e as médias - sejam de todos os filmes ou de filmes específicos. Por exemplo, abordaremos a confiança que é expressada por uma média e o possível intervalo que melhor representaria aquela amostra.\n",
    "Além disso, o que acontece quando um filme tem 5 avaliações e outro que tem 1000 avaliações? Será que a média desses filmes é realmente comparável? \n",
    "Ao final geraremos um novo dataset juntando as informações dos dois datasets e veremos quem tem melhor desempenho ao tentar construir um sistema de recomendação de filmesAo longo dos nossos estudos, utilizaremos dados do MovieLens, que são avaliações de filmes (com notas de 0.5 a 5), e também do The Movie Database (TMDB).\n"
   ]
  },
  {
   "cell_type": "markdown",
   "metadata": {},
   "source": [
    "## Conhecendo as colunas do dataset TMDB"
   ]
  },
  {
   "cell_type": "code",
   "execution_count": 3,
   "metadata": {},
   "outputs": [
    {
     "name": "stdout",
     "output_type": "stream",
     "text": [
      "<class 'pandas.core.frame.DataFrame'>\n",
      "RangeIndex: 4803 entries, 0 to 4802\n",
      "Data columns (total 20 columns):\n",
      " #   Column                Non-Null Count  Dtype  \n",
      "---  ------                --------------  -----  \n",
      " 0   budget                4803 non-null   int64  \n",
      " 1   genres                4803 non-null   object \n",
      " 2   homepage              1712 non-null   object \n",
      " 3   id                    4803 non-null   int64  \n",
      " 4   keywords              4803 non-null   object \n",
      " 5   original_language     4803 non-null   object \n",
      " 6   original_title        4803 non-null   object \n",
      " 7   overview              4800 non-null   object \n",
      " 8   popularity            4803 non-null   float64\n",
      " 9   production_companies  4803 non-null   object \n",
      " 10  production_countries  4803 non-null   object \n",
      " 11  release_date          4802 non-null   object \n",
      " 12  revenue               4803 non-null   int64  \n",
      " 13  runtime               4801 non-null   float64\n",
      " 14  spoken_languages      4803 non-null   object \n",
      " 15  status                4803 non-null   object \n",
      " 16  tagline               3959 non-null   object \n",
      " 17  title                 4803 non-null   object \n",
      " 18  vote_average          4803 non-null   float64\n",
      " 19  vote_count            4803 non-null   int64  \n",
      "dtypes: float64(3), int64(4), object(13)\n",
      "memory usage: 750.6+ KB\n"
     ]
    }
   ],
   "source": [
    "tmdb = pd.read_csv('D:\\\\TCCDataScience\\\\dados\\\\tmdb_5000_movies.csv')\n",
    "tmdb.info()"
   ]
  },
  {
   "cell_type": "code",
   "execution_count": 4,
   "metadata": {},
   "outputs": [
    {
     "data": {
      "text/html": [
       "<div>\n",
       "<style scoped>\n",
       "    .dataframe tbody tr th:only-of-type {\n",
       "        vertical-align: middle;\n",
       "    }\n",
       "\n",
       "    .dataframe tbody tr th {\n",
       "        vertical-align: top;\n",
       "    }\n",
       "\n",
       "    .dataframe thead th {\n",
       "        text-align: right;\n",
       "    }\n",
       "</style>\n",
       "<table border=\"1\" class=\"dataframe\">\n",
       "  <thead>\n",
       "    <tr style=\"text-align: right;\">\n",
       "      <th></th>\n",
       "      <th>budget</th>\n",
       "      <th>genres</th>\n",
       "      <th>homepage</th>\n",
       "      <th>id</th>\n",
       "      <th>keywords</th>\n",
       "      <th>original_language</th>\n",
       "      <th>original_title</th>\n",
       "      <th>overview</th>\n",
       "      <th>popularity</th>\n",
       "      <th>production_companies</th>\n",
       "      <th>production_countries</th>\n",
       "      <th>release_date</th>\n",
       "      <th>revenue</th>\n",
       "      <th>runtime</th>\n",
       "      <th>spoken_languages</th>\n",
       "      <th>status</th>\n",
       "      <th>tagline</th>\n",
       "      <th>title</th>\n",
       "      <th>vote_average</th>\n",
       "      <th>vote_count</th>\n",
       "    </tr>\n",
       "  </thead>\n",
       "  <tbody>\n",
       "    <tr>\n",
       "      <th>0</th>\n",
       "      <td>237000000</td>\n",
       "      <td>[{\"id\": 28, \"name\": \"Action\"}, {\"id\": 12, \"nam...</td>\n",
       "      <td>http://www.avatarmovie.com/</td>\n",
       "      <td>19995</td>\n",
       "      <td>[{\"id\": 1463, \"name\": \"culture clash\"}, {\"id\":...</td>\n",
       "      <td>en</td>\n",
       "      <td>Avatar</td>\n",
       "      <td>In the 22nd century, a paraplegic Marine is di...</td>\n",
       "      <td>150.437577</td>\n",
       "      <td>[{\"name\": \"Ingenious Film Partners\", \"id\": 289...</td>\n",
       "      <td>[{\"iso_3166_1\": \"US\", \"name\": \"United States o...</td>\n",
       "      <td>2009-12-10</td>\n",
       "      <td>2787965087</td>\n",
       "      <td>162.0</td>\n",
       "      <td>[{\"iso_639_1\": \"en\", \"name\": \"English\"}, {\"iso...</td>\n",
       "      <td>Released</td>\n",
       "      <td>Enter the World of Pandora.</td>\n",
       "      <td>Avatar</td>\n",
       "      <td>7.2</td>\n",
       "      <td>11800</td>\n",
       "    </tr>\n",
       "    <tr>\n",
       "      <th>1</th>\n",
       "      <td>300000000</td>\n",
       "      <td>[{\"id\": 12, \"name\": \"Adventure\"}, {\"id\": 14, \"...</td>\n",
       "      <td>http://disney.go.com/disneypictures/pirates/</td>\n",
       "      <td>285</td>\n",
       "      <td>[{\"id\": 270, \"name\": \"ocean\"}, {\"id\": 726, \"na...</td>\n",
       "      <td>en</td>\n",
       "      <td>Pirates of the Caribbean: At World's End</td>\n",
       "      <td>Captain Barbossa, long believed to be dead, ha...</td>\n",
       "      <td>139.082615</td>\n",
       "      <td>[{\"name\": \"Walt Disney Pictures\", \"id\": 2}, {\"...</td>\n",
       "      <td>[{\"iso_3166_1\": \"US\", \"name\": \"United States o...</td>\n",
       "      <td>2007-05-19</td>\n",
       "      <td>961000000</td>\n",
       "      <td>169.0</td>\n",
       "      <td>[{\"iso_639_1\": \"en\", \"name\": \"English\"}]</td>\n",
       "      <td>Released</td>\n",
       "      <td>At the end of the world, the adventure begins.</td>\n",
       "      <td>Pirates of the Caribbean: At World's End</td>\n",
       "      <td>6.9</td>\n",
       "      <td>4500</td>\n",
       "    </tr>\n",
       "    <tr>\n",
       "      <th>2</th>\n",
       "      <td>245000000</td>\n",
       "      <td>[{\"id\": 28, \"name\": \"Action\"}, {\"id\": 12, \"nam...</td>\n",
       "      <td>http://www.sonypictures.com/movies/spectre/</td>\n",
       "      <td>206647</td>\n",
       "      <td>[{\"id\": 470, \"name\": \"spy\"}, {\"id\": 818, \"name...</td>\n",
       "      <td>en</td>\n",
       "      <td>Spectre</td>\n",
       "      <td>A cryptic message from Bond’s past sends him o...</td>\n",
       "      <td>107.376788</td>\n",
       "      <td>[{\"name\": \"Columbia Pictures\", \"id\": 5}, {\"nam...</td>\n",
       "      <td>[{\"iso_3166_1\": \"GB\", \"name\": \"United Kingdom\"...</td>\n",
       "      <td>2015-10-26</td>\n",
       "      <td>880674609</td>\n",
       "      <td>148.0</td>\n",
       "      <td>[{\"iso_639_1\": \"fr\", \"name\": \"Fran\\u00e7ais\"},...</td>\n",
       "      <td>Released</td>\n",
       "      <td>A Plan No One Escapes</td>\n",
       "      <td>Spectre</td>\n",
       "      <td>6.3</td>\n",
       "      <td>4466</td>\n",
       "    </tr>\n",
       "    <tr>\n",
       "      <th>3</th>\n",
       "      <td>250000000</td>\n",
       "      <td>[{\"id\": 28, \"name\": \"Action\"}, {\"id\": 80, \"nam...</td>\n",
       "      <td>http://www.thedarkknightrises.com/</td>\n",
       "      <td>49026</td>\n",
       "      <td>[{\"id\": 849, \"name\": \"dc comics\"}, {\"id\": 853,...</td>\n",
       "      <td>en</td>\n",
       "      <td>The Dark Knight Rises</td>\n",
       "      <td>Following the death of District Attorney Harve...</td>\n",
       "      <td>112.312950</td>\n",
       "      <td>[{\"name\": \"Legendary Pictures\", \"id\": 923}, {\"...</td>\n",
       "      <td>[{\"iso_3166_1\": \"US\", \"name\": \"United States o...</td>\n",
       "      <td>2012-07-16</td>\n",
       "      <td>1084939099</td>\n",
       "      <td>165.0</td>\n",
       "      <td>[{\"iso_639_1\": \"en\", \"name\": \"English\"}]</td>\n",
       "      <td>Released</td>\n",
       "      <td>The Legend Ends</td>\n",
       "      <td>The Dark Knight Rises</td>\n",
       "      <td>7.6</td>\n",
       "      <td>9106</td>\n",
       "    </tr>\n",
       "    <tr>\n",
       "      <th>4</th>\n",
       "      <td>260000000</td>\n",
       "      <td>[{\"id\": 28, \"name\": \"Action\"}, {\"id\": 12, \"nam...</td>\n",
       "      <td>http://movies.disney.com/john-carter</td>\n",
       "      <td>49529</td>\n",
       "      <td>[{\"id\": 818, \"name\": \"based on novel\"}, {\"id\":...</td>\n",
       "      <td>en</td>\n",
       "      <td>John Carter</td>\n",
       "      <td>John Carter is a war-weary, former military ca...</td>\n",
       "      <td>43.926995</td>\n",
       "      <td>[{\"name\": \"Walt Disney Pictures\", \"id\": 2}]</td>\n",
       "      <td>[{\"iso_3166_1\": \"US\", \"name\": \"United States o...</td>\n",
       "      <td>2012-03-07</td>\n",
       "      <td>284139100</td>\n",
       "      <td>132.0</td>\n",
       "      <td>[{\"iso_639_1\": \"en\", \"name\": \"English\"}]</td>\n",
       "      <td>Released</td>\n",
       "      <td>Lost in our world, found in another.</td>\n",
       "      <td>John Carter</td>\n",
       "      <td>6.1</td>\n",
       "      <td>2124</td>\n",
       "    </tr>\n",
       "  </tbody>\n",
       "</table>\n",
       "</div>"
      ],
      "text/plain": [
       "      budget                                             genres  \\\n",
       "0  237000000  [{\"id\": 28, \"name\": \"Action\"}, {\"id\": 12, \"nam...   \n",
       "1  300000000  [{\"id\": 12, \"name\": \"Adventure\"}, {\"id\": 14, \"...   \n",
       "2  245000000  [{\"id\": 28, \"name\": \"Action\"}, {\"id\": 12, \"nam...   \n",
       "3  250000000  [{\"id\": 28, \"name\": \"Action\"}, {\"id\": 80, \"nam...   \n",
       "4  260000000  [{\"id\": 28, \"name\": \"Action\"}, {\"id\": 12, \"nam...   \n",
       "\n",
       "                                       homepage      id  \\\n",
       "0                   http://www.avatarmovie.com/   19995   \n",
       "1  http://disney.go.com/disneypictures/pirates/     285   \n",
       "2   http://www.sonypictures.com/movies/spectre/  206647   \n",
       "3            http://www.thedarkknightrises.com/   49026   \n",
       "4          http://movies.disney.com/john-carter   49529   \n",
       "\n",
       "                                            keywords original_language  \\\n",
       "0  [{\"id\": 1463, \"name\": \"culture clash\"}, {\"id\":...                en   \n",
       "1  [{\"id\": 270, \"name\": \"ocean\"}, {\"id\": 726, \"na...                en   \n",
       "2  [{\"id\": 470, \"name\": \"spy\"}, {\"id\": 818, \"name...                en   \n",
       "3  [{\"id\": 849, \"name\": \"dc comics\"}, {\"id\": 853,...                en   \n",
       "4  [{\"id\": 818, \"name\": \"based on novel\"}, {\"id\":...                en   \n",
       "\n",
       "                             original_title  \\\n",
       "0                                    Avatar   \n",
       "1  Pirates of the Caribbean: At World's End   \n",
       "2                                   Spectre   \n",
       "3                     The Dark Knight Rises   \n",
       "4                               John Carter   \n",
       "\n",
       "                                            overview  popularity  \\\n",
       "0  In the 22nd century, a paraplegic Marine is di...  150.437577   \n",
       "1  Captain Barbossa, long believed to be dead, ha...  139.082615   \n",
       "2  A cryptic message from Bond’s past sends him o...  107.376788   \n",
       "3  Following the death of District Attorney Harve...  112.312950   \n",
       "4  John Carter is a war-weary, former military ca...   43.926995   \n",
       "\n",
       "                                production_companies  \\\n",
       "0  [{\"name\": \"Ingenious Film Partners\", \"id\": 289...   \n",
       "1  [{\"name\": \"Walt Disney Pictures\", \"id\": 2}, {\"...   \n",
       "2  [{\"name\": \"Columbia Pictures\", \"id\": 5}, {\"nam...   \n",
       "3  [{\"name\": \"Legendary Pictures\", \"id\": 923}, {\"...   \n",
       "4        [{\"name\": \"Walt Disney Pictures\", \"id\": 2}]   \n",
       "\n",
       "                                production_countries release_date     revenue  \\\n",
       "0  [{\"iso_3166_1\": \"US\", \"name\": \"United States o...   2009-12-10  2787965087   \n",
       "1  [{\"iso_3166_1\": \"US\", \"name\": \"United States o...   2007-05-19   961000000   \n",
       "2  [{\"iso_3166_1\": \"GB\", \"name\": \"United Kingdom\"...   2015-10-26   880674609   \n",
       "3  [{\"iso_3166_1\": \"US\", \"name\": \"United States o...   2012-07-16  1084939099   \n",
       "4  [{\"iso_3166_1\": \"US\", \"name\": \"United States o...   2012-03-07   284139100   \n",
       "\n",
       "   runtime                                   spoken_languages    status  \\\n",
       "0    162.0  [{\"iso_639_1\": \"en\", \"name\": \"English\"}, {\"iso...  Released   \n",
       "1    169.0           [{\"iso_639_1\": \"en\", \"name\": \"English\"}]  Released   \n",
       "2    148.0  [{\"iso_639_1\": \"fr\", \"name\": \"Fran\\u00e7ais\"},...  Released   \n",
       "3    165.0           [{\"iso_639_1\": \"en\", \"name\": \"English\"}]  Released   \n",
       "4    132.0           [{\"iso_639_1\": \"en\", \"name\": \"English\"}]  Released   \n",
       "\n",
       "                                          tagline  \\\n",
       "0                     Enter the World of Pandora.   \n",
       "1  At the end of the world, the adventure begins.   \n",
       "2                           A Plan No One Escapes   \n",
       "3                                 The Legend Ends   \n",
       "4            Lost in our world, found in another.   \n",
       "\n",
       "                                      title  vote_average  vote_count  \n",
       "0                                    Avatar           7.2       11800  \n",
       "1  Pirates of the Caribbean: At World's End           6.9        4500  \n",
       "2                                   Spectre           6.3        4466  \n",
       "3                     The Dark Knight Rises           7.6        9106  \n",
       "4                               John Carter           6.1        2124  "
      ]
     },
     "execution_count": 4,
     "metadata": {},
     "output_type": "execute_result"
    }
   ],
   "source": [
    " \n",
    "tmdb.head()"
   ]
  },
  {
   "cell_type": "code",
   "execution_count": 5,
   "metadata": {},
   "outputs": [
    {
     "data": {
      "text/plain": [
       "(4803, 20)"
      ]
     },
     "execution_count": 5,
     "metadata": {},
     "output_type": "execute_result"
    }
   ],
   "source": [
    "tmdb.shape"
   ]
  },
  {
   "cell_type": "markdown",
   "metadata": {},
   "source": [
    "# Dados estatísticos básicos\n"
   ]
  },
  {
   "cell_type": "code",
   "execution_count": 6,
   "metadata": {},
   "outputs": [
    {
     "data": {
      "text/html": [
       "<div>\n",
       "<style scoped>\n",
       "    .dataframe tbody tr th:only-of-type {\n",
       "        vertical-align: middle;\n",
       "    }\n",
       "\n",
       "    .dataframe tbody tr th {\n",
       "        vertical-align: top;\n",
       "    }\n",
       "\n",
       "    .dataframe thead th {\n",
       "        text-align: right;\n",
       "    }\n",
       "</style>\n",
       "<table border=\"1\" class=\"dataframe\">\n",
       "  <thead>\n",
       "    <tr style=\"text-align: right;\">\n",
       "      <th></th>\n",
       "      <th>budget</th>\n",
       "      <th>id</th>\n",
       "      <th>popularity</th>\n",
       "      <th>revenue</th>\n",
       "      <th>runtime</th>\n",
       "      <th>vote_average</th>\n",
       "      <th>vote_count</th>\n",
       "    </tr>\n",
       "  </thead>\n",
       "  <tbody>\n",
       "    <tr>\n",
       "      <th>count</th>\n",
       "      <td>4.803000e+03</td>\n",
       "      <td>4803.000000</td>\n",
       "      <td>4803.000000</td>\n",
       "      <td>4.803000e+03</td>\n",
       "      <td>4801.000000</td>\n",
       "      <td>4803.000000</td>\n",
       "      <td>4803.000000</td>\n",
       "    </tr>\n",
       "    <tr>\n",
       "      <th>mean</th>\n",
       "      <td>2.904504e+07</td>\n",
       "      <td>57165.484281</td>\n",
       "      <td>21.492301</td>\n",
       "      <td>8.226064e+07</td>\n",
       "      <td>106.875859</td>\n",
       "      <td>6.092172</td>\n",
       "      <td>690.217989</td>\n",
       "    </tr>\n",
       "    <tr>\n",
       "      <th>std</th>\n",
       "      <td>4.072239e+07</td>\n",
       "      <td>88694.614033</td>\n",
       "      <td>31.816650</td>\n",
       "      <td>1.628571e+08</td>\n",
       "      <td>22.611935</td>\n",
       "      <td>1.194612</td>\n",
       "      <td>1234.585891</td>\n",
       "    </tr>\n",
       "    <tr>\n",
       "      <th>min</th>\n",
       "      <td>0.000000e+00</td>\n",
       "      <td>5.000000</td>\n",
       "      <td>0.000000</td>\n",
       "      <td>0.000000e+00</td>\n",
       "      <td>0.000000</td>\n",
       "      <td>0.000000</td>\n",
       "      <td>0.000000</td>\n",
       "    </tr>\n",
       "    <tr>\n",
       "      <th>25%</th>\n",
       "      <td>7.900000e+05</td>\n",
       "      <td>9014.500000</td>\n",
       "      <td>4.668070</td>\n",
       "      <td>0.000000e+00</td>\n",
       "      <td>94.000000</td>\n",
       "      <td>5.600000</td>\n",
       "      <td>54.000000</td>\n",
       "    </tr>\n",
       "    <tr>\n",
       "      <th>50%</th>\n",
       "      <td>1.500000e+07</td>\n",
       "      <td>14629.000000</td>\n",
       "      <td>12.921594</td>\n",
       "      <td>1.917000e+07</td>\n",
       "      <td>103.000000</td>\n",
       "      <td>6.200000</td>\n",
       "      <td>235.000000</td>\n",
       "    </tr>\n",
       "    <tr>\n",
       "      <th>75%</th>\n",
       "      <td>4.000000e+07</td>\n",
       "      <td>58610.500000</td>\n",
       "      <td>28.313505</td>\n",
       "      <td>9.291719e+07</td>\n",
       "      <td>118.000000</td>\n",
       "      <td>6.800000</td>\n",
       "      <td>737.000000</td>\n",
       "    </tr>\n",
       "    <tr>\n",
       "      <th>max</th>\n",
       "      <td>3.800000e+08</td>\n",
       "      <td>459488.000000</td>\n",
       "      <td>875.581305</td>\n",
       "      <td>2.787965e+09</td>\n",
       "      <td>338.000000</td>\n",
       "      <td>10.000000</td>\n",
       "      <td>13752.000000</td>\n",
       "    </tr>\n",
       "  </tbody>\n",
       "</table>\n",
       "</div>"
      ],
      "text/plain": [
       "             budget             id   popularity       revenue      runtime  \\\n",
       "count  4.803000e+03    4803.000000  4803.000000  4.803000e+03  4801.000000   \n",
       "mean   2.904504e+07   57165.484281    21.492301  8.226064e+07   106.875859   \n",
       "std    4.072239e+07   88694.614033    31.816650  1.628571e+08    22.611935   \n",
       "min    0.000000e+00       5.000000     0.000000  0.000000e+00     0.000000   \n",
       "25%    7.900000e+05    9014.500000     4.668070  0.000000e+00    94.000000   \n",
       "50%    1.500000e+07   14629.000000    12.921594  1.917000e+07   103.000000   \n",
       "75%    4.000000e+07   58610.500000    28.313505  9.291719e+07   118.000000   \n",
       "max    3.800000e+08  459488.000000   875.581305  2.787965e+09   338.000000   \n",
       "\n",
       "       vote_average    vote_count  \n",
       "count   4803.000000   4803.000000  \n",
       "mean       6.092172    690.217989  \n",
       "std        1.194612   1234.585891  \n",
       "min        0.000000      0.000000  \n",
       "25%        5.600000     54.000000  \n",
       "50%        6.200000    235.000000  \n",
       "75%        6.800000    737.000000  \n",
       "max       10.000000  13752.000000  "
      ]
     },
     "execution_count": 6,
     "metadata": {},
     "output_type": "execute_result"
    }
   ],
   "source": [
    "tmdb.describe()"
   ]
  },
  {
   "cell_type": "markdown",
   "metadata": {},
   "source": [
    "Na tabela fornecida pelo describe, podemos ver algumas informações estatísticas básicas das colunas numéricas do dataset. Na tabela podemos verificar a mediana (que figura na linha 50%, e que representa o valor que divide o conjunto de dados ao meio) e os quartis (25% e 75%). Podemos ver, por exemplo, que o valor mínimo para \"vote_average é 0, e o máximo é 10. Essa é uma maneira tabular de visualizarmos essas informações."
   ]
  },
  {
   "cell_type": "code",
   "execution_count": 7,
   "metadata": {},
   "outputs": [
    {
     "data": {
      "text/html": [
       "<div>\n",
       "<style scoped>\n",
       "    .dataframe tbody tr th:only-of-type {\n",
       "        vertical-align: middle;\n",
       "    }\n",
       "\n",
       "    .dataframe tbody tr th {\n",
       "        vertical-align: top;\n",
       "    }\n",
       "\n",
       "    .dataframe thead th {\n",
       "        text-align: right;\n",
       "    }\n",
       "</style>\n",
       "<table border=\"1\" class=\"dataframe\">\n",
       "  <thead>\n",
       "    <tr style=\"text-align: right;\">\n",
       "      <th></th>\n",
       "      <th>count</th>\n",
       "      <th>mean</th>\n",
       "      <th>std</th>\n",
       "      <th>min</th>\n",
       "      <th>25%</th>\n",
       "      <th>50%</th>\n",
       "      <th>75%</th>\n",
       "      <th>max</th>\n",
       "    </tr>\n",
       "  </thead>\n",
       "  <tbody>\n",
       "    <tr>\n",
       "      <th>budget</th>\n",
       "      <td>4803.0</td>\n",
       "      <td>2.904504e+07</td>\n",
       "      <td>4.072239e+07</td>\n",
       "      <td>0.0</td>\n",
       "      <td>790000.00000</td>\n",
       "      <td>1.500000e+07</td>\n",
       "      <td>4.000000e+07</td>\n",
       "      <td>3.800000e+08</td>\n",
       "    </tr>\n",
       "    <tr>\n",
       "      <th>id</th>\n",
       "      <td>4803.0</td>\n",
       "      <td>5.716548e+04</td>\n",
       "      <td>8.869461e+04</td>\n",
       "      <td>5.0</td>\n",
       "      <td>9014.50000</td>\n",
       "      <td>1.462900e+04</td>\n",
       "      <td>5.861050e+04</td>\n",
       "      <td>4.594880e+05</td>\n",
       "    </tr>\n",
       "    <tr>\n",
       "      <th>popularity</th>\n",
       "      <td>4803.0</td>\n",
       "      <td>2.149230e+01</td>\n",
       "      <td>3.181665e+01</td>\n",
       "      <td>0.0</td>\n",
       "      <td>4.66807</td>\n",
       "      <td>1.292159e+01</td>\n",
       "      <td>2.831350e+01</td>\n",
       "      <td>8.755813e+02</td>\n",
       "    </tr>\n",
       "    <tr>\n",
       "      <th>revenue</th>\n",
       "      <td>4803.0</td>\n",
       "      <td>8.226064e+07</td>\n",
       "      <td>1.628571e+08</td>\n",
       "      <td>0.0</td>\n",
       "      <td>0.00000</td>\n",
       "      <td>1.917000e+07</td>\n",
       "      <td>9.291719e+07</td>\n",
       "      <td>2.787965e+09</td>\n",
       "    </tr>\n",
       "    <tr>\n",
       "      <th>runtime</th>\n",
       "      <td>4801.0</td>\n",
       "      <td>1.068759e+02</td>\n",
       "      <td>2.261193e+01</td>\n",
       "      <td>0.0</td>\n",
       "      <td>94.00000</td>\n",
       "      <td>1.030000e+02</td>\n",
       "      <td>1.180000e+02</td>\n",
       "      <td>3.380000e+02</td>\n",
       "    </tr>\n",
       "    <tr>\n",
       "      <th>vote_average</th>\n",
       "      <td>4803.0</td>\n",
       "      <td>6.092172e+00</td>\n",
       "      <td>1.194612e+00</td>\n",
       "      <td>0.0</td>\n",
       "      <td>5.60000</td>\n",
       "      <td>6.200000e+00</td>\n",
       "      <td>6.800000e+00</td>\n",
       "      <td>1.000000e+01</td>\n",
       "    </tr>\n",
       "    <tr>\n",
       "      <th>vote_count</th>\n",
       "      <td>4803.0</td>\n",
       "      <td>6.902180e+02</td>\n",
       "      <td>1.234586e+03</td>\n",
       "      <td>0.0</td>\n",
       "      <td>54.00000</td>\n",
       "      <td>2.350000e+02</td>\n",
       "      <td>7.370000e+02</td>\n",
       "      <td>1.375200e+04</td>\n",
       "    </tr>\n",
       "  </tbody>\n",
       "</table>\n",
       "</div>"
      ],
      "text/plain": [
       "               count          mean           std  min           25%  \\\n",
       "budget        4803.0  2.904504e+07  4.072239e+07  0.0  790000.00000   \n",
       "id            4803.0  5.716548e+04  8.869461e+04  5.0    9014.50000   \n",
       "popularity    4803.0  2.149230e+01  3.181665e+01  0.0       4.66807   \n",
       "revenue       4803.0  8.226064e+07  1.628571e+08  0.0       0.00000   \n",
       "runtime       4801.0  1.068759e+02  2.261193e+01  0.0      94.00000   \n",
       "vote_average  4803.0  6.092172e+00  1.194612e+00  0.0       5.60000   \n",
       "vote_count    4803.0  6.902180e+02  1.234586e+03  0.0      54.00000   \n",
       "\n",
       "                       50%           75%           max  \n",
       "budget        1.500000e+07  4.000000e+07  3.800000e+08  \n",
       "id            1.462900e+04  5.861050e+04  4.594880e+05  \n",
       "popularity    1.292159e+01  2.831350e+01  8.755813e+02  \n",
       "revenue       1.917000e+07  9.291719e+07  2.787965e+09  \n",
       "runtime       1.030000e+02  1.180000e+02  3.380000e+02  \n",
       "vote_average  6.200000e+00  6.800000e+00  1.000000e+01  \n",
       "vote_count    2.350000e+02  7.370000e+02  1.375200e+04  "
      ]
     },
     "execution_count": 7,
     "metadata": {},
     "output_type": "execute_result"
    }
   ],
   "source": [
    "#tmdb.describe().T.to_csv('D:\\\\TCCDataScience\\\\dados\\\\tmdb_5000_movies_describe.csv')\n",
    "tmdb.describe().T"
   ]
  },
  {
   "cell_type": "markdown",
   "metadata": {},
   "source": [
    "### Foi verificado que a quantidade de linhas de runtime está diferente. \n",
    "### Quais colunas do dataset possuem valores nulos?"
   ]
  },
  {
   "cell_type": "code",
   "execution_count": 8,
   "metadata": {},
   "outputs": [
    {
     "data": {
      "text/plain": [
       "budget                     0\n",
       "genres                     0\n",
       "homepage                3091\n",
       "id                         0\n",
       "keywords                   0\n",
       "original_language          0\n",
       "original_title             0\n",
       "overview                   3\n",
       "popularity                 0\n",
       "production_companies       0\n",
       "production_countries       0\n",
       "release_date               1\n",
       "revenue                    0\n",
       "runtime                    2\n",
       "spoken_languages           0\n",
       "status                     0\n",
       "tagline                  844\n",
       "title                      0\n",
       "vote_average               0\n",
       "vote_count                 0\n",
       "dtype: int64"
      ]
     },
     "execution_count": 8,
     "metadata": {},
     "output_type": "execute_result"
    }
   ],
   "source": [
    "tmdb.isnull().sum()"
   ]
  },
  {
   "cell_type": "markdown",
   "metadata": {},
   "source": [
    "## Verificando a nota média dos filmes graficamente"
   ]
  },
  {
   "cell_type": "code",
   "execution_count": 9,
   "metadata": {},
   "outputs": [],
   "source": [
    "#import matplotlib\n",
    "#matplotlib.use('Agg')\n",
    "#import matplotlib.pyplot as plt\n",
    "#matplotlib.style.use('ggplot')\n",
    "#import seaborn as sns\n",
    "#sns.set()\n",
    "#df = tmdb\n",
    "#sns_plot = sns.pairplot(df, hue='vote_count', size=2.5)\n",
    "#fig = sns_plot.get_figure()\n",
    "#fig.savefig(\"D:\\\\TCCDataScience\\\\dados\\\\output.png\")\n",
    "#sns.plt.show()"
   ]
  },
  {
   "cell_type": "code",
   "execution_count": 10,
   "metadata": {},
   "outputs": [
    {
     "data": {
      "text/plain": [
       "Text(0.5, 1.0, 'Média de votos em filmes no TMBD 5000')"
      ]
     },
     "execution_count": 10,
     "metadata": {},
     "output_type": "execute_result"
    },
    {
     "data": {
      "image/png": "[encoded data removed]",
      "text/plain": [
       "<Figure size 432x288 with 1 Axes>"
      ]
     },
     "metadata": {
      "needs_background": "light"
     },
     "output_type": "display_data"
    }
   ],
   "source": [
    "\n",
    "ax = sns.distplot(tmdb.vote_average)\n",
    "ax.set(xlabel='Nota média', ylabel='Densidade')\n",
    "ax.set_title('Média de votos em filmes no TMBD 5000')\n",
    " "
   ]
  },
  {
   "cell_type": "markdown",
   "metadata": {},
   "source": [
    "No gráfico acima podemos ver que existem algumas notas zero, mas não sabemos quantas. \n",
    "Podemos ter uma ideia de quantidade se transformarmos o gráfico acima em um gráfico de frequências"
   ]
  },
  {
   "cell_type": "code",
   "execution_count": 11,
   "metadata": {},
   "outputs": [
    {
     "data": {
      "text/plain": [
       "Text(0.5, 1.0, 'Média de votos em filmes no TMBD 5000')"
      ]
     },
     "execution_count": 11,
     "metadata": {},
     "output_type": "execute_result"
    },
    {
     "data": {
      "image/png": "[encoded data removed]",
      "text/plain": [
       "<Figure size 432x288 with 1 Axes>"
      ]
     },
     "metadata": {
      "needs_background": "light"
     },
     "output_type": "display_data"
    }
   ],
   "source": [
    "ax = sns.distplot(tmdb.vote_average, norm_hist= False, kde= False)\n",
    "ax.set(xlabel='Nota média', ylabel='Frequência')\n",
    "ax.set_title('Média de votos em filmes no TMBD 5000')"
   ]
  },
  {
   "cell_type": "markdown",
   "metadata": {},
   "source": [
    "Vamos ver o boxplot dos dados do dataset. Outra maneira de visualizarmos as informações sobre as notas atribuídas ao filmes. No boxplot abaixo podemos ver a mediana e os quartis do conjunto de notas"
   ]
  },
  {
   "cell_type": "code",
   "execution_count": 12,
   "metadata": {},
   "outputs": [
    {
     "data": {
      "text/plain": [
       "Text(0.5, 1.0, 'Distribuição de nota média dos filmes do TMDB 5000')"
      ]
     },
     "execution_count": 12,
     "metadata": {},
     "output_type": "execute_result"
    },
    {
     "data": {
      "image/png": "[encoded data removed]",
      "text/plain": [
       "<Figure size 432x288 with 1 Axes>"
      ]
     },
     "metadata": {
      "needs_background": "light"
     },
     "output_type": "display_data"
    }
   ],
   "source": [
    "ax = sns.boxplot(tmdb.vote_average)\n",
    "ax.set(xlabel='Nota  média do filme')\n",
    "ax.set_title('Distribuição de nota média dos filmes do TMDB 5000')"
   ]
  },
  {
   "cell_type": "markdown",
   "metadata": {},
   "source": [
    "Uma informação importante que podemos extrair dos gráficos acima é que existem uma quantidade razoável de filmes com médias 0 ou 10. Seria incomum isso, pois como o campo é uma média, qualquer nota diferente de 0 ou 10 mudaria essas médias. Isso pode indicar que alguns filmes estão sem notas, ficando com média 0 e também que alguns filmes devem ter tido pouquíssimas notas."
   ]
  },
  {
   "cell_type": "markdown",
   "metadata": {},
   "source": [
    "Verificando notas 0"
   ]
  },
  {
   "cell_type": "code",
   "execution_count": 13,
   "metadata": {},
   "outputs": [
    {
     "data": {
      "text/html": [
       "<div>\n",
       "<style scoped>\n",
       "    .dataframe tbody tr th:only-of-type {\n",
       "        vertical-align: middle;\n",
       "    }\n",
       "\n",
       "    .dataframe tbody tr th {\n",
       "        vertical-align: top;\n",
       "    }\n",
       "\n",
       "    .dataframe thead th {\n",
       "        text-align: right;\n",
       "    }\n",
       "</style>\n",
       "<table border=\"1\" class=\"dataframe\">\n",
       "  <thead>\n",
       "    <tr style=\"text-align: right;\">\n",
       "      <th></th>\n",
       "      <th>title</th>\n",
       "      <th>vote_average</th>\n",
       "      <th>vote_count</th>\n",
       "    </tr>\n",
       "  </thead>\n",
       "  <tbody>\n",
       "    <tr>\n",
       "      <th>1464</th>\n",
       "      <td>Black Water Transit</td>\n",
       "      <td>0.0</td>\n",
       "      <td>0</td>\n",
       "    </tr>\n",
       "    <tr>\n",
       "      <th>3669</th>\n",
       "      <td>Should've Been Romeo</td>\n",
       "      <td>0.0</td>\n",
       "      <td>0</td>\n",
       "    </tr>\n",
       "    <tr>\n",
       "      <th>3670</th>\n",
       "      <td>Running Forever</td>\n",
       "      <td>0.0</td>\n",
       "      <td>0</td>\n",
       "    </tr>\n",
       "    <tr>\n",
       "      <th>3852</th>\n",
       "      <td>The Secret</td>\n",
       "      <td>0.0</td>\n",
       "      <td>0</td>\n",
       "    </tr>\n",
       "    <tr>\n",
       "      <th>3855</th>\n",
       "      <td>Time to Choose</td>\n",
       "      <td>0.0</td>\n",
       "      <td>0</td>\n",
       "    </tr>\n",
       "  </tbody>\n",
       "</table>\n",
       "</div>"
      ],
      "text/plain": [
       "                     title  vote_average  vote_count\n",
       "1464   Black Water Transit           0.0           0\n",
       "3669  Should've Been Romeo           0.0           0\n",
       "3670       Running Forever           0.0           0\n",
       "3852            The Secret           0.0           0\n",
       "3855        Time to Choose           0.0           0"
      ]
     },
     "execution_count": 13,
     "metadata": {},
     "output_type": "execute_result"
    }
   ],
   "source": [
    "tmdb.query('vote_average == 0 ')[['title','vote_average','vote_count']].head(5)"
   ]
  },
  {
   "cell_type": "code",
   "execution_count": 14,
   "metadata": {},
   "outputs": [
    {
     "data": {
      "text/plain": [
       "(63, 20)"
      ]
     },
     "execution_count": 14,
     "metadata": {},
     "output_type": "execute_result"
    }
   ],
   "source": [
    "tmdb.query('vote_average == 0 ').shape"
   ]
  },
  {
   "cell_type": "code",
   "execution_count": 15,
   "metadata": {},
   "outputs": [
    {
     "data": {
      "text/plain": [
       "(1, 20)"
      ]
     },
     "execution_count": 15,
     "metadata": {},
     "output_type": "execute_result"
    }
   ],
   "source": [
    "tmdb.query('vote_average == 0 and vote_count >0 ').shape"
   ]
  },
  {
   "cell_type": "code",
   "execution_count": 16,
   "metadata": {},
   "outputs": [
    {
     "data": {
      "text/html": [
       "<div>\n",
       "<style scoped>\n",
       "    .dataframe tbody tr th:only-of-type {\n",
       "        vertical-align: middle;\n",
       "    }\n",
       "\n",
       "    .dataframe tbody tr th {\n",
       "        vertical-align: top;\n",
       "    }\n",
       "\n",
       "    .dataframe thead th {\n",
       "        text-align: right;\n",
       "    }\n",
       "</style>\n",
       "<table border=\"1\" class=\"dataframe\">\n",
       "  <thead>\n",
       "    <tr style=\"text-align: right;\">\n",
       "      <th></th>\n",
       "      <th>title</th>\n",
       "      <th>vote_average</th>\n",
       "      <th>vote_count</th>\n",
       "    </tr>\n",
       "  </thead>\n",
       "  <tbody>\n",
       "    <tr>\n",
       "      <th>4400</th>\n",
       "      <td>Sparkler</td>\n",
       "      <td>0.0</td>\n",
       "      <td>1</td>\n",
       "    </tr>\n",
       "  </tbody>\n",
       "</table>\n",
       "</div>"
      ],
      "text/plain": [
       "         title  vote_average  vote_count\n",
       "4400  Sparkler           0.0           1"
      ]
     },
     "execution_count": 16,
     "metadata": {},
     "output_type": "execute_result"
    }
   ],
   "source": [
    "tmdb.query('vote_average == 0 and vote_count >0 ')[['title','vote_average','vote_count']].head(5)"
   ]
  },
  {
   "cell_type": "markdown",
   "metadata": {},
   "source": [
    "Com os dados acima, podemos verificar que outras coluna tem a sua importância, a coluna 'vote_count'. A maioria dos filmes com média 0 não possuem votos. Essas notas nos dizem que os filmes seriam ruins, o que não é necessariamente o caso. Vamos remover esses filmes do dataframe. Ainda há o caso de um filme onde recebeu uma única nota 0. Esse filme também será retirado do dataframe por não ser significativo para conclusões estatísticas. Iremos manter no dataframe os registros onde o mínimo de notas seja 20. Em seguida veremos as características do novo conjunto de dados"
   ]
  },
  {
   "cell_type": "markdown",
   "metadata": {},
   "source": [
    "## Deixando somente os filmes com mais de 20 votos"
   ]
  },
  {
   "cell_type": "code",
   "execution_count": 17,
   "metadata": {},
   "outputs": [
    {
     "data": {
      "text/plain": [
       "(4138, 20)"
      ]
     },
     "execution_count": 17,
     "metadata": {},
     "output_type": "execute_result"
    }
   ],
   "source": [
    "tmdb_min_20 = tmdb.query('vote_count >= 20')\n",
    "tmdb_min_20.shape"
   ]
  },
  {
   "cell_type": "code",
   "execution_count": 18,
   "metadata": {},
   "outputs": [
    {
     "data": {
      "text/html": [
       "<div>\n",
       "<style scoped>\n",
       "    .dataframe tbody tr th:only-of-type {\n",
       "        vertical-align: middle;\n",
       "    }\n",
       "\n",
       "    .dataframe tbody tr th {\n",
       "        vertical-align: top;\n",
       "    }\n",
       "\n",
       "    .dataframe thead th {\n",
       "        text-align: right;\n",
       "    }\n",
       "</style>\n",
       "<table border=\"1\" class=\"dataframe\">\n",
       "  <thead>\n",
       "    <tr style=\"text-align: right;\">\n",
       "      <th></th>\n",
       "      <th>budget</th>\n",
       "      <th>id</th>\n",
       "      <th>popularity</th>\n",
       "      <th>revenue</th>\n",
       "      <th>runtime</th>\n",
       "      <th>vote_average</th>\n",
       "      <th>vote_count</th>\n",
       "    </tr>\n",
       "  </thead>\n",
       "  <tbody>\n",
       "    <tr>\n",
       "      <th>count</th>\n",
       "      <td>4.138000e+03</td>\n",
       "      <td>4138.000000</td>\n",
       "      <td>4138.000000</td>\n",
       "      <td>4.138000e+03</td>\n",
       "      <td>4138.000000</td>\n",
       "      <td>4138.000000</td>\n",
       "      <td>4138.000000</td>\n",
       "    </tr>\n",
       "    <tr>\n",
       "      <th>mean</th>\n",
       "      <td>3.333952e+07</td>\n",
       "      <td>47549.112615</td>\n",
       "      <td>24.745454</td>\n",
       "      <td>9.534649e+07</td>\n",
       "      <td>109.038183</td>\n",
       "      <td>6.264306</td>\n",
       "      <td>799.880619</td>\n",
       "    </tr>\n",
       "    <tr>\n",
       "      <th>std</th>\n",
       "      <td>4.224039e+07</td>\n",
       "      <td>78793.779006</td>\n",
       "      <td>33.138051</td>\n",
       "      <td>1.718928e+08</td>\n",
       "      <td>20.736348</td>\n",
       "      <td>0.862912</td>\n",
       "      <td>1297.044864</td>\n",
       "    </tr>\n",
       "    <tr>\n",
       "      <th>min</th>\n",
       "      <td>0.000000e+00</td>\n",
       "      <td>5.000000</td>\n",
       "      <td>0.011697</td>\n",
       "      <td>0.000000e+00</td>\n",
       "      <td>0.000000</td>\n",
       "      <td>1.900000</td>\n",
       "      <td>20.000000</td>\n",
       "    </tr>\n",
       "    <tr>\n",
       "      <th>25%</th>\n",
       "      <td>4.000000e+06</td>\n",
       "      <td>7942.500000</td>\n",
       "      <td>7.629479</td>\n",
       "      <td>1.013447e+06</td>\n",
       "      <td>95.000000</td>\n",
       "      <td>5.700000</td>\n",
       "      <td>108.000000</td>\n",
       "    </tr>\n",
       "    <tr>\n",
       "      <th>50%</th>\n",
       "      <td>2.000000e+07</td>\n",
       "      <td>12086.500000</td>\n",
       "      <td>16.172034</td>\n",
       "      <td>3.190530e+07</td>\n",
       "      <td>105.000000</td>\n",
       "      <td>6.300000</td>\n",
       "      <td>325.000000</td>\n",
       "    </tr>\n",
       "    <tr>\n",
       "      <th>75%</th>\n",
       "      <td>4.500000e+07</td>\n",
       "      <td>44935.250000</td>\n",
       "      <td>31.791241</td>\n",
       "      <td>1.102243e+08</td>\n",
       "      <td>119.000000</td>\n",
       "      <td>6.900000</td>\n",
       "      <td>882.000000</td>\n",
       "    </tr>\n",
       "    <tr>\n",
       "      <th>max</th>\n",
       "      <td>3.800000e+08</td>\n",
       "      <td>417859.000000</td>\n",
       "      <td>875.581305</td>\n",
       "      <td>2.787965e+09</td>\n",
       "      <td>338.000000</td>\n",
       "      <td>8.500000</td>\n",
       "      <td>13752.000000</td>\n",
       "    </tr>\n",
       "  </tbody>\n",
       "</table>\n",
       "</div>"
      ],
      "text/plain": [
       "             budget             id   popularity       revenue      runtime  \\\n",
       "count  4.138000e+03    4138.000000  4138.000000  4.138000e+03  4138.000000   \n",
       "mean   3.333952e+07   47549.112615    24.745454  9.534649e+07   109.038183   \n",
       "std    4.224039e+07   78793.779006    33.138051  1.718928e+08    20.736348   \n",
       "min    0.000000e+00       5.000000     0.011697  0.000000e+00     0.000000   \n",
       "25%    4.000000e+06    7942.500000     7.629479  1.013447e+06    95.000000   \n",
       "50%    2.000000e+07   12086.500000    16.172034  3.190530e+07   105.000000   \n",
       "75%    4.500000e+07   44935.250000    31.791241  1.102243e+08   119.000000   \n",
       "max    3.800000e+08  417859.000000   875.581305  2.787965e+09   338.000000   \n",
       "\n",
       "       vote_average    vote_count  \n",
       "count   4138.000000   4138.000000  \n",
       "mean       6.264306    799.880619  \n",
       "std        0.862912   1297.044864  \n",
       "min        1.900000     20.000000  \n",
       "25%        5.700000    108.000000  \n",
       "50%        6.300000    325.000000  \n",
       "75%        6.900000    882.000000  \n",
       "max        8.500000  13752.000000  "
      ]
     },
     "execution_count": 18,
     "metadata": {},
     "output_type": "execute_result"
    }
   ],
   "source": [
    " \n",
    "tmdb_min_20.describe()"
   ]
  },
  {
   "cell_type": "code",
   "execution_count": 19,
   "metadata": {},
   "outputs": [],
   "source": [
    "tmdb.describe().T.to_csv('D:\\\\TCCDataScience\\\\dados\\\\tmdb_5000_movies_describe_min_20.csv')\n",
    "#tmdb.describe().T"
   ]
  },
  {
   "cell_type": "markdown",
   "metadata": {},
   "source": [
    "Agora podemos ver que a nota média minima passou a ser 1.9. Isso significa que todos os filmes tiveram pelo menos uma nota diferente de 0. Perceba que o máximo do campo vote_average também sofreu altereções. Passou a ser 8.5. Isso quer dizer que os filmes no nosso conjunto que apresentavam uma média 10 realmente possuíam pouquissimos votos"
   ]
  },
  {
   "cell_type": "markdown",
   "metadata": {},
   "source": [
    "Vamos refazer nossos gráficos"
   ]
  },
  {
   "cell_type": "code",
   "execution_count": 20,
   "metadata": {},
   "outputs": [
    {
     "data": {
      "text/plain": [
       "Text(0.5, 1.0, 'Média de votos em filmes no TMBD 5000')"
      ]
     },
     "execution_count": 20,
     "metadata": {},
     "output_type": "execute_result"
    },
    {
     "data": {
      "image/png": "[encoded data removed]",
      "text/plain": [
       "<Figure size 432x288 with 1 Axes>"
      ]
     },
     "metadata": {
      "needs_background": "light"
     },
     "output_type": "display_data"
    }
   ],
   "source": [
    "ax = sns.distplot(tmdb_min_20.vote_average, norm_hist= False, kde= False)\n",
    "ax.set(xlabel='Nota média', ylabel='Frequência')\n",
    "ax.set_title('Média de votos em filmes no TMBD 5000')"
   ]
  },
  {
   "cell_type": "markdown",
   "metadata": {},
   "source": [
    "O histograma não apresenta mais registros com notas 0 ou 10. Vejamos agora a densidade de notas"
   ]
  },
  {
   "cell_type": "code",
   "execution_count": 21,
   "metadata": {},
   "outputs": [
    {
     "data": {
      "text/plain": [
       "Text(0.5, 1.0, 'Média de votos em filmes no TMBD 5000')"
      ]
     },
     "execution_count": 21,
     "metadata": {},
     "output_type": "execute_result"
    },
    {
     "data": {
      "image/png": "[encoded data removed]",
      "text/plain": [
       "<Figure size 432x288 with 1 Axes>"
      ]
     },
     "metadata": {
      "needs_background": "light"
     },
     "output_type": "display_data"
    }
   ],
   "source": [
    "ax = sns.distplot(tmdb_min_20.vote_average)\n",
    "ax.set(xlabel='Nota média', ylabel='Densidade')\n",
    "ax.set_title('Média de votos em filmes no TMBD 5000')"
   ]
  },
  {
   "cell_type": "markdown",
   "metadata": {},
   "source": [
    "Temos uma curva semelhante a uma distribuição normal, mas que não é exatamente simétrica, já que possui uma densidade um pouco maior na parte esquerda do gráfico. Veja, também, que analisando essa divisão a partir de uma média visual, existe uma amplitude de valores possíveis maior à esquerda (de 6 até 0) do que na direita (de 6 até 10)."
   ]
  },
  {
   "cell_type": "code",
   "execution_count": 22,
   "metadata": {},
   "outputs": [
    {
     "data": {
      "text/plain": [
       "Text(0.5, 1.0, 'Distribuição de nota média dos filmes do TMDB 5000')"
      ]
     },
     "execution_count": 22,
     "metadata": {},
     "output_type": "execute_result"
    },
    {
     "data": {
      "image/png": "[encoded data removed]",
      "text/plain": [
       "<Figure size 432x288 with 1 Axes>"
      ]
     },
     "metadata": {
      "needs_background": "light"
     },
     "output_type": "display_data"
    }
   ],
   "source": [
    "ax = sns.boxplot(tmdb.vote_average)\n",
    "ax.set(xlabel='Nota  média do filme')\n",
    "ax.set_title('Distribuição de nota média dos filmes do TMDB 5000')"
   ]
  },
  {
   "cell_type": "markdown",
   "metadata": {},
   "source": [
    "Com o boxplot do novo conjunto de dados podemos ver que o conjunto vote_average é parecido com uma distribuição normal, apesar de ter uma densidade maior abaixo da mediana\n",
    "\n",
    "\n",
    "Nós analisamos visualmente a média dos filmes do TMDB 5000, e percebemos que seu comportamento é parecido com uma distribuição normal, com exceção do lado esquerdo do gráfico.\n",
    "Agora, vamos comparar esse conjunto com os dados do MovieLens, procurando saber se esse comportamento se repete. Primeiramente, carregaremos o arquivo ratings.csv e o importaremos, atribuindo essa leitura a uma variável notas. Feito isso, exibiremos os 5 primeiros registros desse dataset:"
   ]
  },
  {
   "cell_type": "markdown",
   "metadata": {},
   "source": [
    "# Resumo dos Dados"
   ]
  },
  {
   "cell_type": "markdown",
   "metadata": {},
   "source": [
    "## Antes de Limpar os dados"
   ]
  },
  {
   "cell_type": "code",
   "execution_count": 23,
   "metadata": {
    "scrolled": false
   },
   "outputs": [
    {
     "name": "stderr",
     "output_type": "stream",
     "text": [
      "<ipython-input-2-20ca8e784874>:28: UserWarning: Matplotlib is currently using module://ipykernel.pylab.backend_inline, which is a non-GUI backend, so cannot show the figure.\n",
      "  f.show()\n"
     ]
    },
    {
     "data": {
      "image/png": "[encoded data removed]",
      "text/plain": [
       "<Figure size 2520x1440 with 4 Axes>"
      ]
     },
     "metadata": {
      "needs_background": "light"
     },
     "output_type": "display_data"
    }
   ],
   "source": [
    "plot_serie(tmdb.vote_average)"
   ]
  },
  {
   "cell_type": "markdown",
   "metadata": {},
   "source": [
    "## Depois de Limpar os dados"
   ]
  },
  {
   "cell_type": "code",
   "execution_count": 24,
   "metadata": {},
   "outputs": [
    {
     "name": "stderr",
     "output_type": "stream",
     "text": [
      "<ipython-input-2-20ca8e784874>:28: UserWarning: Matplotlib is currently using module://ipykernel.pylab.backend_inline, which is a non-GUI backend, so cannot show the figure.\n",
      "  f.show()\n"
     ]
    },
    {
     "data": {
      "image/png": "[encoded data removed]",
      "text/plain": [
       "<Figure size 2520x1440 with 4 Axes>"
      ]
     },
     "metadata": {
      "needs_background": "light"
     },
     "output_type": "display_data"
    }
   ],
   "source": [
    "plot_serie(tmdb_min_20.vote_average)"
   ]
  },
  {
   "cell_type": "markdown",
   "metadata": {},
   "source": [
    "# Visualizando e limpando o movielens\n"
   ]
  },
  {
   "cell_type": "markdown",
   "metadata": {},
   "source": [
    "Agora, vamos comparar esse conjunto com os dados do MovieLens, procurando saber se esse comportamento se repete. Primeiramente, carregaremos o arquivo ratings.csv e o importaremos, atribuindo essa leitura a uma variável notas. Feito isso, exibiremos os 5 primeiros registros desse dataset:"
   ]
  },
  {
   "cell_type": "code",
   "execution_count": 25,
   "metadata": {},
   "outputs": [
    {
     "data": {
      "text/html": [
       "<div>\n",
       "<style scoped>\n",
       "    .dataframe tbody tr th:only-of-type {\n",
       "        vertical-align: middle;\n",
       "    }\n",
       "\n",
       "    .dataframe tbody tr th {\n",
       "        vertical-align: top;\n",
       "    }\n",
       "\n",
       "    .dataframe thead th {\n",
       "        text-align: right;\n",
       "    }\n",
       "</style>\n",
       "<table border=\"1\" class=\"dataframe\">\n",
       "  <thead>\n",
       "    <tr style=\"text-align: right;\">\n",
       "      <th></th>\n",
       "      <th>userId</th>\n",
       "      <th>movieId</th>\n",
       "      <th>rating</th>\n",
       "      <th>timestamp</th>\n",
       "    </tr>\n",
       "  </thead>\n",
       "  <tbody>\n",
       "    <tr>\n",
       "      <th>0</th>\n",
       "      <td>1</td>\n",
       "      <td>296</td>\n",
       "      <td>5.0</td>\n",
       "      <td>1147880044</td>\n",
       "    </tr>\n",
       "    <tr>\n",
       "      <th>1</th>\n",
       "      <td>1</td>\n",
       "      <td>306</td>\n",
       "      <td>3.5</td>\n",
       "      <td>1147868817</td>\n",
       "    </tr>\n",
       "    <tr>\n",
       "      <th>2</th>\n",
       "      <td>1</td>\n",
       "      <td>307</td>\n",
       "      <td>5.0</td>\n",
       "      <td>1147868828</td>\n",
       "    </tr>\n",
       "    <tr>\n",
       "      <th>3</th>\n",
       "      <td>1</td>\n",
       "      <td>665</td>\n",
       "      <td>5.0</td>\n",
       "      <td>1147878820</td>\n",
       "    </tr>\n",
       "    <tr>\n",
       "      <th>4</th>\n",
       "      <td>1</td>\n",
       "      <td>899</td>\n",
       "      <td>3.5</td>\n",
       "      <td>1147868510</td>\n",
       "    </tr>\n",
       "  </tbody>\n",
       "</table>\n",
       "</div>"
      ],
      "text/plain": [
       "   userId  movieId  rating   timestamp\n",
       "0       1      296     5.0  1147880044\n",
       "1       1      306     3.5  1147868817\n",
       "2       1      307     5.0  1147868828\n",
       "3       1      665     5.0  1147878820\n",
       "4       1      899     3.5  1147868510"
      ]
     },
     "execution_count": 25,
     "metadata": {},
     "output_type": "execute_result"
    }
   ],
   "source": [
    "notas = pd.read_csv(\"D:\\\\TCCDataScience\\\\dados\\\\movielens\\\\ml-25m\\\\ratings.csv\")\n",
    "notas.head()"
   ]
  },
  {
   "cell_type": "markdown",
   "metadata": {},
   "source": [
    "### Formato do dataset de notas movieLens\n"
   ]
  },
  {
   "cell_type": "code",
   "execution_count": 26,
   "metadata": {},
   "outputs": [
    {
     "data": {
      "text/plain": [
       "(25000095, 4)"
      ]
     },
     "execution_count": 26,
     "metadata": {},
     "output_type": "execute_result"
    }
   ],
   "source": [
    "notas.shape"
   ]
  },
  {
   "cell_type": "markdown",
   "metadata": {},
   "source": [
    "### Tipos de Dados"
   ]
  },
  {
   "cell_type": "code",
   "execution_count": 27,
   "metadata": {},
   "outputs": [
    {
     "name": "stdout",
     "output_type": "stream",
     "text": [
      "<class 'pandas.core.frame.DataFrame'>\n",
      "RangeIndex: 25000095 entries, 0 to 25000094\n",
      "Data columns (total 4 columns):\n",
      " #   Column     Dtype  \n",
      "---  ------     -----  \n",
      " 0   userId     int64  \n",
      " 1   movieId    int64  \n",
      " 2   rating     float64\n",
      " 3   timestamp  int64  \n",
      "dtypes: float64(1), int64(3)\n",
      "memory usage: 762.9 MB\n"
     ]
    }
   ],
   "source": [
    "notas.info()"
   ]
  },
  {
   "cell_type": "markdown",
   "metadata": {},
   "source": [
    "### Dados Estatísticos Básicos"
   ]
  },
  {
   "cell_type": "code",
   "execution_count": 28,
   "metadata": {},
   "outputs": [
    {
     "data": {
      "text/html": [
       "<div>\n",
       "<style scoped>\n",
       "    .dataframe tbody tr th:only-of-type {\n",
       "        vertical-align: middle;\n",
       "    }\n",
       "\n",
       "    .dataframe tbody tr th {\n",
       "        vertical-align: top;\n",
       "    }\n",
       "\n",
       "    .dataframe thead th {\n",
       "        text-align: right;\n",
       "    }\n",
       "</style>\n",
       "<table border=\"1\" class=\"dataframe\">\n",
       "  <thead>\n",
       "    <tr style=\"text-align: right;\">\n",
       "      <th></th>\n",
       "      <th>userId</th>\n",
       "      <th>movieId</th>\n",
       "      <th>rating</th>\n",
       "      <th>timestamp</th>\n",
       "    </tr>\n",
       "  </thead>\n",
       "  <tbody>\n",
       "    <tr>\n",
       "      <th>count</th>\n",
       "      <td>2.500010e+07</td>\n",
       "      <td>2.500010e+07</td>\n",
       "      <td>2.500010e+07</td>\n",
       "      <td>2.500010e+07</td>\n",
       "    </tr>\n",
       "    <tr>\n",
       "      <th>mean</th>\n",
       "      <td>8.118928e+04</td>\n",
       "      <td>2.138798e+04</td>\n",
       "      <td>3.533854e+00</td>\n",
       "      <td>1.215601e+09</td>\n",
       "    </tr>\n",
       "    <tr>\n",
       "      <th>std</th>\n",
       "      <td>4.679172e+04</td>\n",
       "      <td>3.919886e+04</td>\n",
       "      <td>1.060744e+00</td>\n",
       "      <td>2.268758e+08</td>\n",
       "    </tr>\n",
       "    <tr>\n",
       "      <th>min</th>\n",
       "      <td>1.000000e+00</td>\n",
       "      <td>1.000000e+00</td>\n",
       "      <td>5.000000e-01</td>\n",
       "      <td>7.896520e+08</td>\n",
       "    </tr>\n",
       "    <tr>\n",
       "      <th>25%</th>\n",
       "      <td>4.051000e+04</td>\n",
       "      <td>1.196000e+03</td>\n",
       "      <td>3.000000e+00</td>\n",
       "      <td>1.011747e+09</td>\n",
       "    </tr>\n",
       "    <tr>\n",
       "      <th>50%</th>\n",
       "      <td>8.091400e+04</td>\n",
       "      <td>2.947000e+03</td>\n",
       "      <td>3.500000e+00</td>\n",
       "      <td>1.198868e+09</td>\n",
       "    </tr>\n",
       "    <tr>\n",
       "      <th>75%</th>\n",
       "      <td>1.215570e+05</td>\n",
       "      <td>8.623000e+03</td>\n",
       "      <td>4.000000e+00</td>\n",
       "      <td>1.447205e+09</td>\n",
       "    </tr>\n",
       "    <tr>\n",
       "      <th>max</th>\n",
       "      <td>1.625410e+05</td>\n",
       "      <td>2.091710e+05</td>\n",
       "      <td>5.000000e+00</td>\n",
       "      <td>1.574328e+09</td>\n",
       "    </tr>\n",
       "  </tbody>\n",
       "</table>\n",
       "</div>"
      ],
      "text/plain": [
       "             userId       movieId        rating     timestamp\n",
       "count  2.500010e+07  2.500010e+07  2.500010e+07  2.500010e+07\n",
       "mean   8.118928e+04  2.138798e+04  3.533854e+00  1.215601e+09\n",
       "std    4.679172e+04  3.919886e+04  1.060744e+00  2.268758e+08\n",
       "min    1.000000e+00  1.000000e+00  5.000000e-01  7.896520e+08\n",
       "25%    4.051000e+04  1.196000e+03  3.000000e+00  1.011747e+09\n",
       "50%    8.091400e+04  2.947000e+03  3.500000e+00  1.198868e+09\n",
       "75%    1.215570e+05  8.623000e+03  4.000000e+00  1.447205e+09\n",
       "max    1.625410e+05  2.091710e+05  5.000000e+00  1.574328e+09"
      ]
     },
     "execution_count": 28,
     "metadata": {},
     "output_type": "execute_result"
    }
   ],
   "source": [
    "notas.describe()"
   ]
  },
  {
   "cell_type": "code",
   "execution_count": 29,
   "metadata": {},
   "outputs": [
    {
     "data": {
      "text/html": [
       "<div>\n",
       "<style scoped>\n",
       "    .dataframe tbody tr th:only-of-type {\n",
       "        vertical-align: middle;\n",
       "    }\n",
       "\n",
       "    .dataframe tbody tr th {\n",
       "        vertical-align: top;\n",
       "    }\n",
       "\n",
       "    .dataframe thead th {\n",
       "        text-align: right;\n",
       "    }\n",
       "</style>\n",
       "<table border=\"1\" class=\"dataframe\">\n",
       "  <thead>\n",
       "    <tr style=\"text-align: right;\">\n",
       "      <th></th>\n",
       "      <th>count</th>\n",
       "      <th>mean</th>\n",
       "      <th>std</th>\n",
       "      <th>min</th>\n",
       "      <th>25%</th>\n",
       "      <th>50%</th>\n",
       "      <th>75%</th>\n",
       "      <th>max</th>\n",
       "    </tr>\n",
       "  </thead>\n",
       "  <tbody>\n",
       "    <tr>\n",
       "      <th>userId</th>\n",
       "      <td>25000095.0</td>\n",
       "      <td>8.118928e+04</td>\n",
       "      <td>4.679172e+04</td>\n",
       "      <td>1.0</td>\n",
       "      <td>4.051000e+04</td>\n",
       "      <td>8.091400e+04</td>\n",
       "      <td>1.215570e+05</td>\n",
       "      <td>1.625410e+05</td>\n",
       "    </tr>\n",
       "    <tr>\n",
       "      <th>movieId</th>\n",
       "      <td>25000095.0</td>\n",
       "      <td>2.138798e+04</td>\n",
       "      <td>3.919886e+04</td>\n",
       "      <td>1.0</td>\n",
       "      <td>1.196000e+03</td>\n",
       "      <td>2.947000e+03</td>\n",
       "      <td>8.623000e+03</td>\n",
       "      <td>2.091710e+05</td>\n",
       "    </tr>\n",
       "    <tr>\n",
       "      <th>rating</th>\n",
       "      <td>25000095.0</td>\n",
       "      <td>3.533854e+00</td>\n",
       "      <td>1.060744e+00</td>\n",
       "      <td>0.5</td>\n",
       "      <td>3.000000e+00</td>\n",
       "      <td>3.500000e+00</td>\n",
       "      <td>4.000000e+00</td>\n",
       "      <td>5.000000e+00</td>\n",
       "    </tr>\n",
       "    <tr>\n",
       "      <th>timestamp</th>\n",
       "      <td>25000095.0</td>\n",
       "      <td>1.215601e+09</td>\n",
       "      <td>2.268758e+08</td>\n",
       "      <td>789652009.0</td>\n",
       "      <td>1.011747e+09</td>\n",
       "      <td>1.198868e+09</td>\n",
       "      <td>1.447205e+09</td>\n",
       "      <td>1.574328e+09</td>\n",
       "    </tr>\n",
       "  </tbody>\n",
       "</table>\n",
       "</div>"
      ],
      "text/plain": [
       "                count          mean           std          min           25%  \\\n",
       "userId     25000095.0  8.118928e+04  4.679172e+04          1.0  4.051000e+04   \n",
       "movieId    25000095.0  2.138798e+04  3.919886e+04          1.0  1.196000e+03   \n",
       "rating     25000095.0  3.533854e+00  1.060744e+00          0.5  3.000000e+00   \n",
       "timestamp  25000095.0  1.215601e+09  2.268758e+08  789652009.0  1.011747e+09   \n",
       "\n",
       "                    50%           75%           max  \n",
       "userId     8.091400e+04  1.215570e+05  1.625410e+05  \n",
       "movieId    2.947000e+03  8.623000e+03  2.091710e+05  \n",
       "rating     3.500000e+00  4.000000e+00  5.000000e+00  \n",
       "timestamp  1.198868e+09  1.447205e+09  1.574328e+09  "
      ]
     },
     "execution_count": 29,
     "metadata": {},
     "output_type": "execute_result"
    }
   ],
   "source": [
    "#notas.describe().T.to_csv('D:\\\\TCCDataScience\\\\dados\\\\ratings_25ml.csv')\n",
    "notas.describe().T"
   ]
  },
  {
   "cell_type": "markdown",
   "metadata": {},
   "source": [
    "## Tratamento Inicial do dados"
   ]
  },
  {
   "cell_type": "markdown",
   "metadata": {},
   "source": [
    "No dataset de notas do movieLens, não exite a nota média para cada filme. Vamos calculá-la "
   ]
  },
  {
   "cell_type": "code",
   "execution_count": 30,
   "metadata": {},
   "outputs": [
    {
     "data": {
      "text/plain": [
       "movieId\n",
       "1    3.893708\n",
       "2    3.251527\n",
       "3    3.142028\n",
       "4    2.853547\n",
       "5    3.058434\n",
       "Name: rating, dtype: float64"
      ]
     },
     "execution_count": 30,
     "metadata": {},
     "output_type": "execute_result"
    }
   ],
   "source": [
    "average_vote = notas.groupby(\"movieId\").mean()[\"rating\"]\n",
    "average_vote.head()"
   ]
  },
  {
   "cell_type": "markdown",
   "metadata": {},
   "source": [
    "Em seguida, geraremos a primeira visualização dessas médias. Para isso, repetiremos o processo que fizemos para as médias do TMDB 5000 "
   ]
  },
  {
   "cell_type": "code",
   "execution_count": 31,
   "metadata": {},
   "outputs": [
    {
     "data": {
      "text/plain": [
       "Text(0.5, 1.0, 'Média de votos em filmes no MovieLens')"
      ]
     },
     "execution_count": 31,
     "metadata": {},
     "output_type": "execute_result"
    },
    {
     "data": {
      "image/png": "[encoded data removed]",
      "text/plain": [
       "<Figure size 432x288 with 1 Axes>"
      ]
     },
     "metadata": {
      "needs_background": "light"
     },
     "output_type": "display_data"
    }
   ],
   "source": [
    "ax = sns.distplot(average_vote.values)\n",
    "ax.set(xlabel='Nota média', ylabel='Densidade')\n",
    "ax.set_title('Média de votos em filmes no MovieLens')"
   ]
  },
  {
   "cell_type": "markdown",
   "metadata": {},
   "source": [
    "Dessa vez, temos um gráfico com notas de 0 a 5. Desta vez não temos filmes com média 0, mas temos alguns com média 5. Podemos esperar que devem existir filmes com poucos votos."
   ]
  },
  {
   "cell_type": "code",
   "execution_count": 32,
   "metadata": {},
   "outputs": [
    {
     "data": {
      "text/plain": [
       "array([[57309, 57309, 57309],\n",
       "       [24228, 24228, 24228],\n",
       "       [11804, 11804, 11804],\n",
       "       ...,\n",
       "       [   37,    37,    37],\n",
       "       [   39,    39,    39],\n",
       "       [   55,    55,    55]], dtype=int64)"
      ]
     },
     "execution_count": 32,
     "metadata": {},
     "output_type": "execute_result"
    }
   ],
   "source": [
    "qtd_votes_by_movie = notas.groupby(\"movieId\").count()\n",
    "min_20_votes_movie = qtd_votes_by_movie.query(\"rating >= 20\")\n",
    "min_20_votes_movie.values"
   ]
  },
  {
   "cell_type": "markdown",
   "metadata": {},
   "source": [
    "### Separando os filmes com pelo menos 20 votos"
   ]
  },
  {
   "cell_type": "code",
   "execution_count": 33,
   "metadata": {},
   "outputs": [
    {
     "data": {
      "text/plain": [
       "array([     1,      2,      3, ..., 207309, 207405, 207830], dtype=int64)"
      ]
     },
     "execution_count": 33,
     "metadata": {},
     "output_type": "execute_result"
    }
   ],
   "source": [
    "qtd_votes_by_movie = notas.groupby(\"movieId\").count()\n",
    "min_20_votes_movie = qtd_votes_by_movie.query(\"rating >= 20\").index\n",
    "min_20_votes_movie.values"
   ]
  },
  {
   "cell_type": "code",
   "execution_count": 34,
   "metadata": {},
   "outputs": [
    {
     "data": {
      "text/plain": [
       "movieId\n",
       "1    3.893708\n",
       "2    3.251527\n",
       "3    3.142028\n",
       "4    2.853547\n",
       "5    3.058434\n",
       "Name: rating, dtype: float64"
      ]
     },
     "execution_count": 34,
     "metadata": {},
     "output_type": "execute_result"
    }
   ],
   "source": [
    "average_vote_min20 = average_vote.loc[min_20_votes_movie.values]\n",
    "average_vote_min20.head()"
   ]
  },
  {
   "cell_type": "code",
   "execution_count": 35,
   "metadata": {},
   "outputs": [
    {
     "data": {
      "text/plain": [
       "Text(0.5, 1.0, 'Média de votos em filmes no MovieLens com 20 ou mais votos')"
      ]
     },
     "execution_count": 35,
     "metadata": {},
     "output_type": "execute_result"
    },
    {
     "data": {
      "image/png": "[encoded data removed]",
      "text/plain": [
       "<Figure size 432x288 with 1 Axes>"
      ]
     },
     "metadata": {
      "needs_background": "light"
     },
     "output_type": "display_data"
    }
   ],
   "source": [
    "ax = sns.distplot(average_vote_min20)\n",
    "ax.set(xlabel='Nota média', ylabel='Densidade')\n",
    "ax.set_title('Média de votos em filmes no MovieLens com 20 ou mais votos')"
   ]
  },
  {
   "cell_type": "code",
   "execution_count": 36,
   "metadata": {},
   "outputs": [
    {
     "data": {
      "text/plain": [
       "Text(0.5, 1.0, 'Média de votos em filmes no Movielens 25m com 20 ou mais votos')"
      ]
     },
     "execution_count": 36,
     "metadata": {},
     "output_type": "execute_result"
    },
    {
     "data": {
      "image/png": "[encoded data removed]",
      "text/plain": [
       "<Figure size 432x288 with 1 Axes>"
      ]
     },
     "metadata": {
      "needs_background": "light"
     },
     "output_type": "display_data"
    }
   ],
   "source": [
    "ax = sns.distplot(average_vote_min20.values,\n",
    "                          hist_kws = {'cumulative':True},\n",
    "                          kde_kws = {'cumulative':True})\n",
    "ax.set(xlabel=\"Nota média\", ylabel=\"% acumulada de filmes\")\n",
    "ax.set_title(\"Média de votos em filmes no Movielens 25m com 20 ou mais votos\")"
   ]
  },
  {
   "cell_type": "code",
   "execution_count": 37,
   "metadata": {
    "scrolled": true
   },
   "outputs": [
    {
     "data": {
      "text/plain": [
       "Text(0.5, 1.0, 'Distribuição de nota média dos filmes do MovieLens')"
      ]
     },
     "execution_count": 37,
     "metadata": {},
     "output_type": "execute_result"
    },
    {
     "data": {
      "image/png": "[encoded data removed]",
      "text/plain": [
       "<Figure size 432x288 with 1 Axes>"
      ]
     },
     "metadata": {
      "needs_background": "light"
     },
     "output_type": "display_data"
    }
   ],
   "source": [
    "ax = sns.boxplot(x=average_vote_min20.values)\n",
    "ax.set(xlabel='Nota  média do filme')\n",
    "ax.set_title('Distribuição de nota média dos filmes do MovieLens')"
   ]
  },
  {
   "cell_type": "markdown",
   "metadata": {},
   "source": [
    "Repare que essa nova visualização também se assemelha àquela do TMDB, com os quartis à esquerda (25% e 50%) mais densos que os da direita. "
   ]
  },
  {
   "cell_type": "markdown",
   "metadata": {},
   "source": [
    "## Visualizando a CDF"
   ]
  },
  {
   "cell_type": "markdown",
   "metadata": {},
   "source": [
    "Porém, é difícil afirmarmos algo sobre um filme específico nesse conjunto. Por exemplo, supondo que o filme Toy Story tenha uma nota 3,9... o que isso quer dizer sobre esse filme? É um bom filme? Parece que sim... mas quão bom? \n",
    "E se o determinado filme tiver uma média 3, ele é bom ou ruim? Precisamos entender, agora, como uma nota específica se encaixa dentro dessa distribuição.\n"
   ]
  },
  {
   "cell_type": "markdown",
   "metadata": {},
   "source": [
    "Na documentação do distplot() do Seaborn, não existe uma maneira direta de indicarmos essa gradação cumulativa. Porém, o distplot() chama duas funções do matplotlib (hist() e kde()), e pode receber argumentos extras por meio de hist_kws e kde_kws. Dito isso, a função hist() do matploblib tem uma opção cumulative\n",
    "\n",
    "Portanto, na função displot(), passaremos tanto hist_kws quanto kde_kws recebendo {'cumulative':True}: \n"
   ]
  },
  {
   "cell_type": "code",
   "execution_count": 38,
   "metadata": {},
   "outputs": [
    {
     "data": {
      "text/plain": [
       "Text(0.5, 1.0, 'Média de votos em filmes no Movielens 25ml com 20 ou mais votos')"
      ]
     },
     "execution_count": 38,
     "metadata": {},
     "output_type": "execute_result"
    },
    {
     "data": {
      "image/png": "[encoded data removed]",
      "text/plain": [
       "<Figure size 432x288 with 1 Axes>"
      ]
     },
     "metadata": {
      "needs_background": "light"
     },
     "output_type": "display_data"
    }
   ],
   "source": [
    "ax = sns.distplot(average_vote_min20.values,\n",
    "                          hist_kws = {'cumulative':True},\n",
    "                          kde_kws = {'cumulative':True})\n",
    "ax.set(xlabel=\"Nota média\", ylabel=\"% acumulada de filmes\")\n",
    "ax.set_title(\"Média de votos em filmes no Movielens 25ml com 20 ou mais votos\")"
   ]
  },
  {
   "cell_type": "markdown",
   "metadata": {},
   "source": [
    "Nesse gráfico podemos perceber que aproximadamente 50% dos filmes tem uma nota média menor que 3,5. Se o filme Toy Story tem uma média 3,9, ele está acima de 80% dos filmes do conjunto. Já um filme com nota 2,5 estaria abaixo de 90% dos filmes!\n",
    "Vamos repetir esse processo para os dados do TMDB 5000:\n"
   ]
  },
  {
   "cell_type": "code",
   "execution_count": 39,
   "metadata": {},
   "outputs": [
    {
     "data": {
      "text/plain": [
       "Text(0.5, 1.0, 'Média de votos em filmes no TMDB 5000')"
      ]
     },
     "execution_count": 39,
     "metadata": {},
     "output_type": "execute_result"
    },
    {
     "data": {
      "image/png": "[encoded data removed]",
      "text/plain": [
       "<Figure size 432x288 with 1 Axes>"
      ]
     },
     "metadata": {
      "needs_background": "light"
     },
     "output_type": "display_data"
    }
   ],
   "source": [
    "ax = sns.distplot(tmdb_min_20.vote_average,                   hist_kws = {'cumulative':True},                   kde_kws = {'cumulative':True})\n",
    "ax.set(xlabel='Nota média', ylabel='Proporção acumulada de filmes')\n",
    "ax.set_title('Média de votos em filmes no TMDB 5000')"
   ]
  },
  {
   "cell_type": "markdown",
   "metadata": {},
   "source": [
    "Visualizando outras informações e quantis quaisquer de forma numérica"
   ]
  },
  {
   "cell_type": "markdown",
   "metadata": {},
   "source": [
    "## Visualizando outras informações e quantis quaisquer de forma numérica"
   ]
  },
  {
   "cell_type": "code",
   "execution_count": 40,
   "metadata": {},
   "outputs": [
    {
     "data": {
      "text/plain": [
       "Text(0.5, 1.0, 'Número de votos em filmes no TMDB 5000 com 20 ou mais votos')"
      ]
     },
     "execution_count": 40,
     "metadata": {},
     "output_type": "execute_result"
    },
    {
     "data": {
      "image/png": "[encoded data removed]",
      "text/plain": [
       "<Figure size 432x288 with 1 Axes>"
      ]
     },
     "metadata": {
      "needs_background": "light"
     },
     "output_type": "display_data"
    }
   ],
   "source": [
    "ax = sns.distplot(tmdb_min_20.vote_count)\n",
    "ax.set(xlabel='Número de votos', ylabel='Densidade')\n",
    "ax.set_title('Número de votos em filmes no TMDB 5000 com 20 ou mais votos')"
   ]
  },
  {
   "cell_type": "markdown",
   "metadata": {},
   "source": [
    "Como resultado, temos um histograma que, visualmente, lembra uma distribuição com uma queda exponencial - um comportamento bem diferente dos histogramas que geramos anteriormente. \n",
    "\n",
    "Faz algum sentido, pois quanto mais popular um filme, maior a quantidade de votos que ele terá, e o número de filmes populares certamente é pequeno. No gráfico, isso se traduz no fato de que temos bem mais filmes com menos de 1000 votos do que, por exemplo, filmes com mais de 6000.\n",
    "\n",
    "Será que podemos repetir esse processo para as outras colunas - por exemplo, o orçamento (budget)? Se exibirmos essa coluna na tela com tmdb.budget, perceberemos que vários registros apresentam o valor 0. Ou seja, provavelmente existem filmes nesse conjunto para os quais essa informação não está disponível, tendo sido preenchidos com esse valor. \n",
    "\n",
    "No nosso histograma, desejamos manter somente os filmes cujo orçamento seja maior do que 0.  \n"
   ]
  },
  {
   "cell_type": "markdown",
   "metadata": {},
   "source": [
    "Vejamos o novo gráfico, plotaremos essa distribuição em um histograma\n"
   ]
  },
  {
   "cell_type": "code",
   "execution_count": 41,
   "metadata": {},
   "outputs": [
    {
     "data": {
      "text/plain": [
       "Text(0.5, 1.0, 'Gastos em filmes no TMDB 5000')"
      ]
     },
     "execution_count": 41,
     "metadata": {},
     "output_type": "execute_result"
    },
    {
     "data": {
      "image/png": "[encoded data removed]",
      "text/plain": [
       "<Figure size 432x288 with 1 Axes>"
      ]
     },
     "metadata": {
      "needs_background": "light"
     },
     "output_type": "display_data"
    }
   ],
   "source": [
    "ax = sns.distplot(tmdb.query(\"budget > 0\").budget)\n",
    "ax.set(xlabel='Gastos', ylabel='Densidade')\n",
    "ax.set_title('Gastos em filmes no TMDB 5000')"
   ]
  },
  {
   "cell_type": "markdown",
   "metadata": {},
   "source": [
    "Novamente, geramos uma distribuição que cai vertiginosamente. No eixo x, perceba que os valores 1, 2, 3 e 4 são, na verdade, multiplicados por 1e8 - ou seja, por 100000000. \n",
    "Também temos a coluna popularity. Vamos verificar se existem registros com 0 nesse campo:\n"
   ]
  },
  {
   "cell_type": "code",
   "execution_count": 42,
   "metadata": {},
   "outputs": [
    {
     "data": {
      "text/plain": [
       "(1, 20)"
      ]
     },
     "execution_count": 42,
     "metadata": {},
     "output_type": "execute_result"
    }
   ],
   "source": [
    "tmdb.query(\"popularity == 0\").shape"
   ]
  },
  {
   "cell_type": "code",
   "execution_count": 43,
   "metadata": {},
   "outputs": [
    {
     "data": {
      "text/html": [
       "<div>\n",
       "<style scoped>\n",
       "    .dataframe tbody tr th:only-of-type {\n",
       "        vertical-align: middle;\n",
       "    }\n",
       "\n",
       "    .dataframe tbody tr th {\n",
       "        vertical-align: top;\n",
       "    }\n",
       "\n",
       "    .dataframe thead th {\n",
       "        text-align: right;\n",
       "    }\n",
       "</style>\n",
       "<table border=\"1\" class=\"dataframe\">\n",
       "  <thead>\n",
       "    <tr style=\"text-align: right;\">\n",
       "      <th></th>\n",
       "      <th>budget</th>\n",
       "      <th>genres</th>\n",
       "      <th>homepage</th>\n",
       "      <th>id</th>\n",
       "      <th>keywords</th>\n",
       "      <th>original_language</th>\n",
       "      <th>original_title</th>\n",
       "      <th>overview</th>\n",
       "      <th>popularity</th>\n",
       "      <th>production_companies</th>\n",
       "      <th>production_countries</th>\n",
       "      <th>release_date</th>\n",
       "      <th>revenue</th>\n",
       "      <th>runtime</th>\n",
       "      <th>spoken_languages</th>\n",
       "      <th>status</th>\n",
       "      <th>tagline</th>\n",
       "      <th>title</th>\n",
       "      <th>vote_average</th>\n",
       "      <th>vote_count</th>\n",
       "    </tr>\n",
       "  </thead>\n",
       "  <tbody>\n",
       "    <tr>\n",
       "      <th>4553</th>\n",
       "      <td>0</td>\n",
       "      <td>[]</td>\n",
       "      <td>NaN</td>\n",
       "      <td>380097</td>\n",
       "      <td>[]</td>\n",
       "      <td>en</td>\n",
       "      <td>America Is Still the Place</td>\n",
       "      <td>1971 post civil rights San Francisco seemed li...</td>\n",
       "      <td>0.0</td>\n",
       "      <td>[]</td>\n",
       "      <td>[]</td>\n",
       "      <td>NaN</td>\n",
       "      <td>0</td>\n",
       "      <td>0.0</td>\n",
       "      <td>[]</td>\n",
       "      <td>Released</td>\n",
       "      <td>NaN</td>\n",
       "      <td>America Is Still the Place</td>\n",
       "      <td>0.0</td>\n",
       "      <td>0</td>\n",
       "    </tr>\n",
       "  </tbody>\n",
       "</table>\n",
       "</div>"
      ],
      "text/plain": [
       "      budget genres homepage      id keywords original_language  \\\n",
       "4553       0     []      NaN  380097       []                en   \n",
       "\n",
       "                  original_title  \\\n",
       "4553  America Is Still the Place   \n",
       "\n",
       "                                               overview  popularity  \\\n",
       "4553  1971 post civil rights San Francisco seemed li...         0.0   \n",
       "\n",
       "     production_companies production_countries release_date  revenue  runtime  \\\n",
       "4553                   []                   []          NaN        0      0.0   \n",
       "\n",
       "     spoken_languages    status tagline                       title  \\\n",
       "4553               []  Released     NaN  America Is Still the Place   \n",
       "\n",
       "      vote_average  vote_count  \n",
       "4553           0.0           0  "
      ]
     },
     "execution_count": 43,
     "metadata": {},
     "output_type": "execute_result"
    }
   ],
   "source": [
    "tmdb.query(\"popularity == 0\")"
   ]
  },
  {
   "cell_type": "markdown",
   "metadata": {},
   "source": [
    "Vamos assumir, portanto, que esse filme realmente tenha 0 de popularidade. Assim, simplesmente geraremos o histograma dessa coluna:"
   ]
  },
  {
   "cell_type": "code",
   "execution_count": 44,
   "metadata": {},
   "outputs": [
    {
     "data": {
      "text/plain": [
       "Text(0.5, 1.0, 'Popularidade dos filmes no TMDB 5000')"
      ]
     },
     "execution_count": 44,
     "metadata": {},
     "output_type": "execute_result"
    },
    {
     "data": {
      "image/png": "[encoded data removed]",
      "text/plain": [
       "<Figure size 432x288 with 1 Axes>"
      ]
     },
     "metadata": {
      "needs_background": "light"
     },
     "output_type": "display_data"
    }
   ],
   "source": [
    "ax = sns.distplot(tmdb.popularity)\n",
    "ax.set(xlabel='Popularidade', ylabel='Densidade')\n",
    "ax.set_title('Popularidade dos filmes no TMDB 5000')"
   ]
  },
  {
   "cell_type": "markdown",
   "metadata": {},
   "source": [
    "A queda vertiginosa visualizada nos outros histogramas se repete, demonstrando que pouquíssimos filmes possuem grande popularidade no TMDB. Verificaremos, agora, outro campo presente no nosso conjunto: o tempo de duração dos filmes (runtime). \n",
    "\n",
    "Entretanto, se tentarmos executar o displot() com tmdb.runtime, retornaremos um ValueError: cannot convert float NaN to integer - ou seja, existem valores que não são números e não podem ser convertidos para integer. Isso pode significar que, no nosso dataset, temos registros com um valor null, que, obviamente, não é um número. "
   ]
  },
  {
   "cell_type": "code",
   "execution_count": 45,
   "metadata": {},
   "outputs": [
    {
     "data": {
      "text/plain": [
       "2"
      ]
     },
     "execution_count": 45,
     "metadata": {},
     "output_type": "execute_result"
    }
   ],
   "source": [
    "tmdb.runtime.isnull().sum()"
   ]
  },
  {
   "cell_type": "markdown",
   "metadata": {},
   "source": [
    "Na nossa plotagem, então, passaremos tmdb.runtime.dropna(), acrescentando essa função que serve simplesmente para excluir os valores nulos da operação."
   ]
  },
  {
   "cell_type": "code",
   "execution_count": 46,
   "metadata": {},
   "outputs": [
    {
     "data": {
      "text/plain": [
       "Text(0.5, 1.0, 'Duração dos filmes no TMDB 5000')"
      ]
     },
     "execution_count": 46,
     "metadata": {},
     "output_type": "execute_result"
    },
    {
     "data": {
      "image/png": "[encoded data removed]",
      "text/plain": [
       "<Figure size 432x288 with 1 Axes>"
      ]
     },
     "metadata": {
      "needs_background": "light"
     },
     "output_type": "display_data"
    }
   ],
   "source": [
    "ax = sns.distplot(tmdb.runtime.dropna())\n",
    "ax.set(xlabel='Duração', ylabel='Densidade')\n",
    "ax.set_title('Duração dos filmes no TMDB 5000')"
   ]
  },
  {
   "cell_type": "markdown",
   "metadata": {},
   "source": [
    "Perceba que, nessa distribuição, temos um pico de valores 0, o que provavelmente significa que esse campo não foi informado em vários filmes do nosso conjunto. Na nossa nova plotagem, removeremos esses registros com uma query(\"runtime>0\")."
   ]
  },
  {
   "cell_type": "code",
   "execution_count": 47,
   "metadata": {},
   "outputs": [
    {
     "data": {
      "text/plain": [
       "Text(0.5, 1.0, 'Duração dos filmes no TMDB 5000')"
      ]
     },
     "execution_count": 47,
     "metadata": {},
     "output_type": "execute_result"
    },
    {
     "data": {
      "image/png": "[encoded data removed]",
      "text/plain": [
       "<Figure size 432x288 with 1 Axes>"
      ]
     },
     "metadata": {
      "needs_background": "light"
     },
     "output_type": "display_data"
    }
   ],
   "source": [
    "ax = sns.distplot(tmdb.query(\"runtime>0\").runtime.dropna())\n",
    "ax.set(xlabel='Tempo de duração', ylabel='Densidade')\n",
    "ax.set_title('Duração dos filmes no TMDB 5000')"
   ]
  },
  {
   "cell_type": "code",
   "execution_count": 48,
   "metadata": {},
   "outputs": [
    {
     "data": {
      "text/plain": [
       "Text(0.5, 1.0, 'Duração dos filmes no TMDB 5000')"
      ]
     },
     "execution_count": 48,
     "metadata": {},
     "output_type": "execute_result"
    },
    {
     "data": {
      "image/png": "[encoded data removed]",
      "text/plain": [
       "<Figure size 432x288 with 1 Axes>"
      ]
     },
     "metadata": {
      "needs_background": "light"
     },
     "output_type": "display_data"
    }
   ],
   "source": [
    "ax = sns.distplot(tmdb.query(\"runtime>0\").runtime.dropna(), \n",
    "                  hist_kws={'cumulative':True},\n",
    "                  kde_kws={'cumulative':True})\n",
    "ax.set(xlabel='Tempo de duração', ylabel='Densidade')\n",
    "ax.set_title('Duração dos filmes no TMDB 5000')"
   ]
  },
  {
   "cell_type": "markdown",
   "metadata": {},
   "source": [
    "Podemos inferir visualmente, que cerca de 40% dos filmes no conjunto de dados do TMBD têm menos de 100 minutos de duração. \n",
    "\n",
    "Por meio do Pandas, também existe uma maneira de verificarmos informações como esta de forma numérica. Vamos supor que queremos saber, por exemplo, qual é o valor que separa 80% desse conjunto. Para isso, usaremos a função quantile(), que aceita um parâmetro q com o número decimal referente à porcentagem desejada - nesse caso, 0.8: "
   ]
  },
  {
   "cell_type": "code",
   "execution_count": 49,
   "metadata": {},
   "outputs": [
    {
     "data": {
      "text/plain": [
       "121.0"
      ]
     },
     "execution_count": 49,
     "metadata": {},
     "output_type": "execute_result"
    }
   ],
   "source": [
    "tmdb.query(\"runtime>0\").runtime.dropna().quantile(q=0.8)"
   ]
  },
  {
   "cell_type": "markdown",
   "metadata": {},
   "source": [
    "Assim, sabemos que 80% dos nossos filmes têm 121 minutos ou menos, e que 20% têm uma duração maior."
   ]
  },
  {
   "cell_type": "code",
   "execution_count": 50,
   "metadata": {},
   "outputs": [
    {
     "name": "stdout",
     "output_type": "stream",
     "text": [
      "<class 'pandas.core.frame.DataFrame'>\n",
      "RangeIndex: 4803 entries, 0 to 4802\n",
      "Data columns (total 20 columns):\n",
      " #   Column                Non-Null Count  Dtype  \n",
      "---  ------                --------------  -----  \n",
      " 0   budget                4803 non-null   int64  \n",
      " 1   genres                4803 non-null   object \n",
      " 2   homepage              1712 non-null   object \n",
      " 3   id                    4803 non-null   int64  \n",
      " 4   keywords              4803 non-null   object \n",
      " 5   original_language     4803 non-null   object \n",
      " 6   original_title        4803 non-null   object \n",
      " 7   overview              4800 non-null   object \n",
      " 8   popularity            4803 non-null   float64\n",
      " 9   production_companies  4803 non-null   object \n",
      " 10  production_countries  4803 non-null   object \n",
      " 11  release_date          4802 non-null   object \n",
      " 12  revenue               4803 non-null   int64  \n",
      " 13  runtime               4801 non-null   float64\n",
      " 14  spoken_languages      4803 non-null   object \n",
      " 15  status                4803 non-null   object \n",
      " 16  tagline               3959 non-null   object \n",
      " 17  title                 4803 non-null   object \n",
      " 18  vote_average          4803 non-null   float64\n",
      " 19  vote_count            4803 non-null   int64  \n",
      "dtypes: float64(3), int64(4), object(13)\n",
      "memory usage: 750.6+ KB\n"
     ]
    }
   ],
   "source": [
    "tmdb.info()"
   ]
  },
  {
   "cell_type": "code",
   "execution_count": 51,
   "metadata": {},
   "outputs": [
    {
     "data": {
      "image/png": "[encoded data removed]",
      "text/plain": [
       "<Figure size 432x288 with 2 Axes>"
      ]
     },
     "metadata": {
      "needs_background": "light"
     },
     "output_type": "display_data"
    }
   ],
   "source": [
    "df = pd.DataFrame(tmdb, columns=['budget','popularity',\n",
    "                                  'revenue','runtime',\n",
    "                                  'vote_average','vote_count'])    \n",
    "corrMatrix = df.corr()\n",
    "sns.heatmap(corrMatrix, annot=True)\n",
    "plt.show()"
   ]
  },
  {
   "cell_type": "markdown",
   "metadata": {},
   "source": [
    "# O efeito do tamanho de uma amostra"
   ]
  },
  {
   "cell_type": "markdown",
   "metadata": {},
   "source": [
    "Para continuar com nossas análises vamos ver a média das médias dos filmes do movieLens:"
   ]
  },
  {
   "cell_type": "code",
   "execution_count": 52,
   "metadata": {},
   "outputs": [
    {
     "data": {
      "text/plain": [
       "3.237997737700967"
      ]
     },
     "execution_count": 52,
     "metadata": {},
     "output_type": "execute_result"
    }
   ],
   "source": [
    "average_vote_min20.mean()"
   ]
  },
  {
   "cell_type": "markdown",
   "metadata": {},
   "source": [
    "Sabendo do fato de que a nota mínima no MovieLens é 0,5 e a máxima é 5, poderíamos esperar que a média das médias fosse 2.75. Portanto, em geral, parece que os usuários atribuem notas maiores que 2.75 aos filmes. \n",
    "Será que de repente, se utilizarmos somente 10% da amostra, poderíamos generalizar a média para a amostra inteira? "
   ]
  },
  {
   "cell_type": "markdown",
   "metadata": {},
   "source": [
    "Vamos começar exibindo a média dos 5 primeiros registros: "
   ]
  },
  {
   "cell_type": "code",
   "execution_count": 53,
   "metadata": {},
   "outputs": [
    {
     "data": {
      "text/plain": [
       "3.2398489591223765"
      ]
     },
     "execution_count": 53,
     "metadata": {},
     "output_type": "execute_result"
    }
   ],
   "source": [
    "average_vote_min20[0:5].mean()"
   ]
  },
  {
   "cell_type": "code",
   "execution_count": 54,
   "metadata": {},
   "outputs": [
    {
     "data": {
      "text/plain": [
       "18430"
      ]
     },
     "execution_count": 54,
     "metadata": {},
     "output_type": "execute_result"
    }
   ],
   "source": [
    "len(average_vote_min20)"
   ]
  },
  {
   "cell_type": "code",
   "execution_count": 55,
   "metadata": {},
   "outputs": [
    {
     "data": {
      "text/plain": [
       "[3.893707794587238,\n",
       " 3.57261747662332,\n",
       " 3.429087693101868,\n",
       " 3.2852026108886285,\n",
       " 3.2398489591223765,\n",
       " 3.342358949043605,\n",
       " 3.345402861603105,\n",
       " 3.316550420569383,\n",
       " 3.280494891639386,\n",
       " 3.294591165786963,\n",
       " 3.3275529252510605,\n",
       " 3.268970650160527,\n",
       " 3.2739365768245636,\n",
       " 3.284618881083484,\n",
       " 3.2469124049532803,\n",
       " 3.282962054823009,\n",
       " 3.3221293648753862,\n",
       " 3.32558609887406,\n",
       " 3.289616713683447,\n",
       " 3.2686319717492744,\n",
       " 3.2829905469300424,\n",
       " 3.2846735821441873,\n",
       " 3.2786308757023734,\n",
       " 3.2748372514071686,\n",
       " 3.2909359387300547,\n",
       " 3.3030810377459145,\n",
       " 3.3068162406270227,\n",
       " 3.3326442320332004,\n",
       " 3.353474598671346,\n",
       " 3.3629185271433077,\n",
       " 3.359109496202464,\n",
       " 3.3761925694837536,\n",
       " 3.365492095350213,\n",
       " 3.3724832619551663,\n",
       " 3.3755348813515447,\n",
       " 3.390622435108101,\n",
       " 3.3798848918168916,\n",
       " 3.3664889719429882,\n",
       " 3.3678286928203702,\n",
       " 3.3743011059891956,\n",
       " 3.3857428603135187,\n",
       " 3.3777386307201325,\n",
       " 3.3794181200625406,\n",
       " 3.3629455296406574,\n",
       " 3.3633891389210913,\n",
       " 3.361215743415327,\n",
       " 3.376491287965211,\n",
       " 3.368184189019956,\n",
       " 3.371277100307411,\n",
       " 3.389538622564529,\n",
       " 3.3741975291248885,\n",
       " 3.377249354075334,\n",
       " 3.382388706573844,\n",
       " 3.3723654280234596,\n",
       " 3.369601129780794,\n",
       " 3.343632977738005,\n",
       " 3.3432260532627347,\n",
       " 3.3539963007959277,\n",
       " 3.3575478196231527,\n",
       " 3.353186843658516,\n",
       " 3.3525787307136716,\n",
       " 3.3584299556380053,\n",
       " 3.3540724025261173,\n",
       " 3.3456331409287907,\n",
       " 3.3306273264608817,\n",
       " 3.3125526323770806,\n",
       " 3.3123286529724965,\n",
       " 3.314061468992736,\n",
       " 3.317601471552679,\n",
       " 3.3177295779463596,\n",
       " 3.3040386525791132,\n",
       " 3.3065777444249482,\n",
       " 3.313282646127746,\n",
       " 3.3129423254784984,\n",
       " 3.3011651984011428,\n",
       " 3.2973346874728597,\n",
       " 3.298704933114715,\n",
       " 3.296834229866021,\n",
       " 3.2945950215308697,\n",
       " 3.300281515800569,\n",
       " 3.2996946279298296,\n",
       " 3.308141661718507,\n",
       " 3.3121920067333637,\n",
       " 3.3127391974671188,\n",
       " 3.31525795120345,\n",
       " 3.3171347670766296,\n",
       " 3.3060145993007573,\n",
       " 3.3037552079527543,\n",
       " 3.3017961860848852,\n",
       " 3.30214659883209,\n",
       " 3.297178474709646,\n",
       " 3.2884264673938115,\n",
       " 3.291001726152103,\n",
       " 3.288727722915966,\n",
       " 3.293061646363697,\n",
       " 3.300282184105726,\n",
       " 3.2930255176940038,\n",
       " 3.2910665624541835,\n",
       " 3.2903610432289008,\n",
       " 3.2951309343738986,\n",
       " 3.2863736616358667,\n",
       " 3.286068607366839,\n",
       " 3.287120350246995,\n",
       " 3.2875636381893023,\n",
       " 3.2889773178255943,\n",
       " 3.288297102378801,\n",
       " 3.286293513043282,\n",
       " 3.2929229487898124,\n",
       " 3.300175758580817,\n",
       " 3.3011399143138402,\n",
       " 3.2993369430228157,\n",
       " 3.301924384913528,\n",
       " 3.3039859719579234,\n",
       " 3.3093144158129295,\n",
       " 3.3116197758764456,\n",
       " 3.308807854474096,\n",
       " 3.303892743217039,\n",
       " 3.299974578408205,\n",
       " 3.3037453054760055,\n",
       " 3.300042364756831,\n",
       " 3.3057558112472996,\n",
       " 3.307320470952666,\n",
       " 3.310872311376487,\n",
       " 3.30287060440654,\n",
       " 3.3013256883517754,\n",
       " 3.3027906868010293,\n",
       " 3.3015052080366196,\n",
       " 3.3009168116940715,\n",
       " 3.3009922696466285,\n",
       " 3.2969686527872093,\n",
       " 3.291648281391887,\n",
       " 3.2928601345875985,\n",
       " 3.2906721211643233,\n",
       " 3.2931878350196477,\n",
       " 3.2929038834189988,\n",
       " 3.2924240186616736,\n",
       " 3.2911005667817426,\n",
       " 3.2910729040517106,\n",
       " 3.2926491079467293,\n",
       " 3.290655282272206,\n",
       " 3.291891587869505,\n",
       " 3.2917762653224183,\n",
       " 3.289056877531718,\n",
       " 3.2911007381675756,\n",
       " 3.288465251862148,\n",
       " 3.2911928401916146,\n",
       " 3.2951544917227715,\n",
       " 3.2967506967904696,\n",
       " 3.2953429108765153,\n",
       " 3.2925183586389304,\n",
       " 3.295791597532959,\n",
       " 3.2965323792002352,\n",
       " 3.297920244301181,\n",
       " 3.2946493485760535,\n",
       " 3.292241798385424,\n",
       " 3.2930468902223344,\n",
       " 3.2886466942748727,\n",
       " 3.291502482510171,\n",
       " 3.2960092430040038,\n",
       " 3.296904551371976,\n",
       " 3.2978694690354313,\n",
       " 3.2991577232990967,\n",
       " 3.2963657757830562,\n",
       " 3.2950244533019943,\n",
       " 3.2937326789616903,\n",
       " 3.287562879857962,\n",
       " 3.2871326254887956,\n",
       " 3.2889940134203823,\n",
       " 3.2858139483359388,\n",
       " 3.281517159256619,\n",
       " 3.2766502481634157,\n",
       " 3.2779941381477204,\n",
       " 3.2812951515153577,\n",
       " 3.2790420231407422,\n",
       " 3.2796928457647376,\n",
       " 3.2765727898381254,\n",
       " 3.2782632426125473,\n",
       " 3.270820892990266,\n",
       " 3.2697295567060363,\n",
       " 3.270243872326172,\n",
       " 3.2691214898920893,\n",
       " 3.268207933837455,\n",
       " 3.2660715161523135,\n",
       " 3.2669701958005537,\n",
       " 3.2673296693548606,\n",
       " 3.265848199712036,\n",
       " 3.267518392156242,\n",
       " 3.2644175811149783,\n",
       " 3.2632194705458217,\n",
       " 3.257875314066995,\n",
       " 3.2609455680598805,\n",
       " 3.259992435828913,\n",
       " 3.2577957242003217,\n",
       " 3.2567532491042144,\n",
       " 3.2575801389114147,\n",
       " 3.2601948983695235,\n",
       " 3.257971686815476,\n",
       " 3.2566761617605873,\n",
       " 3.2556594364556948,\n",
       " 3.255112364569859,\n",
       " 3.2534779991869667,\n",
       " 3.2546984051315855,\n",
       " 3.2556541664300402,\n",
       " 3.256230647366174,\n",
       " 3.254323344648485,\n",
       " 3.2521692152435153,\n",
       " 3.250405231636064,\n",
       " 3.2520119409092376,\n",
       " 3.248728284251923,\n",
       " 3.252384545131793,\n",
       " 3.2560555486720917,\n",
       " 3.2591630390680257,\n",
       " 3.259076952978662,\n",
       " 3.2565961797841907,\n",
       " 3.2567322146935673,\n",
       " 3.2583497139511404,\n",
       " 3.254616654725877,\n",
       " 3.255872864626676,\n",
       " 3.2585730530859793,\n",
       " 3.2594204453888302,\n",
       " 3.2595318103015383,\n",
       " 3.2573888011730796,\n",
       " 3.256511849592532,\n",
       " 3.2539895366991187,\n",
       " 3.255360694313789,\n",
       " 3.256833436051087,\n",
       " 3.2555476885484134,\n",
       " 3.258935356331361,\n",
       " 3.2601325104322862,\n",
       " 3.2575684254040134,\n",
       " 3.259329550821607,\n",
       " 3.259569716499208,\n",
       " 3.2594059143375156,\n",
       " 3.2590058734414047,\n",
       " 3.2582663326043013,\n",
       " 3.2567939458356348,\n",
       " 3.255820635528248,\n",
       " 3.256365506807541,\n",
       " 3.253358688155864,\n",
       " 3.2497007405532887,\n",
       " 3.2485344273014576,\n",
       " 3.251756338698215,\n",
       " 3.254104824587747,\n",
       " 3.253096301216983,\n",
       " 3.2548193905688576,\n",
       " 3.254089081658792,\n",
       " 3.2532918981327774,\n",
       " 3.253140884500151,\n",
       " 3.254168111780107,\n",
       " 3.2527960386361223,\n",
       " 3.248912184768842,\n",
       " 3.2467409384090327,\n",
       " 3.247376500368127,\n",
       " 3.244938533170143,\n",
       " 3.244213921673891,\n",
       " 3.247635697759613,\n",
       " 3.249114115526286,\n",
       " 3.2511150077582665,\n",
       " 3.2530254668520318,\n",
       " 3.2534916501673483,\n",
       " 3.256051711848,\n",
       " 3.2569841442719265,\n",
       " 3.255576389895022,\n",
       " 3.255768022512393,\n",
       " 3.256507834434302,\n",
       " 3.256182775636026,\n",
       " 3.256475568700033,\n",
       " 3.258279952579624,\n",
       " 3.257810744496512,\n",
       " 3.256258728849576,\n",
       " 3.254267401424079,\n",
       " 3.2532548916184734,\n",
       " 3.253810320100725,\n",
       " 3.252961357636889,\n",
       " 3.2545774964352523,\n",
       " 3.2562536680231715,\n",
       " 3.2577161863243806,\n",
       " 3.2582619572088722,\n",
       " 3.257505811474422,\n",
       " 3.25606093777798,\n",
       " 3.2525473757218304,\n",
       " 3.2483409188242787,\n",
       " 3.2483554704057953,\n",
       " 3.2483886243316467,\n",
       " 3.248750425145314,\n",
       " 3.2512853059211015,\n",
       " 3.2518400637672107,\n",
       " 3.2547454752639284,\n",
       " 3.2544184378416716,\n",
       " 3.2527488504533837,\n",
       " 3.25596590608537,\n",
       " 3.255618825838144,\n",
       " 3.256535584367331,\n",
       " 3.258098354331917,\n",
       " 3.2594735769250933,\n",
       " 3.2603669886414814,\n",
       " 3.2619373765432194,\n",
       " 3.261203521662765,\n",
       " 3.26090187868041,\n",
       " 3.2590665589452485,\n",
       " 3.2617705466103213,\n",
       " 3.2641534544234228,\n",
       " 3.266260070779856,\n",
       " 3.267431261857137,\n",
       " 3.2659299259478476,\n",
       " 3.2639213830181935,\n",
       " 3.2618279908910983,\n",
       " 3.2611007296000905,\n",
       " 3.2630063381607193,\n",
       " 3.2618093429856847,\n",
       " 3.2621606349544137,\n",
       " 3.2617308724941316,\n",
       " 3.2654108888903686,\n",
       " 3.267035003211701,\n",
       " 3.2669517259811407,\n",
       " 3.268539173468208,\n",
       " 3.2697999782387006,\n",
       " 3.27106744317602,\n",
       " 3.2691084917391215,\n",
       " 3.2716414642840297,\n",
       " 3.270223484286011,\n",
       " 3.269838495302477,\n",
       " 3.2700020575591404,\n",
       " 3.2685187156941002,\n",
       " 3.268506801075492,\n",
       " 3.2669877837834997,\n",
       " 3.267261454379143,\n",
       " 3.2689366402134348,\n",
       " 3.268914701337406,\n",
       " 3.2676004325227757,\n",
       " 3.269061514362668,\n",
       " 3.2682073749065377,\n",
       " 3.2689016153547708,\n",
       " 3.269226591383716,\n",
       " 3.2701062745573335,\n",
       " 3.2708132158992465,\n",
       " 3.26902802459709,\n",
       " 3.2682020263001132,\n",
       " 3.269304860271586,\n",
       " 3.2697185840895333,\n",
       " 3.270238554293882,\n",
       " 3.271481611849779,\n",
       " 3.2726002946154513,\n",
       " 3.27316441467152,\n",
       " 3.27325650849876,\n",
       " 3.2732787284898244,\n",
       " 3.2739838985749015,\n",
       " 3.273586500459099,\n",
       " 3.2711200264072606,\n",
       " 3.2733397161513706,\n",
       " 3.2743867046470174,\n",
       " 3.2743225584091444,\n",
       " 3.2743864463456624,\n",
       " 3.272822890645419,\n",
       " 3.272974891277383,\n",
       " 3.2732697634309558,\n",
       " 3.275286431709813,\n",
       " 3.276799979406696,\n",
       " 3.276466020313935,\n",
       " 3.275636968920833,\n",
       " 3.275380465394359,\n",
       " 3.2757600136522464,\n",
       " 3.2757954237011004,\n",
       " 3.274979681237442,\n",
       " 3.274935211983575,\n",
       " 3.2748671751077776,\n",
       " 3.2762137655023706,\n",
       " 3.273892167052741,\n",
       " 3.273909897718204,\n",
       " 3.2739143159157438,\n",
       " 3.2744731664967217,\n",
       " 3.274093336669011,\n",
       " 3.272619261596377,\n",
       " 3.2732065715238665,\n",
       " 3.273519724568763,\n",
       " 3.272900453030435,\n",
       " 3.27270685819571,\n",
       " 3.2718558047230575,\n",
       " 3.272605616538455,\n",
       " 3.2714180262878836,\n",
       " 3.2697942986015054,\n",
       " 3.2704997918796295,\n",
       " 3.271036178399205,\n",
       " 3.2713909104083654,\n",
       " 3.2711734208507606,\n",
       " 3.2713771227955553,\n",
       " 3.2678343266940244,\n",
       " 3.2679543256958286,\n",
       " 3.2659399829562505,\n",
       " 3.2629999270558967,\n",
       " 3.2634831064673215,\n",
       " 3.261808769096596,\n",
       " 3.260726656354718,\n",
       " 3.2607719476547605,\n",
       " 3.2586966231461565,\n",
       " 3.258234655854771,\n",
       " 3.258197167379214,\n",
       " 3.2581467579290635,\n",
       " 3.2576042013093582,\n",
       " 3.256989275242057,\n",
       " 3.2558021508173947,\n",
       " 3.256557768321867,\n",
       " 3.25545186012469,\n",
       " 3.25385363969914,\n",
       " 3.252753687608245,\n",
       " 3.2513880046676054,\n",
       " 3.2520495047954516,\n",
       " 3.250698750899452,\n",
       " 3.2488308486050554,\n",
       " 3.247614450409875,\n",
       " 3.2477108801842456,\n",
       " 3.2476762944033655,\n",
       " 3.247074376618089,\n",
       " 3.245801865943908,\n",
       " 3.2463306177878097,\n",
       " 3.2460006640056807,\n",
       " 3.2443270009526457,\n",
       " 3.245711608603369,\n",
       " 3.2436494856944464,\n",
       " 3.2415021587092188,\n",
       " 3.2426382302192778,\n",
       " 3.241422807232336,\n",
       " 3.240668081714159,\n",
       " 3.240216661436973,\n",
       " 3.2386666844187206,\n",
       " 3.237226895149419,\n",
       " 3.2357163844019263,\n",
       " 3.2344931749549986,\n",
       " 3.2328015170409414,\n",
       " 3.2336575696030865,\n",
       " 3.234715870997284,\n",
       " 3.234337571199254,\n",
       " 3.234588675407641,\n",
       " 3.2327000387565126,\n",
       " 3.231900655782841,\n",
       " 3.2334086839155844,\n",
       " 3.2317687244821003,\n",
       " 3.2325084724738713,\n",
       " 3.232988285560367,\n",
       " 3.233246783258474,\n",
       " 3.232819353886669,\n",
       " 3.2335409300258258,\n",
       " 3.233265569154601,\n",
       " 3.233865017318183,\n",
       " 3.2324806572195217,\n",
       " 3.2337717229300735,\n",
       " 3.235423594751285,\n",
       " 3.235195792532726,\n",
       " 3.2341323765309204,\n",
       " 3.232339766879903,\n",
       " 3.2325877314303715,\n",
       " 3.2311647175884026,\n",
       " 3.230241634613773,\n",
       " 3.22955294590597,\n",
       " 3.2296124287656465,\n",
       " 3.2289767751570704,\n",
       " 3.2292880621693287,\n",
       " 3.2294698492941563,\n",
       " 3.2295311910633457,\n",
       " 3.2271893248377137,\n",
       " 3.228123797832043,\n",
       " 3.2273884349009783,\n",
       " 3.2253827614128707,\n",
       " 3.22645142703416,\n",
       " 3.227932627815183,\n",
       " 3.2274991745285115,\n",
       " 3.2281822847070525,\n",
       " 3.226461649272178,\n",
       " 3.2258164338873816,\n",
       " 3.2267810265414343,\n",
       " 3.227016678039297,\n",
       " 3.2274341068193007,\n",
       " 3.2286174907820286,\n",
       " 3.2277205513670717,\n",
       " 3.2268190789032314,\n",
       " 3.225641661752606,\n",
       " 3.224259791102605,\n",
       " 3.2245736528665865,\n",
       " 3.2236064886417086,\n",
       " 3.2238905708079755,\n",
       " 3.224267782912882,\n",
       " 3.225157737318564,\n",
       " 3.22598691834671,\n",
       " 3.2262495705796264,\n",
       " 3.22663189895393,\n",
       " 3.2267350481373347,\n",
       " 3.2280808614526197,\n",
       " 3.227169116185854,\n",
       " 3.2262528205067427,\n",
       " 3.2265794687584104,\n",
       " 3.227833754356352,\n",
       " 3.225900130922495,\n",
       " 3.2256354650328514,\n",
       " 3.2251459120597006,\n",
       " 3.2236867475446793,\n",
       " 3.2242343206723474,\n",
       " 3.2248454855691127,\n",
       " 3.2260046923032144,\n",
       " 3.226916739792684,\n",
       " 3.2260200839286703,\n",
       " 3.2258569693385275,\n",
       " 3.225272389637024,\n",
       " 3.2247005160226605,\n",
       " 3.2251701120149754,\n",
       " 3.2265019264832846,\n",
       " 3.2262285614473556,\n",
       " 3.2260407111838805,\n",
       " 3.224958779102758,\n",
       " 3.222936993100722,\n",
       " 3.2226322095211075,\n",
       " 3.2228041980923012,\n",
       " 3.2234235302837817,\n",
       " 3.224241139665016,\n",
       " 3.224842728426428,\n",
       " 3.2252183748830654,\n",
       " 3.2251903233845574,\n",
       " 3.227167864506211,\n",
       " 3.2263024892011716,\n",
       " 3.2275026923638985,\n",
       " 3.2275780076990963,\n",
       " 3.228169616113188,\n",
       " 3.227849417811458,\n",
       " 3.2272852559098406,\n",
       " 3.228550877276459,\n",
       " 3.229597535456244,\n",
       " 3.2297050308059823,\n",
       " 3.229550866215713,\n",
       " 3.2304439709430595,\n",
       " 3.2309713996259273,\n",
       " 3.230005436587031,\n",
       " 3.2316736718739305,\n",
       " 3.2309558709230997,\n",
       " 3.2309669058497685,\n",
       " 3.230401532125744,\n",
       " 3.228216733308612,\n",
       " 3.227448956880189,\n",
       " 3.226839539713894,\n",
       " 3.2280726846088728,\n",
       " 3.2278112685738356,\n",
       " 3.228756550383442,\n",
       " 3.228728044720575,\n",
       " 3.2296037161107303,\n",
       " 3.2293538980033465,\n",
       " 3.2304229018567474,\n",
       " 3.2317903725770916,\n",
       " 3.2310424256881913,\n",
       " 3.230538793384475,\n",
       " 3.230286177453405,\n",
       " 3.230589818158632,\n",
       " 3.231601828376618,\n",
       " 3.2320193592540702,\n",
       " 3.2303834369148654,\n",
       " 3.230372668311979,\n",
       " 3.229528295134625,\n",
       " 3.22968306757086,\n",
       " 3.230309844592217,\n",
       " 3.229785531791761,\n",
       " 3.2301871410450835,\n",
       " 3.2308054872983645,\n",
       " 3.229887382261522,\n",
       " 3.2302422385295655,\n",
       " 3.23037361396832,\n",
       " 3.2299437000148212,\n",
       " 3.2285386579935182,\n",
       " 3.227808128463767,\n",
       " 3.227203722381171,\n",
       " 3.226930962764287,\n",
       " 3.2282544023490765,\n",
       " 3.2284218452478735,\n",
       " 3.2289551203684344,\n",
       " 3.2286166950888298,\n",
       " 3.2276255511248113,\n",
       " 3.2274758999416178,\n",
       " 3.227836068011409,\n",
       " 3.2286550534239784,\n",
       " 3.2299010934510104,\n",
       " 3.2307603426009006,\n",
       " 3.2287204875755204,\n",
       " 3.2290282297326507,\n",
       " 3.2306184252269308,\n",
       " 3.231223732787937,\n",
       " 3.2319964065383964,\n",
       " 3.2324262193975177,\n",
       " 3.2327585224594593,\n",
       " 3.233297303114194,\n",
       " 3.2345351623593097,\n",
       " 3.2341264215657617,\n",
       " 3.2343599286233515,\n",
       " 3.235619811556811,\n",
       " 3.235098326725332,\n",
       " 3.235170715655292,\n",
       " 3.2340531312835608,\n",
       " 3.235532672854156,\n",
       " 3.235150684939472,\n",
       " 3.2353843711680534,\n",
       " 3.23417057243576,\n",
       " 3.233293506066351,\n",
       " 3.233914086388717,\n",
       " 3.2337554466600027,\n",
       " 3.2348176996929627,\n",
       " 3.2350709678148006,\n",
       " 3.235651124673622,\n",
       " 3.2348711163780584,\n",
       " 3.233765566773715,\n",
       " 3.2339301415944743,\n",
       " 3.234540288109609,\n",
       " 3.2342508041578824,\n",
       " 3.2343260495457806,\n",
       " 3.2337325908420875,\n",
       " 3.23421507986771,\n",
       " 3.235076358985774,\n",
       " 3.235082983292631,\n",
       " 3.2351644139887283,\n",
       " 3.2343317570334995,\n",
       " 3.2354236032407866,\n",
       " 3.2356178000860694,\n",
       " 3.2340688818931924,\n",
       " 3.234718966057641,\n",
       " 3.234363532966034,\n",
       " 3.23371766100864,\n",
       " 3.233774036098417,\n",
       " 3.2332871592124968,\n",
       " 3.232863890982749,\n",
       " 3.2317221350088428,\n",
       " 3.2300180462594956,\n",
       " 3.230627145017249,\n",
       " 3.2311136575836747,\n",
       " 3.2313852076362326,\n",
       " 3.232164204199293,\n",
       " 3.2325172488268272,\n",
       " 3.2313365558809846,\n",
       " 3.2309813545505848,\n",
       " 3.230962453541806,\n",
       " 3.230394414988183,\n",
       " 3.2293316766268716,\n",
       " 3.2289710922296595,\n",
       " 3.2297302507443373,\n",
       " 3.2293981612335427,\n",
       " 3.229513780212089,\n",
       " 3.2295387037627075,\n",
       " 3.229743195667078,\n",
       " 3.229439676236024,\n",
       " 3.230554109847746,\n",
       " 3.2308567678115065,\n",
       " 3.2297314240165123,\n",
       " 3.2310733323623952,\n",
       " 3.2324340945789705,\n",
       " 3.2331157485131965,\n",
       " 3.2318577376012603,\n",
       " 3.231133193514861,\n",
       " 3.2307295054640517,\n",
       " 3.2290778438818157,\n",
       " 3.2280225945037424,\n",
       " 3.229305685611695,\n",
       " 3.2294587234268612,\n",
       " 3.2299550334571587,\n",
       " 3.2304744434980774,\n",
       " 3.230381556560709,\n",
       " 3.229518708532366,\n",
       " 3.228380439079385,\n",
       " 3.228832045722652,\n",
       " 3.228446203138961,\n",
       " 3.2274913376295062,\n",
       " 3.22757752872076,\n",
       " 3.227318623272166,\n",
       " 3.2259860992901435,\n",
       " 3.2258491117119203,\n",
       " 3.2255133763789234,\n",
       " 3.225428333651401,\n",
       " 3.225360268319688,\n",
       " 3.2246871296344524,\n",
       " 3.2240353828443906,\n",
       " 3.224079213730067,\n",
       " 3.2239649401541013,\n",
       " 3.224797161406783,\n",
       " 3.224237207997478,\n",
       " 3.2236541375647985,\n",
       " 3.224099162008892,\n",
       " 3.2239594537999476,\n",
       " 3.2237351186747625,\n",
       " 3.223980783696628,\n",
       " 3.224103569333782,\n",
       " 3.2233938049145374,\n",
       " 3.2225207058830407,\n",
       " 3.2229257851445254,\n",
       " 3.223180467375037,\n",
       " 3.2241511522298354,\n",
       " 3.224647171174821,\n",
       " 3.2242167430479793,\n",
       " 3.224156070871354,\n",
       " 3.224451596077594,\n",
       " 3.2240788251645203,\n",
       " 3.2253476598569284,\n",
       " 3.225881962719028,\n",
       " 3.2259166649309425,\n",
       " 3.2257151004966405,\n",
       " 3.2250854034647727,\n",
       " 3.22493216688805,\n",
       " 3.224819006897271,\n",
       " 3.225656240379778,\n",
       " 3.2260288307719085,\n",
       " 3.225775779868778,\n",
       " 3.225335320953761,\n",
       " 3.224742826432637,\n",
       " 3.225372426183427,\n",
       " 3.224463022369192,\n",
       " 3.2248696923580966,\n",
       " 3.2248190944758854,\n",
       " 3.223231343074138,\n",
       " 3.2231704538585406,\n",
       " 3.2242178145882825,\n",
       " 3.2235358354226364,\n",
       " 3.222846350265516,\n",
       " 3.222328275792414,\n",
       " 3.2235618899363314,\n",
       " 3.2243005068156982,\n",
       " 3.223000753154022,\n",
       " 3.222919390674616,\n",
       " 3.222181405002339,\n",
       " 3.2235614370052614,\n",
       " 3.223787237559156,\n",
       " 3.2232464426779575,\n",
       " 3.223291696965874,\n",
       " 3.222943932151708,\n",
       " 3.223141170905962,\n",
       " 3.22314139101611,\n",
       " 3.223581406691309,\n",
       " 3.2234235965889497,\n",
       " 3.2242790632925717,\n",
       " 3.224912007802689,\n",
       " 3.224319784271269,\n",
       " 3.2231989861015733,\n",
       " 3.2229330964708653,\n",
       " 3.223121699660058,\n",
       " 3.222846910725093,\n",
       " 3.2231200087911986,\n",
       " 3.2234980997557225,\n",
       " 3.223215787310459,\n",
       " 3.2236808933274386,\n",
       " 3.2226218650932124,\n",
       " 3.222785942061441,\n",
       " 3.222311793543751,\n",
       " 3.222547884363648,\n",
       " 3.221702725916923,\n",
       " 3.221300129919025,\n",
       " 3.2209715646995494,\n",
       " 3.2204749494857614,\n",
       " 3.221527342562762,\n",
       " 3.2209856364627907,\n",
       " 3.2211895643295634,\n",
       " 3.221447726324567,\n",
       " 3.2209868343013133,\n",
       " 3.221044520946639,\n",
       " 3.2203612873933976,\n",
       " 3.220439917602832,\n",
       " 3.220326676974515,\n",
       " 3.221030454706059,\n",
       " 3.220489626484501,\n",
       " 3.2201841544649383,\n",
       " 3.220545619997463,\n",
       " 3.221067435291584,\n",
       " 3.220716281665339,\n",
       " 3.220727607375037,\n",
       " 3.220901439503519,\n",
       " 3.220912243722033,\n",
       " 3.220577222143134,\n",
       " 3.220740946555143,\n",
       " 3.2202236016694585,\n",
       " 3.2204174185613654,\n",
       " 3.2214990003932287,\n",
       " 3.2212100280174933,\n",
       " 3.221532719794373,\n",
       " 3.2219911844853577,\n",
       " 3.2217832221691673,\n",
       " 3.2223992536516364,\n",
       " 3.222307310831517,\n",
       " 3.22229370385989,\n",
       " 3.2222686381135297,\n",
       " 3.221770027450581,\n",
       " 3.219959355946249,\n",
       " 3.219101533467445,\n",
       " 3.218508763674719,\n",
       " 3.217029186709617,\n",
       " 3.2170577676190666,\n",
       " 3.216302301017737,\n",
       " 3.216592558197669,\n",
       " 3.2161124020594505,\n",
       " 3.2156795183004916,\n",
       " 3.2155789912004447,\n",
       " 3.215729790887282,\n",
       " 3.216496414225655,\n",
       " 3.215986317743047,\n",
       " 3.2147681761065487,\n",
       " 3.214664501238815,\n",
       " 3.214543428347126,\n",
       " 3.213851744291472,\n",
       " 3.213694223460303,\n",
       " 3.2140439656132833,\n",
       " 3.214334440368239,\n",
       " 3.2137143251242777,\n",
       " 3.2129913551610954,\n",
       " 3.212936866362369,\n",
       " 3.212540956995818,\n",
       " 3.2128113212198324,\n",
       " 3.2135102782097618,\n",
       " 3.212912536242445,\n",
       " 3.212275219754959,\n",
       " 3.212921099856083,\n",
       " 3.2123799345395225,\n",
       " 3.212499330804401,\n",
       " 3.2131561273019567,\n",
       " 3.2133601072914715,\n",
       " 3.2136964078812396,\n",
       " 3.213247915799335,\n",
       " 3.2137861089457944,\n",
       " 3.213228060121854,\n",
       " 3.213586499307132,\n",
       " 3.213926237262254,\n",
       " 3.2138834099209515,\n",
       " 3.2139600143346163,\n",
       " 3.21458550536668,\n",
       " 3.2139822991557714,\n",
       " 3.2141693492519394,\n",
       " 3.2141162973055835,\n",
       " 3.215462018357561,\n",
       " 3.215819453400608,\n",
       " 3.216095252761786,\n",
       " 3.216542995629592,\n",
       " 3.2166716177479007,\n",
       " 3.2167452396274547,\n",
       " 3.2173475093130914,\n",
       " 3.2162671292989886,\n",
       " 3.2161898563156495,\n",
       " 3.216017900646179,\n",
       " 3.2147936963812724,\n",
       " 3.214709290966021,\n",
       " 3.215188661023392,\n",
       " 3.2147482853493234,\n",
       " 3.2144485082441605,\n",
       " 3.214707568886707,\n",
       " 3.2140776926870576,\n",
       " 3.214048553483938,\n",
       " 3.2135529992049485,\n",
       " 3.2130949935159836,\n",
       " 3.2122173523142195,\n",
       " 3.2117596485880795,\n",
       " 3.2114909216740957,\n",
       " 3.2115117657130017,\n",
       " 3.2108746825771344,\n",
       " 3.210696837141705,\n",
       " 3.2101638712427634,\n",
       " 3.2103611681891513,\n",
       " 3.2100243754047293,\n",
       " 3.2092792432194095,\n",
       " 3.2098894928226946,\n",
       " 3.210383285188061,\n",
       " 3.209921094323531,\n",
       " 3.2094895110451924,\n",
       " 3.2100230422230123,\n",
       " 3.2105221231893433,\n",
       " 3.2115990005078037,\n",
       " 3.21257276813035,\n",
       " 3.2132469249056625,\n",
       " 3.213711964839407,\n",
       " 3.2144204082614296,\n",
       " 3.215467060877942,\n",
       " 3.216646392554258,\n",
       " 3.2176991267350576,\n",
       " 3.218620003981855,\n",
       " 3.2194182829677955,\n",
       " 3.22054021055415,\n",
       " 3.2214723399616627,\n",
       " 3.2224329578801925,\n",
       " 3.2233767549255092,\n",
       " 3.2245003972380015,\n",
       " 3.225561555714125,\n",
       " 3.226335961270956,\n",
       " 3.227096222771047,\n",
       " 3.2280340879906237,\n",
       " 3.228490446560668,\n",
       " 3.2290504550475427,\n",
       " 3.2298550250058162,\n",
       " 3.2305118416331022,\n",
       " 3.2311403376366137,\n",
       " 3.2322424401768846,\n",
       " 3.233213597302947,\n",
       " 3.234057042804424,\n",
       " 3.2343630753615007,\n",
       " 3.2354151890970524,\n",
       " 3.236181397918811,\n",
       " 3.237117484402222,\n",
       " 3.2377613642777052,\n",
       " 3.2387954513348207,\n",
       " 3.239522190448123,\n",
       " 3.240160166871848,\n",
       " 3.24100242204238,\n",
       " 3.2412486397303995,\n",
       " 3.241801877340031,\n",
       " 3.2426292977186346,\n",
       " 3.2431427889120243,\n",
       " 3.2435353541400973,\n",
       " 3.243602301162811,\n",
       " 3.244303088836246,\n",
       " 3.2446833634602554,\n",
       " 3.245585489154976,\n",
       " 3.2462108811029937,\n",
       " 3.2468398653627952,\n",
       " 3.2477143884743622,\n",
       " 3.248482112846444,\n",
       " 3.2493321521040137,\n",
       " 3.2498704093091897,\n",
       " 3.2505858122384503,\n",
       " 3.2515744969708016,\n",
       " 3.2525018286034024,\n",
       " 3.25275089840478,\n",
       " 3.2536025446012298,\n",
       " 3.254428046765679,\n",
       " 3.2552602805799107,\n",
       " 3.255506325278046,\n",
       " 3.255535445197002,\n",
       " 3.255346505233846,\n",
       " 3.2558523920975277,\n",
       " 3.256110006594983,\n",
       " 3.256217375796651,\n",
       " 3.256354063024141,\n",
       " 3.256694467521362,\n",
       " 3.2568233736795813,\n",
       " 3.2576023916671204,\n",
       " 3.2578633148192546,\n",
       " 3.2573852802218584,\n",
       " 3.257810314096608,\n",
       " 3.2586773228132215,\n",
       " 3.2589359752003455,\n",
       " 3.2596524007676346,\n",
       " 3.259570939631554,\n",
       " 3.260168066670607,\n",
       " 3.260264358702748,\n",
       " 3.259947406255265,\n",
       " 3.26023190698988,\n",
       " 3.2600289416041934,\n",
       " 3.2598154049065178,\n",
       " 3.259109376708215,\n",
       " 3.2595106634441238,\n",
       " 3.258857428782485,\n",
       " 3.2582881339228296,\n",
       " 3.2584239735834086,\n",
       " 3.258696548596959,\n",
       " 3.2586193864940087,\n",
       " 3.2587048431383097,\n",
       " 3.2588911688673368,\n",
       " 3.258342221376691,\n",
       " 3.258642169809878,\n",
       " 3.258054659421698,\n",
       " 3.258289718358317,\n",
       " 3.259070485541397,\n",
       " 3.2587994913096594,\n",
       " 3.259084354550261,\n",
       " 3.258997525434713,\n",
       " 3.2590173699987433,\n",
       " 3.258869347137167,\n",
       " 3.2583950089018843,\n",
       " 3.258666302910262,\n",
       " 3.2585349133062116,\n",
       " 3.2579219984548624,\n",
       " 3.257118453675811,\n",
       " 3.257092454087154,\n",
       " 3.2567911392847777,\n",
       " 3.2568841656484717,\n",
       " 3.2567746539362092,\n",
       " 3.256597644242292,\n",
       " 3.256076993759143,\n",
       " 3.256377553409373,\n",
       " 3.2565622094450117,\n",
       " 3.2567005483961213,\n",
       " 3.256719238738612,\n",
       " 3.256590960952225,\n",
       " 3.2568540439956606,\n",
       " 3.256674304929725,\n",
       " 3.2569679167040833,\n",
       " 3.25696965492151,\n",
       " 3.2565284556467904,\n",
       " 3.256834342452829,\n",
       " 3.2573218210954433,\n",
       " 3.2572481636385873,\n",
       " 3.257549345498636,\n",
       " 3.257612001062119,\n",
       " 3.2576486809717706,\n",
       " 3.258123266568003,\n",
       " 3.2583408532158287,\n",
       " 3.2581782341669494,\n",
       " 3.2582670087501855,\n",
       " 3.2586357401175885,\n",
       " 3.2588303092751327,\n",
       " 3.2590940089662017,\n",
       " 3.259639155643402,\n",
       " 3.260315452418951,\n",
       " 3.2597898869236546,\n",
       " 3.2597452856118854,\n",
       " 3.259534348997502,\n",
       " 3.2596163639442794,\n",
       " ...]"
      ]
     },
     "execution_count": 55,
     "metadata": {},
     "output_type": "execute_result"
    }
   ],
   "source": [
    "medias = list()\n",
    "for i in range(1, len(average_vote_min20)):    \n",
    "    medias.append(average_vote_min20[0:i].mean())\n",
    "medias"
   ]
  },
  {
   "cell_type": "markdown",
   "metadata": {},
   "source": [
    "Vamos plotar essas médias em um gráfico para que possamos analisar o seu comportamento. Entaõ começaremos com 1 amostra e vamos acrescentando mais elementos da amostra em nosso conjunto e plotaremos como a média se comporta a medida que o conjunto cresce "
   ]
  },
  {
   "cell_type": "code",
   "execution_count": 56,
   "metadata": {},
   "outputs": [
    {
     "data": {
      "text/plain": [
       "[<matplotlib.lines.Line2D at 0x1ff0c9abc40>]"
      ]
     },
     "execution_count": 56,
     "metadata": {},
     "output_type": "execute_result"
    },
    {
     "data": {
      "image/png": "[encoded data removed]",
      "text/plain": [
       "<Figure size 432x288 with 1 Axes>"
      ]
     },
     "metadata": {
      "needs_background": "light"
     },
     "output_type": "display_data"
    }
   ],
   "source": [
    "import matplotlib.pyplot as plt\n",
    "medias = list()\n",
    "for i in range(1, len(average_vote_min20)):    \n",
    "    medias.append(average_vote_min20[0:i].mean())\n",
    "plt.plot(medias)"
   ]
  },
  {
   "cell_type": "markdown",
   "metadata": {},
   "source": [
    "Perceba que, no começo, a média tem quedas e elevações abruptas. Porém, em determinado momento do conjunto (por volta dos 10000 registros), a distribuição parece se estabilizar, mantendo-se quase constante. \n",
    "Isso acontece pois, quando temos poucos elementos, cada novo registro no conjunto faz uma diferença bastante significante. Porém, conforme a amostra vai se tornando maior, os novos valores passam a interferir menos no resultado final.\n",
    "\n",
    "Isso significa que, se tivéssemos uma amostra muito pequena, ou mal escolhida, poderíamos ter chegado a resultados diferentes e que levassem a outras interpretações a respeito desses dados. Com 2000 votos, por exemplo, temos uma média de 3.35, um valor mais alto que a média final de 3.23.\n"
   ]
  },
  {
   "cell_type": "markdown",
   "metadata": {},
   "source": [
    "Repare, também, que esses filmes estão em uma ordem específica, fornecida pelo próprio dataset, e não sabemos se essa ordem tem alguma característica oculta que possa estar afetando essa distribuição. Vamos testar isso aleatorizando a ordem do nosso conjunto. "
   ]
  },
  {
   "cell_type": "code",
   "execution_count": 57,
   "metadata": {
    "scrolled": true
   },
   "outputs": [
    {
     "data": {
      "text/plain": [
       "[<matplotlib.lines.Line2D at 0x1ff0ca0ccd0>]"
      ]
     },
     "execution_count": 57,
     "metadata": {},
     "output_type": "execute_result"
    },
    {
     "data": {
      "image/png": "[encoded data removed]",
      "text/plain": [
       "<Figure size 432x288 with 1 Axes>"
      ]
     },
     "metadata": {
      "needs_background": "light"
     },
     "output_type": "display_data"
    }
   ],
   "source": [
    "import matplotlib.pyplot as plt\n",
    "import numpy as np\n",
    "np.random.seed(75243)\n",
    "temp = average_vote_min20.sample(frac=1)\n",
    "medias = list()\n",
    "for i in range(1, len(temp)):    \n",
    "    medias.append(temp[0:i].mean())\n",
    "plt.plot(medias)"
   ]
  },
  {
   "cell_type": "markdown",
   "metadata": {},
   "source": [
    "Dessa vez, nosso gráfico começa com valores altos, diminui bastante e então progride de maneira mais estável, tornando-se muito menos sensível à entrada de novas médias."
   ]
  },
  {
   "cell_type": "markdown",
   "metadata": {},
   "source": [
    "# Intervalo de confiança da média com t e ztest\n"
   ]
  },
  {
   "cell_type": "markdown",
   "metadata": {},
   "source": [
    "Escolhendo os dados de maneira simples, pudemos ver que dependendo do tamanho da amostra e como os dados são escolhidos, essa escolha irá interferir na análise de dados. \n"
   ]
  },
  {
   "cell_type": "markdown",
   "metadata": {},
   "source": [
    "Vamos tentar entender, então, qual o intervalo de confiança que temos para as médias dos nossos filmes. Isso não quer dizer que todos os filmes do mundo terão uma média 3.23, que é a média dos filmes do TMDB 5000 que apresentam pelo menos 20 votos, mas queremos criar uma generalização, a partir dessa amostra, sobre os filmes que existem no mundo.\n",
    "\n",
    "O objetivo, então, é utilizarmos o Teste Z para encontrarmos um intervalo de confiança que abrangerá não só os filmes da nossa amostra, mas também aqueles fora dela. Para isso, usaremos a função zconfint() (que se refere ao intervalo de confiança no Teste Z), passando como parâmetro os nossos dados (average_vote_min20). O parâmetro alpha, que é o valor de p, já é previamente configurado como 0.05 (5%).\n",
    "\n",
    "Para executarmos essa função, teremos que importá-la do módulo statsmodels.stats.weightstats, cuja documentação pode ser encontrada abaixo:\n",
    "Documentação do zfonfint\n",
    "https://www.statsmodels.org/dev/generated/statsmodels.stats.weightstats.zconfint.html"
   ]
  },
  {
   "cell_type": "code",
   "execution_count": null,
   "metadata": {},
   "outputs": [],
   "source": []
  },
  {
   "cell_type": "code",
   "execution_count": 58,
   "metadata": {},
   "outputs": [
    {
     "data": {
      "text/plain": [
       "(3.2310351155994366, 3.244960359802507)"
      ]
     },
     "execution_count": 58,
     "metadata": {},
     "output_type": "execute_result"
    }
   ],
   "source": [
    "from statsmodels.stats.weightstats import zconfint\n",
    "#movie lens\n",
    "zconfint(average_vote_min20)"
   ]
  },
  {
   "cell_type": "code",
   "execution_count": 59,
   "metadata": {},
   "outputs": [
    {
     "data": {
      "text/plain": [
       "(6.238014699215095, 6.290598157237297)"
      ]
     },
     "execution_count": 59,
     "metadata": {},
     "output_type": "execute_result"
    }
   ],
   "source": [
    "from statsmodels.stats.weightstats import zconfint\n",
    "#tmdb\n",
    "zconfint(tmdb_min_20.vote_average          )"
   ]
  },
  {
   "cell_type": "markdown",
   "metadata": {},
   "source": [
    "Ou seja, acreditando que nosso conjunto de dados seja uma amostra grande suficiente para a aplicação desse tipo de teste (que exige normalidade e uma grande quantidade de dados), teremos um intervalo de confiança entre 3.2380 e 3.2449 para os filmes em geral, e não só para os da amostra.\n",
    "\n",
    "Nos cursos de estatística, aprendemos que existem outros tipos de testes, como o Teste t, e existem diferenças primordiais entre eles. Ambos exigem algumas características na nossa distribuição ou nos nossos dados, mas, em linhas gerais, utilizamos o Teste Z quando temos um conjunto maior, e o Teste T quando esse conjunto é menor. \n",
    "Como nossa amostra pode ser considerada grande, executaremos o Teste T apenas para verificarmos o resultado. \n",
    "\n",
    "Nesse caso, o processo é um pouquinho mais trabalhoso, pois teremos que descrever os nossos dados de forma estatística com o DescrStatsW.\n",
    "https://www.statsmodels.org/dev/generated/statsmodels.stats.weightstats.DescrStatsW.html#statsmodels.stats.weightstats.DescrStatsW "
   ]
  },
  {
   "cell_type": "code",
   "execution_count": 60,
   "metadata": {},
   "outputs": [
    {
     "data": {
      "text/plain": [
       "<statsmodels.stats.weightstats.DescrStatsW at 0x1ff0ca19070>"
      ]
     },
     "execution_count": 60,
     "metadata": {},
     "output_type": "execute_result"
    }
   ],
   "source": [
    "from statsmodels.stats.weightstats import DescrStatsW\n",
    "descr_todos_com_10_votos = DescrStatsW(average_vote_min20)\n",
    "descr_todos_com_10_votos"
   ]
  },
  {
   "cell_type": "code",
   "execution_count": 61,
   "metadata": {},
   "outputs": [
    {
     "data": {
      "text/plain": [
       "(3.2310346582845444, 3.2449608171173994)"
      ]
     },
     "execution_count": 61,
     "metadata": {},
     "output_type": "execute_result"
    }
   ],
   "source": [
    "descr_todos_com_10_votos.tconfint_mean()"
   ]
  },
  {
   "cell_type": "markdown",
   "metadata": {},
   "source": [
    "O intervalo de confiança utilizando o teste T é muito parecido com aquele que encontramos com o Teste Z. Claro, cada teste é utilizado em situações distintas, de acordo com a necessidade. "
   ]
  },
  {
   "cell_type": "markdown",
   "metadata": {},
   "source": [
    "# ZTest para uma amostra\n",
    "\n",
    "Já sabemos que a média dos nossos dados é aproximadamente 3.2398, e aplicamos o Teste Z para obter um intervalo de confiança (com alpha = 0,5%) entre 3.2310 e 3.2449. Esse intervalo compreenderia a média de todos os filmes no mundo, supondo que eles tenham características similares ao conjunto do TMBD 5000.\n",
    "Agora, vamos analisar um filme específico no nosso conjunto - neste caso, o primeiro registro do dataset -, comparando sua média com os outros valores que obtemos. Para isso, subiremos o arquivo movies.csv e o importaremos com o Pandas. Como queremos somente o primeiro filme, faremos uma query() selecionando-o por seu movieId: "
   ]
  },
  {
   "cell_type": "code",
   "execution_count": 62,
   "metadata": {},
   "outputs": [
    {
     "data": {
      "text/html": [
       "<div>\n",
       "<style scoped>\n",
       "    .dataframe tbody tr th:only-of-type {\n",
       "        vertical-align: middle;\n",
       "    }\n",
       "\n",
       "    .dataframe tbody tr th {\n",
       "        vertical-align: top;\n",
       "    }\n",
       "\n",
       "    .dataframe thead th {\n",
       "        text-align: right;\n",
       "    }\n",
       "</style>\n",
       "<table border=\"1\" class=\"dataframe\">\n",
       "  <thead>\n",
       "    <tr style=\"text-align: right;\">\n",
       "      <th></th>\n",
       "      <th>movieId</th>\n",
       "      <th>title</th>\n",
       "      <th>genres</th>\n",
       "    </tr>\n",
       "  </thead>\n",
       "  <tbody>\n",
       "    <tr>\n",
       "      <th>0</th>\n",
       "      <td>1</td>\n",
       "      <td>Toy Story (1995)</td>\n",
       "      <td>Adventure|Animation|Children|Comedy|Fantasy</td>\n",
       "    </tr>\n",
       "  </tbody>\n",
       "</table>\n",
       "</div>"
      ],
      "text/plain": [
       "   movieId             title                                       genres\n",
       "0        1  Toy Story (1995)  Adventure|Animation|Children|Comedy|Fantasy"
      ]
     },
     "execution_count": 62,
     "metadata": {},
     "output_type": "execute_result"
    }
   ],
   "source": [
    "filmes = pd.read_csv(\"D:\\\\TCCDataScience\\\\dados\\\\movielens\\\\ml-25m\\\\movies.csv\")\n",
    "filmes.query(\"movieId==1\")"
   ]
  },
  {
   "cell_type": "code",
   "execution_count": 63,
   "metadata": {},
   "outputs": [
    {
     "data": {
      "text/html": [
       "<div>\n",
       "<style scoped>\n",
       "    .dataframe tbody tr th:only-of-type {\n",
       "        vertical-align: middle;\n",
       "    }\n",
       "\n",
       "    .dataframe tbody tr th {\n",
       "        vertical-align: top;\n",
       "    }\n",
       "\n",
       "    .dataframe thead th {\n",
       "        text-align: right;\n",
       "    }\n",
       "</style>\n",
       "<table border=\"1\" class=\"dataframe\">\n",
       "  <thead>\n",
       "    <tr style=\"text-align: right;\">\n",
       "      <th></th>\n",
       "      <th>userId</th>\n",
       "      <th>movieId</th>\n",
       "      <th>rating</th>\n",
       "      <th>timestamp</th>\n",
       "    </tr>\n",
       "  </thead>\n",
       "  <tbody>\n",
       "    <tr>\n",
       "      <th>70</th>\n",
       "      <td>2</td>\n",
       "      <td>1</td>\n",
       "      <td>3.5</td>\n",
       "      <td>1141415820</td>\n",
       "    </tr>\n",
       "    <tr>\n",
       "      <th>254</th>\n",
       "      <td>3</td>\n",
       "      <td>1</td>\n",
       "      <td>4.0</td>\n",
       "      <td>1439472215</td>\n",
       "    </tr>\n",
       "    <tr>\n",
       "      <th>910</th>\n",
       "      <td>4</td>\n",
       "      <td>1</td>\n",
       "      <td>3.0</td>\n",
       "      <td>1573944252</td>\n",
       "    </tr>\n",
       "    <tr>\n",
       "      <th>1152</th>\n",
       "      <td>5</td>\n",
       "      <td>1</td>\n",
       "      <td>4.0</td>\n",
       "      <td>858625949</td>\n",
       "    </tr>\n",
       "    <tr>\n",
       "      <th>1304</th>\n",
       "      <td>8</td>\n",
       "      <td>1</td>\n",
       "      <td>4.0</td>\n",
       "      <td>890492517</td>\n",
       "    </tr>\n",
       "  </tbody>\n",
       "</table>\n",
       "</div>"
      ],
      "text/plain": [
       "      userId  movieId  rating   timestamp\n",
       "70         2        1     3.5  1141415820\n",
       "254        3        1     4.0  1439472215\n",
       "910        4        1     3.0  1573944252\n",
       "1152       5        1     4.0   858625949\n",
       "1304       8        1     4.0   890492517"
      ]
     },
     "execution_count": 63,
     "metadata": {},
     "output_type": "execute_result"
    }
   ],
   "source": [
    "notas1 = notas.query(\"movieId ==1\")\n",
    "notas1.head()"
   ]
  },
  {
   "cell_type": "code",
   "execution_count": 64,
   "metadata": {},
   "outputs": [
    {
     "data": {
      "text/plain": [
       "Text(0.5, 1.0, 'Distribuição das notas para o Toy Story')"
      ]
     },
     "execution_count": 64,
     "metadata": {},
     "output_type": "execute_result"
    },
    {
     "data": {
      "image/png": "[encoded data removed]",
      "text/plain": [
       "<Figure size 432x288 with 1 Axes>"
      ]
     },
     "metadata": {
      "needs_background": "light"
     },
     "output_type": "display_data"
    }
   ],
   "source": [
    "ax = sns.distplot(notas1.rating)\n",
    "ax.set(xlabel='Notas do Toy Story', ylabel='Densidade')\n",
    "ax.set_title('Distribuição das notas para o Toy Story')"
   ]
  },
  {
   "cell_type": "markdown",
   "metadata": {},
   "source": [
    "No MovieLens, as notas são dadas em gradações de 0.5 (0,5, 1, 1.5 e assim por diante). Como esses valores não estão distribuídos de forma contínua, plotaremos também o boxplot do conjunto:"
   ]
  },
  {
   "cell_type": "code",
   "execution_count": 65,
   "metadata": {},
   "outputs": [
    {
     "data": {
      "text/plain": [
       "Text(0.5, 1.0, 'Distribuição das notas para o Toy Story')"
      ]
     },
     "execution_count": 65,
     "metadata": {},
     "output_type": "execute_result"
    },
    {
     "data": {
      "image/png": "[encoded data removed]",
      "text/plain": [
       "<Figure size 432x288 with 1 Axes>"
      ]
     },
     "metadata": {
      "needs_background": "light"
     },
     "output_type": "display_data"
    }
   ],
   "source": [
    "ax = sns.boxplot(notas1.rating)\n",
    "ax.set(xlabel='Notas')\n",
    "ax.set_title('Distribuição das notas para o Toy Story')"
   ]
  },
  {
   "cell_type": "code",
   "execution_count": 68,
   "metadata": {},
   "outputs": [
    {
     "data": {
      "text/plain": [
       "3.299241335708949"
      ]
     },
     "execution_count": 68,
     "metadata": {},
     "output_type": "execute_result"
    }
   ],
   "source": [
    "average_vote_min20.median()"
   ]
  },
  {
   "cell_type": "code",
   "execution_count": 69,
   "metadata": {},
   "outputs": [
    {
     "data": {
      "text/plain": [
       "3.237997737700967"
      ]
     },
     "execution_count": 69,
     "metadata": {},
     "output_type": "execute_result"
    }
   ],
   "source": [
    "average_vote_min20.mean()"
   ]
  },
  {
   "cell_type": "markdown",
   "metadata": {},
   "source": [
    "Essa visualização nos permite interpretar melhor a distribuição dos nossos dados. Por exemplo, a mediana está posicionada na nota 4 e parece existir uma densidade semelhante nos dois quartis imediatamente adjacentes. Como 5 é a nota máxima, as notas não se distribuem muito para a direita, ao contrário do que  acontece para a esquerda.\n",
    "\n",
    "Visualmente, a mediana 4 do Toy Story já é bastante superior à mediana 3,2992 que tínhamos na distribuição das notas médias dos filmes do movieLens com 20 ou mais votos. Porém, será que essa percepção se sustenta na realidade? Afinal, pode ser que os nossos dados estejam enviesados. \n",
    "\n",
    "Mesmo que fossem três pessoas completamente aleatórias, ainda existiria uma chance de que todas elas dessem a mesma nota, e as nossas informações seriam, então, fruto do acaso. \n",
    "\n",
    "Vamos calcular a média de notas do Toy Story:"
   ]
  },
  {
   "cell_type": "code",
   "execution_count": 67,
   "metadata": {},
   "outputs": [
    {
     "data": {
      "text/plain": [
       "3.893707794587238"
      ]
     },
     "execution_count": 67,
     "metadata": {},
     "output_type": "execute_result"
    }
   ],
   "source": [
    "notas1.rating.mean()"
   ]
  },
  {
   "cell_type": "markdown",
   "metadata": {},
   "source": [
    "Realmente, a média dos dados que coletamos é maior do que a média dos filmes com pelo menos 20 votos, que era 3.2379. Mas será que essa diferença é real? Ou ela é fruto do acaso?\n",
    "Para termos uma análise mais objetiva dessa média, já que temos mais de 30 registros no nosso conjunto, podemos aplicar o Teste Z:\n"
   ]
  },
  {
   "cell_type": "code",
   "execution_count": 71,
   "metadata": {},
   "outputs": [
    {
     "data": {
      "text/plain": [
       "(3.886162842774441, 3.9012527464000346)"
      ]
     },
     "execution_count": 71,
     "metadata": {},
     "output_type": "execute_result"
    }
   ],
   "source": [
    "zconfint(notas1.rating)"
   ]
  },
  {
   "cell_type": "markdown",
   "metadata": {},
   "source": [
    "Com alpha = 0.5, temos um intervalo de confiança entre aproximadamente 3.8861 e 3,9012 da média desse filme no mundo real, e não só nos dados que coletamos. Esse intervalo é mais alto que a média dos filmes com pelo menos vinte votos...\n",
    "mas talvez comparar um intervalo com um número fixo não seja realmente viável.\n",
    "\n",
    "Também podemos realizar outro teste com as nossas médias, tentando afirmar que a nota média do Toy Story na verdade é a nota média que encontramos para os filmes com pelo menos vinte votos. Vamos fazer um novo teste Z que nos retorna um pvalue confirmando se, no mundo real, a média desse filme seria ou não igual a 3.237997737700967 (a nota média do movieLens).\n"
   ]
  },
  {
   "cell_type": "code",
   "execution_count": 72,
   "metadata": {},
   "outputs": [
    {
     "data": {
      "text/plain": [
       "(170.33483151185402, 0.0)"
      ]
     },
     "execution_count": 72,
     "metadata": {},
     "output_type": "execute_result"
    }
   ],
   "source": [
    "from statsmodels.stats.weightstats import ztest\n",
    "ztest(notas1.rating, value = 3.237997737700967)"
   ]
  },
  {
   "cell_type": "markdown",
   "metadata": {},
   "source": [
    "O ztest() nos devolve duas variáveis: o valor estatístico e o pvalue. Repare que este último é 0, e menor que o nosso 0.05 (o alpha). Portanto, podemos descartar a hipótese de que, no mundo real, a média do Toy Story é igual a 3. 237997737700967 (também chamada de hipótese nula).\n",
    "\n",
    "Quando trabalhamos com bigdata, acabamos caindo nesse tipo de problema, e torna-se mais interessante analisarmos não só a possibilidade dessa igualdade, como também o intervalo de confiança e as visualizações gráficas das nossas distribuições. \n",
    "\n",
    "Nesse momento, nossa conclusão é que o filme Toy Story realmente tem uma média diferente da média de todos os filmes."
   ]
  }
 ],
 "metadata": {
  "kernelspec": {
   "display_name": "Python 3",
   "language": "python",
   "name": "python3"
  },
  "language_info": {
   "codemirror_mode": {
    "name": "ipython",
    "version": 3
   },
   "file_extension": ".py",
   "mimetype": "text/x-python",
   "name": "python",
   "nbconvert_exporter": "python",
   "pygments_lexer": "ipython3",
   "version": "3.8.3"
  },
  "toc": {
   "base_numbering": 1,
   "nav_menu": {},
   "number_sections": true,
   "sideBar": true,
   "skip_h1_title": false,
   "title_cell": "Table of Contents",
   "title_sidebar": "Contents",
   "toc_cell": false,
   "toc_position": {},
   "toc_section_display": true,
   "toc_window_display": false
  }
 },
 "nbformat": 4,
 "nbformat_minor": 4
}
